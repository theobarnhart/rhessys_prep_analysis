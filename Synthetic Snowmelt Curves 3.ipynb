{
 "cells": [
  {
   "cell_type": "markdown",
   "metadata": {},
   "source": [
    "Create a snowmelt scenario generator that pushes the bounds of the observational snowmelt values"
   ]
  },
  {
   "cell_type": "code",
   "execution_count": 1,
   "metadata": {
    "collapsed": false
   },
   "outputs": [],
   "source": [
    "import numpy as np\n",
    "import pandas as pd\n",
    "import seaborn as sns\n",
    "import matplotlib.pyplot as plt\n",
    "%matplotlib inline\n",
    "colors = sns.color_palette()\n",
    "from rhessys import utilities as rut\n",
    "import statsmodels.formula.api as sm"
   ]
  },
  {
   "cell_type": "code",
   "execution_count": 2,
   "metadata": {
    "collapsed": false
   },
   "outputs": [],
   "source": [
    "niwot = pd.read_pickle('./data/niwot_new.pcl')"
   ]
  },
  {
   "cell_type": "code",
   "execution_count": 3,
   "metadata": {
    "collapsed": false
   },
   "outputs": [],
   "source": [
    "niwot.SWE *= 0.001 # convert from mm to m"
   ]
  },
  {
   "cell_type": "markdown",
   "metadata": {},
   "source": [
    "## Bring in the other climate data"
   ]
  },
  {
   "cell_type": "code",
   "execution_count": 4,
   "metadata": {
    "collapsed": false
   },
   "outputs": [],
   "source": [
    "crn = pd.read_pickle('../greenness_timing/data/boulder_co.pcl')\n",
    "crn.P *= 0.001 # mm to m\n",
    "crn.loc[np.isnan(crn.P)==True,'P']=0."
   ]
  },
  {
   "cell_type": "code",
   "execution_count": 5,
   "metadata": {
    "collapsed": false
   },
   "outputs": [],
   "source": [
    "crn['wateryear'] = crn.index.map(rut.wateryear)\n",
    "crn['DOWY'] = crn.index.map(rut.DOWY)"
   ]
  },
  {
   "cell_type": "code",
   "execution_count": 6,
   "metadata": {
    "collapsed": false
   },
   "outputs": [],
   "source": [
    "crn = crn.loc[(crn.wateryear>=2004)&(crn.wateryear<=2014)] # crop the data"
   ]
  },
  {
   "cell_type": "code",
   "execution_count": 7,
   "metadata": {
    "collapsed": false
   },
   "outputs": [],
   "source": [
    "crn.loc[crn.DOWY==366] = np.NaN\n",
    "crn.dropna(subset=['P'],inplace=True)"
   ]
  },
  {
   "cell_type": "code",
   "execution_count": 8,
   "metadata": {
    "collapsed": false
   },
   "outputs": [],
   "source": [
    "crn['accumP'] = np.NaN\n",
    "for wy in np.unique(crn.wateryear):\n",
    "    crn.loc[crn.wateryear==wy,'accumP'] = crn.loc[crn.wateryear==wy,'P'].cumsum()"
   ]
  },
  {
   "cell_type": "markdown",
   "metadata": {},
   "source": [
    "## Create a Mean Nievograph"
   ]
  },
  {
   "cell_type": "code",
   "execution_count": 9,
   "metadata": {
    "collapsed": false
   },
   "outputs": [],
   "source": [
    "# do something about leap years...\n",
    "niwot.loc[niwot.dowy==366] = np.NaN # set this equal to nan\n",
    "niwot.dropna(subset=['dowy'],inplace=True) # and delete it"
   ]
  },
  {
   "cell_type": "markdown",
   "metadata": {},
   "source": [
    "## Find the distribution of snowmelt rates"
   ]
  },
  {
   "cell_type": "markdown",
   "metadata": {},
   "source": [
    "### Snowmelt Rate Per Year"
   ]
  },
  {
   "cell_type": "code",
   "execution_count": 10,
   "metadata": {
    "collapsed": false
   },
   "outputs": [],
   "source": [
    "header = ['averageMR','peakSWE','DatepeakSWE','DateNS','accumSeasDate','P']\n",
    "sm2 = pd.DataFrame(index=np.unique(niwot.wateryear)[:-1],columns=header)"
   ]
  },
  {
   "cell_type": "code",
   "execution_count": 11,
   "metadata": {
    "collapsed": false
   },
   "outputs": [],
   "source": [
    "for wy in np.unique(niwot.wateryear)[:-1]:\n",
    "    sm2.loc[sm2.index==wy,'averageMR'] = niwot.loc[(niwot.wateryear == wy) & (niwot.snowmelt>0),'snowmelt'].mean()\n",
    "    sm2.loc[sm2.index==wy,'peakSWE'] = niwot.loc[niwot.wateryear == wy,'SWE'].max()\n",
    "    sm2.loc[sm2.index==wy,'DatepeakSWE'] = niwot.loc[niwot.wateryear == wy,'SWE'].argmax()\n",
    "    sm2.loc[sm2.index==wy,'DateNS'] = niwot.loc[(niwot.wateryear == wy)&(niwot.index>=sm2.loc[sm2.index==wy,'DatepeakSWE']),'SWE'].argmin()\n",
    "    sm2.loc[sm2.index==wy,'accumSeasDate'] = niwot.loc[(niwot.wateryear ==wy)&(niwot.index<sm2.loc[sm2.index==wy,'DatepeakSWE'])&(niwot.SWE>0)].index.min()\n",
    "    sm2.loc[sm2.index==wy,'P'] = np.nansum(niwot.loc[niwot.wateryear == wy,'P'])\n",
    "    \n",
    "sm2['DOWYpeakSWE'] = sm2.DatepeakSWE.map(rut.DOWY)\n",
    "sm2['DOWYnoSnow'] = sm2.DateNS.map(rut.DOWY)\n",
    "sm2['DOAS'] = sm2.accumSeasDate.map(rut.DOWY)"
   ]
  },
  {
   "cell_type": "code",
   "execution_count": 12,
   "metadata": {
    "collapsed": true
   },
   "outputs": [],
   "source": [
    "sm2.to_pickle('./data/niwot_stats.pcl')"
   ]
  },
  {
   "cell_type": "code",
   "execution_count": 13,
   "metadata": {
    "collapsed": false
   },
   "outputs": [],
   "source": [
    "dates = [] # preallocate actual dates\n",
    "snowmelts = [] # preallocate snowmelt rates\n",
    "DOAS = [] # preallocate date of ablation season array\n",
    "\n",
    "for wy in np.unique(niwot.wateryear)[:-1]: # loop through each water year and extract each snowmelt season\n",
    "    \n",
    "    strt = sm2.loc[sm2.index==wy,'DatepeakSWE'].as_matrix()[0] # get the date of peak SWE\n",
    "    nd = sm2.loc[sm2.index==wy,'DateNS'].as_matrix()[0] # get the date of no snow\n",
    "    \n",
    "    smelt = list(niwot.loc[strt:nd,'snowmelt'])\n",
    "    \n",
    "    snowmelts.extend(list(niwot.loc[strt:nd,'snowmelt'])) # pull out the snowmelts\n",
    "    DOAS.extend(list(np.arange(1,len(smelt)+1))) # create an array of ablation season days\n",
    "    dates.extend(list(pd.date_range(strt,nd,freq='D'))) # create an array of actual days"
   ]
  },
  {
   "cell_type": "code",
   "execution_count": 14,
   "metadata": {
    "collapsed": false
   },
   "outputs": [],
   "source": [
    "AS = pd.DataFrame({'snowmelt':snowmelts,'DOAS':DOAS,'date':dates})\n",
    "AS['DOWY'] = AS.date.map(rut.DOWY)\n",
    "AS['DOWY2'] = AS.DOWY**2"
   ]
  },
  {
   "cell_type": "raw",
   "metadata": {},
   "source": [
    "TpeakSWEs = np.arange(172,232,1) # Range for the timing of peak SWE\n",
    "TnoSnow = np.arange(223,262,1) # range of the timing of no snow\n",
    "peakswe = np.linspace(0.201,0.519,65) # range of peak SWE"
   ]
  },
  {
   "cell_type": "code",
   "execution_count": 15,
   "metadata": {
    "collapsed": false
   },
   "outputs": [
    {
     "name": "stdout",
     "output_type": "stream",
     "text": [
      "                            OLS Regression Results                            \n",
      "==============================================================================\n",
      "Dep. Variable:               snowmelt   R-squared:                       0.581\n",
      "Model:                            OLS   Adj. R-squared:                  0.580\n",
      "Method:                 Least Squares   F-statistic:                     902.1\n",
      "Date:                Tue, 17 Nov 2015   Prob (F-statistic):          1.51e-246\n",
      "Time:                        14:35:02   Log-Likelihood:                -4810.7\n",
      "No. Observations:                1304   AIC:                             9625.\n",
      "Df Residuals:                    1302   BIC:                             9636.\n",
      "Df Model:                           2                                         \n",
      "Covariance Type:            nonrobust                                         \n",
      "==============================================================================\n",
      "                 coef    std err          t      P>|t|      [95.0% Conf. Int.]\n",
      "------------------------------------------------------------------------------\n",
      "DOWY          -0.1020      0.014     -7.125      0.000        -0.130    -0.074\n",
      "DOWY2          0.0007   6.42e-05     10.672      0.000         0.001     0.001\n",
      "==============================================================================\n",
      "Omnibus:                      130.096   Durbin-Watson:                   1.081\n",
      "Prob(Omnibus):                  0.000   Jarque-Bera (JB):              174.771\n",
      "Skew:                           0.795   Prob(JB):                     1.12e-38\n",
      "Kurtosis:                       3.830   Cond. No.                     2.61e+03\n",
      "==============================================================================\n",
      "\n",
      "Warnings:\n",
      "[1] Standard Errors assume that the covariance matrix of the errors is correctly specified.\n",
      "[2] The condition number is large, 2.61e+03. This might indicate that there are\n",
      "strong multicollinearity or other numerical problems.\n"
     ]
    },
    {
     "data": {
      "text/plain": [
       "[<matplotlib.lines.Line2D at 0x10ccc2e90>]"
      ]
     },
     "execution_count": 15,
     "metadata": {},
     "output_type": "execute_result"
    },
    {
     "data": {
      "image/png": "[encoded data removed]",
      "text/plain": [
       "<matplotlib.figure.Figure at 0x10bfe1f90>"
      ]
     },
     "metadata": {},
     "output_type": "display_data"
    }
   ],
   "source": [
    "mod = sm.OLS.from_formula('snowmelt ~ DOWY + DOWY2 - 1',AS.loc[AS.snowmelt>=0]).fit()\n",
    "print mod.summary()\n",
    "\n",
    "dmin = AS.DOWY.min()\n",
    "dmax = AS.DOWY.max()\n",
    "\n",
    "xs = np.linspace(dmin,dmax,500)\n",
    "plt.figure(figsize=(10,5))\n",
    "plt.scatter(AS.loc[AS.snowmelt>=0].DOWY,AS.loc[AS.snowmelt>=0].snowmelt,s=80,c=colors[0])\n",
    "plt.plot(xs,(xs*-0.1028)+(xs**2)*0.0007,'-',c=colors[1],lw=5)\n",
    "plt.xlabel('DOWY', fontsize=20,weight='bold')\n",
    "plt.ylabel('Daily Snowmelt [mm/d]', fontsize=20,weight='bold')\n",
    "plt.axvline(172)\n",
    "plt.axvline(232)\n",
    "plt.plot([172,232],[15,55],'-b')\n",
    "x = np.linspace(160,250)\n",
    "y = (2./3.)*x -100.3333333\n",
    "plt.plot(x,y,'.k')\n",
    "\n",
    "#plt.savefig('./figures/SMR_DOWY.png', dpi = 300, bbox_inches='tight')"
   ]
  },
  {
   "cell_type": "code",
   "execution_count": 16,
   "metadata": {
    "collapsed": false
   },
   "outputs": [],
   "source": [
    "smvals = pd.DataFrame(AS.loc[(AS.snowmelt>=0) & (AS.DOWY>=160) & (AS.DOWY<=240)].snowmelt.copy())"
   ]
  },
  {
   "cell_type": "code",
   "execution_count": 17,
   "metadata": {
    "collapsed": false
   },
   "outputs": [],
   "source": [
    "smvals.sort('snowmelt',inplace=True)\n",
    "smvals.reset_index(inplace=True)"
   ]
  },
  {
   "cell_type": "code",
   "execution_count": 18,
   "metadata": {
    "collapsed": false
   },
   "outputs": [],
   "source": [
    "smvals = smvals.snowmelt.as_matrix()"
   ]
  },
  {
   "cell_type": "code",
   "execution_count": 19,
   "metadata": {
    "collapsed": false
   },
   "outputs": [],
   "source": [
    "coef = 55./np.percentile(smvals,90)"
   ]
  },
  {
   "cell_type": "code",
   "execution_count": 20,
   "metadata": {
    "collapsed": true
   },
   "outputs": [],
   "source": [
    "smvals = smvals[smvals<=np.percentile(smvals,90)] # chop the data set to the 90th percentile"
   ]
  },
  {
   "cell_type": "code",
   "execution_count": 21,
   "metadata": {
    "collapsed": true
   },
   "outputs": [],
   "source": [
    "smvals *= coef # scale the distribution up"
   ]
  },
  {
   "cell_type": "code",
   "execution_count": 22,
   "metadata": {
    "collapsed": false
   },
   "outputs": [
    {
     "data": {
      "image/png": "[encoded data removed]",
      "text/plain": [
       "<matplotlib.figure.Figure at 0x10bdd18d0>"
      ]
     },
     "metadata": {},
     "output_type": "display_data"
    }
   ],
   "source": [
    "plt.hist(smvals,7);"
   ]
  },
  {
   "cell_type": "code",
   "execution_count": 23,
   "metadata": {
    "collapsed": true
   },
   "outputs": [],
   "source": [
    "days = []\n",
    "melts = []\n",
    "n = 2000\n",
    "m = len(smvals)\n",
    "for day in np.arange(171,262):\n",
    "    \n",
    "    cutoff = (2./3.)*day -100.3333333\n",
    "    \n",
    "    idx = np.random.randint(0,m,n) # generate random draw\n",
    "    vals = smvals[idx] # pull those values\n",
    "    vals += np.random.randn(n) # add random noise\n",
    "    \n",
    "    vals = vals[vals<=cutoff] # trim values less than the cutoff\n",
    "    vals = vals[vals>=0] # trim negative values\n",
    "    \n",
    "    days.extend(np.repeat(day,len(vals)))\n",
    "    melts.extend(vals)"
   ]
  },
  {
   "cell_type": "code",
   "execution_count": 24,
   "metadata": {
    "collapsed": true
   },
   "outputs": [],
   "source": [
    "sm_prob = pd.DataFrame({'dowy':days,'snowmelt':melts})"
   ]
  },
  {
   "cell_type": "code",
   "execution_count": 25,
   "metadata": {
    "collapsed": false
   },
   "outputs": [
    {
     "data": {
      "text/plain": [
       "<matplotlib.colorbar.Colorbar instance at 0x10bed8098>"
      ]
     },
     "execution_count": 25,
     "metadata": {},
     "output_type": "execute_result"
    },
    {
     "data": {
      "image/png": "[encoded data removed]",
      "text/plain": [
       "<matplotlib.figure.Figure at 0x10cd848d0>"
      ]
     },
     "metadata": {},
     "output_type": "display_data"
    }
   ],
   "source": [
    "plt.hexbin(days,melts,gridsize=35,mincnt=1, cmap='hot_r');\n",
    "plt.colorbar()"
   ]
  },
  {
   "cell_type": "raw",
   "metadata": {
    "collapsed": false
   },
   "source": [
    "fig = plt.figure(figsize=(10,10))\n",
    "ax1 = fig.add_subplot(311)\n",
    "ax1.hist(sm2.averageMR.as_matrix(),40);\n",
    "ax1.set_xlabel('Snowmelt Rate [mm/d]', fontsize=10)\n",
    "\n",
    "ax2 = fig.add_subplot(312)\n",
    "ax2.hist(sm2.peakSWE.as_matrix(),40);\n",
    "ax2.set_xlabel('Peak SWE [m]', fontsize=10)\n",
    "\n",
    "ax3 = fig.add_subplot(313)\n",
    "ax3.hist(sm2.DOWYpeakSWE.as_matrix(),40);\n",
    "ax3.set_xlabel('DOWY Peak SWE', fontsize=10)"
   ]
  },
  {
   "cell_type": "code",
   "execution_count": 26,
   "metadata": {
    "collapsed": false
   },
   "outputs": [
    {
     "name": "stdout",
     "output_type": "stream",
     "text": [
      "***Day of Water Year Peak SWE***\n",
      "Mean DOWY Peak SWE: 199.470588235\n",
      "DOWY Peak SWE STDEV: 18.1111639673\n",
      "\n",
      "***Peak SWE***\n",
      "Mean Peak SWE: 0.367294117647 [m]\n",
      "Peak SWE STDEV: 0.0903315540734 [m]\n",
      "\n",
      "***Snowmelt Rate***\n",
      "Mean Snowmelt Rate: 10.2228332545 [mm/d]\n",
      "Snowmelt Rate STDEV: 2.67612303286 [mm/d]\n"
     ]
    }
   ],
   "source": [
    "print '***Day of Water Year Peak SWE***'\n",
    "print 'Mean DOWY Peak SWE:',sm2.DOWYpeakSWE.mean()\n",
    "print 'DOWY Peak SWE STDEV:',sm2.DOWYpeakSWE.std()\n",
    "print\n",
    "print '***Peak SWE***'\n",
    "print 'Mean Peak SWE:',sm2.peakSWE.mean(),'[m]'\n",
    "print 'Peak SWE STDEV:',sm2.peakSWE.std(),'[m]'\n",
    "print\n",
    "print '***Snowmelt Rate***'\n",
    "print 'Mean Snowmelt Rate:',sm2.averageMR.mean(),'[mm/d]'\n",
    "print 'Snowmelt Rate STDEV:',sm2.averageMR.std(),'[mm/d]'"
   ]
  },
  {
   "cell_type": "markdown",
   "metadata": {},
   "source": [
    "## Define a set of scaling relationships"
   ]
  },
  {
   "cell_type": "code",
   "execution_count": 27,
   "metadata": {
    "collapsed": true
   },
   "outputs": [],
   "source": [
    "def DOWY2cal(x):\n",
    "    td = pd.datetools.timedelta(x.dowy-1)\n",
    "    ref = pd.datetime(int(x.ref)-1,10,1)\n",
    "    \n",
    "    nd = ref+td\n",
    "    \n",
    "    return nd"
   ]
  },
  {
   "cell_type": "code",
   "execution_count": 28,
   "metadata": {
    "collapsed": true
   },
   "outputs": [],
   "source": [
    "def DOPEAKSWE2cal(x):\n",
    "    td = pd.datetools.timedelta(x.TpeakSWE-1)\n",
    "    ref = pd.datetime(int(x.ref)-1,10,1)\n",
    "    \n",
    "    nd = ref+td\n",
    "    \n",
    "    return nd"
   ]
  },
  {
   "cell_type": "code",
   "execution_count": 29,
   "metadata": {
    "collapsed": true
   },
   "outputs": [],
   "source": [
    "def DONS2cal(x):\n",
    "    td = pd.datetools.timedelta(x.Tnosnow-1)\n",
    "    ref = pd.datetime(int(x.ref)-1,10,1)\n",
    "    \n",
    "    nd = ref+td\n",
    "    \n",
    "    return nd"
   ]
  },
  {
   "cell_type": "code",
   "execution_count": 30,
   "metadata": {
    "collapsed": true
   },
   "outputs": [],
   "source": [
    "def DOAS2cal(x):\n",
    "    td = pd.datetools.timedelta(x.DOAS-1)\n",
    "    ref = pd.datetime(int(x.ref)-1,10,1)\n",
    "    \n",
    "    nd = ref+td\n",
    "    \n",
    "    return nd"
   ]
  },
  {
   "cell_type": "code",
   "execution_count": 31,
   "metadata": {
    "collapsed": true
   },
   "outputs": [],
   "source": [
    "def getmonth(index):\n",
    "    return index.month\n",
    "\n",
    "def getday(index):\n",
    "    return index.day\n",
    "\n",
    "def getyear(index):\n",
    "    return index.year"
   ]
  },
  {
   "cell_type": "code",
   "execution_count": 32,
   "metadata": {
    "collapsed": true
   },
   "outputs": [],
   "source": [
    "def grabsnowmeltval(dowy):\n",
    "    tmp = sm_prob.loc[sm_prob.dowy==dowy] # subset the data frame\n",
    "    tmp.reset_index(inplace=True)\n",
    "    m = len(tmp) # grab the number of values\n",
    "        \n",
    "    idx = np.random.randint(0,m,1)\n",
    "    return tmp.ix[idx,'snowmelt'].as_matrix()/1000. # select the random snowmelt value and convert it to mm/d"
   ]
  },
  {
   "cell_type": "code",
   "execution_count": 33,
   "metadata": {
    "collapsed": false
   },
   "outputs": [
    {
     "name": "stdout",
     "output_type": "stream",
     "text": [
      "[ nan]\n"
     ]
    }
   ],
   "source": [
    "dowy = 180\n",
    "tmp = sm_prob.loc[sm_prob.dowy==dowy] # subset the data frame\n",
    "m = len(tmp) # grab the number of values\n",
    "        \n",
    "idx = np.random.randint(0,m,1)\n",
    "print tmp.ix[idx,'snowmelt'].as_matrix()/1000. # select the random snowmelt value and convert it to mm/d"
   ]
  },
  {
   "cell_type": "code",
   "execution_count": 44,
   "metadata": {
    "collapsed": true
   },
   "outputs": [],
   "source": [
    "def gensm(DOWY):\n",
    "    '''Use the DOWY - snowmelt rate relationship to compute a snowmelt value based on the DOWY\n",
    "    DOWY: day of water year'''\n",
    "    val = (DOWY*-0.1028)+(DOWY**2)*0.0007 # compute the snowmelt rate\n",
    "    noise = 2.676 * np.random.randn(1) # create some noise with the same standard deviation as the observed snowmelt events\n",
    "    val += noise\n",
    "    if val < 0.:\n",
    "        val = 0.\n",
    "    val *= val*0.001 # convert mm/d to m/d\n",
    "    return val"
   ]
  },
  {
   "cell_type": "code",
   "execution_count": 34,
   "metadata": {
    "collapsed": false
   },
   "outputs": [],
   "source": [
    "TpeakSWEs = np.arange(172,232,1) # Range for the timing of peak SWE\n",
    "TnoSnow = np.arange(223,262,1) # range of the timing of no snow\n",
    "peakswe = np.linspace(0.201,0.519,65) # range of peak SWE"
   ]
  },
  {
   "cell_type": "code",
   "execution_count": 35,
   "metadata": {
    "collapsed": false
   },
   "outputs": [],
   "source": [
    "TPS = []\n",
    "TNS = []\n",
    "PS = []\n",
    "for i in TpeakSWEs:\n",
    "    for k in TnoSnow:\n",
    "        for d in peakswe:\n",
    "            TPS.append(i)\n",
    "            TNS.append(k)\n",
    "            PS.append(d)\n",
    "\n",
    "params = pd.DataFrame({'TpeakSWE':TPS,'Tnosnow':TNS,'peakSWE':PS})"
   ]
  },
  {
   "cell_type": "code",
   "execution_count": 36,
   "metadata": {
    "collapsed": true
   },
   "outputs": [],
   "source": [
    "# drop rows with imposible combinations\n",
    "params['SMR'] = params['peakSWE']/(params['Tnosnow']-params['TpeakSWE']) # compute the average snowmelt rate\n",
    "params.loc[(params['Tnosnow']-params['TpeakSWE'])<1] = np.NaN\n",
    "params.loc[params.SMR>12.9238*0.001] = np.NaN # remove crazy big snowmelt rates\n",
    "params.dropna(inplace=True)"
   ]
  },
  {
   "cell_type": "code",
   "execution_count": 37,
   "metadata": {
    "collapsed": false
   },
   "outputs": [
    {
     "data": {
      "text/plain": [
       "106676"
      ]
     },
     "execution_count": 37,
     "metadata": {},
     "output_type": "execute_result"
    }
   ],
   "source": [
    "len(params)"
   ]
  },
  {
   "cell_type": "code",
   "execution_count": 38,
   "metadata": {
    "collapsed": false
   },
   "outputs": [],
   "source": [
    "# calculate a bunch of things\n",
    "params['ref'] = 2008 # add a reference water year\n",
    "params['date_ONS'] = params.apply(DONS2cal, axis=1) # compute the day of water year for no snow\n",
    "params['DOAS'] = 15 # compute the day of water year for the beginning of accumulation\n",
    "params['date_AS'] = params.apply(DOAS2cal, axis=1) # compute the date for the beginning of accumulation\n",
    "params['idx'] = np.arange(0,len(params)) # add an index column\n",
    "params['date_peakSWE']=params.apply(DOPEAKSWE2cal,axis=1)"
   ]
  },
  {
   "cell_type": "code",
   "execution_count": 39,
   "metadata": {
    "collapsed": false,
    "scrolled": true
   },
   "outputs": [
    {
     "data": {
      "text/html": [
       "<div>\n",
       "<table border=\"1\" class=\"dataframe\">\n",
       "  <thead>\n",
       "    <tr style=\"text-align: right;\">\n",
       "      <th></th>\n",
       "      <th>Tnosnow</th>\n",
       "      <th>TpeakSWE</th>\n",
       "      <th>peakSWE</th>\n",
       "      <th>SMR</th>\n",
       "      <th>ref</th>\n",
       "      <th>date_ONS</th>\n",
       "      <th>DOAS</th>\n",
       "      <th>date_AS</th>\n",
       "      <th>idx</th>\n",
       "      <th>date_peakSWE</th>\n",
       "    </tr>\n",
       "  </thead>\n",
       "  <tbody>\n",
       "    <tr>\n",
       "      <th>0</th>\n",
       "      <td>223</td>\n",
       "      <td>172</td>\n",
       "      <td>0.201000</td>\n",
       "      <td>0.003941</td>\n",
       "      <td>2008</td>\n",
       "      <td>2008-05-10</td>\n",
       "      <td>15</td>\n",
       "      <td>2007-10-15</td>\n",
       "      <td>0</td>\n",
       "      <td>2008-03-20</td>\n",
       "    </tr>\n",
       "    <tr>\n",
       "      <th>1</th>\n",
       "      <td>223</td>\n",
       "      <td>172</td>\n",
       "      <td>0.205969</td>\n",
       "      <td>0.004039</td>\n",
       "      <td>2008</td>\n",
       "      <td>2008-05-10</td>\n",
       "      <td>15</td>\n",
       "      <td>2007-10-15</td>\n",
       "      <td>1</td>\n",
       "      <td>2008-03-20</td>\n",
       "    </tr>\n",
       "    <tr>\n",
       "      <th>2</th>\n",
       "      <td>223</td>\n",
       "      <td>172</td>\n",
       "      <td>0.210938</td>\n",
       "      <td>0.004136</td>\n",
       "      <td>2008</td>\n",
       "      <td>2008-05-10</td>\n",
       "      <td>15</td>\n",
       "      <td>2007-10-15</td>\n",
       "      <td>2</td>\n",
       "      <td>2008-03-20</td>\n",
       "    </tr>\n",
       "    <tr>\n",
       "      <th>3</th>\n",
       "      <td>223</td>\n",
       "      <td>172</td>\n",
       "      <td>0.215906</td>\n",
       "      <td>0.004233</td>\n",
       "      <td>2008</td>\n",
       "      <td>2008-05-10</td>\n",
       "      <td>15</td>\n",
       "      <td>2007-10-15</td>\n",
       "      <td>3</td>\n",
       "      <td>2008-03-20</td>\n",
       "    </tr>\n",
       "    <tr>\n",
       "      <th>4</th>\n",
       "      <td>223</td>\n",
       "      <td>172</td>\n",
       "      <td>0.220875</td>\n",
       "      <td>0.004331</td>\n",
       "      <td>2008</td>\n",
       "      <td>2008-05-10</td>\n",
       "      <td>15</td>\n",
       "      <td>2007-10-15</td>\n",
       "      <td>4</td>\n",
       "      <td>2008-03-20</td>\n",
       "    </tr>\n",
       "  </tbody>\n",
       "</table>\n",
       "</div>"
      ],
      "text/plain": [
       "   Tnosnow  TpeakSWE   peakSWE       SMR   ref   date_ONS  DOAS    date_AS  \\\n",
       "0      223       172  0.201000  0.003941  2008 2008-05-10    15 2007-10-15   \n",
       "1      223       172  0.205969  0.004039  2008 2008-05-10    15 2007-10-15   \n",
       "2      223       172  0.210938  0.004136  2008 2008-05-10    15 2007-10-15   \n",
       "3      223       172  0.215906  0.004233  2008 2008-05-10    15 2007-10-15   \n",
       "4      223       172  0.220875  0.004331  2008 2008-05-10    15 2007-10-15   \n",
       "\n",
       "   idx date_peakSWE  \n",
       "0    0   2008-03-20  \n",
       "1    1   2008-03-20  \n",
       "2    2   2008-03-20  \n",
       "3    3   2008-03-20  \n",
       "4    4   2008-03-20  "
      ]
     },
     "execution_count": 39,
     "metadata": {},
     "output_type": "execute_result"
    }
   ],
   "source": [
    "params.head()"
   ]
  },
  {
   "cell_type": "code",
   "execution_count": 62,
   "metadata": {
    "collapsed": true
   },
   "outputs": [],
   "source": [
    "params.to_pickle('./data/params_smex3.pcl')"
   ]
  },
  {
   "cell_type": "raw",
   "metadata": {},
   "source": [
    "for i in np.arange(1,len(params)+1):\n",
    "    x = params.iloc[i]\n",
    "    \n",
    "    #peakSWE = 0.378 #[m]\n",
    "    #snowmeltrate = 11.28205 * 0.001 #[m/d]\n",
    "    #DOWYpeakSWE = 201 #[DOWY]\n",
    "    \n",
    "    PSWE = x.peakSWE # new peak SWE [m]\n",
    "    SMR = x.SMR # new snowmelt rate [m/d]\n",
    "    tPeakSWE = x.TpeakSWE # new day of water year of peak SWE [DOWY]\n",
    "    tNoSnow = x.Tnosnow # the day of water year of no snow\n",
    "    \n",
    "    # Compute the number of days of the snowmelt season\n",
    "    #n = np.ceil(float(PSWE)/float(SMR)) #days\n",
    "    \n",
    "    # Generate a list of DOWY\n",
    "    res = pd.DataFrame({'dowy':np.arange(tPeakSWE,tNoSnow)}) # create a data frame\n",
    "    \n",
    "    \n",
    "    res['sm'] = res.dowy.map(grabsnowmeltval) # map the snowmelt function onto the DF returns sm in [m/d]\n",
    "    \n",
    "    meanSMR = np.mean(res.sm) # compute the mean snowmelt rate [m/d]\n",
    "    #print meanSMR\n",
    "    diff = SMR/meanSMR # compute the ratio [1]\n",
    "    #print diff\n",
    "    res['sm'] *= diff # scale the snowmelt curve to match the correct one\n",
    "    \n",
    "    # handle the dates\n",
    "    res['ref'] = 2008 # create a reference year column\n",
    "    res['date'] = res.apply(DOWY2cal,axis=1)\n",
    "    res['year'] = res.date.map(getyear)\n",
    "    res['month'] = res.date.map(getmonth)\n",
    "    res['day'] = res.date.map(getday)\n",
    "    res['hour'] = 1. # create an hour column\n",
    "    \n",
    "    # create an array for export\n",
    "    \n",
    "    years = res.year.as_matrix()\n",
    "    months = res.month.as_matrix()\n",
    "    days = res.day.as_matrix()\n",
    "    hours = res.hour.as_matrix()\n",
    "    sm = res.sm.as_matrix()\n",
    "    \n",
    "    # reshape the arrays\n",
    "    years = np.reshape(years,[len(years),1]) \n",
    "    months = np.reshape(months,[len(months),1]) \n",
    "    days = np.reshape(days,[len(days),1]) \n",
    "    hours = np.reshape(hours,[len(hours),1]) \n",
    "    sm = np.reshape(sm,[len(sm),1]) \n",
    "    \n",
    "    out = np.concatenate((years,months,days,hours,sm),axis=1) # concat the arrays\n",
    "    \n",
    "    filenum = int(x.idx)\n",
    "    \n",
    "    np.savetxt('/RHESSys/ComoCreek_new/clim/smexperiment/smex3/hourly/scen_'+str(filenum)+'.snow_melt_input',out,fmt='%i %i %i %i %10.8f',\n",
    "              comments='',header=str(len(years)))"
   ]
  },
  {
   "cell_type": "raw",
   "metadata": {},
   "source": [
    "for dowy in res.dowy:\n",
    "    grabsnowmeltval(dowy)"
   ]
  },
  {
   "cell_type": "raw",
   "metadata": {},
   "source": [
    "tmp = sm_prob.loc[sm_prob.dowy==dowy] # subset the data frame\n",
    "m = len(tmp) # grab the number of values\n",
    "        \n",
    "idx = np.random.randint(0,m,1)\n",
    "#return tmp.ix[idx,'snowmelt'].as_matrix()/1000. # select the random snowmelt value and convert it to mm/d"
   ]
  },
  {
   "cell_type": "raw",
   "metadata": {},
   "source": [
    "params.Tnosnow.max()"
   ]
  },
  {
   "cell_type": "raw",
   "metadata": {},
   "source": [
    "params.TpeakSWE.min()"
   ]
  },
  {
   "cell_type": "code",
   "execution_count": 63,
   "metadata": {
    "collapsed": false
   },
   "outputs": [],
   "source": [
    "def genSMcurve(x):\n",
    "    \n",
    "    #peakSWE = 0.378 #[m]\n",
    "    #snowmeltrate = 11.28205 * 0.001 #[m/d]\n",
    "    #DOWYpeakSWE = 201 #[DOWY]\n",
    "    \n",
    "    PSWE = x.peakSWE # new peak SWE [m]\n",
    "    SMR = x.SMR # new snowmelt rate [m/d]\n",
    "    tPeakSWE = x.TpeakSWE # new day of water year of peak SWE [DOWY]\n",
    "    tNoSnow = x.Tnosnow # the day of water year of no snow\n",
    "    \n",
    "    # Compute the number of days of the snowmelt season\n",
    "    #n = np.ceil(float(PSWE)/float(SMR)) #days\n",
    "    \n",
    "    # Generate a list of DOWY\n",
    "    res = pd.DataFrame({'dowy':np.arange(tPeakSWE,tNoSnow)}) # create a data frame\n",
    "    \n",
    "    \n",
    "    res['sm'] = res.dowy.map(grabsnowmeltval) # map the snowmelt function onto the DF returns sm in [m/d]\n",
    "    \n",
    "    meanSMR = np.mean(res.sm) # compute the mean snowmelt rate [m/d]\n",
    "    #print meanSMR\n",
    "    diff = SMR/meanSMR # compute the ratio [1]\n",
    "    #print diff\n",
    "    res['sm'] *= diff # scale the snowmelt curve to match the correct one\n",
    "    \n",
    "    # handle the dates\n",
    "    res['ref'] = 2008 # create a reference year column\n",
    "    res['date'] = res.apply(DOWY2cal,axis=1)\n",
    "    res['year'] = res.date.map(getyear)\n",
    "    res['month'] = res.date.map(getmonth)\n",
    "    res['day'] = res.date.map(getday)\n",
    "    res['hour'] = 1. # create an hour column\n",
    "    \n",
    "    # create an array for export\n",
    "    \n",
    "    years = res.year.as_matrix()\n",
    "    months = res.month.as_matrix()\n",
    "    days = res.day.as_matrix()\n",
    "    hours = res.hour.as_matrix()\n",
    "    sm = res.sm.as_matrix()\n",
    "    \n",
    "    # reshape the arrays\n",
    "    years = np.reshape(years,[len(years),1]) \n",
    "    months = np.reshape(months,[len(months),1]) \n",
    "    days = np.reshape(days,[len(days),1]) \n",
    "    hours = np.reshape(hours,[len(hours),1]) \n",
    "    sm = np.reshape(sm,[len(sm),1]) \n",
    "    \n",
    "    out = np.concatenate((years,months,days,hours,sm),axis=1) # concat the arrays\n",
    "    \n",
    "    filenum = int(x.idx)\n",
    "    \n",
    "    #np.savetxt('/RHESSys/ComoCreek_new/clim/smexperiment/smex3/hourly/scen_'+str(filenum)+'.snow_melt_input',out,fmt='%i %i %i %i %10.8f',\n",
    "    #          comments='',header=str(len(years)))"
   ]
  },
  {
   "cell_type": "markdown",
   "metadata": {},
   "source": [
    "## Test"
   ]
  },
  {
   "cell_type": "code",
   "execution_count": 124,
   "metadata": {
    "collapsed": false
   },
   "outputs": [
    {
     "data": {
      "text/plain": [
       "array([ 0.0208388])"
      ]
     },
     "execution_count": 124,
     "metadata": {},
     "output_type": "execute_result"
    }
   ],
   "source": [
    "grabsnowmeltval(189)"
   ]
  },
  {
   "cell_type": "code",
   "execution_count": 128,
   "metadata": {
    "collapsed": false,
    "scrolled": true
   },
   "outputs": [
    {
     "name": "stdout",
     "output_type": "stream",
     "text": [
      "Done!\n"
     ]
    }
   ],
   "source": [
    "#params.apply(genSMcurve,axis=1);\n",
    "#print 'Done!'"
   ]
  },
  {
   "cell_type": "markdown",
   "metadata": {},
   "source": [
    "## Generate rain time series the coorespond to the snowmelt scenarios"
   ]
  },
  {
   "cell_type": "code",
   "execution_count": 127,
   "metadata": {
    "collapsed": false
   },
   "outputs": [
    {
     "data": {
      "text/plain": [
       "4.175166666666667"
      ]
     },
     "execution_count": 127,
     "metadata": {},
     "output_type": "execute_result"
    }
   ],
   "source": [
    "len(params)/100*14.1/60./60."
   ]
  },
  {
   "cell_type": "code",
   "execution_count": 107,
   "metadata": {
    "collapsed": true
   },
   "outputs": [],
   "source": [
    "def genrain(x):\n",
    "    \n",
    "    rain = crn.loc['2007-10-1':'2008-10-15','P'].copy() # subset the P, units should be m\n",
    "    rain2 = crn.loc['2007-10-1':'2008-10-15','P'].copy()\n",
    "    \n",
    "    strt = x.date_peakSWE # beginning of snowmelt\n",
    "    strt2 = x.date_AS # beginning of the snow season\n",
    "    nd = x.date_ONS-pd.datetools.timedelta(1) # end of the snow season\n",
    "    \n",
    "    \n",
    "    rain[str(strt):str(nd)] = 0. # zero the rain for peak swe to DONS, so it builds a snowpack \n",
    "    rain2[str(strt2):str(nd)] = 0. # zero the rain for the snow season\n",
    "    \n",
    "    header = '2007 10 1'\n",
    "    \n",
    "    rn = rain.as_matrix()\n",
    "    rn = np.reshape(rn,[len(rn),1])\n",
    "    \n",
    "    filenum = int(x.idx)\n",
    "    \n",
    "    #np.savetxt('/RHESSys/ComoCreek_new/clim/smexperiment/smex2/daily/boulder_crn_'+str(filenum)+'.rain',\n",
    "    #           rn,comments='',header=header,fmt='%10.8f')\n",
    "    \n",
    "    return rain2['2007-10-01':'2008-9-30'].sum() # return the total rain for the water year"
   ]
  },
  {
   "cell_type": "markdown",
   "metadata": {},
   "source": [
    "### Test"
   ]
  },
  {
   "cell_type": "code",
   "execution_count": 108,
   "metadata": {
    "collapsed": true
   },
   "outputs": [],
   "source": [
    "crn = pd.read_pickle('../greenness_timing/data/boulder_co.pcl')\n",
    "crn.P *= 0.001 # mm to m\n",
    "crn.loc[np.isnan(crn.P)==True,'P']=0."
   ]
  },
  {
   "cell_type": "code",
   "execution_count": 109,
   "metadata": {
    "collapsed": false,
    "scrolled": true
   },
   "outputs": [
    {
     "name": "stdout",
     "output_type": "stream",
     "text": [
      "Done!\n"
     ]
    }
   ],
   "source": [
    "params['MAP'] = params.apply(genrain,axis=1)\n",
    "print 'Done!'"
   ]
  },
  {
   "cell_type": "code",
   "execution_count": 110,
   "metadata": {
    "collapsed": false
   },
   "outputs": [
    {
     "data": {
      "text/html": [
       "<div>\n",
       "<table border=\"1\" class=\"dataframe\">\n",
       "  <thead>\n",
       "    <tr style=\"text-align: right;\">\n",
       "      <th></th>\n",
       "      <th>Tnosnow</th>\n",
       "      <th>TpeakSWE</th>\n",
       "      <th>peakSWE</th>\n",
       "      <th>SMR</th>\n",
       "      <th>ref</th>\n",
       "      <th>date_ONS</th>\n",
       "      <th>DOAS</th>\n",
       "      <th>date_AS</th>\n",
       "      <th>idx</th>\n",
       "      <th>date_peakSWE</th>\n",
       "      <th>MAP</th>\n",
       "    </tr>\n",
       "  </thead>\n",
       "  <tbody>\n",
       "    <tr>\n",
       "      <th>0</th>\n",
       "      <td>223</td>\n",
       "      <td>172</td>\n",
       "      <td>0.201000</td>\n",
       "      <td>0.003941</td>\n",
       "      <td>2008</td>\n",
       "      <td>2008-05-10</td>\n",
       "      <td>15</td>\n",
       "      <td>2007-10-15</td>\n",
       "      <td>0</td>\n",
       "      <td>2008-03-20</td>\n",
       "      <td>0.341</td>\n",
       "    </tr>\n",
       "    <tr>\n",
       "      <th>1</th>\n",
       "      <td>223</td>\n",
       "      <td>172</td>\n",
       "      <td>0.205969</td>\n",
       "      <td>0.004039</td>\n",
       "      <td>2008</td>\n",
       "      <td>2008-05-10</td>\n",
       "      <td>15</td>\n",
       "      <td>2007-10-15</td>\n",
       "      <td>1</td>\n",
       "      <td>2008-03-20</td>\n",
       "      <td>0.341</td>\n",
       "    </tr>\n",
       "    <tr>\n",
       "      <th>2</th>\n",
       "      <td>223</td>\n",
       "      <td>172</td>\n",
       "      <td>0.210938</td>\n",
       "      <td>0.004136</td>\n",
       "      <td>2008</td>\n",
       "      <td>2008-05-10</td>\n",
       "      <td>15</td>\n",
       "      <td>2007-10-15</td>\n",
       "      <td>2</td>\n",
       "      <td>2008-03-20</td>\n",
       "      <td>0.341</td>\n",
       "    </tr>\n",
       "    <tr>\n",
       "      <th>3</th>\n",
       "      <td>223</td>\n",
       "      <td>172</td>\n",
       "      <td>0.215906</td>\n",
       "      <td>0.004233</td>\n",
       "      <td>2008</td>\n",
       "      <td>2008-05-10</td>\n",
       "      <td>15</td>\n",
       "      <td>2007-10-15</td>\n",
       "      <td>3</td>\n",
       "      <td>2008-03-20</td>\n",
       "      <td>0.341</td>\n",
       "    </tr>\n",
       "    <tr>\n",
       "      <th>4</th>\n",
       "      <td>223</td>\n",
       "      <td>172</td>\n",
       "      <td>0.220875</td>\n",
       "      <td>0.004331</td>\n",
       "      <td>2008</td>\n",
       "      <td>2008-05-10</td>\n",
       "      <td>15</td>\n",
       "      <td>2007-10-15</td>\n",
       "      <td>4</td>\n",
       "      <td>2008-03-20</td>\n",
       "      <td>0.341</td>\n",
       "    </tr>\n",
       "  </tbody>\n",
       "</table>\n",
       "</div>"
      ],
      "text/plain": [
       "   Tnosnow  TpeakSWE   peakSWE       SMR   ref   date_ONS  DOAS    date_AS  \\\n",
       "0      223       172  0.201000  0.003941  2008 2008-05-10    15 2007-10-15   \n",
       "1      223       172  0.205969  0.004039  2008 2008-05-10    15 2007-10-15   \n",
       "2      223       172  0.210938  0.004136  2008 2008-05-10    15 2007-10-15   \n",
       "3      223       172  0.215906  0.004233  2008 2008-05-10    15 2007-10-15   \n",
       "4      223       172  0.220875  0.004331  2008 2008-05-10    15 2007-10-15   \n",
       "\n",
       "   idx date_peakSWE    MAP  \n",
       "0    0   2008-03-20  0.341  \n",
       "1    1   2008-03-20  0.341  \n",
       "2    2   2008-03-20  0.341  \n",
       "3    3   2008-03-20  0.341  \n",
       "4    4   2008-03-20  0.341  "
      ]
     },
     "execution_count": 110,
     "metadata": {},
     "output_type": "execute_result"
    }
   ],
   "source": [
    "#params.head()"
   ]
  },
  {
   "cell_type": "code",
   "execution_count": 111,
   "metadata": {
    "collapsed": false
   },
   "outputs": [],
   "source": [
    "params.to_pickle('./data/params_smex3.pcl')"
   ]
  },
  {
   "cell_type": "code",
   "execution_count": null,
   "metadata": {
    "collapsed": true
   },
   "outputs": [],
   "source": []
  },
  {
   "cell_type": "code",
   "execution_count": 112,
   "metadata": {
    "collapsed": false
   },
   "outputs": [
    {
     "data": {
      "text/plain": [
       "106676"
      ]
     },
     "execution_count": 112,
     "metadata": {},
     "output_type": "execute_result"
    }
   ],
   "source": [
    "len(params)"
   ]
  },
  {
   "cell_type": "code",
   "execution_count": 23,
   "metadata": {
    "collapsed": false
   },
   "outputs": [
    {
     "data": {
      "image/png": "[encoded data removed]",
      "text/plain": [
       "<matplotlib.figure.Figure at 0x10dd78a10>"
      ]
     },
     "metadata": {},
     "output_type": "display_data"
    }
   ],
   "source": [
    "plt.figure(figsize=(10,5))\n",
    "plt.bar(sm.index,sm.average)\n",
    "plt.xlim(1980,2017);\n",
    "plt.xlabel('Water Year', fontsize=20)\n",
    "plt.ylabel('Average Daily Snowmelt Rate \\n [mm/d]',fontsize=20);"
   ]
  },
  {
   "cell_type": "code",
   "execution_count": null,
   "metadata": {
    "collapsed": true
   },
   "outputs": [],
   "source": []
  },
  {
   "cell_type": "code",
   "execution_count": null,
   "metadata": {
    "collapsed": true
   },
   "outputs": [],
   "source": []
  },
  {
   "cell_type": "markdown",
   "metadata": {},
   "source": [
    "## Plot the distribution of Snowmelt Rates"
   ]
  },
  {
   "cell_type": "code",
   "execution_count": 33,
   "metadata": {
    "collapsed": false,
    "scrolled": true
   },
   "outputs": [
    {
     "name": "stdout",
     "output_type": "stream",
     "text": [
      " Mean 9.88863636364\n",
      "SD 9.35559202701\n"
     ]
    },
    {
     "data": {
      "image/png": "[encoded data removed]",
      "text/plain": [
       "<matplotlib.figure.Figure at 0x10fcbbed0>"
      ]
     },
     "metadata": {},
     "output_type": "display_data"
    }
   ],
   "source": [
    "plt.hist(niwot.loc[niwot.snowmelt>0,'snowmelt'],20);\n",
    "plt.xlabel('Snowmelt Rate [mm/d]',fontsize=20)\n",
    "plt.ylabel('Count', fontsize=20);\n",
    "\n",
    "print 'Mean',niwot.loc[niwot.snowmelt>0,'snowmelt'].mean()\n",
    "print 'SD',niwot.loc[niwot.snowmelt>0,'snowmelt'].std()"
   ]
  },
  {
   "cell_type": "code",
   "execution_count": 411,
   "metadata": {
    "collapsed": false
   },
   "outputs": [
    {
     "data": {
      "text/plain": [
       "0.03"
      ]
     },
     "execution_count": 411,
     "metadata": {},
     "output_type": "execute_result"
    }
   ],
   "source": [
    "30.*0.001"
   ]
  },
  {
   "cell_type": "markdown",
   "metadata": {},
   "source": [
    "## Find Years with Peak SWE and Accumulated P simular to the Average"
   ]
  },
  {
   "cell_type": "code",
   "execution_count": 22,
   "metadata": {
    "collapsed": true
   },
   "outputs": [],
   "source": [
    "wy = 1990"
   ]
  },
  {
   "cell_type": "code",
   "execution_count": 24,
   "metadata": {
    "collapsed": false
   },
   "outputs": [
    {
     "name": "stdout",
     "output_type": "stream",
     "text": [
      "1991\n"
     ]
    },
    {
     "data": {
      "image/png": "[encoded data removed]",
      "text/plain": [
       "<matplotlib.figure.Figure at 0x114412e10>"
      ]
     },
     "metadata": {},
     "output_type": "display_data"
    }
   ],
   "source": [
    "plt.figure(figsize=(15,7.5))\n",
    "plt.plot(niwot2.index,niwot2.swe)\n",
    "plt.plot(niwot.loc[niwot.wateryear==wy,'DOWY'],niwot.loc[niwot.wateryear==wy,'swe'])\n",
    "print wy\n",
    "wy += 1"
   ]
  },
  {
   "cell_type": "markdown",
   "metadata": {},
   "source": [
    "WY 2008 looks pretty good"
   ]
  },
  {
   "cell_type": "code",
   "execution_count": 101,
   "metadata": {
    "collapsed": false
   },
   "outputs": [
    {
     "name": "stdout",
     "output_type": "stream",
     "text": [
      "2008\n"
     ]
    },
    {
     "data": {
      "image/png": "[encoded data removed]",
      "text/plain": [
       "<matplotlib.figure.Figure at 0x1138ba310>"
      ]
     },
     "metadata": {},
     "output_type": "display_data"
    }
   ],
   "source": [
    "wy = 2008\n",
    "plt.figure(figsize=(15,7.5))\n",
    "plt.plot(niwot2.index,niwot2.swe,lw=2)\n",
    "plt.plot(niwot.loc[niwot.wateryear==wy,'DOWY'],niwot.loc[niwot.wateryear==wy,'swe'],lw=2)\n",
    "plt.legend(['Average SWE','WY 2008'], fontsize = 18)\n",
    "print wy"
   ]
  },
  {
   "cell_type": "code",
   "execution_count": 33,
   "metadata": {
    "collapsed": false
   },
   "outputs": [
    {
     "data": {
      "text/plain": [
       "averageMR                   11.28205\n",
       "peakSWE                        0.378\n",
       "DatepeakSWE      2008-04-18 00:00:00\n",
       "DateNS           2008-06-02 00:00:00\n",
       "accumSeasDate    2007-10-15 00:00:00\n",
       "DOWYpeakSWE                      201\n",
       "DOWYnoSnow                       246\n",
       "DOAS                              15\n",
       "Name: 2008.0, dtype: object"
      ]
     },
     "execution_count": 33,
     "metadata": {},
     "output_type": "execute_result"
    }
   ],
   "source": [
    "sm2.loc[2008]"
   ]
  },
  {
   "cell_type": "markdown",
   "metadata": {
    "collapsed": true
   },
   "source": [
    "## Make a plot of how precip is handled in the scenario"
   ]
  },
  {
   "cell_type": "code",
   "execution_count": 40,
   "metadata": {
    "collapsed": false
   },
   "outputs": [],
   "source": [
    "def genrain(x):\n",
    "    \n",
    "    rain = crn.loc['2007-10-1':'2008-10-15','P'].copy() # subset the P, units should be m\n",
    "    rain2 = crn.loc['2007-10-1':'2008-10-15','P'].copy()\n",
    "    \n",
    "    strt = x.date_peakSWE # beginning of snowmelt\n",
    "    strt2 = x.date_AS # beginning of the snow season\n",
    "    nd = x.date_ONS-pd.datetools.timedelta(1) # end of the snow season\n",
    "    \n",
    "    \n",
    "    rain[str(strt):str(nd)] = 0. # zero the rain for peak swe to DONS, so it builds a snowpack \n",
    "    rain2[str(strt2):str(nd)] = 0. # zero the rain for the snow season\n",
    "    \n",
    "    header = '2007 10 1'\n",
    "    \n",
    "    rn = rain.as_matrix()\n",
    "    rn = np.reshape(rn,[len(rn),1])\n",
    "    \n",
    "    filenum = int(x.idx)\n",
    "    \n",
    "    #np.savetxt('/RHESSys/ComoCreek_new/clim/smexperiment/smex2/daily/boulder_crn_'+str(filenum)+'.rain',\n",
    "               #rn,comments='',header=header,fmt='%10.8f')\n",
    "    \n",
    "    return [rain2['2007-10-01':'2008-9-30'].sum(),rain,rain2] # return the total rain for the water year"
   ]
  },
  {
   "cell_type": "code",
   "execution_count": 41,
   "metadata": {
    "collapsed": true
   },
   "outputs": [],
   "source": [
    "def genSMcurve(x):\n",
    "    \n",
    "    #peakSWE = 0.378 #[m]\n",
    "    #snowmeltrate = 11.28205 * 0.001 #[m/d]\n",
    "    #DOWYpeakSWE = 201 #[DOWY]\n",
    "    \n",
    "    PSWE = x.peakSWE # new peak SWE [m]\n",
    "    SMR = x.SMR # new snowmelt rate [m/d]\n",
    "    tPeakSWE = x.TpeakSWE # new day of water year of peak SWE [DOWY]\n",
    "    tNoSnow = x.Tnosnow # the day of water year of no snow\n",
    "    \n",
    "    # Compute the number of days of the snowmelt season\n",
    "    #n = np.ceil(float(PSWE)/float(SMR)) #days\n",
    "    \n",
    "    # Generate a list of DOWY\n",
    "    days = np.arange(tPeakSWE,tNoSnow)\n",
    "    \n",
    "    res = pd.DataFrame({'dowy':days}) # create a data frame\n",
    "    res['sm'] = res.dowy.map(gensm) # map the snowmelt function onto the DF returns sm in [m/d]\n",
    "    \n",
    "    meanSMR = np.mean(res.sm) # compute the mean snowmelt rate [m/d]\\\n",
    "    #print meanSMR\n",
    "    diff = SMR/meanSMR # compute the ratio [1]\n",
    "    #print diff\n",
    "    res['sm'] *= diff # scale the snowmelt curve to match the correct one\n",
    "    \n",
    "    # handle the dates\n",
    "    res['ref'] = 2008 # create a reference year column\n",
    "    res['date'] = res.apply(DOWY2cal,axis=1)\n",
    "    res['year'] = res.date.map(getyear)\n",
    "    res['month'] = res.date.map(getmonth)\n",
    "    res['day'] = res.date.map(getday)\n",
    "    res['hour'] = 1. # create an hour column\n",
    "    \n",
    "    # create an array for export\n",
    "    \n",
    "    years = res.year.as_matrix()\n",
    "    months = res.month.as_matrix()\n",
    "    days = res.day.as_matrix()\n",
    "    hours = res.hour.as_matrix()\n",
    "    sm = res.sm.as_matrix()\n",
    "    \n",
    "    # reshape the arrays\n",
    "    years = np.reshape(years,[len(years),1]) \n",
    "    months = np.reshape(months,[len(months),1]) \n",
    "    days = np.reshape(days,[len(days),1]) \n",
    "    hours = np.reshape(hours,[len(hours),1]) \n",
    "    sm = np.reshape(sm,[len(sm),1]) \n",
    "    \n",
    "    out = np.concatenate((years,months,days,hours,sm),axis=1) # concat the arrays\n",
    "    \n",
    "    filenum = int(x.idx)\n",
    "    \n",
    "    #np.savetxt('/RHESSys/ComoCreek_new/clim/smexperiment/smex2/hourly/scen_'+str(filenum)+'.snow_melt_input',out,fmt='%i %i %i %i %10.8f',\n",
    "              #comments='',header=str(len(years)))\n",
    "        \n",
    "    return res"
   ]
  },
  {
   "cell_type": "code",
   "execution_count": 42,
   "metadata": {
    "collapsed": true
   },
   "outputs": [],
   "source": [
    "P,rain,rain2 = genrain(params.loc[17824])"
   ]
  },
  {
   "cell_type": "code",
   "execution_count": 45,
   "metadata": {
    "collapsed": false
   },
   "outputs": [],
   "source": [
    "sm = genSMcurve(params.loc[17824])"
   ]
  },
  {
   "cell_type": "code",
   "execution_count": 46,
   "metadata": {
    "collapsed": false
   },
   "outputs": [],
   "source": [
    "rain = pd.DataFrame({'rain':rain})"
   ]
  },
  {
   "cell_type": "code",
   "execution_count": 47,
   "metadata": {
    "collapsed": true
   },
   "outputs": [],
   "source": [
    "rain['rain2'] = rain2 "
   ]
  },
  {
   "cell_type": "code",
   "execution_count": 48,
   "metadata": {
    "collapsed": false
   },
   "outputs": [],
   "source": [
    "rain['accum_rain'] = rain.rain.cumsum()\n",
    "rain['accum_rain2'] = rain.rain2.cumsum()"
   ]
  },
  {
   "cell_type": "code",
   "execution_count": 49,
   "metadata": {
    "collapsed": true
   },
   "outputs": [],
   "source": [
    "colors = sns.color_palette()"
   ]
  },
  {
   "cell_type": "code",
   "execution_count": 50,
   "metadata": {
    "collapsed": true
   },
   "outputs": [],
   "source": [
    "par = params.loc[17824]"
   ]
  },
  {
   "cell_type": "code",
   "execution_count": 51,
   "metadata": {
    "collapsed": false,
    "scrolled": true
   },
   "outputs": [],
   "source": [
    "sm['accum_sm'] = sm.sm.cumsum()"
   ]
  },
  {
   "cell_type": "code",
   "execution_count": 52,
   "metadata": {
    "collapsed": false
   },
   "outputs": [
    {
     "data": {
      "text/html": [
       "<div>\n",
       "<table border=\"1\" class=\"dataframe\">\n",
       "  <thead>\n",
       "    <tr style=\"text-align: right;\">\n",
       "      <th></th>\n",
       "      <th>rain</th>\n",
       "      <th>rain2</th>\n",
       "      <th>accum_rain</th>\n",
       "      <th>accum_rain2</th>\n",
       "    </tr>\n",
       "    <tr>\n",
       "      <th>date</th>\n",
       "      <th></th>\n",
       "      <th></th>\n",
       "      <th></th>\n",
       "      <th></th>\n",
       "    </tr>\n",
       "  </thead>\n",
       "  <tbody>\n",
       "    <tr>\n",
       "      <th>2007-10-01</th>\n",
       "      <td>0.0000</td>\n",
       "      <td>0.0000</td>\n",
       "      <td>0.0000</td>\n",
       "      <td>0.0000</td>\n",
       "    </tr>\n",
       "    <tr>\n",
       "      <th>2007-10-02</th>\n",
       "      <td>0.0068</td>\n",
       "      <td>0.0068</td>\n",
       "      <td>0.0068</td>\n",
       "      <td>0.0068</td>\n",
       "    </tr>\n",
       "    <tr>\n",
       "      <th>2007-10-03</th>\n",
       "      <td>0.0000</td>\n",
       "      <td>0.0000</td>\n",
       "      <td>0.0068</td>\n",
       "      <td>0.0068</td>\n",
       "    </tr>\n",
       "    <tr>\n",
       "      <th>2007-10-04</th>\n",
       "      <td>0.0000</td>\n",
       "      <td>0.0000</td>\n",
       "      <td>0.0068</td>\n",
       "      <td>0.0068</td>\n",
       "    </tr>\n",
       "    <tr>\n",
       "      <th>2007-10-05</th>\n",
       "      <td>0.0000</td>\n",
       "      <td>0.0000</td>\n",
       "      <td>0.0068</td>\n",
       "      <td>0.0068</td>\n",
       "    </tr>\n",
       "    <tr>\n",
       "      <th>2007-10-06</th>\n",
       "      <td>0.0000</td>\n",
       "      <td>0.0000</td>\n",
       "      <td>0.0068</td>\n",
       "      <td>0.0068</td>\n",
       "    </tr>\n",
       "    <tr>\n",
       "      <th>2007-10-07</th>\n",
       "      <td>0.0000</td>\n",
       "      <td>0.0000</td>\n",
       "      <td>0.0068</td>\n",
       "      <td>0.0068</td>\n",
       "    </tr>\n",
       "    <tr>\n",
       "      <th>2007-10-08</th>\n",
       "      <td>0.0000</td>\n",
       "      <td>0.0000</td>\n",
       "      <td>0.0068</td>\n",
       "      <td>0.0068</td>\n",
       "    </tr>\n",
       "    <tr>\n",
       "      <th>2007-10-09</th>\n",
       "      <td>0.0000</td>\n",
       "      <td>0.0000</td>\n",
       "      <td>0.0068</td>\n",
       "      <td>0.0068</td>\n",
       "    </tr>\n",
       "    <tr>\n",
       "      <th>2007-10-10</th>\n",
       "      <td>0.0000</td>\n",
       "      <td>0.0000</td>\n",
       "      <td>0.0068</td>\n",
       "      <td>0.0068</td>\n",
       "    </tr>\n",
       "    <tr>\n",
       "      <th>2007-10-11</th>\n",
       "      <td>0.0000</td>\n",
       "      <td>0.0000</td>\n",
       "      <td>0.0068</td>\n",
       "      <td>0.0068</td>\n",
       "    </tr>\n",
       "    <tr>\n",
       "      <th>2007-10-12</th>\n",
       "      <td>0.0000</td>\n",
       "      <td>0.0000</td>\n",
       "      <td>0.0068</td>\n",
       "      <td>0.0068</td>\n",
       "    </tr>\n",
       "    <tr>\n",
       "      <th>2007-10-13</th>\n",
       "      <td>0.0022</td>\n",
       "      <td>0.0022</td>\n",
       "      <td>0.0090</td>\n",
       "      <td>0.0090</td>\n",
       "    </tr>\n",
       "    <tr>\n",
       "      <th>2007-10-14</th>\n",
       "      <td>0.0233</td>\n",
       "      <td>0.0233</td>\n",
       "      <td>0.0323</td>\n",
       "      <td>0.0323</td>\n",
       "    </tr>\n",
       "    <tr>\n",
       "      <th>2007-10-15</th>\n",
       "      <td>0.0000</td>\n",
       "      <td>0.0000</td>\n",
       "      <td>0.0323</td>\n",
       "      <td>0.0323</td>\n",
       "    </tr>\n",
       "    <tr>\n",
       "      <th>2007-10-16</th>\n",
       "      <td>0.0000</td>\n",
       "      <td>0.0000</td>\n",
       "      <td>0.0323</td>\n",
       "      <td>0.0323</td>\n",
       "    </tr>\n",
       "    <tr>\n",
       "      <th>2007-10-17</th>\n",
       "      <td>0.0051</td>\n",
       "      <td>0.0000</td>\n",
       "      <td>0.0374</td>\n",
       "      <td>0.0323</td>\n",
       "    </tr>\n",
       "    <tr>\n",
       "      <th>2007-10-18</th>\n",
       "      <td>0.0005</td>\n",
       "      <td>0.0000</td>\n",
       "      <td>0.0379</td>\n",
       "      <td>0.0323</td>\n",
       "    </tr>\n",
       "    <tr>\n",
       "      <th>2007-10-19</th>\n",
       "      <td>0.0000</td>\n",
       "      <td>0.0000</td>\n",
       "      <td>0.0379</td>\n",
       "      <td>0.0323</td>\n",
       "    </tr>\n",
       "    <tr>\n",
       "      <th>2007-10-20</th>\n",
       "      <td>0.0011</td>\n",
       "      <td>0.0000</td>\n",
       "      <td>0.0390</td>\n",
       "      <td>0.0323</td>\n",
       "    </tr>\n",
       "    <tr>\n",
       "      <th>2007-10-21</th>\n",
       "      <td>0.0042</td>\n",
       "      <td>0.0000</td>\n",
       "      <td>0.0432</td>\n",
       "      <td>0.0323</td>\n",
       "    </tr>\n",
       "    <tr>\n",
       "      <th>2007-10-22</th>\n",
       "      <td>0.0000</td>\n",
       "      <td>0.0000</td>\n",
       "      <td>0.0432</td>\n",
       "      <td>0.0323</td>\n",
       "    </tr>\n",
       "    <tr>\n",
       "      <th>2007-10-23</th>\n",
       "      <td>0.0000</td>\n",
       "      <td>0.0000</td>\n",
       "      <td>0.0432</td>\n",
       "      <td>0.0323</td>\n",
       "    </tr>\n",
       "    <tr>\n",
       "      <th>2007-10-24</th>\n",
       "      <td>0.0000</td>\n",
       "      <td>0.0000</td>\n",
       "      <td>0.0432</td>\n",
       "      <td>0.0323</td>\n",
       "    </tr>\n",
       "    <tr>\n",
       "      <th>2007-10-25</th>\n",
       "      <td>0.0000</td>\n",
       "      <td>0.0000</td>\n",
       "      <td>0.0432</td>\n",
       "      <td>0.0323</td>\n",
       "    </tr>\n",
       "    <tr>\n",
       "      <th>2007-10-26</th>\n",
       "      <td>0.0000</td>\n",
       "      <td>0.0000</td>\n",
       "      <td>0.0432</td>\n",
       "      <td>0.0323</td>\n",
       "    </tr>\n",
       "    <tr>\n",
       "      <th>2007-10-27</th>\n",
       "      <td>0.0000</td>\n",
       "      <td>0.0000</td>\n",
       "      <td>0.0432</td>\n",
       "      <td>0.0323</td>\n",
       "    </tr>\n",
       "    <tr>\n",
       "      <th>2007-10-28</th>\n",
       "      <td>0.0000</td>\n",
       "      <td>0.0000</td>\n",
       "      <td>0.0432</td>\n",
       "      <td>0.0323</td>\n",
       "    </tr>\n",
       "    <tr>\n",
       "      <th>2007-10-29</th>\n",
       "      <td>0.0000</td>\n",
       "      <td>0.0000</td>\n",
       "      <td>0.0432</td>\n",
       "      <td>0.0323</td>\n",
       "    </tr>\n",
       "    <tr>\n",
       "      <th>2007-10-30</th>\n",
       "      <td>0.0006</td>\n",
       "      <td>0.0000</td>\n",
       "      <td>0.0438</td>\n",
       "      <td>0.0323</td>\n",
       "    </tr>\n",
       "    <tr>\n",
       "      <th>...</th>\n",
       "      <td>...</td>\n",
       "      <td>...</td>\n",
       "      <td>...</td>\n",
       "      <td>...</td>\n",
       "    </tr>\n",
       "    <tr>\n",
       "      <th>2008-09-15</th>\n",
       "      <td>0.0000</td>\n",
       "      <td>0.0000</td>\n",
       "      <td>0.6630</td>\n",
       "      <td>0.3187</td>\n",
       "    </tr>\n",
       "    <tr>\n",
       "      <th>2008-09-16</th>\n",
       "      <td>0.0000</td>\n",
       "      <td>0.0000</td>\n",
       "      <td>0.6630</td>\n",
       "      <td>0.3187</td>\n",
       "    </tr>\n",
       "    <tr>\n",
       "      <th>2008-09-17</th>\n",
       "      <td>0.0000</td>\n",
       "      <td>0.0000</td>\n",
       "      <td>0.6630</td>\n",
       "      <td>0.3187</td>\n",
       "    </tr>\n",
       "    <tr>\n",
       "      <th>2008-09-18</th>\n",
       "      <td>0.0028</td>\n",
       "      <td>0.0028</td>\n",
       "      <td>0.6658</td>\n",
       "      <td>0.3215</td>\n",
       "    </tr>\n",
       "    <tr>\n",
       "      <th>2008-09-19</th>\n",
       "      <td>0.0000</td>\n",
       "      <td>0.0000</td>\n",
       "      <td>0.6658</td>\n",
       "      <td>0.3215</td>\n",
       "    </tr>\n",
       "    <tr>\n",
       "      <th>2008-09-20</th>\n",
       "      <td>0.0105</td>\n",
       "      <td>0.0105</td>\n",
       "      <td>0.6763</td>\n",
       "      <td>0.3320</td>\n",
       "    </tr>\n",
       "    <tr>\n",
       "      <th>2008-09-21</th>\n",
       "      <td>0.0000</td>\n",
       "      <td>0.0000</td>\n",
       "      <td>0.6763</td>\n",
       "      <td>0.3320</td>\n",
       "    </tr>\n",
       "    <tr>\n",
       "      <th>2008-09-22</th>\n",
       "      <td>0.0000</td>\n",
       "      <td>0.0000</td>\n",
       "      <td>0.6763</td>\n",
       "      <td>0.3320</td>\n",
       "    </tr>\n",
       "    <tr>\n",
       "      <th>2008-09-23</th>\n",
       "      <td>0.0000</td>\n",
       "      <td>0.0000</td>\n",
       "      <td>0.6763</td>\n",
       "      <td>0.3320</td>\n",
       "    </tr>\n",
       "    <tr>\n",
       "      <th>2008-09-24</th>\n",
       "      <td>0.0000</td>\n",
       "      <td>0.0000</td>\n",
       "      <td>0.6763</td>\n",
       "      <td>0.3320</td>\n",
       "    </tr>\n",
       "    <tr>\n",
       "      <th>2008-09-25</th>\n",
       "      <td>0.0000</td>\n",
       "      <td>0.0000</td>\n",
       "      <td>0.6763</td>\n",
       "      <td>0.3320</td>\n",
       "    </tr>\n",
       "    <tr>\n",
       "      <th>2008-09-26</th>\n",
       "      <td>0.0000</td>\n",
       "      <td>0.0000</td>\n",
       "      <td>0.6763</td>\n",
       "      <td>0.3320</td>\n",
       "    </tr>\n",
       "    <tr>\n",
       "      <th>2008-09-27</th>\n",
       "      <td>0.0000</td>\n",
       "      <td>0.0000</td>\n",
       "      <td>0.6763</td>\n",
       "      <td>0.3320</td>\n",
       "    </tr>\n",
       "    <tr>\n",
       "      <th>2008-09-28</th>\n",
       "      <td>0.0000</td>\n",
       "      <td>0.0000</td>\n",
       "      <td>0.6763</td>\n",
       "      <td>0.3320</td>\n",
       "    </tr>\n",
       "    <tr>\n",
       "      <th>2008-09-29</th>\n",
       "      <td>0.0000</td>\n",
       "      <td>0.0000</td>\n",
       "      <td>0.6763</td>\n",
       "      <td>0.3320</td>\n",
       "    </tr>\n",
       "    <tr>\n",
       "      <th>2008-10-01</th>\n",
       "      <td>0.0000</td>\n",
       "      <td>0.0000</td>\n",
       "      <td>0.6763</td>\n",
       "      <td>0.3320</td>\n",
       "    </tr>\n",
       "    <tr>\n",
       "      <th>2008-10-02</th>\n",
       "      <td>0.0000</td>\n",
       "      <td>0.0000</td>\n",
       "      <td>0.6763</td>\n",
       "      <td>0.3320</td>\n",
       "    </tr>\n",
       "    <tr>\n",
       "      <th>2008-10-03</th>\n",
       "      <td>0.0002</td>\n",
       "      <td>0.0002</td>\n",
       "      <td>0.6765</td>\n",
       "      <td>0.3322</td>\n",
       "    </tr>\n",
       "    <tr>\n",
       "      <th>2008-10-04</th>\n",
       "      <td>0.0000</td>\n",
       "      <td>0.0000</td>\n",
       "      <td>0.6765</td>\n",
       "      <td>0.3322</td>\n",
       "    </tr>\n",
       "    <tr>\n",
       "      <th>2008-10-05</th>\n",
       "      <td>0.0017</td>\n",
       "      <td>0.0017</td>\n",
       "      <td>0.6782</td>\n",
       "      <td>0.3339</td>\n",
       "    </tr>\n",
       "    <tr>\n",
       "      <th>2008-10-06</th>\n",
       "      <td>0.0000</td>\n",
       "      <td>0.0000</td>\n",
       "      <td>0.6782</td>\n",
       "      <td>0.3339</td>\n",
       "    </tr>\n",
       "    <tr>\n",
       "      <th>2008-10-07</th>\n",
       "      <td>0.0000</td>\n",
       "      <td>0.0000</td>\n",
       "      <td>0.6782</td>\n",
       "      <td>0.3339</td>\n",
       "    </tr>\n",
       "    <tr>\n",
       "      <th>2008-10-08</th>\n",
       "      <td>0.0000</td>\n",
       "      <td>0.0000</td>\n",
       "      <td>0.6782</td>\n",
       "      <td>0.3339</td>\n",
       "    </tr>\n",
       "    <tr>\n",
       "      <th>2008-10-09</th>\n",
       "      <td>0.0000</td>\n",
       "      <td>0.0000</td>\n",
       "      <td>0.6782</td>\n",
       "      <td>0.3339</td>\n",
       "    </tr>\n",
       "    <tr>\n",
       "      <th>2008-10-10</th>\n",
       "      <td>0.0000</td>\n",
       "      <td>0.0000</td>\n",
       "      <td>0.6782</td>\n",
       "      <td>0.3339</td>\n",
       "    </tr>\n",
       "    <tr>\n",
       "      <th>2008-10-11</th>\n",
       "      <td>0.0074</td>\n",
       "      <td>0.0074</td>\n",
       "      <td>0.6856</td>\n",
       "      <td>0.3413</td>\n",
       "    </tr>\n",
       "    <tr>\n",
       "      <th>2008-10-12</th>\n",
       "      <td>0.0064</td>\n",
       "      <td>0.0064</td>\n",
       "      <td>0.6920</td>\n",
       "      <td>0.3477</td>\n",
       "    </tr>\n",
       "    <tr>\n",
       "      <th>2008-10-13</th>\n",
       "      <td>0.0000</td>\n",
       "      <td>0.0000</td>\n",
       "      <td>0.6920</td>\n",
       "      <td>0.3477</td>\n",
       "    </tr>\n",
       "    <tr>\n",
       "      <th>2008-10-14</th>\n",
       "      <td>0.0000</td>\n",
       "      <td>0.0000</td>\n",
       "      <td>0.6920</td>\n",
       "      <td>0.3477</td>\n",
       "    </tr>\n",
       "    <tr>\n",
       "      <th>2008-10-15</th>\n",
       "      <td>0.0000</td>\n",
       "      <td>0.0000</td>\n",
       "      <td>0.6920</td>\n",
       "      <td>0.3477</td>\n",
       "    </tr>\n",
       "  </tbody>\n",
       "</table>\n",
       "<p>380 rows × 4 columns</p>\n",
       "</div>"
      ],
      "text/plain": [
       "              rain   rain2  accum_rain  accum_rain2\n",
       "date                                               \n",
       "2007-10-01  0.0000  0.0000      0.0000       0.0000\n",
       "2007-10-02  0.0068  0.0068      0.0068       0.0068\n",
       "2007-10-03  0.0000  0.0000      0.0068       0.0068\n",
       "2007-10-04  0.0000  0.0000      0.0068       0.0068\n",
       "2007-10-05  0.0000  0.0000      0.0068       0.0068\n",
       "2007-10-06  0.0000  0.0000      0.0068       0.0068\n",
       "2007-10-07  0.0000  0.0000      0.0068       0.0068\n",
       "2007-10-08  0.0000  0.0000      0.0068       0.0068\n",
       "2007-10-09  0.0000  0.0000      0.0068       0.0068\n",
       "2007-10-10  0.0000  0.0000      0.0068       0.0068\n",
       "2007-10-11  0.0000  0.0000      0.0068       0.0068\n",
       "2007-10-12  0.0000  0.0000      0.0068       0.0068\n",
       "2007-10-13  0.0022  0.0022      0.0090       0.0090\n",
       "2007-10-14  0.0233  0.0233      0.0323       0.0323\n",
       "2007-10-15  0.0000  0.0000      0.0323       0.0323\n",
       "2007-10-16  0.0000  0.0000      0.0323       0.0323\n",
       "2007-10-17  0.0051  0.0000      0.0374       0.0323\n",
       "2007-10-18  0.0005  0.0000      0.0379       0.0323\n",
       "2007-10-19  0.0000  0.0000      0.0379       0.0323\n",
       "2007-10-20  0.0011  0.0000      0.0390       0.0323\n",
       "2007-10-21  0.0042  0.0000      0.0432       0.0323\n",
       "2007-10-22  0.0000  0.0000      0.0432       0.0323\n",
       "2007-10-23  0.0000  0.0000      0.0432       0.0323\n",
       "2007-10-24  0.0000  0.0000      0.0432       0.0323\n",
       "2007-10-25  0.0000  0.0000      0.0432       0.0323\n",
       "2007-10-26  0.0000  0.0000      0.0432       0.0323\n",
       "2007-10-27  0.0000  0.0000      0.0432       0.0323\n",
       "2007-10-28  0.0000  0.0000      0.0432       0.0323\n",
       "2007-10-29  0.0000  0.0000      0.0432       0.0323\n",
       "2007-10-30  0.0006  0.0000      0.0438       0.0323\n",
       "...            ...     ...         ...          ...\n",
       "2008-09-15  0.0000  0.0000      0.6630       0.3187\n",
       "2008-09-16  0.0000  0.0000      0.6630       0.3187\n",
       "2008-09-17  0.0000  0.0000      0.6630       0.3187\n",
       "2008-09-18  0.0028  0.0028      0.6658       0.3215\n",
       "2008-09-19  0.0000  0.0000      0.6658       0.3215\n",
       "2008-09-20  0.0105  0.0105      0.6763       0.3320\n",
       "2008-09-21  0.0000  0.0000      0.6763       0.3320\n",
       "2008-09-22  0.0000  0.0000      0.6763       0.3320\n",
       "2008-09-23  0.0000  0.0000      0.6763       0.3320\n",
       "2008-09-24  0.0000  0.0000      0.6763       0.3320\n",
       "2008-09-25  0.0000  0.0000      0.6763       0.3320\n",
       "2008-09-26  0.0000  0.0000      0.6763       0.3320\n",
       "2008-09-27  0.0000  0.0000      0.6763       0.3320\n",
       "2008-09-28  0.0000  0.0000      0.6763       0.3320\n",
       "2008-09-29  0.0000  0.0000      0.6763       0.3320\n",
       "2008-10-01  0.0000  0.0000      0.6763       0.3320\n",
       "2008-10-02  0.0000  0.0000      0.6763       0.3320\n",
       "2008-10-03  0.0002  0.0002      0.6765       0.3322\n",
       "2008-10-04  0.0000  0.0000      0.6765       0.3322\n",
       "2008-10-05  0.0017  0.0017      0.6782       0.3339\n",
       "2008-10-06  0.0000  0.0000      0.6782       0.3339\n",
       "2008-10-07  0.0000  0.0000      0.6782       0.3339\n",
       "2008-10-08  0.0000  0.0000      0.6782       0.3339\n",
       "2008-10-09  0.0000  0.0000      0.6782       0.3339\n",
       "2008-10-10  0.0000  0.0000      0.6782       0.3339\n",
       "2008-10-11  0.0074  0.0074      0.6856       0.3413\n",
       "2008-10-12  0.0064  0.0064      0.6920       0.3477\n",
       "2008-10-13  0.0000  0.0000      0.6920       0.3477\n",
       "2008-10-14  0.0000  0.0000      0.6920       0.3477\n",
       "2008-10-15  0.0000  0.0000      0.6920       0.3477\n",
       "\n",
       "[380 rows x 4 columns]"
      ]
     },
     "execution_count": 52,
     "metadata": {},
     "output_type": "execute_result"
    }
   ],
   "source": [
    "rain"
   ]
  },
  {
   "cell_type": "code",
   "execution_count": 63,
   "metadata": {
    "collapsed": false
   },
   "outputs": [
    {
     "data": {
      "image/png": "[encoded data removed]",
      "text/plain": [
       "<matplotlib.figure.Figure at 0x1106766d0>"
      ]
     },
     "metadata": {},
     "output_type": "display_data"
    }
   ],
   "source": [
    "fig = plt.figure(figsize=(10,5))\n",
    "ax1 = fig.add_subplot(111)\n",
    "ax1.plot(rain.index,rain.accum_rain,lw=2)\n",
    "ax1.text(rain.index.max(),rain.accum_rain.max()-0.027,'Cumulative \\n Precipitation',\n",
    "         fontsize = 14, color = colors[0], weight = 'bold')\n",
    "\n",
    "ax1.plot(rain.index,rain.accum_rain2,lw=2)\n",
    "ax1.text(rain.index.max(),rain.accum_rain2.max()-0.027,' Cumulative \\n Rain',\n",
    "         fontsize = 14, color = colors[1], weight = 'bold')\n",
    "\n",
    "ax1.plot(sm.date,sm.accum_sm,lw=2)\n",
    "ax1.text(sm.date.max(),sm.accum_sm.max()-0.025,' Cumulative \\n Snowmelt',\n",
    "         fontsize = 14, color = colors[2], weight = 'bold')\n",
    "\n",
    "\n",
    "plt.axvspan(par.date_AS,par.date_peakSWE,facecolor='0.9', alpha=0.5)\n",
    "plt.axvspan(par.date_peakSWE,par.date_ONS,facecolor='0.8', alpha=0.5)\n",
    "\n",
    "ax1.set_xlim('2007-10-1','2009-2-10')\n",
    "ax1.set_ylim(0,0.8)\n",
    "ax1.set_ylabel('meters',fontsize=20,weight='bold')\n",
    "\n",
    "plt.setp(ax1.get_xticklabels(), fontsize=14);\n",
    "plt.setp(ax1.get_yticklabels(), fontsize=14);\n",
    "\n",
    "plt.savefig('./figures/precip_scenarios.png',dpi=300,bbox_inches='tight')"
   ]
  },
  {
   "cell_type": "code",
   "execution_count": 141,
   "metadata": {
    "collapsed": false
   },
   "outputs": [
    {
     "data": {
      "image/png": "[encoded data removed]",
      "text/plain": [
       "<matplotlib.figure.Figure at 0x113c38510>"
      ]
     },
     "metadata": {},
     "output_type": "display_data"
    }
   ],
   "source": [
    "fig = plt.figure(figsize=(10,5))\n",
    "plt.bar(sm.date, sm.sm*1000,facecolor=colors[2],lw=1,alpha=0.9)\n",
    "plt.ylabel('Snowmelt [mm/d]', fontsize=20, weight='bold')\n",
    "plt.savefig('./figures/snowmelt_scen.png',dpi=300,bbox_inches='tight')"
   ]
  },
  {
   "cell_type": "code",
   "execution_count": 129,
   "metadata": {
    "collapsed": false
   },
   "outputs": [
    {
     "data": {
      "text/html": [
       "<div>\n",
       "<table border=\"1\" class=\"dataframe\">\n",
       "  <thead>\n",
       "    <tr style=\"text-align: right;\">\n",
       "      <th></th>\n",
       "      <th>Tnosnow</th>\n",
       "      <th>TpeakSWE</th>\n",
       "      <th>peakSWE</th>\n",
       "      <th>SMR</th>\n",
       "      <th>ref</th>\n",
       "      <th>date_ONS</th>\n",
       "      <th>DOAS</th>\n",
       "      <th>date_AS</th>\n",
       "      <th>idx</th>\n",
       "      <th>date_peakSWE</th>\n",
       "      <th>MAP</th>\n",
       "    </tr>\n",
       "  </thead>\n",
       "  <tbody>\n",
       "    <tr>\n",
       "      <th>0</th>\n",
       "      <td>223</td>\n",
       "      <td>172</td>\n",
       "      <td>0.201000</td>\n",
       "      <td>0.003941</td>\n",
       "      <td>2008</td>\n",
       "      <td>2008-05-10</td>\n",
       "      <td>15</td>\n",
       "      <td>2007-10-15</td>\n",
       "      <td>0</td>\n",
       "      <td>2008-03-20</td>\n",
       "      <td>0.341</td>\n",
       "    </tr>\n",
       "    <tr>\n",
       "      <th>1</th>\n",
       "      <td>223</td>\n",
       "      <td>172</td>\n",
       "      <td>0.205969</td>\n",
       "      <td>0.004039</td>\n",
       "      <td>2008</td>\n",
       "      <td>2008-05-10</td>\n",
       "      <td>15</td>\n",
       "      <td>2007-10-15</td>\n",
       "      <td>1</td>\n",
       "      <td>2008-03-20</td>\n",
       "      <td>0.341</td>\n",
       "    </tr>\n",
       "    <tr>\n",
       "      <th>2</th>\n",
       "      <td>223</td>\n",
       "      <td>172</td>\n",
       "      <td>0.210938</td>\n",
       "      <td>0.004136</td>\n",
       "      <td>2008</td>\n",
       "      <td>2008-05-10</td>\n",
       "      <td>15</td>\n",
       "      <td>2007-10-15</td>\n",
       "      <td>2</td>\n",
       "      <td>2008-03-20</td>\n",
       "      <td>0.341</td>\n",
       "    </tr>\n",
       "    <tr>\n",
       "      <th>3</th>\n",
       "      <td>223</td>\n",
       "      <td>172</td>\n",
       "      <td>0.215906</td>\n",
       "      <td>0.004233</td>\n",
       "      <td>2008</td>\n",
       "      <td>2008-05-10</td>\n",
       "      <td>15</td>\n",
       "      <td>2007-10-15</td>\n",
       "      <td>3</td>\n",
       "      <td>2008-03-20</td>\n",
       "      <td>0.341</td>\n",
       "    </tr>\n",
       "    <tr>\n",
       "      <th>4</th>\n",
       "      <td>223</td>\n",
       "      <td>172</td>\n",
       "      <td>0.220875</td>\n",
       "      <td>0.004331</td>\n",
       "      <td>2008</td>\n",
       "      <td>2008-05-10</td>\n",
       "      <td>15</td>\n",
       "      <td>2007-10-15</td>\n",
       "      <td>4</td>\n",
       "      <td>2008-03-20</td>\n",
       "      <td>0.341</td>\n",
       "    </tr>\n",
       "  </tbody>\n",
       "</table>\n",
       "</div>"
      ],
      "text/plain": [
       "   Tnosnow  TpeakSWE   peakSWE       SMR   ref   date_ONS  DOAS    date_AS  \\\n",
       "0      223       172  0.201000  0.003941  2008 2008-05-10    15 2007-10-15   \n",
       "1      223       172  0.205969  0.004039  2008 2008-05-10    15 2007-10-15   \n",
       "2      223       172  0.210938  0.004136  2008 2008-05-10    15 2007-10-15   \n",
       "3      223       172  0.215906  0.004233  2008 2008-05-10    15 2007-10-15   \n",
       "4      223       172  0.220875  0.004331  2008 2008-05-10    15 2007-10-15   \n",
       "\n",
       "   idx date_peakSWE    MAP  \n",
       "0    0   2008-03-20  0.341  \n",
       "1    1   2008-03-20  0.341  \n",
       "2    2   2008-03-20  0.341  \n",
       "3    3   2008-03-20  0.341  \n",
       "4    4   2008-03-20  0.341  "
      ]
     },
     "execution_count": 129,
     "metadata": {},
     "output_type": "execute_result"
    }
   ],
   "source": [
    "params.loc[]"
   ]
  },
  {
   "cell_type": "code",
   "execution_count": null,
   "metadata": {
    "collapsed": true
   },
   "outputs": [],
   "source": []
  }
 ],
 "metadata": {
  "kernelspec": {
   "display_name": "Python 2",
   "language": "python",
   "name": "python2"
  },
  "language_info": {
   "codemirror_mode": {
    "name": "ipython",
    "version": 2
   },
   "file_extension": ".py",
   "mimetype": "text/x-python",
   "name": "python",
   "nbconvert_exporter": "python",
   "pygments_lexer": "ipython2",
   "version": "2.7.11"
  }
 },
 "nbformat": 4,
 "nbformat_minor": 0
}
