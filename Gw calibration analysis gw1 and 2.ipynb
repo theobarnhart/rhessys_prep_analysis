{
 "metadata": {
  "name": "",
  "signature": "sha256:3595fdb8940cbdc40b1b57316994e07609b3d4fcb0487ce656b13e0c92b1ffe8"
 },
 "nbformat": 3,
 "nbformat_minor": 0,
 "worksheets": [
  {
   "cells": [
    {
     "cell_type": "code",
     "collapsed": false,
     "input": [
      "#%matplotlib inline\n",
      "import numpy as np\n",
      "import pandas as pd\n",
      "import pylab\n",
      "import matplotlib.pyplot as plt\n",
      "import scipy as sp\n",
      "import glob\n",
      "from matplotlib.backends.backend_pdf import PdfPages\n",
      "import datetime"
     ],
     "language": "python",
     "metadata": {},
     "outputs": [],
     "prompt_number": 1
    },
    {
     "cell_type": "code",
     "collapsed": false,
     "input": [
      "prefx = 'GW_cal2_' # prefix for the gw calibration you want to analyze\n",
      "\n",
      "# load the gw calibration parameters used\n",
      "gw1 = np.load('/RHESSys/ComoCreek_new/out/cal/'+prefx+'gw1.npy')\n",
      "gw2 = np.load('/RHESSys/ComoCreek_new/out/cal/'+prefx+'gw2.npy')"
     ],
     "language": "python",
     "metadata": {},
     "outputs": [],
     "prompt_number": 2
    },
    {
     "cell_type": "code",
     "collapsed": false,
     "input": [
      "obs = pd.read_csv('/RHESSys/ComoCreek_new/auxdata/como_discharge_real.csv', sep=',', header='infer')              "
     ],
     "language": "python",
     "metadata": {},
     "outputs": [],
     "prompt_number": 3
    },
    {
     "cell_type": "code",
     "collapsed": false,
     "input": [
      "obs.index = pd.date_range(start='2004-01-01',freq='D', periods = len(obs.q_liter_per_day))"
     ],
     "language": "python",
     "metadata": {},
     "outputs": [],
     "prompt_number": 4
    },
    {
     "cell_type": "code",
     "collapsed": false,
     "input": [
      "obs = obs.drop(['year','doy'], axis = 1)"
     ],
     "language": "python",
     "metadata": {},
     "outputs": [],
     "prompt_number": 5
    },
    {
     "cell_type": "markdown",
     "metadata": {},
     "source": [
      "# Convert Observed Streamflow from L/d to m$^3$/s"
     ]
    },
    {
     "cell_type": "code",
     "collapsed": false,
     "input": [
      "streamflow = obs.q_liter_per_day"
     ],
     "language": "python",
     "metadata": {},
     "outputs": [],
     "prompt_number": 6
    },
    {
     "cell_type": "code",
     "collapsed": false,
     "input": [
      "streamflow = streamflow*0.001 # convert to m3/d"
     ],
     "language": "python",
     "metadata": {},
     "outputs": [],
     "prompt_number": 7
    },
    {
     "cell_type": "code",
     "collapsed": false,
     "input": [
      "area = 5000000 # m^2"
     ],
     "language": "python",
     "metadata": {},
     "outputs": [],
     "prompt_number": 8
    },
    {
     "cell_type": "code",
     "collapsed": false,
     "input": [
      "streamflow = streamflow/area # convert to m/m2"
     ],
     "language": "python",
     "metadata": {},
     "outputs": [],
     "prompt_number": 9
    },
    {
     "cell_type": "code",
     "collapsed": false,
     "input": [
      "obs['discharge'] = streamflow*1000 # convert to mm/m2"
     ],
     "language": "python",
     "metadata": {},
     "outputs": [],
     "prompt_number": 10
    },
    {
     "cell_type": "code",
     "collapsed": false,
     "input": [
      "del streamflow"
     ],
     "language": "python",
     "metadata": {},
     "outputs": [],
     "prompt_number": 11
    },
    {
     "cell_type": "code",
     "collapsed": false,
     "input": [
      "obs2 = obs.resample('A', how='sum') # generate yearly sums "
     ],
     "language": "python",
     "metadata": {},
     "outputs": [],
     "prompt_number": 12
    },
    {
     "cell_type": "code",
     "collapsed": false,
     "input": [
      "obs2"
     ],
     "language": "python",
     "metadata": {},
     "outputs": [
      {
       "html": [
        "<div style=\"max-height:1000px;max-width:1500px;overflow:auto;\">\n",
        "<table border=\"1\" class=\"dataframe\">\n",
        "  <thead>\n",
        "    <tr style=\"text-align: right;\">\n",
        "      <th></th>\n",
        "      <th>q_liter_per_day</th>\n",
        "      <th>discharge</th>\n",
        "    </tr>\n",
        "  </thead>\n",
        "  <tbody>\n",
        "    <tr>\n",
        "      <th>2004-12-31</th>\n",
        "      <td> 6.974976e+08</td>\n",
        "      <td> 139.499530</td>\n",
        "    </tr>\n",
        "    <tr>\n",
        "      <th>2005-12-31</th>\n",
        "      <td> 1.054119e+09</td>\n",
        "      <td> 210.823881</td>\n",
        "    </tr>\n",
        "    <tr>\n",
        "      <th>2006-12-31</th>\n",
        "      <td> 8.399479e+08</td>\n",
        "      <td> 167.989589</td>\n",
        "    </tr>\n",
        "    <tr>\n",
        "      <th>2007-12-31</th>\n",
        "      <td> 1.054333e+09</td>\n",
        "      <td> 210.866597</td>\n",
        "    </tr>\n",
        "    <tr>\n",
        "      <th>2008-12-31</th>\n",
        "      <td> 9.584718e+08</td>\n",
        "      <td> 191.694362</td>\n",
        "    </tr>\n",
        "    <tr>\n",
        "      <th>2009-12-31</th>\n",
        "      <td> 1.045505e+09</td>\n",
        "      <td> 209.101080</td>\n",
        "    </tr>\n",
        "    <tr>\n",
        "      <th>2010-12-31</th>\n",
        "      <td> 1.301139e+09</td>\n",
        "      <td> 260.227713</td>\n",
        "    </tr>\n",
        "    <tr>\n",
        "      <th>2011-12-31</th>\n",
        "      <td> 1.877386e+09</td>\n",
        "      <td> 375.477127</td>\n",
        "    </tr>\n",
        "  </tbody>\n",
        "</table>\n",
        "</div>"
       ],
       "metadata": {},
       "output_type": "pyout",
       "prompt_number": 13,
       "text": [
        "            q_liter_per_day   discharge\n",
        "2004-12-31     6.974976e+08  139.499530\n",
        "2005-12-31     1.054119e+09  210.823881\n",
        "2006-12-31     8.399479e+08  167.989589\n",
        "2007-12-31     1.054333e+09  210.866597\n",
        "2008-12-31     9.584718e+08  191.694362\n",
        "2009-12-31     1.045505e+09  209.101080\n",
        "2010-12-31     1.301139e+09  260.227713\n",
        "2011-12-31     1.877386e+09  375.477127"
       ]
      }
     ],
     "prompt_number": 13
    },
    {
     "cell_type": "code",
     "collapsed": false,
     "input": [
      "obstrain = obs2.discharge.loc['2005-12-31':'2008-12-31'] # pull out the training years of observations"
     ],
     "language": "python",
     "metadata": {},
     "outputs": [],
     "prompt_number": 14
    },
    {
     "cell_type": "code",
     "collapsed": false,
     "input": [
      "obstrain"
     ],
     "language": "python",
     "metadata": {},
     "outputs": [
      {
       "metadata": {},
       "output_type": "pyout",
       "prompt_number": 15,
       "text": [
        "2005-12-31    210.823881\n",
        "2006-12-31    167.989589\n",
        "2007-12-31    210.866597\n",
        "2008-12-31    191.694362\n",
        "Freq: A-DEC, Name: discharge, dtype: float64"
       ]
      }
     ],
     "prompt_number": 15
    },
    {
     "cell_type": "code",
     "collapsed": false,
     "input": [
      "plt.figure(figsize=(10,5))\n",
      "plt.plot_date(obs.index, obs.discharge, 'b-')\n",
      "plt.ylabel('Observed Discharge [mm]', fontsize=14)"
     ],
     "language": "python",
     "metadata": {},
     "outputs": [
      {
       "metadata": {},
       "output_type": "pyout",
       "prompt_number": 18,
       "text": [
        "<matplotlib.text.Text at 0x10a27b490>"
       ]
      },
      {
       "metadata": {},
       "output_type": "display_data",
       "png": "[encoded data removed]",
       "text": [
        "<matplotlib.figure.Figure at 0x10a26f2d0>"
       ]
      }
     ],
     "prompt_number": 18
    },
    {
     "cell_type": "markdown",
     "metadata": {},
     "source": [
      "## Loop through each model run and calculate an objective function"
     ]
    },
    {
     "cell_type": "code",
     "collapsed": false,
     "input": [
      "from hydro import objective_fxns as ofx"
     ],
     "language": "python",
     "metadata": {},
     "outputs": [],
     "prompt_number": 19
    },
    {
     "cell_type": "code",
     "collapsed": false,
     "input": [
      "path = '/RHESSys/ComoCreek_new/out/cal/'+prefx\n",
      "files = glob.glob(path+'*'+'_basin.daily')\n",
      "\n",
      "area = 5000000 # m^2\n",
      "\n",
      "files"
     ],
     "language": "python",
     "metadata": {},
     "outputs": [
      {
       "metadata": {},
       "output_type": "pyout",
       "prompt_number": 20,
       "text": [
        "['/RHESSys/ComoCreek_new/out/cal/GW_cal2_100_basin.daily',\n",
        " '/RHESSys/ComoCreek_new/out/cal/GW_cal2_10_basin.daily',\n",
        " '/RHESSys/ComoCreek_new/out/cal/GW_cal2_11_basin.daily',\n",
        " '/RHESSys/ComoCreek_new/out/cal/GW_cal2_12_basin.daily',\n",
        " '/RHESSys/ComoCreek_new/out/cal/GW_cal2_13_basin.daily',\n",
        " '/RHESSys/ComoCreek_new/out/cal/GW_cal2_14_basin.daily',\n",
        " '/RHESSys/ComoCreek_new/out/cal/GW_cal2_15_basin.daily',\n",
        " '/RHESSys/ComoCreek_new/out/cal/GW_cal2_16_basin.daily',\n",
        " '/RHESSys/ComoCreek_new/out/cal/GW_cal2_17_basin.daily',\n",
        " '/RHESSys/ComoCreek_new/out/cal/GW_cal2_18_basin.daily',\n",
        " '/RHESSys/ComoCreek_new/out/cal/GW_cal2_19_basin.daily',\n",
        " '/RHESSys/ComoCreek_new/out/cal/GW_cal2_1_basin.daily',\n",
        " '/RHESSys/ComoCreek_new/out/cal/GW_cal2_20_basin.daily',\n",
        " '/RHESSys/ComoCreek_new/out/cal/GW_cal2_21_basin.daily',\n",
        " '/RHESSys/ComoCreek_new/out/cal/GW_cal2_22_basin.daily',\n",
        " '/RHESSys/ComoCreek_new/out/cal/GW_cal2_23_basin.daily',\n",
        " '/RHESSys/ComoCreek_new/out/cal/GW_cal2_24_basin.daily',\n",
        " '/RHESSys/ComoCreek_new/out/cal/GW_cal2_25_basin.daily',\n",
        " '/RHESSys/ComoCreek_new/out/cal/GW_cal2_26_basin.daily',\n",
        " '/RHESSys/ComoCreek_new/out/cal/GW_cal2_27_basin.daily',\n",
        " '/RHESSys/ComoCreek_new/out/cal/GW_cal2_28_basin.daily',\n",
        " '/RHESSys/ComoCreek_new/out/cal/GW_cal2_29_basin.daily',\n",
        " '/RHESSys/ComoCreek_new/out/cal/GW_cal2_2_basin.daily',\n",
        " '/RHESSys/ComoCreek_new/out/cal/GW_cal2_30_basin.daily',\n",
        " '/RHESSys/ComoCreek_new/out/cal/GW_cal2_31_basin.daily',\n",
        " '/RHESSys/ComoCreek_new/out/cal/GW_cal2_32_basin.daily',\n",
        " '/RHESSys/ComoCreek_new/out/cal/GW_cal2_33_basin.daily',\n",
        " '/RHESSys/ComoCreek_new/out/cal/GW_cal2_34_basin.daily',\n",
        " '/RHESSys/ComoCreek_new/out/cal/GW_cal2_35_basin.daily',\n",
        " '/RHESSys/ComoCreek_new/out/cal/GW_cal2_36_basin.daily',\n",
        " '/RHESSys/ComoCreek_new/out/cal/GW_cal2_37_basin.daily',\n",
        " '/RHESSys/ComoCreek_new/out/cal/GW_cal2_38_basin.daily',\n",
        " '/RHESSys/ComoCreek_new/out/cal/GW_cal2_39_basin.daily',\n",
        " '/RHESSys/ComoCreek_new/out/cal/GW_cal2_3_basin.daily',\n",
        " '/RHESSys/ComoCreek_new/out/cal/GW_cal2_40_basin.daily',\n",
        " '/RHESSys/ComoCreek_new/out/cal/GW_cal2_41_basin.daily',\n",
        " '/RHESSys/ComoCreek_new/out/cal/GW_cal2_42_basin.daily',\n",
        " '/RHESSys/ComoCreek_new/out/cal/GW_cal2_43_basin.daily',\n",
        " '/RHESSys/ComoCreek_new/out/cal/GW_cal2_44_basin.daily',\n",
        " '/RHESSys/ComoCreek_new/out/cal/GW_cal2_45_basin.daily',\n",
        " '/RHESSys/ComoCreek_new/out/cal/GW_cal2_46_basin.daily',\n",
        " '/RHESSys/ComoCreek_new/out/cal/GW_cal2_47_basin.daily',\n",
        " '/RHESSys/ComoCreek_new/out/cal/GW_cal2_48_basin.daily',\n",
        " '/RHESSys/ComoCreek_new/out/cal/GW_cal2_49_basin.daily',\n",
        " '/RHESSys/ComoCreek_new/out/cal/GW_cal2_4_basin.daily',\n",
        " '/RHESSys/ComoCreek_new/out/cal/GW_cal2_50_basin.daily',\n",
        " '/RHESSys/ComoCreek_new/out/cal/GW_cal2_51_basin.daily',\n",
        " '/RHESSys/ComoCreek_new/out/cal/GW_cal2_52_basin.daily',\n",
        " '/RHESSys/ComoCreek_new/out/cal/GW_cal2_53_basin.daily',\n",
        " '/RHESSys/ComoCreek_new/out/cal/GW_cal2_54_basin.daily',\n",
        " '/RHESSys/ComoCreek_new/out/cal/GW_cal2_55_basin.daily',\n",
        " '/RHESSys/ComoCreek_new/out/cal/GW_cal2_56_basin.daily',\n",
        " '/RHESSys/ComoCreek_new/out/cal/GW_cal2_57_basin.daily',\n",
        " '/RHESSys/ComoCreek_new/out/cal/GW_cal2_58_basin.daily',\n",
        " '/RHESSys/ComoCreek_new/out/cal/GW_cal2_59_basin.daily',\n",
        " '/RHESSys/ComoCreek_new/out/cal/GW_cal2_5_basin.daily',\n",
        " '/RHESSys/ComoCreek_new/out/cal/GW_cal2_60_basin.daily',\n",
        " '/RHESSys/ComoCreek_new/out/cal/GW_cal2_61_basin.daily',\n",
        " '/RHESSys/ComoCreek_new/out/cal/GW_cal2_62_basin.daily',\n",
        " '/RHESSys/ComoCreek_new/out/cal/GW_cal2_63_basin.daily',\n",
        " '/RHESSys/ComoCreek_new/out/cal/GW_cal2_64_basin.daily',\n",
        " '/RHESSys/ComoCreek_new/out/cal/GW_cal2_65_basin.daily',\n",
        " '/RHESSys/ComoCreek_new/out/cal/GW_cal2_66_basin.daily',\n",
        " '/RHESSys/ComoCreek_new/out/cal/GW_cal2_67_basin.daily',\n",
        " '/RHESSys/ComoCreek_new/out/cal/GW_cal2_68_basin.daily',\n",
        " '/RHESSys/ComoCreek_new/out/cal/GW_cal2_69_basin.daily',\n",
        " '/RHESSys/ComoCreek_new/out/cal/GW_cal2_6_basin.daily',\n",
        " '/RHESSys/ComoCreek_new/out/cal/GW_cal2_70_basin.daily',\n",
        " '/RHESSys/ComoCreek_new/out/cal/GW_cal2_71_basin.daily',\n",
        " '/RHESSys/ComoCreek_new/out/cal/GW_cal2_72_basin.daily',\n",
        " '/RHESSys/ComoCreek_new/out/cal/GW_cal2_73_basin.daily',\n",
        " '/RHESSys/ComoCreek_new/out/cal/GW_cal2_74_basin.daily',\n",
        " '/RHESSys/ComoCreek_new/out/cal/GW_cal2_75_basin.daily',\n",
        " '/RHESSys/ComoCreek_new/out/cal/GW_cal2_76_basin.daily',\n",
        " '/RHESSys/ComoCreek_new/out/cal/GW_cal2_77_basin.daily',\n",
        " '/RHESSys/ComoCreek_new/out/cal/GW_cal2_78_basin.daily',\n",
        " '/RHESSys/ComoCreek_new/out/cal/GW_cal2_79_basin.daily',\n",
        " '/RHESSys/ComoCreek_new/out/cal/GW_cal2_7_basin.daily',\n",
        " '/RHESSys/ComoCreek_new/out/cal/GW_cal2_80_basin.daily',\n",
        " '/RHESSys/ComoCreek_new/out/cal/GW_cal2_81_basin.daily',\n",
        " '/RHESSys/ComoCreek_new/out/cal/GW_cal2_82_basin.daily',\n",
        " '/RHESSys/ComoCreek_new/out/cal/GW_cal2_83_basin.daily',\n",
        " '/RHESSys/ComoCreek_new/out/cal/GW_cal2_84_basin.daily',\n",
        " '/RHESSys/ComoCreek_new/out/cal/GW_cal2_85_basin.daily',\n",
        " '/RHESSys/ComoCreek_new/out/cal/GW_cal2_86_basin.daily',\n",
        " '/RHESSys/ComoCreek_new/out/cal/GW_cal2_87_basin.daily',\n",
        " '/RHESSys/ComoCreek_new/out/cal/GW_cal2_88_basin.daily',\n",
        " '/RHESSys/ComoCreek_new/out/cal/GW_cal2_89_basin.daily',\n",
        " '/RHESSys/ComoCreek_new/out/cal/GW_cal2_8_basin.daily',\n",
        " '/RHESSys/ComoCreek_new/out/cal/GW_cal2_90_basin.daily',\n",
        " '/RHESSys/ComoCreek_new/out/cal/GW_cal2_91_basin.daily',\n",
        " '/RHESSys/ComoCreek_new/out/cal/GW_cal2_92_basin.daily',\n",
        " '/RHESSys/ComoCreek_new/out/cal/GW_cal2_93_basin.daily',\n",
        " '/RHESSys/ComoCreek_new/out/cal/GW_cal2_94_basin.daily',\n",
        " '/RHESSys/ComoCreek_new/out/cal/GW_cal2_95_basin.daily',\n",
        " '/RHESSys/ComoCreek_new/out/cal/GW_cal2_96_basin.daily',\n",
        " '/RHESSys/ComoCreek_new/out/cal/GW_cal2_97_basin.daily',\n",
        " '/RHESSys/ComoCreek_new/out/cal/GW_cal2_98_basin.daily',\n",
        " '/RHESSys/ComoCreek_new/out/cal/GW_cal2_99_basin.daily',\n",
        " '/RHESSys/ComoCreek_new/out/cal/GW_cal2_9_basin.daily']"
       ]
      }
     ],
     "prompt_number": 20
    },
    {
     "cell_type": "code",
     "collapsed": false,
     "input": [
      "objectivefxn = np.zeros([len(files),1]) # preallocate\n",
      "dischargeyrs = np.zeros([len(files),4]) # preallocate\n",
      "\n",
      "with PdfPages('/RHESSys/ComoCreek_new/figures/'+prefx+'daily_strmflow_plots.pdf') as pdf:\n",
      "    for fl in files:\n",
      "        data = pd.read_table(fl,delim_whitespace=True,\n",
      "                       header='infer', parse_dates={'foo':[2,1,0]}, index_col='foo') # bring in the data\n",
      "        num = int(fl.split('_')[-2])-1 # pull out the run number, this will be used to index the objective function result into the objectivefxn matix\n",
      "\n",
      "        ## convert mm/d to m3/s\n",
      "\n",
      "        #streamflow = data.streamflow/(10*100) # convert to m/d\n",
      "        #streamflow = streamflow*area # convert to m3/day\n",
      "        #data['discharge'] = streamflow/(24*60*60) # convert to m3/s\n",
      "\n",
      "        #plt.plot_date(data.index, data.streamflow, 'k-')\n",
      "\n",
      "        #del streamflow\n",
      "\n",
      "        data2 = data.resample('A', how='sum') # compute yearly sums\n",
      "\n",
      "        simtrain = data2.streamflow.loc['2005-12-31':'2008-12-31']\n",
      "\n",
      "        dischargeyrs[num,:] = simtrain\n",
      "\n",
      "        objectivefxn[num] = ofx.nashsut(obstrain,simtrain)\n",
      "        \n",
      "        #objectivefxn[num] = np.mean(obstrain - simtrain)\n",
      "        \n",
      "        plt.figure(figsize = (8,5))\n",
      "        ax = plt.subplot(1,1,1)\n",
      "        ax.plot(simtrain.index, simtrain, 'b.',\n",
      "                 obstrain.index, obstrain, 'k.')\n",
      "        \n",
      "        plt.title('Simulation '+str(num)+' Streamflow Time Series', fontsize = 20)\n",
      "        plt.xlabel('Date', fontsize = 16)\n",
      "        plt.ylabel('Discharge [mm]', fontsize = 16)\n",
      "        \n",
      "        #plt.axis(['2004-01-01','2005-12-31',0,600])\n",
      "        plt.ylim([0,800])\n",
      "        plt.xlim(['2004-12-31','2009-12-31'])\n",
      "        #ax.xticklabel = ['03','04','05','06']\n",
      "        \n",
      "        pdf.savefig()\n",
      "        plt.close()\n",
      "        \n",
      "    d = pdf.infodict()\n",
      "    d['Title'] = prefx+' RHESSys Model Run Discharge Results'\n",
      "    d['Author'] = 'Theodore Barnhart'\n",
      "    d['CreationDate'] = datetime.datetime(2014, 7, 25)\n",
      "    d['ModDate'] = datetime.datetime.today()\n"
     ],
     "language": "python",
     "metadata": {},
     "outputs": [],
     "prompt_number": 22
    },
    {
     "cell_type": "markdown",
     "metadata": {},
     "source": [
      "ok, this looks better. now create a figure of this. "
     ]
    },
    {
     "cell_type": "code",
     "collapsed": false,
     "input": [
      "data.lai"
     ],
     "language": "python",
     "metadata": {},
     "outputs": [
      {
       "metadata": {},
       "output_type": "pyout",
       "prompt_number": 25,
       "text": [
        "foo\n",
        "2004-01-01    0.223376\n",
        "2004-01-02    0.223376\n",
        "2004-01-03    0.223376\n",
        "2004-01-04    0.223376\n",
        "2004-01-05    0.223376\n",
        "2004-01-06    0.223376\n",
        "2004-01-07    0.223376\n",
        "2004-01-08    0.223376\n",
        "2004-01-09    0.223376\n",
        "2004-01-10    0.223376\n",
        "2004-01-11    0.223376\n",
        "2004-01-12    0.223376\n",
        "2004-01-13    0.223376\n",
        "2004-01-14    0.223376\n",
        "2004-01-15    0.223376\n",
        "...\n",
        "2011-09-20    0.223923\n",
        "2011-09-21    0.223881\n",
        "2011-09-22    0.223840\n",
        "2011-09-23    0.223801\n",
        "2011-09-24    0.223764\n",
        "2011-09-25    0.223729\n",
        "2011-09-26    0.223695\n",
        "2011-09-27    0.223663\n",
        "2011-09-28    0.223633\n",
        "2011-09-29    0.223605\n",
        "2011-09-30    0.223578\n",
        "2011-10-01    0.223552\n",
        "2011-10-02    0.223529\n",
        "2011-10-03    0.223507\n",
        "2011-10-04    0.223487\n",
        "Name: lai, Length: 2834"
       ]
      }
     ],
     "prompt_number": 25
    },
    {
     "cell_type": "code",
     "collapsed": false,
     "input": [
      "plt.figure(figsize=(10,10))\n",
      "plt.scatter(gw1,gw2,s = 100, c=objectivefxn)\n",
      "plt.ylabel('GW2', fontsize = 16)\n",
      "plt.xlabel('GW1', fontsize = 16)\n",
      "plt.colorbar()\n",
      "plt.title('GW calibration matrix', fontsize = 22)"
     ],
     "language": "python",
     "metadata": {},
     "outputs": [
      {
       "metadata": {},
       "output_type": "pyout",
       "prompt_number": 24,
       "text": [
        "<matplotlib.text.Text at 0x1138d4cd0>"
       ]
      },
      {
       "metadata": {},
       "output_type": "display_data",
       "png": "[encoded data removed]",
       "text": [
        "<matplotlib.figure.Figure at 0x113874c10>"
       ]
      }
     ],
     "prompt_number": 24
    },
    {
     "cell_type": "code",
     "collapsed": false,
     "input": [
      "objectivefxn"
     ],
     "language": "python",
     "metadata": {},
     "outputs": [
      {
       "metadata": {},
       "output_type": "pyout",
       "prompt_number": 142,
       "text": [
        "array([[-11.04388562],\n",
        "       [ -6.23712075],\n",
        "       [ -5.63986211],\n",
        "       [ -8.09340372],\n",
        "       [ -5.61217373],\n",
        "       [ -5.07765713],\n",
        "       [ -9.83157987],\n",
        "       [ -9.7960767 ],\n",
        "       [ -7.61009109],\n",
        "       [-10.91845067],\n",
        "       [ -8.88813011],\n",
        "       [ -9.55725124],\n",
        "       [-10.75583685],\n",
        "       [ -7.40307798],\n",
        "       [-11.80165191],\n",
        "       [ -5.38756259],\n",
        "       [ -6.71448502],\n",
        "       [ -4.8783359 ],\n",
        "       [ -5.82346081],\n",
        "       [-10.08023888]])"
       ]
      }
     ],
     "prompt_number": 142
    },
    {
     "cell_type": "code",
     "collapsed": false,
     "input": [
      "ind = np.where(objectivefxn == objectivefxn.max())\n",
      "ind = ind[0]"
     ],
     "language": "python",
     "metadata": {},
     "outputs": [],
     "prompt_number": 143
    },
    {
     "cell_type": "code",
     "collapsed": false,
     "input": [
      "objectivefxn[ind]"
     ],
     "language": "python",
     "metadata": {},
     "outputs": [
      {
       "metadata": {},
       "output_type": "pyout",
       "prompt_number": 144,
       "text": [
        "array([[-4.8783359]])"
       ]
      }
     ],
     "prompt_number": 144
    },
    {
     "cell_type": "code",
     "collapsed": false,
     "input": [
      "gw1[ind]"
     ],
     "language": "python",
     "metadata": {},
     "outputs": [
      {
       "metadata": {},
       "output_type": "pyout",
       "prompt_number": 145,
       "text": [
        "array([ 0.27])"
       ]
      }
     ],
     "prompt_number": 145
    },
    {
     "cell_type": "code",
     "collapsed": false,
     "input": [
      "gw2[ind]"
     ],
     "language": "python",
     "metadata": {},
     "outputs": [
      {
       "metadata": {},
       "output_type": "pyout",
       "prompt_number": 146,
       "text": [
        "array([ 0.1])"
       ]
      }
     ],
     "prompt_number": 146
    },
    {
     "cell_type": "code",
     "collapsed": false,
     "input": [
      "files[ind]"
     ],
     "language": "python",
     "metadata": {},
     "outputs": [
      {
       "metadata": {},
       "output_type": "pyout",
       "prompt_number": 147,
       "text": [
        "'/RHESSys/Comocreek/barnhatb/out/cal/cal3_tower_7_basin.daily'"
       ]
      }
     ],
     "prompt_number": 147
    },
    {
     "cell_type": "code",
     "collapsed": false,
     "input": [
      "n = len(dischargeyrs)\n",
      "\n",
      "aveanom = np.zeros([n,1]) # preallocate\n",
      "\n",
      "for i in xrange(0,n):\n",
      "    aveanom[i] = np.mean(obstrain - dischargeyrs[i]) # take the mean of the difference...\n",
      "    "
     ],
     "language": "python",
     "metadata": {},
     "outputs": [
      {
       "ename": "ValueError",
       "evalue": "operands could not be broadcast together with shapes (5,) (4,) ",
       "output_type": "pyerr",
       "traceback": [
        "\u001b[0;31m---------------------------------------------------------------------------\u001b[0m\n\u001b[0;31mValueError\u001b[0m                                Traceback (most recent call last)",
        "\u001b[0;32m<ipython-input-61-acd706ff7628>\u001b[0m in \u001b[0;36m<module>\u001b[0;34m()\u001b[0m\n\u001b[1;32m      4\u001b[0m \u001b[0;34m\u001b[0m\u001b[0m\n\u001b[1;32m      5\u001b[0m \u001b[0;32mfor\u001b[0m \u001b[0mi\u001b[0m \u001b[0;32min\u001b[0m \u001b[0mxrange\u001b[0m\u001b[0;34m(\u001b[0m\u001b[0;36m0\u001b[0m\u001b[0;34m,\u001b[0m\u001b[0mn\u001b[0m\u001b[0;34m)\u001b[0m\u001b[0;34m:\u001b[0m\u001b[0;34m\u001b[0m\u001b[0m\n\u001b[0;32m----> 6\u001b[0;31m     \u001b[0maveanom\u001b[0m\u001b[0;34m[\u001b[0m\u001b[0mi\u001b[0m\u001b[0;34m]\u001b[0m \u001b[0;34m=\u001b[0m \u001b[0mnp\u001b[0m\u001b[0;34m.\u001b[0m\u001b[0mmean\u001b[0m\u001b[0;34m(\u001b[0m\u001b[0mobstrain\u001b[0m \u001b[0;34m-\u001b[0m \u001b[0mdischargeyrs\u001b[0m\u001b[0;34m[\u001b[0m\u001b[0mi\u001b[0m\u001b[0;34m]\u001b[0m\u001b[0;34m)\u001b[0m \u001b[0;31m# take the mean of the difference...\u001b[0m\u001b[0;34m\u001b[0m\u001b[0m\n\u001b[0m\u001b[1;32m      7\u001b[0m \u001b[0;34m\u001b[0m\u001b[0m\n",
        "\u001b[0;32m/Users/barnhatb/anaconda/lib/python2.7/site-packages/pandas/core/ops.pyc\u001b[0m in \u001b[0;36mwrapper\u001b[0;34m(left, right, name)\u001b[0m\n\u001b[1;32m    511\u001b[0m             \u001b[0;32mif\u001b[0m \u001b[0mhasattr\u001b[0m\u001b[0;34m(\u001b[0m\u001b[0mlvalues\u001b[0m\u001b[0;34m,\u001b[0m \u001b[0;34m'values'\u001b[0m\u001b[0;34m)\u001b[0m\u001b[0;34m:\u001b[0m\u001b[0;34m\u001b[0m\u001b[0m\n\u001b[1;32m    512\u001b[0m                 \u001b[0mlvalues\u001b[0m \u001b[0;34m=\u001b[0m \u001b[0mlvalues\u001b[0m\u001b[0;34m.\u001b[0m\u001b[0mvalues\u001b[0m\u001b[0;34m\u001b[0m\u001b[0m\n\u001b[0;32m--> 513\u001b[0;31m             return left._constructor(wrap_results(na_op(lvalues, rvalues)),\n\u001b[0m\u001b[1;32m    514\u001b[0m                                      \u001b[0mindex\u001b[0m\u001b[0;34m=\u001b[0m\u001b[0mleft\u001b[0m\u001b[0;34m.\u001b[0m\u001b[0mindex\u001b[0m\u001b[0;34m,\u001b[0m \u001b[0mname\u001b[0m\u001b[0;34m=\u001b[0m\u001b[0mleft\u001b[0m\u001b[0;34m.\u001b[0m\u001b[0mname\u001b[0m\u001b[0;34m,\u001b[0m\u001b[0;34m\u001b[0m\u001b[0m\n\u001b[1;32m    515\u001b[0m                                      dtype=dtype)\n",
        "\u001b[0;32m/Users/barnhatb/anaconda/lib/python2.7/site-packages/pandas/core/ops.pyc\u001b[0m in \u001b[0;36mna_op\u001b[0;34m(x, y)\u001b[0m\n\u001b[1;32m    450\u001b[0m         \u001b[0;32mtry\u001b[0m\u001b[0;34m:\u001b[0m\u001b[0;34m\u001b[0m\u001b[0m\n\u001b[1;32m    451\u001b[0m             result = expressions.evaluate(op, str_rep, x, y,\n\u001b[0;32m--> 452\u001b[0;31m                                           raise_on_error=True, **eval_kwargs)\n\u001b[0m\u001b[1;32m    453\u001b[0m         \u001b[0;32mexcept\u001b[0m \u001b[0mTypeError\u001b[0m\u001b[0;34m:\u001b[0m\u001b[0;34m\u001b[0m\u001b[0m\n\u001b[1;32m    454\u001b[0m             \u001b[0;32mif\u001b[0m \u001b[0misinstance\u001b[0m\u001b[0;34m(\u001b[0m\u001b[0my\u001b[0m\u001b[0;34m,\u001b[0m \u001b[0;34m(\u001b[0m\u001b[0mpa\u001b[0m\u001b[0;34m.\u001b[0m\u001b[0mArray\u001b[0m\u001b[0;34m,\u001b[0m \u001b[0mpd\u001b[0m\u001b[0;34m.\u001b[0m\u001b[0mSeries\u001b[0m\u001b[0;34m)\u001b[0m\u001b[0;34m)\u001b[0m\u001b[0;34m:\u001b[0m\u001b[0;34m\u001b[0m\u001b[0m\n",
        "\u001b[0;32m/Users/barnhatb/anaconda/lib/python2.7/site-packages/pandas/computation/expressions.pyc\u001b[0m in \u001b[0;36mevaluate\u001b[0;34m(op, op_str, a, b, raise_on_error, use_numexpr, **eval_kwargs)\u001b[0m\n\u001b[1;32m    210\u001b[0m     \u001b[0;32mif\u001b[0m \u001b[0muse_numexpr\u001b[0m\u001b[0;34m:\u001b[0m\u001b[0;34m\u001b[0m\u001b[0m\n\u001b[1;32m    211\u001b[0m         return _evaluate(op, op_str, a, b, raise_on_error=raise_on_error,\n\u001b[0;32m--> 212\u001b[0;31m                          **eval_kwargs)\n\u001b[0m\u001b[1;32m    213\u001b[0m     \u001b[0;32mreturn\u001b[0m \u001b[0m_evaluate_standard\u001b[0m\u001b[0;34m(\u001b[0m\u001b[0mop\u001b[0m\u001b[0;34m,\u001b[0m \u001b[0mop_str\u001b[0m\u001b[0;34m,\u001b[0m \u001b[0ma\u001b[0m\u001b[0;34m,\u001b[0m \u001b[0mb\u001b[0m\u001b[0;34m,\u001b[0m \u001b[0mraise_on_error\u001b[0m\u001b[0;34m=\u001b[0m\u001b[0mraise_on_error\u001b[0m\u001b[0;34m)\u001b[0m\u001b[0;34m\u001b[0m\u001b[0m\n\u001b[1;32m    214\u001b[0m \u001b[0;34m\u001b[0m\u001b[0m\n",
        "\u001b[0;32m/Users/barnhatb/anaconda/lib/python2.7/site-packages/pandas/computation/expressions.pyc\u001b[0m in \u001b[0;36m_evaluate_numexpr\u001b[0;34m(op, op_str, a, b, raise_on_error, truediv, reversed, **eval_kwargs)\u001b[0m\n\u001b[1;32m    121\u001b[0m \u001b[0;34m\u001b[0m\u001b[0m\n\u001b[1;32m    122\u001b[0m     \u001b[0;32mif\u001b[0m \u001b[0mresult\u001b[0m \u001b[0;32mis\u001b[0m \u001b[0mNone\u001b[0m\u001b[0;34m:\u001b[0m\u001b[0;34m\u001b[0m\u001b[0m\n\u001b[0;32m--> 123\u001b[0;31m         \u001b[0mresult\u001b[0m \u001b[0;34m=\u001b[0m \u001b[0m_evaluate_standard\u001b[0m\u001b[0;34m(\u001b[0m\u001b[0mop\u001b[0m\u001b[0;34m,\u001b[0m \u001b[0mop_str\u001b[0m\u001b[0;34m,\u001b[0m \u001b[0ma\u001b[0m\u001b[0;34m,\u001b[0m \u001b[0mb\u001b[0m\u001b[0;34m,\u001b[0m \u001b[0mraise_on_error\u001b[0m\u001b[0;34m)\u001b[0m\u001b[0;34m\u001b[0m\u001b[0m\n\u001b[0m\u001b[1;32m    124\u001b[0m \u001b[0;34m\u001b[0m\u001b[0m\n\u001b[1;32m    125\u001b[0m     \u001b[0;32mreturn\u001b[0m \u001b[0mresult\u001b[0m\u001b[0;34m\u001b[0m\u001b[0m\n",
        "\u001b[0;32m/Users/barnhatb/anaconda/lib/python2.7/site-packages/pandas/computation/expressions.pyc\u001b[0m in \u001b[0;36m_evaluate_standard\u001b[0;34m(op, op_str, a, b, raise_on_error, **eval_kwargs)\u001b[0m\n\u001b[1;32m     63\u001b[0m     \u001b[0;32mif\u001b[0m \u001b[0m_TEST_MODE\u001b[0m\u001b[0;34m:\u001b[0m\u001b[0;34m\u001b[0m\u001b[0m\n\u001b[1;32m     64\u001b[0m         \u001b[0m_store_test_result\u001b[0m\u001b[0;34m(\u001b[0m\u001b[0mFalse\u001b[0m\u001b[0;34m)\u001b[0m\u001b[0;34m\u001b[0m\u001b[0m\n\u001b[0;32m---> 65\u001b[0;31m     \u001b[0;32mreturn\u001b[0m \u001b[0mop\u001b[0m\u001b[0;34m(\u001b[0m\u001b[0ma\u001b[0m\u001b[0;34m,\u001b[0m \u001b[0mb\u001b[0m\u001b[0;34m)\u001b[0m\u001b[0;34m\u001b[0m\u001b[0m\n\u001b[0m\u001b[1;32m     66\u001b[0m \u001b[0;34m\u001b[0m\u001b[0m\n\u001b[1;32m     67\u001b[0m \u001b[0;34m\u001b[0m\u001b[0m\n",
        "\u001b[0;31mValueError\u001b[0m: operands could not be broadcast together with shapes (5,) (4,) "
       ]
      }
     ],
     "prompt_number": 61
    },
    {
     "cell_type": "code",
     "collapsed": true,
     "input": [
      "obstrain"
     ],
     "language": "python",
     "metadata": {},
     "outputs": [
      {
       "metadata": {},
       "output_type": "pyout",
       "prompt_number": 62,
       "text": [
        "2004-12-31    149.607674\n",
        "2005-12-31    233.737337\n",
        "2006-12-31    186.247588\n",
        "2007-12-31    233.142622\n",
        "2008-12-31    161.916938\n",
        "Freq: A-DEC, Name: discharge, dtype: float64"
       ]
      }
     ],
     "prompt_number": 62
    },
    {
     "cell_type": "code",
     "collapsed": false,
     "input": [],
     "language": "python",
     "metadata": {},
     "outputs": []
    },
    {
     "cell_type": "code",
     "collapsed": false,
     "input": [
      "max(aveanom)"
     ],
     "language": "python",
     "metadata": {},
     "outputs": [
      {
       "metadata": {},
       "output_type": "pyout",
       "prompt_number": 165,
       "text": [
        "array([-254.22043947])"
       ]
      }
     ],
     "prompt_number": 165
    },
    {
     "cell_type": "code",
     "collapsed": false,
     "input": [
      "min(aveanom)"
     ],
     "language": "python",
     "metadata": {},
     "outputs": [
      {
       "metadata": {},
       "output_type": "pyout",
       "prompt_number": 166,
       "text": [
        "array([-269.00479147])"
       ]
      }
     ],
     "prompt_number": 166
    },
    {
     "cell_type": "code",
     "collapsed": false,
     "input": [
      "gw1[np.where(aveanom == aveanom.max())[0]]"
     ],
     "language": "python",
     "metadata": {},
     "outputs": [
      {
       "metadata": {},
       "output_type": "pyout",
       "prompt_number": 167,
       "text": [
        "array([ 0.596])"
       ]
      }
     ],
     "prompt_number": 167
    },
    {
     "cell_type": "code",
     "collapsed": false,
     "input": [
      "gw2[np.where(aveanom == aveanom.max())[0]]"
     ],
     "language": "python",
     "metadata": {},
     "outputs": [
      {
       "metadata": {},
       "output_type": "pyout",
       "prompt_number": 168,
       "text": [
        "array([ 0.032])"
       ]
      }
     ],
     "prompt_number": 168
    },
    {
     "cell_type": "markdown",
     "metadata": {},
     "source": [
      "Looks like the gw1 parameter with the lowest average overestimation of flow is with a GW1 parameter close to 1, expanding out past 1..."
     ]
    },
    {
     "cell_type": "code",
     "collapsed": false,
     "input": [
      "plt.scatter(gw1,gw2,s = 100, c=aveanom)\n",
      "plt.ylabel('GW2', fontsize = 16)\n",
      "plt.xlabel('GW1', fontsize = 16)\n",
      "plt.colorbar()\n",
      "plt.title('GW calibration matrix', fontsize = 22)"
     ],
     "language": "python",
     "metadata": {},
     "outputs": [
      {
       "metadata": {},
       "output_type": "pyout",
       "prompt_number": 169,
       "text": [
        "<matplotlib.text.Text at 0x102036a50>"
       ]
      },
      {
       "metadata": {},
       "output_type": "display_data",
       "png": "[encoded data removed]",
       "text": [
        "<matplotlib.figure.Figure at 0x10d89fc10>"
       ]
      }
     ],
     "prompt_number": 169
    },
    {
     "cell_type": "markdown",
     "metadata": {},
     "source": [
      "looks like simulation 7 is the best, but lets check this with a log transformed NSE metric.\n",
      "\n",
      "Also, GW1 is solidly in the middle of the parameter space simulated over. GW2 will continue to be varied as m and k are calibrated."
     ]
    },
    {
     "cell_type": "markdown",
     "metadata": {},
     "source": [
      "# Log Transformed NSE"
     ]
    },
    {
     "cell_type": "code",
     "collapsed": false,
     "input": [
      "obs3 = np.log(obs)\n",
      "\n",
      "obs4 = obs3.groupby(lambda x: x.year).sum() # generate yearly sums\n",
      "\n",
      "obstrain = obs2.discharge[[2004,2005,2007,2009,2011]] # pull out the training years of observations"
     ],
     "language": "python",
     "metadata": {},
     "outputs": [],
     "prompt_number": 25
    },
    {
     "cell_type": "code",
     "collapsed": false,
     "input": [
      "objectivefxn = np.zeros([len(files),1]) # preallocate\n",
      "dischargeyrs = np.zeros([len(files),5]) # preallocate\n",
      "\n",
      "for fl in files:\n",
      "    data = pd.read_table(fl,delim_whitespace=True,\n",
      "                   header='infer', parse_dates={'foo':[2,1,0]}, index_col='foo') # bring in the data\n",
      "    num = int(fl.split('_')[1]) # pull out the run number, this will be used to index the objective function result into the objectivefxn matix\n",
      "    \n",
      "    ## convert mm/d to m3/s\n",
      "    \n",
      "    #streamflow = data.streamflow/(10*100) # convert to m/d\n",
      "    #streamflow = streamflow*area # convert to m3/day\n",
      "    #data['discharge'] = streamflow/(24*60*60) # convert to m3/s\n",
      "    \n",
      "    #plt.plot_date(data.index, data.streamflow, 'k-')\n",
      "    \n",
      "    #del streamflow\n",
      "    data = np.log(data) # log transform\n",
      "    data2 = data.groupby(lambda x: x.year).sum() # compute yearly sums\n",
      "    \n",
      "    simtrain = data2.streamflow[[2004,2005,2007,2009,2011]]\n",
      "    \n",
      "    dischargeyrs[num,:] = simtrain\n",
      "    \n",
      "    objectivefxn[num] = ofx.nashsut(obstrain,simtrain)\n",
      "\n",
      "#    print num\n",
      "#    print objectivefxn[num]\n",
      "#    print data2.streamflow[2004]\n",
      "    \n",
      "#    print fl\n",
      "    \n",
      "#    del data2\n",
      "#    del data\n"
     ],
     "language": "python",
     "metadata": {},
     "outputs": [],
     "prompt_number": 26
    },
    {
     "cell_type": "code",
     "collapsed": false,
     "input": [
      "plt.scatter(gw1,gw2,s = 100, c=objectivefxn)\n",
      "plt.ylabel('GW2', fontsize = 16)\n",
      "plt.xlabel('GW1', fontsize = 16)\n",
      "plt.colorbar()\n",
      "plt.title('Nat Log Transformed GW calibration matrix', fontsize = 22)"
     ],
     "language": "python",
     "metadata": {},
     "outputs": [
      {
       "metadata": {},
       "output_type": "pyout",
       "prompt_number": 27,
       "text": [
        "<matplotlib.text.Text at 0x10a88df50>"
       ]
      },
      {
       "metadata": {},
       "output_type": "display_data",
       "png": "[encoded data removed]",
       "text": [
        "<matplotlib.figure.Figure at 0x109a2fd10>"
       ]
      }
     ],
     "prompt_number": 27
    },
    {
     "cell_type": "code",
     "collapsed": false,
     "input": [
      "len(gw1)\n",
      "min(gw1)\n",
      "max(gw1)"
     ],
     "language": "python",
     "metadata": {},
     "outputs": [
      {
       "metadata": {},
       "output_type": "pyout",
       "prompt_number": 64,
       "text": [
        "0.998"
       ]
      }
     ],
     "prompt_number": 64
    },
    {
     "cell_type": "code",
     "collapsed": false,
     "input": [
      "ind = np.where(objectivefxn == objectivefxn.max())\n",
      "ind = ind[0]"
     ],
     "language": "python",
     "metadata": {},
     "outputs": [],
     "prompt_number": 28
    },
    {
     "cell_type": "code",
     "collapsed": true,
     "input": [
      "objectivefxn[ind]"
     ],
     "language": "python",
     "metadata": {},
     "outputs": [
      {
       "metadata": {},
       "output_type": "pyout",
       "prompt_number": 29,
       "text": [
        "array([[-54.35395535]])"
       ]
      }
     ],
     "prompt_number": 29
    },
    {
     "cell_type": "code",
     "collapsed": false,
     "input": [
      "gw1[ind]"
     ],
     "language": "python",
     "metadata": {},
     "outputs": [
      {
       "metadata": {},
       "output_type": "pyout",
       "prompt_number": 30,
       "text": [
        "array([ 0.286])"
       ]
      }
     ],
     "prompt_number": 30
    },
    {
     "cell_type": "code",
     "collapsed": false,
     "input": [
      "gw2[ind]"
     ],
     "language": "python",
     "metadata": {},
     "outputs": [
      {
       "metadata": {},
       "output_type": "pyout",
       "prompt_number": 31,
       "text": [
        "array([ 0.006])"
       ]
      }
     ],
     "prompt_number": 31
    },
    {
     "cell_type": "code",
     "collapsed": false,
     "input": [
      "files[ind]"
     ],
     "language": "python",
     "metadata": {},
     "outputs": [
      {
       "metadata": {},
       "output_type": "pyout",
       "prompt_number": 32,
       "text": [
        "'./Comocreek/barnhatb/out/cal/cal6_3_basin.daily'"
       ]
      }
     ],
     "prompt_number": 32
    },
    {
     "cell_type": "markdown",
     "metadata": {},
     "source": [
      "Same result as the non-log transformed data. \n",
      "\n",
      "Because the parameter set selected is at the edge of the parameter space simulated over, conduct another set of simulations honing in on the area."
     ]
    }
   ],
   "metadata": {}
  }
 ]
}