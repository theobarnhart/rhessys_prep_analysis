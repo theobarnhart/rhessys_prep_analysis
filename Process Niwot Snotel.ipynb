{
 "cells": [
  {
   "cell_type": "code",
   "execution_count": 1,
   "metadata": {
    "collapsed": true
   },
   "outputs": [],
   "source": [
    "import pandas as pd\n",
    "import numpy as np\n",
    "from rhessys import utilities as rut"
   ]
  },
  {
   "cell_type": "markdown",
   "metadata": {},
   "source": [
    "## File Header:\n",
    " Niwot (663)\n",
    " Colorado  SNOTEL Site - 9910 ft\n",
    " Daily Data for Period of Record\n",
    "\n",
    " (As of: Mon Jul 06 12:41:04 PDT 2015)\n",
    " \n",
    "  **Provisional data, subject to revision**\n",
    "\n",
    "Date,Air Temperature Average (degC),Air Temperature Maximum (degC),Air Temperature Minimum (degC),Precipitation Accumulation (mm),Precipitation Increment (mm),Precipitation Increment - Snow-adj (mm),Snow Depth (cm),Snow Water Equivalent (mm)"
   ]
  },
  {
   "cell_type": "code",
   "execution_count": 2,
   "metadata": {
    "collapsed": true
   },
   "outputs": [],
   "source": [
    "header = ['date','Tave','Tmax','Tmin','AccumP','P','Psnowadj','SD','SWE']"
   ]
  },
  {
   "cell_type": "code",
   "execution_count": 3,
   "metadata": {
    "collapsed": false
   },
   "outputs": [],
   "source": [
    "data = pd.read_csv('./data/SNOTEL/niwot/niwot.csv',skiprows=7,\n",
    "                   header=False,names=header)\n",
    "data.index = pd.DatetimeIndex(data.date)\n",
    "del data['date']"
   ]
  },
  {
   "cell_type": "code",
   "execution_count": 4,
   "metadata": {
    "collapsed": false
   },
   "outputs": [
    {
     "data": {
      "text/html": [
       "<div>\n",
       "<table border=\"1\" class=\"dataframe\">\n",
       "  <thead>\n",
       "    <tr style=\"text-align: right;\">\n",
       "      <th></th>\n",
       "      <th>Tave</th>\n",
       "      <th>Tmax</th>\n",
       "      <th>Tmin</th>\n",
       "      <th>AccumP</th>\n",
       "      <th>P</th>\n",
       "      <th>Psnowadj</th>\n",
       "      <th>SD</th>\n",
       "      <th>SWE</th>\n",
       "    </tr>\n",
       "  </thead>\n",
       "  <tbody>\n",
       "    <tr>\n",
       "      <th>1980-10-01</th>\n",
       "      <td>NaN</td>\n",
       "      <td>NaN</td>\n",
       "      <td>NaN</td>\n",
       "      <td>0</td>\n",
       "      <td>0</td>\n",
       "      <td>0</td>\n",
       "      <td>NaN</td>\n",
       "      <td>0</td>\n",
       "    </tr>\n",
       "    <tr>\n",
       "      <th>1980-10-02</th>\n",
       "      <td>NaN</td>\n",
       "      <td>NaN</td>\n",
       "      <td>NaN</td>\n",
       "      <td>0</td>\n",
       "      <td>0</td>\n",
       "      <td>0</td>\n",
       "      <td>NaN</td>\n",
       "      <td>0</td>\n",
       "    </tr>\n",
       "    <tr>\n",
       "      <th>1980-10-03</th>\n",
       "      <td>NaN</td>\n",
       "      <td>NaN</td>\n",
       "      <td>NaN</td>\n",
       "      <td>0</td>\n",
       "      <td>0</td>\n",
       "      <td>0</td>\n",
       "      <td>NaN</td>\n",
       "      <td>0</td>\n",
       "    </tr>\n",
       "    <tr>\n",
       "      <th>1980-10-04</th>\n",
       "      <td>NaN</td>\n",
       "      <td>NaN</td>\n",
       "      <td>NaN</td>\n",
       "      <td>0</td>\n",
       "      <td>0</td>\n",
       "      <td>0</td>\n",
       "      <td>NaN</td>\n",
       "      <td>0</td>\n",
       "    </tr>\n",
       "    <tr>\n",
       "      <th>1980-10-05</th>\n",
       "      <td>NaN</td>\n",
       "      <td>NaN</td>\n",
       "      <td>NaN</td>\n",
       "      <td>0</td>\n",
       "      <td>0</td>\n",
       "      <td>0</td>\n",
       "      <td>NaN</td>\n",
       "      <td>0</td>\n",
       "    </tr>\n",
       "  </tbody>\n",
       "</table>\n",
       "</div>"
      ],
      "text/plain": [
       "            Tave  Tmax  Tmin  AccumP  P  Psnowadj  SD  SWE\n",
       "1980-10-01   NaN   NaN   NaN       0  0         0 NaN    0\n",
       "1980-10-02   NaN   NaN   NaN       0  0         0 NaN    0\n",
       "1980-10-03   NaN   NaN   NaN       0  0         0 NaN    0\n",
       "1980-10-04   NaN   NaN   NaN       0  0         0 NaN    0\n",
       "1980-10-05   NaN   NaN   NaN       0  0         0 NaN    0"
      ]
     },
     "execution_count": 4,
     "metadata": {},
     "output_type": "execute_result"
    }
   ],
   "source": [
    "data.head()"
   ]
  },
  {
   "cell_type": "markdown",
   "metadata": {},
   "source": [
    "# Compute Snowmelt"
   ]
  },
  {
   "cell_type": "code",
   "execution_count": 5,
   "metadata": {
    "collapsed": true
   },
   "outputs": [],
   "source": [
    "# compute snowmelt\n",
    "sn1 = data.SWE.as_matrix()[:-1] # grab the first through the 2nd to last measurement\n",
    "sn2 = data.SWE.as_matrix()[1:] # grab the second through the last measurement\n",
    "\n",
    "sm = sn1-sn2 # compute melt\n",
    "# add a nan to the end to shift the snowmelt to the correct position in the timeseries\n",
    "sm = np.concatenate([sm,[np.NaN]],axis=1) \n",
    "\n",
    "data['snowmelt'] = sm # put the time series in the data frame"
   ]
  },
  {
   "cell_type": "markdown",
   "metadata": {},
   "source": [
    "## Shift the temp data up so that it cooresponds to the day it was collected"
   ]
  },
  {
   "cell_type": "code",
   "execution_count": 6,
   "metadata": {
    "collapsed": true
   },
   "outputs": [],
   "source": [
    "header = list(data.columns)"
   ]
  },
  {
   "cell_type": "code",
   "execution_count": 7,
   "metadata": {
    "collapsed": false
   },
   "outputs": [],
   "source": [
    "tmp = pd.DataFrame(columns=header,index=[(data.index[0]-pd.datetools.timedelta(1))])"
   ]
  },
  {
   "cell_type": "code",
   "execution_count": 8,
   "metadata": {
    "collapsed": false
   },
   "outputs": [],
   "source": [
    "data = pd.concat([tmp,data])"
   ]
  },
  {
   "cell_type": "code",
   "execution_count": 9,
   "metadata": {
    "collapsed": true
   },
   "outputs": [],
   "source": [
    "cols = ['Tave','Tmin','Tmax']\n",
    "\n",
    "for col in cols:\n",
    "    data.ix[0:-1,col] = data.ix[1:,col] # scoot up the time series\n",
    "    data.ix[-1,col] = np.NaN # make the last value nan"
   ]
  },
  {
   "cell_type": "markdown",
   "metadata": {},
   "source": [
    "## Compute the Water Year and Day of Water Year"
   ]
  },
  {
   "cell_type": "code",
   "execution_count": 10,
   "metadata": {
    "collapsed": true
   },
   "outputs": [],
   "source": [
    "data['wateryear'] = data.index.map(rut.wateryear)\n",
    "data['dowy'] = data.index.map(rut.DOWY)"
   ]
  },
  {
   "cell_type": "markdown",
   "metadata": {},
   "source": [
    "## Save the Data"
   ]
  },
  {
   "cell_type": "code",
   "execution_count": 13,
   "metadata": {
    "collapsed": true
   },
   "outputs": [],
   "source": [
    "data.to_pickle('./data/niwot_new.pcl')"
   ]
  }
 ],
 "metadata": {
  "kernelspec": {
   "display_name": "Python 2",
   "language": "python",
   "name": "python2"
  },
  "language_info": {
   "codemirror_mode": {
    "name": "ipython",
    "version": 2
   },
   "file_extension": ".py",
   "mimetype": "text/x-python",
   "name": "python",
   "nbconvert_exporter": "python",
   "pygments_lexer": "ipython2",
   "version": "2.7.11"
  }
 },
 "nbformat": 4,
 "nbformat_minor": 0
}
