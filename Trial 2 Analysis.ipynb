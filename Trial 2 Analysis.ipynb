{
 "metadata": {
  "name": "",
  "signature": "sha256:877411e35c42cef380a3e39869008b4fa89e343f70183e2a42010921c008bf6d"
 },
 "nbformat": 3,
 "nbformat_minor": 0,
 "worksheets": [
  {
   "cells": [
    {
     "cell_type": "code",
     "collapsed": false,
     "input": [
      "%matplotlib inline\n",
      "import numpy as np\n",
      "import pandas as pd\n",
      "import pylab\n",
      "import matplotlib.pyplot as plt\n",
      "import scipy as sp"
     ],
     "language": "python",
     "metadata": {},
     "outputs": [],
     "prompt_number": 7
    },
    {
     "cell_type": "code",
     "collapsed": false,
     "input": [
      "dd = pd.read_table('./Comocreek/barnhatb/out/_basin.daily',delim_whitespace=True,\n",
      "                   header='infer', parse_dates={'foo':[2,1,0]}, index_col='foo')"
     ],
     "language": "python",
     "metadata": {},
     "outputs": [],
     "prompt_number": 8
    },
    {
     "cell_type": "code",
     "collapsed": false,
     "input": [
      "dd.routedstreamflow"
     ],
     "language": "python",
     "metadata": {},
     "outputs": [
      {
       "metadata": {},
       "output_type": "pyout",
       "prompt_number": 9,
       "text": [
        "foo\n",
        "2003-12-31    0\n",
        "Name: routedstreamflow, dtype: float64"
       ]
      }
     ],
     "prompt_number": 9
    },
    {
     "cell_type": "code",
     "collapsed": false,
     "input": [
      "dd.describe()"
     ],
     "language": "python",
     "metadata": {},
     "outputs": [
      {
       "html": [
        "<div style=\"max-height:1000px;max-width:1500px;overflow:auto;\">\n",
        "<table border=\"1\" class=\"dataframe\">\n",
        "  <thead>\n",
        "    <tr style=\"text-align: right;\">\n",
        "      <th></th>\n",
        "      <th>basinID</th>\n",
        "      <th>pot_surface_infil</th>\n",
        "      <th>snow_thr</th>\n",
        "      <th>sat_def_z</th>\n",
        "      <th>sat_def</th>\n",
        "      <th>rz_storage</th>\n",
        "      <th>unsat_stor</th>\n",
        "      <th>rz_drainage</th>\n",
        "      <th>unsat_drain</th>\n",
        "      <th>cap</th>\n",
        "      <th>evap</th>\n",
        "      <th>snowpack</th>\n",
        "      <th>trans</th>\n",
        "      <th>baseflow</th>\n",
        "      <th>return</th>\n",
        "      <th>streamflow</th>\n",
        "      <th>psn</th>\n",
        "      <th>lai</th>\n",
        "      <th>gw.Qout</th>\n",
        "      <th>gw.storage</th>\n",
        "      <th></th>\n",
        "    </tr>\n",
        "  </thead>\n",
        "  <tbody>\n",
        "    <tr>\n",
        "      <th>count</th>\n",
        "      <td>  1</td>\n",
        "      <td>  1</td>\n",
        "      <td>  1</td>\n",
        "      <td>    1.000000</td>\n",
        "      <td>   1.000000</td>\n",
        "      <td>   1.00000</td>\n",
        "      <td>  1.000000</td>\n",
        "      <td> 1.000000</td>\n",
        "      <td> 1.000000</td>\n",
        "      <td> 1.000000</td>\n",
        "      <td> 1.000000</td>\n",
        "      <td>   1.000000</td>\n",
        "      <td>  1</td>\n",
        "      <td> 1.000000</td>\n",
        "      <td> 1.000000</td>\n",
        "      <td> 1.000000</td>\n",
        "      <td>  1</td>\n",
        "      <td>  1</td>\n",
        "      <td>  1</td>\n",
        "      <td>  1</td>\n",
        "      <td>...</td>\n",
        "    </tr>\n",
        "    <tr>\n",
        "      <th>mean</th>\n",
        "      <td>  1</td>\n",
        "      <td>  0</td>\n",
        "      <td>  0</td>\n",
        "      <td> 1037.747523</td>\n",
        "      <td> 451.420173</td>\n",
        "      <td> 208.54478</td>\n",
        "      <td> 73.761621</td>\n",
        "      <td> 7.167212</td>\n",
        "      <td> 5.771662</td>\n",
        "      <td> 0.000016</td>\n",
        "      <td> 0.002151</td>\n",
        "      <td> 743.902847</td>\n",
        "      <td>  0</td>\n",
        "      <td> 0.123482</td>\n",
        "      <td> 6.276517</td>\n",
        "      <td> 6.399998</td>\n",
        "      <td>  0</td>\n",
        "      <td>  0</td>\n",
        "      <td>  0</td>\n",
        "      <td>  0</td>\n",
        "      <td>...</td>\n",
        "    </tr>\n",
        "    <tr>\n",
        "      <th>std</th>\n",
        "      <td>NaN</td>\n",
        "      <td>NaN</td>\n",
        "      <td>NaN</td>\n",
        "      <td>         NaN</td>\n",
        "      <td>        NaN</td>\n",
        "      <td>       NaN</td>\n",
        "      <td>       NaN</td>\n",
        "      <td>      NaN</td>\n",
        "      <td>      NaN</td>\n",
        "      <td>      NaN</td>\n",
        "      <td>      NaN</td>\n",
        "      <td>        NaN</td>\n",
        "      <td>NaN</td>\n",
        "      <td>      NaN</td>\n",
        "      <td>      NaN</td>\n",
        "      <td>      NaN</td>\n",
        "      <td>NaN</td>\n",
        "      <td>NaN</td>\n",
        "      <td>NaN</td>\n",
        "      <td>NaN</td>\n",
        "      <td>...</td>\n",
        "    </tr>\n",
        "    <tr>\n",
        "      <th>min</th>\n",
        "      <td>  1</td>\n",
        "      <td>  0</td>\n",
        "      <td>  0</td>\n",
        "      <td> 1037.747523</td>\n",
        "      <td> 451.420173</td>\n",
        "      <td> 208.54478</td>\n",
        "      <td> 73.761621</td>\n",
        "      <td> 7.167212</td>\n",
        "      <td> 5.771662</td>\n",
        "      <td> 0.000016</td>\n",
        "      <td> 0.002151</td>\n",
        "      <td> 743.902847</td>\n",
        "      <td>  0</td>\n",
        "      <td> 0.123482</td>\n",
        "      <td> 6.276517</td>\n",
        "      <td> 6.399998</td>\n",
        "      <td>  0</td>\n",
        "      <td>  0</td>\n",
        "      <td>  0</td>\n",
        "      <td>  0</td>\n",
        "      <td>...</td>\n",
        "    </tr>\n",
        "    <tr>\n",
        "      <th>25%</th>\n",
        "      <td>  1</td>\n",
        "      <td>  0</td>\n",
        "      <td>  0</td>\n",
        "      <td> 1037.747523</td>\n",
        "      <td> 451.420173</td>\n",
        "      <td> 208.54478</td>\n",
        "      <td> 73.761621</td>\n",
        "      <td> 7.167212</td>\n",
        "      <td> 5.771662</td>\n",
        "      <td> 0.000016</td>\n",
        "      <td> 0.002151</td>\n",
        "      <td> 743.902847</td>\n",
        "      <td>  0</td>\n",
        "      <td> 0.123482</td>\n",
        "      <td> 6.276517</td>\n",
        "      <td> 6.399998</td>\n",
        "      <td>  0</td>\n",
        "      <td>  0</td>\n",
        "      <td>  0</td>\n",
        "      <td>  0</td>\n",
        "      <td>...</td>\n",
        "    </tr>\n",
        "    <tr>\n",
        "      <th>50%</th>\n",
        "      <td>  1</td>\n",
        "      <td>  0</td>\n",
        "      <td>  0</td>\n",
        "      <td> 1037.747523</td>\n",
        "      <td> 451.420173</td>\n",
        "      <td> 208.54478</td>\n",
        "      <td> 73.761621</td>\n",
        "      <td> 7.167212</td>\n",
        "      <td> 5.771662</td>\n",
        "      <td> 0.000016</td>\n",
        "      <td> 0.002151</td>\n",
        "      <td> 743.902847</td>\n",
        "      <td>  0</td>\n",
        "      <td> 0.123482</td>\n",
        "      <td> 6.276517</td>\n",
        "      <td> 6.399998</td>\n",
        "      <td>  0</td>\n",
        "      <td>  0</td>\n",
        "      <td>  0</td>\n",
        "      <td>  0</td>\n",
        "      <td>...</td>\n",
        "    </tr>\n",
        "    <tr>\n",
        "      <th>75%</th>\n",
        "      <td>  1</td>\n",
        "      <td>  0</td>\n",
        "      <td>  0</td>\n",
        "      <td> 1037.747523</td>\n",
        "      <td> 451.420173</td>\n",
        "      <td> 208.54478</td>\n",
        "      <td> 73.761621</td>\n",
        "      <td> 7.167212</td>\n",
        "      <td> 5.771662</td>\n",
        "      <td> 0.000016</td>\n",
        "      <td> 0.002151</td>\n",
        "      <td> 743.902847</td>\n",
        "      <td>  0</td>\n",
        "      <td> 0.123482</td>\n",
        "      <td> 6.276517</td>\n",
        "      <td> 6.399998</td>\n",
        "      <td>  0</td>\n",
        "      <td>  0</td>\n",
        "      <td>  0</td>\n",
        "      <td>  0</td>\n",
        "      <td>...</td>\n",
        "    </tr>\n",
        "    <tr>\n",
        "      <th>max</th>\n",
        "      <td>  1</td>\n",
        "      <td>  0</td>\n",
        "      <td>  0</td>\n",
        "      <td> 1037.747523</td>\n",
        "      <td> 451.420173</td>\n",
        "      <td> 208.54478</td>\n",
        "      <td> 73.761621</td>\n",
        "      <td> 7.167212</td>\n",
        "      <td> 5.771662</td>\n",
        "      <td> 0.000016</td>\n",
        "      <td> 0.002151</td>\n",
        "      <td> 743.902847</td>\n",
        "      <td>  0</td>\n",
        "      <td> 0.123482</td>\n",
        "      <td> 6.276517</td>\n",
        "      <td> 6.399998</td>\n",
        "      <td>  0</td>\n",
        "      <td>  0</td>\n",
        "      <td>  0</td>\n",
        "      <td>  0</td>\n",
        "      <td>...</td>\n",
        "    </tr>\n",
        "  </tbody>\n",
        "</table>\n",
        "<p>8 rows \u00d7 37 columns</p>\n",
        "</div>"
       ],
       "metadata": {},
       "output_type": "pyout",
       "prompt_number": 10,
       "text": [
        "       basinID  pot_surface_infil  snow_thr    sat_def_z     sat_def  \\\n",
        "count        1                  1         1     1.000000    1.000000   \n",
        "mean         1                  0         0  1037.747523  451.420173   \n",
        "std        NaN                NaN       NaN          NaN         NaN   \n",
        "min          1                  0         0  1037.747523  451.420173   \n",
        "25%          1                  0         0  1037.747523  451.420173   \n",
        "50%          1                  0         0  1037.747523  451.420173   \n",
        "75%          1                  0         0  1037.747523  451.420173   \n",
        "max          1                  0         0  1037.747523  451.420173   \n",
        "\n",
        "       rz_storage  unsat_stor  rz_drainage  unsat_drain       cap      evap  \\\n",
        "count     1.00000    1.000000     1.000000     1.000000  1.000000  1.000000   \n",
        "mean    208.54478   73.761621     7.167212     5.771662  0.000016  0.002151   \n",
        "std           NaN         NaN          NaN          NaN       NaN       NaN   \n",
        "min     208.54478   73.761621     7.167212     5.771662  0.000016  0.002151   \n",
        "25%     208.54478   73.761621     7.167212     5.771662  0.000016  0.002151   \n",
        "50%     208.54478   73.761621     7.167212     5.771662  0.000016  0.002151   \n",
        "75%     208.54478   73.761621     7.167212     5.771662  0.000016  0.002151   \n",
        "max     208.54478   73.761621     7.167212     5.771662  0.000016  0.002151   \n",
        "\n",
        "         snowpack  trans  baseflow    return  streamflow  psn  lai  gw.Qout  \\\n",
        "count    1.000000      1  1.000000  1.000000    1.000000    1    1        1   \n",
        "mean   743.902847      0  0.123482  6.276517    6.399998    0    0        0   \n",
        "std           NaN    NaN       NaN       NaN         NaN  NaN  NaN      NaN   \n",
        "min    743.902847      0  0.123482  6.276517    6.399998    0    0        0   \n",
        "25%    743.902847      0  0.123482  6.276517    6.399998    0    0        0   \n",
        "50%    743.902847      0  0.123482  6.276517    6.399998    0    0        0   \n",
        "75%    743.902847      0  0.123482  6.276517    6.399998    0    0        0   \n",
        "max    743.902847      0  0.123482  6.276517    6.399998    0    0        0   \n",
        "\n",
        "       gw.storage      \n",
        "count           1 ...  \n",
        "mean            0 ...  \n",
        "std           NaN ...  \n",
        "min             0 ...  \n",
        "25%             0 ...  \n",
        "50%             0 ...  \n",
        "75%             0 ...  \n",
        "max             0 ...  \n",
        "\n",
        "[8 rows x 37 columns]"
       ]
      }
     ],
     "prompt_number": 10
    },
    {
     "cell_type": "code",
     "collapsed": false,
     "input": [
      "obs = pd.read_csv('./Comocreek/barnhatb/obs/como_discharge_real.csv', sep=',', header='infer')              "
     ],
     "language": "python",
     "metadata": {},
     "outputs": [],
     "prompt_number": 11
    },
    {
     "cell_type": "code",
     "collapsed": false,
     "input": [
      "obs.index = pd.date_range(start='2004-01-01',freq='D', periods = len(obs.q_liter_per_day))"
     ],
     "language": "python",
     "metadata": {},
     "outputs": [],
     "prompt_number": 12
    },
    {
     "cell_type": "code",
     "collapsed": false,
     "input": [
      "obs.head()"
     ],
     "language": "python",
     "metadata": {},
     "outputs": [
      {
       "html": [
        "<div style=\"max-height:1000px;max-width:1500px;overflow:auto;\">\n",
        "<table border=\"1\" class=\"dataframe\">\n",
        "  <thead>\n",
        "    <tr style=\"text-align: right;\">\n",
        "      <th></th>\n",
        "      <th>year</th>\n",
        "      <th>doy</th>\n",
        "      <th>q_liter_per_day</th>\n",
        "    </tr>\n",
        "  </thead>\n",
        "  <tbody>\n",
        "    <tr>\n",
        "      <th>2004-01-01</th>\n",
        "      <td> 2004</td>\n",
        "      <td> 1</td>\n",
        "      <td> 259200</td>\n",
        "    </tr>\n",
        "    <tr>\n",
        "      <th>2004-01-02</th>\n",
        "      <td> 2004</td>\n",
        "      <td> 2</td>\n",
        "      <td> 259200</td>\n",
        "    </tr>\n",
        "    <tr>\n",
        "      <th>2004-01-03</th>\n",
        "      <td> 2004</td>\n",
        "      <td> 3</td>\n",
        "      <td> 259200</td>\n",
        "    </tr>\n",
        "    <tr>\n",
        "      <th>2004-01-04</th>\n",
        "      <td> 2004</td>\n",
        "      <td> 4</td>\n",
        "      <td> 259200</td>\n",
        "    </tr>\n",
        "    <tr>\n",
        "      <th>2004-01-05</th>\n",
        "      <td> 2004</td>\n",
        "      <td> 5</td>\n",
        "      <td> 259200</td>\n",
        "    </tr>\n",
        "  </tbody>\n",
        "</table>\n",
        "<p>5 rows \u00d7 3 columns</p>\n",
        "</div>"
       ],
       "metadata": {},
       "output_type": "pyout",
       "prompt_number": 13,
       "text": [
        "            year  doy  q_liter_per_day\n",
        "2004-01-01  2004    1           259200\n",
        "2004-01-02  2004    2           259200\n",
        "2004-01-03  2004    3           259200\n",
        "2004-01-04  2004    4           259200\n",
        "2004-01-05  2004    5           259200\n",
        "\n",
        "[5 rows x 3 columns]"
       ]
      }
     ],
     "prompt_number": 13
    },
    {
     "cell_type": "code",
     "collapsed": false,
     "input": [
      "obs.tail()"
     ],
     "language": "python",
     "metadata": {},
     "outputs": [
      {
       "html": [
        "<div style=\"max-height:1000px;max-width:1500px;overflow:auto;\">\n",
        "<table border=\"1\" class=\"dataframe\">\n",
        "  <thead>\n",
        "    <tr style=\"text-align: right;\">\n",
        "      <th></th>\n",
        "      <th>year</th>\n",
        "      <th>doy</th>\n",
        "      <th>q_liter_per_day</th>\n",
        "    </tr>\n",
        "  </thead>\n",
        "  <tbody>\n",
        "    <tr>\n",
        "      <th>2011-12-27</th>\n",
        "      <td> 2011</td>\n",
        "      <td> 361</td>\n",
        "      <td> 259200</td>\n",
        "    </tr>\n",
        "    <tr>\n",
        "      <th>2011-12-28</th>\n",
        "      <td> 2011</td>\n",
        "      <td> 362</td>\n",
        "      <td> 259200</td>\n",
        "    </tr>\n",
        "    <tr>\n",
        "      <th>2011-12-29</th>\n",
        "      <td> 2011</td>\n",
        "      <td> 363</td>\n",
        "      <td> 259200</td>\n",
        "    </tr>\n",
        "    <tr>\n",
        "      <th>2011-12-30</th>\n",
        "      <td> 2011</td>\n",
        "      <td> 364</td>\n",
        "      <td> 259200</td>\n",
        "    </tr>\n",
        "    <tr>\n",
        "      <th>2011-12-31</th>\n",
        "      <td> 2011</td>\n",
        "      <td> 365</td>\n",
        "      <td> 259200</td>\n",
        "    </tr>\n",
        "  </tbody>\n",
        "</table>\n",
        "<p>5 rows \u00d7 3 columns</p>\n",
        "</div>"
       ],
       "metadata": {},
       "output_type": "pyout",
       "prompt_number": 14,
       "text": [
        "            year  doy  q_liter_per_day\n",
        "2011-12-27  2011  361           259200\n",
        "2011-12-28  2011  362           259200\n",
        "2011-12-29  2011  363           259200\n",
        "2011-12-30  2011  364           259200\n",
        "2011-12-31  2011  365           259200\n",
        "\n",
        "[5 rows x 3 columns]"
       ]
      }
     ],
     "prompt_number": 14
    },
    {
     "cell_type": "code",
     "collapsed": false,
     "input": [
      "obs = obs.drop(['year','doy'], axis = 1)"
     ],
     "language": "python",
     "metadata": {},
     "outputs": [],
     "prompt_number": 15
    },
    {
     "cell_type": "code",
     "collapsed": false,
     "input": [
      "obs.describe()"
     ],
     "language": "python",
     "metadata": {},
     "outputs": [
      {
       "html": [
        "<div style=\"max-height:1000px;max-width:1500px;overflow:auto;\">\n",
        "<table border=\"1\" class=\"dataframe\">\n",
        "  <thead>\n",
        "    <tr style=\"text-align: right;\">\n",
        "      <th></th>\n",
        "      <th>q_liter_per_day</th>\n",
        "    </tr>\n",
        "  </thead>\n",
        "  <tbody>\n",
        "    <tr>\n",
        "      <th>count</th>\n",
        "      <td>     2922.000000</td>\n",
        "    </tr>\n",
        "    <tr>\n",
        "      <th>mean</th>\n",
        "      <td>  3021355.028692</td>\n",
        "    </tr>\n",
        "    <tr>\n",
        "      <th>std</th>\n",
        "      <td>  6340176.144092</td>\n",
        "    </tr>\n",
        "    <tr>\n",
        "      <th>min</th>\n",
        "      <td>    10970.630440</td>\n",
        "    </tr>\n",
        "    <tr>\n",
        "      <th>25%</th>\n",
        "      <td>   259200.000000</td>\n",
        "    </tr>\n",
        "    <tr>\n",
        "      <th>50%</th>\n",
        "      <td>   259200.000000</td>\n",
        "    </tr>\n",
        "    <tr>\n",
        "      <th>75%</th>\n",
        "      <td>  2046077.712000</td>\n",
        "    </tr>\n",
        "    <tr>\n",
        "      <th>max</th>\n",
        "      <td> 46573636.970000</td>\n",
        "    </tr>\n",
        "  </tbody>\n",
        "</table>\n",
        "<p>8 rows \u00d7 1 columns</p>\n",
        "</div>"
       ],
       "metadata": {},
       "output_type": "pyout",
       "prompt_number": 16,
       "text": [
        "       q_liter_per_day\n",
        "count      2922.000000\n",
        "mean    3021355.028692\n",
        "std     6340176.144092\n",
        "min       10970.630440\n",
        "25%      259200.000000\n",
        "50%      259200.000000\n",
        "75%     2046077.712000\n",
        "max    46573636.970000\n",
        "\n",
        "[8 rows x 1 columns]"
       ]
      }
     ],
     "prompt_number": 16
    },
    {
     "cell_type": "markdown",
     "metadata": {},
     "source": [
      "# Convert Observed Streamflow from L/d to m$^3$/s"
     ]
    },
    {
     "cell_type": "code",
     "collapsed": false,
     "input": [
      "streamflow = obs.q_liter_per_day"
     ],
     "language": "python",
     "metadata": {},
     "outputs": [],
     "prompt_number": 17
    },
    {
     "cell_type": "code",
     "collapsed": false,
     "input": [
      "streamflow = streamflow*0.001 # convert to m3/d"
     ],
     "language": "python",
     "metadata": {},
     "outputs": [],
     "prompt_number": 18
    },
    {
     "cell_type": "code",
     "collapsed": false,
     "input": [
      "obs['discharge'] = streamflow/(24*60*60)"
     ],
     "language": "python",
     "metadata": {},
     "outputs": [],
     "prompt_number": 19
    },
    {
     "cell_type": "code",
     "collapsed": false,
     "input": [
      "del streamflow"
     ],
     "language": "python",
     "metadata": {},
     "outputs": [],
     "prompt_number": 20
    },
    {
     "cell_type": "markdown",
     "metadata": {},
     "source": [
      "# Convert Simulated Streamflow from mm/d to m$^3$/s"
     ]
    },
    {
     "cell_type": "code",
     "collapsed": false,
     "input": [
      "area = 4186300 # m^2"
     ],
     "language": "python",
     "metadata": {},
     "outputs": [],
     "prompt_number": 21
    },
    {
     "cell_type": "code",
     "collapsed": false,
     "input": [
      "streamflow = dd.streamflow/(10*100) # convert to m/d"
     ],
     "language": "python",
     "metadata": {},
     "outputs": [],
     "prompt_number": 22
    },
    {
     "cell_type": "code",
     "collapsed": false,
     "input": [
      "streamflow = streamflow*area # convert to m3/day"
     ],
     "language": "python",
     "metadata": {},
     "outputs": [],
     "prompt_number": 23
    },
    {
     "cell_type": "code",
     "collapsed": false,
     "input": [
      "dd['discharge'] = streamflow/(24*60*60) # convert to m3/s"
     ],
     "language": "python",
     "metadata": {},
     "outputs": [],
     "prompt_number": 24
    },
    {
     "cell_type": "code",
     "collapsed": false,
     "input": [
      "del streamflow"
     ],
     "language": "python",
     "metadata": {},
     "outputs": [],
     "prompt_number": 25
    },
    {
     "cell_type": "markdown",
     "metadata": {},
     "source": [
      "# Plot The Data"
     ]
    },
    {
     "cell_type": "code",
     "collapsed": false,
     "input": [
      "pylab.rcParams['figure.figsize'] = (22.0, 11.0)"
     ],
     "language": "python",
     "metadata": {},
     "outputs": [],
     "prompt_number": 26
    },
    {
     "cell_type": "code",
     "collapsed": false,
     "input": [
      "plt.subplot(2,1,1)\n",
      "\n",
      "p1, = plt.plot(dd.index, dd.discharge, 'b-')\n",
      "plt.title('Como Creek, CO RHESSys Simulation', fontsize = 20)\n",
      "plt.ylabel('Discharge [m$^3$/s]', fontsize = 18)\n",
      "\n",
      "plt.subplot(2,1,2)\n",
      "\n",
      "p2, = plt.plot(obs.index, obs.discharge, 'k-')\n",
      "plt.xlim(['2004-01-01','2011-12-30'])\n",
      "plt.title('Como Creek, CO Observations', fontsize = 20)\n",
      "plt.ylabel('Discharge [m$^3$/s]', fontsize = 18)\n",
      "\n",
      "plt.savefig('./Comocreek/barnhatb/figures/trial_2_simualted.png',width = 10, heigh= 6.5)"
     ],
     "language": "python",
     "metadata": {},
     "outputs": [
      {
       "metadata": {},
       "output_type": "display_data",
       "png": "[encoded data removed]",
       "text": [
        "<matplotlib.figure.Figure at 0x108d12f50>"
       ]
      }
     ],
     "prompt_number": 27
    },
    {
     "cell_type": "code",
     "collapsed": false,
     "input": [
      "\n",
      "plt.savefig('./Comocreek/barnhatb/figures/trial_2_obs.png',width = 6, heigh= 5)"
     ],
     "language": "python",
     "metadata": {},
     "outputs": [
      {
       "metadata": {},
       "output_type": "display_data",
       "text": [
        "<matplotlib.figure.Figure at 0x108e13890>"
       ]
      }
     ],
     "prompt_number": 87
    },
    {
     "cell_type": "markdown",
     "metadata": {},
     "source": [
      "# Compute the Nash-Sutcliff"
     ]
    },
    {
     "cell_type": "code",
     "collapsed": false,
     "input": [
      "def nashsut(observed,simulated):\n",
      "    import numpy as np\n",
      "    import pandas as pd\n",
      "    \n",
      "    NSE = 1. - (np.sum((observed - simulated)**2)/\n",
      "               np.sum((observed - np.mean(observed))**2))\n",
      "    return NSE"
     ],
     "language": "python",
     "metadata": {},
     "outputs": [],
     "prompt_number": 65
    },
    {
     "cell_type": "code",
     "collapsed": false,
     "input": [
      "def RMSE(observed,simulated):\n",
      "    import numpy as np\n",
      "    import pandas as pd\n",
      "    \n",
      "    n = len(observed)\n",
      "    nn = len(simulated)\n",
      "    \n",
      "    if n != nn:\n",
      "        print 'Observed and simulated data sets are not the same length. Observed: '+str(n)+', Simulated: '+str(nn)\n",
      "        return None\n",
      "    del nn\n",
      "    \n",
      "    rmse = np.sqrt((1./n)*np.sum((observed-simulated)**2))\n",
      "    return rmse"
     ],
     "language": "python",
     "metadata": {},
     "outputs": [],
     "prompt_number": 66
    },
    {
     "cell_type": "code",
     "collapsed": false,
     "input": [
      "obs = obs[obs.index <= '2010-12-30']"
     ],
     "language": "python",
     "metadata": {},
     "outputs": [],
     "prompt_number": 73
    },
    {
     "cell_type": "code",
     "collapsed": false,
     "input": [
      "nashsut(obs.discharge,dd.discharge)"
     ],
     "language": "python",
     "metadata": {},
     "outputs": [
      {
       "metadata": {},
       "output_type": "pyout",
       "prompt_number": 68,
       "text": [
        "-20073.032232469221"
       ]
      }
     ],
     "prompt_number": 68
    },
    {
     "cell_type": "code",
     "collapsed": false,
     "input": [
      "RMSE(obs.discharge,dd.discharge)"
     ],
     "language": "python",
     "metadata": {},
     "outputs": [
      {
       "metadata": {},
       "output_type": "pyout",
       "prompt_number": 69,
       "text": [
        "9.1734906893469663"
       ]
      }
     ],
     "prompt_number": 69
    },
    {
     "cell_type": "code",
     "collapsed": false,
     "input": [
      "sp.stats.pearsonr(obs.discharge, dd.discharge)"
     ],
     "language": "python",
     "metadata": {},
     "outputs": [
      {
       "metadata": {},
       "output_type": "pyout",
       "prompt_number": 78,
       "text": [
        "(0.25212227556321165, 2.3483926399397285e-38)"
       ]
      }
     ],
     "prompt_number": 78
    },
    {
     "cell_type": "markdown",
     "metadata": {},
     "source": [
      "# Compute the water balance!"
     ]
    },
    {
     "cell_type": "code",
     "collapsed": false,
     "input": [
      "dd.columns"
     ],
     "language": "python",
     "metadata": {},
     "outputs": [
      {
       "metadata": {},
       "output_type": "pyout",
       "prompt_number": 80,
       "text": [
        "Index([u'basinID', u'pot_surface_infil', u'snow_thr', u'sat_def_z', u'sat_def', u'rz_storage', u'unsat_stor', u'rz_drainage', u'unsat_drain', u'cap', u'evap', u'snowpack', u'trans', u'baseflow', u'return', u'streamflow', u'psn', u'lai', u'gw.Qout', u'gw.storage', u'detention_store', u'%sat_area', u'litter_store', u'canopy_store', u'%snow_cover', u'snow_subl', u'trans_var', u'acc_trans', u'acctransv_var', u'pet', u'dC13', u'precip', u'mortf', u'tmax', u'tmin', u'snowfall', u'routedstreamflow', u'discharge'], dtype='object')"
       ]
      }
     ],
     "prompt_number": 80
    },
    {
     "cell_type": "code",
     "collapsed": false,
     "input": [
      "dd['et'] = np.sum([dd.evap,dd.trans],axis=0)"
     ],
     "language": "python",
     "metadata": {},
     "outputs": [],
     "prompt_number": 100
    },
    {
     "cell_type": "code",
     "collapsed": false,
     "input": [
      "qstar = dd.precip-dd.et\n",
      "plt.plot(dd.streamflow, qstar, '.b')"
     ],
     "language": "python",
     "metadata": {},
     "outputs": [
      {
       "metadata": {},
       "output_type": "pyout",
       "prompt_number": 104,
       "text": [
        "[<matplotlib.lines.Line2D at 0x110c63350>]"
       ]
      },
      {
       "metadata": {},
       "output_type": "display_data",
       "png": "[encoded data removed]",
       "text": [
        "<matplotlib.figure.Figure at 0x10f0ca810>"
       ]
      }
     ],
     "prompt_number": 104
    },
    {
     "cell_type": "code",
     "collapsed": false,
     "input": [
      "ET = dd.et.sum()\n",
      "Q = dd.streamflow.sum()\n",
      "P = dd.precip.sum()\n",
      "\n",
      "Qstar = P-ET\n",
      "\n",
      "print Q\n",
      "print Qstar"
     ],
     "language": "python",
     "metadata": {},
     "outputs": [
      {
       "output_type": "stream",
       "stream": "stdout",
       "text": [
        "188131.770223\n",
        "188733.667525\n"
       ]
      }
     ],
     "prompt_number": 105
    },
    {
     "cell_type": "code",
     "collapsed": false,
     "input": [],
     "language": "python",
     "metadata": {},
     "outputs": []
    }
   ],
   "metadata": {}
  }
 ]
}