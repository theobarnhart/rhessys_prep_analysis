{
 "metadata": {
  "name": "",
  "signature": "sha256:393134f2ddd8a22969ce59f0f856c58e67096fdec73bee8e3fa9b1a839a1f57a"
 },
 "nbformat": 3,
 "nbformat_minor": 0,
 "worksheets": [
  {
   "cells": [
    {
     "cell_type": "code",
     "collapsed": false,
     "input": [
      "%matplotlib inline\n",
      "import numpy as np\n",
      "import pandas as pd\n",
      "import pylab\n",
      "import matplotlib.pyplot as plt\n",
      "import scipy as sp\n",
      "import glob"
     ],
     "language": "python",
     "metadata": {},
     "outputs": [],
     "prompt_number": 1
    },
    {
     "cell_type": "code",
     "collapsed": false,
     "input": [
      "prefx = 'cal6_' # prefix for the gw calibration you want to analyze\n",
      "\n",
      "# load the gw calibration parameters used\n",
      "gw1 = np.load('./Comocreek/barnhatb/out/cal/'+prefx+'gw1.npy')\n",
      "gw2 = np.load('./Comocreek/barnhatb/out/cal/'+prefx+'gw2.npy')"
     ],
     "language": "python",
     "metadata": {},
     "outputs": [],
     "prompt_number": 2
    },
    {
     "cell_type": "code",
     "collapsed": false,
     "input": [
      "obs = pd.read_csv('./Comocreek/barnhatb/obs/como_discharge_real_clean.csv', sep=',', header='infer')              "
     ],
     "language": "python",
     "metadata": {},
     "outputs": [],
     "prompt_number": 3
    },
    {
     "cell_type": "code",
     "collapsed": false,
     "input": [
      "obs.index = pd.date_range(start='2004-01-01',freq='D', periods = len(obs.q_liter_per_day))"
     ],
     "language": "python",
     "metadata": {},
     "outputs": [],
     "prompt_number": 4
    },
    {
     "cell_type": "code",
     "collapsed": false,
     "input": [
      "obs.head()"
     ],
     "language": "python",
     "metadata": {},
     "outputs": [
      {
       "html": [
        "<div style=\"max-height:1000px;max-width:1500px;overflow:auto;\">\n",
        "<table border=\"1\" class=\"dataframe\">\n",
        "  <thead>\n",
        "    <tr style=\"text-align: right;\">\n",
        "      <th></th>\n",
        "      <th>year</th>\n",
        "      <th>doy</th>\n",
        "      <th>q_liter_per_day</th>\n",
        "    </tr>\n",
        "  </thead>\n",
        "  <tbody>\n",
        "    <tr>\n",
        "      <th>2004-01-01</th>\n",
        "      <td> 2004</td>\n",
        "      <td> 1</td>\n",
        "      <td> 259200</td>\n",
        "    </tr>\n",
        "    <tr>\n",
        "      <th>2004-01-02</th>\n",
        "      <td> 2004</td>\n",
        "      <td> 2</td>\n",
        "      <td> 259200</td>\n",
        "    </tr>\n",
        "    <tr>\n",
        "      <th>2004-01-03</th>\n",
        "      <td> 2004</td>\n",
        "      <td> 3</td>\n",
        "      <td> 259200</td>\n",
        "    </tr>\n",
        "    <tr>\n",
        "      <th>2004-01-04</th>\n",
        "      <td> 2004</td>\n",
        "      <td> 4</td>\n",
        "      <td> 259200</td>\n",
        "    </tr>\n",
        "    <tr>\n",
        "      <th>2004-01-05</th>\n",
        "      <td> 2004</td>\n",
        "      <td> 5</td>\n",
        "      <td> 259200</td>\n",
        "    </tr>\n",
        "  </tbody>\n",
        "</table>\n",
        "<p>5 rows \u00d7 3 columns</p>\n",
        "</div>"
       ],
       "metadata": {},
       "output_type": "pyout",
       "prompt_number": 5,
       "text": [
        "            year  doy  q_liter_per_day\n",
        "2004-01-01  2004    1           259200\n",
        "2004-01-02  2004    2           259200\n",
        "2004-01-03  2004    3           259200\n",
        "2004-01-04  2004    4           259200\n",
        "2004-01-05  2004    5           259200\n",
        "\n",
        "[5 rows x 3 columns]"
       ]
      }
     ],
     "prompt_number": 5
    },
    {
     "cell_type": "code",
     "collapsed": false,
     "input": [
      "obs.tail()"
     ],
     "language": "python",
     "metadata": {},
     "outputs": [
      {
       "html": [
        "<div style=\"max-height:1000px;max-width:1500px;overflow:auto;\">\n",
        "<table border=\"1\" class=\"dataframe\">\n",
        "  <thead>\n",
        "    <tr style=\"text-align: right;\">\n",
        "      <th></th>\n",
        "      <th>year</th>\n",
        "      <th>doy</th>\n",
        "      <th>q_liter_per_day</th>\n",
        "    </tr>\n",
        "  </thead>\n",
        "  <tbody>\n",
        "    <tr>\n",
        "      <th>2011-12-27</th>\n",
        "      <td> 2011</td>\n",
        "      <td> 361</td>\n",
        "      <td> 259200</td>\n",
        "    </tr>\n",
        "    <tr>\n",
        "      <th>2011-12-28</th>\n",
        "      <td> 2011</td>\n",
        "      <td> 362</td>\n",
        "      <td> 259200</td>\n",
        "    </tr>\n",
        "    <tr>\n",
        "      <th>2011-12-29</th>\n",
        "      <td> 2011</td>\n",
        "      <td> 363</td>\n",
        "      <td> 259200</td>\n",
        "    </tr>\n",
        "    <tr>\n",
        "      <th>2011-12-30</th>\n",
        "      <td> 2011</td>\n",
        "      <td> 364</td>\n",
        "      <td> 259200</td>\n",
        "    </tr>\n",
        "    <tr>\n",
        "      <th>2011-12-31</th>\n",
        "      <td> 2011</td>\n",
        "      <td> 365</td>\n",
        "      <td> 259200</td>\n",
        "    </tr>\n",
        "  </tbody>\n",
        "</table>\n",
        "<p>5 rows \u00d7 3 columns</p>\n",
        "</div>"
       ],
       "metadata": {},
       "output_type": "pyout",
       "prompt_number": 6,
       "text": [
        "            year  doy  q_liter_per_day\n",
        "2011-12-27  2011  361           259200\n",
        "2011-12-28  2011  362           259200\n",
        "2011-12-29  2011  363           259200\n",
        "2011-12-30  2011  364           259200\n",
        "2011-12-31  2011  365           259200\n",
        "\n",
        "[5 rows x 3 columns]"
       ]
      }
     ],
     "prompt_number": 6
    },
    {
     "cell_type": "code",
     "collapsed": false,
     "input": [
      "obs = obs.drop(['year','doy'], axis = 1)"
     ],
     "language": "python",
     "metadata": {},
     "outputs": [],
     "prompt_number": 7
    },
    {
     "cell_type": "code",
     "collapsed": false,
     "input": [
      "obs.describe()"
     ],
     "language": "python",
     "metadata": {},
     "outputs": [
      {
       "html": [
        "<div style=\"max-height:1000px;max-width:1500px;overflow:auto;\">\n",
        "<table border=\"1\" class=\"dataframe\">\n",
        "  <thead>\n",
        "    <tr style=\"text-align: right;\">\n",
        "      <th></th>\n",
        "      <th>q_liter_per_day</th>\n",
        "    </tr>\n",
        "  </thead>\n",
        "  <tbody>\n",
        "    <tr>\n",
        "      <th>count</th>\n",
        "      <td>     2679.000000</td>\n",
        "    </tr>\n",
        "    <tr>\n",
        "      <th>mean</th>\n",
        "      <td>  3132224.067156</td>\n",
        "    </tr>\n",
        "    <tr>\n",
        "      <th>std</th>\n",
        "      <td>  6593512.058582</td>\n",
        "    </tr>\n",
        "    <tr>\n",
        "      <th>min</th>\n",
        "      <td>    10970.630440</td>\n",
        "    </tr>\n",
        "    <tr>\n",
        "      <th>25%</th>\n",
        "      <td>   259200.000000</td>\n",
        "    </tr>\n",
        "    <tr>\n",
        "      <th>50%</th>\n",
        "      <td>   259200.000000</td>\n",
        "    </tr>\n",
        "    <tr>\n",
        "      <th>75%</th>\n",
        "      <td>  1975357.367500</td>\n",
        "    </tr>\n",
        "    <tr>\n",
        "      <th>max</th>\n",
        "      <td> 46573636.970000</td>\n",
        "    </tr>\n",
        "  </tbody>\n",
        "</table>\n",
        "<p>8 rows \u00d7 1 columns</p>\n",
        "</div>"
       ],
       "metadata": {},
       "output_type": "pyout",
       "prompt_number": 8,
       "text": [
        "       q_liter_per_day\n",
        "count      2679.000000\n",
        "mean    3132224.067156\n",
        "std     6593512.058582\n",
        "min       10970.630440\n",
        "25%      259200.000000\n",
        "50%      259200.000000\n",
        "75%     1975357.367500\n",
        "max    46573636.970000\n",
        "\n",
        "[8 rows x 1 columns]"
       ]
      }
     ],
     "prompt_number": 8
    },
    {
     "cell_type": "markdown",
     "metadata": {},
     "source": [
      "# Convert Observed Streamflow from L/d to m$^3$/s"
     ]
    },
    {
     "cell_type": "code",
     "collapsed": false,
     "input": [
      "streamflow = obs.q_liter_per_day"
     ],
     "language": "python",
     "metadata": {},
     "outputs": [],
     "prompt_number": 9
    },
    {
     "cell_type": "code",
     "collapsed": false,
     "input": [
      "streamflow = streamflow*0.001 # convert to m3/d"
     ],
     "language": "python",
     "metadata": {},
     "outputs": [],
     "prompt_number": 10
    },
    {
     "cell_type": "code",
     "collapsed": false,
     "input": [
      "obs['discharge'] = streamflow/(24*60*60) # convert to m3/s"
     ],
     "language": "python",
     "metadata": {},
     "outputs": [],
     "prompt_number": 11
    },
    {
     "cell_type": "code",
     "collapsed": false,
     "input": [
      "del streamflow"
     ],
     "language": "python",
     "metadata": {},
     "outputs": [],
     "prompt_number": 12
    },
    {
     "cell_type": "code",
     "collapsed": false,
     "input": [
      "obs2 = obs.groupby(lambda x: x.year).sum() # generate yearly sums\n",
      "\n",
      "obstrain = obs2.discharge[[2004,2005,2007,2009,2011]] # pull out the training years of observations"
     ],
     "language": "python",
     "metadata": {},
     "outputs": [],
     "prompt_number": 13
    },
    {
     "cell_type": "code",
     "collapsed": false,
     "input": [
      "plt.plot_date(obs.index, obs.discharge, 'b-')"
     ],
     "language": "python",
     "metadata": {},
     "outputs": [
      {
       "metadata": {},
       "output_type": "pyout",
       "prompt_number": 14,
       "text": [
        "[<matplotlib.lines.Line2D at 0x1098d8e90>]"
       ]
      },
      {
       "metadata": {},
       "output_type": "display_data",
       "png": "[encoded data removed]",
       "text": [
        "<matplotlib.figure.Figure at 0x1097d9510>"
       ]
      }
     ],
     "prompt_number": 14
    },
    {
     "cell_type": "markdown",
     "metadata": {},
     "source": [
      "## Loop through each model run and calculate an objective function"
     ]
    },
    {
     "cell_type": "code",
     "collapsed": false,
     "input": [
      "from hydro import objective_fxns as ofx"
     ],
     "language": "python",
     "metadata": {},
     "outputs": [],
     "prompt_number": 15
    },
    {
     "cell_type": "code",
     "collapsed": false,
     "input": [
      "path = './Comocreek/barnhatb/out/cal/'+prefx\n",
      "files = glob.glob(path+'*'+'_basin.daily')\n",
      "\n",
      "area = 4186300 # m^2"
     ],
     "language": "python",
     "metadata": {},
     "outputs": [],
     "prompt_number": 16
    },
    {
     "cell_type": "code",
     "collapsed": false,
     "input": [
      "objectivefxn = np.zeros([len(files),1]) # preallocate\n",
      "dischargeyrs = np.zeros([len(files),5]) # preallocate\n",
      "\n",
      "for fl in files:\n",
      "    data = pd.read_table(fl,delim_whitespace=True,\n",
      "                   header='infer', parse_dates={'foo':[2,1,0]}, index_col='foo') # bring in the data\n",
      "    num = int(fl.split('_')[1]) # pull out the run number, this will be used to index the objective function result into the objectivefxn matix\n",
      "    \n",
      "    ## convert mm/d to m3/s\n",
      "    \n",
      "    #streamflow = data.streamflow/(10*100) # convert to m/d\n",
      "    #streamflow = streamflow*area # convert to m3/day\n",
      "    #data['discharge'] = streamflow/(24*60*60) # convert to m3/s\n",
      "    \n",
      "    #plt.plot_date(data.index, data.streamflow, 'k-')\n",
      "    \n",
      "    #del streamflow\n",
      "    \n",
      "    data2 = data.groupby(lambda x: x.year).sum() # compute yearly sums\n",
      "    \n",
      "    data2['ET'] = np.sum([data2.evap,data2.trans,data2.snow_subl]) # create a total ET variable\n",
      "    \n",
      "    data2['P'] = np.sum([data2.precip, data2.snowfall]) # create a total precip variable\n",
      "    \n",
      "    simtrain = data2.ix[[2004,2005,2007,2009,2011]]\n",
      "    \n",
      "    dischargeyrs[num,:] = simtrain.streamflow\n",
      "    \n",
      "    a = simtrain.P-(simtrain.ET+simtrain.streamflow)\n",
      "    \n",
      "    a = a / simtrain.P # normalize by precipitation\n",
      "    \n",
      "    objectivefxn[num] = a.mean() # take the average of the training year water balance anomolies\n",
      "\n",
      "    #print num\n",
      "    #print objectivefxn[num]\n",
      "    #print data2.streamflow[2004]\n",
      "    \n",
      "    #print fl\n",
      "    \n",
      "    #del data2\n",
      "    #del data\n"
     ],
     "language": "python",
     "metadata": {},
     "outputs": [],
     "prompt_number": 17
    },
    {
     "cell_type": "code",
     "collapsed": false,
     "input": [
      "import pylab\n",
      "pylab.rcParams['figure.figsize'] = (22.0, 11.0)"
     ],
     "language": "python",
     "metadata": {},
     "outputs": [],
     "prompt_number": 18
    },
    {
     "cell_type": "code",
     "collapsed": false,
     "input": [
      "plt.scatter(gw1,gw2,s = 100, c=objectivefxn)\n",
      "plt.ylabel('GW2', fontsize = 16)\n",
      "plt.xlabel('GW1', fontsize = 16)\n",
      "plt.colorbar()\n",
      "plt.title('GW calibration matrix', fontsize = 22)"
     ],
     "language": "python",
     "metadata": {},
     "outputs": [
      {
       "metadata": {},
       "output_type": "pyout",
       "prompt_number": 19,
       "text": [
        "<matplotlib.text.Text at 0x109bbef90>"
       ]
      },
      {
       "metadata": {},
       "output_type": "display_data",
       "png": "[encoded data removed]",
       "text": [
        "<matplotlib.figure.Figure at 0x109a742d0>"
       ]
      }
     ],
     "prompt_number": 19
    },
    {
     "cell_type": "code",
     "collapsed": false,
     "input": [
      "ind = np.where(objectivefxn == objectivefxn.max())\n",
      "ind = ind[0]"
     ],
     "language": "python",
     "metadata": {},
     "outputs": [],
     "prompt_number": 20
    },
    {
     "cell_type": "code",
     "collapsed": false,
     "input": [
      "objectivefxn[ind]"
     ],
     "language": "python",
     "metadata": {},
     "outputs": [
      {
       "metadata": {},
       "output_type": "pyout",
       "prompt_number": 21,
       "text": [
        "array([[-0.00066839]])"
       ]
      }
     ],
     "prompt_number": 21
    },
    {
     "cell_type": "code",
     "collapsed": false,
     "input": [
      "gw1[ind]"
     ],
     "language": "python",
     "metadata": {},
     "outputs": [
      {
       "metadata": {},
       "output_type": "pyout",
       "prompt_number": 22,
       "text": [
        "array([ 0.291])"
       ]
      }
     ],
     "prompt_number": 22
    },
    {
     "cell_type": "code",
     "collapsed": false,
     "input": [
      "gw2[ind]"
     ],
     "language": "python",
     "metadata": {},
     "outputs": [
      {
       "metadata": {},
       "output_type": "pyout",
       "prompt_number": 23,
       "text": [
        "array([ 0.005])"
       ]
      }
     ],
     "prompt_number": 23
    },
    {
     "cell_type": "code",
     "collapsed": false,
     "input": [
      "files[ind]"
     ],
     "language": "python",
     "metadata": {},
     "outputs": [
      {
       "metadata": {},
       "output_type": "pyout",
       "prompt_number": 24,
       "text": [
        "'./Comocreek/barnhatb/out/cal/cal6_7_basin.daily'"
       ]
      }
     ],
     "prompt_number": 24
    },
    {
     "cell_type": "code",
     "collapsed": false,
     "input": [],
     "language": "python",
     "metadata": {},
     "outputs": [],
     "prompt_number": 24
    }
   ],
   "metadata": {}
  }
 ]
}