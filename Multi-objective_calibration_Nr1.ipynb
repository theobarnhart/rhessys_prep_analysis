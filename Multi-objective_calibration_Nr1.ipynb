{
 "cells": [
  {
   "cell_type": "code",
   "execution_count": 1,
   "metadata": {
    "collapsed": false
   },
   "outputs": [],
   "source": [
    "import pandas as pd\n",
    "import numpy as np\n",
    "import glob\n",
    "import matplotlib.pyplot as plt\n",
    "%matplotlib inline\n",
    "from rhessys import utilities as rh\n",
    "import hydro.objective_fxns as ofx\n",
    "import ntpath\n",
    "from hydro import objective_fxns as ob\n",
    "from IPython.display import clear_output\n",
    "import ipyparallel as p\n",
    "import ProgressBar as pb\n",
    "from pymail import alert\n",
    "import time"
   ]
  },
  {
   "cell_type": "code",
   "execution_count": 2,
   "metadata": {
    "collapsed": false
   },
   "outputs": [],
   "source": [
    "C = p.Client()"
   ]
  },
  {
   "cell_type": "code",
   "execution_count": 3,
   "metadata": {
    "collapsed": false
   },
   "outputs": [
    {
     "data": {
      "text/plain": [
       "[0, 1, 2, 3, 4, 5, 6, 7]"
      ]
     },
     "execution_count": 3,
     "metadata": {},
     "output_type": "execute_result"
    }
   ],
   "source": [
    "C.ids"
   ]
  },
  {
   "cell_type": "code",
   "execution_count": 4,
   "metadata": {
    "collapsed": false
   },
   "outputs": [],
   "source": [
    "view = C.load_balanced_view()"
   ]
  },
  {
   "cell_type": "code",
   "execution_count": 5,
   "metadata": {
    "collapsed": false
   },
   "outputs": [],
   "source": [
    "calname = 'et_cal29'\n",
    "m = np.loadtxt('/RHESSys/ComoCreek_new/scripts/%s_m.txt'%calname)\n",
    "ksat = np.loadtxt('/RHESSys/ComoCreek_new/scripts/%s_ksat.txt'%calname)\n",
    "gw1 = np.loadtxt('/RHESSys/ComoCreek_new/scripts/%s_gw1.txt'%calname)\n",
    "gw2 = np.loadtxt('/RHESSys/ComoCreek_new/scripts/%s_gw2.txt'%calname)\n",
    "#gsmax = np.loadtxt(prfx+'gsmax.txt')\n",
    "#sd = np.loadtxt(prfx+'sd.txt')\n",
    "rd = np.loadtxt('/RHESSys/ComoCreek_new/scripts/%s_rd.txt'%calname)\n",
    "po = np.loadtxt('/RHESSys/ComoCreek_new/scripts/%s_po.txt'%calname)\n",
    "pa = np.loadtxt('/RHESSys/ComoCreek_new/scripts/%s_pa.txt'%calname)\n",
    "lai = np.loadtxt('/RHESSys/ComoCreek_new/scripts/%s_lai.txt'%calname)\n",
    "#sd = np.loadtxt('/RHESSys/ComoCreek_new/scripts/%s_sd.txt'%calname)"
   ]
  },
  {
   "cell_type": "code",
   "execution_count": 6,
   "metadata": {
    "collapsed": false
   },
   "outputs": [],
   "source": [
    "strt = 2008\n",
    "nd = 2012"
   ]
  },
  {
   "cell_type": "code",
   "execution_count": 7,
   "metadata": {
    "collapsed": false
   },
   "outputs": [
    {
     "name": "stderr",
     "output_type": "stream",
     "text": [
      "/Users/barnhatb/anaconda/lib/python2.7/site-packages/ipykernel/__main__.py:6: FutureWarning: how in .resample() is deprecated\n",
      "the new syntax is .resample(...)..apply(<func>)\n",
      "/Users/barnhatb/anaconda/lib/python2.7/site-packages/ipykernel/__main__.py:7: FutureWarning: how in .resample() is deprecated\n",
      "the new syntax is .resample(...)..apply(<func>)\n"
     ]
    }
   ],
   "source": [
    "# load ET calibration data\n",
    "FT = pd.read_pickle('../greenness_timing/data/AFX2_new.pcl')\n",
    "FT['wateryear'] = FT.index.map(rh.wateryear)\n",
    "FT_daily = FT.loc[(FT.wateryear>=strt) & (FT.wateryear<=nd),:]\n",
    "FT_yearly = FT_daily.groupby(by='wateryear').sum()\n",
    "FT_weekly = FT_daily.resample('W',how=np.sum)\n",
    "FT_monthly = FT_daily.resample('M',how=np.sum)"
   ]
  },
  {
   "cell_type": "code",
   "execution_count": 8,
   "metadata": {
    "collapsed": false
   },
   "outputs": [
    {
     "name": "stderr",
     "output_type": "stream",
     "text": [
      "/Users/barnhatb/anaconda/lib/python2.7/site-packages/ipykernel/__main__.py:6: FutureWarning: how in .resample() is deprecated\n",
      "the new syntax is .resample(...)..apply(<func>)\n",
      "/Users/barnhatb/anaconda/lib/python2.7/site-packages/ipykernel/__main__.py:7: FutureWarning: how in .resample() is deprecated\n",
      "the new syntax is .resample(...)..apply(<func>)\n"
     ]
    }
   ],
   "source": [
    "# load streamflow calibration data\n",
    "Q = pd.read_pickle('/RHESSys/Comocreek/barnhatb/obs/como_specific_discharge_daily.pcl')\n",
    "Q['wateryear'] = Q.index.map(rh.wateryear)\n",
    "Q_daily = Q.loc[(Q.wateryear>=strt) & (Q.wateryear<=nd),:]\n",
    "Q_yearly = Q_daily.groupby(by='wateryear').sum()\n",
    "Q_weekly = Q_daily.resample('W',how=np.sum)\n",
    "Q_monthly = Q_daily.resample('M',how=np.sum)"
   ]
  },
  {
   "cell_type": "code",
   "execution_count": 9,
   "metadata": {
    "collapsed": false
   },
   "outputs": [
    {
     "name": "stderr",
     "output_type": "stream",
     "text": [
      "[stderr:0] \n",
      "/Users/barnhatb/anaconda/lib/python2.7/site-packages/ipyparallel/engine/__main__.py:12: FutureWarning: how in .resample() is deprecated\n",
      "the new syntax is .resample(...)..apply(<func>)\n",
      "/Users/barnhatb/anaconda/lib/python2.7/site-packages/ipyparallel/engine/__main__.py:13: FutureWarning: how in .resample() is deprecated\n",
      "the new syntax is .resample(...)..apply(<func>)\n",
      "/Users/barnhatb/anaconda/lib/python2.7/site-packages/ipyparallel/engine/__main__.py:18: FutureWarning: how in .resample() is deprecated\n",
      "the new syntax is .resample(...)..apply(<func>)\n",
      "/Users/barnhatb/anaconda/lib/python2.7/site-packages/ipyparallel/engine/__main__.py:19: FutureWarning: how in .resample() is deprecated\n",
      "the new syntax is .resample(...)..apply(<func>)\n",
      "[stderr:1] \n",
      "/Users/barnhatb/anaconda/lib/python2.7/site-packages/ipyparallel/engine/__main__.py:12: FutureWarning: how in .resample() is deprecated\n",
      "the new syntax is .resample(...)..apply(<func>)\n",
      "/Users/barnhatb/anaconda/lib/python2.7/site-packages/ipyparallel/engine/__main__.py:13: FutureWarning: how in .resample() is deprecated\n",
      "the new syntax is .resample(...)..apply(<func>)\n",
      "/Users/barnhatb/anaconda/lib/python2.7/site-packages/ipyparallel/engine/__main__.py:18: FutureWarning: how in .resample() is deprecated\n",
      "the new syntax is .resample(...)..apply(<func>)\n",
      "/Users/barnhatb/anaconda/lib/python2.7/site-packages/ipyparallel/engine/__main__.py:19: FutureWarning: how in .resample() is deprecated\n",
      "the new syntax is .resample(...)..apply(<func>)\n",
      "[stderr:2] \n",
      "/Users/barnhatb/anaconda/lib/python2.7/site-packages/ipyparallel/engine/__main__.py:12: FutureWarning: how in .resample() is deprecated\n",
      "the new syntax is .resample(...)..apply(<func>)\n",
      "/Users/barnhatb/anaconda/lib/python2.7/site-packages/ipyparallel/engine/__main__.py:13: FutureWarning: how in .resample() is deprecated\n",
      "the new syntax is .resample(...)..apply(<func>)\n",
      "/Users/barnhatb/anaconda/lib/python2.7/site-packages/ipyparallel/engine/__main__.py:18: FutureWarning: how in .resample() is deprecated\n",
      "the new syntax is .resample(...)..apply(<func>)\n",
      "/Users/barnhatb/anaconda/lib/python2.7/site-packages/ipyparallel/engine/__main__.py:19: FutureWarning: how in .resample() is deprecated\n",
      "the new syntax is .resample(...)..apply(<func>)\n",
      "[stderr:3] \n",
      "/Users/barnhatb/anaconda/lib/python2.7/site-packages/ipyparallel/engine/__main__.py:12: FutureWarning: how in .resample() is deprecated\n",
      "the new syntax is .resample(...)..apply(<func>)\n",
      "/Users/barnhatb/anaconda/lib/python2.7/site-packages/ipyparallel/engine/__main__.py:13: FutureWarning: how in .resample() is deprecated\n",
      "the new syntax is .resample(...)..apply(<func>)\n",
      "/Users/barnhatb/anaconda/lib/python2.7/site-packages/ipyparallel/engine/__main__.py:18: FutureWarning: how in .resample() is deprecated\n",
      "the new syntax is .resample(...)..apply(<func>)\n",
      "/Users/barnhatb/anaconda/lib/python2.7/site-packages/ipyparallel/engine/__main__.py:19: FutureWarning: how in .resample() is deprecated\n",
      "the new syntax is .resample(...)..apply(<func>)\n",
      "[stderr:4] \n",
      "/Users/barnhatb/anaconda/lib/python2.7/site-packages/ipyparallel/engine/__main__.py:12: FutureWarning: how in .resample() is deprecated\n",
      "the new syntax is .resample(...)..apply(<func>)\n",
      "/Users/barnhatb/anaconda/lib/python2.7/site-packages/ipyparallel/engine/__main__.py:13: FutureWarning: how in .resample() is deprecated\n",
      "the new syntax is .resample(...)..apply(<func>)\n",
      "/Users/barnhatb/anaconda/lib/python2.7/site-packages/ipyparallel/engine/__main__.py:18: FutureWarning: how in .resample() is deprecated\n",
      "the new syntax is .resample(...)..apply(<func>)\n",
      "/Users/barnhatb/anaconda/lib/python2.7/site-packages/ipyparallel/engine/__main__.py:19: FutureWarning: how in .resample() is deprecated\n",
      "the new syntax is .resample(...)..apply(<func>)\n",
      "[stderr:5] \n",
      "/Users/barnhatb/anaconda/lib/python2.7/site-packages/ipyparallel/engine/__main__.py:12: FutureWarning: how in .resample() is deprecated\n",
      "the new syntax is .resample(...)..apply(<func>)\n",
      "/Users/barnhatb/anaconda/lib/python2.7/site-packages/ipyparallel/engine/__main__.py:13: FutureWarning: how in .resample() is deprecated\n",
      "the new syntax is .resample(...)..apply(<func>)\n",
      "/Users/barnhatb/anaconda/lib/python2.7/site-packages/ipyparallel/engine/__main__.py:18: FutureWarning: how in .resample() is deprecated\n",
      "the new syntax is .resample(...)..apply(<func>)\n",
      "/Users/barnhatb/anaconda/lib/python2.7/site-packages/ipyparallel/engine/__main__.py:19: FutureWarning: how in .resample() is deprecated\n",
      "the new syntax is .resample(...)..apply(<func>)\n",
      "[stderr:6] \n",
      "/Users/barnhatb/anaconda/lib/python2.7/site-packages/ipyparallel/engine/__main__.py:12: FutureWarning: how in .resample() is deprecated\n",
      "the new syntax is .resample(...)..apply(<func>)\n",
      "/Users/barnhatb/anaconda/lib/python2.7/site-packages/ipyparallel/engine/__main__.py:13: FutureWarning: how in .resample() is deprecated\n",
      "the new syntax is .resample(...)..apply(<func>)\n",
      "/Users/barnhatb/anaconda/lib/python2.7/site-packages/ipyparallel/engine/__main__.py:18: FutureWarning: how in .resample() is deprecated\n",
      "the new syntax is .resample(...)..apply(<func>)\n",
      "/Users/barnhatb/anaconda/lib/python2.7/site-packages/ipyparallel/engine/__main__.py:19: FutureWarning: how in .resample() is deprecated\n",
      "the new syntax is .resample(...)..apply(<func>)\n",
      "[stderr:7] \n",
      "/Users/barnhatb/anaconda/lib/python2.7/site-packages/ipyparallel/engine/__main__.py:12: FutureWarning: how in .resample() is deprecated\n",
      "the new syntax is .resample(...)..apply(<func>)\n",
      "/Users/barnhatb/anaconda/lib/python2.7/site-packages/ipyparallel/engine/__main__.py:13: FutureWarning: how in .resample() is deprecated\n",
      "the new syntax is .resample(...)..apply(<func>)\n",
      "/Users/barnhatb/anaconda/lib/python2.7/site-packages/ipyparallel/engine/__main__.py:18: FutureWarning: how in .resample() is deprecated\n",
      "the new syntax is .resample(...)..apply(<func>)\n",
      "/Users/barnhatb/anaconda/lib/python2.7/site-packages/ipyparallel/engine/__main__.py:19: FutureWarning: how in .resample() is deprecated\n",
      "the new syntax is .resample(...)..apply(<func>)\n"
     ]
    }
   ],
   "source": [
    "%%px\n",
    "import numpy as np\n",
    "import pandas as pd\n",
    "from rhessys import utilities as rh\n",
    "import hydro.objective_fxns as ofx\n",
    "# set bounds on the data\n",
    "strt = 2008\n",
    "nd = 2012\n",
    "# load ET data\n",
    "FT = pd.read_pickle('/Volumes/Users/Theo/projects/greenness_timing/data/AFX2_new.pcl')\n",
    "FT['wateryear'] = FT.index.map(rh.wateryear)\n",
    "FT_daily = FT.loc[(FT.wateryear>=strt) & (FT.wateryear<=nd),:]\n",
    "FT_weekly = FT_daily.resample('W',how=np.sum)\n",
    "FT_monthly = FT_daily.resample('M',how=np.sum)\n",
    "# load streamflow data\n",
    "Q = pd.read_pickle('/RHESSys/Comocreek/barnhatb/obs/como_specific_discharge_daily.pcl')\n",
    "Q['wateryear'] = Q.index.map(rh.wateryear)\n",
    "Q_daily = Q.loc[(Q.wateryear>=strt) & (Q.wateryear<=nd),:]\n",
    "Q_weekly = Q_daily.resample('W',how=np.sum)\n",
    "Q_monthly = Q_daily.resample('M',how=np.sum)"
   ]
  },
  {
   "cell_type": "code",
   "execution_count": 10,
   "metadata": {
    "collapsed": false
   },
   "outputs": [],
   "source": [
    "files = glob.glob('/RHESSys/ComoCreek_new/out/%s/*_basin.daily'%calname)"
   ]
  },
  {
   "cell_type": "code",
   "execution_count": 11,
   "metadata": {
    "collapsed": true
   },
   "outputs": [],
   "source": [
    "cals = pd.DataFrame({'files':files})"
   ]
  },
  {
   "cell_type": "code",
   "execution_count": 12,
   "metadata": {
    "collapsed": false
   },
   "outputs": [
    {
     "data": {
      "text/html": [
       "<div>\n",
       "<table border=\"1\" class=\"dataframe\">\n",
       "  <thead>\n",
       "    <tr style=\"text-align: right;\">\n",
       "      <th></th>\n",
       "      <th>files</th>\n",
       "    </tr>\n",
       "  </thead>\n",
       "  <tbody>\n",
       "    <tr>\n",
       "      <th>0</th>\n",
       "      <td>/RHESSys/ComoCreek_new/out/et_cal29/et_cal29_0...</td>\n",
       "    </tr>\n",
       "    <tr>\n",
       "      <th>1</th>\n",
       "      <td>/RHESSys/ComoCreek_new/out/et_cal29/et_cal29_1...</td>\n",
       "    </tr>\n",
       "    <tr>\n",
       "      <th>2</th>\n",
       "      <td>/RHESSys/ComoCreek_new/out/et_cal29/et_cal29_1...</td>\n",
       "    </tr>\n",
       "    <tr>\n",
       "      <th>3</th>\n",
       "      <td>/RHESSys/ComoCreek_new/out/et_cal29/et_cal29_1...</td>\n",
       "    </tr>\n",
       "    <tr>\n",
       "      <th>4</th>\n",
       "      <td>/RHESSys/ComoCreek_new/out/et_cal29/et_cal29_1...</td>\n",
       "    </tr>\n",
       "  </tbody>\n",
       "</table>\n",
       "</div>"
      ],
      "text/plain": [
       "                                               files\n",
       "0  /RHESSys/ComoCreek_new/out/et_cal29/et_cal29_0...\n",
       "1  /RHESSys/ComoCreek_new/out/et_cal29/et_cal29_1...\n",
       "2  /RHESSys/ComoCreek_new/out/et_cal29/et_cal29_1...\n",
       "3  /RHESSys/ComoCreek_new/out/et_cal29/et_cal29_1...\n",
       "4  /RHESSys/ComoCreek_new/out/et_cal29/et_cal29_1..."
      ]
     },
     "execution_count": 12,
     "metadata": {},
     "output_type": "execute_result"
    }
   ],
   "source": [
    "cals.head()"
   ]
  },
  {
   "cell_type": "code",
   "execution_count": 13,
   "metadata": {
    "collapsed": false
   },
   "outputs": [
    {
     "data": {
      "text/plain": [
       "(20000, 1)"
      ]
     },
     "execution_count": 13,
     "metadata": {},
     "output_type": "execute_result"
    }
   ],
   "source": [
    "cals.shape"
   ]
  },
  {
   "cell_type": "code",
   "execution_count": 14,
   "metadata": {
    "collapsed": false
   },
   "outputs": [],
   "source": [
    "def calc_obfx(fl):\n",
    "    \n",
    "    # extract idx\n",
    "    idx = int(fl.split('/')[-1].split('_')[-2])\n",
    "    \n",
    "    # load and process the data\n",
    "    dat = rh.readRHESSysBasin(fl)\n",
    "    dat_daily = dat.loc[(dat.wateryear>=strt) & (dat.wateryear<=nd),:] # crop by water year\n",
    "    dat_weekly = dat_daily.resample('W', how= np.sum)\n",
    "    dat_monthly = dat_daily.resample('M', how= np.sum)\n",
    "    \n",
    "    # compute ET metrics\n",
    "    nse_ET_daily = ofx.nashsut(FT_daily.ET,dat_daily.ET) # daily NSE\n",
    "    nse_ET_weekly = ofx.nashsut(FT_weekly.ET,dat_weekly.ET) # weekly NSE\n",
    "    nse_ET_monthly = ofx.nashsut(FT_monthly.ET,dat_monthly.ET) # monthly NSE\n",
    "    pe_ET_daily = ofx.percenterror (FT_daily.ET,dat_daily.ET) # daily PE\n",
    "    pe_ET_weekly = ofx.percenterror(FT_weekly.ET,dat_weekly.ET) # weekly PE\n",
    "    pe_ET_monthly = ofx.percenterror(FT_monthly.ET,dat_monthly.ET) # monthly PE\n",
    "    \n",
    "    # compute Streamflow metrics\n",
    "    nse_SF_daily = ofx.nashsut(Q_daily.discharge,dat_daily.streamflow) # daily NSE\n",
    "    nse_SF_weekly = ofx.nashsut(Q_weekly.discharge,dat_weekly.streamflow) # weekly NSE\n",
    "    nse_SF_monthly = ofx.nashsut(Q_monthly.discharge,dat_monthly.streamflow) # monthly NSE\n",
    "    pe_SF_daily = ofx.percenterror (Q_daily.discharge,dat_daily.streamflow) # daily PE\n",
    "    pe_SF_weekly = ofx.percenterror(Q_weekly.discharge,dat_weekly.streamflow) # weekly PE\n",
    "    pe_SF_monthly = ofx.percenterror(Q_monthly.discharge,dat_monthly.streamflow) # monthly PE\n",
    "    \n",
    "    nse_et_wt = 0.25\n",
    "    pe_et_wt = 0.25\n",
    "    nse_sf_wt = 0.25\n",
    "    pe_sf_wt = 0.25\n",
    "    \n",
    "    \n",
    "    # compute daily metric\n",
    "    #daily = np.nanmean(np.array([nse_ET_daily,nse_SF_daily,(1-(pe_ET_daily/100.)),(1-(pe_SF_daily/100.))]))\n",
    "    \n",
    "    daily = np.nansum([nse_et_wt*nse_ET_daily,nse_sf_wt*nse_SF_daily,pe_et_wt*(1-(pe_ET_daily/100.)),pe_sf_wt*(1-(pe_SF_daily/100.))])\n",
    "    \n",
    "    # compute weekly metric\n",
    "    #weekly = np.nanmean([nse_ET_weekly,nse_SF_weekly,(1-(pe_ET_weekly/100.)),(1-(pe_SF_weekly/100.))])\n",
    "        \n",
    "    weekly = np.nansum([nse_et_wt*nse_ET_weekly,nse_sf_wt*nse_SF_weekly,pe_et_wt*(1-(pe_ET_weekly/100.)),pe_sf_wt*(1-(pe_SF_weekly/100.))])\n",
    "    \n",
    "    # compute monthly metric\n",
    "    #monthly = np.nanmean([nse_ET_monthly,nse_SF_monthly,(1-(pe_ET_monthly/100.)),(1-(pe_SF_monthly/100.))])\n",
    "    \n",
    "    monthly = np.nansum([nse_et_wt*nse_ET_monthly,nse_sf_wt*nse_SF_monthly,pe_et_wt*(1-(pe_ET_monthly/100.)),pe_sf_wt*(1-(pe_SF_monthly/100.))])\n",
    "    \n",
    "    return (idx,nse_ET_daily,nse_ET_weekly,nse_ET_monthly,pe_ET_daily,pe_ET_weekly,pe_ET_monthly,nse_SF_daily,\n",
    "            nse_SF_weekly,nse_SF_monthly,pe_SF_daily,pe_SF_weekly,pe_SF_monthly,daily,weekly,monthly)"
   ]
  },
  {
   "cell_type": "code",
   "execution_count": 15,
   "metadata": {
    "collapsed": true
   },
   "outputs": [],
   "source": [
    "res = view.map(calc_obfx,cals.files)"
   ]
  },
  {
   "cell_type": "code",
   "execution_count": 16,
   "metadata": {
    "collapsed": true
   },
   "outputs": [],
   "source": [
    "p = pb.ProgressBar(len(cals))"
   ]
  },
  {
   "cell_type": "code",
   "execution_count": 17,
   "metadata": {
    "collapsed": false
   },
   "outputs": [
    {
     "name": "stdout",
     "output_type": "stream",
     "text": [
      "[****************100%******************]  19921 of 20000 complete\n"
     ]
    }
   ],
   "source": [
    "while res.ready() == False:\n",
    "    p.animate_ipython(res.progress)\n",
    "    time.sleep(2)\n",
    "\n",
    "alert.send_alert('barnhatb@colorado.edu','Processing %s has finished'%calname,'Your script has finished')"
   ]
  },
  {
   "cell_type": "code",
   "execution_count": 18,
   "metadata": {
    "collapsed": false
   },
   "outputs": [
    {
     "data": {
      "text/plain": [
       "True"
      ]
     },
     "execution_count": 18,
     "metadata": {},
     "output_type": "execute_result"
    }
   ],
   "source": [
    "res.ready()"
   ]
  },
  {
   "cell_type": "code",
   "execution_count": 35,
   "metadata": {
    "collapsed": false
   },
   "outputs": [],
   "source": [
    "idx,nse_ET_daily,nse_ET_weekly,nse_ET_monthly,pe_ET_daily,pe_ET_weekly,pe_ET_monthly,nse_SF_daily,nse_SF_weekly,nse_SF_monthly,pe_SF_daily,pe_SF_weekly,pe_SF_monthly,daily,weekly,monthly = zip(*res.result())"
   ]
  },
  {
   "cell_type": "code",
   "execution_count": 37,
   "metadata": {
    "collapsed": false
   },
   "outputs": [],
   "source": [
    "tmp1 = pd.DataFrame({'rd':rd,'ksat':ksat,'m':m,'po':po,'pa':pa,'gw1':gw1,'gw2':gw2,'lai':lai,'idx':np.arange(0,len(cals))})\n",
    "tmp2 = pd.DataFrame({'idx':idx,'nse_ET_daily':nse_ET_daily,'nse_ET_weekly':nse_ET_weekly,'nse_ET_monthly':nse_ET_monthly,\n",
    "                     'pe_ET_daily':pe_ET_daily,'pe_ET_weekly':pe_ET_weekly,'pe_ET_monthly':pe_ET_monthly,\n",
    "                     'nse_SF_daily':nse_SF_daily,'nse_SF_weekly':nse_SF_weekly,'nse_SF_monthly':nse_SF_monthly,\n",
    "                     'pe_SF_daily':pe_SF_daily,'pe_SF_weekly':pe_SF_weekly,'pe_SF_monthly':pe_SF_monthly,\n",
    "                     'daily':daily,'weekly':weekly,'monthly':monthly})\n",
    "\n",
    "df = pd.merge(left=tmp1,right=tmp2,on='idx')"
   ]
  },
  {
   "cell_type": "code",
   "execution_count": 39,
   "metadata": {
    "collapsed": false
   },
   "outputs": [
    {
     "data": {
      "text/html": [
       "<div>\n",
       "<table border=\"1\" class=\"dataframe\">\n",
       "  <thead>\n",
       "    <tr style=\"text-align: right;\">\n",
       "      <th></th>\n",
       "      <th>gw1</th>\n",
       "      <th>gw2</th>\n",
       "      <th>idx</th>\n",
       "      <th>ksat</th>\n",
       "      <th>lai</th>\n",
       "      <th>m</th>\n",
       "      <th>pa</th>\n",
       "      <th>po</th>\n",
       "      <th>rd</th>\n",
       "      <th>daily</th>\n",
       "      <th>...</th>\n",
       "      <th>nse_SF_daily</th>\n",
       "      <th>nse_SF_monthly</th>\n",
       "      <th>nse_SF_weekly</th>\n",
       "      <th>pe_ET_daily</th>\n",
       "      <th>pe_ET_monthly</th>\n",
       "      <th>pe_ET_weekly</th>\n",
       "      <th>pe_SF_daily</th>\n",
       "      <th>pe_SF_monthly</th>\n",
       "      <th>pe_SF_weekly</th>\n",
       "      <th>weekly</th>\n",
       "    </tr>\n",
       "  </thead>\n",
       "  <tbody>\n",
       "    <tr>\n",
       "      <th>6709</th>\n",
       "      <td>0.624</td>\n",
       "      <td>0.21</td>\n",
       "      <td>6709</td>\n",
       "      <td>133.66</td>\n",
       "      <td>0.64</td>\n",
       "      <td>12.398</td>\n",
       "      <td>0.02</td>\n",
       "      <td>0.253</td>\n",
       "      <td>3.24</td>\n",
       "      <td>-0.285098</td>\n",
       "      <td>...</td>\n",
       "      <td>-1.306848</td>\n",
       "      <td>0.693069</td>\n",
       "      <td>0.27184</td>\n",
       "      <td>0.906927</td>\n",
       "      <td>0.319883</td>\n",
       "      <td>0.493341</td>\n",
       "      <td>0.949518</td>\n",
       "      <td>0.890277</td>\n",
       "      <td>0.964016</td>\n",
       "      <td>0.254872</td>\n",
       "    </tr>\n",
       "  </tbody>\n",
       "</table>\n",
       "<p>1 rows × 24 columns</p>\n",
       "</div>"
      ],
      "text/plain": [
       "        gw1   gw2   idx    ksat   lai       m    pa     po    rd     daily  \\\n",
       "6709  0.624  0.21  6709  133.66  0.64  12.398  0.02  0.253  3.24 -0.285098   \n",
       "\n",
       "        ...     nse_SF_daily  nse_SF_monthly  nse_SF_weekly  pe_ET_daily  \\\n",
       "6709    ...        -1.306848        0.693069        0.27184     0.906927   \n",
       "\n",
       "      pe_ET_monthly  pe_ET_weekly  pe_SF_daily  pe_SF_monthly  pe_SF_weekly  \\\n",
       "6709       0.319883      0.493341     0.949518       0.890277      0.964016   \n",
       "\n",
       "        weekly  \n",
       "6709  0.254872  \n",
       "\n",
       "[1 rows x 24 columns]"
      ]
     },
     "execution_count": 39,
     "metadata": {},
     "output_type": "execute_result"
    }
   ],
   "source": [
    "df.loc[df.monthly==df.monthly.max()]"
   ]
  },
  {
   "cell_type": "code",
   "execution_count": 25,
   "metadata": {
    "collapsed": true
   },
   "outputs": [],
   "source": [
    "df.to_pickle('./data/%s.pcl'%calname)"
   ]
  },
  {
   "cell_type": "code",
   "execution_count": 34,
   "metadata": {
    "collapsed": false
   },
   "outputs": [
    {
     "data": {
      "text/plain": [
       "6709"
      ]
     },
     "execution_count": 34,
     "metadata": {},
     "output_type": "execute_result"
    }
   ],
   "source": [
    "idx"
   ]
  },
  {
   "cell_type": "code",
   "execution_count": 26,
   "metadata": {
    "collapsed": false
   },
   "outputs": [
    {
     "name": "stderr",
     "output_type": "stream",
     "text": [
      "/Users/barnhatb/anaconda/lib/python2.7/site-packages/ipykernel/__main__.py:5: FutureWarning: how in .resample() is deprecated\n",
      "the new syntax is .resample(...)..apply(<func>)\n"
     ]
    },
    {
     "data": {
      "text/plain": [
       "['gw1: [ 0.624]',\n",
       " 'gw2: [ 0.21]',\n",
       " 'idx: [6709]',\n",
       " 'ksat: [ 133.66]',\n",
       " 'lai: [ 0.64]',\n",
       " 'm: [ 12.398]',\n",
       " 'pa: [ 0.02]',\n",
       " 'po: [ 0.253]',\n",
       " 'rd: [ 3.24]',\n",
       " 'daily: [-0.28509801]',\n",
       " 'monthly: [ 0.64888628]',\n",
       " 'nse_ET_daily: [-1.81497955]',\n",
       " 'nse_ET_monthly: [-0.08542202]',\n",
       " 'nse_ET_weekly: [-1.23777829]',\n",
       " 'nse_SF_daily: [-1.30684803]',\n",
       " 'nse_SF_monthly: [ 0.69306875]',\n",
       " 'nse_SF_weekly: [ 0.27183996]',\n",
       " 'pe_ET_daily: [ 0.90692661]',\n",
       " 'pe_ET_monthly: [ 0.31988312]',\n",
       " 'pe_ET_weekly: [ 0.49334122]',\n",
       " 'pe_SF_daily: [ 0.94951844]',\n",
       " 'pe_SF_monthly: [ 0.89027722]',\n",
       " 'pe_SF_weekly: [ 0.96401643]',\n",
       " 'weekly: [ 0.25487202]']"
      ]
     },
     "execution_count": 26,
     "metadata": {},
     "output_type": "execute_result"
    }
   ],
   "source": [
    "var = 'monthly'\n",
    "idx = df.ix[df[var].idxmax(),'idx']\n",
    "dat = rut.readRHESSysBasin('/RHESSys/ComoCreek_new/out/%s/%s_%s_basin.daily'%(calname,calname,idx))\n",
    "dat_daily = dat.loc[(dat.wateryear>=strt)&(dat.wateryear<=nd)]\n",
    "dat_monthly = dat_daily.resample('M',how=np.nansum)\n",
    "[('%s: %s'%(key,df.loc[df[var]==df[var].max()][key].as_matrix())) for key in df.columns]"
   ]
  },
  {
   "cell_type": "code",
   "execution_count": 27,
   "metadata": {
    "collapsed": false
   },
   "outputs": [
    {
     "data": {
      "text/plain": [
       "6709"
      ]
     },
     "execution_count": 27,
     "metadata": {},
     "output_type": "execute_result"
    }
   ],
   "source": [
    "idx"
   ]
  },
  {
   "cell_type": "code",
   "execution_count": 33,
   "metadata": {
    "collapsed": false
   },
   "outputs": [
    {
     "data": {
      "text/plain": [
       "Int64Index([    0,     1,     2,     3,     4,     5,     6,     7,     8,\n",
       "                9,\n",
       "            ...\n",
       "            19990, 19991, 19992, 19993, 19994, 19995, 19996, 19997, 19998,\n",
       "            19999],\n",
       "           dtype='int64', length=20000)"
      ]
     },
     "execution_count": 33,
     "metadata": {},
     "output_type": "execute_result"
    }
   ],
   "source": []
  },
  {
   "cell_type": "code",
   "execution_count": 28,
   "metadata": {
    "collapsed": false
   },
   "outputs": [
    {
     "data": {
      "text/plain": [
       "<matplotlib.axes._subplots.AxesSubplot at 0x13de56910>"
      ]
     },
     "execution_count": 28,
     "metadata": {},
     "output_type": "execute_result"
    },
    {
     "data": {
      "image/png": "[encoded data removed]",
      "text/plain": [
       "<matplotlib.figure.Figure at 0x13de56390>"
      ]
     },
     "metadata": {},
     "output_type": "display_data"
    }
   ],
   "source": [
    "df.monthly.hist()"
   ]
  },
  {
   "cell_type": "code",
   "execution_count": 29,
   "metadata": {
    "collapsed": false
   },
   "outputs": [
    {
     "data": {
      "text/plain": [
       "<matplotlib.text.Text at 0x13dfb0050>"
      ]
     },
     "execution_count": 29,
     "metadata": {},
     "output_type": "execute_result"
    },
    {
     "data": {
      "image/png": "[encoded data removed]",
      "text/plain": [
       "<matplotlib.figure.Figure at 0x13e7b4910>"
      ]
     },
     "metadata": {},
     "output_type": "display_data"
    }
   ],
   "source": [
    "plt.figure(figsize=(15,5))\n",
    "dat_monthly.streamflow.plot(label='Simulated',c='b')\n",
    "Q_monthly.discharge.plot(label='Observed',c='k')\n",
    "plt.legend()\n",
    "plt.title('Streamflow', fontsize=16)\n",
    "plt.ylabel('Q [mm]', fontsize=14)"
   ]
  },
  {
   "cell_type": "code",
   "execution_count": 30,
   "metadata": {
    "collapsed": false
   },
   "outputs": [
    {
     "data": {
      "text/plain": [
       "<matplotlib.text.Text at 0x13de51710>"
      ]
     },
     "execution_count": 30,
     "metadata": {},
     "output_type": "execute_result"
    },
    {
     "data": {
      "image/png": "[encoded data removed]",
      "text/plain": [
       "<matplotlib.figure.Figure at 0x13e74a750>"
      ]
     },
     "metadata": {},
     "output_type": "display_data"
    }
   ],
   "source": [
    "plt.figure(figsize=(15,5))\n",
    "dat_monthly.ET.plot(label='Simulated',c='b')\n",
    "FT_monthly.ET.plot(label='Observed',c='k')\n",
    "plt.legend()\n",
    "plt.title('Evapotranspiration', fontsize=16)\n",
    "plt.ylabel('ET [mm]', fontsize=14)"
   ]
  },
  {
   "cell_type": "code",
   "execution_count": 31,
   "metadata": {
    "collapsed": false
   },
   "outputs": [
    {
     "data": {
      "text/plain": [
       "'et_cal29'"
      ]
     },
     "execution_count": 31,
     "metadata": {},
     "output_type": "execute_result"
    }
   ],
   "source": [
    "calname"
   ]
  },
  {
   "cell_type": "code",
   "execution_count": 44,
   "metadata": {
    "collapsed": false
   },
   "outputs": [
    {
     "data": {
      "text/plain": [
       "Index([u'basinID', u'pot_surface_infil', u'snow_thr', u'sat_def_z', u'sat_def',\n",
       "       u'rz_storage', u'unsat_stor', u'rz_drainage', u'unsat_drain', u'cap',\n",
       "       u'evap', u'snowpack', u'trans', u'baseflow', u'return', u'streamflow',\n",
       "       u'psn', u'lai', u'gw.Qout', u'gw.storage', u'detention_store',\n",
       "       u'%sat_area', u'litter_store', u'canopy_store', u'%snow_cover',\n",
       "       u'snow_subl', u'trans_var', u'acc_trans', u'acctransv_var', u'pet',\n",
       "       u'dC13', u'precip', u'pcp_assim', u'mortf', u'tmax', u'tmin', u'tavg',\n",
       "       u'vpd', u'snowfall', u'recharge', u'gpsn', u'resp', u'gs', u'rootdepth',\n",
       "       u'plantc', u'snowmelt', u'canopysubl', u'routedstreamflow',\n",
       "       u'canopy_snow', u'height', u'evap_can', u'evap_lit', u'evap_soil',\n",
       "       u'litrc', u'Kdown', u'Ldown', u'Kup', u'Lup', u'Kstar_can',\n",
       "       u'Kstar_soil', u'Kstar_snow', u'Lstar_can', u'Lstar_soil',\n",
       "       u'Lstar_snow', u'LE_canopy', u'LE_soil', u'LE_snow', u'Lstar_strat',\n",
       "       u'canopydrip', u'ga', u'wateryear', u'ET', u'accumPrecip',\n",
       "       u'accumSnowFall', u'accumET'],\n",
       "      dtype='object')"
      ]
     },
     "execution_count": 44,
     "metadata": {},
     "output_type": "execute_result"
    }
   ],
   "source": [
    "dat_daily.columns"
   ]
  },
  {
   "cell_type": "code",
   "execution_count": 193,
   "metadata": {
    "collapsed": false
   },
   "outputs": [
    {
     "data": {
      "text/plain": [
       "<matplotlib.axes._subplots.AxesSubplot at 0x159bb29d0>"
      ]
     },
     "execution_count": 193,
     "metadata": {},
     "output_type": "execute_result"
    },
    {
     "data": {
      "image/png": "[encoded data removed]",
      "text/plain": [
       "<matplotlib.figure.Figure at 0x159bb2b10>"
      ]
     },
     "metadata": {},
     "output_type": "display_data"
    }
   ],
   "source": [
    "plt.figure(figsize=(15,5))\n",
    "dat_daily.lai.plot()"
   ]
  },
  {
   "cell_type": "code",
   "execution_count": 40,
   "metadata": {
    "collapsed": false
   },
   "outputs": [
    {
     "data": {
      "text/plain": [
       "2.9485935966064685"
      ]
     },
     "execution_count": 40,
     "metadata": {},
     "output_type": "execute_result"
    }
   ],
   "source": [
    "dat_daily.lai.mean()"
   ]
  },
  {
   "cell_type": "code",
   "execution_count": null,
   "metadata": {
    "collapsed": true
   },
   "outputs": [],
   "source": []
  }
 ],
 "metadata": {
  "kernelspec": {
   "display_name": "Python 2",
   "language": "python",
   "name": "python2"
  },
  "language_info": {
   "codemirror_mode": {
    "name": "ipython",
    "version": 2
   },
   "file_extension": ".py",
   "mimetype": "text/x-python",
   "name": "python",
   "nbconvert_exporter": "python",
   "pygments_lexer": "ipython2",
   "version": "2.7.12"
  }
 },
 "nbformat": 4,
 "nbformat_minor": 0
}
