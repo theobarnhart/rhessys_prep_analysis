{
 "cells": [
  {
   "cell_type": "code",
   "execution_count": 1,
   "metadata": {
    "collapsed": false
   },
   "outputs": [],
   "source": [
    "import pandas as pd\n",
    "import numpy as np\n",
    "#import GridMet as gm"
   ]
  },
  {
   "cell_type": "code",
   "execution_count": 2,
   "metadata": {
    "collapsed": false
   },
   "outputs": [],
   "source": [
    "strt = '1980-01-01'\n",
    "nd = '2012-12-31'"
   ]
  },
  {
   "cell_type": "code",
   "execution_count": 3,
   "metadata": {
    "collapsed": false
   },
   "outputs": [],
   "source": [
    "niwot1 = pd.read_pickle('/RHESSys/ComoCreek_new/clim/niwot_snotel.pcl')[strt:nd]\n",
    "c1_P1 = pd.read_pickle('/RHESSys/ComoCreek_new/clim/C1_chart_prec.pcl')[strt:nd]\n",
    "\n",
    "#c1_P1.head(20)"
   ]
  },
  {
   "cell_type": "code",
   "execution_count": 4,
   "metadata": {
    "collapsed": false
   },
   "outputs": [],
   "source": [
    "for i in c1_P1.index:\n",
    "    \n",
    "    # skip entries that are only one day\n",
    "    if (c1_P1.loc[i,'Qual_days'] == 1) or (np.isnan(c1_P1.loc[i,'Qual_days']) == True):\n",
    "        continue\n",
    "    else:\n",
    "        days = c1_P1.loc[i,'Qual_days']\n",
    "        td = pd.datetools.timedelta(days-1)\n",
    "        strt2 = i-td\n",
    "        c1_P1.loc[strt2:i,'P'] = c1_P1.loc[i,'P']/float(days)\n",
    "        c1_P1.loc[strt2:i,'Qual_days'] = 1.\n",
    "        c1_P1.loc[strt2:i,'flag'] = 'F'\n",
    "\n",
    "c1_T1 = pd.read_pickle('/RHESSys/ComoCreek_new/clim/C1_chart_temp.pcl')[strt:nd]\n",
    "\n",
    "## now do D1\n",
    "\n",
    "d1_P1 = pd.read_pickle('/RHESSys/ComoCreek_new/clim/D1_prec.pcl')[strt:nd]\n",
    "\n",
    "for i in d1_P1.index:\n",
    "    \n",
    "    # skip entries that are only one day\n",
    "    if (d1_P1.loc[i,'Qual_days'] == 1) or (np.isnan(d1_P1.loc[i,'Qual_days']) == True):\n",
    "        continue\n",
    "    else:\n",
    "        days = d1_P1.loc[i,'Qual_days']\n",
    "        td = pd.datetools.timedelta(days-1)\n",
    "        strt2 = i-td\n",
    "        d1_P1.loc[strt2:i,'P'] = d1_P1.loc[i,'P']/float(days)\n",
    "        d1_P1.loc[strt2:i,'Qual_days'] = 1.\n",
    "        d1_P1.loc[strt2:i,'flag'] = 'F'\n",
    "\n",
    "d1_T1 = pd.read_pickle('/RHESSys/ComoCreek_new/clim/D1_temp.pcl')[strt:nd]"
   ]
  },
  {
   "cell_type": "code",
   "execution_count": 20,
   "metadata": {
    "collapsed": true
   },
   "outputs": [],
   "source": [
    "# Combine all of d1 into a single data frame\n",
    "d1tmp = pd.DataFrame()\n",
    "d1tmp['Tmin'] = d1_T1.Tmin\n",
    "d1tmp['Tmax'] = d1_T1.Tmax\n",
    "d1tmp['Tave'] = d1_T1.Tave\n",
    "d1tmp['P'] = d1_P1.P\n",
    "\n",
    "d1tmp.loc[np.isnan(d1tmp.P),'P'] = 0. # set missing precip values to 0.\n",
    "d1tmp.interpolate(inplace=True, method='linear') # interpolate the missing temperature values\n",
    "d1tmp.to_pickle('./d1_combo.df')"
   ]
  },
  {
   "cell_type": "code",
   "execution_count": 21,
   "metadata": {
    "collapsed": true
   },
   "outputs": [],
   "source": [
    "# Combine all of c1 into a single data frame\n",
    "c1tmp = pd.DataFrame()\n",
    "c1tmp['Tmin'] = c1_T1.Tmin\n",
    "c1tmp['Tmax'] = c1_T1.Tmax\n",
    "c1tmp['Tave'] = c1_T1.Tave\n",
    "c1tmp['P'] = c1_P1.P\n",
    "\n",
    "c1tmp.loc[np.isnan(c1tmp.P),'P'] = 0. # set missing precip values to 0.\n",
    "c1tmp.interpolate(inplace=True, method='linear') # interpolate the missing temperature values\n",
    "c1tmp.to_pickle('./c1_combo.df')"
   ]
  },
  {
   "cell_type": "code",
   "execution_count": 5,
   "metadata": {
    "collapsed": false
   },
   "outputs": [],
   "source": [
    "niwot = gm.makeGridMetStation('niwot_snotel',3020.,niwot1.index,niwot1.ATmax,niwot1.ATmin,niwot1.ATave,niwot1.precip)\n",
    "c1 = gm.makeGridMetStation('c1',3018.,c1_T1.index,c1_T1.Tmax,c1_T1.Tmin,c1_T1.Tave,c1_P1.P)\n",
    "d1 = gm.makeGridMetStation('d1',3743.,d1_T1.index,d1_T1.Tmax,d1_T1.Tmin,d1_T1.Tave,d1_P1.P)"
   ]
  },
  {
   "cell_type": "code",
   "execution_count": 57,
   "metadata": {
    "collapsed": false
   },
   "outputs": [
    {
     "name": "stderr",
     "output_type": "stream",
     "text": [
      "/Users/barnhatb/anaconda/lib/python2.7/site-packages/numpy/lib/nanfunctions.py:598: RuntimeWarning: Mean of empty slice\n",
      "  warnings.warn(\"Mean of empty slice\", RuntimeWarning)\n"
     ]
    }
   ],
   "source": [
    "lapse = gm.makeGridMetLapseRate('como',c1,d1,'d')"
   ]
  },
  {
   "cell_type": "code",
   "execution_count": 7,
   "metadata": {
    "collapsed": false
   },
   "outputs": [],
   "source": [
    "dem_path = '/RHESSys/ComoCreek_new/auxdata/como_gridclim_180m.tiff'\n",
    "patch_path = '/RHESSys/ComoCreek_new/auxdata/gridmet_map.tiff'\n",
    "frmt = 'asciiGrid'\n",
    "out_path = '/RHESSys/ComoCreek_new/clim/'\n",
    "prfx = 'como_grid'"
   ]
  },
  {
   "cell_type": "code",
   "execution_count": 8,
   "metadata": {
    "collapsed": false
   },
   "outputs": [
    {
     "name": "stdout",
     "output_type": "stream",
     "text": [
      "[****************100%******************]  8401 of 8401 complete Saving asciiGrid files.\n",
      "Done!\n"
     ]
    }
   ],
   "source": [
    "gm.GridMet(dem_path,patch_path,niwot,lapse,out_path,frmt,prfx)"
   ]
  },
  {
   "cell_type": "code",
   "execution_count": 14,
   "metadata": {
    "collapsed": false
   },
   "outputs": [
    {
     "data": {
      "text/plain": [
       "2012-12-31   -0.013971\n",
       "Freq: M, Name: Tlapse, dtype: float64"
      ]
     },
     "execution_count": 14,
     "metadata": {},
     "output_type": "execute_result"
    },
    {
     "name": "stdout",
     "output_type": "stream",
     "text": [
      "\n"
     ]
    }
   ],
   "source": [
    "lapse.Tlapse['2012-12']"
   ]
  },
  {
   "cell_type": "code",
   "execution_count": 12,
   "metadata": {
    "collapsed": false
   },
   "outputs": [],
   "source": [
    "import seaborn as sns\n",
    "import matplotlib.pyplot as plt\n",
    "import scipy as sp\n",
    "%matplotlib inline"
   ]
  },
  {
   "cell_type": "code",
   "execution_count": 33,
   "metadata": {
    "collapsed": false
   },
   "outputs": [],
   "source": [
    "def doy(dt):\n",
    "    import pandas as pd\n",
    "    return int(pd.datetime.strftime(dt,'%j'))"
   ]
  },
  {
   "cell_type": "code",
   "execution_count": 72,
   "metadata": {
    "collapsed": false
   },
   "outputs": [],
   "source": [
    "lap = pd.DataFrame({'tlapse':lapse.Tavelapse,'plapse':lapse.Plapse,'Tmaxlapse':lapse.Tmaxlapse,'Tminlapse':lapse.Tminlapse},index=lapse.index)"
   ]
  },
  {
   "cell_type": "code",
   "execution_count": 73,
   "metadata": {
    "collapsed": false
   },
   "outputs": [],
   "source": [
    "lap['doy'] = lap.index.map(doy)"
   ]
  },
  {
   "cell_type": "code",
   "execution_count": 74,
   "metadata": {
    "collapsed": false
   },
   "outputs": [
    {
     "data": {
      "text/html": [
       "<div style=\"max-height:1000px;max-width:1500px;overflow:auto;\">\n",
       "<table border=\"1\" class=\"dataframe\">\n",
       "  <thead>\n",
       "    <tr style=\"text-align: right;\">\n",
       "      <th></th>\n",
       "      <th>Tmaxlapse</th>\n",
       "      <th>Tminlapse</th>\n",
       "      <th>plapse</th>\n",
       "      <th>tlapse</th>\n",
       "      <th>doy</th>\n",
       "    </tr>\n",
       "  </thead>\n",
       "  <tbody>\n",
       "    <tr>\n",
       "      <th>1990-01-01</th>\n",
       "      <td>-0.012414</td>\n",
       "      <td>-0.011034</td>\n",
       "      <td>0.000000</td>\n",
       "      <td>-0.011724</td>\n",
       "      <td>1</td>\n",
       "    </tr>\n",
       "    <tr>\n",
       "      <th>1990-01-02</th>\n",
       "      <td>-0.012414</td>\n",
       "      <td>-0.011034</td>\n",
       "      <td>-0.006897</td>\n",
       "      <td>-0.010345</td>\n",
       "      <td>2</td>\n",
       "    </tr>\n",
       "    <tr>\n",
       "      <th>1990-01-03</th>\n",
       "      <td>-0.012414</td>\n",
       "      <td>-0.011034</td>\n",
       "      <td>0.001379</td>\n",
       "      <td>-0.009655</td>\n",
       "      <td>3</td>\n",
       "    </tr>\n",
       "    <tr>\n",
       "      <th>1990-01-04</th>\n",
       "      <td>-0.012414</td>\n",
       "      <td>-0.011034</td>\n",
       "      <td>0.000000</td>\n",
       "      <td>-0.012414</td>\n",
       "      <td>4</td>\n",
       "    </tr>\n",
       "    <tr>\n",
       "      <th>1990-01-05</th>\n",
       "      <td>-0.012414</td>\n",
       "      <td>-0.011034</td>\n",
       "      <td>0.001379</td>\n",
       "      <td>-0.007586</td>\n",
       "      <td>5</td>\n",
       "    </tr>\n",
       "  </tbody>\n",
       "</table>\n",
       "</div>"
      ],
      "text/plain": [
       "            Tmaxlapse  Tminlapse    plapse    tlapse  doy\n",
       "1990-01-01  -0.012414  -0.011034  0.000000 -0.011724    1\n",
       "1990-01-02  -0.012414  -0.011034 -0.006897 -0.010345    2\n",
       "1990-01-03  -0.012414  -0.011034  0.001379 -0.009655    3\n",
       "1990-01-04  -0.012414  -0.011034  0.000000 -0.012414    4\n",
       "1990-01-05  -0.012414  -0.011034  0.001379 -0.007586    5"
      ]
     },
     "execution_count": 74,
     "metadata": {},
     "output_type": "execute_result"
    }
   ],
   "source": [
    "lap.head()"
   ]
  },
  {
   "cell_type": "code",
   "execution_count": 61,
   "metadata": {
    "collapsed": false
   },
   "outputs": [],
   "source": [
    "lap2 = lap.groupby(by='doy').mean()"
   ]
  },
  {
   "cell_type": "code",
   "execution_count": 62,
   "metadata": {
    "collapsed": false
   },
   "outputs": [],
   "source": [
    "s = sp.interpolate.UnivariateSpline(lap2.index,lap2.plapse)\n",
    "lap2['pspline'] = s(lap2.index)"
   ]
  },
  {
   "cell_type": "code",
   "execution_count": 63,
   "metadata": {
    "collapsed": false
   },
   "outputs": [],
   "source": [
    "s = sp.interpolate.UnivariateSpline(lap2.index,lap2.tlapse,k=4)\n",
    "lap2['tspline'] = s(lap2.index)"
   ]
  },
  {
   "cell_type": "code",
   "execution_count": 69,
   "metadata": {
    "collapsed": false
   },
   "outputs": [
    {
     "name": "stdout",
     "output_type": "stream",
     "text": [
      "0.00215750048473\n"
     ]
    },
    {
     "data": {
      "image/png": "[encoded data removed]",
      "text/plain": [
       "<matplotlib.figure.Figure at 0x11f35b050>"
      ]
     },
     "metadata": {},
     "output_type": "display_data"
    }
   ],
   "source": [
    "plt.figure(figsize=(20,10))\n",
    "plt.plot(lap2.index,lap2.plapse,'.k')\n",
    "plt.plot(lap2.index,lap2.pspline,'-r')\n",
    "plt.xlim(0,365)\n",
    "print lap2.pspline.mean()\n",
    "plt.title('Precipitation lapse rate', fontsize = 25)\n",
    "plt.xlabel('Day of Year', fontsize = 20)\n",
    "plt.ylabel('Lapse Rate [mm/m]', fontsize = 20)\n",
    "\n",
    "ax = plt.gca()\n",
    "plt.setp(ax.get_xticklabels(), fontsize=18);\n",
    "plt.setp(ax.get_yticklabels(), fontsize=18);\n",
    "\n",
    "plt.savefig('./figures/como_p_lapse.png')"
   ]
  },
  {
   "cell_type": "code",
   "execution_count": null,
   "metadata": {
    "collapsed": false
   },
   "outputs": [],
   "source": [
    "plt.plot(lap.)"
   ]
  },
  {
   "cell_type": "code",
   "execution_count": null,
   "metadata": {
    "collapsed": false
   },
   "outputs": [],
   "source": []
  },
  {
   "cell_type": "code",
   "execution_count": 70,
   "metadata": {
    "collapsed": false
   },
   "outputs": [
    {
     "name": "stdout",
     "output_type": "stream",
     "text": [
      "-0.00765395990529\n"
     ]
    },
    {
     "data": {
      "image/png": "[encoded data removed]",
      "text/plain": [
       "<matplotlib.figure.Figure at 0x11f7c2bd0>"
      ]
     },
     "metadata": {},
     "output_type": "display_data"
    }
   ],
   "source": [
    "plt.figure(figsize=(20,10))\n",
    "plt.plot(lap2.index,lap2.tlapse,'.k')\n",
    "plt.plot(lap2.index,lap2.tspline,'-r')\n",
    "plt.xlim(0,365)\n",
    "print lap2.tspline.mean()\n",
    "plt.title('Temperature lapse rate', fontsize = 25)\n",
    "plt.xlabel('Day of Year', fontsize = 20)\n",
    "plt.ylabel('Lapse Rate [$\\degree$C/m]', fontsize = 20)\n",
    "ax = plt.gca()\n",
    "plt.setp(ax.get_xticklabels(), fontsize=18);\n",
    "plt.setp(ax.get_yticklabels(), fontsize=18);\n",
    "plt.savefig('./figures/como_t_lapse.png')"
   ]
  },
  {
   "cell_type": "code",
   "execution_count": 75,
   "metadata": {
    "collapsed": false
   },
   "outputs": [
    {
     "data": {
      "text/html": [
       "<div style=\"max-height:1000px;max-width:1500px;overflow:auto;\">\n",
       "<table border=\"1\" class=\"dataframe\">\n",
       "  <thead>\n",
       "    <tr style=\"text-align: right;\">\n",
       "      <th></th>\n",
       "      <th>Tmaxlapse</th>\n",
       "      <th>Tminlapse</th>\n",
       "      <th>plapse</th>\n",
       "      <th>tlapse</th>\n",
       "      <th>doy</th>\n",
       "    </tr>\n",
       "  </thead>\n",
       "  <tbody>\n",
       "    <tr>\n",
       "      <th>count</th>\n",
       "      <td>8.401000e+03</td>\n",
       "      <td>8.401000e+03</td>\n",
       "      <td>8401.000000</td>\n",
       "      <td>8401.000000</td>\n",
       "      <td>8401.000000</td>\n",
       "    </tr>\n",
       "    <tr>\n",
       "      <th>mean</th>\n",
       "      <td>-1.241379e-02</td>\n",
       "      <td>-1.103448e-02</td>\n",
       "      <td>0.002157</td>\n",
       "      <td>-0.007651</td>\n",
       "      <td>183.130699</td>\n",
       "    </tr>\n",
       "    <tr>\n",
       "      <th>std</th>\n",
       "      <td>1.625850e-10</td>\n",
       "      <td>2.816055e-10</td>\n",
       "      <td>0.006927</td>\n",
       "      <td>0.004009</td>\n",
       "      <td>105.448069</td>\n",
       "    </tr>\n",
       "    <tr>\n",
       "      <th>min</th>\n",
       "      <td>-1.241379e-02</td>\n",
       "      <td>-1.103448e-02</td>\n",
       "      <td>-0.067586</td>\n",
       "      <td>-0.033793</td>\n",
       "      <td>1.000000</td>\n",
       "    </tr>\n",
       "    <tr>\n",
       "      <th>25%</th>\n",
       "      <td>-1.241379e-02</td>\n",
       "      <td>-1.103448e-02</td>\n",
       "      <td>0.000000</td>\n",
       "      <td>-0.010345</td>\n",
       "      <td>92.000000</td>\n",
       "    </tr>\n",
       "    <tr>\n",
       "      <th>50%</th>\n",
       "      <td>-1.241379e-02</td>\n",
       "      <td>-1.103448e-02</td>\n",
       "      <td>0.000000</td>\n",
       "      <td>-0.007586</td>\n",
       "      <td>183.000000</td>\n",
       "    </tr>\n",
       "    <tr>\n",
       "      <th>75%</th>\n",
       "      <td>-1.241379e-02</td>\n",
       "      <td>-1.103448e-02</td>\n",
       "      <td>0.004138</td>\n",
       "      <td>-0.004828</td>\n",
       "      <td>274.000000</td>\n",
       "    </tr>\n",
       "    <tr>\n",
       "      <th>max</th>\n",
       "      <td>-1.241379e-02</td>\n",
       "      <td>-1.103448e-02</td>\n",
       "      <td>0.089655</td>\n",
       "      <td>0.014483</td>\n",
       "      <td>366.000000</td>\n",
       "    </tr>\n",
       "  </tbody>\n",
       "</table>\n",
       "</div>"
      ],
      "text/plain": [
       "          Tmaxlapse     Tminlapse       plapse       tlapse          doy\n",
       "count  8.401000e+03  8.401000e+03  8401.000000  8401.000000  8401.000000\n",
       "mean  -1.241379e-02 -1.103448e-02     0.002157    -0.007651   183.130699\n",
       "std    1.625850e-10  2.816055e-10     0.006927     0.004009   105.448069\n",
       "min   -1.241379e-02 -1.103448e-02    -0.067586    -0.033793     1.000000\n",
       "25%   -1.241379e-02 -1.103448e-02     0.000000    -0.010345    92.000000\n",
       "50%   -1.241379e-02 -1.103448e-02     0.000000    -0.007586   183.000000\n",
       "75%   -1.241379e-02 -1.103448e-02     0.004138    -0.004828   274.000000\n",
       "max   -1.241379e-02 -1.103448e-02     0.089655     0.014483   366.000000"
      ]
     },
     "execution_count": 75,
     "metadata": {},
     "output_type": "execute_result"
    }
   ],
   "source": [
    "lap.describe()"
   ]
  },
  {
   "cell_type": "code",
   "execution_count": 42,
   "metadata": {
    "collapsed": false
   },
   "outputs": [],
   "source": [
    "import numpy as np"
   ]
  },
  {
   "cell_type": "code",
   "execution_count": 55,
   "metadata": {
    "collapsed": false
   },
   "outputs": [
    {
     "name": "stdout",
     "output_type": "stream",
     "text": [
      "Precip. Lapse 95%: 0.00565763546798\n",
      "Precip. Lapse 05%: -0.00035595105673\n"
     ]
    }
   ],
   "source": [
    "print 'Precip. Lapse 95%:',np.percentile(lap.plapse.as_matrix(),95)\n",
    "print 'Precip. Lapse 05%:',np.percentile(lap.plapse.as_matrix(),5)"
   ]
  },
  {
   "cell_type": "code",
   "execution_count": 56,
   "metadata": {
    "collapsed": false
   },
   "outputs": [
    {
     "name": "stdout",
     "output_type": "stream",
     "text": [
      "Temp. Lapse 95%: -0.00344827586207\n",
      "Temp. Lapse 05%: -0.0113119941698\n"
     ]
    }
   ],
   "source": [
    "print 'Temp. Lapse 95%:',np.percentile(lap.tlapse,95)\n",
    "print 'Temp. Lapse 05%:',np.percentile(lap.tlapse,5)"
   ]
  },
  {
   "cell_type": "code",
   "execution_count": 47,
   "metadata": {
    "collapsed": false
   },
   "outputs": [
    {
     "data": {
      "text/html": [
       "<div style=\"max-height:1000px;max-width:1500px;overflow:auto;\">\n",
       "<table border=\"1\" class=\"dataframe\">\n",
       "  <thead>\n",
       "    <tr style=\"text-align: right;\">\n",
       "      <th></th>\n",
       "      <th>plapse</th>\n",
       "      <th>tlapse</th>\n",
       "      <th>doy</th>\n",
       "    </tr>\n",
       "  </thead>\n",
       "  <tbody>\n",
       "    <tr>\n",
       "      <th>count</th>\n",
       "      <td>276.000000</td>\n",
       "      <td>276.000000</td>\n",
       "      <td>276.000000</td>\n",
       "    </tr>\n",
       "    <tr>\n",
       "      <th>mean</th>\n",
       "      <td>0.002176</td>\n",
       "      <td>-0.007767</td>\n",
       "      <td>197.155797</td>\n",
       "    </tr>\n",
       "    <tr>\n",
       "      <th>std</th>\n",
       "      <td>0.001989</td>\n",
       "      <td>0.002451</td>\n",
       "      <td>105.467725</td>\n",
       "    </tr>\n",
       "    <tr>\n",
       "      <th>min</th>\n",
       "      <td>-0.002023</td>\n",
       "      <td>-0.014621</td>\n",
       "      <td>31.000000</td>\n",
       "    </tr>\n",
       "    <tr>\n",
       "      <th>25%</th>\n",
       "      <td>0.000690</td>\n",
       "      <td>-0.009445</td>\n",
       "      <td>112.750000</td>\n",
       "    </tr>\n",
       "    <tr>\n",
       "      <th>50%</th>\n",
       "      <td>0.001696</td>\n",
       "      <td>-0.007858</td>\n",
       "      <td>197.000000</td>\n",
       "    </tr>\n",
       "    <tr>\n",
       "      <th>75%</th>\n",
       "      <td>0.003426</td>\n",
       "      <td>-0.006038</td>\n",
       "      <td>281.500000</td>\n",
       "    </tr>\n",
       "    <tr>\n",
       "      <th>max</th>\n",
       "      <td>0.008867</td>\n",
       "      <td>-0.001379</td>\n",
       "      <td>366.000000</td>\n",
       "    </tr>\n",
       "  </tbody>\n",
       "</table>\n",
       "</div>"
      ],
      "text/plain": [
       "           plapse      tlapse         doy\n",
       "count  276.000000  276.000000  276.000000\n",
       "mean     0.002176   -0.007767  197.155797\n",
       "std      0.001989    0.002451  105.467725\n",
       "min     -0.002023   -0.014621   31.000000\n",
       "25%      0.000690   -0.009445  112.750000\n",
       "50%      0.001696   -0.007858  197.000000\n",
       "75%      0.003426   -0.006038  281.500000\n",
       "max      0.008867   -0.001379  366.000000"
      ]
     },
     "execution_count": 47,
     "metadata": {},
     "output_type": "execute_result"
    }
   ],
   "source": [
    "lap.describe()"
   ]
  },
  {
   "cell_type": "code",
   "execution_count": null,
   "metadata": {
    "collapsed": false
   },
   "outputs": [],
   "source": []
  }
 ],
 "metadata": {
  "kernelspec": {
   "display_name": "Python 2",
   "language": "python",
   "name": "python2"
  },
  "language_info": {
   "codemirror_mode": {
    "name": "ipython",
    "version": 2
   },
   "file_extension": ".py",
   "mimetype": "text/x-python",
   "name": "python",
   "nbconvert_exporter": "python",
   "pygments_lexer": "ipython2",
   "version": "2.7.12"
  }
 },
 "nbformat": 4,
 "nbformat_minor": 0
}
