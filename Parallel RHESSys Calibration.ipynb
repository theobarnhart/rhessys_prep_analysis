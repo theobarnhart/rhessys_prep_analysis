{
 "cells": [
  {
   "cell_type": "code",
   "execution_count": 1,
   "metadata": {
    "collapsed": false
   },
   "outputs": [],
   "source": [
    "import pandas as pd\n",
    "import numpy as np\n",
    "\n",
    "import subprocess\n",
    "\n",
    "import IPython.parallel as p\n",
    "\n",
    "import sys\n",
    "sys.path.append('/RHESSys/bin/')\n",
    "\n",
    "import os"
   ]
  },
  {
   "cell_type": "code",
   "execution_count": 2,
   "metadata": {
    "collapsed": false
   },
   "outputs": [],
   "source": [
    "pc = p.Client()"
   ]
  },
  {
   "cell_type": "code",
   "execution_count": 3,
   "metadata": {
    "collapsed": false
   },
   "outputs": [
    {
     "data": {
      "text/plain": [
       "[0, 1, 2, 3]"
      ]
     },
     "execution_count": 3,
     "metadata": {},
     "output_type": "execute_result"
    }
   ],
   "source": [
    "pc.ids"
   ]
  },
  {
   "cell_type": "code",
   "execution_count": 4,
   "metadata": {
    "collapsed": false
   },
   "outputs": [],
   "source": [
    "view =pc.load_balanced_view()"
   ]
  },
  {
   "cell_type": "code",
   "execution_count": 5,
   "metadata": {
    "collapsed": false
   },
   "outputs": [],
   "source": [
    "ver = '/RHESSys/bin/rhessys5.18.r2'\n",
    "worldfile = '/RHESSys/ComoCreek_new/worldfiles/world.como.lai.su'\n",
    "tecfile = '/RHESSys/ComoCreek_new/tecfiles/tec.gw_cal'\n",
    "flowtable = '/RHESSys/ComoCreek_new/flowtables/como.flow'\n",
    "flag = '-s 1 10 -b'\n",
    "timestart = '2002 9 25 1'\n",
    "timeend = '2011 10 5 1'\n",
    "prefix = '/RHESSys/ComoCreek_new/out/cal/GW_cal2_'"
   ]
  },
  {
   "cell_type": "code",
   "execution_count": 6,
   "metadata": {
    "collapsed": false
   },
   "outputs": [],
   "source": [
    "# setup the input data\n",
    "n = 100\n",
    "\n",
    "#gw1\n",
    "strt = 1\n",
    "nd = 300\n",
    "\n",
    "tmp = np.array(np.random.randint(strt,nd,n))\n",
    "gw1 = tmp/1000.\n",
    "\n",
    "np.save(prefix+'gw1.npy',gw1)\n",
    "\n",
    "#gw2\n",
    "strt = 10\n",
    "nd = 900\n",
    "\n",
    "tmp = np.array(np.random.randint(nd,strt,n))\n",
    "gw2 = tmp/1000.\n",
    "\n",
    "np.save(prefix+'gw2.npy',gw2)\n",
    "\n",
    "# calibration runs\n",
    "cals = np.arange(1,n+1)\n",
    "\n",
    "prefixs = []\n",
    "for cal in cals:\n",
    "    prefixs.append(prefix+str(cal))\n",
    "\n",
    "vers = [ver]*n    \n",
    "worldfiles = [worldfile]*n\n",
    "tecfiles = [tecfile]*n\n",
    "flowtables = [flowtable]*n\n",
    "flags = [flag]*n\n",
    "timestarts = [timestart]*n\n",
    "timeends = [timeend]*n"
   ]
  },
  {
   "cell_type": "code",
   "execution_count": 7,
   "metadata": {
    "collapsed": false
   },
   "outputs": [],
   "source": [
    "%%px\n",
    "import numpy as np\n",
    "import pandas as pd\n",
    "#import subprocess\n",
    "\n",
    "#import sys\n",
    "\n",
    "#sys.path.append('/RHESSys/bin/')"
   ]
  },
  {
   "cell_type": "code",
   "execution_count": 8,
   "metadata": {
    "collapsed": false
   },
   "outputs": [],
   "source": [
    "def runRHESSysCal(ver,wf,tf,ft,flgs,gw1,gw2,ts,te,pre):\n",
    "    \"\"\"\n",
    "    Run RHESSys calibration\n",
    "   \n",
    "    ver - version of RHESSys\n",
    "    wf - world file\n",
    "    tf - tec file\n",
    "    ft - flow table\n",
    "    flgs - model flags\n",
    "    gw1 - ground water parameter 1\n",
    "    gw2 - ground water parameter 2\n",
    "    ts - start time\n",
    "    te - end time\n",
    "    pre - output prefix \n",
    "    \"\"\"\n",
    "\n",
    "    !{'%s -w %s -t %s -r %s -pre %s %s -gw %s %s -st %s -ed %s'%(ver,wf,tf,ft,pre,flgs,str(gw1),str(gw2),ts,te)}\n",
    "    print 'Simulation',pre,'Complete'"
   ]
  },
  {
   "cell_type": "raw",
   "metadata": {},
   "source": [
    "runRHESSysCal(ver,worldfile,tecfile,flowtable,flag,'1','10',timestart,timeend,prefixs[0])"
   ]
  },
  {
   "cell_type": "code",
   "execution_count": 9,
   "metadata": {
    "collapsed": false
   },
   "outputs": [],
   "source": [
    "res = view.map(runRHESSysCal,vers,worldfiles,tecfiles,flowtables,flags,gw1,gw2,timestarts,timeends,prefixs)"
   ]
  },
  {
   "cell_type": "code",
   "execution_count": 24,
   "metadata": {
    "collapsed": false
   },
   "outputs": [
    {
     "data": {
      "text/plain": [
       "20.38422508"
      ]
     },
     "execution_count": 24,
     "metadata": {},
     "output_type": "execute_result"
    }
   ],
   "source": [
    "res.elapsed/60/60"
   ]
  },
  {
   "cell_type": "code",
   "execution_count": 26,
   "metadata": {
    "collapsed": false
   },
   "outputs": [
    {
     "data": {
      "text/plain": [
       "100"
      ]
     },
     "execution_count": 26,
     "metadata": {},
     "output_type": "execute_result"
    }
   ],
   "source": [
    "res.progress"
   ]
  },
  {
   "cell_type": "code",
   "execution_count": 27,
   "metadata": {
    "collapsed": false
   },
   "outputs": [
    {
     "data": {
      "text/plain": [
       "True"
      ]
     },
     "execution_count": 27,
     "metadata": {},
     "output_type": "execute_result"
    }
   ],
   "source": [
    "res.ready()"
   ]
  },
  {
   "cell_type": "code",
   "execution_count": 28,
   "metadata": {
    "collapsed": false
   },
   "outputs": [
    {
     "data": {
      "text/plain": [
       "[None,\n",
       " None,\n",
       " None,\n",
       " None,\n",
       " None,\n",
       " None,\n",
       " None,\n",
       " None,\n",
       " None,\n",
       " None,\n",
       " None,\n",
       " None,\n",
       " None,\n",
       " None,\n",
       " None,\n",
       " None,\n",
       " None,\n",
       " None,\n",
       " None,\n",
       " None,\n",
       " None,\n",
       " None,\n",
       " None,\n",
       " None,\n",
       " None,\n",
       " None,\n",
       " None,\n",
       " None,\n",
       " None,\n",
       " None,\n",
       " None,\n",
       " None,\n",
       " None,\n",
       " None,\n",
       " None,\n",
       " None,\n",
       " None,\n",
       " None,\n",
       " None,\n",
       " None,\n",
       " None,\n",
       " None,\n",
       " None,\n",
       " None,\n",
       " None,\n",
       " None,\n",
       " None,\n",
       " None,\n",
       " None,\n",
       " None,\n",
       " None,\n",
       " None,\n",
       " None,\n",
       " None,\n",
       " None,\n",
       " None,\n",
       " None,\n",
       " None,\n",
       " None,\n",
       " None,\n",
       " None,\n",
       " None,\n",
       " None,\n",
       " None,\n",
       " None,\n",
       " None,\n",
       " None,\n",
       " None,\n",
       " None,\n",
       " None,\n",
       " None,\n",
       " None,\n",
       " None,\n",
       " None,\n",
       " None,\n",
       " None,\n",
       " None,\n",
       " None,\n",
       " None,\n",
       " None,\n",
       " None,\n",
       " None,\n",
       " None,\n",
       " None,\n",
       " None,\n",
       " None,\n",
       " None,\n",
       " None,\n",
       " None,\n",
       " None,\n",
       " None,\n",
       " None,\n",
       " None,\n",
       " None,\n",
       " None,\n",
       " None,\n",
       " None,\n",
       " None,\n",
       " None,\n",
       " None]"
      ]
     },
     "execution_count": 28,
     "metadata": {},
     "output_type": "execute_result"
    }
   ],
   "source": [
    "res.result"
   ]
  },
  {
   "cell_type": "code",
   "execution_count": null,
   "metadata": {
    "collapsed": false
   },
   "outputs": [],
   "source": []
  }
 ],
 "metadata": {
  "kernelspec": {
   "display_name": "Python 2",
   "language": "python",
   "name": "python2"
  },
  "language_info": {
   "codemirror_mode": {
    "name": "ipython",
    "version": 2
   },
   "file_extension": ".py",
   "mimetype": "text/x-python",
   "name": "python",
   "nbconvert_exporter": "python",
   "pygments_lexer": "ipython2",
   "version": "2.7.12"
  }
 },
 "nbformat": 4,
 "nbformat_minor": 0
}
