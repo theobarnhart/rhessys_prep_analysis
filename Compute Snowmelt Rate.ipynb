{
 "cells": [
  {
   "cell_type": "code",
   "execution_count": 1,
   "metadata": {
    "collapsed": true
   },
   "outputs": [],
   "source": [
    "import glob\n",
    "import IPython.parallel as P\n",
    "import pandas as pd\n",
    "import numpy as np"
   ]
  },
  {
   "cell_type": "code",
   "execution_count": 2,
   "metadata": {
    "collapsed": true
   },
   "outputs": [],
   "source": [
    "c = P.Client()"
   ]
  },
  {
   "cell_type": "code",
   "execution_count": 3,
   "metadata": {
    "collapsed": true
   },
   "outputs": [],
   "source": [
    "view = c.load_balanced_view()"
   ]
  },
  {
   "cell_type": "code",
   "execution_count": 4,
   "metadata": {
    "collapsed": true
   },
   "outputs": [],
   "source": [
    "%%px\n",
    "import pandas as pd\n",
    "import numpy as np"
   ]
  },
  {
   "cell_type": "code",
   "execution_count": 5,
   "metadata": {
    "collapsed": true
   },
   "outputs": [],
   "source": [
    "files = glob.glob('/RHESSys/ComoCreek_new/clim/smexperiment/hourly/*.snow_melt_input')"
   ]
  },
  {
   "cell_type": "code",
   "execution_count": 20,
   "metadata": {
    "collapsed": false
   },
   "outputs": [],
   "source": [
    "def computeSM(fl):\n",
    "    num = int(fl.split('_')[-3].split('.')[0])\n",
    "\n",
    "    data = pd.read_table(fl,delim_whitespace=True, names=['Y','M','D','h','SM'], skiprows=1)\n",
    "\n",
    "    sm = data.SM.mean() # compute average snowmelt [m/day] over the time series\n",
    "    sm_in = data.SM.sum() # total snowmelt \n",
    "    \n",
    "    return num,sm,sm_in # output parameter number and snowmelt rate "
   ]
  },
  {
   "cell_type": "code",
   "execution_count": 21,
   "metadata": {
    "collapsed": true
   },
   "outputs": [],
   "source": [
    "res = view.map(computeSM,files)"
   ]
  },
  {
   "cell_type": "code",
   "execution_count": 22,
   "metadata": {
    "collapsed": false
   },
   "outputs": [
    {
     "data": {
      "text/plain": [
       "False"
      ]
     },
     "execution_count": 22,
     "metadata": {},
     "output_type": "execute_result"
    }
   ],
   "source": [
    "res.ready()"
   ]
  },
  {
   "cell_type": "code",
   "execution_count": 25,
   "metadata": {
    "collapsed": false
   },
   "outputs": [
    {
     "data": {
      "text/plain": [
       "29500"
      ]
     },
     "execution_count": 25,
     "metadata": {},
     "output_type": "execute_result"
    }
   ],
   "source": [
    "res.progress"
   ]
  },
  {
   "cell_type": "code",
   "execution_count": 26,
   "metadata": {
    "collapsed": true
   },
   "outputs": [],
   "source": [
    "num,sm,sm_in = zip(*res)"
   ]
  },
  {
   "cell_type": "code",
   "execution_count": 27,
   "metadata": {
    "collapsed": true
   },
   "outputs": [],
   "source": [
    "num = np.array(num)\n",
    "sm = np.array(sm)\n",
    "sm_in = np.array(sm_in)"
   ]
  },
  {
   "cell_type": "code",
   "execution_count": 28,
   "metadata": {
    "collapsed": true
   },
   "outputs": [],
   "source": [
    "# merge w/ the smex1 df"
   ]
  },
  {
   "cell_type": "code",
   "execution_count": 29,
   "metadata": {
    "collapsed": true
   },
   "outputs": [],
   "source": [
    "smex1 = pd.read_pickle('./data/smex1.pcl')"
   ]
  },
  {
   "cell_type": "code",
   "execution_count": 30,
   "metadata": {
    "collapsed": true
   },
   "outputs": [],
   "source": [
    "tmp = pd.DataFrame()\n",
    "for arr,key in zip([num,sm,sm_in],['idx','sm','sm_in']):\n",
    "    tmp[key] = arr"
   ]
  },
  {
   "cell_type": "code",
   "execution_count": 31,
   "metadata": {
    "collapsed": true
   },
   "outputs": [],
   "source": [
    "smex1 = pd.merge(smex1,tmp,on='idx')"
   ]
  },
  {
   "cell_type": "code",
   "execution_count": 32,
   "metadata": {
    "collapsed": false
   },
   "outputs": [
    {
     "data": {
      "text/html": [
       "<div>\n",
       "<table border=\"1\" class=\"dataframe\">\n",
       "  <thead>\n",
       "    <tr style=\"text-align: right;\">\n",
       "      <th></th>\n",
       "      <th>Tnosnow</th>\n",
       "      <th>TpeakSWE</th>\n",
       "      <th>peakSWE</th>\n",
       "      <th>SMR</th>\n",
       "      <th>ref</th>\n",
       "      <th>date_ONS</th>\n",
       "      <th>DOAS</th>\n",
       "      <th>date_AS</th>\n",
       "      <th>idx</th>\n",
       "      <th>MAP</th>\n",
       "      <th>ET</th>\n",
       "      <th>Q</th>\n",
       "      <th>Qbf</th>\n",
       "      <th>Qrf</th>\n",
       "      <th>rech</th>\n",
       "      <th>sat</th>\n",
       "      <th>sm</th>\n",
       "      <th>sm_in</th>\n",
       "    </tr>\n",
       "  </thead>\n",
       "  <tbody>\n",
       "    <tr>\n",
       "      <th>0</th>\n",
       "      <td>223</td>\n",
       "      <td>172</td>\n",
       "      <td>0.201000</td>\n",
       "      <td>0.003941</td>\n",
       "      <td>2008</td>\n",
       "      <td>2008-05-10</td>\n",
       "      <td>15</td>\n",
       "      <td>2007-10-15</td>\n",
       "      <td>0</td>\n",
       "      <td>0.3567</td>\n",
       "      <td>383.90021</td>\n",
       "      <td>26.612353</td>\n",
       "      <td>26.612353</td>\n",
       "      <td>0</td>\n",
       "      <td>224.454184</td>\n",
       "      <td>0</td>\n",
       "      <td>0.003941</td>\n",
       "      <td>0.201000</td>\n",
       "    </tr>\n",
       "    <tr>\n",
       "      <th>1</th>\n",
       "      <td>223</td>\n",
       "      <td>172</td>\n",
       "      <td>0.207490</td>\n",
       "      <td>0.004068</td>\n",
       "      <td>2008</td>\n",
       "      <td>2008-05-10</td>\n",
       "      <td>15</td>\n",
       "      <td>2007-10-15</td>\n",
       "      <td>1</td>\n",
       "      <td>0.3567</td>\n",
       "      <td>383.90021</td>\n",
       "      <td>26.612353</td>\n",
       "      <td>26.612353</td>\n",
       "      <td>0</td>\n",
       "      <td>224.454184</td>\n",
       "      <td>0</td>\n",
       "      <td>0.004068</td>\n",
       "      <td>0.207490</td>\n",
       "    </tr>\n",
       "    <tr>\n",
       "      <th>2</th>\n",
       "      <td>223</td>\n",
       "      <td>172</td>\n",
       "      <td>0.213980</td>\n",
       "      <td>0.004196</td>\n",
       "      <td>2008</td>\n",
       "      <td>2008-05-10</td>\n",
       "      <td>15</td>\n",
       "      <td>2007-10-15</td>\n",
       "      <td>2</td>\n",
       "      <td>0.3567</td>\n",
       "      <td>383.90021</td>\n",
       "      <td>26.612353</td>\n",
       "      <td>26.612353</td>\n",
       "      <td>0</td>\n",
       "      <td>224.454184</td>\n",
       "      <td>0</td>\n",
       "      <td>0.004196</td>\n",
       "      <td>0.213980</td>\n",
       "    </tr>\n",
       "    <tr>\n",
       "      <th>3</th>\n",
       "      <td>223</td>\n",
       "      <td>172</td>\n",
       "      <td>0.220469</td>\n",
       "      <td>0.004323</td>\n",
       "      <td>2008</td>\n",
       "      <td>2008-05-10</td>\n",
       "      <td>15</td>\n",
       "      <td>2007-10-15</td>\n",
       "      <td>3</td>\n",
       "      <td>0.3567</td>\n",
       "      <td>383.90021</td>\n",
       "      <td>26.612353</td>\n",
       "      <td>26.612353</td>\n",
       "      <td>0</td>\n",
       "      <td>224.454184</td>\n",
       "      <td>0</td>\n",
       "      <td>0.004323</td>\n",
       "      <td>0.220469</td>\n",
       "    </tr>\n",
       "    <tr>\n",
       "      <th>4</th>\n",
       "      <td>223</td>\n",
       "      <td>172</td>\n",
       "      <td>0.226959</td>\n",
       "      <td>0.004450</td>\n",
       "      <td>2008</td>\n",
       "      <td>2008-05-10</td>\n",
       "      <td>15</td>\n",
       "      <td>2007-10-15</td>\n",
       "      <td>4</td>\n",
       "      <td>0.3567</td>\n",
       "      <td>383.90021</td>\n",
       "      <td>26.612353</td>\n",
       "      <td>26.612353</td>\n",
       "      <td>0</td>\n",
       "      <td>224.454184</td>\n",
       "      <td>0</td>\n",
       "      <td>0.004450</td>\n",
       "      <td>0.226959</td>\n",
       "    </tr>\n",
       "  </tbody>\n",
       "</table>\n",
       "</div>"
      ],
      "text/plain": [
       "   Tnosnow  TpeakSWE   peakSWE       SMR   ref   date_ONS  DOAS    date_AS  \\\n",
       "0      223       172  0.201000  0.003941  2008 2008-05-10    15 2007-10-15   \n",
       "1      223       172  0.207490  0.004068  2008 2008-05-10    15 2007-10-15   \n",
       "2      223       172  0.213980  0.004196  2008 2008-05-10    15 2007-10-15   \n",
       "3      223       172  0.220469  0.004323  2008 2008-05-10    15 2007-10-15   \n",
       "4      223       172  0.226959  0.004450  2008 2008-05-10    15 2007-10-15   \n",
       "\n",
       "   idx     MAP         ET          Q        Qbf  Qrf        rech  sat  \\\n",
       "0    0  0.3567  383.90021  26.612353  26.612353    0  224.454184    0   \n",
       "1    1  0.3567  383.90021  26.612353  26.612353    0  224.454184    0   \n",
       "2    2  0.3567  383.90021  26.612353  26.612353    0  224.454184    0   \n",
       "3    3  0.3567  383.90021  26.612353  26.612353    0  224.454184    0   \n",
       "4    4  0.3567  383.90021  26.612353  26.612353    0  224.454184    0   \n",
       "\n",
       "         sm     sm_in  \n",
       "0  0.003941  0.201000  \n",
       "1  0.004068  0.207490  \n",
       "2  0.004196  0.213980  \n",
       "3  0.004323  0.220469  \n",
       "4  0.004450  0.226959  "
      ]
     },
     "execution_count": 32,
     "metadata": {},
     "output_type": "execute_result"
    }
   ],
   "source": [
    "smex1.head()"
   ]
  },
  {
   "cell_type": "code",
   "execution_count": 17,
   "metadata": {
    "collapsed": true
   },
   "outputs": [],
   "source": [
    "np.savez_compressed('./data/computed_sm_smex1.npz',idx=num,computed_sm=sm)"
   ]
  },
  {
   "cell_type": "code",
   "execution_count": 33,
   "metadata": {
    "collapsed": true
   },
   "outputs": [],
   "source": [
    "tmp = smex1['peakSWE'] - smex1['sm_in']"
   ]
  },
  {
   "cell_type": "code",
   "execution_count": 34,
   "metadata": {
    "collapsed": false
   },
   "outputs": [
    {
     "data": {
      "text/plain": [
       "2.9408167841471489e-06"
      ]
     },
     "execution_count": 34,
     "metadata": {},
     "output_type": "execute_result"
    }
   ],
   "source": [
    "np.sum(tmp)"
   ]
  },
  {
   "cell_type": "code",
   "execution_count": null,
   "metadata": {
    "collapsed": true
   },
   "outputs": [],
   "source": []
  }
 ],
 "metadata": {
  "kernelspec": {
   "display_name": "Python 2",
   "language": "python",
   "name": "python2"
  },
  "language_info": {
   "codemirror_mode": {
    "name": "ipython",
    "version": 2
   },
   "file_extension": ".py",
   "mimetype": "text/x-python",
   "name": "python",
   "nbconvert_exporter": "python",
   "pygments_lexer": "ipython2",
   "version": "2.7.11"
  }
 },
 "nbformat": 4,
 "nbformat_minor": 0
}
