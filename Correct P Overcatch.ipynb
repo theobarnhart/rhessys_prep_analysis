{
 "cells": [
  {
   "cell_type": "code",
   "execution_count": 1,
   "metadata": {
    "collapsed": true
   },
   "outputs": [],
   "source": [
    "import numpy as np\n",
    "import pandas as pd\n",
    "import matplotlib.pyplot as plt\n",
    "from rhessys import utilities as rut\n",
    "import seaborn as sns\n",
    "import statsmodels.formula.api as sm\n",
    "%matplotlib inline"
   ]
  },
  {
   "cell_type": "code",
   "execution_count": 2,
   "metadata": {
    "collapsed": false
   },
   "outputs": [],
   "source": [
    "niwot = pd.read_pickle('./data/niwot_new.pcl')\n",
    "crn = pd.read_pickle('../greenness_timing/data/boulder_co.pcl')\n",
    "AFX = pd.read_pickle('../greenness_timing/data/AFX2_new.pcl')\n",
    "nw = pd.read_pickle('./data/niwot_stats.pcl')"
   ]
  },
  {
   "cell_type": "code",
   "execution_count": 3,
   "metadata": {
    "collapsed": true
   },
   "outputs": [],
   "source": [
    "niwot['snowfall'] = niwot.snowmelt.copy() # create an accumulation variable"
   ]
  },
  {
   "cell_type": "code",
   "execution_count": 4,
   "metadata": {
    "collapsed": false
   },
   "outputs": [],
   "source": [
    "niwot.loc[niwot.snowfall>0,'snowfall'] = 0. # zero melt events"
   ]
  },
  {
   "cell_type": "code",
   "execution_count": 5,
   "metadata": {
    "collapsed": false
   },
   "outputs": [],
   "source": [
    "niwot['snowfall'] = niwot.snowfall.abs()"
   ]
  },
  {
   "cell_type": "code",
   "execution_count": 6,
   "metadata": {
    "collapsed": false
   },
   "outputs": [],
   "source": [
    "niwot['accum_sf'] = np.NaN\n",
    "\n",
    "for wy in np.unique(niwot.wateryear):\n",
    "    niwot.loc[niwot.wateryear == wy,'accum_sf'] = niwot.loc[niwot.wateryear == wy,'snowfall'].cumsum()"
   ]
  },
  {
   "cell_type": "code",
   "execution_count": 7,
   "metadata": {
    "collapsed": true
   },
   "outputs": [],
   "source": [
    "crn['wateryear'] = crn.index.map(rut.wateryear)\n",
    "niwot['wateryear'] = niwot.index.map(rut.wateryear)"
   ]
  },
  {
   "cell_type": "code",
   "execution_count": 8,
   "metadata": {
    "collapsed": true
   },
   "outputs": [],
   "source": [
    "wyears = np.unique(crn.wateryear)"
   ]
  },
  {
   "cell_type": "code",
   "execution_count": 9,
   "metadata": {
    "collapsed": false
   },
   "outputs": [],
   "source": [
    "wyears = wyears[1:-1]"
   ]
  },
  {
   "cell_type": "code",
   "execution_count": 10,
   "metadata": {
    "collapsed": false
   },
   "outputs": [
    {
     "data": {
      "text/plain": [
       "array([2004, 2005, 2006, 2007, 2008, 2009, 2010, 2011, 2012, 2013, 2014])"
      ]
     },
     "execution_count": 10,
     "metadata": {},
     "output_type": "execute_result"
    }
   ],
   "source": [
    "wyears"
   ]
  },
  {
   "cell_type": "code",
   "execution_count": 11,
   "metadata": {
    "collapsed": false
   },
   "outputs": [],
   "source": [
    "# crop everything to the same time period\n",
    "crn = crn.loc[(crn.wateryear>=2004) & (crn.wateryear<=2014)]\n",
    "niwot = niwot.loc[(niwot.wateryear>=2004) & (niwot.wateryear<=2014)]\n",
    "nw = nw.loc[(nw.index>=2004) & (nw.index<=2014)]"
   ]
  },
  {
   "cell_type": "code",
   "execution_count": 12,
   "metadata": {
    "collapsed": false
   },
   "outputs": [
    {
     "data": {
      "text/plain": [
       "Index([u'Tave', u'Tmax', u'Tmin', u'AccumP', u'P', u'Psnowadj', u'SD', u'SWE',\n",
       "       u'snowmelt', u'wateryear', u'dowy', u'snowfall', u'accum_sf'],\n",
       "      dtype='object')"
      ]
     },
     "execution_count": 12,
     "metadata": {},
     "output_type": "execute_result"
    }
   ],
   "source": [
    "niwot.columns"
   ]
  },
  {
   "cell_type": "code",
   "execution_count": 13,
   "metadata": {
    "collapsed": false
   },
   "outputs": [
    {
     "ename": "NameError",
     "evalue": "name 'strt' is not defined",
     "output_type": "error",
     "traceback": [
      "\u001b[0;31m---------------------------------------------------------------------------\u001b[0m",
      "\u001b[0;31mNameError\u001b[0m                                 Traceback (most recent call last)",
      "\u001b[0;32m<ipython-input-13-e98261de4007>\u001b[0m in \u001b[0;36m<module>\u001b[0;34m()\u001b[0m\n\u001b[0;32m----> 1\u001b[0;31m \u001b[0mstrt\u001b[0m\u001b[0;34m[\u001b[0m\u001b[0;36m0\u001b[0m\u001b[0;34m]\u001b[0m\u001b[0;34m\u001b[0m\u001b[0m\n\u001b[0m",
      "\u001b[0;31mNameError\u001b[0m: name 'strt' is not defined"
     ]
    }
   ],
   "source": [
    "strt[0]"
   ]
  },
  {
   "cell_type": "code",
   "execution_count": 14,
   "metadata": {
    "collapsed": false
   },
   "outputs": [],
   "source": [
    "# compute accumulated Snow Season P and SWE\n",
    "\n",
    "SWE = []\n",
    "P = []\n",
    "\n",
    "for wy in wyears:\n",
    "    strt = nw.loc[nw.index==wy,'accumSeasDate'].as_matrix()[0]\n",
    "    nd = nw.loc[nw.index==wy,'DateNS'].as_matrix()[0]\n",
    "    \n",
    "    SWE.append(niwot.loc[strt:nd,'snowfall'].sum())\n",
    "    P.append(crn.loc[strt:nd,'P'].sum())"
   ]
  },
  {
   "cell_type": "code",
   "execution_count": 15,
   "metadata": {
    "collapsed": false
   },
   "outputs": [
    {
     "data": {
      "text/plain": [
       "[495.0, 559.0, 418.0, 592.0, 409.0, 452.0, 453.0, 587.0, 337.0, 482.0, 561.0]"
      ]
     },
     "execution_count": 15,
     "metadata": {},
     "output_type": "execute_result"
    }
   ],
   "source": [
    "SWE"
   ]
  },
  {
   "cell_type": "code",
   "execution_count": 16,
   "metadata": {
    "collapsed": false
   },
   "outputs": [
    {
     "data": {
      "text/plain": [
       "<Container object of 11 artists>"
      ]
     },
     "execution_count": 16,
     "metadata": {},
     "output_type": "execute_result"
    },
    {
     "data": {
      "image/png": "[encoded data removed]",
      "text/plain": [
       "<matplotlib.figure.Figure at 0x10ea210d0>"
      ]
     },
     "metadata": {},
     "output_type": "display_data"
    }
   ],
   "source": [
    "plt.figure(figsize=(15,7))\n",
    "plt.bar(wyears,P, facecolor='g')\n",
    "plt.bar(wyears,SWE,width=0.5)\n"
   ]
  },
  {
   "cell_type": "code",
   "execution_count": 17,
   "metadata": {
    "collapsed": true
   },
   "outputs": [],
   "source": [
    "coef = np.array(SWE)/np.array(P) # compute a coeficient to correct P to SWE during the snow season"
   ]
  },
  {
   "cell_type": "markdown",
   "metadata": {},
   "source": [
    "## Insert Corrected Values of Snow Season P into the CRN Data"
   ]
  },
  {
   "cell_type": "code",
   "execution_count": 18,
   "metadata": {
    "collapsed": true
   },
   "outputs": [],
   "source": [
    "crn_corr = crn.copy() # copy the crn data"
   ]
  },
  {
   "cell_type": "code",
   "execution_count": 19,
   "metadata": {
    "collapsed": true
   },
   "outputs": [],
   "source": [
    "# loop through each water year and correct the data\n",
    "for wy,corr in zip(wyears,coef):\n",
    "    strt = nw.loc[nw.index==wy,'accumSeasDate'].as_matrix()[0]\n",
    "    nd = nw.loc[nw.index==wy,'DateNS'].as_matrix()[0]\n",
    "    \n",
    "    crn_corr.loc[strt:nd,'P'] *= corr # correct the P data during the snow season "
   ]
  },
  {
   "cell_type": "code",
   "execution_count": 20,
   "metadata": {
    "collapsed": true
   },
   "outputs": [],
   "source": [
    "# recalculate WY P for the corrected data\n",
    "Porg = []\n",
    "Pcorr = []\n",
    "\n",
    "for wy in wyears:\n",
    "    Porg.append(crn.loc[crn.wateryear==wy,'P'].sum())\n",
    "    Pcorr.append(crn_corr.loc[crn_corr.wateryear==wy,'P'].sum())\n",
    "    \n",
    "Porg = np.array(Porg)\n",
    "Pcorr = np.array(Pcorr)"
   ]
  },
  {
   "cell_type": "code",
   "execution_count": 21,
   "metadata": {
    "collapsed": false
   },
   "outputs": [
    {
     "data": {
      "text/plain": [
       "<matplotlib.text.Text at 0x10f4b24d0>"
      ]
     },
     "execution_count": 21,
     "metadata": {},
     "output_type": "execute_result"
    },
    {
     "data": {
      "image/png": "[encoded data removed]",
      "text/plain": [
       "<matplotlib.figure.Figure at 0x10f126250>"
      ]
     },
     "metadata": {},
     "output_type": "display_data"
    }
   ],
   "source": [
    "plt.figure(figsize=(15,7))\n",
    "plt.bar(wyears,Porg, facecolor='g')\n",
    "plt.bar(wyears,Pcorr,width=0.5)\n",
    "plt.legend(['Uncorrected','Corrected'],loc='best', fontsize=16)\n",
    "plt.ylabel('WY Precipitation', fontsize=20)"
   ]
  },
  {
   "cell_type": "markdown",
   "metadata": {},
   "source": [
    "## Output the data to a new climate basestation"
   ]
  },
  {
   "cell_type": "code",
   "execution_count": 22,
   "metadata": {
    "collapsed": true
   },
   "outputs": [],
   "source": [
    "# prep the data for output\n",
    "crn_corr.loc[np.isnan(crn_corr.P),'P'] = 0. # zero missing precip.\n",
    "crn_corr.interpolate(inplace=True,method='linear') # interpolate everything else"
   ]
  },
  {
   "cell_type": "code",
   "execution_count": 23,
   "metadata": {
    "collapsed": true
   },
   "outputs": [],
   "source": [
    "crn_corr.to_pickle('./data/crn_corr.pcl')"
   ]
  },
  {
   "cell_type": "code",
   "execution_count": 141,
   "metadata": {
    "collapsed": false
   },
   "outputs": [],
   "source": [
    "n = len(crn_corr)\n",
    "P = np.reshape(crn_corr.P.as_matrix(),[n,1]) * 0.001 # convert mm to m\n",
    "Tmin = np.reshape(crn_corr.Tmin.as_matrix(),[n,1])\n",
    "Tmax = np.reshape(crn_corr.Tmax.as_matrix(),[n,1])\n",
    "Tavg = np.reshape(crn_corr.Tave_mod.as_matrix(),[n,1])"
   ]
  },
  {
   "cell_type": "code",
   "execution_count": 142,
   "metadata": {
    "collapsed": false
   },
   "outputs": [],
   "source": [
    "header = '2003 10 1'\n",
    "\n",
    "np.savetxt('/RHESSys/ComoCreek_new/clim/boulder_crn_corr.rain',P,comments='',header=header,fmt='%10.8f')\n",
    "np.savetxt('/RHESSys/ComoCreek_new/clim/boulder_crn_corr.tmin',Tmin,comments='',header=header,fmt='%10.8f')\n",
    "np.savetxt('/RHESSys/ComoCreek_new/clim/boulder_crn_corr.tmax',Tmax,comments='',header=header,fmt='%10.8f')\n",
    "np.savetxt('/RHESSys/ComoCreek_new/clim/boulder_crn_corr.tavg',Tavg,comments='',header=header,fmt='%10.8f')"
   ]
  },
  {
   "cell_type": "code",
   "execution_count": 117,
   "metadata": {
    "collapsed": false
   },
   "outputs": [
    {
     "data": {
      "text/plain": [
       "array([ 0.99039616,  1.02681852,  0.94612947,  1.11930422,  0.73920116,\n",
       "        0.80513003,  0.76468602,  0.7597722 ,  0.78481602,  0.91722169,\n",
       "        0.71720788])"
      ]
     },
     "execution_count": 117,
     "metadata": {},
     "output_type": "execute_result"
    }
   ],
   "source": [
    "coef"
   ]
  },
  {
   "cell_type": "code",
   "execution_count": 28,
   "metadata": {
    "collapsed": false
   },
   "outputs": [
    {
     "data": {
      "text/plain": [
       "<Container object of 89 artists>"
      ]
     },
     "execution_count": 28,
     "metadata": {},
     "output_type": "execute_result"
    },
    {
     "data": {
      "image/png": "[encoded data removed]",
      "text/plain": [
       "<matplotlib.figure.Figure at 0x111500850>"
      ]
     },
     "metadata": {},
     "output_type": "display_data"
    }
   ],
   "source": [
    "strt = '2011-2-1'\n",
    "nd = '2011-4-30'\n",
    "\n",
    "plt.figure(figsize=(15,7))\n",
    "plt.bar(crn[strt:nd].index,crn[strt:nd].P, facecolor = 'g')\n",
    "plt.bar(niwot[strt:nd].index, niwot[strt:nd].snowfall)\n"
   ]
  },
  {
   "cell_type": "code",
   "execution_count": 33,
   "metadata": {
    "collapsed": false
   },
   "outputs": [
    {
     "data": {
      "text/plain": [
       "<Container object of 89 artists>"
      ]
     },
     "execution_count": 33,
     "metadata": {},
     "output_type": "execute_result"
    },
    {
     "data": {
      "image/png": "[encoded data removed]",
      "text/plain": [
       "<matplotlib.figure.Figure at 0x112335750>"
      ]
     },
     "metadata": {},
     "output_type": "display_data"
    }
   ],
   "source": [
    "plt.figure(figsize=(15,7))\n",
    "plt.bar(AFX[strt:nd].index,AFX[strt:nd].ws_21m)"
   ]
  },
  {
   "cell_type": "code",
   "execution_count": 63,
   "metadata": {
    "collapsed": true
   },
   "outputs": [],
   "source": [
    "oc = crn['P'] - niwot['snowfall'] "
   ]
  },
  {
   "cell_type": "code",
   "execution_count": 72,
   "metadata": {
    "collapsed": false
   },
   "outputs": [
    {
     "data": {
      "text/plain": [
       "<matplotlib.text.Text at 0x1170ff590>"
      ]
     },
     "execution_count": 72,
     "metadata": {},
     "output_type": "execute_result"
    },
    {
     "data": {
      "image/png": "[encoded data removed]",
      "text/plain": [
       "<matplotlib.figure.Figure at 0x117067f90>"
      ]
     },
     "metadata": {},
     "output_type": "display_data"
    }
   ],
   "source": [
    "strt = AFX.index.min()\n",
    "nd = AFX.index.max()\n",
    "\n",
    "td = pd.datetools.timedelta(4)\n",
    "\n",
    "plt.scatter(AFX[strt:nd].ws_21m,oc[strt+td:nd+td],s=80,edgecolor='w',lw=2)\n",
    "plt.xlabel('Wind Speed Above the Canopy', fontsize = 20)\n",
    "plt.ylabel('Overcatch [mm]', fontsize = 20)"
   ]
  },
  {
   "cell_type": "code",
   "execution_count": 61,
   "metadata": {
    "collapsed": false
   },
   "outputs": [
    {
     "data": {
      "text/plain": [
       "datetime.timedelta(-4)"
      ]
     },
     "execution_count": 61,
     "metadata": {},
     "output_type": "execute_result"
    }
   ],
   "source": [
    "td"
   ]
  },
  {
   "cell_type": "code",
   "execution_count": 45,
   "metadata": {
    "collapsed": false
   },
   "outputs": [
    {
     "data": {
      "text/plain": [
       "5540"
      ]
     },
     "execution_count": 45,
     "metadata": {},
     "output_type": "execute_result"
    }
   ],
   "source": [
    "len(oc[strt:nd])"
   ]
  },
  {
   "cell_type": "code",
   "execution_count": null,
   "metadata": {
    "collapsed": true
   },
   "outputs": [],
   "source": []
  }
 ],
 "metadata": {
  "kernelspec": {
   "display_name": "Python 2",
   "language": "python",
   "name": "python2"
  },
  "language_info": {
   "codemirror_mode": {
    "name": "ipython",
    "version": 2
   },
   "file_extension": ".py",
   "mimetype": "text/x-python",
   "name": "python",
   "nbconvert_exporter": "python",
   "pygments_lexer": "ipython2",
   "version": "2.7.12"
  }
 },
 "nbformat": 4,
 "nbformat_minor": 0
}
