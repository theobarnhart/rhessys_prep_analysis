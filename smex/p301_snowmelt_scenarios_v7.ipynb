{
 "cells": [
  {
   "cell_type": "markdown",
   "metadata": {},
   "source": [
    "### Preamble:\n",
    "\n",
    "These scenarios are based on setting a range of DOY for the snowmelt season occures and for each of those days, pulling a daily snowmelt rate from a distribution of snowmelt rates based on observations, but enlarged by 10% and shifted forward (earlier in the year) 10 days to allow for more rapid snowmelt rates and a wider range of daily snowmelt rates. Once the timeseries of snowmelt rates is generates the average snowmelt rate is computed and then the timeseries is scaled to the desired average snowmelt rate dictated by the length and timing of the ablation season and peak swe for the scenario."
   ]
  },
  {
   "cell_type": "code",
   "execution_count": 1,
   "metadata": {
    "collapsed": false
   },
   "outputs": [],
   "source": [
    "import rhessys.utilities as rut\n",
    "from matplotlib.patches import Polygon\n",
    "import rhessys.snowmelt_experiment as smex\n",
    "from statsmodels.api import formula as sm"
   ]
  },
  {
   "cell_type": "code",
   "execution_count": 2,
   "metadata": {
    "collapsed": true
   },
   "outputs": [],
   "source": [
    "dat = pd.read_pickle('../providence/data/upper_snowpillow_m.pcl')"
   ]
  },
  {
   "cell_type": "code",
   "execution_count": 3,
   "metadata": {
    "collapsed": true
   },
   "outputs": [],
   "source": [
    "dat.loc[dat.swe<0.05,'swe'] = 0."
   ]
  },
  {
   "cell_type": "code",
   "execution_count": 4,
   "metadata": {
    "collapsed": true
   },
   "outputs": [],
   "source": [
    "dat['wateryear'] = dat.index.map(rut.wateryear)"
   ]
  },
  {
   "cell_type": "code",
   "execution_count": 5,
   "metadata": {
    "collapsed": false
   },
   "outputs": [
    {
     "data": {
      "text/plain": [
       "<matplotlib.text.Text at 0x110e2be50>"
      ]
     },
     "execution_count": 5,
     "metadata": {},
     "output_type": "execute_result"
    },
    {
     "data": {
      "image/png": "[encoded data removed]",
      "text/plain": [
       "<matplotlib.figure.Figure at 0x110503150>"
      ]
     },
     "metadata": {},
     "output_type": "display_data"
    }
   ],
   "source": [
    "plt.figure(figsize=(15,5))\n",
    "dat.swe.plot()\n",
    "plt.ylabel('SWE [m]', fontsize=16)"
   ]
  },
  {
   "cell_type": "code",
   "execution_count": 6,
   "metadata": {
    "collapsed": false
   },
   "outputs": [],
   "source": [
    "stats = pd.DataFrame()\n",
    "stats['wateryear'] = dat.wateryear.unique()\n",
    "\n",
    "for wy in dat.wateryear.unique():\n",
    "    tmp = dat.loc[dat.wateryear == wy]\n",
    "    \n",
    "    dopeakswe = tmp.swe.argmax()\n",
    "    peakswe = tmp.swe.max()\n",
    "    \n",
    "    stats.loc[stats.wateryear==wy,'doaccum'] = tmp.loc['%s-10-01'%(wy-1):dopeakswe].swe.argmin()\n",
    "    stats.loc[stats.wateryear==wy,'dosnowfree'] = tmp.loc[dopeakswe:'%s-09-30'%wy].swe.argmin()\n",
    "    stats.loc[stats.wateryear==wy,'dopeakswe'] = dopeakswe\n",
    "    stats.loc[stats.wateryear==wy,'peakswe'] = peakswe\n",
    "    "
   ]
  },
  {
   "cell_type": "code",
   "execution_count": 7,
   "metadata": {
    "collapsed": false
   },
   "outputs": [],
   "source": [
    "def compute_dowy(dt):\n",
    "    year = dt.year\n",
    "    month = dt.month\n",
    "    day = dt.day\n",
    "    wy = rut.wateryear(dt)\n",
    "    \n",
    "    timedelta = dt-pd.datetime.strptime('%s-10-1'%(wy-1),'%Y-%m-%d')   \n",
    "    \n",
    "    return timedelta.days"
   ]
  },
  {
   "cell_type": "code",
   "execution_count": 8,
   "metadata": {
    "collapsed": false
   },
   "outputs": [],
   "source": [
    "stats['dowy_accum'] = stats.doaccum.map(compute_dowy)\n",
    "stats['dowy_snowfree'] = stats.dosnowfree.map(compute_dowy)\n",
    "stats['dowy_peakswe'] = stats.dopeakswe.map(compute_dowy)"
   ]
  },
  {
   "cell_type": "code",
   "execution_count": 9,
   "metadata": {
    "collapsed": true
   },
   "outputs": [],
   "source": [
    "stats['SMR'] = stats.peakswe/(stats.dowy_snowfree-stats.dowy_peakswe) # compute wateryear average snowmelt rate"
   ]
  },
  {
   "cell_type": "code",
   "execution_count": 10,
   "metadata": {
    "collapsed": false
   },
   "outputs": [
    {
     "data": {
      "text/html": [
       "<div>\n",
       "<table border=\"1\" class=\"dataframe\">\n",
       "  <thead>\n",
       "    <tr style=\"text-align: right;\">\n",
       "      <th></th>\n",
       "      <th>wateryear</th>\n",
       "      <th>doaccum</th>\n",
       "      <th>dosnowfree</th>\n",
       "      <th>dopeakswe</th>\n",
       "      <th>peakswe</th>\n",
       "      <th>dowy_accum</th>\n",
       "      <th>dowy_snowfree</th>\n",
       "      <th>dowy_peakswe</th>\n",
       "      <th>SMR</th>\n",
       "    </tr>\n",
       "  </thead>\n",
       "  <tbody>\n",
       "    <tr>\n",
       "      <th>0</th>\n",
       "      <td>2008</td>\n",
       "      <td>2007-10-01</td>\n",
       "      <td>2008-04-24</td>\n",
       "      <td>2008-02-25</td>\n",
       "      <td>0.864533</td>\n",
       "      <td>0</td>\n",
       "      <td>206</td>\n",
       "      <td>147</td>\n",
       "      <td>0.014653</td>\n",
       "    </tr>\n",
       "    <tr>\n",
       "      <th>1</th>\n",
       "      <td>2009</td>\n",
       "      <td>2008-10-01</td>\n",
       "      <td>2009-04-20</td>\n",
       "      <td>2009-03-05</td>\n",
       "      <td>0.527895</td>\n",
       "      <td>0</td>\n",
       "      <td>201</td>\n",
       "      <td>155</td>\n",
       "      <td>0.011476</td>\n",
       "    </tr>\n",
       "    <tr>\n",
       "      <th>2</th>\n",
       "      <td>2010</td>\n",
       "      <td>2009-10-01</td>\n",
       "      <td>2010-05-31</td>\n",
       "      <td>2010-03-14</td>\n",
       "      <td>0.929373</td>\n",
       "      <td>0</td>\n",
       "      <td>242</td>\n",
       "      <td>164</td>\n",
       "      <td>0.011915</td>\n",
       "    </tr>\n",
       "    <tr>\n",
       "      <th>3</th>\n",
       "      <td>2011</td>\n",
       "      <td>2010-10-01</td>\n",
       "      <td>2011-06-02</td>\n",
       "      <td>2011-03-27</td>\n",
       "      <td>1.135233</td>\n",
       "      <td>0</td>\n",
       "      <td>244</td>\n",
       "      <td>177</td>\n",
       "      <td>0.016944</td>\n",
       "    </tr>\n",
       "    <tr>\n",
       "      <th>4</th>\n",
       "      <td>2012</td>\n",
       "      <td>2011-10-01</td>\n",
       "      <td>2012-04-21</td>\n",
       "      <td>2012-03-19</td>\n",
       "      <td>0.194150</td>\n",
       "      <td>0</td>\n",
       "      <td>203</td>\n",
       "      <td>170</td>\n",
       "      <td>0.005883</td>\n",
       "    </tr>\n",
       "  </tbody>\n",
       "</table>\n",
       "</div>"
      ],
      "text/plain": [
       "   wateryear    doaccum dosnowfree  dopeakswe   peakswe  dowy_accum  \\\n",
       "0       2008 2007-10-01 2008-04-24 2008-02-25  0.864533           0   \n",
       "1       2009 2008-10-01 2009-04-20 2009-03-05  0.527895           0   \n",
       "2       2010 2009-10-01 2010-05-31 2010-03-14  0.929373           0   \n",
       "3       2011 2010-10-01 2011-06-02 2011-03-27  1.135233           0   \n",
       "4       2012 2011-10-01 2012-04-21 2012-03-19  0.194150           0   \n",
       "\n",
       "   dowy_snowfree  dowy_peakswe       SMR  \n",
       "0            206           147  0.014653  \n",
       "1            201           155  0.011476  \n",
       "2            242           164  0.011915  \n",
       "3            244           177  0.016944  \n",
       "4            203           170  0.005883  "
      ]
     },
     "execution_count": 10,
     "metadata": {},
     "output_type": "execute_result"
    }
   ],
   "source": [
    "stats.head()"
   ]
  },
  {
   "cell_type": "markdown",
   "metadata": {},
   "source": [
    "### Generate the SWE Triangles"
   ]
  },
  {
   "cell_type": "code",
   "execution_count": 11,
   "metadata": {
    "collapsed": true
   },
   "outputs": [],
   "source": [
    "peakswe = stats.peakswe.mean()\n",
    "DOAS = stats.dowy_accum.mean()\n",
    "DONS = stats.dowy_snowfree.mean()\n",
    "DOWYpeakSWE = stats.dowy_peakswe.mean()\n",
    "\n",
    "peakswe90 = np.percentile(stats.peakswe,90)\n",
    "DOAS90 = np.percentile(stats.dowy_accum,90)\n",
    "DONS90 = np.percentile(stats.dowy_snowfree,90)\n",
    "DOWYpeakSWE90 = np.percentile(stats.dowy_peakswe,90)\n",
    "\n",
    "peakswe10 = np.percentile(stats.peakswe,10)\n",
    "DOAS10 = np.percentile(stats.dowy_accum,10)\n",
    "DONS10 = np.percentile(stats.dowy_snowfree,10)\n",
    "DOWYpeakSWE10 = np.percentile(stats.dowy_peakswe,10)"
   ]
  },
  {
   "cell_type": "code",
   "execution_count": 12,
   "metadata": {
    "collapsed": false
   },
   "outputs": [
    {
     "data": {
      "text/plain": [
       "<matplotlib.text.Text at 0x1133d3e90>"
      ]
     },
     "execution_count": 12,
     "metadata": {},
     "output_type": "execute_result"
    },
    {
     "data": {
      "image/png": "[encoded data removed]",
      "text/plain": [
       "<matplotlib.figure.Figure at 0x113345650>"
      ]
     },
     "metadata": {},
     "output_type": "display_data"
    }
   ],
   "source": [
    "fig = plt.figure(figsize=(15,10))\n",
    "ax = fig.add_subplot(111)\n",
    "\n",
    "for wy in np.unique(stats.index):\n",
    "    \n",
    "    x1 = stats.loc[stats.index==wy,'dowy_accum'].as_matrix()[0]\n",
    "    x2 = stats.loc[stats.index==wy,'dowy_snowfree'].as_matrix()[0]\n",
    "    x3 = stats.loc[stats.index==wy,'dowy_peakswe'].as_matrix()[0]\n",
    "    y3 = stats.loc[stats.index==wy,'peakswe'].as_matrix()[0]\n",
    "    \n",
    "    pts = np.array([[x2,0],[x3,y3],[x1,0]])\n",
    "    \n",
    "    p = Polygon(pts, closed=False, alpha = 0.5,edgecolor='none',facecolor='0.7')\n",
    "    ax.add_patch(p)\n",
    "    \n",
    "for wy in np.unique(stats.index):\n",
    "    \n",
    "    x1 = stats.loc[stats.index==wy,'dowy_accum'].as_matrix()[0]\n",
    "    x2 = stats.loc[stats.index==wy,'dowy_snowfree'].as_matrix()[0]\n",
    "    x3 = stats.loc[stats.index==wy,'dowy_peakswe'].as_matrix()[0]\n",
    "    y3 = stats.loc[stats.index==wy,'peakswe'].as_matrix()[0]\n",
    "    \n",
    "    pts = np.array([[x2,0],[x3,y3],[x1,0]])\n",
    "    \n",
    "    p = Polygon(pts, closed=False, alpha = 0.25,edgecolor='k',facecolor='none',lw=4)\n",
    "    ax.add_patch(p)\n",
    "\n",
    "x1 = DOAS\n",
    "x2 = DONS\n",
    "x3 = DOWYpeakSWE\n",
    "y3 = peakswe\n",
    "\n",
    "pts = np.array([[x2,0],[x3,y3],[x1,0]])\n",
    "    \n",
    "p = Polygon(pts, closed=False, alpha = 1,edgecolor='r',facecolor='none',lw=6)\n",
    "ax.add_patch(p)\n",
    "\n",
    "x1 = DOAS10\n",
    "x2 = DONS90\n",
    "x3 = DOWYpeakSWE90\n",
    "y3 = peakswe90\n",
    "\n",
    "pts = np.array([[x2,0],[x3,y3],[x1,0]])\n",
    "    \n",
    "p = Polygon(pts, closed=False, alpha = 1,edgecolor='b',facecolor='none',lw=5)\n",
    "ax.add_patch(p)\n",
    "\n",
    "x1 = DOAS90\n",
    "x2 = DONS10\n",
    "x3 = DOWYpeakSWE10\n",
    "y3 = peakswe10\n",
    "\n",
    "pts = np.array([[x2,0],[x3,y3],[x1,0]])\n",
    "    \n",
    "p = Polygon(pts, closed=False, alpha = 1,edgecolor='b',facecolor='none',lw=5)\n",
    "ax.add_patch(p)    \n",
    "\n",
    "ax.set_xlim(-10,250)\n",
    "ax.set_ylim(-.05,1.5)\n",
    "plt.xlabel('Day of Water Year', fontsize = 16)\n",
    "plt.ylabel('SWE [m]', fontsize=16)"
   ]
  },
  {
   "cell_type": "code",
   "execution_count": 13,
   "metadata": {
    "collapsed": true
   },
   "outputs": [],
   "source": [
    "dat['dowy'] = dat.index.map(compute_dowy)"
   ]
  },
  {
   "cell_type": "code",
   "execution_count": 14,
   "metadata": {
    "collapsed": true
   },
   "outputs": [],
   "source": [
    "# compute snowmelt based on SWE\n",
    "tmp1 = dat.swe.as_matrix()[0:-1]\n",
    "tmp2 = dat.swe.as_matrix()[1:]\n",
    "\n",
    "dat['sm'] = np.nan\n",
    "\n",
    "dat.ix[1:,'sm'] = tmp2-tmp1"
   ]
  },
  {
   "cell_type": "code",
   "execution_count": 15,
   "metadata": {
    "collapsed": true
   },
   "outputs": [],
   "source": [
    "dates = [] # preallocate actual dates\n",
    "snowmelts = [] # preallocate snowmelt rates\n",
    "DOAS = [] # preallocate date of ablation season array\n",
    "\n",
    "for wy in np.unique(stats.wateryear): # loop through each water year and extract each snowmelt season\n",
    "    \n",
    "    strt = stats.loc[stats.wateryear==wy,'dopeakswe'].as_matrix()[0] # get the date of peak SWE\n",
    "    nd = stats.loc[stats.wateryear==wy,'dosnowfree'].as_matrix()[0] # get the date of no snow\n",
    "    \n",
    "    smelt = list(dat.loc[strt:nd,'sm'])\n",
    "    \n",
    "    snowmelts.extend(list(smelt)) # pull out the snowmelts\n",
    "    DOAS.extend(list(np.arange(1,len(smelt)+1))) # create an array of ablation season days\n",
    "    dates.extend(list(pd.date_range(strt,nd,freq='D'))) # create an array of actual days"
   ]
  },
  {
   "cell_type": "code",
   "execution_count": 16,
   "metadata": {
    "collapsed": false
   },
   "outputs": [
    {
     "name": "stderr",
     "output_type": "stream",
     "text": [
      "/Users/barnhatb/Dropbox/python/bin/rhessys/utilities.py:83: FutureWarning: pandas.core.datetools.datetime is deprecated. Please use datetime.datetime instead.\n",
      "  ref = pd.datetools.datetime(int(wy)-1,10,1) # set the beginning of the water year\n"
     ]
    }
   ],
   "source": [
    "# generate an array snowmelt events and the day of the water year that they occured on.\n",
    "AS = pd.DataFrame({'snowmelt':snowmelts,'DOAS':DOAS,'date':dates})\n",
    "AS['DOWY'] = AS.date.map(rut.DOWY)\n",
    "AS['DOWY2'] = AS.DOWY**2"
   ]
  },
  {
   "cell_type": "code",
   "execution_count": 17,
   "metadata": {
    "collapsed": true
   },
   "outputs": [],
   "source": [
    "AS = AS.loc[AS.snowmelt>=0].copy()"
   ]
  },
  {
   "cell_type": "code",
   "execution_count": 18,
   "metadata": {
    "collapsed": true
   },
   "outputs": [],
   "source": [
    "AS.to_pickle('./data/p301_ablation_season_data.pcl')"
   ]
  },
  {
   "cell_type": "code",
   "execution_count": 18,
   "metadata": {
    "collapsed": false
   },
   "outputs": [
    {
     "name": "stdout",
     "output_type": "stream",
     "text": [
      "                            OLS Regression Results                            \n",
      "==============================================================================\n",
      "Dep. Variable:               snowmelt   R-squared:                       0.069\n",
      "Model:                            OLS   Adj. R-squared:                  0.056\n",
      "Method:                 Least Squares   F-statistic:                     5.516\n",
      "Date:                Tue, 15 Nov 2016   Prob (F-statistic):             0.0215\n",
      "Time:                        11:07:32   Log-Likelihood:                 216.15\n",
      "No. Observations:                  77   AIC:                            -428.3\n",
      "Df Residuals:                      75   BIC:                            -423.6\n",
      "Df Model:                           1                                         \n",
      "Covariance Type:            nonrobust                                         \n",
      "==============================================================================\n",
      "                 coef    std err          t      P>|t|      [95.0% Conf. Int.]\n",
      "------------------------------------------------------------------------------\n",
      "Intercept     -0.0095      0.009     -1.038      0.303        -0.028     0.009\n",
      "DOWY           0.0001   5.15e-05      2.349      0.021      1.84e-05     0.000\n",
      "==============================================================================\n",
      "Omnibus:                       51.388   Durbin-Watson:                   1.686\n",
      "Prob(Omnibus):                  0.000   Jarque-Bera (JB):              160.367\n",
      "Skew:                           2.253   Prob(JB):                     1.50e-35\n",
      "Kurtosis:                       8.448   Cond. No.                         973.\n",
      "==============================================================================\n",
      "\n",
      "Warnings:\n",
      "[1] Standard Errors assume that the covariance matrix of the errors is correctly specified.\n"
     ]
    }
   ],
   "source": [
    "mod = sm.ols('snowmelt ~ DOWY + 1', AS).fit()\n",
    "print mod.summary()"
   ]
  },
  {
   "cell_type": "code",
   "execution_count": 19,
   "metadata": {
    "collapsed": false
   },
   "outputs": [
    {
     "data": {
      "text/plain": [
       "[<matplotlib.lines.Line2D at 0x114f150d0>]"
      ]
     },
     "execution_count": 19,
     "metadata": {},
     "output_type": "execute_result"
    },
    {
     "data": {
      "image/png": "[encoded data removed]",
      "text/plain": [
       "<matplotlib.figure.Figure at 0x113bbf150>"
      ]
     },
     "metadata": {},
     "output_type": "display_data"
    }
   ],
   "source": [
    "plt.plot(AS.DOWY, AS.snowmelt, '.')\n",
    "plt.plot(AS.DOWY, mod.fittedvalues,'.')"
   ]
  },
  {
   "cell_type": "code",
   "execution_count": 20,
   "metadata": {
    "collapsed": false
   },
   "outputs": [
    {
     "name": "stdout",
     "output_type": "stream",
     "text": [
      "mean peak SWE: 0.56 +/-0.422\n",
      "mean DOWY peak SWE: 158.0 +/-25.0\n",
      "min. SMR: 0.003, max. SMR: 0.017\n"
     ]
    }
   ],
   "source": [
    "meanPeakSWE = round(stats.peakswe.mean(),3)\n",
    "PeakSWEstd = round(stats.peakswe.std(),3)\n",
    "\n",
    "meanDOWYpeakSWE = round(stats.dowy_peakswe.mean(),0)\n",
    "DOWYpeakSWEstd = round(stats.dowy_peakswe.std(),0)\n",
    "\n",
    "minSMR = round(stats.SMR.min(),3)\n",
    "maxSMR = round(stats.SMR.max(),3)\n",
    "\n",
    "print 'mean peak SWE: %s +/-%s'%(meanPeakSWE,PeakSWEstd)\n",
    "print 'mean DOWY peak SWE: %s +/-%s'%(meanDOWYpeakSWE,DOWYpeakSWEstd)\n",
    "print 'min. SMR: %s, max. SMR: %s'%(minSMR,maxSMR)"
   ]
  },
  {
   "cell_type": "code",
   "execution_count": 21,
   "metadata": {
    "collapsed": true
   },
   "outputs": [],
   "source": [
    "# draw n parameters from uniform distributions and put them in a data frame\n",
    "n=200000\n",
    "m = 10000\n",
    "mult=2\n",
    "TpeakSWEs = np.round(np.random.uniform(low=meanDOWYpeakSWE-(mult*DOWYpeakSWEstd),high=meanDOWYpeakSWE+(mult*DOWYpeakSWEstd),size=n))\n",
    "peakswe = np.random.uniform(low=meanPeakSWE-(mult*PeakSWEstd),high=meanPeakSWE+(mult*PeakSWEstd),size=n)\n",
    "SMR = np.random.uniform(low=minSMR,high=maxSMR,size=n)\n",
    "\n",
    "params = pd.DataFrame({'TpeakSWE':TpeakSWEs,'SMR':SMR,'peakSWE':peakswe})"
   ]
  },
  {
   "cell_type": "code",
   "execution_count": 22,
   "metadata": {
    "collapsed": true
   },
   "outputs": [],
   "source": [
    "params['ablSeas'] = np.ceil(params['peakSWE']/params['SMR'])\n",
    "params['Tnosnow'] = params['TpeakSWE'] + params['ablSeas']"
   ]
  },
  {
   "cell_type": "code",
   "execution_count": 23,
   "metadata": {
    "collapsed": true
   },
   "outputs": [],
   "source": [
    "params.loc[params.Tnosnow>318] = np.NaN # remove runs that go past mid august\n",
    "params.loc[params.TpeakSWE<=14] = np.NaN # remove runs that start before mid october \n",
    "params.loc[params.peakSWE<=0] = np.NaN # remove runs with no snow\n",
    "params.loc[params.SMR>params.peakSWE] = np.NaN\n",
    "params = params.dropna().copy()"
   ]
  },
  {
   "cell_type": "code",
   "execution_count": 24,
   "metadata": {
    "collapsed": true
   },
   "outputs": [],
   "source": [
    "params.reset_index(inplace=True)\n",
    "del params['index']"
   ]
  },
  {
   "cell_type": "code",
   "execution_count": 25,
   "metadata": {
    "collapsed": false
   },
   "outputs": [
    {
     "name": "stderr",
     "output_type": "stream",
     "text": [
      "/Users/barnhatb/anaconda/lib/python2.7/site-packages/ipykernel/__main__.py:2: DeprecationWarning: This function is deprecated. Please call randint(0, 141138 + 1) instead\n",
      "  from ipykernel import kernelapp as app\n"
     ]
    }
   ],
   "source": [
    "n = len(params)\n",
    "params = params.ix[list(np.random.random_integers(0,high = n,size = m))].copy()"
   ]
  },
  {
   "cell_type": "code",
   "execution_count": 26,
   "metadata": {
    "collapsed": false
   },
   "outputs": [
    {
     "data": {
      "image/png": "[encoded data removed]",
      "text/plain": [
       "<matplotlib.figure.Figure at 0x114bcf350>"
      ]
     },
     "metadata": {},
     "output_type": "display_data"
    }
   ],
   "source": [
    "params[['SMR','TpeakSWE','peakSWE']].hist(figsize=(15,3),layout=(1,3),grid=False, facecolor='0.5');"
   ]
  },
  {
   "cell_type": "code",
   "execution_count": 27,
   "metadata": {
    "collapsed": false
   },
   "outputs": [
    {
     "name": "stderr",
     "output_type": "stream",
     "text": [
      "/Users/barnhatb/Dropbox/python/bin/rhessys/snowmelt_experiment.py:20: FutureWarning: pandas.core.datetools.timedelta is deprecated. Please use datetime.timedelta instead.\n",
      "  td = pd.datetools.timedelta(x.Tnosnow-1)\n",
      "/Users/barnhatb/Dropbox/python/bin/rhessys/snowmelt_experiment.py:28: FutureWarning: pandas.core.datetools.timedelta is deprecated. Please use datetime.timedelta instead.\n",
      "  td = pd.datetools.timedelta(x.DOAS-1)\n",
      "/Users/barnhatb/Dropbox/python/bin/rhessys/snowmelt_experiment.py:12: FutureWarning: pandas.core.datetools.timedelta is deprecated. Please use datetime.timedelta instead.\n",
      "  td = pd.datetools.timedelta(x.TpeakSWE-1)\n"
     ]
    }
   ],
   "source": [
    "# calculate a bunch of things\n",
    "params['ref'] = 2009 # add a reference water year\n",
    "params['date_ONS'] = params.apply(smex.DONS2cal, axis=1) # compute the day of water year for no snow\n",
    "params['DOAS'] = 15 # compute the day of water year for the beginning of accumulation\n",
    "params['date_AS'] = params.apply(smex.DOAS2cal, axis=1) # compute the date for the beginning of accumulation\n",
    "params['idx'] = np.arange(0,len(params)) # add an index column\n",
    "params['date_peakSWE']=params.apply(smex.DOPEAKSWE2cal,axis=1)"
   ]
  },
  {
   "cell_type": "code",
   "execution_count": 28,
   "metadata": {
    "collapsed": true
   },
   "outputs": [],
   "source": [
    "site = 'P301'\n",
    "method = 'method7'\n",
    "smexp = 'smex7'"
   ]
  },
  {
   "cell_type": "code",
   "execution_count": 29,
   "metadata": {
    "collapsed": true
   },
   "outputs": [],
   "source": [
    "params.to_pickle('./data/params_%s_smex_%s.pcl'%(site,method)) # save "
   ]
  },
  {
   "cell_type": "code",
   "execution_count": 30,
   "metadata": {
    "collapsed": true
   },
   "outputs": [],
   "source": [
    "def genSMcurve(x):\n",
    "    PSWE = x.peakSWE # new peak SWE [m]\n",
    "    SMR = x.SMR # new snowmelt rate [m/d]\n",
    "    tPeakSWE = x.TpeakSWE # new day of water year of peak SWE [DOWY]\n",
    "    tNoSnow = x.Tnosnow # the day of water year of no snow\n",
    "    ref = x.ref # water year reference\n",
    "    ablSeas = x.ablSeas\n",
    "    \n",
    "    # Generate a list of DOWY\n",
    "    res = pd.DataFrame({'dowy':np.arange(tPeakSWE,tNoSnow)}) # create a data frame\n",
    "    \n",
    "    min_SMR = float((mod.params['DOWY']*tPeakSWE))\n",
    "    max_SMR = float((mod.params['DOWY']*tNoSnow))\n",
    "    \n",
    "    if min_SMR < 0: # if the SMR is less than zero, set it to zero\n",
    "        min_SMR = 0\n",
    "    \n",
    "    res['sm'] = np.linspace(min_SMR,max_SMR,num=len(res))\n",
    "    \n",
    "    meanSMR = np.mean(res.sm) # compute the mean snowmelt rate [m/d]\n",
    "    diff = SMR/meanSMR # compute the ratio [1]\n",
    "    res['sm'] *= diff # scale the snowmelt curve to match the correct one\n",
    "    \n",
    "    # handle the dates\n",
    "    res['ref'] = ref # create a reference year column\n",
    "    res['date'] = res.apply(smex.DOWY2cal,axis=1)\n",
    "    res['year'] = res.date.map(smex.getyear)\n",
    "    res['month'] = res.date.map(smex.getmonth)\n",
    "    res['day'] = res.date.map(smex.getday)\n",
    "    res['hour'] = 1. # create an hour column\n",
    "    \n",
    "    # create an array for export\n",
    "    \n",
    "    years = res.year.as_matrix()\n",
    "    months = res.month.as_matrix()\n",
    "    days = res.day.as_matrix()\n",
    "    hours = res.hour.as_matrix()\n",
    "    sm = res.sm.as_matrix()\n",
    "    \n",
    "    # reshape the arrays\n",
    "    years = np.reshape(years,[len(years),1]) \n",
    "    months = np.reshape(months,[len(months),1]) \n",
    "    days = np.reshape(days,[len(days),1]) \n",
    "    hours = np.reshape(hours,[len(hours),1]) \n",
    "    sm = np.reshape(sm,[len(sm),1]) \n",
    "    \n",
    "    out = np.concatenate((years,months,days,hours,sm),axis=1) # concat the arrays\n",
    "    \n",
    "    filenum = int(x.idx)\n",
    "    \n",
    "    np.savetxt('/RHESSys/providence/theo_p301_flux/clim/smexperiment/%s/hourly/scen_%s.snow_melt_input'%(smexp,filenum),out,fmt='%i %i %i %i %10.8f',\n",
    "              comments='',header=str(len(years)))"
   ]
  },
  {
   "cell_type": "code",
   "execution_count": 31,
   "metadata": {
    "collapsed": true
   },
   "outputs": [],
   "source": [
    "def genrain(x):\n",
    "    \n",
    "    rain = crn.loc['2008-10-1':'2009-10-15','P'].copy() # subset the P, units should be m\n",
    "    rain2 = crn.loc['2008-10-1':'2009-10-15','P'].copy()\n",
    "    \n",
    "    strt = x.date_peakSWE # beginning of snowmelt\n",
    "    strt2 = x.date_AS # beginning of the snow season\n",
    "    nd = x.date_ONS-pd.datetools.timedelta(1) # end of the snow season\n",
    "    \n",
    "    \n",
    "    rain[str(strt):str(nd)] = 0. # zero the rain for peak swe to DONS, so it builds a snowpack \n",
    "    rain2[str(strt2):str(nd)] = 0. # zero the rain for the snow season\n",
    "    \n",
    "    header = '2008 10 1'\n",
    "    \n",
    "    rn = rain.as_matrix()\n",
    "    rn = np.reshape(rn,[len(rn),1])\n",
    "    \n",
    "    filenum = int(x.idx)\n",
    "    \n",
    "    np.savetxt('/RHESSys/providence/theo_p301_flux/clim/smexperiment/%s/daily/upper_%s.rain'%(smexp,filenum),\n",
    "               rn,comments='',header=header,fmt='%10.8f')\n",
    "    \n",
    "    return rain2['2008-10-01':'2009-9-30'].sum() # return the total rain for the water year"
   ]
  },
  {
   "cell_type": "code",
   "execution_count": 32,
   "metadata": {
    "collapsed": false
   },
   "outputs": [],
   "source": [
    "tmp = pd.read_pickle('../providence/data/providence_upper_met_p.pcl')\n",
    "crn = pd.DataFrame(tmp['precip'])"
   ]
  },
  {
   "cell_type": "code",
   "execution_count": 33,
   "metadata": {
    "collapsed": false
   },
   "outputs": [],
   "source": [
    "crn.columns = ['P']\n",
    "crn.P *= 0.001 # mm to m"
   ]
  },
  {
   "cell_type": "code",
   "execution_count": 34,
   "metadata": {
    "collapsed": false,
    "scrolled": true
   },
   "outputs": [
    {
     "name": "stderr",
     "output_type": "stream",
     "text": [
      "/Users/barnhatb/Dropbox/python/bin/rhessys/snowmelt_experiment.py:4: FutureWarning: pandas.core.datetools.timedelta is deprecated. Please use datetime.timedelta instead.\n",
      "  td = pd.datetools.timedelta(x.dowy-1)\n"
     ]
    },
    {
     "name": "stdout",
     "output_type": "stream",
     "text": [
      "Done with snowmelt scenarios\n"
     ]
    },
    {
     "name": "stderr",
     "output_type": "stream",
     "text": [
      "/Users/barnhatb/anaconda/lib/python2.7/site-packages/ipykernel/__main__.py:8: FutureWarning: pandas.core.datetools.timedelta is deprecated. Please use datetime.timedelta instead.\n"
     ]
    },
    {
     "name": "stdout",
     "output_type": "stream",
     "text": [
      "Done with rain timeseries\n"
     ]
    }
   ],
   "source": [
    "params.apply(genSMcurve,axis=1);\n",
    "print 'Done with snowmelt scenarios'\n",
    "params['MAP'] = params.apply(genrain,axis=1)\n",
    "print 'Done with rain timeseries'"
   ]
  },
  {
   "cell_type": "code",
   "execution_count": 35,
   "metadata": {
    "collapsed": false
   },
   "outputs": [
    {
     "data": {
      "text/html": [
       "<div>\n",
       "<table border=\"1\" class=\"dataframe\">\n",
       "  <thead>\n",
       "    <tr style=\"text-align: right;\">\n",
       "      <th></th>\n",
       "      <th>SMR</th>\n",
       "      <th>TpeakSWE</th>\n",
       "      <th>peakSWE</th>\n",
       "      <th>ablSeas</th>\n",
       "      <th>Tnosnow</th>\n",
       "      <th>ref</th>\n",
       "      <th>date_ONS</th>\n",
       "      <th>DOAS</th>\n",
       "      <th>date_AS</th>\n",
       "      <th>idx</th>\n",
       "      <th>date_peakSWE</th>\n",
       "      <th>MAP</th>\n",
       "    </tr>\n",
       "  </thead>\n",
       "  <tbody>\n",
       "    <tr>\n",
       "      <th>82748</th>\n",
       "      <td>0.014403</td>\n",
       "      <td>113.0</td>\n",
       "      <td>0.521211</td>\n",
       "      <td>37.0</td>\n",
       "      <td>150.0</td>\n",
       "      <td>2009</td>\n",
       "      <td>2009-02-27</td>\n",
       "      <td>15</td>\n",
       "      <td>2008-10-15</td>\n",
       "      <td>0</td>\n",
       "      <td>2009-01-21</td>\n",
       "      <td>0.325</td>\n",
       "    </tr>\n",
       "    <tr>\n",
       "      <th>96566</th>\n",
       "      <td>0.014842</td>\n",
       "      <td>177.0</td>\n",
       "      <td>1.328189</td>\n",
       "      <td>90.0</td>\n",
       "      <td>267.0</td>\n",
       "      <td>2009</td>\n",
       "      <td>2009-06-24</td>\n",
       "      <td>15</td>\n",
       "      <td>2008-10-15</td>\n",
       "      <td>1</td>\n",
       "      <td>2009-03-26</td>\n",
       "      <td>0.041</td>\n",
       "    </tr>\n",
       "    <tr>\n",
       "      <th>113589</th>\n",
       "      <td>0.009731</td>\n",
       "      <td>192.0</td>\n",
       "      <td>0.940332</td>\n",
       "      <td>97.0</td>\n",
       "      <td>289.0</td>\n",
       "      <td>2009</td>\n",
       "      <td>2009-07-16</td>\n",
       "      <td>15</td>\n",
       "      <td>2008-10-15</td>\n",
       "      <td>2</td>\n",
       "      <td>2009-04-10</td>\n",
       "      <td>0.041</td>\n",
       "    </tr>\n",
       "    <tr>\n",
       "      <th>49919</th>\n",
       "      <td>0.007164</td>\n",
       "      <td>116.0</td>\n",
       "      <td>0.779654</td>\n",
       "      <td>109.0</td>\n",
       "      <td>225.0</td>\n",
       "      <td>2009</td>\n",
       "      <td>2009-05-13</td>\n",
       "      <td>15</td>\n",
       "      <td>2008-10-15</td>\n",
       "      <td>3</td>\n",
       "      <td>2009-01-24</td>\n",
       "      <td>0.081</td>\n",
       "    </tr>\n",
       "    <tr>\n",
       "      <th>75259</th>\n",
       "      <td>0.004957</td>\n",
       "      <td>151.0</td>\n",
       "      <td>0.593449</td>\n",
       "      <td>120.0</td>\n",
       "      <td>271.0</td>\n",
       "      <td>2009</td>\n",
       "      <td>2009-06-28</td>\n",
       "      <td>15</td>\n",
       "      <td>2008-10-15</td>\n",
       "      <td>4</td>\n",
       "      <td>2009-02-28</td>\n",
       "      <td>0.041</td>\n",
       "    </tr>\n",
       "  </tbody>\n",
       "</table>\n",
       "</div>"
      ],
      "text/plain": [
       "             SMR  TpeakSWE   peakSWE  ablSeas  Tnosnow   ref   date_ONS  DOAS  \\\n",
       "82748   0.014403     113.0  0.521211     37.0    150.0  2009 2009-02-27    15   \n",
       "96566   0.014842     177.0  1.328189     90.0    267.0  2009 2009-06-24    15   \n",
       "113589  0.009731     192.0  0.940332     97.0    289.0  2009 2009-07-16    15   \n",
       "49919   0.007164     116.0  0.779654    109.0    225.0  2009 2009-05-13    15   \n",
       "75259   0.004957     151.0  0.593449    120.0    271.0  2009 2009-06-28    15   \n",
       "\n",
       "          date_AS  idx date_peakSWE    MAP  \n",
       "82748  2008-10-15    0   2009-01-21  0.325  \n",
       "96566  2008-10-15    1   2009-03-26  0.041  \n",
       "113589 2008-10-15    2   2009-04-10  0.041  \n",
       "49919  2008-10-15    3   2009-01-24  0.081  \n",
       "75259  2008-10-15    4   2009-02-28  0.041  "
      ]
     },
     "execution_count": 35,
     "metadata": {},
     "output_type": "execute_result"
    }
   ],
   "source": [
    "params.head()"
   ]
  },
  {
   "cell_type": "code",
   "execution_count": 36,
   "metadata": {
    "collapsed": true
   },
   "outputs": [],
   "source": [
    "params.to_pickle('./data/params_%s_smex_%s.pcl'%(site,method)) # save "
   ]
  },
  {
   "cell_type": "code",
   "execution_count": 37,
   "metadata": {
    "collapsed": true
   },
   "outputs": [],
   "source": [
    "def date2DOY(s):\n",
    "    return int(pd.datetime.strftime(s,'%j'))"
   ]
  },
  {
   "cell_type": "code",
   "execution_count": 38,
   "metadata": {
    "collapsed": true
   },
   "outputs": [],
   "source": [
    "params['DOY_peakSWE'] = params.date_peakSWE.map(date2DOY)"
   ]
  },
  {
   "cell_type": "code",
   "execution_count": 39,
   "metadata": {
    "collapsed": true
   },
   "outputs": [],
   "source": [
    "np.savetxt('/RHESSys/providence/theo_p301_flux/clim/smexperiment/%s/%s_%s_DOY_peakSWE.txt'%(smexp,site,smexp),params.DOY_peakSWE.as_matrix(),fmt='%d')"
   ]
  },
  {
   "cell_type": "markdown",
   "metadata": {
    "collapsed": true
   },
   "source": [
    "### Visualize the Snowmelt Scenarios"
   ]
  },
  {
   "cell_type": "code",
   "execution_count": 1,
   "metadata": {
    "collapsed": true
   },
   "outputs": [],
   "source": [
    "data = pd.read_pickle('./data/params_p301_smex_method4.pcl')"
   ]
  },
  {
   "cell_type": "code",
   "execution_count": 2,
   "metadata": {
    "collapsed": false
   },
   "outputs": [
    {
     "data": {
      "text/plain": [
       "Index([u'Tnosnow', u'TpeakSWE', u'peakSWE', u'SMR', u'ref', u'date_ONS',\n",
       "       u'DOAS', u'date_AS', u'idx', u'date_peakSWE', u'MAP'],\n",
       "      dtype='object')"
      ]
     },
     "execution_count": 2,
     "metadata": {},
     "output_type": "execute_result"
    }
   ],
   "source": [
    "data.columns"
   ]
  },
  {
   "cell_type": "code",
   "execution_count": 13,
   "metadata": {
    "collapsed": false
   },
   "outputs": [
    {
     "data": {
      "text/plain": [
       "<matplotlib.axes._subplots.AxesSubplot at 0x10f468090>"
      ]
     },
     "execution_count": 13,
     "metadata": {},
     "output_type": "execute_result"
    },
    {
     "data": {
      "image/png": "[encoded data removed]",
      "text/plain": [
       "<matplotlib.figure.Figure at 0x10f429850>"
      ]
     },
     "metadata": {},
     "output_type": "display_data"
    }
   ],
   "source": [
    "data.Tnosnow.hist(bins=100)"
   ]
  },
  {
   "cell_type": "code",
   "execution_count": 12,
   "metadata": {
    "collapsed": false
   },
   "outputs": [
    {
     "data": {
      "text/plain": [
       "<matplotlib.axes._subplots.AxesSubplot at 0x10f1f44d0>"
      ]
     },
     "execution_count": 12,
     "metadata": {},
     "output_type": "execute_result"
    },
    {
     "data": {
      "image/png": "[encoded data removed]",
      "text/plain": [
       "<matplotlib.figure.Figure at 0x10e9136d0>"
      ]
     },
     "metadata": {},
     "output_type": "display_data"
    }
   ],
   "source": [
    "data.TpeakSWE.hist(bins=100)"
   ]
  },
  {
   "cell_type": "code",
   "execution_count": 11,
   "metadata": {
    "collapsed": false
   },
   "outputs": [
    {
     "data": {
      "text/plain": [
       "<matplotlib.axes._subplots.AxesSubplot at 0x10e90b410>"
      ]
     },
     "execution_count": 11,
     "metadata": {},
     "output_type": "execute_result"
    },
    {
     "data": {
      "image/png": "[encoded data removed]",
      "text/plain": [
       "<matplotlib.figure.Figure at 0x10e90b390>"
      ]
     },
     "metadata": {},
     "output_type": "display_data"
    }
   ],
   "source": [
    "data.peakSWE.hist(bins=100)"
   ]
  },
  {
   "cell_type": "code",
   "execution_count": 10,
   "metadata": {
    "collapsed": false
   },
   "outputs": [
    {
     "data": {
      "text/plain": [
       "<matplotlib.axes._subplots.AxesSubplot at 0x10e412390>"
      ]
     },
     "execution_count": 10,
     "metadata": {},
     "output_type": "execute_result"
    },
    {
     "data": {
      "image/png": "[encoded data removed]",
      "text/plain": [
       "<matplotlib.figure.Figure at 0x10e4124d0>"
      ]
     },
     "metadata": {},
     "output_type": "display_data"
    }
   ],
   "source": [
    "data.SMR.hist(bins=100)"
   ]
  },
  {
   "cell_type": "code",
   "execution_count": 9,
   "metadata": {
    "collapsed": false
   },
   "outputs": [
    {
     "data": {
      "text/plain": [
       "<matplotlib.axes._subplots.AxesSubplot at 0x10e18d210>"
      ]
     },
     "execution_count": 9,
     "metadata": {},
     "output_type": "execute_result"
    },
    {
     "data": {
      "image/png": "[encoded data removed]",
      "text/plain": [
       "<matplotlib.figure.Figure at 0x10e412b90>"
      ]
     },
     "metadata": {},
     "output_type": "display_data"
    }
   ],
   "source": [
    "data.MAP.hist(bins=100)"
   ]
  },
  {
   "cell_type": "code",
   "execution_count": null,
   "metadata": {
    "collapsed": true
   },
   "outputs": [],
   "source": []
  }
 ],
 "metadata": {
  "kernelspec": {
   "display_name": "Python 2",
   "language": "python",
   "name": "python2"
  },
  "language_info": {
   "codemirror_mode": {
    "name": "ipython",
    "version": 2
   },
   "file_extension": ".py",
   "mimetype": "text/x-python",
   "name": "python",
   "nbconvert_exporter": "python",
   "pygments_lexer": "ipython2",
   "version": "2.7.12"
  }
 },
 "nbformat": 4,
 "nbformat_minor": 0
}
