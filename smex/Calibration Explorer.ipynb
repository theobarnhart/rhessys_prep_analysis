{
 "cells": [
  {
   "cell_type": "markdown",
   "metadata": {},
   "source": [
    "###### Load the Data"
   ]
  },
  {
   "cell_type": "code",
   "execution_count": 1,
   "metadata": {
    "collapsed": true
   },
   "outputs": [],
   "source": [
    "p301 = pd.read_pickle('../providence/data/et_cal17.pcl') # Use et_cal17\n",
    "vcm = pd.read_pickle('../jemez/data/et_cal54.pcl') # Use et_cal54\n",
    "nr = pd.read_pickle('../data/et_cal29.pcl') # used et_cal26 previously, now using et_cal29"
   ]
  },
  {
   "cell_type": "code",
   "execution_count": 35,
   "metadata": {
    "collapsed": false
   },
   "outputs": [
    {
     "data": {
      "text/html": [
       "<div>\n",
       "<table border=\"1\" class=\"dataframe\">\n",
       "  <thead>\n",
       "    <tr style=\"text-align: right;\">\n",
       "      <th></th>\n",
       "      <th>gw1</th>\n",
       "      <th>gw2</th>\n",
       "      <th>idx</th>\n",
       "      <th>ksat</th>\n",
       "      <th>lai</th>\n",
       "      <th>m</th>\n",
       "      <th>pa</th>\n",
       "      <th>po</th>\n",
       "      <th>rd</th>\n",
       "      <th>daily</th>\n",
       "      <th>monthly</th>\n",
       "    </tr>\n",
       "  </thead>\n",
       "  <tbody>\n",
       "    <tr>\n",
       "      <th>16342</th>\n",
       "      <td>0.624</td>\n",
       "      <td>0.21</td>\n",
       "      <td>6709</td>\n",
       "      <td>133.66</td>\n",
       "      <td>0.64</td>\n",
       "      <td>12.398</td>\n",
       "      <td>0.02</td>\n",
       "      <td>0.253</td>\n",
       "      <td>3.24</td>\n",
       "      <td>-0.285098</td>\n",
       "      <td>0.648886</td>\n",
       "    </tr>\n",
       "  </tbody>\n",
       "</table>\n",
       "</div>"
      ],
      "text/plain": [
       "         gw1   gw2   idx    ksat   lai       m    pa     po    rd     daily  \\\n",
       "16342  0.624  0.21  6709  133.66  0.64  12.398  0.02  0.253  3.24 -0.285098   \n",
       "\n",
       "        monthly  \n",
       "16342  0.648886  "
      ]
     },
     "execution_count": 35,
     "metadata": {},
     "output_type": "execute_result"
    }
   ],
   "source": [
    "nr.loc[nr.monthly==nr.monthly.max()][nr.columns[0:11]]"
   ]
  },
  {
   "cell_type": "code",
   "execution_count": 48,
   "metadata": {
    "collapsed": false
   },
   "outputs": [
    {
     "data": {
      "text/html": [
       "<div>\n",
       "<table border=\"1\" class=\"dataframe\">\n",
       "  <thead>\n",
       "    <tr style=\"text-align: right;\">\n",
       "      <th></th>\n",
       "      <th>nse_SF_monthly</th>\n",
       "      <th>nse_ET_monthly</th>\n",
       "      <th>pe_SF_monthly</th>\n",
       "      <th>pe_ET_monthly</th>\n",
       "      <th>monthly</th>\n",
       "    </tr>\n",
       "  </thead>\n",
       "  <tbody>\n",
       "    <tr>\n",
       "      <th>16342</th>\n",
       "      <td>0.693069</td>\n",
       "      <td>-0.085422</td>\n",
       "      <td>0.890277</td>\n",
       "      <td>0.319883</td>\n",
       "      <td>0.648886</td>\n",
       "    </tr>\n",
       "  </tbody>\n",
       "</table>\n",
       "</div>"
      ],
      "text/plain": [
       "       nse_SF_monthly  nse_ET_monthly  pe_SF_monthly  pe_ET_monthly   monthly\n",
       "16342        0.693069       -0.085422       0.890277       0.319883  0.648886"
      ]
     },
     "execution_count": 48,
     "metadata": {},
     "output_type": "execute_result"
    }
   ],
   "source": [
    "nr.loc[nr.monthly==nr.monthly.max()][['nse_SF_monthly','nse_ET_monthly','pe_SF_monthly','pe_ET_monthly','monthly']]"
   ]
  },
  {
   "cell_type": "code",
   "execution_count": 49,
   "metadata": {
    "collapsed": false
   },
   "outputs": [
    {
     "data": {
      "text/plain": [
       "0.34875"
      ]
     },
     "execution_count": 49,
     "metadata": {},
     "output_type": "execute_result"
    }
   ],
   "source": [
    "np.mean([0.69,-0.085,(1-0.89),(1-0.32)])"
   ]
  },
  {
   "cell_type": "code",
   "execution_count": 71,
   "metadata": {
    "collapsed": false
   },
   "outputs": [
    {
     "name": "stdout",
     "output_type": "stream",
     "text": [
      "P301 monthly metric maximum: 0.79\n",
      "Vcm monthly metric maximum: 0.545\n",
      "Nr1 monthly metric maximum: 0.649\n"
     ]
    }
   ],
   "source": [
    "print 'P301 monthly metric maximum: %s'%round(p301.monthly.max(),3)\n",
    "print 'Vcm monthly metric maximum: %s'%round(vcm.monthly.max(),3)\n",
    "print 'Nr1 monthly metric maximum: %s'%round(nr.monthly.max(),3)"
   ]
  },
  {
   "cell_type": "code",
   "execution_count": 77,
   "metadata": {
    "collapsed": true
   },
   "outputs": [],
   "source": [
    "p301idx = p301.loc[p301.monthly==p301.monthly.max(),'idx'].as_matrix()[0]\n",
    "vcmidx = vcm.loc[vcm.monthly==vcm.monthly.max(),'idx'].as_matrix()[0]\n",
    "nridx = nr.loc[nr.monthly==nr.monthly.max(),'idx'].as_matrix()[0]"
   ]
  },
  {
   "cell_type": "code",
   "execution_count": 78,
   "metadata": {
    "collapsed": false
   },
   "outputs": [
    {
     "name": "stdout",
     "output_type": "stream",
     "text": [
      "P301\n"
     ]
    },
    {
     "data": {
      "text/plain": [
       "['gw1: 0.442',\n",
       " 'idx: 12172.0',\n",
       " 'ksat: 505.26',\n",
       " 'lai: 0.63',\n",
       " 'm: 3.137',\n",
       " 'pa: 0.466',\n",
       " 'po: 2.533',\n",
       " 'rd: 8.503',\n",
       " 'daily: -4.565',\n",
       " 'monthly: 0.79',\n",
       " 'nse_ET_daily: -17.117',\n",
       " 'nse_ET_monthly: 0.61',\n",
       " 'nse_ET_weekly: 0.715',\n",
       " 'nse_SF_daily: -2.591',\n",
       " 'nse_SF_monthly: 0.576',\n",
       " 'nse_SF_weekly: 0.173',\n",
       " 'pe_ET_daily: 53.133',\n",
       " 'pe_ET_monthly: 1.261',\n",
       " 'pe_ET_weekly: 2.562',\n",
       " 'pe_SF_daily: 1.972',\n",
       " 'pe_SF_monthly: 1.144',\n",
       " 'pe_SF_weekly: 1.442',\n",
       " 'weekly: 0.712']"
      ]
     },
     "execution_count": 78,
     "metadata": {},
     "output_type": "execute_result"
    }
   ],
   "source": [
    "print 'P301'\n",
    "[('%s: %s'%(key,round(p301.loc[p301.idx == p301idx,key],3))) for key in p301.columns]"
   ]
  },
  {
   "cell_type": "code",
   "execution_count": 80,
   "metadata": {
    "collapsed": false
   },
   "outputs": [
    {
     "name": "stdout",
     "output_type": "stream",
     "text": [
      "Vcm\n"
     ]
    },
    {
     "data": {
      "text/plain": [
       "['gw1: 0.124',\n",
       " 'gw2: 0.594',\n",
       " 'idx: 16861.0',\n",
       " 'ksat: 515.19',\n",
       " 'lai: 1.43',\n",
       " 'm: 1.538',\n",
       " 'pa: 0.036',\n",
       " 'po: 1.589',\n",
       " 'rd: 4.814',\n",
       " 'daily: 0.209',\n",
       " 'monthly: 0.545',\n",
       " 'nse_ET_daily: -0.913',\n",
       " 'nse_ET_monthly: 0.202',\n",
       " 'nse_ET_weekly: -0.555',\n",
       " 'nse_SF_daily: -0.23',\n",
       " 'nse_SF_monthly: -0.012',\n",
       " 'nse_SF_weekly: -0.153',\n",
       " 'pe_ET_daily: 1.106',\n",
       " 'pe_ET_monthly: 0.57',\n",
       " 'pe_ET_weekly: 0.8',\n",
       " 'pe_SF_daily: 0.866',\n",
       " 'pe_SF_monthly: 0.678',\n",
       " 'pe_SF_weekly: 0.88',\n",
       " 'weekly: 0.319']"
      ]
     },
     "execution_count": 80,
     "metadata": {},
     "output_type": "execute_result"
    }
   ],
   "source": [
    "print 'Vcm'\n",
    "[('%s: %s'%(key,round(vcm.loc[vcm.idx == vcmidx,key],3))) for key in vcm.columns]"
   ]
  },
  {
   "cell_type": "code",
   "execution_count": 83,
   "metadata": {
    "collapsed": false
   },
   "outputs": [
    {
     "name": "stdout",
     "output_type": "stream",
     "text": [
      "Nr1\n"
     ]
    },
    {
     "data": {
      "text/plain": [
       "['gw1: 0.624',\n",
       " 'gw2: 0.21',\n",
       " 'idx: 6709.0',\n",
       " 'ksat: 133.66',\n",
       " 'lai: 0.64',\n",
       " 'm: 12.398',\n",
       " 'pa: 0.02',\n",
       " 'po: 0.253',\n",
       " 'rd: 3.24',\n",
       " 'daily: -0.285',\n",
       " 'monthly: 0.649',\n",
       " 'nse_ET_daily: -1.815',\n",
       " 'nse_ET_monthly: -0.085',\n",
       " 'nse_ET_weekly: -1.238',\n",
       " 'nse_SF_daily: -1.307',\n",
       " 'nse_SF_monthly: 0.693',\n",
       " 'nse_SF_weekly: 0.272',\n",
       " 'pe_ET_daily: 0.907',\n",
       " 'pe_ET_monthly: 0.32',\n",
       " 'pe_ET_weekly: 0.493',\n",
       " 'pe_SF_daily: 0.95',\n",
       " 'pe_SF_monthly: 0.89',\n",
       " 'pe_SF_weekly: 0.964',\n",
       " 'weekly: 0.255',\n",
       " 'new_metric: -0.004']"
      ]
     },
     "execution_count": 83,
     "metadata": {},
     "output_type": "execute_result"
    }
   ],
   "source": [
    "print 'Nr1'\n",
    "[('%s: %s'%(key,round(nr.ix[16342,key],3))) for key in nr.columns]"
   ]
  },
  {
   "cell_type": "code",
   "execution_count": 54,
   "metadata": {
    "collapsed": true
   },
   "outputs": [],
   "source": [
    "def scale(dat):\n",
    "    '''rescale a data set between 0 and 1'''\n",
    "    dat2 = dat + np.abs(dat.min()) # translate dat to so its all positive\n",
    "    dat2 /= dat2.max() # divide by the maximum \n",
    "    \n",
    "    return dat2"
   ]
  },
  {
   "cell_type": "code",
   "execution_count": 65,
   "metadata": {
    "collapsed": true
   },
   "outputs": [],
   "source": [
    "nr2 = pd.DataFrame({'nseET':scale(nr.nse_ET_monthly),'nseSF':scale(nr.nse_SF_monthly),\n",
    "                   'peET':scale(1.-nr.pe_ET_monthly),'peSF':scale(1.-nr.pe_SF_monthly)})\n",
    "p3012 = pd.DataFrame({'nseET':scale(p301.nse_ET_monthly),'nseSF':scale(p301.nse_SF_monthly),\n",
    "                   'peET':scale(1.-p301.pe_ET_monthly),'peSF':scale(1.-p301.pe_SF_monthly)})\n",
    "vcm2 = pd.DataFrame({'nseET':scale(vcm.nse_ET_monthly),'nseSF':scale(vcm.nse_SF_monthly),\n",
    "                   'peET':scale(1.-vcm.pe_ET_monthly),'peSF':scale(1.-vcm.pe_SF_monthly)})"
   ]
  },
  {
   "cell_type": "code",
   "execution_count": 66,
   "metadata": {
    "collapsed": true
   },
   "outputs": [],
   "source": [
    "def compute_metric(df):\n",
    "\n",
    "    return df.nseET*df.nseSF*df.peET*df.peSF"
   ]
  },
  {
   "cell_type": "code",
   "execution_count": 67,
   "metadata": {
    "collapsed": true
   },
   "outputs": [],
   "source": [
    "nr2['met'] = nr2.apply(compute_metric,axis=1)\n",
    "p3012['met'] = p3012.apply(compute_metric,axis=1)\n",
    "vcm2['met'] = vcm2.apply(compute_metric,axis=1)"
   ]
  },
  {
   "cell_type": "code",
   "execution_count": 69,
   "metadata": {
    "collapsed": false
   },
   "outputs": [
    {
     "name": "stdout",
     "output_type": "stream",
     "text": [
      "          nseET  nseSF      peET      peSF       met\n",
      "16342  0.971106    1.0  0.941709  0.926257  0.847061\n",
      "        nseET     nseSF      peET  peSF       met\n",
      "6406  0.99357  0.990471  0.882742   1.0  0.868708\n",
      "       nseET     nseSF      peET      peSF       met\n",
      "18385    1.0  0.997554  0.884448  0.943889  0.832778\n"
     ]
    }
   ],
   "source": [
    "print nr2.loc[nr2.met==nr2.met.max()]\n",
    "print p3012.loc[p3012.met==p3012.met.max()]\n",
    "print vcm2.loc[vcm2.met==vcm2.met.max()]"
   ]
  },
  {
   "cell_type": "code",
   "execution_count": 64,
   "metadata": {
    "collapsed": false
   },
   "outputs": [
    {
     "data": {
      "text/html": [
       "<div>\n",
       "<table border=\"1\" class=\"dataframe\">\n",
       "  <thead>\n",
       "    <tr style=\"text-align: right;\">\n",
       "      <th></th>\n",
       "      <th>nse_SF_monthly</th>\n",
       "      <th>nse_ET_monthly</th>\n",
       "      <th>pe_SF_monthly</th>\n",
       "      <th>pe_ET_monthly</th>\n",
       "    </tr>\n",
       "  </thead>\n",
       "  <tbody>\n",
       "    <tr>\n",
       "      <th>16342</th>\n",
       "      <td>0.693069</td>\n",
       "      <td>-0.085422</td>\n",
       "      <td>0.890277</td>\n",
       "      <td>0.319883</td>\n",
       "    </tr>\n",
       "  </tbody>\n",
       "</table>\n",
       "</div>"
      ],
      "text/plain": [
       "       nse_SF_monthly  nse_ET_monthly  pe_SF_monthly  pe_ET_monthly\n",
       "16342        0.693069       -0.085422       0.890277       0.319883"
      ]
     },
     "execution_count": 64,
     "metadata": {},
     "output_type": "execute_result"
    }
   ],
   "source": [
    "nr.loc[nr.index==16342][['nse_SF_monthly','nse_ET_monthly','pe_SF_monthly','pe_ET_monthly']]"
   ]
  },
  {
   "cell_type": "code",
   "execution_count": null,
   "metadata": {
    "collapsed": true
   },
   "outputs": [],
   "source": []
  }
 ],
 "metadata": {
  "kernelspec": {
   "display_name": "Python 2",
   "language": "python",
   "name": "python2"
  },
  "language_info": {
   "codemirror_mode": {
    "name": "ipython",
    "version": 2
   },
   "file_extension": ".py",
   "mimetype": "text/x-python",
   "name": "python",
   "nbconvert_exporter": "python",
   "pygments_lexer": "ipython2",
   "version": "2.7.12"
  }
 },
 "nbformat": 4,
 "nbformat_minor": 0
}
