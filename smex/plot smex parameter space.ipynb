{
 "cells": [
  {
   "cell_type": "code",
   "execution_count": 1,
   "metadata": {
    "collapsed": true
   },
   "outputs": [],
   "source": [
    "from matplotlib.patches import Polygon"
   ]
  },
  {
   "cell_type": "code",
   "execution_count": 2,
   "metadata": {
    "collapsed": true
   },
   "outputs": [],
   "source": [
    "Nr1 = pd.read_pickle('./data/params_Nr1_smex_method7.pcl')\n",
    "P301 = pd.read_pickle('./data/params_P301_smex_method7.pcl')\n",
    "Vcm = pd.read_pickle('./data/params_Vcm_smex_method7.pcl')"
   ]
  },
  {
   "cell_type": "code",
   "execution_count": 3,
   "metadata": {
    "collapsed": false
   },
   "outputs": [
    {
     "data": {
      "text/html": [
       "<div>\n",
       "<table border=\"1\" class=\"dataframe\">\n",
       "  <thead>\n",
       "    <tr style=\"text-align: right;\">\n",
       "      <th></th>\n",
       "      <th>SMR</th>\n",
       "      <th>TpeakSWE</th>\n",
       "      <th>peakSWE</th>\n",
       "      <th>ablSeas</th>\n",
       "      <th>Tnosnow</th>\n",
       "      <th>ref</th>\n",
       "      <th>date_ONS</th>\n",
       "      <th>DOAS</th>\n",
       "      <th>date_AS</th>\n",
       "      <th>idx</th>\n",
       "      <th>date_peakSWE</th>\n",
       "      <th>temp_out</th>\n",
       "      <th>MAP</th>\n",
       "    </tr>\n",
       "  </thead>\n",
       "  <tbody>\n",
       "    <tr>\n",
       "      <th>114927</th>\n",
       "      <td>0.007447</td>\n",
       "      <td>180.0</td>\n",
       "      <td>0.413660</td>\n",
       "      <td>56.0</td>\n",
       "      <td>236.0</td>\n",
       "      <td>2010</td>\n",
       "      <td>2010-05-24</td>\n",
       "      <td>15</td>\n",
       "      <td>2009-10-15</td>\n",
       "      <td>0</td>\n",
       "      <td>2010-03-29</td>\n",
       "      <td>True</td>\n",
       "      <td>6.165935</td>\n",
       "    </tr>\n",
       "    <tr>\n",
       "      <th>90071</th>\n",
       "      <td>0.017967</td>\n",
       "      <td>202.0</td>\n",
       "      <td>0.423372</td>\n",
       "      <td>24.0</td>\n",
       "      <td>226.0</td>\n",
       "      <td>2010</td>\n",
       "      <td>2010-05-14</td>\n",
       "      <td>15</td>\n",
       "      <td>2009-10-15</td>\n",
       "      <td>1</td>\n",
       "      <td>2010-04-20</td>\n",
       "      <td>False</td>\n",
       "      <td>6.178629</td>\n",
       "    </tr>\n",
       "    <tr>\n",
       "      <th>55307</th>\n",
       "      <td>0.014164</td>\n",
       "      <td>236.0</td>\n",
       "      <td>0.470056</td>\n",
       "      <td>34.0</td>\n",
       "      <td>270.0</td>\n",
       "      <td>2010</td>\n",
       "      <td>2010-06-27</td>\n",
       "      <td>15</td>\n",
       "      <td>2009-10-15</td>\n",
       "      <td>2</td>\n",
       "      <td>2010-05-24</td>\n",
       "      <td>False</td>\n",
       "      <td>6.099164</td>\n",
       "    </tr>\n",
       "    <tr>\n",
       "      <th>13817</th>\n",
       "      <td>0.013006</td>\n",
       "      <td>198.0</td>\n",
       "      <td>0.478686</td>\n",
       "      <td>37.0</td>\n",
       "      <td>235.0</td>\n",
       "      <td>2010</td>\n",
       "      <td>2010-05-23</td>\n",
       "      <td>15</td>\n",
       "      <td>2009-10-15</td>\n",
       "      <td>3</td>\n",
       "      <td>2010-04-16</td>\n",
       "      <td>False</td>\n",
       "      <td>6.165935</td>\n",
       "    </tr>\n",
       "    <tr>\n",
       "      <th>71193</th>\n",
       "      <td>0.014850</td>\n",
       "      <td>235.0</td>\n",
       "      <td>0.410855</td>\n",
       "      <td>28.0</td>\n",
       "      <td>263.0</td>\n",
       "      <td>2010</td>\n",
       "      <td>2010-06-20</td>\n",
       "      <td>15</td>\n",
       "      <td>2009-10-15</td>\n",
       "      <td>4</td>\n",
       "      <td>2010-05-23</td>\n",
       "      <td>False</td>\n",
       "      <td>6.099164</td>\n",
       "    </tr>\n",
       "  </tbody>\n",
       "</table>\n",
       "</div>"
      ],
      "text/plain": [
       "             SMR  TpeakSWE   peakSWE  ablSeas  Tnosnow   ref   date_ONS  DOAS  \\\n",
       "114927  0.007447     180.0  0.413660     56.0    236.0  2010 2010-05-24    15   \n",
       "90071   0.017967     202.0  0.423372     24.0    226.0  2010 2010-05-14    15   \n",
       "55307   0.014164     236.0  0.470056     34.0    270.0  2010 2010-06-27    15   \n",
       "13817   0.013006     198.0  0.478686     37.0    235.0  2010 2010-05-23    15   \n",
       "71193   0.014850     235.0  0.410855     28.0    263.0  2010 2010-06-20    15   \n",
       "\n",
       "          date_AS  idx date_peakSWE temp_out       MAP  \n",
       "114927 2009-10-15    0   2010-03-29     True  6.165935  \n",
       "90071  2009-10-15    1   2010-04-20    False  6.178629  \n",
       "55307  2009-10-15    2   2010-05-24    False  6.099164  \n",
       "13817  2009-10-15    3   2010-04-16    False  6.165935  \n",
       "71193  2009-10-15    4   2010-05-23    False  6.099164  "
      ]
     },
     "execution_count": 3,
     "metadata": {},
     "output_type": "execute_result"
    }
   ],
   "source": [
    "Nr1.head()"
   ]
  },
  {
   "cell_type": "code",
   "execution_count": 4,
   "metadata": {
    "collapsed": true
   },
   "outputs": [],
   "source": [
    "# extract the points\n",
    "\n",
    "df = Nr1\n",
    "\n",
    "minTpeakSWE = df.TpeakSWE.min()\n",
    "maxTpeakSWE = df.TpeakSWE.max()\n",
    "\n",
    "minTnosnow = df.Tnosnow.min()\n",
    "maxTnosnow = df.Tnosnow.max()\n",
    "\n",
    "minpeakSWE = df.peakSWE.min()\n",
    "maxpeakSWE = df.peakSWE.max()\n",
    "\n",
    "DOAS = df.DOAS.mean()"
   ]
  },
  {
   "cell_type": "code",
   "execution_count": 5,
   "metadata": {
    "collapsed": false
   },
   "outputs": [
    {
     "data": {
      "image/png": "[encoded data removed]",
      "text/plain": [
       "<matplotlib.figure.Figure at 0x114304610>"
      ]
     },
     "metadata": {},
     "output_type": "display_data"
    }
   ],
   "source": [
    "lw = 2\n",
    "ls = '-'\n",
    "axfont = 12\n",
    "x = 'Day of Water Year'\n",
    "y = 'Snow Water \\n Equivalent [m]'\n",
    "\n",
    "fig = plt.figure(figsize=(8,2))\n",
    "ax1 = fig.add_subplot(121)\n",
    "ax2 = fig.add_subplot(122)\n",
    "\n",
    "for ax,df,site,letter in zip([ax1,ax2],[Nr1,P301],['CO','CA'],['c','d',]):\n",
    "\n",
    "    minTpeakSWE = df.TpeakSWE.min()\n",
    "    maxTpeakSWE = df.TpeakSWE.max()\n",
    "\n",
    "    minTnosnow = df.Tnosnow.min()\n",
    "    maxTnosnow = df.Tnosnow.max()\n",
    "\n",
    "    minpeakSWE = df.peakSWE.min()\n",
    "    maxpeakSWE = df.peakSWE.max()\n",
    "\n",
    "    DOAS = df.DOAS.mean()\n",
    "\n",
    "    pts = np.array([[DOAS,0],[minTpeakSWE,maxpeakSWE],[maxTpeakSWE,maxpeakSWE],[maxTnosnow,0],[minTnosnow,0],\n",
    "                   [minTpeakSWE,minpeakSWE]])\n",
    "# [maxTpeakSWE,minpeakSWE],\n",
    "    p = Polygon(pts, closed=True, alpha = 1,edgecolor='k',facecolor='0.5',lw=lw,ls=ls)\n",
    "    ax.add_patch(p)\n",
    "\n",
    "    ax.set_xlim(0,365)\n",
    "    ax.set_ylim(0,1.6)\n",
    "    ax.set_xlabel(x,fontsize = axfont)\n",
    "    \n",
    "    ax.set_title('%s: %s'%(letter,site), fontsize=axfont+2)\n",
    "\n",
    "ax1.set_ylabel(y, fontsize = axfont)\n",
    "\n",
    "plt.savefig('./figures/smex7_scenario_comparison.png',dpi=300,bbox_inches='tight')\n",
    "plt.savefig('./figures/smex7_scenario_comparison.pdf',bbox_inches='tight')"
   ]
  },
  {
   "cell_type": "code",
   "execution_count": null,
   "metadata": {
    "collapsed": true
   },
   "outputs": [],
   "source": []
  }
 ],
 "metadata": {
  "kernelspec": {
   "display_name": "Python 2",
   "language": "python",
   "name": "python2"
  },
  "language_info": {
   "codemirror_mode": {
    "name": "ipython",
    "version": 2
   },
   "file_extension": ".py",
   "mimetype": "text/x-python",
   "name": "python",
   "nbconvert_exporter": "python",
   "pygments_lexer": "ipython2",
   "version": "2.7.12"
  }
 },
 "nbformat": 4,
 "nbformat_minor": 0
}
