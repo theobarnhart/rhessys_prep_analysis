{
 "cells": [
  {
   "cell_type": "markdown",
   "metadata": {},
   "source": [
    "### Preamble:\n",
    "\n",
    "These scenarios are based on setting a range of DOY for the snowmelt season occures and for each of those days, pulling a daily snowmelt rate from a distribution of snowmelt rates based on observations, but enlarged by 10% and shifted forward (earlier in the year) 10 days to allow for more rapid snowmelt rates and a wider range of daily snowmelt rates. Once the timeseries of snowmelt rates is generates the average snowmelt rate is computed and then the timeseries is scaled to the desired average snowmelt rate dictated by the length and timing of the ablation season and peak swe for the scenario."
   ]
  },
  {
   "cell_type": "code",
   "execution_count": 1,
   "metadata": {
    "collapsed": false
   },
   "outputs": [],
   "source": [
    "import rhessys.utilities as rut\n",
    "from matplotlib.patches import Polygon\n",
    "import statsmodels.api as sm"
   ]
  },
  {
   "cell_type": "code",
   "execution_count": 2,
   "metadata": {
    "collapsed": true
   },
   "outputs": [],
   "source": [
    "dat = pd.read_pickle('./data/Vcm_cosmos_pillow_swe.pcl')"
   ]
  },
  {
   "cell_type": "code",
   "execution_count": 3,
   "metadata": {
    "collapsed": true
   },
   "outputs": [],
   "source": [
    "dat.loc[dat.swe<0.5,'swe'] = 0.\n",
    "dat.swe /= 100. # cm > m"
   ]
  },
  {
   "cell_type": "code",
   "execution_count": 4,
   "metadata": {
    "collapsed": true
   },
   "outputs": [],
   "source": [
    "dat['wateryear'] = dat.index.map(rut.wateryear)"
   ]
  },
  {
   "cell_type": "code",
   "execution_count": 5,
   "metadata": {
    "collapsed": false
   },
   "outputs": [
    {
     "data": {
      "text/plain": [
       "<matplotlib.text.Text at 0x10f31c090>"
      ]
     },
     "execution_count": 5,
     "metadata": {},
     "output_type": "execute_result"
    },
    {
     "data": {
      "image/png": "[encoded data removed]",
      "text/plain": [
       "<matplotlib.figure.Figure at 0x109bdec10>"
      ]
     },
     "metadata": {},
     "output_type": "display_data"
    }
   ],
   "source": [
    "dat.swe.plot()\n",
    "plt.ylabel('SWE [m]', fontsize=16)"
   ]
  },
  {
   "cell_type": "code",
   "execution_count": 6,
   "metadata": {
    "collapsed": false
   },
   "outputs": [],
   "source": [
    "stats = pd.DataFrame()\n",
    "stats['wateryear'] = dat.wateryear.unique()\n",
    "\n",
    "for wy in dat.wateryear.unique():\n",
    "    tmp = dat.loc[dat.wateryear == wy]\n",
    "    \n",
    "    dopeakswe = tmp.swe.argmax()\n",
    "    peakswe = tmp.swe.max()\n",
    "    \n",
    "    stats.loc[stats.wateryear==wy,'doaccum'] = tmp.loc['%s-10-01'%(wy-1):dopeakswe].swe.argmin()\n",
    "    stats.loc[stats.wateryear==wy,'dosnowfree'] = tmp.loc[dopeakswe:'%s-09-30'%wy].swe.argmin()\n",
    "    stats.loc[stats.wateryear==wy,'dopeakswe'] = dopeakswe\n",
    "    stats.loc[stats.wateryear==wy,'peakswe'] = peakswe\n",
    "    "
   ]
  },
  {
   "cell_type": "code",
   "execution_count": 7,
   "metadata": {
    "collapsed": false
   },
   "outputs": [],
   "source": [
    "def compute_dowy(dt):\n",
    "    year = dt.year\n",
    "    month = dt.month\n",
    "    day = dt.day\n",
    "    wy = rut.wateryear(dt)\n",
    "    \n",
    "    timedelta = dt-pd.datetime.strptime('%s-10-1'%(wy-1),'%Y-%m-%d')   \n",
    "    \n",
    "    return timedelta.days"
   ]
  },
  {
   "cell_type": "code",
   "execution_count": 8,
   "metadata": {
    "collapsed": false
   },
   "outputs": [],
   "source": [
    "stats['dowy_accum'] = stats.doaccum.map(compute_dowy)\n",
    "stats['dowy_snowfree'] = stats.dosnowfree.map(compute_dowy)\n",
    "stats['dowy_peakswe'] = stats.dopeakswe.map(compute_dowy)"
   ]
  },
  {
   "cell_type": "code",
   "execution_count": 9,
   "metadata": {
    "collapsed": true
   },
   "outputs": [],
   "source": [
    "stats.to_pickle('./data/vcm_swe_stats.pcl')"
   ]
  },
  {
   "cell_type": "code",
   "execution_count": 10,
   "metadata": {
    "collapsed": false
   },
   "outputs": [
    {
     "data": {
      "text/html": [
       "<div>\n",
       "<table border=\"1\" class=\"dataframe\">\n",
       "  <thead>\n",
       "    <tr style=\"text-align: right;\">\n",
       "      <th></th>\n",
       "      <th>wateryear</th>\n",
       "      <th>doaccum</th>\n",
       "      <th>dosnowfree</th>\n",
       "      <th>dopeakswe</th>\n",
       "      <th>peakswe</th>\n",
       "      <th>dowy_accum</th>\n",
       "      <th>dowy_snowfree</th>\n",
       "      <th>dowy_peakswe</th>\n",
       "    </tr>\n",
       "  </thead>\n",
       "  <tbody>\n",
       "    <tr>\n",
       "      <th>0</th>\n",
       "      <td>2009</td>\n",
       "      <td>2008-11-14</td>\n",
       "      <td>2009-04-29</td>\n",
       "      <td>2009-03-14</td>\n",
       "      <td>0.204290</td>\n",
       "      <td>44</td>\n",
       "      <td>210</td>\n",
       "      <td>164</td>\n",
       "    </tr>\n",
       "    <tr>\n",
       "      <th>1</th>\n",
       "      <td>2010</td>\n",
       "      <td>2009-11-04</td>\n",
       "      <td>2010-04-29</td>\n",
       "      <td>2010-03-29</td>\n",
       "      <td>0.299106</td>\n",
       "      <td>34</td>\n",
       "      <td>210</td>\n",
       "      <td>179</td>\n",
       "    </tr>\n",
       "    <tr>\n",
       "      <th>2</th>\n",
       "      <td>2011</td>\n",
       "      <td>2010-12-14</td>\n",
       "      <td>2011-03-29</td>\n",
       "      <td>2011-03-11</td>\n",
       "      <td>0.054683</td>\n",
       "      <td>74</td>\n",
       "      <td>179</td>\n",
       "      <td>161</td>\n",
       "    </tr>\n",
       "    <tr>\n",
       "      <th>3</th>\n",
       "      <td>2012</td>\n",
       "      <td>2011-10-15</td>\n",
       "      <td>2012-04-12</td>\n",
       "      <td>2012-03-11</td>\n",
       "      <td>0.112225</td>\n",
       "      <td>14</td>\n",
       "      <td>194</td>\n",
       "      <td>162</td>\n",
       "    </tr>\n",
       "    <tr>\n",
       "      <th>4</th>\n",
       "      <td>2013</td>\n",
       "      <td>2012-10-16</td>\n",
       "      <td>2013-04-08</td>\n",
       "      <td>2013-03-11</td>\n",
       "      <td>0.082608</td>\n",
       "      <td>15</td>\n",
       "      <td>189</td>\n",
       "      <td>161</td>\n",
       "    </tr>\n",
       "  </tbody>\n",
       "</table>\n",
       "</div>"
      ],
      "text/plain": [
       "   wateryear    doaccum dosnowfree  dopeakswe   peakswe  dowy_accum  \\\n",
       "0       2009 2008-11-14 2009-04-29 2009-03-14  0.204290          44   \n",
       "1       2010 2009-11-04 2010-04-29 2010-03-29  0.299106          34   \n",
       "2       2011 2010-12-14 2011-03-29 2011-03-11  0.054683          74   \n",
       "3       2012 2011-10-15 2012-04-12 2012-03-11  0.112225          14   \n",
       "4       2013 2012-10-16 2013-04-08 2013-03-11  0.082608          15   \n",
       "\n",
       "   dowy_snowfree  dowy_peakswe  \n",
       "0            210           164  \n",
       "1            210           179  \n",
       "2            179           161  \n",
       "3            194           162  \n",
       "4            189           161  "
      ]
     },
     "execution_count": 10,
     "metadata": {},
     "output_type": "execute_result"
    }
   ],
   "source": [
    "stats"
   ]
  },
  {
   "cell_type": "markdown",
   "metadata": {},
   "source": [
    "### Generate the SWE Triangles"
   ]
  },
  {
   "cell_type": "code",
   "execution_count": 11,
   "metadata": {
    "collapsed": true
   },
   "outputs": [],
   "source": [
    "peakswe = stats.peakswe.mean()\n",
    "DOAS = stats.dowy_accum.mean()\n",
    "DONS = stats.dowy_snowfree.mean()\n",
    "DOWYpeakSWE = stats.dowy_peakswe.mean()\n",
    "\n",
    "peakswe90 = np.percentile(stats.peakswe,90)\n",
    "DOAS90 = np.percentile(stats.dowy_accum,90)\n",
    "DONS90 = np.percentile(stats.dowy_snowfree,90)\n",
    "DOWYpeakSWE90 = np.percentile(stats.dowy_peakswe,90)\n",
    "\n",
    "peakswe10 = np.percentile(stats.peakswe,10)\n",
    "DOAS10 = np.percentile(stats.dowy_accum,10)\n",
    "DONS10 = np.percentile(stats.dowy_snowfree,10)\n",
    "DOWYpeakSWE10 = np.percentile(stats.dowy_peakswe,10)"
   ]
  },
  {
   "cell_type": "code",
   "execution_count": 12,
   "metadata": {
    "collapsed": false
   },
   "outputs": [
    {
     "data": {
      "text/plain": [
       "<matplotlib.text.Text at 0x10f8285d0>"
      ]
     },
     "execution_count": 12,
     "metadata": {},
     "output_type": "execute_result"
    },
    {
     "data": {
      "image/png": "[encoded data removed]",
      "text/plain": [
       "<matplotlib.figure.Figure at 0x10f641450>"
      ]
     },
     "metadata": {},
     "output_type": "display_data"
    }
   ],
   "source": [
    "fig = plt.figure(figsize=(15,10))\n",
    "ax = fig.add_subplot(111)\n",
    "\n",
    "for wy in np.unique(stats.index):\n",
    "    \n",
    "    x1 = stats.loc[stats.index==wy,'dowy_accum'].as_matrix()[0]\n",
    "    x2 = stats.loc[stats.index==wy,'dowy_snowfree'].as_matrix()[0]\n",
    "    x3 = stats.loc[stats.index==wy,'dowy_peakswe'].as_matrix()[0]\n",
    "    y3 = stats.loc[stats.index==wy,'peakswe'].as_matrix()[0]\n",
    "    \n",
    "    pts = np.array([[x2,0],[x3,y3],[x1,0]])\n",
    "    \n",
    "    p = Polygon(pts, closed=False, alpha = 0.5,edgecolor='none',facecolor='0.7')\n",
    "    ax.add_patch(p)\n",
    "    \n",
    "for wy in np.unique(stats.index):\n",
    "    \n",
    "    x1 = stats.loc[stats.index==wy,'dowy_accum'].as_matrix()[0]\n",
    "    x2 = stats.loc[stats.index==wy,'dowy_snowfree'].as_matrix()[0]\n",
    "    x3 = stats.loc[stats.index==wy,'dowy_peakswe'].as_matrix()[0]\n",
    "    y3 = stats.loc[stats.index==wy,'peakswe'].as_matrix()[0]\n",
    "    \n",
    "    pts = np.array([[x2,0],[x3,y3],[x1,0]])\n",
    "    \n",
    "    p = Polygon(pts, closed=False, alpha = 0.25,edgecolor='k',facecolor='none',lw=4)\n",
    "    ax.add_patch(p)\n",
    "\n",
    "x1 = DOAS\n",
    "x2 = DONS\n",
    "x3 = DOWYpeakSWE\n",
    "y3 = peakswe\n",
    "\n",
    "pts = np.array([[x2,0],[x3,y3],[x1,0]])\n",
    "    \n",
    "p = Polygon(pts, closed=False, alpha = 1,edgecolor='r',facecolor='none',lw=6)\n",
    "ax.add_patch(p)\n",
    "\n",
    "x1 = DOAS10\n",
    "x2 = DONS90\n",
    "x3 = DOWYpeakSWE90\n",
    "y3 = peakswe90\n",
    "\n",
    "pts = np.array([[x2,0],[x3,y3],[x1,0]])\n",
    "    \n",
    "p = Polygon(pts, closed=False, alpha = 1,edgecolor='b',facecolor='none',lw=5)\n",
    "ax.add_patch(p)\n",
    "\n",
    "x1 = DOAS90\n",
    "x2 = DONS10\n",
    "x3 = DOWYpeakSWE10\n",
    "y3 = peakswe10\n",
    "\n",
    "pts = np.array([[x2,0],[x3,y3],[x1,0]])\n",
    "    \n",
    "p = Polygon(pts, closed=False, alpha = 1,edgecolor='b',facecolor='none',lw=5)\n",
    "ax.add_patch(p)    \n",
    "\n",
    "ax.set_xlim(-10,250)\n",
    "ax.set_ylim(-.05,.35)\n",
    "plt.xlabel('Day of Water Year', fontsize = 16)\n",
    "plt.ylabel('SWE [m]', fontsize=16)"
   ]
  },
  {
   "cell_type": "markdown",
   "metadata": {},
   "source": [
    "## Generate a data frame of Snowmelt Events"
   ]
  },
  {
   "cell_type": "code",
   "execution_count": 13,
   "metadata": {
    "collapsed": false
   },
   "outputs": [],
   "source": [
    "dat['dowy'] = dat.index.map(compute_dowy)"
   ]
  },
  {
   "cell_type": "code",
   "execution_count": 14,
   "metadata": {
    "collapsed": false
   },
   "outputs": [],
   "source": [
    "# compute snowmelt based on SWE\n",
    "tmp1 = dat.swe.as_matrix()[0:-1]\n",
    "tmp2 = dat.swe.as_matrix()[1:]\n",
    "\n",
    "dat['sm'] = np.nan\n",
    "\n",
    "dat.ix[1:,'sm'] = tmp2-tmp1"
   ]
  },
  {
   "cell_type": "code",
   "execution_count": 16,
   "metadata": {
    "collapsed": false
   },
   "outputs": [],
   "source": [
    "dates = [] # preallocate actual dates\n",
    "snowmelts = [] # preallocate snowmelt rates\n",
    "DOAS = [] # preallocate date of ablation season array\n",
    "\n",
    "for wy in np.unique(stats.wateryear): # loop through each water year and extract each snowmelt season\n",
    "    \n",
    "    strt = stats.loc[stats.wateryear==wy,'dopeakswe'].as_matrix()[0] # get the date of peak SWE\n",
    "    nd = stats.loc[stats.wateryear==wy,'dosnowfree'].as_matrix()[0] # get the date of no snow\n",
    "    \n",
    "    smelt = list(dat.loc[strt:nd,'sm'])\n",
    "    \n",
    "    snowmelts.extend(list(smelt)) # pull out the snowmelts\n",
    "    DOAS.extend(list(np.arange(1,len(smelt)+1))) # create an array of ablation season days\n",
    "    dates.extend(list(pd.date_range(strt,nd,freq='D'))) # create an array of actual days"
   ]
  },
  {
   "cell_type": "code",
   "execution_count": 17,
   "metadata": {
    "collapsed": true
   },
   "outputs": [],
   "source": [
    "# generate an array snowmelt events and the day of the water year that they occured on.\n",
    "AS = pd.DataFrame({'snowmelt':snowmelts,'DOAS':DOAS,'date':dates})\n",
    "AS['DOWY'] = AS.date.map(rut.DOWY)\n",
    "AS['DOWY2'] = AS.DOWY**2"
   ]
  },
  {
   "cell_type": "code",
   "execution_count": 18,
   "metadata": {
    "collapsed": false
   },
   "outputs": [
    {
     "data": {
      "text/html": [
       "<div>\n",
       "<table border=\"1\" class=\"dataframe\">\n",
       "  <thead>\n",
       "    <tr style=\"text-align: right;\">\n",
       "      <th></th>\n",
       "      <th>DOAS</th>\n",
       "      <th>date</th>\n",
       "      <th>snowmelt</th>\n",
       "      <th>DOWY</th>\n",
       "      <th>DOWY2</th>\n",
       "    </tr>\n",
       "  </thead>\n",
       "  <tbody>\n",
       "    <tr>\n",
       "      <th>0</th>\n",
       "      <td>1</td>\n",
       "      <td>2009-03-14</td>\n",
       "      <td>0.006893</td>\n",
       "      <td>165</td>\n",
       "      <td>27225</td>\n",
       "    </tr>\n",
       "    <tr>\n",
       "      <th>1</th>\n",
       "      <td>2</td>\n",
       "      <td>2009-03-15</td>\n",
       "      <td>-0.006378</td>\n",
       "      <td>166</td>\n",
       "      <td>27556</td>\n",
       "    </tr>\n",
       "    <tr>\n",
       "      <th>2</th>\n",
       "      <td>3</td>\n",
       "      <td>2009-03-16</td>\n",
       "      <td>-0.008575</td>\n",
       "      <td>167</td>\n",
       "      <td>27889</td>\n",
       "    </tr>\n",
       "    <tr>\n",
       "      <th>3</th>\n",
       "      <td>4</td>\n",
       "      <td>2009-03-17</td>\n",
       "      <td>0.004370</td>\n",
       "      <td>168</td>\n",
       "      <td>28224</td>\n",
       "    </tr>\n",
       "    <tr>\n",
       "      <th>4</th>\n",
       "      <td>5</td>\n",
       "      <td>2009-03-18</td>\n",
       "      <td>0.000323</td>\n",
       "      <td>169</td>\n",
       "      <td>28561</td>\n",
       "    </tr>\n",
       "  </tbody>\n",
       "</table>\n",
       "</div>"
      ],
      "text/plain": [
       "   DOAS       date  snowmelt  DOWY  DOWY2\n",
       "0     1 2009-03-14  0.006893   165  27225\n",
       "1     2 2009-03-15 -0.006378   166  27556\n",
       "2     3 2009-03-16 -0.008575   167  27889\n",
       "3     4 2009-03-17  0.004370   168  28224\n",
       "4     5 2009-03-18  0.000323   169  28561"
      ]
     },
     "execution_count": 18,
     "metadata": {},
     "output_type": "execute_result"
    }
   ],
   "source": [
    "AS.head() # SM in m/day"
   ]
  },
  {
   "cell_type": "code",
   "execution_count": 19,
   "metadata": {
    "collapsed": false
   },
   "outputs": [],
   "source": [
    "AS.snowmelt *= -1 # convert decreases in SWE to positive snowmelt values\n",
    "AS.loc[AS.snowmelt < 0, 'snowmelt'] = np.NaN # remove accumulation events\n",
    "\n",
    "#AS.dropna(inplace=True)"
   ]
  },
  {
   "cell_type": "code",
   "execution_count": 20,
   "metadata": {
    "collapsed": true
   },
   "outputs": [],
   "source": [
    "AS = AS.loc[AS.snowmelt>=0,:] # remove Accumulation events"
   ]
  },
  {
   "cell_type": "code",
   "execution_count": 21,
   "metadata": {
    "collapsed": true
   },
   "outputs": [],
   "source": [
    "smvals = AS.copy()"
   ]
  },
  {
   "cell_type": "code",
   "execution_count": 22,
   "metadata": {
    "collapsed": false
   },
   "outputs": [],
   "source": [
    "del smvals['date']\n",
    "del smvals['DOWY2']\n",
    "del smvals['DOAS']"
   ]
  },
  {
   "cell_type": "code",
   "execution_count": 23,
   "metadata": {
    "collapsed": false
   },
   "outputs": [],
   "source": [
    "smvals.sort_values(by='snowmelt', inplace=True)\n",
    "smvals.reset_index(inplace=True)"
   ]
  },
  {
   "cell_type": "code",
   "execution_count": 24,
   "metadata": {
    "collapsed": false
   },
   "outputs": [],
   "source": [
    "# timeshift and increase the observed snowmelt scenarios multiple times up to the maximum for both so make a more dense distribution of snowmelt rates\n",
    "n = 20 # number of times to split up the shifts and increases\n",
    "# maximum values\n",
    "timeshift = 10 # move snowmelt forward by 10 days\n",
    "rateincrease = 1.1 # increase the rate by 10%\n",
    "\n",
    "timeshifts = np.linspace(0,timeshift,num=n)\n",
    "rateincreases = np.linspace(1,rateincrease,num=n)\n",
    "\n",
    "tmp = pd.DataFrame() # preallocate data frame\n",
    "ct = 0\n",
    "for k,l in zip(timeshifts,rateincreases):\n",
    "    dowys = np.round(smvals.DOWY.as_matrix()-k) # shift timing forward by the timeshift \n",
    "    sms = smvals.snowmelt.as_matrix()*l # increase snowmelt rates by the rate increase\n",
    "\n",
    "    tmp = pd.concat([pd.DataFrame({'snowmelt':sms,'DOWY':dowys}),tmp])\n",
    "    \n",
    "    #print ct \n",
    "    #print 'Snowmelt values shifted forward %s days'%k\n",
    "    #print 'Snowmelt values multiplied by %s'%l\n",
    "    \n",
    "    ct += 1"
   ]
  },
  {
   "cell_type": "code",
   "execution_count": 25,
   "metadata": {
    "collapsed": true
   },
   "outputs": [],
   "source": [
    "smvals = pd.concat([tmp,smvals])\n",
    "del smvals['index']"
   ]
  },
  {
   "cell_type": "code",
   "execution_count": 26,
   "metadata": {
    "collapsed": false
   },
   "outputs": [],
   "source": [
    "smvals.sort_values(by='snowmelt', inplace=True)\n",
    "smvals.reset_index(inplace=True)"
   ]
  },
  {
   "cell_type": "code",
   "execution_count": 27,
   "metadata": {
    "collapsed": false
   },
   "outputs": [
    {
     "data": {
      "text/plain": [
       "<matplotlib.text.Text at 0x10fcd9c10>"
      ]
     },
     "execution_count": 27,
     "metadata": {},
     "output_type": "execute_result"
    },
    {
     "data": {
      "image/png": "[encoded data removed]",
      "text/plain": [
       "<matplotlib.figure.Figure at 0x10fcbae10>"
      ]
     },
     "metadata": {},
     "output_type": "display_data"
    }
   ],
   "source": [
    "plt.hist(smvals.snowmelt,7);\n",
    "plt.xlabel('Snowmelt Rate [m/d]', fontsize = 16)\n",
    "plt.ylabel('Frequency', fontsize=16)"
   ]
  },
  {
   "cell_type": "code",
   "execution_count": 28,
   "metadata": {
    "collapsed": true
   },
   "outputs": [],
   "source": [
    "strtDOWY = AS.DOWY.min()\n",
    "endDOWY = AS.DOWY.max()"
   ]
  },
  {
   "cell_type": "code",
   "execution_count": 29,
   "metadata": {
    "collapsed": false
   },
   "outputs": [
    {
     "data": {
      "image/png": "[encoded data removed]",
      "text/plain": [
       "<matplotlib.figure.Figure at 0x10f3ddd90>"
      ]
     },
     "metadata": {},
     "output_type": "display_data"
    }
   ],
   "source": [
    "plt.hexbin(smvals.DOWY,smvals.snowmelt,gridsize=35,mincnt=1, cmap='hot_r');"
   ]
  },
  {
   "cell_type": "code",
   "execution_count": 30,
   "metadata": {
    "collapsed": true
   },
   "outputs": [],
   "source": [
    "import rhessys.snowmelt_experiment as smex"
   ]
  },
  {
   "cell_type": "code",
   "execution_count": 31,
   "metadata": {
    "collapsed": false
   },
   "outputs": [
    {
     "data": {
      "text/html": [
       "<div>\n",
       "<table border=\"1\" class=\"dataframe\">\n",
       "  <thead>\n",
       "    <tr style=\"text-align: right;\">\n",
       "      <th></th>\n",
       "      <th>wateryear</th>\n",
       "      <th>doaccum</th>\n",
       "      <th>dosnowfree</th>\n",
       "      <th>dopeakswe</th>\n",
       "      <th>peakswe</th>\n",
       "      <th>dowy_accum</th>\n",
       "      <th>dowy_snowfree</th>\n",
       "      <th>dowy_peakswe</th>\n",
       "    </tr>\n",
       "  </thead>\n",
       "  <tbody>\n",
       "    <tr>\n",
       "      <th>0</th>\n",
       "      <td>2009</td>\n",
       "      <td>2008-11-14</td>\n",
       "      <td>2009-04-29</td>\n",
       "      <td>2009-03-14</td>\n",
       "      <td>0.204290</td>\n",
       "      <td>44</td>\n",
       "      <td>210</td>\n",
       "      <td>164</td>\n",
       "    </tr>\n",
       "    <tr>\n",
       "      <th>1</th>\n",
       "      <td>2010</td>\n",
       "      <td>2009-11-04</td>\n",
       "      <td>2010-04-29</td>\n",
       "      <td>2010-03-29</td>\n",
       "      <td>0.299106</td>\n",
       "      <td>34</td>\n",
       "      <td>210</td>\n",
       "      <td>179</td>\n",
       "    </tr>\n",
       "    <tr>\n",
       "      <th>2</th>\n",
       "      <td>2011</td>\n",
       "      <td>2010-12-14</td>\n",
       "      <td>2011-03-29</td>\n",
       "      <td>2011-03-11</td>\n",
       "      <td>0.054683</td>\n",
       "      <td>74</td>\n",
       "      <td>179</td>\n",
       "      <td>161</td>\n",
       "    </tr>\n",
       "    <tr>\n",
       "      <th>3</th>\n",
       "      <td>2012</td>\n",
       "      <td>2011-10-15</td>\n",
       "      <td>2012-04-12</td>\n",
       "      <td>2012-03-11</td>\n",
       "      <td>0.112225</td>\n",
       "      <td>14</td>\n",
       "      <td>194</td>\n",
       "      <td>162</td>\n",
       "    </tr>\n",
       "    <tr>\n",
       "      <th>4</th>\n",
       "      <td>2013</td>\n",
       "      <td>2012-10-16</td>\n",
       "      <td>2013-04-08</td>\n",
       "      <td>2013-03-11</td>\n",
       "      <td>0.082608</td>\n",
       "      <td>15</td>\n",
       "      <td>189</td>\n",
       "      <td>161</td>\n",
       "    </tr>\n",
       "  </tbody>\n",
       "</table>\n",
       "</div>"
      ],
      "text/plain": [
       "   wateryear    doaccum dosnowfree  dopeakswe   peakswe  dowy_accum  \\\n",
       "0       2009 2008-11-14 2009-04-29 2009-03-14  0.204290          44   \n",
       "1       2010 2009-11-04 2010-04-29 2010-03-29  0.299106          34   \n",
       "2       2011 2010-12-14 2011-03-29 2011-03-11  0.054683          74   \n",
       "3       2012 2011-10-15 2012-04-12 2012-03-11  0.112225          14   \n",
       "4       2013 2012-10-16 2013-04-08 2013-03-11  0.082608          15   \n",
       "\n",
       "   dowy_snowfree  dowy_peakswe  \n",
       "0            210           164  \n",
       "1            210           179  \n",
       "2            179           161  \n",
       "3            194           162  \n",
       "4            189           161  "
      ]
     },
     "execution_count": 31,
     "metadata": {},
     "output_type": "execute_result"
    }
   ],
   "source": [
    "stats.head()"
   ]
  },
  {
   "cell_type": "code",
   "execution_count": 32,
   "metadata": {
    "collapsed": false
   },
   "outputs": [
    {
     "name": "stdout",
     "output_type": "stream",
     "text": [
      "mean peak SWE: 0.151 +/-0.1\n",
      "mean DOWY peak SWE: 165.0 +/-8.0\n",
      "mean DOWY no snow: 196.0 +/-14.0\n"
     ]
    }
   ],
   "source": [
    "meanPeakSWE = round(stats.peakswe.mean(),3)\n",
    "PeakSWEstd = round(stats.peakswe.std(),3)\n",
    "\n",
    "meanDOWYpeakSWE = round(stats.dowy_peakswe.mean(),0)\n",
    "DOWYpeakSWEstd = round(stats.dowy_peakswe.std(),0)\n",
    "\n",
    "meanDOWYsnowfree = round(stats.dowy_snowfree.mean(),0)\n",
    "DOWYsnowfreestd = round(stats.dowy_snowfree.std(),0)\n",
    "\n",
    "print 'mean peak SWE: %s +/-%s'%(meanPeakSWE,PeakSWEstd)\n",
    "print 'mean DOWY peak SWE: %s +/-%s'%(meanDOWYpeakSWE,DOWYpeakSWEstd)\n",
    "print 'mean DOWY no snow: %s +/-%s'%(meanDOWYsnowfree,DOWYsnowfreestd)"
   ]
  },
  {
   "cell_type": "code",
   "execution_count": 33,
   "metadata": {
    "collapsed": false
   },
   "outputs": [],
   "source": [
    "# parameters of the snowmelt experiment, bounds are mean +/- 1 standard deviation\n",
    "\n",
    "TpeakSWEs = np.arange(meanDOWYpeakSWE-DOWYpeakSWEstd,meanDOWYpeakSWE+DOWYpeakSWEstd,1) # Range for the timing of peak SWE\n",
    "TnoSnow = np.arange(meanDOWYsnowfree-DOWYsnowfreestd,meanDOWYsnowfree+DOWYsnowfreestd,1) # range of the timing of no snow\n",
    "peakswe = np.linspace(meanPeakSWE-PeakSWEstd,meanPeakSWE+PeakSWEstd,224) # range of peak SWE, 65 was used for Nwt"
   ]
  },
  {
   "cell_type": "code",
   "execution_count": 34,
   "metadata": {
    "collapsed": true
   },
   "outputs": [],
   "source": [
    "TPS = []\n",
    "TNS = []\n",
    "PS = []\n",
    "for i in TpeakSWEs:\n",
    "    for k in TnoSnow:\n",
    "        for d in peakswe:\n",
    "            TPS.append(i)\n",
    "            TNS.append(k)\n",
    "            PS.append(d)\n",
    "\n",
    "params = pd.DataFrame({'TpeakSWE':TPS,'Tnosnow':TNS,'peakSWE':PS})"
   ]
  },
  {
   "cell_type": "code",
   "execution_count": 35,
   "metadata": {
    "collapsed": true
   },
   "outputs": [],
   "source": [
    "# drop rows with imposible combinations\n",
    "params['SMR'] = params['peakSWE']/(params['Tnosnow']-params['TpeakSWE']) # compute the average snowmelt rate\n",
    "params.loc[(params['Tnosnow']-params['TpeakSWE'])<1] = np.NaN\n",
    "params.loc[params.SMR>np.percentile(smvals.snowmelt,95)] = np.NaN # remove crazy big snowmelt rates\n",
    "params.dropna(inplace=True)"
   ]
  },
  {
   "cell_type": "code",
   "execution_count": 36,
   "metadata": {
    "collapsed": false
   },
   "outputs": [
    {
     "data": {
      "text/plain": [
       "100168"
      ]
     },
     "execution_count": 36,
     "metadata": {},
     "output_type": "execute_result"
    }
   ],
   "source": [
    "len(params)"
   ]
  },
  {
   "cell_type": "code",
   "execution_count": 37,
   "metadata": {
    "collapsed": true
   },
   "outputs": [],
   "source": [
    "# calculate a bunch of things\n",
    "params['ref'] = 2012 # add a reference water year\n",
    "params['date_ONS'] = params.apply(smex.DONS2cal, axis=1) # compute the day of water year for no snow\n",
    "params['DOAS'] = 15 # compute the day of water year for the beginning of accumulation\n",
    "params['date_AS'] = params.apply(smex.DOAS2cal, axis=1) # compute the date for the beginning of accumulation\n",
    "params['idx'] = np.arange(0,len(params)) # add an index column\n",
    "params['date_peakSWE']=params.apply(smex.DOPEAKSWE2cal,axis=1)"
   ]
  },
  {
   "cell_type": "code",
   "execution_count": 38,
   "metadata": {
    "collapsed": true
   },
   "outputs": [],
   "source": [
    "params.to_pickle('./data/params_Vcm_smex_method4.pcl') # save "
   ]
  },
  {
   "cell_type": "code",
   "execution_count": 46,
   "metadata": {
    "collapsed": true
   },
   "outputs": [],
   "source": [
    "def grabsnowmeltval(dowy):\n",
    "    '''Given a day of water year and a data set of day of water year and snowmelt values, produce a snowmelt value'''\n",
    "    \n",
    "    tmp = smvals.loc[smvals.DOWY==dowy] # subset the data frame\n",
    "    tmp.reset_index(inplace=True)\n",
    "    m = len(tmp) # grab the number of values\n",
    "    #print m    \n",
    "    idx = np.random.randint(0,m,1)\n",
    "    return tmp.ix[idx,'snowmelt'].as_matrix() # select the random snowmelt value"
   ]
  },
  {
   "cell_type": "code",
   "execution_count": 47,
   "metadata": {
    "collapsed": true
   },
   "outputs": [],
   "source": [
    "def genSMcurve(x):\n",
    "    PSWE = x.peakSWE # new peak SWE [m]\n",
    "    SMR = x.SMR # new snowmelt rate [m/d]\n",
    "    tPeakSWE = x.TpeakSWE # new day of water year of peak SWE [DOWY]\n",
    "    tNoSnow = x.Tnosnow # the day of water year of no snow\n",
    "    \n",
    "    # Generate a list of DOWY\n",
    "    res = pd.DataFrame({'dowy':np.arange(tPeakSWE,tNoSnow)}) # create a data frame\n",
    "    \n",
    "    res['sm'] = res.dowy.map(grabsnowmeltval) # map the snowmelt function onto the DF returns sm in [m/d]\n",
    "    \n",
    "    meanSMR = np.mean(res.sm) # compute the mean snowmelt rate [m/d]\n",
    "    diff = SMR/meanSMR # compute the ratio [1]\n",
    "    res['sm'] *= diff # scale the snowmelt curve to match the correct one\n",
    "    \n",
    "    # handle the dates\n",
    "    res['ref'] = 2012 # create a reference year column\n",
    "    res['date'] = res.apply(smex.DOWY2cal,axis=1)\n",
    "    res['year'] = res.date.map(smex.getyear)\n",
    "    res['month'] = res.date.map(smex.getmonth)\n",
    "    res['day'] = res.date.map(smex.getday)\n",
    "    res['hour'] = 1. # create an hour column\n",
    "    \n",
    "    # create an array for export\n",
    "    \n",
    "    years = res.year.as_matrix()\n",
    "    months = res.month.as_matrix()\n",
    "    days = res.day.as_matrix()\n",
    "    hours = res.hour.as_matrix()\n",
    "    sm = res.sm.as_matrix()\n",
    "    \n",
    "    # reshape the arrays\n",
    "    years = np.reshape(years,[len(years),1]) \n",
    "    months = np.reshape(months,[len(months),1]) \n",
    "    days = np.reshape(days,[len(days),1]) \n",
    "    hours = np.reshape(hours,[len(hours),1]) \n",
    "    sm = np.reshape(sm,[len(sm),1]) \n",
    "    \n",
    "    out = np.concatenate((years,months,days,hours,sm),axis=1) # concat the arrays\n",
    "    \n",
    "    filenum = int(x.idx)\n",
    "    \n",
    "    np.savetxt('/RHESSys/jemez/clim/smexperiment/smex4/hourly/scen_'+str(filenum)+'.snow_melt_input',out,fmt='%i %i %i %i %10.8f',\n",
    "              comments='',header=str(len(years)))"
   ]
  },
  {
   "cell_type": "code",
   "execution_count": 48,
   "metadata": {
    "collapsed": true
   },
   "outputs": [],
   "source": [
    "def genrain(x):\n",
    "    \n",
    "    rain = crn.loc['2011-10-1':'2012-10-15','P'].copy() # subset the P, units should be m\n",
    "    rain2 = crn.loc['2011-10-1':'2012-10-15','P'].copy()\n",
    "    \n",
    "    strt = x.date_peakSWE # beginning of snowmelt\n",
    "    strt2 = x.date_AS # beginning of the snow season\n",
    "    nd = x.date_ONS-pd.datetools.timedelta(1) # end of the snow season\n",
    "    \n",
    "    \n",
    "    rain[str(strt):str(nd)] = 0. # zero the rain for peak swe to DONS, so it builds a snowpack \n",
    "    rain2[str(strt2):str(nd)] = 0. # zero the rain for the snow season\n",
    "    \n",
    "    header = '2011 10 1'\n",
    "    \n",
    "    rn = rain.as_matrix()\n",
    "    rn = np.reshape(rn,[len(rn),1])\n",
    "    \n",
    "    filenum = int(x.idx)\n",
    "    \n",
    "    np.savetxt('/RHESSys/jemez/clim/smexperiment/smex4/daily/vcm_hybrid_'+str(filenum)+'.rain',\n",
    "               rn,comments='',header=header,fmt='%10.8f')\n",
    "    \n",
    "    return rain2['2011-10-01':'2012-9-30'].sum() # return the total rain for the water year"
   ]
  },
  {
   "cell_type": "code",
   "execution_count": 49,
   "metadata": {
    "collapsed": true
   },
   "outputs": [],
   "source": [
    "tmp = pd.read_pickle('./data/Vcm_hybrid_precip.pcl')\n",
    "crn = pd.DataFrame(tmp['hybrid_p'])"
   ]
  },
  {
   "cell_type": "code",
   "execution_count": 50,
   "metadata": {
    "collapsed": false
   },
   "outputs": [],
   "source": [
    "crn.columns = ['P']\n",
    "crn.P *= 0.001 # mm to m"
   ]
  },
  {
   "cell_type": "code",
   "execution_count": 51,
   "metadata": {
    "collapsed": false,
    "scrolled": true
   },
   "outputs": [
    {
     "name": "stdout",
     "output_type": "stream",
     "text": [
      "Done with snowmelt scenarios\n",
      "Done with rain timeseries\n"
     ]
    }
   ],
   "source": [
    "params.apply(genSMcurve,axis=1);\n",
    "print 'Done with snowmelt scenarios'\n",
    "params['MAP'] = params.apply(genrain,axis=1)\n",
    "print 'Done with rain timeseries'"
   ]
  },
  {
   "cell_type": "code",
   "execution_count": 53,
   "metadata": {
    "collapsed": false
   },
   "outputs": [
    {
     "data": {
      "text/plain": [
       "(100168, 11)"
      ]
     },
     "execution_count": 53,
     "metadata": {},
     "output_type": "execute_result"
    }
   ],
   "source": [
    "params.shape"
   ]
  },
  {
   "cell_type": "code",
   "execution_count": 52,
   "metadata": {
    "collapsed": true
   },
   "outputs": [],
   "source": [
    "params.to_pickle('./data/params_Vcm_smex_method4.pcl') # save "
   ]
  }
 ],
 "metadata": {
  "kernelspec": {
   "display_name": "Python 2",
   "language": "python",
   "name": "python2"
  },
  "language_info": {
   "codemirror_mode": {
    "name": "ipython",
    "version": 2
   },
   "file_extension": ".py",
   "mimetype": "text/x-python",
   "name": "python",
   "nbconvert_exporter": "python",
   "pygments_lexer": "ipython2",
   "version": "2.7.12"
  }
 },
 "nbformat": 4,
 "nbformat_minor": 0
}
