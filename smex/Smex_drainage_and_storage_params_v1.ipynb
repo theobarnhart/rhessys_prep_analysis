{
 "cells": [
  {
   "cell_type": "code",
   "execution_count": 1,
   "metadata": {
    "collapsed": true
   },
   "outputs": [],
   "source": [
    "n = 5 # number of increments for the parameters, must be odd\n",
    "k = 10000 # number of simulations "
   ]
  },
  {
   "cell_type": "markdown",
   "metadata": {},
   "source": [
    "### Vcm"
   ]
  },
  {
   "cell_type": "raw",
   "metadata": {
    "collapsed": true
   },
   "source": [
    "site = 'Vcm'\n",
    "loc = 'jemez'\n",
    "method = '7'\n",
    "\n",
    "# model scalar values from calibration\n",
    "m = 19.024\n",
    "ksat = 440.81\n",
    "po = 3.644\n",
    "pa = 0.068\n",
    "\n",
    "# Values from definition files\n",
    "m_actual = 0.4000\n",
    "ksat_actual = 2.439\n",
    "po_actual = 0.204\n",
    "pa_actual = 0.218\n",
    "root_depth = 4.814\n",
    "soil_depth = 8.814\n",
    "\n",
    "# convert to real values \n",
    "m_model = m * m_actual\n",
    "ksat_model = ksat * ksat_actual\n",
    "po_model = po * po_actual\n",
    "pa_model = pa * pa_actual"
   ]
  },
  {
   "cell_type": "markdown",
   "metadata": {},
   "source": [
    "### Nr1"
   ]
  },
  {
   "cell_type": "code",
   "execution_count": 2,
   "metadata": {
    "collapsed": true
   },
   "outputs": [],
   "source": [
    "site = 'Nr1'\n",
    "loc = 'ComoCreek_new'\n",
    "method = '7'\n",
    "\n",
    "m = 12.398\n",
    "ksat = 133.66\n",
    "po = 0.253\n",
    "pa = 0.02\n",
    "\n",
    "m_actual = 0.4000\n",
    "ksat_actual = 0.150\n",
    "po_actual = 0.129\n",
    "pa_actual = 0.356\n",
    "root_depth = 3.24\n",
    "soil_depth = 7.24 \n",
    "\n",
    "# convert to real values \n",
    "m_model = m * m_actual\n",
    "ksat_model = ksat * ksat_actual\n",
    "po_model = po * po_actual\n",
    "pa_model = pa * pa_actual"
   ]
  },
  {
   "cell_type": "code",
   "execution_count": 3,
   "metadata": {
    "collapsed": false
   },
   "outputs": [
    {
     "name": "stdout",
     "output_type": "stream",
     "text": [
      "4.9592\n",
      "20.049\n",
      "0.032637\n",
      "0.00712\n"
     ]
    }
   ],
   "source": [
    "print m_model\n",
    "print ksat_model\n",
    "print po_model\n",
    "print pa_model"
   ]
  },
  {
   "cell_type": "markdown",
   "metadata": {},
   "source": [
    "### P301"
   ]
  },
  {
   "cell_type": "raw",
   "metadata": {
    "collapsed": true
   },
   "source": [
    "site = 'P301'\n",
    "loc = 'providence/theo_p301_flux'\n",
    "method = '7'\n",
    "\n",
    "m = 3.137\n",
    "ksat = 505.26\n",
    "po = 2.533\n",
    "pa = 0.466\n",
    "\n",
    "m_actual = 0.400\n",
    "ksat_actual = 3.0\n",
    "po_actual = 0.204\n",
    "pa_actual = 0.218\n",
    "root_depth = 8.503\n",
    "soil_depth = 12.503\n",
    "\n",
    "# convert to real values \n",
    "m_model = m * m_actual\n",
    "ksat_model = ksat * ksat_actual\n",
    "po_model = po * po_actual\n",
    "pa_model = pa * pa_actual"
   ]
  },
  {
   "cell_type": "code",
   "execution_count": 4,
   "metadata": {
    "collapsed": false
   },
   "outputs": [],
   "source": [
    "ksats = np.linspace(start=ksat_model-(ksat_model/2),stop=ksat_model+(ksat_model/2),num=n)\n",
    "ms = np.repeat(m_model,n)\n",
    "ms.shape = ksats.shape"
   ]
  },
  {
   "cell_type": "code",
   "execution_count": 5,
   "metadata": {
    "collapsed": false
   },
   "outputs": [],
   "source": [
    "combos = []\n",
    "\n",
    "for i in np.arange(1,n+1):\n",
    "    combos.append('d%s'%i)"
   ]
  },
  {
   "cell_type": "code",
   "execution_count": 6,
   "metadata": {
    "collapsed": false
   },
   "outputs": [],
   "source": [
    "drainage = pd.DataFrame({'m':ms,'ksat':ksats,'combination':combos})"
   ]
  },
  {
   "cell_type": "code",
   "execution_count": 7,
   "metadata": {
    "collapsed": true
   },
   "outputs": [],
   "source": [
    "pas = np.linspace(start=pa_model-(pa_model/2),stop=pa_model+(pa_model/2),num=n)\n",
    "pos = np.repeat(po_model,n)\n",
    "pos.shape = pas.shape"
   ]
  },
  {
   "cell_type": "code",
   "execution_count": 8,
   "metadata": {
    "collapsed": true
   },
   "outputs": [],
   "source": [
    "combos = []\n",
    "\n",
    "for i in np.arange(1,n+1):\n",
    "    combos.append('s%s'%i)"
   ]
  },
  {
   "cell_type": "code",
   "execution_count": 9,
   "metadata": {
    "collapsed": true
   },
   "outputs": [],
   "source": [
    "storage = pd.DataFrame({'po':pos,'pa':pas,'combination':combos})"
   ]
  },
  {
   "cell_type": "code",
   "execution_count": 10,
   "metadata": {
    "collapsed": false
   },
   "outputs": [],
   "source": [
    "m = []\n",
    "ksat = []\n",
    "po = []\n",
    "pa = [] \n",
    "combo = []\n",
    "\n",
    "for d in drainage.combination:\n",
    "    for s in storage.combination:\n",
    "        m.append(round(drainage.loc[drainage.combination==d,'m'].as_matrix()[0],6))\n",
    "        ksat.append(round(drainage.loc[drainage.combination==d,'ksat'].as_matrix()[0],6))\n",
    "        po.append(round(storage.loc[storage.combination==s,'po'].as_matrix()[0],6))\n",
    "        pa.append(round(storage.loc[storage.combination==s,'pa'].as_matrix()[0],6))\n",
    "        combo.append('%s:%s'%(d,s))\n",
    "        \n",
    "tmp = pd.DataFrame({'m':m,'ksat':ksat,'po':po,'pa':pa,'combo':combo})"
   ]
  },
  {
   "cell_type": "code",
   "execution_count": 11,
   "metadata": {
    "collapsed": false
   },
   "outputs": [
    {
     "data": {
      "text/html": [
       "<div>\n",
       "<table border=\"1\" class=\"dataframe\">\n",
       "  <thead>\n",
       "    <tr style=\"text-align: right;\">\n",
       "      <th></th>\n",
       "      <th>combo</th>\n",
       "      <th>ksat</th>\n",
       "      <th>m</th>\n",
       "      <th>pa</th>\n",
       "      <th>po</th>\n",
       "    </tr>\n",
       "  </thead>\n",
       "  <tbody>\n",
       "    <tr>\n",
       "      <th>0</th>\n",
       "      <td>d1:s1</td>\n",
       "      <td>10.0245</td>\n",
       "      <td>4.9592</td>\n",
       "      <td>0.00356</td>\n",
       "      <td>0.032637</td>\n",
       "    </tr>\n",
       "    <tr>\n",
       "      <th>1</th>\n",
       "      <td>d1:s2</td>\n",
       "      <td>10.0245</td>\n",
       "      <td>4.9592</td>\n",
       "      <td>0.00534</td>\n",
       "      <td>0.032637</td>\n",
       "    </tr>\n",
       "    <tr>\n",
       "      <th>2</th>\n",
       "      <td>d1:s3</td>\n",
       "      <td>10.0245</td>\n",
       "      <td>4.9592</td>\n",
       "      <td>0.00712</td>\n",
       "      <td>0.032637</td>\n",
       "    </tr>\n",
       "    <tr>\n",
       "      <th>3</th>\n",
       "      <td>d1:s4</td>\n",
       "      <td>10.0245</td>\n",
       "      <td>4.9592</td>\n",
       "      <td>0.00890</td>\n",
       "      <td>0.032637</td>\n",
       "    </tr>\n",
       "    <tr>\n",
       "      <th>4</th>\n",
       "      <td>d1:s5</td>\n",
       "      <td>10.0245</td>\n",
       "      <td>4.9592</td>\n",
       "      <td>0.01068</td>\n",
       "      <td>0.032637</td>\n",
       "    </tr>\n",
       "  </tbody>\n",
       "</table>\n",
       "</div>"
      ],
      "text/plain": [
       "   combo     ksat       m       pa        po\n",
       "0  d1:s1  10.0245  4.9592  0.00356  0.032637\n",
       "1  d1:s2  10.0245  4.9592  0.00534  0.032637\n",
       "2  d1:s3  10.0245  4.9592  0.00712  0.032637\n",
       "3  d1:s4  10.0245  4.9592  0.00890  0.032637\n",
       "4  d1:s5  10.0245  4.9592  0.01068  0.032637"
      ]
     },
     "execution_count": 11,
     "metadata": {},
     "output_type": "execute_result"
    }
   ],
   "source": [
    "tmp.head()"
   ]
  },
  {
   "cell_type": "code",
   "execution_count": 12,
   "metadata": {
    "collapsed": false
   },
   "outputs": [
    {
     "data": {
      "text/html": [
       "<div>\n",
       "<table border=\"1\" class=\"dataframe\">\n",
       "  <thead>\n",
       "    <tr style=\"text-align: right;\">\n",
       "      <th></th>\n",
       "      <th>combo</th>\n",
       "      <th>ksat</th>\n",
       "      <th>m</th>\n",
       "      <th>pa</th>\n",
       "      <th>po</th>\n",
       "    </tr>\n",
       "  </thead>\n",
       "  <tbody>\n",
       "    <tr>\n",
       "      <th>20</th>\n",
       "      <td>d5:s1</td>\n",
       "      <td>30.0735</td>\n",
       "      <td>4.9592</td>\n",
       "      <td>0.00356</td>\n",
       "      <td>0.032637</td>\n",
       "    </tr>\n",
       "    <tr>\n",
       "      <th>21</th>\n",
       "      <td>d5:s2</td>\n",
       "      <td>30.0735</td>\n",
       "      <td>4.9592</td>\n",
       "      <td>0.00534</td>\n",
       "      <td>0.032637</td>\n",
       "    </tr>\n",
       "    <tr>\n",
       "      <th>22</th>\n",
       "      <td>d5:s3</td>\n",
       "      <td>30.0735</td>\n",
       "      <td>4.9592</td>\n",
       "      <td>0.00712</td>\n",
       "      <td>0.032637</td>\n",
       "    </tr>\n",
       "    <tr>\n",
       "      <th>23</th>\n",
       "      <td>d5:s4</td>\n",
       "      <td>30.0735</td>\n",
       "      <td>4.9592</td>\n",
       "      <td>0.00890</td>\n",
       "      <td>0.032637</td>\n",
       "    </tr>\n",
       "    <tr>\n",
       "      <th>24</th>\n",
       "      <td>d5:s5</td>\n",
       "      <td>30.0735</td>\n",
       "      <td>4.9592</td>\n",
       "      <td>0.01068</td>\n",
       "      <td>0.032637</td>\n",
       "    </tr>\n",
       "  </tbody>\n",
       "</table>\n",
       "</div>"
      ],
      "text/plain": [
       "    combo     ksat       m       pa        po\n",
       "20  d5:s1  30.0735  4.9592  0.00356  0.032637\n",
       "21  d5:s2  30.0735  4.9592  0.00534  0.032637\n",
       "22  d5:s3  30.0735  4.9592  0.00712  0.032637\n",
       "23  d5:s4  30.0735  4.9592  0.00890  0.032637\n",
       "24  d5:s5  30.0735  4.9592  0.01068  0.032637"
      ]
     },
     "execution_count": 12,
     "metadata": {},
     "output_type": "execute_result"
    }
   ],
   "source": [
    "tmp.tail()"
   ]
  },
  {
   "cell_type": "code",
   "execution_count": 13,
   "metadata": {
    "collapsed": true
   },
   "outputs": [],
   "source": [
    "# add in the actual varaibles from the definition files\n",
    "tmp['m_def'] = m_actual\n",
    "tmp['ksat_def'] = ksat_actual\n",
    "tmp['po_def'] = po_actual\n",
    "tmp['pa_def'] = pa_actual\n",
    "tmp['root_depth'] = root_depth\n",
    "tmp['soil_depth'] = soil_depth"
   ]
  },
  {
   "cell_type": "code",
   "execution_count": 14,
   "metadata": {
    "collapsed": true
   },
   "outputs": [],
   "source": [
    "# convert to model scalars using the actual values from the definition files\n",
    "tmp['m_scalar'] = tmp.m/tmp.m_def\n",
    "tmp['ksat_scalar'] = tmp.ksat/tmp.ksat_def\n",
    "tmp['po_scalar'] = tmp.po/tmp.po_def\n",
    "tmp['pa_scalar'] = tmp.pa/tmp.pa_def"
   ]
  },
  {
   "cell_type": "code",
   "execution_count": 15,
   "metadata": {
    "collapsed": false
   },
   "outputs": [
    {
     "data": {
      "text/html": [
       "<div>\n",
       "<table border=\"1\" class=\"dataframe\">\n",
       "  <thead>\n",
       "    <tr style=\"text-align: right;\">\n",
       "      <th></th>\n",
       "      <th>combo</th>\n",
       "      <th>ksat</th>\n",
       "      <th>m</th>\n",
       "      <th>pa</th>\n",
       "      <th>po</th>\n",
       "      <th>m_def</th>\n",
       "      <th>ksat_def</th>\n",
       "      <th>po_def</th>\n",
       "      <th>pa_def</th>\n",
       "      <th>root_depth</th>\n",
       "      <th>soil_depth</th>\n",
       "      <th>m_scalar</th>\n",
       "      <th>ksat_scalar</th>\n",
       "      <th>po_scalar</th>\n",
       "      <th>pa_scalar</th>\n",
       "    </tr>\n",
       "  </thead>\n",
       "  <tbody>\n",
       "    <tr>\n",
       "      <th>0</th>\n",
       "      <td>d1:s1</td>\n",
       "      <td>10.02450</td>\n",
       "      <td>4.9592</td>\n",
       "      <td>0.00356</td>\n",
       "      <td>0.032637</td>\n",
       "      <td>0.4</td>\n",
       "      <td>0.15</td>\n",
       "      <td>0.129</td>\n",
       "      <td>0.356</td>\n",
       "      <td>3.24</td>\n",
       "      <td>7.24</td>\n",
       "      <td>12.398</td>\n",
       "      <td>66.830</td>\n",
       "      <td>0.253</td>\n",
       "      <td>0.010</td>\n",
       "    </tr>\n",
       "    <tr>\n",
       "      <th>1</th>\n",
       "      <td>d1:s2</td>\n",
       "      <td>10.02450</td>\n",
       "      <td>4.9592</td>\n",
       "      <td>0.00534</td>\n",
       "      <td>0.032637</td>\n",
       "      <td>0.4</td>\n",
       "      <td>0.15</td>\n",
       "      <td>0.129</td>\n",
       "      <td>0.356</td>\n",
       "      <td>3.24</td>\n",
       "      <td>7.24</td>\n",
       "      <td>12.398</td>\n",
       "      <td>66.830</td>\n",
       "      <td>0.253</td>\n",
       "      <td>0.015</td>\n",
       "    </tr>\n",
       "    <tr>\n",
       "      <th>2</th>\n",
       "      <td>d1:s3</td>\n",
       "      <td>10.02450</td>\n",
       "      <td>4.9592</td>\n",
       "      <td>0.00712</td>\n",
       "      <td>0.032637</td>\n",
       "      <td>0.4</td>\n",
       "      <td>0.15</td>\n",
       "      <td>0.129</td>\n",
       "      <td>0.356</td>\n",
       "      <td>3.24</td>\n",
       "      <td>7.24</td>\n",
       "      <td>12.398</td>\n",
       "      <td>66.830</td>\n",
       "      <td>0.253</td>\n",
       "      <td>0.020</td>\n",
       "    </tr>\n",
       "    <tr>\n",
       "      <th>3</th>\n",
       "      <td>d1:s4</td>\n",
       "      <td>10.02450</td>\n",
       "      <td>4.9592</td>\n",
       "      <td>0.00890</td>\n",
       "      <td>0.032637</td>\n",
       "      <td>0.4</td>\n",
       "      <td>0.15</td>\n",
       "      <td>0.129</td>\n",
       "      <td>0.356</td>\n",
       "      <td>3.24</td>\n",
       "      <td>7.24</td>\n",
       "      <td>12.398</td>\n",
       "      <td>66.830</td>\n",
       "      <td>0.253</td>\n",
       "      <td>0.025</td>\n",
       "    </tr>\n",
       "    <tr>\n",
       "      <th>4</th>\n",
       "      <td>d1:s5</td>\n",
       "      <td>10.02450</td>\n",
       "      <td>4.9592</td>\n",
       "      <td>0.01068</td>\n",
       "      <td>0.032637</td>\n",
       "      <td>0.4</td>\n",
       "      <td>0.15</td>\n",
       "      <td>0.129</td>\n",
       "      <td>0.356</td>\n",
       "      <td>3.24</td>\n",
       "      <td>7.24</td>\n",
       "      <td>12.398</td>\n",
       "      <td>66.830</td>\n",
       "      <td>0.253</td>\n",
       "      <td>0.030</td>\n",
       "    </tr>\n",
       "    <tr>\n",
       "      <th>5</th>\n",
       "      <td>d2:s1</td>\n",
       "      <td>15.03675</td>\n",
       "      <td>4.9592</td>\n",
       "      <td>0.00356</td>\n",
       "      <td>0.032637</td>\n",
       "      <td>0.4</td>\n",
       "      <td>0.15</td>\n",
       "      <td>0.129</td>\n",
       "      <td>0.356</td>\n",
       "      <td>3.24</td>\n",
       "      <td>7.24</td>\n",
       "      <td>12.398</td>\n",
       "      <td>100.245</td>\n",
       "      <td>0.253</td>\n",
       "      <td>0.010</td>\n",
       "    </tr>\n",
       "    <tr>\n",
       "      <th>6</th>\n",
       "      <td>d2:s2</td>\n",
       "      <td>15.03675</td>\n",
       "      <td>4.9592</td>\n",
       "      <td>0.00534</td>\n",
       "      <td>0.032637</td>\n",
       "      <td>0.4</td>\n",
       "      <td>0.15</td>\n",
       "      <td>0.129</td>\n",
       "      <td>0.356</td>\n",
       "      <td>3.24</td>\n",
       "      <td>7.24</td>\n",
       "      <td>12.398</td>\n",
       "      <td>100.245</td>\n",
       "      <td>0.253</td>\n",
       "      <td>0.015</td>\n",
       "    </tr>\n",
       "    <tr>\n",
       "      <th>7</th>\n",
       "      <td>d2:s3</td>\n",
       "      <td>15.03675</td>\n",
       "      <td>4.9592</td>\n",
       "      <td>0.00712</td>\n",
       "      <td>0.032637</td>\n",
       "      <td>0.4</td>\n",
       "      <td>0.15</td>\n",
       "      <td>0.129</td>\n",
       "      <td>0.356</td>\n",
       "      <td>3.24</td>\n",
       "      <td>7.24</td>\n",
       "      <td>12.398</td>\n",
       "      <td>100.245</td>\n",
       "      <td>0.253</td>\n",
       "      <td>0.020</td>\n",
       "    </tr>\n",
       "    <tr>\n",
       "      <th>8</th>\n",
       "      <td>d2:s4</td>\n",
       "      <td>15.03675</td>\n",
       "      <td>4.9592</td>\n",
       "      <td>0.00890</td>\n",
       "      <td>0.032637</td>\n",
       "      <td>0.4</td>\n",
       "      <td>0.15</td>\n",
       "      <td>0.129</td>\n",
       "      <td>0.356</td>\n",
       "      <td>3.24</td>\n",
       "      <td>7.24</td>\n",
       "      <td>12.398</td>\n",
       "      <td>100.245</td>\n",
       "      <td>0.253</td>\n",
       "      <td>0.025</td>\n",
       "    </tr>\n",
       "    <tr>\n",
       "      <th>9</th>\n",
       "      <td>d2:s5</td>\n",
       "      <td>15.03675</td>\n",
       "      <td>4.9592</td>\n",
       "      <td>0.01068</td>\n",
       "      <td>0.032637</td>\n",
       "      <td>0.4</td>\n",
       "      <td>0.15</td>\n",
       "      <td>0.129</td>\n",
       "      <td>0.356</td>\n",
       "      <td>3.24</td>\n",
       "      <td>7.24</td>\n",
       "      <td>12.398</td>\n",
       "      <td>100.245</td>\n",
       "      <td>0.253</td>\n",
       "      <td>0.030</td>\n",
       "    </tr>\n",
       "    <tr>\n",
       "      <th>10</th>\n",
       "      <td>d3:s1</td>\n",
       "      <td>20.04900</td>\n",
       "      <td>4.9592</td>\n",
       "      <td>0.00356</td>\n",
       "      <td>0.032637</td>\n",
       "      <td>0.4</td>\n",
       "      <td>0.15</td>\n",
       "      <td>0.129</td>\n",
       "      <td>0.356</td>\n",
       "      <td>3.24</td>\n",
       "      <td>7.24</td>\n",
       "      <td>12.398</td>\n",
       "      <td>133.660</td>\n",
       "      <td>0.253</td>\n",
       "      <td>0.010</td>\n",
       "    </tr>\n",
       "    <tr>\n",
       "      <th>11</th>\n",
       "      <td>d3:s2</td>\n",
       "      <td>20.04900</td>\n",
       "      <td>4.9592</td>\n",
       "      <td>0.00534</td>\n",
       "      <td>0.032637</td>\n",
       "      <td>0.4</td>\n",
       "      <td>0.15</td>\n",
       "      <td>0.129</td>\n",
       "      <td>0.356</td>\n",
       "      <td>3.24</td>\n",
       "      <td>7.24</td>\n",
       "      <td>12.398</td>\n",
       "      <td>133.660</td>\n",
       "      <td>0.253</td>\n",
       "      <td>0.015</td>\n",
       "    </tr>\n",
       "    <tr>\n",
       "      <th>12</th>\n",
       "      <td>d3:s3</td>\n",
       "      <td>20.04900</td>\n",
       "      <td>4.9592</td>\n",
       "      <td>0.00712</td>\n",
       "      <td>0.032637</td>\n",
       "      <td>0.4</td>\n",
       "      <td>0.15</td>\n",
       "      <td>0.129</td>\n",
       "      <td>0.356</td>\n",
       "      <td>3.24</td>\n",
       "      <td>7.24</td>\n",
       "      <td>12.398</td>\n",
       "      <td>133.660</td>\n",
       "      <td>0.253</td>\n",
       "      <td>0.020</td>\n",
       "    </tr>\n",
       "    <tr>\n",
       "      <th>13</th>\n",
       "      <td>d3:s4</td>\n",
       "      <td>20.04900</td>\n",
       "      <td>4.9592</td>\n",
       "      <td>0.00890</td>\n",
       "      <td>0.032637</td>\n",
       "      <td>0.4</td>\n",
       "      <td>0.15</td>\n",
       "      <td>0.129</td>\n",
       "      <td>0.356</td>\n",
       "      <td>3.24</td>\n",
       "      <td>7.24</td>\n",
       "      <td>12.398</td>\n",
       "      <td>133.660</td>\n",
       "      <td>0.253</td>\n",
       "      <td>0.025</td>\n",
       "    </tr>\n",
       "    <tr>\n",
       "      <th>14</th>\n",
       "      <td>d3:s5</td>\n",
       "      <td>20.04900</td>\n",
       "      <td>4.9592</td>\n",
       "      <td>0.01068</td>\n",
       "      <td>0.032637</td>\n",
       "      <td>0.4</td>\n",
       "      <td>0.15</td>\n",
       "      <td>0.129</td>\n",
       "      <td>0.356</td>\n",
       "      <td>3.24</td>\n",
       "      <td>7.24</td>\n",
       "      <td>12.398</td>\n",
       "      <td>133.660</td>\n",
       "      <td>0.253</td>\n",
       "      <td>0.030</td>\n",
       "    </tr>\n",
       "    <tr>\n",
       "      <th>15</th>\n",
       "      <td>d4:s1</td>\n",
       "      <td>25.06125</td>\n",
       "      <td>4.9592</td>\n",
       "      <td>0.00356</td>\n",
       "      <td>0.032637</td>\n",
       "      <td>0.4</td>\n",
       "      <td>0.15</td>\n",
       "      <td>0.129</td>\n",
       "      <td>0.356</td>\n",
       "      <td>3.24</td>\n",
       "      <td>7.24</td>\n",
       "      <td>12.398</td>\n",
       "      <td>167.075</td>\n",
       "      <td>0.253</td>\n",
       "      <td>0.010</td>\n",
       "    </tr>\n",
       "    <tr>\n",
       "      <th>16</th>\n",
       "      <td>d4:s2</td>\n",
       "      <td>25.06125</td>\n",
       "      <td>4.9592</td>\n",
       "      <td>0.00534</td>\n",
       "      <td>0.032637</td>\n",
       "      <td>0.4</td>\n",
       "      <td>0.15</td>\n",
       "      <td>0.129</td>\n",
       "      <td>0.356</td>\n",
       "      <td>3.24</td>\n",
       "      <td>7.24</td>\n",
       "      <td>12.398</td>\n",
       "      <td>167.075</td>\n",
       "      <td>0.253</td>\n",
       "      <td>0.015</td>\n",
       "    </tr>\n",
       "    <tr>\n",
       "      <th>17</th>\n",
       "      <td>d4:s3</td>\n",
       "      <td>25.06125</td>\n",
       "      <td>4.9592</td>\n",
       "      <td>0.00712</td>\n",
       "      <td>0.032637</td>\n",
       "      <td>0.4</td>\n",
       "      <td>0.15</td>\n",
       "      <td>0.129</td>\n",
       "      <td>0.356</td>\n",
       "      <td>3.24</td>\n",
       "      <td>7.24</td>\n",
       "      <td>12.398</td>\n",
       "      <td>167.075</td>\n",
       "      <td>0.253</td>\n",
       "      <td>0.020</td>\n",
       "    </tr>\n",
       "    <tr>\n",
       "      <th>18</th>\n",
       "      <td>d4:s4</td>\n",
       "      <td>25.06125</td>\n",
       "      <td>4.9592</td>\n",
       "      <td>0.00890</td>\n",
       "      <td>0.032637</td>\n",
       "      <td>0.4</td>\n",
       "      <td>0.15</td>\n",
       "      <td>0.129</td>\n",
       "      <td>0.356</td>\n",
       "      <td>3.24</td>\n",
       "      <td>7.24</td>\n",
       "      <td>12.398</td>\n",
       "      <td>167.075</td>\n",
       "      <td>0.253</td>\n",
       "      <td>0.025</td>\n",
       "    </tr>\n",
       "    <tr>\n",
       "      <th>19</th>\n",
       "      <td>d4:s5</td>\n",
       "      <td>25.06125</td>\n",
       "      <td>4.9592</td>\n",
       "      <td>0.01068</td>\n",
       "      <td>0.032637</td>\n",
       "      <td>0.4</td>\n",
       "      <td>0.15</td>\n",
       "      <td>0.129</td>\n",
       "      <td>0.356</td>\n",
       "      <td>3.24</td>\n",
       "      <td>7.24</td>\n",
       "      <td>12.398</td>\n",
       "      <td>167.075</td>\n",
       "      <td>0.253</td>\n",
       "      <td>0.030</td>\n",
       "    </tr>\n",
       "    <tr>\n",
       "      <th>20</th>\n",
       "      <td>d5:s1</td>\n",
       "      <td>30.07350</td>\n",
       "      <td>4.9592</td>\n",
       "      <td>0.00356</td>\n",
       "      <td>0.032637</td>\n",
       "      <td>0.4</td>\n",
       "      <td>0.15</td>\n",
       "      <td>0.129</td>\n",
       "      <td>0.356</td>\n",
       "      <td>3.24</td>\n",
       "      <td>7.24</td>\n",
       "      <td>12.398</td>\n",
       "      <td>200.490</td>\n",
       "      <td>0.253</td>\n",
       "      <td>0.010</td>\n",
       "    </tr>\n",
       "    <tr>\n",
       "      <th>21</th>\n",
       "      <td>d5:s2</td>\n",
       "      <td>30.07350</td>\n",
       "      <td>4.9592</td>\n",
       "      <td>0.00534</td>\n",
       "      <td>0.032637</td>\n",
       "      <td>0.4</td>\n",
       "      <td>0.15</td>\n",
       "      <td>0.129</td>\n",
       "      <td>0.356</td>\n",
       "      <td>3.24</td>\n",
       "      <td>7.24</td>\n",
       "      <td>12.398</td>\n",
       "      <td>200.490</td>\n",
       "      <td>0.253</td>\n",
       "      <td>0.015</td>\n",
       "    </tr>\n",
       "    <tr>\n",
       "      <th>22</th>\n",
       "      <td>d5:s3</td>\n",
       "      <td>30.07350</td>\n",
       "      <td>4.9592</td>\n",
       "      <td>0.00712</td>\n",
       "      <td>0.032637</td>\n",
       "      <td>0.4</td>\n",
       "      <td>0.15</td>\n",
       "      <td>0.129</td>\n",
       "      <td>0.356</td>\n",
       "      <td>3.24</td>\n",
       "      <td>7.24</td>\n",
       "      <td>12.398</td>\n",
       "      <td>200.490</td>\n",
       "      <td>0.253</td>\n",
       "      <td>0.020</td>\n",
       "    </tr>\n",
       "    <tr>\n",
       "      <th>23</th>\n",
       "      <td>d5:s4</td>\n",
       "      <td>30.07350</td>\n",
       "      <td>4.9592</td>\n",
       "      <td>0.00890</td>\n",
       "      <td>0.032637</td>\n",
       "      <td>0.4</td>\n",
       "      <td>0.15</td>\n",
       "      <td>0.129</td>\n",
       "      <td>0.356</td>\n",
       "      <td>3.24</td>\n",
       "      <td>7.24</td>\n",
       "      <td>12.398</td>\n",
       "      <td>200.490</td>\n",
       "      <td>0.253</td>\n",
       "      <td>0.025</td>\n",
       "    </tr>\n",
       "    <tr>\n",
       "      <th>24</th>\n",
       "      <td>d5:s5</td>\n",
       "      <td>30.07350</td>\n",
       "      <td>4.9592</td>\n",
       "      <td>0.01068</td>\n",
       "      <td>0.032637</td>\n",
       "      <td>0.4</td>\n",
       "      <td>0.15</td>\n",
       "      <td>0.129</td>\n",
       "      <td>0.356</td>\n",
       "      <td>3.24</td>\n",
       "      <td>7.24</td>\n",
       "      <td>12.398</td>\n",
       "      <td>200.490</td>\n",
       "      <td>0.253</td>\n",
       "      <td>0.030</td>\n",
       "    </tr>\n",
       "  </tbody>\n",
       "</table>\n",
       "</div>"
      ],
      "text/plain": [
       "    combo      ksat       m       pa        po  m_def  ksat_def  po_def  \\\n",
       "0   d1:s1  10.02450  4.9592  0.00356  0.032637    0.4      0.15   0.129   \n",
       "1   d1:s2  10.02450  4.9592  0.00534  0.032637    0.4      0.15   0.129   \n",
       "2   d1:s3  10.02450  4.9592  0.00712  0.032637    0.4      0.15   0.129   \n",
       "3   d1:s4  10.02450  4.9592  0.00890  0.032637    0.4      0.15   0.129   \n",
       "4   d1:s5  10.02450  4.9592  0.01068  0.032637    0.4      0.15   0.129   \n",
       "5   d2:s1  15.03675  4.9592  0.00356  0.032637    0.4      0.15   0.129   \n",
       "6   d2:s2  15.03675  4.9592  0.00534  0.032637    0.4      0.15   0.129   \n",
       "7   d2:s3  15.03675  4.9592  0.00712  0.032637    0.4      0.15   0.129   \n",
       "8   d2:s4  15.03675  4.9592  0.00890  0.032637    0.4      0.15   0.129   \n",
       "9   d2:s5  15.03675  4.9592  0.01068  0.032637    0.4      0.15   0.129   \n",
       "10  d3:s1  20.04900  4.9592  0.00356  0.032637    0.4      0.15   0.129   \n",
       "11  d3:s2  20.04900  4.9592  0.00534  0.032637    0.4      0.15   0.129   \n",
       "12  d3:s3  20.04900  4.9592  0.00712  0.032637    0.4      0.15   0.129   \n",
       "13  d3:s4  20.04900  4.9592  0.00890  0.032637    0.4      0.15   0.129   \n",
       "14  d3:s5  20.04900  4.9592  0.01068  0.032637    0.4      0.15   0.129   \n",
       "15  d4:s1  25.06125  4.9592  0.00356  0.032637    0.4      0.15   0.129   \n",
       "16  d4:s2  25.06125  4.9592  0.00534  0.032637    0.4      0.15   0.129   \n",
       "17  d4:s3  25.06125  4.9592  0.00712  0.032637    0.4      0.15   0.129   \n",
       "18  d4:s4  25.06125  4.9592  0.00890  0.032637    0.4      0.15   0.129   \n",
       "19  d4:s5  25.06125  4.9592  0.01068  0.032637    0.4      0.15   0.129   \n",
       "20  d5:s1  30.07350  4.9592  0.00356  0.032637    0.4      0.15   0.129   \n",
       "21  d5:s2  30.07350  4.9592  0.00534  0.032637    0.4      0.15   0.129   \n",
       "22  d5:s3  30.07350  4.9592  0.00712  0.032637    0.4      0.15   0.129   \n",
       "23  d5:s4  30.07350  4.9592  0.00890  0.032637    0.4      0.15   0.129   \n",
       "24  d5:s5  30.07350  4.9592  0.01068  0.032637    0.4      0.15   0.129   \n",
       "\n",
       "    pa_def  root_depth  soil_depth  m_scalar  ksat_scalar  po_scalar  \\\n",
       "0    0.356        3.24        7.24    12.398       66.830      0.253   \n",
       "1    0.356        3.24        7.24    12.398       66.830      0.253   \n",
       "2    0.356        3.24        7.24    12.398       66.830      0.253   \n",
       "3    0.356        3.24        7.24    12.398       66.830      0.253   \n",
       "4    0.356        3.24        7.24    12.398       66.830      0.253   \n",
       "5    0.356        3.24        7.24    12.398      100.245      0.253   \n",
       "6    0.356        3.24        7.24    12.398      100.245      0.253   \n",
       "7    0.356        3.24        7.24    12.398      100.245      0.253   \n",
       "8    0.356        3.24        7.24    12.398      100.245      0.253   \n",
       "9    0.356        3.24        7.24    12.398      100.245      0.253   \n",
       "10   0.356        3.24        7.24    12.398      133.660      0.253   \n",
       "11   0.356        3.24        7.24    12.398      133.660      0.253   \n",
       "12   0.356        3.24        7.24    12.398      133.660      0.253   \n",
       "13   0.356        3.24        7.24    12.398      133.660      0.253   \n",
       "14   0.356        3.24        7.24    12.398      133.660      0.253   \n",
       "15   0.356        3.24        7.24    12.398      167.075      0.253   \n",
       "16   0.356        3.24        7.24    12.398      167.075      0.253   \n",
       "17   0.356        3.24        7.24    12.398      167.075      0.253   \n",
       "18   0.356        3.24        7.24    12.398      167.075      0.253   \n",
       "19   0.356        3.24        7.24    12.398      167.075      0.253   \n",
       "20   0.356        3.24        7.24    12.398      200.490      0.253   \n",
       "21   0.356        3.24        7.24    12.398      200.490      0.253   \n",
       "22   0.356        3.24        7.24    12.398      200.490      0.253   \n",
       "23   0.356        3.24        7.24    12.398      200.490      0.253   \n",
       "24   0.356        3.24        7.24    12.398      200.490      0.253   \n",
       "\n",
       "    pa_scalar  \n",
       "0       0.010  \n",
       "1       0.015  \n",
       "2       0.020  \n",
       "3       0.025  \n",
       "4       0.030  \n",
       "5       0.010  \n",
       "6       0.015  \n",
       "7       0.020  \n",
       "8       0.025  \n",
       "9       0.030  \n",
       "10      0.010  \n",
       "11      0.015  \n",
       "12      0.020  \n",
       "13      0.025  \n",
       "14      0.030  \n",
       "15      0.010  \n",
       "16      0.015  \n",
       "17      0.020  \n",
       "18      0.025  \n",
       "19      0.030  \n",
       "20      0.010  \n",
       "21      0.015  \n",
       "22      0.020  \n",
       "23      0.025  \n",
       "24      0.030  "
      ]
     },
     "execution_count": 15,
     "metadata": {},
     "output_type": "execute_result"
    }
   ],
   "source": [
    "tmp"
   ]
  },
  {
   "cell_type": "code",
   "execution_count": 16,
   "metadata": {
    "collapsed": true
   },
   "outputs": [],
   "source": [
    "# save soils data\n",
    "tmp.to_pickle('./data/soils_%s_smex%s.pcl'%(site,method))"
   ]
  },
  {
   "cell_type": "code",
   "execution_count": 17,
   "metadata": {
    "collapsed": false
   },
   "outputs": [],
   "source": [
    "# save the parameters to text files for experiment spinup\n",
    "combospth = '/RHESSys/%s/clim/smexperiment/smex%s/%s_smex%s_spinup_combos.txt'%(loc,method,site,method)\n",
    "pospth = '/RHESSys/%s/clim/smexperiment/smex%s/%s_smex%s_spinup_pos.txt'%(loc,method,site,method)\n",
    "paspth = '/RHESSys/%s/clim/smexperiment/smex%s/%s_smex%s_spinup_pas.txt'%(loc,method,site,method)\n",
    "mspth = '/RHESSys/%s/clim/smexperiment/smex%s/%s_smex%s_spinup_ms.txt'%(loc,method,site,method)\n",
    "ksatspth = '/RHESSys/%s/clim/smexperiment/smex%s/%s_smex%s_spinup_ksats.txt'%(loc,method,site,method)\n",
    "\n",
    "np.savetxt(combospth,tmp.combo,fmt='%s')\n",
    "np.savetxt(pospth,tmp.po_scalar,fmt='%f')\n",
    "np.savetxt(paspth,tmp.pa_scalar,fmt='%f')\n",
    "np.savetxt(mspth,tmp.m_scalar,fmt='%f')\n",
    "np.savetxt(ksatspth,tmp.ksat_scalar,fmt='%f')"
   ]
  },
  {
   "cell_type": "raw",
   "metadata": {
    "collapsed": false
   },
   "source": [
    "# for each senario, run through each \n",
    "soils = pd.DataFrame()\n",
    "for i in np.arange(0,k):\n",
    "    tmp['idx'] = i\n",
    "    soils = pd.concat([soils,tmp],axis=0)"
   ]
  },
  {
   "cell_type": "raw",
   "metadata": {
    "collapsed": true
   },
   "source": [
    "# load parameters\n",
    "params = pd.read_pickle('./data/params_%s_smex_method%s.pcl'%(site,method))"
   ]
  },
  {
   "cell_type": "raw",
   "metadata": {
    "collapsed": false
   },
   "source": [
    "params.shape"
   ]
  },
  {
   "cell_type": "raw",
   "metadata": {
    "collapsed": false
   },
   "source": [
    "soils.shape"
   ]
  },
  {
   "cell_type": "raw",
   "metadata": {
    "collapsed": false
   },
   "source": [
    "soils.tail()"
   ]
  },
  {
   "cell_type": "raw",
   "metadata": {
    "collapsed": true
   },
   "source": [
    "out = pd.merge(soils,params,on='idx')"
   ]
  },
  {
   "cell_type": "raw",
   "metadata": {
    "collapsed": false
   },
   "source": [
    "out.tail()"
   ]
  },
  {
   "cell_type": "raw",
   "metadata": {
    "collapsed": true
   },
   "source": [
    "def date2DOY(s):\n",
    "    return int(pd.datetime.strftime(s,'%j'))"
   ]
  },
  {
   "cell_type": "raw",
   "metadata": {
    "collapsed": true
   },
   "source": [
    "out['DOY_peakSWE'] = out.date_peakSWE.map(date2DOY)"
   ]
  },
  {
   "cell_type": "raw",
   "metadata": {
    "collapsed": false
   },
   "source": [
    "out.to_pickle('./data/soil_params_%s_smex%s.pcl'%(site,method))"
   ]
  },
  {
   "cell_type": "raw",
   "metadata": {
    "collapsed": true
   },
   "source": [
    "# make the paths\n",
    "leafonpth = '/RHESSys/%s/clim/smexperiment/smex%s/%s_smex%s_DOY_peakSWE_sens.txt'%(loc,method,site,method)\n",
    "mpth = '/RHESSys/%s/clim/smexperiment/smex%s/%s_smex%s_m.txt'%(loc,method,site,method)\n",
    "ksatpth = '/RHESSys/%s/clim/smexperiment/smex%s/%s_smex%s_ksat.txt'%(loc,method,site,method)\n",
    "popth = '/RHESSys/%s/clim/smexperiment/smex%s/%s_smex%s_po.txt'%(loc,method,site,method)\n",
    "papth = '/RHESSys/%s/clim/smexperiment/smex%s/%s_smex%s_pa.txt'%(loc,method,site,method)\n",
    "scenpth = '/RHESSys/%s/clim/smexperiment/smex%s/%s_smex%s_scenidx.txt'%(loc,method,site,method)"
   ]
  },
  {
   "cell_type": "raw",
   "metadata": {
    "collapsed": true
   },
   "source": [
    "# export the variables:\n",
    "np.savetxt(leafonpth,out.DOY_peakSWE,fmt='%d') # format as integer\n",
    "np.savetxt(mpth,out.m_scalar,fmt='%f') # format as float\n",
    "np.savetxt(ksatpth,out.ksat_scalar,fmt='%f') # format as float\n",
    "np.savetxt(popth,out.po_scalar,fmt='%f') # format as float\n",
    "np.savetxt(papth,out.pa_scalar,fmt='%f') # format as float\n",
    "np.savetxt(scenpth,out.idx,fmt='%d') # format as integer"
   ]
  },
  {
   "cell_type": "raw",
   "metadata": {
    "collapsed": true
   },
   "source": []
  }
 ],
 "metadata": {
  "kernelspec": {
   "display_name": "Python 2",
   "language": "python",
   "name": "python2"
  },
  "language_info": {
   "codemirror_mode": {
    "name": "ipython",
    "version": 2
   },
   "file_extension": ".py",
   "mimetype": "text/x-python",
   "name": "python",
   "nbconvert_exporter": "python",
   "pygments_lexer": "ipython2",
   "version": "2.7.12"
  }
 },
 "nbformat": 4,
 "nbformat_minor": 0
}
