{
 "cells": [
  {
   "cell_type": "code",
   "execution_count": 2,
   "metadata": {
    "collapsed": false
   },
   "outputs": [],
   "source": [
    "import os\n",
    "import ProgressBar as pb\n",
    "from pymail import alert\n",
    "\n",
    "n = 10000 # number of simulations in experiment\n",
    "\n",
    "def date2DOY(s):\n",
    "    return int(pd.datetime.strftime(s,'%j'))"
   ]
  },
  {
   "cell_type": "markdown",
   "metadata": {},
   "source": [
    "## P301"
   ]
  },
  {
   "cell_type": "code",
   "execution_count": 3,
   "metadata": {
    "collapsed": true
   },
   "outputs": [],
   "source": [
    "# change leaf on awk script\n",
    "\n",
    "site = 'P301'\n",
    "outsite = 'P301'\n",
    "method = '7'\n",
    "loc = 'providence/theo_p301_flux'\n",
    "\n",
    "clim = 'upper'\n",
    "\n",
    "# daily climate base stations\n",
    "daily_clim = 'upper_basestation'\n",
    "daily_clim_tmp = 'upper_tmp'\n",
    "\n",
    "# hourly climate basestations\n",
    "hourly_clim = 'p301_snowmelt_basestation'\n",
    "hourly_clim_tmp = 'p301_snowmelt_tmp'\n",
    "\n",
    "# simulation components\n",
    "whdr = './worldfiles/p301.sm.hdr' # worldfile header\n",
    "t = './tecfiles/sm.tec' # start date\n",
    "f = './flowtables/p301.ft.flow' # end date\n",
    "strt = '2008 10 1 1' # tecfile\n",
    "nd = '2009 10 3 1' # flowtable \n",
    "\n",
    "gw1 = 0.442\n",
    "gw2 = 0.0\n",
    "lai = 0.63"
   ]
  },
  {
   "cell_type": "markdown",
   "metadata": {},
   "source": [
    "## Nr1"
   ]
  },
  {
   "cell_type": "raw",
   "metadata": {
    "collapsed": true
   },
   "source": [
    "# change leaf on awk script\n",
    "\n",
    "site = 'Nr1'\n",
    "outsite = 'Nwt'\n",
    "method = '7'\n",
    "loc = 'ComoCreek_new'\n",
    "\n",
    "clim = 'boulder_crn_corr'\n",
    "\n",
    "# daily climate base stations\n",
    "daily_clim = 'boulder_crn_corr_basestation'\n",
    "daily_clim_tmp = 'boulder_crn_corr_tmp'\n",
    "\n",
    "# hourly climate basestations\n",
    "hourly_clim = 'niwot_snowmelt_ex_basestation'\n",
    "hourly_clim_tmp = 'niwot_snowmelt_tmp'\n",
    "\n",
    "# simulation components\n",
    "whdr = './worldfiles/world.AFX.sm.hdr' # worldfile header\n",
    "t = './tecfiles/snow.tec' # start date\n",
    "f = './flowtables/AFX.flow' # end date\n",
    "strt = '2009 10 1 1' # tecfile\n",
    "nd = '2010 10 1 1' # flowtable \n",
    "\n",
    "gw1 = 0.451\n",
    "gw2 = 1.015\n",
    "lai = 0.52"
   ]
  },
  {
   "cell_type": "markdown",
   "metadata": {},
   "source": [
    "## Vcm"
   ]
  },
  {
   "cell_type": "raw",
   "metadata": {
    "collapsed": true
   },
   "source": [
    "# change leaf on awk script\n",
    "\n",
    "site = 'Vcm'\n",
    "method = '7'\n",
    "loc = 'jemez'\n",
    "\n",
    "clim = 'vcm_hybrid'\n",
    "\n",
    "# daily climate base stations\n",
    "daily_clim = 'vcm_hybrid_basestation'\n",
    "daily_clim_tmp = 'vcm_hybrid_tmp'\n",
    "\n",
    "# hourly climate basestations\n",
    "hourly_clim = 'vcm_snowmelt_basestation'\n",
    "hourly_clim_tmp = 'vcm_snowmelt_tmp'\n",
    "\n",
    "# simulation components\n",
    "whdr = './worldfiles/vcm30.sm.hdr' # worldfile header\n",
    "t = './tecfiles/sm.tec' # start date\n",
    "f = './flowtables/vcm30.flow' # end date\n",
    "strt = '2011 10 1 1' # tecfile\n",
    "nd = '2012 10 3 1' # flowtable \n",
    "\n",
    "gw1 = 0.138\n",
    "gw2 = 0.746\n",
    "lai = 1.25"
   ]
  },
  {
   "cell_type": "code",
   "execution_count": 4,
   "metadata": {
    "collapsed": false
   },
   "outputs": [],
   "source": [
    "soils = pd.read_pickle('./data/soils_%s_smex%s.pcl'%(site,method))"
   ]
  },
  {
   "cell_type": "code",
   "execution_count": 7,
   "metadata": {
    "collapsed": false
   },
   "outputs": [
    {
     "data": {
      "text/plain": [
       "(25, 15)"
      ]
     },
     "execution_count": 7,
     "metadata": {},
     "output_type": "execute_result"
    }
   ],
   "source": [
    "soils.shape"
   ]
  },
  {
   "cell_type": "code",
   "execution_count": 5,
   "metadata": {
    "collapsed": false
   },
   "outputs": [],
   "source": [
    "smex = pd.read_pickle('./data/params_%s_smex_method%s.pcl'%(site,method))"
   ]
  },
  {
   "cell_type": "code",
   "execution_count": 6,
   "metadata": {
    "collapsed": false
   },
   "outputs": [
    {
     "data": {
      "text/plain": [
       "(10000, 12)"
      ]
     },
     "execution_count": 6,
     "metadata": {},
     "output_type": "execute_result"
    }
   ],
   "source": [
    "smex.shape"
   ]
  },
  {
   "cell_type": "code",
   "execution_count": 8,
   "metadata": {
    "collapsed": true
   },
   "outputs": [],
   "source": [
    "smex['DOY_leafon'] = smex.date_peakSWE.map(date2DOY) # create day of year peak swe"
   ]
  },
  {
   "cell_type": "code",
   "execution_count": 9,
   "metadata": {
    "collapsed": false
   },
   "outputs": [
    {
     "data": {
      "text/html": [
       "<div>\n",
       "<table border=\"1\" class=\"dataframe\">\n",
       "  <thead>\n",
       "    <tr style=\"text-align: right;\">\n",
       "      <th></th>\n",
       "      <th>SMR</th>\n",
       "      <th>TpeakSWE</th>\n",
       "      <th>peakSWE</th>\n",
       "      <th>ablSeas</th>\n",
       "      <th>Tnosnow</th>\n",
       "      <th>ref</th>\n",
       "      <th>date_ONS</th>\n",
       "      <th>DOAS</th>\n",
       "      <th>date_AS</th>\n",
       "      <th>idx</th>\n",
       "      <th>date_peakSWE</th>\n",
       "      <th>MAP</th>\n",
       "      <th>DOY_leafon</th>\n",
       "    </tr>\n",
       "  </thead>\n",
       "  <tbody>\n",
       "    <tr>\n",
       "      <th>82748</th>\n",
       "      <td>0.014403</td>\n",
       "      <td>113.0</td>\n",
       "      <td>0.521211</td>\n",
       "      <td>37.0</td>\n",
       "      <td>150.0</td>\n",
       "      <td>2009</td>\n",
       "      <td>2009-02-27</td>\n",
       "      <td>15</td>\n",
       "      <td>2008-10-15</td>\n",
       "      <td>0</td>\n",
       "      <td>2009-01-21</td>\n",
       "      <td>0.325</td>\n",
       "      <td>21</td>\n",
       "    </tr>\n",
       "    <tr>\n",
       "      <th>96566</th>\n",
       "      <td>0.014842</td>\n",
       "      <td>177.0</td>\n",
       "      <td>1.328189</td>\n",
       "      <td>90.0</td>\n",
       "      <td>267.0</td>\n",
       "      <td>2009</td>\n",
       "      <td>2009-06-24</td>\n",
       "      <td>15</td>\n",
       "      <td>2008-10-15</td>\n",
       "      <td>1</td>\n",
       "      <td>2009-03-26</td>\n",
       "      <td>0.041</td>\n",
       "      <td>85</td>\n",
       "    </tr>\n",
       "    <tr>\n",
       "      <th>113589</th>\n",
       "      <td>0.009731</td>\n",
       "      <td>192.0</td>\n",
       "      <td>0.940332</td>\n",
       "      <td>97.0</td>\n",
       "      <td>289.0</td>\n",
       "      <td>2009</td>\n",
       "      <td>2009-07-16</td>\n",
       "      <td>15</td>\n",
       "      <td>2008-10-15</td>\n",
       "      <td>2</td>\n",
       "      <td>2009-04-10</td>\n",
       "      <td>0.041</td>\n",
       "      <td>100</td>\n",
       "    </tr>\n",
       "    <tr>\n",
       "      <th>49919</th>\n",
       "      <td>0.007164</td>\n",
       "      <td>116.0</td>\n",
       "      <td>0.779654</td>\n",
       "      <td>109.0</td>\n",
       "      <td>225.0</td>\n",
       "      <td>2009</td>\n",
       "      <td>2009-05-13</td>\n",
       "      <td>15</td>\n",
       "      <td>2008-10-15</td>\n",
       "      <td>3</td>\n",
       "      <td>2009-01-24</td>\n",
       "      <td>0.081</td>\n",
       "      <td>24</td>\n",
       "    </tr>\n",
       "    <tr>\n",
       "      <th>75259</th>\n",
       "      <td>0.004957</td>\n",
       "      <td>151.0</td>\n",
       "      <td>0.593449</td>\n",
       "      <td>120.0</td>\n",
       "      <td>271.0</td>\n",
       "      <td>2009</td>\n",
       "      <td>2009-06-28</td>\n",
       "      <td>15</td>\n",
       "      <td>2008-10-15</td>\n",
       "      <td>4</td>\n",
       "      <td>2009-02-28</td>\n",
       "      <td>0.041</td>\n",
       "      <td>59</td>\n",
       "    </tr>\n",
       "  </tbody>\n",
       "</table>\n",
       "</div>"
      ],
      "text/plain": [
       "             SMR  TpeakSWE   peakSWE  ablSeas  Tnosnow   ref   date_ONS  DOAS  \\\n",
       "82748   0.014403     113.0  0.521211     37.0    150.0  2009 2009-02-27    15   \n",
       "96566   0.014842     177.0  1.328189     90.0    267.0  2009 2009-06-24    15   \n",
       "113589  0.009731     192.0  0.940332     97.0    289.0  2009 2009-07-16    15   \n",
       "49919   0.007164     116.0  0.779654    109.0    225.0  2009 2009-05-13    15   \n",
       "75259   0.004957     151.0  0.593449    120.0    271.0  2009 2009-06-28    15   \n",
       "\n",
       "          date_AS  idx date_peakSWE    MAP  DOY_leafon  \n",
       "82748  2008-10-15    0   2009-01-21  0.325          21  \n",
       "96566  2008-10-15    1   2009-03-26  0.041          85  \n",
       "113589 2008-10-15    2   2009-04-10  0.041         100  \n",
       "49919  2008-10-15    3   2009-01-24  0.081          24  \n",
       "75259  2008-10-15    4   2009-02-28  0.041          59  "
      ]
     },
     "execution_count": 9,
     "metadata": {},
     "output_type": "execute_result"
    }
   ],
   "source": [
    "smex.head()"
   ]
  },
  {
   "cell_type": "code",
   "execution_count": 10,
   "metadata": {
    "collapsed": true
   },
   "outputs": [],
   "source": [
    "# set the command for changing the leaf on date\n",
    "if site == 'Vcm':\n",
    "    leafoncmd = 'awk -f ./scripts/change_leafon.awk par=%s < ./defs2/veg_evergreen.def > ./defs2/veg_evergreen.tmp'\n",
    "\n",
    "if site == 'Nr1':\n",
    "    leafoncmd = 'awk -f ./scripts/change_leafon.awk par=%s < ../defs/veg_evergreen.def > ../defs/veg_evergreen.tmp'\n",
    "\n",
    "if site == 'P301':\n",
    "    leafoncmd = 'awk -f ./scripts/change_leafon.awk par=%s < ./defs/veg_evergreen.def > ./defs/veg_evergreen.tmp'"
   ]
  },
  {
   "cell_type": "code",
   "execution_count": null,
   "metadata": {
    "collapsed": false
   },
   "outputs": [
    {
     "name": "stdout",
     "output_type": "stream",
     "text": [
      "[                  1%                  ]  67 of 10000 complete"
     ]
    }
   ],
   "source": [
    "# make some lists and varaibles to generate the parameter data frame after the run\n",
    "idx = 0\n",
    "idxs = []\n",
    "scenidxs = []\n",
    "pas = []\n",
    "pos = []\n",
    "ms = []\n",
    "ksats = []\n",
    "combos = []\n",
    "smrs = []\n",
    "tpeakswes = []\n",
    "peakswes = []\n",
    "maps = []\n",
    "refs = []\n",
    "\n",
    "os.chdir('/RHESSys/%s/'%loc) # change the working directory to RHESSys\n",
    "\n",
    "# copy the climate data\n",
    "\n",
    "os.system('cp ./clim/%s.rain ./clim/smexperiment/smex%s/daily/'%(clim,method))\n",
    "os.system('cp ./clim/%s.tmin ./clim/smexperiment/smex%s/daily/'%(clim,method))\n",
    "os.system('cp ./clim/%s.tavg ./clim/smexperiment/smex%s/daily/'%(clim,method))\n",
    "os.system('cp ./clim/%s.tmax ./clim/smexperiment/smex%s/daily/'%(clim,method))\n",
    "os.system('cp ./clim/%s.daytime_rain_duration ./clim/smexperiment/smex%s/daily/'%(clim,method))\n",
    "            \n",
    "p = pb.ProgressBar(n)\n",
    "for i in smex.idx: # loop through each scenario, 10,000 iterations here\n",
    "    # pull out some parameters\n",
    "    \n",
    "    smr = smex.loc[smex.idx == i,'SMR'].as_matrix()[0]\n",
    "    peakswe = smex.loc[smex.idx == i,'peakSWE'].as_matrix()[0]\n",
    "    tpeakswe = smex.loc[smex.idx == i,'TpeakSWE'].as_matrix()[0]\n",
    "    leafon = smex.loc[smex.idx == i,'DOY_leafon'].as_matrix()[0]\n",
    "    ref = smex.loc[smex.idx == i,'ref'].as_matrix()[0]\n",
    "    MAP = smex.loc[smex.idx == i,'MAP'].as_matrix()[0]\n",
    "    \n",
    "    \n",
    "    # rename climate for each scenario\n",
    "    tmp1 = 'awk -f ./scripts/change_daily_clim.awk par=%s < ./clim/%s > ./clim/%s'%(i,daily_clim,daily_clim_tmp)\n",
    "    os.system(tmp1)\n",
    "    tmp2 = 'awk -f ./scripts/change_hourly_clim.awk par=%s < ./clim/%s > ./clim/%s'%(i,hourly_clim,hourly_clim_tmp)\n",
    "    os.system(tmp2)\n",
    "    #tmp3 = \n",
    "    os.system('cp ./clim/smexperiment/smex%s/daily/%s.tavg ./clim/smexperiment/smex%s/daily/%s_%s.tavg'%(method,clim,method,clim,i))\n",
    "    #tmp4 = \n",
    "    os.system('cp ./clim/smexperiment/smex%s/daily/%s.tmin ./clim/smexperiment/smex%s/daily/%s_%s.tmin'%(method,clim,method,clim,i))\n",
    "    #tmp5 = \n",
    "    os.system('cp ./clim/smexperiment/smex%s/daily/%s.tmax ./clim/smexperiment/smex%s/daily/%s_%s.tmax'%(method,clim,method,clim,i))\n",
    "    #tmp6 = \n",
    "    os.system('cp ./clim/smexperiment/smex%s/daily/%s.daytime_rain_duration ./clim/smexperiment/smex%s/daily/%s_%s.daytime_rain_duration'%(method,clim,method,clim,i))\n",
    "    \n",
    "    # change the leaf on date\n",
    "    os.system(leafoncmd%leafon)    \n",
    "    \n",
    "    for combo in soils.combo: # iterate through the combination, 25 iterations here, run each scenario 25 times with different soil parameters\n",
    "        w = './clim/smexperiment/smex%s/worldfiles/smex%s.%s'%(method,method,combo) # set worlfile\n",
    "        \n",
    "        pa_scalar = soils.loc[soils.combo == combo,'pa_scalar'].as_matrix()[0]\n",
    "        po_scalar = soils.loc[soils.combo == combo,'po_scalar'].as_matrix()[0]\n",
    "        m_scalar = soils.loc[soils.combo == combo,'m_scalar'].as_matrix()[0]\n",
    "        ksat_scalar = soils.loc[soils.combo == combo,'ksat_scalar'].as_matrix()[0]\n",
    "    \n",
    "        cmd = 'rhessys5.19.test -w %s -whdr %s -t %s -b -p -s %s %s -sv %s %s -svalt %s %s -gw %s %s -vgsen %s 1 1 -pre /Volumes/data/RHESSys_out/%s/smex%s_sen/smex%s_sen_%s -st %s -ed %s -r %s'%(w,whdr,t,m_scalar,ksat_scalar,m_scalar,ksat_scalar,po_scalar,pa_scalar,gw1,gw2,lai,outsite,method,method,idx,strt,nd,f)\n",
    "        \n",
    "        os.system(cmd)\n",
    "        \n",
    "        # populate list and update counter\n",
    "        idxs.append(i) # the snowmelt experiment number, this will be used to mate scenario parameters to the output, goes from 0 to 9,999\n",
    "        pas.append(soils.loc[soils.combo == combo,'pa'].as_matrix()[0])\n",
    "        pos.append(soils.loc[soils.combo == combo,'po'].as_matrix()[0])\n",
    "        ms.append(soils.loc[soils.combo == combo,'m'].as_matrix()[0])\n",
    "        ksats.append(soils.loc[soils.combo == combo,'ksat'].as_matrix()[0])\n",
    "        combos.append(combo)\n",
    "        scenidxs.append(idx) # append the scenario index number, this will be used to mate the output to the soil parameters used, goes from 0 to 249,999\n",
    "        smrs.append(smr)\n",
    "        tpeakswes.append(tpeakswe)\n",
    "        peakswes.append(peakswe)\n",
    "        maps.append(MAP)\n",
    "        refs.append(ref)\n",
    "        \n",
    "        idx += 1     \n",
    "    p.animate_ipython(i)\n",
    "\n",
    "params = pd.DataFrame({'pa':pas,'po':pos,'m':ms,'ksat':ksats,'idx':idxs,'combo':combos,'scenidx':scenidxs,'SMR':smrs,\n",
    "                       'TpeakSWE':tpeakswes,'PeakSWE':peakswes,'ref':refs,'MAP':maps})\n",
    "os.chdir('/Volumes/Users/Theo/projects/RHESSys/smex/') # change directory back to normal\n",
    "\n",
    "#params = pd.merge(left=params,right=smex,on='idx',how='left')\n",
    "\n",
    "params.to_pickle('./data/soil_params_multispinup_%s_smex%s_sen.pcl'%(site,method))\n",
    "    \n",
    "alert.send_alert('barnhatb@colorado.edu','%s smex%s_sen finished'%(site,method),'Your script has finished')"
   ]
  },
  {
   "cell_type": "code",
   "execution_count": null,
   "metadata": {
    "collapsed": true
   },
   "outputs": [],
   "source": []
  }
 ],
 "metadata": {
  "kernelspec": {
   "display_name": "Python 2",
   "language": "python",
   "name": "python2"
  },
  "language_info": {
   "codemirror_mode": {
    "name": "ipython",
    "version": 2
   },
   "file_extension": ".py",
   "mimetype": "text/x-python",
   "name": "python",
   "nbconvert_exporter": "python",
   "pygments_lexer": "ipython2",
   "version": "2.7.12"
  }
 },
 "nbformat": 4,
 "nbformat_minor": 0
}
