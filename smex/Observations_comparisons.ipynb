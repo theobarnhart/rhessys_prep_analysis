{
 "cells": [
  {
   "cell_type": "code",
   "execution_count": 1,
   "metadata": {
    "collapsed": true
   },
   "outputs": [],
   "source": [
    "import seaborn as sn\n",
    "from statsmodels.api import formula as sm\n",
    "\n",
    "def standardize(x):\n",
    "    '''Use on a pd.series'''\n",
    "    \n",
    "    mn = np.nanmean(x)\n",
    "    sd = np.nanstd(x)\n",
    "    \n",
    "    x2 = (x-mn)/sd\n",
    "    \n",
    "    return x2\n",
    "\n",
    "sn.set_style('white')"
   ]
  },
  {
   "cell_type": "markdown",
   "metadata": {},
   "source": [
    "### Load Vcm"
   ]
  },
  {
   "cell_type": "code",
   "execution_count": 2,
   "metadata": {
    "collapsed": false
   },
   "outputs": [],
   "source": [
    "Vcm = pd.read_pickle('../jemez/data/Vcm_cosmos_pillow_swe.pcl') # load SWE\n",
    "Vcm['datetime'] = Vcm.index\n",
    "#jemez_raws_lapse.pcl\n",
    "tmp = pd.read_pickle('../jemez/data/Vcm_hybrid_precip.pcl') # load P\n",
    "tmp['datetime'] = tmp.index\n",
    "tmp = tmp[['hybrid_p','datetime']]\n",
    "\n",
    "Vcm = pd.merge(Vcm,tmp,on='datetime')\n",
    "\n",
    "tmp = pd.read_pickle('../jemez/data/VCM_2.pcl') # load ET\n",
    "tmp['datetime'] = tmp.index\n",
    "del tmp['P']\n",
    "\n",
    "Vcm = pd.merge(Vcm,tmp,on='datetime')\n",
    "\n",
    "#tmp = pd.read_pickle('../jemez/data/lower_lajara_specific_discharge.pcl')\n",
    "#tmp['datetime'] = tmp.index\n",
    "#Vcm = pd.merge(Vcm,tmp,on='datetime')\n",
    "\n",
    "Vcm.index = pd.DatetimeIndex(Vcm.datetime)\n",
    "del Vcm['datetime']\n",
    "Vcm_stats = pd.read_pickle('../jemez/data/vcm_swe_stats.pcl')\n",
    "\n",
    "Vcm['wateryear'] = Vcm.index.map(rut.wateryear)\n",
    "Vcm.columns = [['swe','P','ET','Tave','Tmax','Tmin','wateryear']]"
   ]
  },
  {
   "cell_type": "code",
   "execution_count": 3,
   "metadata": {
    "collapsed": false
   },
   "outputs": [],
   "source": [
    "Vcm_summary = Vcm.groupby(by='wateryear').sum()[['ET','P']]\n",
    "Vcm_summary['wateryear'] = Vcm_summary.index\n",
    "\n",
    "Vcm = pd.merge(Vcm_summary,Vcm_stats, on='wateryear')\n",
    "\n",
    "Vcm['ET_P'] = Vcm.ET/Vcm.P\n",
    "Vcm['RR_ET'] = 1-Vcm.ET_P"
   ]
  },
  {
   "cell_type": "code",
   "execution_count": 4,
   "metadata": {
    "collapsed": true
   },
   "outputs": [],
   "source": [
    "Vcm['SMR2'] = standardize(Vcm.SMR)\n",
    "Vcm['RR_ET2'] = standardize(Vcm.RR_ET)\n",
    "Vcm['DOWYpeakSWE2'] = standardize(Vcm.dowy_peakswe)\n",
    "Vcm['peakSWE2'] = standardize(Vcm.peakswe)"
   ]
  },
  {
   "cell_type": "code",
   "execution_count": 5,
   "metadata": {
    "collapsed": false
   },
   "outputs": [
    {
     "data": {
      "text/plain": [
       "0    2010\n",
       "1    2011\n",
       "2    2012\n",
       "3    2013\n",
       "Name: wateryear, dtype: int64"
      ]
     },
     "execution_count": 5,
     "metadata": {},
     "output_type": "execute_result"
    }
   ],
   "source": [
    "Vcm.wateryear"
   ]
  },
  {
   "cell_type": "markdown",
   "metadata": {},
   "source": [
    "### Load P301"
   ]
  },
  {
   "cell_type": "code",
   "execution_count": 6,
   "metadata": {
    "collapsed": false
   },
   "outputs": [],
   "source": [
    "P301 = pd.read_pickle('../../greenness_timing/data/p301/new_providence.pcl')\n",
    "P301['wateryear'] = P301.datetime.map(rut.wateryear)\n",
    "\n",
    "tmp = pd.read_pickle('../../../greenness_timing/ameriflux/CA_p301/P301.pcl')\n",
    "tmp = tmp.resample('D').apply(np.nansum)\n",
    "tmp['datetime'] = tmp.index\n",
    "tmp = tmp[['tot_ET','datetime']].copy()\n",
    "tmp.columns=['ET','datetime']\n",
    "\n",
    "P301 = pd.merge(P301,tmp,on='datetime', how = 'inner')\n",
    "P301.index = pd.DatetimeIndex(P301.datetime)"
   ]
  },
  {
   "cell_type": "code",
   "execution_count": 7,
   "metadata": {
    "collapsed": true
   },
   "outputs": [],
   "source": [
    "P301_stats = pd.read_pickle('../providence/data/swe_stats.pcl')"
   ]
  },
  {
   "cell_type": "code",
   "execution_count": 8,
   "metadata": {
    "collapsed": false
   },
   "outputs": [],
   "source": [
    "P301 = P301[['SWE','Q','P_upper','wateryear','ET']]"
   ]
  },
  {
   "cell_type": "code",
   "execution_count": 9,
   "metadata": {
    "collapsed": true
   },
   "outputs": [],
   "source": [
    "P301.columns = ['SWE','discharge','precip','wateryear','ET']"
   ]
  },
  {
   "cell_type": "code",
   "execution_count": 10,
   "metadata": {
    "collapsed": false
   },
   "outputs": [],
   "source": [
    "P301_summary = P301.groupby(by='wateryear').sum()[['ET','precip','discharge']]\n",
    "P301_summary.columns = [['ET','P','Q']]\n",
    "P301_summary['wateryear'] = P301_summary.index\n",
    "P301 = pd.merge(P301_summary,P301_stats, on='wateryear')"
   ]
  },
  {
   "cell_type": "code",
   "execution_count": 11,
   "metadata": {
    "collapsed": false
   },
   "outputs": [],
   "source": [
    "P301['SMR'] = P301.peakswe/(P301.dowy_snowfree-P301.dowy_peakswe)\n",
    "P301['ET_P'] = P301.ET/P301.P\n",
    "P301['RR_ET'] = 1. - P301.ET_P"
   ]
  },
  {
   "cell_type": "code",
   "execution_count": 12,
   "metadata": {
    "collapsed": false
   },
   "outputs": [],
   "source": [
    "P301['SMR2'] = standardize(P301.SMR)\n",
    "P301['RR_ET2'] = standardize(P301.RR_ET)\n",
    "P301['DOWYpeakSWE2'] = standardize(P301.dowy_peakswe)\n",
    "P301['peakSWE2'] = standardize(P301.peakswe)"
   ]
  },
  {
   "cell_type": "code",
   "execution_count": 13,
   "metadata": {
    "collapsed": false
   },
   "outputs": [
    {
     "data": {
      "text/plain": [
       "0    2011\n",
       "1    2012\n",
       "2    2013\n",
       "3    2014\n",
       "4    2015\n",
       "Name: wateryear, dtype: int64"
      ]
     },
     "execution_count": 13,
     "metadata": {},
     "output_type": "execute_result"
    }
   ],
   "source": [
    "P301.wateryear"
   ]
  },
  {
   "cell_type": "markdown",
   "metadata": {
    "collapsed": true
   },
   "source": [
    "### Load Nr1"
   ]
  },
  {
   "cell_type": "code",
   "execution_count": 14,
   "metadata": {
    "collapsed": false
   },
   "outputs": [],
   "source": [
    "Nr = pd.read_pickle('../data/crn_corr.pcl')\n",
    "keys = ['Tmax', 'Tmin','P','coef', 'snow', 'rain', 'wateryear']\n",
    "Nr = Nr[keys].copy()\n",
    "Nr['datetime'] = Nr.index\n",
    "\n",
    "tmp = pd.read_pickle('../../greenness_timing/data/AFX2_new.pcl')\n",
    "tmp['datetime'] = tmp.index\n",
    "tmp = tmp[['ET','datetime']].copy()\n",
    "\n",
    "Nr = pd.merge(Nr,tmp,on='datetime', how='inner')\n",
    "\n",
    "#tmp = pd.read_pickle('/RHESSys/Comocreek/barnhatb/obs/como_specific_discharge_daily.pcl')\n",
    "#tmp['datetime'] = tmp.index\n",
    "#tmp = tmp[['discharge','datetime']]\n",
    "#Nr = pd.merge(Nr,tmp,on='datetime', how='inner')\n",
    "\n",
    "Nr.index = pd.DatetimeIndex(Nr.datetime)\n",
    "Nrtmp = Nr.copy()\n",
    "del Nr['datetime']\n",
    "Nr_stats = pd.read_pickle('../data/niwot_stats.pcl')\n",
    "Nr_stats['wateryear'] = Nr_stats.index\n",
    "del Nr_stats['P']"
   ]
  },
  {
   "cell_type": "code",
   "execution_count": 15,
   "metadata": {
    "collapsed": false
   },
   "outputs": [],
   "source": [
    "Nr_summary = Nr.groupby(by='wateryear').sum()[['ET','P']]\n",
    "Nr_summary.columns = ['ET','P']\n",
    "Nr_summary['wateryear'] = Nr_summary.index\n",
    "Nr = pd.merge(Nr_summary,Nr_stats, on='wateryear')"
   ]
  },
  {
   "cell_type": "code",
   "execution_count": 16,
   "metadata": {
    "collapsed": true
   },
   "outputs": [],
   "source": [
    "Nr['SMR'] = Nr.peakSWE/(Nr.DOWYnoSnow-Nr.DOWYpeakSWE)\n",
    "Nr['ET_P'] = Nr.ET/Nr.P\n",
    "Nr['RR_ET'] = 1. - Nr.ET_P"
   ]
  },
  {
   "cell_type": "code",
   "execution_count": 17,
   "metadata": {
    "collapsed": true
   },
   "outputs": [],
   "source": [
    "Nr['SMR'] = pd.to_numeric(Nr.SMR)\n",
    "Nr['peakSWE'] = pd.to_numeric(Nr.peakSWE)\n",
    "\n",
    "Nr['SMR'] *= 1000. # m > mm"
   ]
  },
  {
   "cell_type": "code",
   "execution_count": 18,
   "metadata": {
    "collapsed": false
   },
   "outputs": [],
   "source": [
    "Nr['SMR2'] = standardize(Nr.SMR)\n",
    "Nr['RR_ET2'] = standardize(Nr.RR_ET)\n",
    "Nr['DOWYpeakSWE2'] = standardize(Nr.DOWYpeakSWE)\n",
    "Nr['peakSWE2'] = standardize(Nr.peakSWE)"
   ]
  },
  {
   "cell_type": "code",
   "execution_count": 19,
   "metadata": {
    "collapsed": false
   },
   "outputs": [],
   "source": [
    "Nr['P_ET'] = Nr.P - Nr.ET"
   ]
  },
  {
   "cell_type": "code",
   "execution_count": 24,
   "metadata": {
    "collapsed": false
   },
   "outputs": [
    {
     "data": {
      "text/plain": [
       "0     2004\n",
       "1     2005\n",
       "2     2006\n",
       "3     2007\n",
       "4     2008\n",
       "5     2009\n",
       "6     2010\n",
       "7     2011\n",
       "8     2012\n",
       "9     2013\n",
       "10    2014\n",
       "Name: wateryear, dtype: int64"
      ]
     },
     "execution_count": 24,
     "metadata": {},
     "output_type": "execute_result"
    }
   ],
   "source": [
    "Nr.wateryear"
   ]
  },
  {
   "cell_type": "code",
   "execution_count": 20,
   "metadata": {
    "collapsed": false
   },
   "outputs": [],
   "source": [
    "tmp = pd.read_pickle('/RHESSys/Comocreek/barnhatb/obs/como_specific_discharge_daily.pcl')"
   ]
  },
  {
   "cell_type": "code",
   "execution_count": 21,
   "metadata": {
    "collapsed": false
   },
   "outputs": [],
   "source": [
    "tmp['wateryear'] = tmp.index.map(rut.wateryear)"
   ]
  },
  {
   "cell_type": "code",
   "execution_count": 22,
   "metadata": {
    "collapsed": true
   },
   "outputs": [],
   "source": [
    "tmp['datetime'] = tmp.index\n",
    "Nrtmp['datetime'] = Nrtmp.index"
   ]
  },
  {
   "cell_type": "code",
   "execution_count": 23,
   "metadata": {
    "collapsed": false
   },
   "outputs": [],
   "source": [
    "Nrtmp2 = pd.merge(Nrtmp,tmp,on='datetime',how='inner')"
   ]
  },
  {
   "cell_type": "code",
   "execution_count": 268,
   "metadata": {
    "collapsed": false
   },
   "outputs": [],
   "source": [
    "Nrtmp2.index = pd.DatetimeIndex(Nrtmp2.datetime)"
   ]
  },
  {
   "cell_type": "code",
   "execution_count": 269,
   "metadata": {
    "collapsed": false
   },
   "outputs": [],
   "source": [
    "Nrtmp2 = Nrtmp2.resample('6M').sum()[['ET','P','discharge']]"
   ]
  },
  {
   "cell_type": "code",
   "execution_count": 270,
   "metadata": {
    "collapsed": false
   },
   "outputs": [],
   "source": [
    "Nrtmp2['P_ET'] = Nrtmp2.P-Nrtmp2.ET"
   ]
  },
  {
   "cell_type": "code",
   "execution_count": 271,
   "metadata": {
    "collapsed": false
   },
   "outputs": [
    {
     "data": {
      "text/plain": [
       "<matplotlib.axes._subplots.AxesSubplot at 0x11cf001d0>"
      ]
     },
     "execution_count": 271,
     "metadata": {},
     "output_type": "execute_result"
    },
    {
     "data": {
      "image/png": "[encoded data removed]",
      "text/plain": [
       "<matplotlib.figure.Figure at 0x11cc5b150>"
      ]
     },
     "metadata": {},
     "output_type": "display_data"
    }
   ],
   "source": [
    "Nrtmp2.plot.scatter('P_ET','discharge')"
   ]
  },
  {
   "cell_type": "code",
   "execution_count": 95,
   "metadata": {
    "collapsed": true
   },
   "outputs": [],
   "source": [
    "tmp = tmp.groupby(by='wateryear').sum()"
   ]
  },
  {
   "cell_type": "code",
   "execution_count": 129,
   "metadata": {
    "collapsed": true
   },
   "outputs": [],
   "source": [
    "t = list(tmp.discharge.as_matrix())"
   ]
  },
  {
   "cell_type": "code",
   "execution_count": 131,
   "metadata": {
    "collapsed": false
   },
   "outputs": [],
   "source": [
    "t.append(np.NaN)"
   ]
  },
  {
   "cell_type": "code",
   "execution_count": 133,
   "metadata": {
    "collapsed": false
   },
   "outputs": [],
   "source": [
    "Nr['q'] = t"
   ]
  },
  {
   "cell_type": "code",
   "execution_count": 136,
   "metadata": {
    "collapsed": false
   },
   "outputs": [
    {
     "data": {
      "text/plain": [
       "<matplotlib.axes._subplots.AxesSubplot at 0x11c878310>"
      ]
     },
     "execution_count": 136,
     "metadata": {},
     "output_type": "execute_result"
    },
    {
     "data": {
      "image/png": "[encoded data removed]",
      "text/plain": [
       "<matplotlib.figure.Figure at 0x11c878750>"
      ]
     },
     "metadata": {},
     "output_type": "display_data"
    }
   ],
   "source": [
    "Nr.plot.scatter('P_ET','q')"
   ]
  },
  {
   "cell_type": "code",
   "execution_count": 138,
   "metadata": {
    "collapsed": false
   },
   "outputs": [
    {
     "data": {
      "text/plain": [
       "<matplotlib.axes._subplots.AxesSubplot at 0x11c0c3150>"
      ]
     },
     "execution_count": 138,
     "metadata": {},
     "output_type": "execute_result"
    },
    {
     "data": {
      "image/png": "[encoded data removed]",
      "text/plain": [
       "<matplotlib.figure.Figure at 0x11c9414d0>"
      ]
     },
     "metadata": {},
     "output_type": "display_data"
    }
   ],
   "source": [
    "Nr[['q','P_ET']].plot.bar()"
   ]
  },
  {
   "cell_type": "code",
   "execution_count": 135,
   "metadata": {
    "collapsed": false
   },
   "outputs": [
    {
     "data": {
      "text/plain": [
       "count    5.00\n",
       "mean     0.54\n",
       "std      0.16\n",
       "min      0.38\n",
       "25%      0.40\n",
       "50%      0.56\n",
       "75%      0.57\n",
       "max      0.78\n",
       "Name: RR_ET, dtype: float64"
      ]
     },
     "execution_count": 135,
     "metadata": {},
     "output_type": "execute_result"
    }
   ],
   "source": [
    "P301.describe()['RR_ET'].round(2)"
   ]
  },
  {
   "cell_type": "code",
   "execution_count": 62,
   "metadata": {
    "collapsed": false
   },
   "outputs": [
    {
     "data": {
      "text/plain": [
       "count    11.00\n",
       "mean      0.16\n",
       "std       0.16\n",
       "min      -0.20\n",
       "25%       0.09\n",
       "50%       0.13\n",
       "75%       0.28\n",
       "max       0.37\n",
       "Name: RR_ET, dtype: float64"
      ]
     },
     "execution_count": 62,
     "metadata": {},
     "output_type": "execute_result"
    }
   ],
   "source": [
    "Nr.describe()['RR_ET'].round(2)"
   ]
  },
  {
   "cell_type": "code",
   "execution_count": 64,
   "metadata": {
    "collapsed": false
   },
   "outputs": [
    {
     "data": {
      "text/plain": [
       "count    4.00\n",
       "mean     0.14\n",
       "std      0.21\n",
       "min     -0.08\n",
       "25%     -0.02\n",
       "50%      0.14\n",
       "75%      0.30\n",
       "max      0.35\n",
       "Name: RR_ET, dtype: float64"
      ]
     },
     "execution_count": 64,
     "metadata": {},
     "output_type": "execute_result"
    }
   ],
   "source": [
    "Vcm.describe()['RR_ET'].round(2)"
   ]
  },
  {
   "cell_type": "code",
   "execution_count": 19,
   "metadata": {
    "collapsed": false
   },
   "outputs": [
    {
     "data": {
      "text/html": [
       "<div>\n",
       "<table border=\"1\" class=\"dataframe\">\n",
       "  <thead>\n",
       "    <tr style=\"text-align: right;\">\n",
       "      <th></th>\n",
       "      <th>SMR2</th>\n",
       "      <th>peakSWE2</th>\n",
       "      <th>DOWYpeakSWE2</th>\n",
       "      <th>wateryear</th>\n",
       "    </tr>\n",
       "  </thead>\n",
       "  <tbody>\n",
       "    <tr>\n",
       "      <th>0</th>\n",
       "      <td>1.727149</td>\n",
       "      <td>1.692442</td>\n",
       "      <td>1.72959</td>\n",
       "      <td>2010</td>\n",
       "    </tr>\n",
       "  </tbody>\n",
       "</table>\n",
       "</div>"
      ],
      "text/plain": [
       "       SMR2  peakSWE2  DOWYpeakSWE2  wateryear\n",
       "0  1.727149  1.692442       1.72959       2010"
      ]
     },
     "execution_count": 19,
     "metadata": {},
     "output_type": "execute_result"
    }
   ],
   "source": [
    "df = Vcm\n",
    "\n",
    "df.loc[df.SMR == df.SMR.max(),['SMR2','peakSWE2','DOWYpeakSWE2','wateryear']]"
   ]
  },
  {
   "cell_type": "code",
   "execution_count": 20,
   "metadata": {
    "collapsed": true
   },
   "outputs": [],
   "source": [
    "mod = sm.ols('RR_ET2 ~ SMR2 + DOWYpeakSWE2 + + 1', Nr).fit()"
   ]
  },
  {
   "cell_type": "code",
   "execution_count": 21,
   "metadata": {
    "collapsed": false
   },
   "outputs": [
    {
     "data": {
      "text/plain": [
       "0.18938661061935941"
      ]
     },
     "execution_count": 21,
     "metadata": {},
     "output_type": "execute_result"
    }
   ],
   "source": [
    "mod.f_pvalue"
   ]
  },
  {
   "cell_type": "code",
   "execution_count": 22,
   "metadata": {
    "collapsed": true
   },
   "outputs": [],
   "source": [
    "df = pd.DataFrame({'variable':['SMR','TpeakSWE'],'varid':[1,2],'value':[mod.params['SMR2'],mod.params['DOWYpeakSWE2']],'Site':['Nr1','Nr1']})"
   ]
  },
  {
   "cell_type": "code",
   "execution_count": 23,
   "metadata": {
    "collapsed": false
   },
   "outputs": [
    {
     "data": {
      "text/html": [
       "<div>\n",
       "<table border=\"1\" class=\"dataframe\">\n",
       "  <thead>\n",
       "    <tr style=\"text-align: right;\">\n",
       "      <th></th>\n",
       "      <th>Site</th>\n",
       "      <th>value</th>\n",
       "      <th>variable</th>\n",
       "      <th>varid</th>\n",
       "    </tr>\n",
       "  </thead>\n",
       "  <tbody>\n",
       "    <tr>\n",
       "      <th>0</th>\n",
       "      <td>Nr1</td>\n",
       "      <td>0.465677</td>\n",
       "      <td>SMR</td>\n",
       "      <td>1</td>\n",
       "    </tr>\n",
       "    <tr>\n",
       "      <th>1</th>\n",
       "      <td>Nr1</td>\n",
       "      <td>0.123666</td>\n",
       "      <td>TpeakSWE</td>\n",
       "      <td>2</td>\n",
       "    </tr>\n",
       "  </tbody>\n",
       "</table>\n",
       "</div>"
      ],
      "text/plain": [
       "  Site     value  variable  varid\n",
       "0  Nr1  0.465677       SMR      1\n",
       "1  Nr1  0.123666  TpeakSWE      2"
      ]
     },
     "execution_count": 23,
     "metadata": {},
     "output_type": "execute_result"
    }
   ],
   "source": [
    "df"
   ]
  },
  {
   "cell_type": "code",
   "execution_count": 25,
   "metadata": {
    "collapsed": false
   },
   "outputs": [
    {
     "data": {
      "text/plain": [
       "<matplotlib.text.Text at 0x11c38edd0>"
      ]
     },
     "execution_count": 25,
     "metadata": {},
     "output_type": "execute_result"
    },
    {
     "data": {
      "image/png": "[encoded data removed]",
      "text/plain": [
       "<matplotlib.figure.Figure at 0x110f35490>"
      ]
     },
     "metadata": {},
     "output_type": "display_data"
    }
   ],
   "source": [
    "p = sn.barplot(x='varid',y='value',data=df,hue='Site')\n",
    "p.set_xticklabels(['Snowmelt Rate','Snowmelt Timing'],fontsize=18)\n",
    "p.set_xlabel('')\n",
    "p.set_ylabel('Coefficient Value', fontsize = 22)\n",
    "p.legend_.remove()\n",
    "p.grid(which='major',axis='y')\n",
    "[tick.label.set_fontsize(16) for tick in p.yaxis.get_major_ticks()];\n",
    "plt.title('CO: Observations', fontsize=22)\n",
    "#plt.savefig('./figures/Nr1_coefficients.png',dpi=300,bbox_inches='tight')"
   ]
  },
  {
   "cell_type": "code",
   "execution_count": 26,
   "metadata": {
    "collapsed": false
   },
   "outputs": [
    {
     "data": {
      "text/html": [
       "<div>\n",
       "<table border=\"1\" class=\"dataframe\">\n",
       "  <thead>\n",
       "    <tr style=\"text-align: right;\">\n",
       "      <th></th>\n",
       "      <th>ET</th>\n",
       "      <th>P</th>\n",
       "      <th>Q</th>\n",
       "      <th>wateryear</th>\n",
       "      <th>doaccum</th>\n",
       "      <th>dosnowfree</th>\n",
       "      <th>dopeakswe</th>\n",
       "      <th>peakswe</th>\n",
       "      <th>dowy_accum</th>\n",
       "      <th>dowy_snowfree</th>\n",
       "      <th>dowy_peakswe</th>\n",
       "      <th>SMR</th>\n",
       "      <th>ET_P</th>\n",
       "      <th>RR_ET</th>\n",
       "      <th>SMR2</th>\n",
       "      <th>RR_ET2</th>\n",
       "      <th>DOWYpeakSWE2</th>\n",
       "      <th>peakSWE2</th>\n",
       "    </tr>\n",
       "  </thead>\n",
       "  <tbody>\n",
       "    <tr>\n",
       "      <th>0</th>\n",
       "      <td>511.758951</td>\n",
       "      <td>2283.116</td>\n",
       "      <td>12415.588500</td>\n",
       "      <td>2011</td>\n",
       "      <td>2010-10-01</td>\n",
       "      <td>2011-06-05</td>\n",
       "      <td>2011-03-27</td>\n",
       "      <td>1.135233</td>\n",
       "      <td>0</td>\n",
       "      <td>247</td>\n",
       "      <td>177</td>\n",
       "      <td>0.016218</td>\n",
       "      <td>0.224149</td>\n",
       "      <td>0.775851</td>\n",
       "      <td>1.650482</td>\n",
       "      <td>1.669231</td>\n",
       "      <td>0.801121</td>\n",
       "      <td>1.979222</td>\n",
       "    </tr>\n",
       "    <tr>\n",
       "      <th>1</th>\n",
       "      <td>440.876412</td>\n",
       "      <td>1018.262</td>\n",
       "      <td>2043.794540</td>\n",
       "      <td>2012</td>\n",
       "      <td>2011-10-01</td>\n",
       "      <td>2012-04-23</td>\n",
       "      <td>2012-03-19</td>\n",
       "      <td>0.194150</td>\n",
       "      <td>0</td>\n",
       "      <td>205</td>\n",
       "      <td>170</td>\n",
       "      <td>0.005547</td>\n",
       "      <td>0.432970</td>\n",
       "      <td>0.567030</td>\n",
       "      <td>-0.362058</td>\n",
       "      <td>0.204238</td>\n",
       "      <td>0.636184</td>\n",
       "      <td>-0.347873</td>\n",
       "    </tr>\n",
       "    <tr>\n",
       "      <th>2</th>\n",
       "      <td>382.936356</td>\n",
       "      <td>879.220</td>\n",
       "      <td>1214.501885</td>\n",
       "      <td>2013</td>\n",
       "      <td>2012-10-01</td>\n",
       "      <td>2013-03-23</td>\n",
       "      <td>2013-01-16</td>\n",
       "      <td>0.204788</td>\n",
       "      <td>0</td>\n",
       "      <td>173</td>\n",
       "      <td>107</td>\n",
       "      <td>0.003103</td>\n",
       "      <td>0.435541</td>\n",
       "      <td>0.564459</td>\n",
       "      <td>-0.823074</td>\n",
       "      <td>0.186197</td>\n",
       "      <td>-0.848245</td>\n",
       "      <td>-0.321569</td>\n",
       "    </tr>\n",
       "    <tr>\n",
       "      <th>3</th>\n",
       "      <td>401.848572</td>\n",
       "      <td>646.378</td>\n",
       "      <td>312.100286</td>\n",
       "      <td>2014</td>\n",
       "      <td>2013-10-01</td>\n",
       "      <td>2014-04-08</td>\n",
       "      <td>2014-04-02</td>\n",
       "      <td>0.063623</td>\n",
       "      <td>0</td>\n",
       "      <td>189</td>\n",
       "      <td>183</td>\n",
       "      <td>0.010604</td>\n",
       "      <td>0.621693</td>\n",
       "      <td>0.378307</td>\n",
       "      <td>0.591673</td>\n",
       "      <td>-1.119765</td>\n",
       "      <td>0.942495</td>\n",
       "      <td>-0.670638</td>\n",
       "    </tr>\n",
       "    <tr>\n",
       "      <th>4</th>\n",
       "      <td>332.803778</td>\n",
       "      <td>558.344</td>\n",
       "      <td>251.900000</td>\n",
       "      <td>2015</td>\n",
       "      <td>2014-10-01</td>\n",
       "      <td>2015-01-28</td>\n",
       "      <td>2014-12-18</td>\n",
       "      <td>0.076360</td>\n",
       "      <td>0</td>\n",
       "      <td>119</td>\n",
       "      <td>78</td>\n",
       "      <td>0.001862</td>\n",
       "      <td>0.596055</td>\n",
       "      <td>0.403945</td>\n",
       "      <td>-1.057022</td>\n",
       "      <td>-0.939901</td>\n",
       "      <td>-1.531554</td>\n",
       "      <td>-0.639141</td>\n",
       "    </tr>\n",
       "  </tbody>\n",
       "</table>\n",
       "</div>"
      ],
      "text/plain": [
       "           ET         P             Q  wateryear    doaccum dosnowfree  \\\n",
       "0  511.758951  2283.116  12415.588500       2011 2010-10-01 2011-06-05   \n",
       "1  440.876412  1018.262   2043.794540       2012 2011-10-01 2012-04-23   \n",
       "2  382.936356   879.220   1214.501885       2013 2012-10-01 2013-03-23   \n",
       "3  401.848572   646.378    312.100286       2014 2013-10-01 2014-04-08   \n",
       "4  332.803778   558.344    251.900000       2015 2014-10-01 2015-01-28   \n",
       "\n",
       "   dopeakswe   peakswe  dowy_accum  dowy_snowfree  dowy_peakswe       SMR  \\\n",
       "0 2011-03-27  1.135233           0            247           177  0.016218   \n",
       "1 2012-03-19  0.194150           0            205           170  0.005547   \n",
       "2 2013-01-16  0.204788           0            173           107  0.003103   \n",
       "3 2014-04-02  0.063623           0            189           183  0.010604   \n",
       "4 2014-12-18  0.076360           0            119            78  0.001862   \n",
       "\n",
       "       ET_P     RR_ET      SMR2    RR_ET2  DOWYpeakSWE2  peakSWE2  \n",
       "0  0.224149  0.775851  1.650482  1.669231      0.801121  1.979222  \n",
       "1  0.432970  0.567030 -0.362058  0.204238      0.636184 -0.347873  \n",
       "2  0.435541  0.564459 -0.823074  0.186197     -0.848245 -0.321569  \n",
       "3  0.621693  0.378307  0.591673 -1.119765      0.942495 -0.670638  \n",
       "4  0.596055  0.403945 -1.057022 -0.939901     -1.531554 -0.639141  "
      ]
     },
     "execution_count": 26,
     "metadata": {},
     "output_type": "execute_result"
    }
   ],
   "source": [
    "P301.head()"
   ]
  },
  {
   "cell_type": "code",
   "execution_count": 27,
   "metadata": {
    "collapsed": false
   },
   "outputs": [],
   "source": [
    "#df = Nr[['SMR','DOWYpeakSWE','peakSWE','RR_ET']]\n",
    "#df = Vcm[['SMR','dowy_peakswe','peakswe','RR_ET']]\n",
    "df = P301[['SMR','dowy_peakswe','peakswe','RR_ET']]"
   ]
  },
  {
   "cell_type": "code",
   "execution_count": 28,
   "metadata": {
    "collapsed": false
   },
   "outputs": [],
   "source": [
    "df = pd.melt(df,id_vars='RR_ET')"
   ]
  },
  {
   "cell_type": "code",
   "execution_count": 29,
   "metadata": {
    "collapsed": true
   },
   "outputs": [],
   "source": [
    "current_palette = sn.color_palette()"
   ]
  },
  {
   "cell_type": "code",
   "execution_count": 30,
   "metadata": {
    "collapsed": false
   },
   "outputs": [
    {
     "data": {
      "text/plain": [
       "<matplotlib.text.Text at 0x11c42d6d0>"
      ]
     },
     "execution_count": 30,
     "metadata": {},
     "output_type": "execute_result"
    },
    {
     "data": {
      "image/png": "[encoded data removed]",
      "text/plain": [
       "<matplotlib.figure.Figure at 0x11bdea5d0>"
      ]
     },
     "metadata": {},
     "output_type": "display_data"
    }
   ],
   "source": [
    "#plt.figure(figsize=(5,12))\n",
    "axfont = 22\n",
    "tickfont = 18\n",
    "\n",
    "xlabels = ['Snowmelt Rate [mm/day]','Snowmelt Timing [DOWY]','Snowmelt Amount [m]']\n",
    "\n",
    "grid = sn.FacetGrid(df,col='variable',sharex=False,size=4)\n",
    "grid.map(plt.scatter,'value','RR_ET',s=140,c=current_palette[1])\n",
    "axes = plt.gcf().axes\n",
    "\n",
    "ax = axes[1]\n",
    "#ax.set_xticks([160,180,200,220,240])\n",
    "\n",
    "for ax,xlab in zip(axes,xlabels):\n",
    "    ax.set_ylabel('', fontsize = axfont)\n",
    "    ax.set_title('')\n",
    "    ax.set_xlabel(xlab,fontsize=axfont)\n",
    "    #[tick.label.set_fontsize(tickfont) for tick in ax.yaxis.get_major_ticks()];\n",
    "    #[tick.label.set_fontsize(tickfont) for tick in ax.xaxis.get_major_ticks()];\n",
    "\n",
    "ax = axes[0]\n",
    "ax.set_ylabel('R/P \\n (1-ET/P)', fontsize = axfont)\n",
    "\n",
    "#plt.savefig('./figures/P301_obs.png',dpi=300,bbox_inches='tight')"
   ]
  },
  {
   "cell_type": "code",
   "execution_count": 31,
   "metadata": {
    "collapsed": false
   },
   "outputs": [
    {
     "name": "stdout",
     "output_type": "stream",
     "text": [
      "                            OLS Regression Results                            \n",
      "==============================================================================\n",
      "Dep. Variable:                 RR_ET2   R-squared:                       0.340\n",
      "Model:                            OLS   Adj. R-squared:                  0.175\n",
      "Method:                 Least Squares   F-statistic:                     2.063\n",
      "Date:                Thu, 15 Jun 2017   Prob (F-statistic):              0.189\n",
      "Time:                        16:46:44   Log-Likelihood:                -13.320\n",
      "No. Observations:                  11   AIC:                             32.64\n",
      "Df Residuals:                       8   BIC:                             33.83\n",
      "Df Model:                           2                                         \n",
      "Covariance Type:            nonrobust                                         \n",
      "================================================================================\n",
      "                   coef    std err          t      P>|t|      [95.0% Conf. Int.]\n",
      "--------------------------------------------------------------------------------\n",
      "Intercept    -8.327e-17      0.287   -2.9e-16      1.000        -0.662     0.662\n",
      "SMR2             0.4657      0.836      0.557      0.593        -1.462     2.393\n",
      "DOWYpeakSWE2     0.1237      0.836      0.148      0.886        -1.804     2.051\n",
      "==============================================================================\n",
      "Omnibus:                        9.436   Durbin-Watson:                   1.539\n",
      "Prob(Omnibus):                  0.009   Jarque-Bera (JB):                4.451\n",
      "Skew:                          -1.406   Prob(JB):                        0.108\n",
      "Kurtosis:                       4.343   Cond. No.                         5.64\n",
      "==============================================================================\n",
      "\n",
      "Warnings:\n",
      "[1] Standard Errors assume that the covariance matrix of the errors is correctly specified.\n"
     ]
    },
    {
     "name": "stderr",
     "output_type": "stream",
     "text": [
      "/Users/barnhatb/anaconda/lib/python2.7/site-packages/scipy/stats/stats.py:1327: UserWarning: kurtosistest only valid for n>=20 ... continuing anyway, n=11\n",
      "  \"anyway, n=%i\" % int(n))\n"
     ]
    }
   ],
   "source": [
    "print mod.summary()"
   ]
  },
  {
   "cell_type": "markdown",
   "metadata": {},
   "source": [
    "### Generate Summaries:"
   ]
  },
  {
   "cell_type": "code",
   "execution_count": 33,
   "metadata": {
    "collapsed": false
   },
   "outputs": [
    {
     "data": {
      "text/plain": [
       "<Container object of 11 artists>"
      ]
     },
     "execution_count": 33,
     "metadata": {},
     "output_type": "execute_result"
    },
    {
     "data": {
      "image/png": "[encoded data removed]",
      "text/plain": [
       "<matplotlib.figure.Figure at 0x11bdab290>"
      ]
     },
     "metadata": {},
     "output_type": "display_data"
    }
   ],
   "source": [
    "fig = plt.figure(figsize=(15,10))\n",
    "fig.add_subplot(211)\n",
    "plt.bar(Nr.wateryear,Nr.SMR)\n",
    "fig.add_subplot(212)\n",
    "plt.bar(Nr.wateryear,Nr.RR_ET)"
   ]
  },
  {
   "cell_type": "code",
   "execution_count": 34,
   "metadata": {
    "collapsed": false
   },
   "outputs": [
    {
     "data": {
      "text/plain": [
       "<matplotlib.text.Text at 0x11cd28590>"
      ]
     },
     "execution_count": 34,
     "metadata": {},
     "output_type": "execute_result"
    },
    {
     "data": {
      "image/png": "[encoded data removed]",
      "text/plain": [
       "<matplotlib.figure.Figure at 0x11cd30490>"
      ]
     },
     "metadata": {},
     "output_type": "display_data"
    }
   ],
   "source": [
    "plt.scatter(Nr.SMR*1000.,Nr.RR_ET,s=20,c='0.5')\n",
    "plt.xlabel('Snowmelt Rate [mm/day]', fontsize = 16)\n",
    "plt.ylabel('1-(ET/P)', fontsize=16)"
   ]
  },
  {
   "cell_type": "code",
   "execution_count": 56,
   "metadata": {
    "collapsed": false
   },
   "outputs": [
    {
     "data": {
      "text/html": [
       "<div>\n",
       "<table border=\"1\" class=\"dataframe\">\n",
       "  <thead>\n",
       "    <tr style=\"text-align: right;\">\n",
       "      <th></th>\n",
       "      <th>dowy_peakswe</th>\n",
       "      <th>SMR</th>\n",
       "    </tr>\n",
       "  </thead>\n",
       "  <tbody>\n",
       "    <tr>\n",
       "      <th>count</th>\n",
       "      <td>5.000000</td>\n",
       "      <td>5.000000</td>\n",
       "    </tr>\n",
       "    <tr>\n",
       "      <th>mean</th>\n",
       "      <td>143.000000</td>\n",
       "      <td>0.007467</td>\n",
       "    </tr>\n",
       "    <tr>\n",
       "      <th>std</th>\n",
       "      <td>47.449974</td>\n",
       "      <td>0.005928</td>\n",
       "    </tr>\n",
       "    <tr>\n",
       "      <th>min</th>\n",
       "      <td>78.000000</td>\n",
       "      <td>0.001862</td>\n",
       "    </tr>\n",
       "    <tr>\n",
       "      <th>25%</th>\n",
       "      <td>107.000000</td>\n",
       "      <td>0.003103</td>\n",
       "    </tr>\n",
       "    <tr>\n",
       "      <th>50%</th>\n",
       "      <td>170.000000</td>\n",
       "      <td>0.005547</td>\n",
       "    </tr>\n",
       "    <tr>\n",
       "      <th>75%</th>\n",
       "      <td>177.000000</td>\n",
       "      <td>0.010604</td>\n",
       "    </tr>\n",
       "    <tr>\n",
       "      <th>max</th>\n",
       "      <td>183.000000</td>\n",
       "      <td>0.016218</td>\n",
       "    </tr>\n",
       "  </tbody>\n",
       "</table>\n",
       "</div>"
      ],
      "text/plain": [
       "       dowy_peakswe       SMR\n",
       "count      5.000000  5.000000\n",
       "mean     143.000000  0.007467\n",
       "std       47.449974  0.005928\n",
       "min       78.000000  0.001862\n",
       "25%      107.000000  0.003103\n",
       "50%      170.000000  0.005547\n",
       "75%      177.000000  0.010604\n",
       "max      183.000000  0.016218"
      ]
     },
     "execution_count": 56,
     "metadata": {},
     "output_type": "execute_result"
    }
   ],
   "source": [
    "P301.describe()[['dowy_peakswe','SMR']]"
   ]
  },
  {
   "cell_type": "markdown",
   "metadata": {},
   "source": [
    "## Combine the data frames"
   ]
  },
  {
   "cell_type": "code",
   "execution_count": 35,
   "metadata": {
    "collapsed": true
   },
   "outputs": [],
   "source": [
    "Nr2 = Nr.copy()"
   ]
  },
  {
   "cell_type": "code",
   "execution_count": 36,
   "metadata": {
    "collapsed": false
   },
   "outputs": [],
   "source": [
    "Nr2['site'] = 'Nr1'"
   ]
  },
  {
   "cell_type": "code",
   "execution_count": 37,
   "metadata": {
    "collapsed": true
   },
   "outputs": [],
   "source": [
    "P3012 = P301.copy()\n",
    "P3012['site'] = 'P301'"
   ]
  },
  {
   "cell_type": "code",
   "execution_count": 39,
   "metadata": {
    "collapsed": false
   },
   "outputs": [
    {
     "data": {
      "text/html": [
       "<div>\n",
       "<table border=\"1\" class=\"dataframe\">\n",
       "  <thead>\n",
       "    <tr style=\"text-align: right;\">\n",
       "      <th></th>\n",
       "      <th>ET</th>\n",
       "      <th>P</th>\n",
       "      <th>Q</th>\n",
       "      <th>wateryear</th>\n",
       "      <th>doaccum</th>\n",
       "      <th>dosnowfree</th>\n",
       "      <th>dopeakswe</th>\n",
       "      <th>peakswe</th>\n",
       "      <th>dowy_accum</th>\n",
       "      <th>dowy_snowfree</th>\n",
       "      <th>dowy_peakswe</th>\n",
       "      <th>SMR</th>\n",
       "      <th>ET_P</th>\n",
       "      <th>RR_ET</th>\n",
       "      <th>SMR2</th>\n",
       "      <th>RR_ET2</th>\n",
       "      <th>DOWYpeakSWE2</th>\n",
       "      <th>peakSWE2</th>\n",
       "      <th>site</th>\n",
       "    </tr>\n",
       "  </thead>\n",
       "  <tbody>\n",
       "    <tr>\n",
       "      <th>0</th>\n",
       "      <td>511.758951</td>\n",
       "      <td>2283.116</td>\n",
       "      <td>12415.588500</td>\n",
       "      <td>2011</td>\n",
       "      <td>2010-10-01</td>\n",
       "      <td>2011-06-05</td>\n",
       "      <td>2011-03-27</td>\n",
       "      <td>1.135233</td>\n",
       "      <td>0</td>\n",
       "      <td>247</td>\n",
       "      <td>177</td>\n",
       "      <td>0.016218</td>\n",
       "      <td>0.224149</td>\n",
       "      <td>0.775851</td>\n",
       "      <td>1.650482</td>\n",
       "      <td>1.669231</td>\n",
       "      <td>0.801121</td>\n",
       "      <td>1.979222</td>\n",
       "      <td>P301</td>\n",
       "    </tr>\n",
       "    <tr>\n",
       "      <th>1</th>\n",
       "      <td>440.876412</td>\n",
       "      <td>1018.262</td>\n",
       "      <td>2043.794540</td>\n",
       "      <td>2012</td>\n",
       "      <td>2011-10-01</td>\n",
       "      <td>2012-04-23</td>\n",
       "      <td>2012-03-19</td>\n",
       "      <td>0.194150</td>\n",
       "      <td>0</td>\n",
       "      <td>205</td>\n",
       "      <td>170</td>\n",
       "      <td>0.005547</td>\n",
       "      <td>0.432970</td>\n",
       "      <td>0.567030</td>\n",
       "      <td>-0.362058</td>\n",
       "      <td>0.204238</td>\n",
       "      <td>0.636184</td>\n",
       "      <td>-0.347873</td>\n",
       "      <td>P301</td>\n",
       "    </tr>\n",
       "    <tr>\n",
       "      <th>2</th>\n",
       "      <td>382.936356</td>\n",
       "      <td>879.220</td>\n",
       "      <td>1214.501885</td>\n",
       "      <td>2013</td>\n",
       "      <td>2012-10-01</td>\n",
       "      <td>2013-03-23</td>\n",
       "      <td>2013-01-16</td>\n",
       "      <td>0.204788</td>\n",
       "      <td>0</td>\n",
       "      <td>173</td>\n",
       "      <td>107</td>\n",
       "      <td>0.003103</td>\n",
       "      <td>0.435541</td>\n",
       "      <td>0.564459</td>\n",
       "      <td>-0.823074</td>\n",
       "      <td>0.186197</td>\n",
       "      <td>-0.848245</td>\n",
       "      <td>-0.321569</td>\n",
       "      <td>P301</td>\n",
       "    </tr>\n",
       "    <tr>\n",
       "      <th>3</th>\n",
       "      <td>401.848572</td>\n",
       "      <td>646.378</td>\n",
       "      <td>312.100286</td>\n",
       "      <td>2014</td>\n",
       "      <td>2013-10-01</td>\n",
       "      <td>2014-04-08</td>\n",
       "      <td>2014-04-02</td>\n",
       "      <td>0.063623</td>\n",
       "      <td>0</td>\n",
       "      <td>189</td>\n",
       "      <td>183</td>\n",
       "      <td>0.010604</td>\n",
       "      <td>0.621693</td>\n",
       "      <td>0.378307</td>\n",
       "      <td>0.591673</td>\n",
       "      <td>-1.119765</td>\n",
       "      <td>0.942495</td>\n",
       "      <td>-0.670638</td>\n",
       "      <td>P301</td>\n",
       "    </tr>\n",
       "    <tr>\n",
       "      <th>4</th>\n",
       "      <td>332.803778</td>\n",
       "      <td>558.344</td>\n",
       "      <td>251.900000</td>\n",
       "      <td>2015</td>\n",
       "      <td>2014-10-01</td>\n",
       "      <td>2015-01-28</td>\n",
       "      <td>2014-12-18</td>\n",
       "      <td>0.076360</td>\n",
       "      <td>0</td>\n",
       "      <td>119</td>\n",
       "      <td>78</td>\n",
       "      <td>0.001862</td>\n",
       "      <td>0.596055</td>\n",
       "      <td>0.403945</td>\n",
       "      <td>-1.057022</td>\n",
       "      <td>-0.939901</td>\n",
       "      <td>-1.531554</td>\n",
       "      <td>-0.639141</td>\n",
       "      <td>P301</td>\n",
       "    </tr>\n",
       "  </tbody>\n",
       "</table>\n",
       "</div>"
      ],
      "text/plain": [
       "           ET         P             Q  wateryear    doaccum dosnowfree  \\\n",
       "0  511.758951  2283.116  12415.588500       2011 2010-10-01 2011-06-05   \n",
       "1  440.876412  1018.262   2043.794540       2012 2011-10-01 2012-04-23   \n",
       "2  382.936356   879.220   1214.501885       2013 2012-10-01 2013-03-23   \n",
       "3  401.848572   646.378    312.100286       2014 2013-10-01 2014-04-08   \n",
       "4  332.803778   558.344    251.900000       2015 2014-10-01 2015-01-28   \n",
       "\n",
       "   dopeakswe   peakswe  dowy_accum  dowy_snowfree  dowy_peakswe       SMR  \\\n",
       "0 2011-03-27  1.135233           0            247           177  0.016218   \n",
       "1 2012-03-19  0.194150           0            205           170  0.005547   \n",
       "2 2013-01-16  0.204788           0            173           107  0.003103   \n",
       "3 2014-04-02  0.063623           0            189           183  0.010604   \n",
       "4 2014-12-18  0.076360           0            119            78  0.001862   \n",
       "\n",
       "       ET_P     RR_ET      SMR2    RR_ET2  DOWYpeakSWE2  peakSWE2  site  \n",
       "0  0.224149  0.775851  1.650482  1.669231      0.801121  1.979222  P301  \n",
       "1  0.432970  0.567030 -0.362058  0.204238      0.636184 -0.347873  P301  \n",
       "2  0.435541  0.564459 -0.823074  0.186197     -0.848245 -0.321569  P301  \n",
       "3  0.621693  0.378307  0.591673 -1.119765      0.942495 -0.670638  P301  \n",
       "4  0.596055  0.403945 -1.057022 -0.939901     -1.531554 -0.639141  P301  "
      ]
     },
     "execution_count": 39,
     "metadata": {},
     "output_type": "execute_result"
    }
   ],
   "source": [
    "P3012"
   ]
  },
  {
   "cell_type": "raw",
   "metadata": {
    "collapsed": false
   },
   "source": [
    "P3012.columns = ['ET', u'P', u'Q', u'wateryear', u'doaccum', u'dosnowfree',\n",
    "       u'dopeakswe', u'peakSWE', u'dowy_accum', u'dowy_snowfree',\n",
    "       u'DOWYpeakSWE', u'SMR', u'ET_P', u'RR_ET', u'site']"
   ]
  },
  {
   "cell_type": "code",
   "execution_count": 40,
   "metadata": {
    "collapsed": true
   },
   "outputs": [],
   "source": [
    "Vcm2 = Vcm.copy()\n",
    "Vcm2['site'] = 'Vcm'"
   ]
  },
  {
   "cell_type": "code",
   "execution_count": 41,
   "metadata": {
    "collapsed": false
   },
   "outputs": [
    {
     "ename": "ValueError",
     "evalue": "Length mismatch: Expected axis has 18 elements, new values have 14 elements",
     "output_type": "error",
     "traceback": [
      "\u001b[0;31m---------------------------------------------------------------\u001b[0m",
      "\u001b[0;31mValueError\u001b[0m                    Traceback (most recent call last)",
      "\u001b[0;32m<ipython-input-41-7a748ce5b4b6>\u001b[0m in \u001b[0;36m<module>\u001b[0;34m()\u001b[0m\n\u001b[1;32m      1\u001b[0m Vcm2.columns = [u'ET', u'P', u'wateryear', u'doaccum', u'dosnowfree', u'dopeakswe',\n\u001b[1;32m      2\u001b[0m        \u001b[0;34mu'peakSWE'\u001b[0m\u001b[0;34m,\u001b[0m \u001b[0;34mu'dowy_accum'\u001b[0m\u001b[0;34m,\u001b[0m \u001b[0;34mu'dowy_snowfree'\u001b[0m\u001b[0;34m,\u001b[0m \u001b[0;34mu'DOWYpeakSWE'\u001b[0m\u001b[0;34m,\u001b[0m \u001b[0;34mu'SMR'\u001b[0m\u001b[0;34m,\u001b[0m\u001b[0;34m\u001b[0m\u001b[0m\n\u001b[0;32m----> 3\u001b[0;31m        u'ET_P', u'RR_ET', u'site']\n\u001b[0m",
      "\u001b[0;32m/Users/barnhatb/anaconda/lib/python2.7/site-packages/pandas/core/generic.pyc\u001b[0m in \u001b[0;36m__setattr__\u001b[0;34m(self, name, value)\u001b[0m\n\u001b[1;32m   2755\u001b[0m         \u001b[0;32mtry\u001b[0m\u001b[0;34m:\u001b[0m\u001b[0;34m\u001b[0m\u001b[0m\n\u001b[1;32m   2756\u001b[0m             \u001b[0mobject\u001b[0m\u001b[0;34m.\u001b[0m\u001b[0m__getattribute__\u001b[0m\u001b[0;34m(\u001b[0m\u001b[0mself\u001b[0m\u001b[0;34m,\u001b[0m \u001b[0mname\u001b[0m\u001b[0;34m)\u001b[0m\u001b[0;34m\u001b[0m\u001b[0m\n\u001b[0;32m-> 2757\u001b[0;31m             \u001b[0;32mreturn\u001b[0m \u001b[0mobject\u001b[0m\u001b[0;34m.\u001b[0m\u001b[0m__setattr__\u001b[0m\u001b[0;34m(\u001b[0m\u001b[0mself\u001b[0m\u001b[0;34m,\u001b[0m \u001b[0mname\u001b[0m\u001b[0;34m,\u001b[0m \u001b[0mvalue\u001b[0m\u001b[0;34m)\u001b[0m\u001b[0;34m\u001b[0m\u001b[0m\n\u001b[0m\u001b[1;32m   2758\u001b[0m         \u001b[0;32mexcept\u001b[0m \u001b[0mAttributeError\u001b[0m\u001b[0;34m:\u001b[0m\u001b[0;34m\u001b[0m\u001b[0m\n\u001b[1;32m   2759\u001b[0m             \u001b[0;32mpass\u001b[0m\u001b[0;34m\u001b[0m\u001b[0m\n",
      "\u001b[0;32mpandas/src/properties.pyx\u001b[0m in \u001b[0;36mpandas.lib.AxisProperty.__set__ (pandas/lib.c:46241)\u001b[0;34m()\u001b[0m\n",
      "\u001b[0;32m/Users/barnhatb/anaconda/lib/python2.7/site-packages/pandas/core/generic.pyc\u001b[0m in \u001b[0;36m_set_axis\u001b[0;34m(self, axis, labels)\u001b[0m\n\u001b[1;32m    446\u001b[0m \u001b[0;34m\u001b[0m\u001b[0m\n\u001b[1;32m    447\u001b[0m     \u001b[0;32mdef\u001b[0m \u001b[0m_set_axis\u001b[0m\u001b[0;34m(\u001b[0m\u001b[0mself\u001b[0m\u001b[0;34m,\u001b[0m \u001b[0maxis\u001b[0m\u001b[0;34m,\u001b[0m \u001b[0mlabels\u001b[0m\u001b[0;34m)\u001b[0m\u001b[0;34m:\u001b[0m\u001b[0;34m\u001b[0m\u001b[0m\n\u001b[0;32m--> 448\u001b[0;31m         \u001b[0mself\u001b[0m\u001b[0;34m.\u001b[0m\u001b[0m_data\u001b[0m\u001b[0;34m.\u001b[0m\u001b[0mset_axis\u001b[0m\u001b[0;34m(\u001b[0m\u001b[0maxis\u001b[0m\u001b[0;34m,\u001b[0m \u001b[0mlabels\u001b[0m\u001b[0;34m)\u001b[0m\u001b[0;34m\u001b[0m\u001b[0m\n\u001b[0m\u001b[1;32m    449\u001b[0m         \u001b[0mself\u001b[0m\u001b[0;34m.\u001b[0m\u001b[0m_clear_item_cache\u001b[0m\u001b[0;34m(\u001b[0m\u001b[0;34m)\u001b[0m\u001b[0;34m\u001b[0m\u001b[0m\n\u001b[1;32m    450\u001b[0m \u001b[0;34m\u001b[0m\u001b[0m\n",
      "\u001b[0;32m/Users/barnhatb/anaconda/lib/python2.7/site-packages/pandas/core/internals.pyc\u001b[0m in \u001b[0;36mset_axis\u001b[0;34m(self, axis, new_labels)\u001b[0m\n\u001b[1;32m   2800\u001b[0m             raise ValueError('Length mismatch: Expected axis has %d elements, '\n\u001b[1;32m   2801\u001b[0m                              \u001b[0;34m'new values have %d elements'\u001b[0m \u001b[0;34m%\u001b[0m\u001b[0;34m\u001b[0m\u001b[0m\n\u001b[0;32m-> 2802\u001b[0;31m                              (old_len, new_len))\n\u001b[0m\u001b[1;32m   2803\u001b[0m \u001b[0;34m\u001b[0m\u001b[0m\n\u001b[1;32m   2804\u001b[0m         \u001b[0mself\u001b[0m\u001b[0;34m.\u001b[0m\u001b[0maxes\u001b[0m\u001b[0;34m[\u001b[0m\u001b[0maxis\u001b[0m\u001b[0;34m]\u001b[0m \u001b[0;34m=\u001b[0m \u001b[0mnew_labels\u001b[0m\u001b[0;34m\u001b[0m\u001b[0m\n",
      "\u001b[0;31mValueError\u001b[0m: Length mismatch: Expected axis has 18 elements, new values have 14 elements"
     ]
    }
   ],
   "source": [
    "Vcm2.columns = [u'ET', u'P', u'wateryear', u'doaccum', u'dosnowfree', u'dopeakswe',\n",
    "       u'peakSWE', u'dowy_accum', u'dowy_snowfree', u'DOWYpeakSWE', u'SMR',\n",
    "       u'ET_P', u'RR_ET', u'site']"
   ]
  },
  {
   "cell_type": "code",
   "execution_count": 42,
   "metadata": {
    "collapsed": true
   },
   "outputs": [],
   "source": [
    "dat = pd.concat([Nr2,P3012,Vcm2],axis=0)"
   ]
  },
  {
   "cell_type": "code",
   "execution_count": 43,
   "metadata": {
    "collapsed": false
   },
   "outputs": [
    {
     "data": {
      "text/plain": [
       "Index([u'DOAS', u'DOWYnoSnow', u'DOWYpeakSWE', u'DOWYpeakSWE2', u'DateNS',\n",
       "       u'DatepeakSWE', u'ET', u'ET_P', u'P', u'Q', u'RR_ET', u'RR_ET2', u'SMR',\n",
       "       u'SMR2', u'accumSeasDate', u'averageMR', u'doaccum', u'dopeakswe',\n",
       "       u'dosnowfree', u'dowy_accum', u'dowy_peakswe', u'dowy_snowfree',\n",
       "       u'peakSWE', u'peakSWE2', u'peakswe', u'site', u'wateryear'],\n",
       "      dtype='object')"
      ]
     },
     "execution_count": 43,
     "metadata": {},
     "output_type": "execute_result"
    }
   ],
   "source": [
    "dat.columns"
   ]
  },
  {
   "cell_type": "code",
   "execution_count": 44,
   "metadata": {
    "collapsed": false
   },
   "outputs": [],
   "source": [
    "dat = dat[['ET','P','Q','wateryear','SMR','ET_P','RR_ET','site','DOWYpeakSWE','peakSWE']]"
   ]
  },
  {
   "cell_type": "code",
   "execution_count": 45,
   "metadata": {
    "collapsed": true
   },
   "outputs": [],
   "source": [
    "dat.SMR *= 1000. # m/day > mm/day"
   ]
  },
  {
   "cell_type": "code",
   "execution_count": 46,
   "metadata": {
    "collapsed": false
   },
   "outputs": [],
   "source": [
    "dat['SMR'] = pd.to_numeric(dat.SMR)\n",
    "dat['peakSWE'] = pd.to_numeric(dat.peakSWE)"
   ]
  },
  {
   "cell_type": "code",
   "execution_count": 47,
   "metadata": {
    "collapsed": true
   },
   "outputs": [],
   "source": [
    "titlefont = 32\n",
    "axfont = 16\n",
    "tickfont = 16"
   ]
  },
  {
   "cell_type": "code",
   "execution_count": 48,
   "metadata": {
    "collapsed": false
   },
   "outputs": [
    {
     "data": {
      "text/plain": [
       "[(0.2980392156862745, 0.4470588235294118, 0.6901960784313725),\n",
       " (0.3333333333333333, 0.6588235294117647, 0.40784313725490196),\n",
       " (0.7686274509803922, 0.3058823529411765, 0.3215686274509804)]"
      ]
     },
     "execution_count": 48,
     "metadata": {},
     "output_type": "execute_result"
    }
   ],
   "source": [
    "current_palette[0:3]"
   ]
  },
  {
   "cell_type": "code",
   "execution_count": 49,
   "metadata": {
    "collapsed": false
   },
   "outputs": [
    {
     "ename": "SyntaxError",
     "evalue": "invalid syntax (<ipython-input-49-947cd44d8bbb>, line 2)",
     "output_type": "error",
     "traceback": [
      "\u001b[0;36m  File \u001b[0;32m\"<ipython-input-49-947cd44d8bbb>\"\u001b[0;36m, line \u001b[0;32m2\u001b[0m\n\u001b[0;31m    grid = sn.FacetGrid(dat,col='site',row=)\u001b[0m\n\u001b[0m                                           ^\u001b[0m\n\u001b[0;31mSyntaxError\u001b[0m\u001b[0;31m:\u001b[0m invalid syntax\n"
     ]
    }
   ],
   "source": [
    "plt.figure(figsize=(12,3))\n",
    "grid = sn.FacetGrid(dat,col='site',row=)\n",
    "grid.map(plt.scatter,'SMR','RR_ET',s=100)\n",
    "fig = plt.gcf()\n",
    "sites = ['CO','CA','NM']\n",
    "colors = current_palette[0:3]\n",
    "for ax,site,color in zip(fig.axes,sites,colors):\n",
    "    ax.set_xlabel('Snowmelt Rate [mm/day]', fontsize=axfont)\n",
    "    ax.set_title(site,fontsize=titlefont)\n",
    "    ax.set_xticks([-10,0,10,20,30])\n",
    "    [tick.label.set_fontsize(tickfont) for tick in ax.xaxis.get_major_ticks()];\n",
    "    \n",
    "fig.axes[0].set_ylabel('1-ET/P', fontsize=axfont)\n",
    "[tick.label.set_fontsize(tickfont) for tick in fig.axes[0].yaxis.get_major_ticks()];\n",
    "#plt.savefig('./figures/obs_SMR_RR_ET.png', dpi=300, bbox_inches='tight')\n",
    "#plt.savefig('./figures/obs_SMR_RR_ET.pdf', bbox_inches='tight')"
   ]
  },
  {
   "cell_type": "code",
   "execution_count": null,
   "metadata": {
    "collapsed": false
   },
   "outputs": [],
   "source": [
    "plt.figure(figsize=(12,3))\n",
    "grid = sn.FacetGrid(dat,col='site')\n",
    "grid.map(plt.scatter,'peakSWE','RR_ET',s=100)\n",
    "fig = plt.gcf()\n",
    "sites = ['Nr1','P301','Vcm']\n",
    "for ax,site in zip(fig.axes,sites):\n",
    "    ax.set_xlabel('Snowmelt Amount [m]', fontsize=axfont)\n",
    "    #ax.set_title(site,fontsize=titlefont)\n",
    "    #ax.set_xticks([-0.01,0,0.01,0.02,0.03])\n",
    "    [tick.label.set_fontsize(tickfont) for tick in ax.xaxis.get_major_ticks()];\n",
    "    \n",
    "fig.axes[0].set_ylabel('1-ET/P', fontsize=axfont)\n",
    "[tick.label.set_fontsize(tickfont) for tick in fig.axes[0].yaxis.get_major_ticks()];\n",
    "plt.savefig('./figures/obs_PeakSWE_RR_ET.png', dpi=300, bbox_inches='tight')\n",
    "plt.savefig('./figures/obs_PeakSWE_RR_ET.pdf', bbox_inches='tight')"
   ]
  },
  {
   "cell_type": "code",
   "execution_count": null,
   "metadata": {
    "collapsed": false
   },
   "outputs": [],
   "source": [
    "plt.figure(figsize=(12,3))\n",
    "grid = sn.FacetGrid(dat,col='site')\n",
    "grid.map(plt.scatter,'DOWYpeakSWE','RR_ET',s=100)\n",
    "fig = plt.gcf()\n",
    "sites = ['Nr1','P301','Vcm']\n",
    "for ax,site in zip(fig.axes,sites):\n",
    "    ax.set_xlabel('Snowmelt Timing [DOWY]', fontsize=axfont)\n",
    "    #ax.set_title(site,fontsize=titlefont)\n",
    "    #ax.set_xticks([-0.01,0,0.01,0.02,0.03])\n",
    "    [tick.label.set_fontsize(tickfont) for tick in ax.xaxis.get_major_ticks()];\n",
    "    \n",
    "fig.axes[0].set_ylabel('1-ET/P', fontsize=axfont)\n",
    "[tick.label.set_fontsize(tickfont) for tick in fig.axes[0].yaxis.get_major_ticks()];\n",
    "plt.savefig('./figures/obs_TpeakSWE_RR_ET.png', dpi=300, bbox_inches='tight')\n",
    "plt.savefig('./figures/obs_TpeakSWE_RR_ET.pdf', bbox_inches='tight')"
   ]
  },
  {
   "cell_type": "code",
   "execution_count": null,
   "metadata": {
    "collapsed": true
   },
   "outputs": [],
   "source": []
  }
 ],
 "metadata": {
  "kernelspec": {
   "display_name": "Python 2",
   "language": "python",
   "name": "python2"
  },
  "language_info": {
   "codemirror_mode": {
    "name": "ipython",
    "version": 2
   },
   "file_extension": ".py",
   "mimetype": "text/x-python",
   "name": "python",
   "nbconvert_exporter": "python",
   "pygments_lexer": "ipython2",
   "version": "2.7.12"
  }
 },
 "nbformat": 4,
 "nbformat_minor": 0
}
