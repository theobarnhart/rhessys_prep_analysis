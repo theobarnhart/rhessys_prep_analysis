{
 "cells": [
  {
   "cell_type": "markdown",
   "metadata": {},
   "source": [
    "# Preamble\n",
    "\n",
    "Theodore Barnhart | tbarnhart@usgs.gov | theodore.barnhart@colorado.edu | April 6, 2019\n",
    "\n",
    "This notebook explores global parameter sensivitivty using the dela-moment method (Plischke et al., 2013).\n",
    "\n",
    "This is done via three analyses on two datasets, making six sensitivity analysese:\n",
    "\n",
    "**Analysis 1:**\n",
    "SA is run on outputs with only optimized rooting depth (combo == 6)\n",
    "\n",
    "**Analysis 2:**\n",
    "SA is run on outputs with all rooting depths to assess the importance of plant available water storage (PAWS).\n",
    "\n",
    "**Analysis 3:**\n",
    "SA is run on outputs with all rooting depths and sites.\n",
    "\n",
    "**Dataset 1:**\n",
    "Ablation season runoff ratio (abblRR_ET)\n",
    "\n",
    "**Dataset 2:**\n",
    "Ablation season change in subsurface storage (wb)"
   ]
  },
  {
   "cell_type": "code",
   "execution_count": 1,
   "metadata": {
    "collapsed": true
   },
   "outputs": [],
   "source": [
    "import pandas as pd\n",
    "from SALib.analyze import delta\n",
    "import matplotlib.pyplot as plt\n",
    "from matplotlib.lines import Line2D\n",
    "from matplotlib.patches import Patch"
   ]
  },
  {
   "cell_type": "markdown",
   "metadata": {},
   "source": [
    "## Load Data"
   ]
  },
  {
   "cell_type": "code",
   "execution_count": 2,
   "metadata": {
    "collapsed": true
   },
   "outputs": [],
   "source": [
    "# load data\n",
    "site = 'Nr1'\n",
    "exname = 'smex8_sen'\n",
    "method = '8'\n",
    "period = 'melt'\n",
    "Nr1 = pd.read_hdf('./data/%s_%s_%s_processed_for_SA.h5'%(site,exname,period),'df') # load the first experiment\n",
    "Nr1['site'] = 'Nr1'\n",
    "\n",
    "site = 'p301'\n",
    "exname = 'smex8_sen'\n",
    "method = '8'\n",
    "period = 'melt'\n",
    "P301 = pd.read_hdf('./data/%s_%s_%s_processed_for_SA.h5'%(site,exname,period),'df')\n",
    "P301['site'] = 'P301'"
   ]
  },
  {
   "cell_type": "code",
   "execution_count": 4,
   "metadata": {
    "collapsed": false
   },
   "outputs": [
    {
     "data": {
      "text/plain": [
       "Index(['MAP', 'PeakSWE', 'SMR', 'TpeakSWE', 'combo', 'idx', 'rd', 'ref',\n",
       "       'scenidx', 'sd', 'ET', 'Q', 'Qbf', 'Qrf', 'rech', 'sat', 'p',\n",
       "       'rz_storage', 'rz_drainage', 'unsat_storage', 'unsat_drainage',\n",
       "       'sat_def', 'sat_def_z', 'sm', 'gwStore', 'gwFlux', 'ETRate', 'Pmodel',\n",
       "       'Pex', 'wb', 'RR', 'ablRR', 'RR_ET', 'ablRR_ET', 'SMR_PeakSWE',\n",
       "       'TpeakSWE_PeakSWE', 'ablRR2', 'RR2', 'RR_ET2', 'ablRR_ET2', 'SMR2',\n",
       "       'PeakSWE2', 'TpeakSWE2', 'SMR_PeakSWE2', 'TpeakSWE_PeakSWE2', 'wb2',\n",
       "       'site'],\n",
       "      dtype='object')"
      ]
     },
     "execution_count": 4,
     "metadata": {},
     "output_type": "execute_result"
    }
   ],
   "source": [
    "Nr1.columns"
   ]
  },
  {
   "cell_type": "code",
   "execution_count": 3,
   "metadata": {
    "collapsed": true
   },
   "outputs": [],
   "source": [
    "# clean the data to remove scenarios where ET is greater than snowmelt\n",
    "Nr1 = Nr1.loc[Nr1.ablRR_ET>0]\n",
    "P301 = P301.loc[P301.ablRR_ET>0]"
   ]
  },
  {
   "cell_type": "code",
   "execution_count": null,
   "metadata": {
    "collapsed": true
   },
   "outputs": [],
   "source": [
    "dat = pd.concat([Nr1,P301])"
   ]
  },
  {
   "cell_type": "code",
   "execution_count": null,
   "metadata": {
    "collapsed": true
   },
   "outputs": [],
   "source": [
    "# define problem\n",
    "problem1 = {\n",
    "    'num_vars': 2,\n",
    "    'names': ['SMR', 'TpeakSWE'],\n",
    "    'bounds': [[-3.14159265359, 3.14159265359],\n",
    "               [-3.14159265359, 3.14159265359]]}\n",
    "\n",
    "problem2 = {\n",
    "    'num_vars': 3,\n",
    "    'names': ['SMR', 'TpeakSWE','rd'],\n",
    "    'bounds': [[-3.14159265359, 3.14159265359],\n",
    "               [-3.14159265359, 3.14159265359],\n",
    "               [-3.14159265359, 3.14159265359]]}\n",
    "\n",
    "problem3 = {\n",
    "    'num_vars': 4,\n",
    "    'names': ['SMR', 'TpeakSWE', 'rd','site'],\n",
    "    'bounds': [[-3.14159265359, 3.14159265359],\n",
    "               [-3.14159265359, 3.14159265359],\n",
    "               [-3.14159265359, 3.14159265359],\n",
    "               [-3.14159265359, 3.14159265359]]}"
   ]
  },
  {
   "cell_type": "code",
   "execution_count": null,
   "metadata": {
    "collapsed": true
   },
   "outputs": [],
   "source": [
    "resamp = 50\n",
    "console = False\n",
    "\n",
    "Yvars = []\n",
    "Sites = []\n",
    "outputs = []\n",
    "Problems = []\n",
    "for Yvar in ['ablRR_ET','wb']:\n",
    "    for problem in [problem1,problem2,problem3]:\n",
    "        for site in ['Nr1','P301','All']:\n",
    "            if site != 'All': # if a specific site is requested\n",
    "                if problem['num_vars'] > 2: # use all the rooting depths\n",
    "                    Y = dat.loc[(dat.site == site),Yvar].values\n",
    "                    X = dat.loc[(dat.site == site),problem['names']].values\n",
    "                else: # if the analysis includes only two variables, use optimal PAWS\n",
    "                    Y = dat.loc[(dat.site == site) & (dat.combo == 6),Yvar].values\n",
    "                    X = dat.loc[(dat.site == site) & (dat.combo == 6),problem['names']].values\n",
    "            else: # otherwise use all the sites\n",
    "                Y = dat[Yvar].values\n",
    "                X = dat[problem['names']].values\n",
    "                \n",
    "            Yvars.append(Yvar)\n",
    "            Sites.append(site)\n",
    "            outputs.append(delta.analyze(problem, X, Y, print_to_console=console, num_resamples=resamp))\n",
    "            Problems.append(problem)"
   ]
  },
  {
   "cell_type": "code",
   "execution_count": 15,
   "metadata": {
    "collapsed": true
   },
   "outputs": [],
   "source": [
    "# process the results\n",
    "dfs = []\n",
    "\n",
    "for Yvar,site,output,problem in zip(Yvars,Sites,outputs,Problems):\n",
    "    df = pd.DataFrame()\n",
    "    \n",
    "    df['delta'] = output['delta']\n",
    "    df['error'] = output['delta_conf']\n",
    "    df['parameter'] = problem['names']\n",
    "    df['variable'] = Yvar\n",
    "    df['site'] = site\n",
    "    df['problem'] = len(problem['names']) - 1\n",
    "    \n",
    "    dfs.append(df)\n",
    "    \n",
    "df = pd.concat(dfs)"
   ]
  },
  {
   "cell_type": "code",
   "execution_count": 16,
   "metadata": {
    "collapsed": true
   },
   "outputs": [],
   "source": [
    "def param2num(param):\n",
    "    if param == 'SMR':\n",
    "        return 1\n",
    "    if param == 'TpeakSWE':\n",
    "        return 2\n",
    "    if param == 'rd':\n",
    "        return 3\n",
    "    if param == 'site':\n",
    "        return 4"
   ]
  },
  {
   "cell_type": "code",
   "execution_count": 17,
   "metadata": {
    "collapsed": true
   },
   "outputs": [],
   "source": [
    "df['paramNum'] = df.parameter.map(param2num)"
   ]
  },
  {
   "cell_type": "code",
   "execution_count": 18,
   "metadata": {
    "collapsed": true
   },
   "outputs": [],
   "source": [
    "df.to_pickle('./data/si_analysis.pcl')"
   ]
  },
  {
   "cell_type": "code",
   "execution_count": 19,
   "metadata": {
    "collapsed": false
   },
   "outputs": [
    {
     "data": {
      "text/html": [
       "<div>\n",
       "<style scoped>\n",
       "    .dataframe tbody tr th:only-of-type {\n",
       "        vertical-align: middle;\n",
       "    }\n",
       "\n",
       "    .dataframe tbody tr th {\n",
       "        vertical-align: top;\n",
       "    }\n",
       "\n",
       "    .dataframe thead th {\n",
       "        text-align: right;\n",
       "    }\n",
       "</style>\n",
       "<table border=\"1\" class=\"dataframe\">\n",
       "  <thead>\n",
       "    <tr style=\"text-align: right;\">\n",
       "      <th></th>\n",
       "      <th>delta</th>\n",
       "      <th>error</th>\n",
       "      <th>parameter</th>\n",
       "      <th>variable</th>\n",
       "      <th>site</th>\n",
       "      <th>problem</th>\n",
       "      <th>paramNum</th>\n",
       "    </tr>\n",
       "  </thead>\n",
       "  <tbody>\n",
       "    <tr>\n",
       "      <th>0</th>\n",
       "      <td>0.184885</td>\n",
       "      <td>0.007589</td>\n",
       "      <td>SMR</td>\n",
       "      <td>ablRR_ET</td>\n",
       "      <td>Nr1</td>\n",
       "      <td>1</td>\n",
       "      <td>1</td>\n",
       "    </tr>\n",
       "    <tr>\n",
       "      <th>1</th>\n",
       "      <td>0.301171</td>\n",
       "      <td>0.006850</td>\n",
       "      <td>TpeakSWE</td>\n",
       "      <td>ablRR_ET</td>\n",
       "      <td>Nr1</td>\n",
       "      <td>1</td>\n",
       "      <td>2</td>\n",
       "    </tr>\n",
       "    <tr>\n",
       "      <th>0</th>\n",
       "      <td>0.320267</td>\n",
       "      <td>0.007254</td>\n",
       "      <td>SMR</td>\n",
       "      <td>ablRR_ET</td>\n",
       "      <td>P301</td>\n",
       "      <td>1</td>\n",
       "      <td>1</td>\n",
       "    </tr>\n",
       "    <tr>\n",
       "      <th>1</th>\n",
       "      <td>0.136785</td>\n",
       "      <td>0.006774</td>\n",
       "      <td>TpeakSWE</td>\n",
       "      <td>ablRR_ET</td>\n",
       "      <td>P301</td>\n",
       "      <td>1</td>\n",
       "      <td>2</td>\n",
       "    </tr>\n",
       "    <tr>\n",
       "      <th>0</th>\n",
       "      <td>0.203948</td>\n",
       "      <td>0.001337</td>\n",
       "      <td>SMR</td>\n",
       "      <td>ablRR_ET</td>\n",
       "      <td>All</td>\n",
       "      <td>1</td>\n",
       "      <td>1</td>\n",
       "    </tr>\n",
       "  </tbody>\n",
       "</table>\n",
       "</div>"
      ],
      "text/plain": [
       "      delta     error parameter  variable  site  problem  paramNum\n",
       "0  0.184885  0.007589       SMR  ablRR_ET   Nr1        1         1\n",
       "1  0.301171  0.006850  TpeakSWE  ablRR_ET   Nr1        1         2\n",
       "0  0.320267  0.007254       SMR  ablRR_ET  P301        1         1\n",
       "1  0.136785  0.006774  TpeakSWE  ablRR_ET  P301        1         2\n",
       "0  0.203948  0.001337       SMR  ablRR_ET   All        1         1"
      ]
     },
     "execution_count": 19,
     "metadata": {},
     "output_type": "execute_result"
    }
   ],
   "source": [
    "df.head()"
   ]
  },
  {
   "cell_type": "markdown",
   "metadata": {},
   "source": [
    "# Plotting\n",
    "\n",
    "Make one two pannel plot with runoff on the left and change in subsurface storage on the right\n",
    "\n",
    "Colors == different SA problems\n",
    "\n",
    "Symbols == different sites"
   ]
  },
  {
   "cell_type": "code",
   "execution_count": 20,
   "metadata": {
    "collapsed": false,
    "scrolled": true
   },
   "outputs": [
    {
     "data": {
      "image/png": "[encoded data removed]",
      "text/plain": [
       "<Figure size 1080x360 with 2 Axes>"
      ]
     },
     "metadata": {
      "needs_background": "light"
     },
     "output_type": "display_data"
    }
   ],
   "source": [
    "tmps = []\n",
    "titleFont = 18\n",
    "markerSize = 15\n",
    "xlabels = ['Snowmelt\\nRate', 'Snowmelt\\nTiming','Plant Available\\nWater Storage','Site']\n",
    "xticks = np.arange(1,len(xlabels)+1)\n",
    "\n",
    "problems = [1,2,3]\n",
    "colors = ['#1b9e77','#d95f02','#7570b3']\n",
    "sites = ['Nr1','P301','All']\n",
    "siteLabels = ['CO','CA','All']\n",
    "siteSymbs = ['o','^','d']\n",
    "titles = ['R','$\\Delta$S']\n",
    "variables = ['ablRR_ET','wb']\n",
    "\n",
    "fig = plt.figure(figsize=(15,5))\n",
    "ax1 = fig.add_subplot(121)\n",
    "ax2 = fig.add_subplot(122)\n",
    "\n",
    "axs = [ax1,ax2]\n",
    "for ax,title,var in zip(axs,titles,variables):\n",
    "    plt.sca(ax)\n",
    "    plt.title(title, fontsize = titleFont)\n",
    "\n",
    "    for problem,color in zip(problems,colors):\n",
    "        #sites = df.loc[(df.problem == problem) & (df.variable == var)].site.unique()\n",
    "        if problem < 3:\n",
    "            sites = ['Nr1','P301']\n",
    "        else:\n",
    "            sites = ['All']\n",
    "        for i,site in enumerate(sites):\n",
    "            label = siteLabels[i]\n",
    "            symb = siteSymbs[i]\n",
    "\n",
    "            if len(sites) == 1:\n",
    "                label = siteLabels[2]\n",
    "                symb = siteSymbs[2]\n",
    "\n",
    "            tmp = df.loc[(df.problem == problem) & (df.site == site) & (df.variable == var)]\n",
    "\n",
    "            ax.errorbar(tmp.paramNum, tmp.delta, yerr=tmp.error, fmt=symb, color = color, label = label,\n",
    "                         markersize = markerSize)\n",
    "            tmps.append(tmp)\n",
    "\n",
    "        plt.xticks(ticks = xticks, labels = xlabels)\n",
    "\n",
    "# do the legend\n",
    "custom_lines = [Patch(facecolor=colors[0], edgecolor=colors[0],label='Optimized PAWS'),\n",
    "                Patch(facecolor=colors[1], edgecolor=colors[1],label='All PAWS'),\n",
    "                Patch(facecolor=colors[2], edgecolor=colors[2],label='All Factors'),\n",
    "                Line2D([0], [0], color='k', marker=siteSymbs[0], lw=0, markersize=8,label = 'CO'),\n",
    "                Line2D([0], [0], color='k', marker=siteSymbs[1], lw=0, markersize=8, label = 'CA'),\n",
    "                Line2D([0], [0], color='k', marker=siteSymbs[2], lw=0, markersize=8, label = 'All')]\n",
    "                       \n",
    "plt.legend(handles=custom_lines);"
   ]
  },
  {
   "cell_type": "markdown",
   "metadata": {},
   "source": [
    "# Little confusing, break in to 6 panels:"
   ]
  },
  {
   "cell_type": "code",
   "execution_count": 22,
   "metadata": {
    "collapsed": false,
    "scrolled": false
   },
   "outputs": [
    {
     "data": {
      "image/png": "[encoded data removed]",
      "text/plain": [
       "<Figure size 864x1080 with 6 Axes>"
      ]
     },
     "metadata": {
      "needs_background": "light"
     },
     "output_type": "display_data"
    }
   ],
   "source": [
    "tmps = []\n",
    "titleFont = 18\n",
    "markerSize = 15\n",
    "xlabels = ['Snowmelt\\nRate', 'Snowmelt\\nTiming','Plant Available\\nWater Storage','Site']\n",
    "xticks = np.arange(1,len(xlabels)+1)\n",
    "\n",
    "titles2 = ['Optimized PAWS','All PAWS','All PAWS and Sites']\n",
    "\n",
    "problems = [1,2,3]\n",
    "colors = ['#1b9e77','#d95f02','#7570b3']\n",
    "sites = ['Nr1','P301','All']\n",
    "siteLabels = ['CO','CA','All']\n",
    "siteSymbs = ['o','^','d']\n",
    "titles = ['R','$\\Delta$S']\n",
    "variables = ['ablRR_ET','wb']\n",
    "\n",
    "fig = plt.figure(figsize=(12,15))\n",
    "ax1 = fig.add_subplot(321)\n",
    "ax2 = fig.add_subplot(322)\n",
    "ax3 = fig.add_subplot(323)\n",
    "ax4 = fig.add_subplot(324)\n",
    "ax5 = fig.add_subplot(325)\n",
    "ax6 = fig.add_subplot(326)\n",
    "\n",
    "# do the legend\n",
    "custom_lines = [Line2D([0], [0], color='k', marker=siteSymbs[0], lw=0, markersize=8,label = 'CO'),\n",
    "                Line2D([0], [0], color='k', marker=siteSymbs[1], lw=0, markersize=8, label = 'CA'),\n",
    "                Line2D([0], [0], color='k', marker=siteSymbs[2], lw=0, markersize=8, label = 'All')]\n",
    "\n",
    "axes = [[ax1,ax3,ax5],[ax2,ax4,ax6]] \n",
    "\n",
    "for axs,title,var in zip(axes,titles,variables):\n",
    "    for ax,problem in zip(axs,problems):\n",
    "        plt.sca(ax)\n",
    "        plt.title(title, fontsize = titleFont)\n",
    "        #sites = df.loc[(df.problem == problem) & (df.variable == var)].site.unique()\n",
    "        if problem < 3:\n",
    "            sites = ['Nr1','P301']\n",
    "        else:\n",
    "            sites = ['All']\n",
    "        for i,site in enumerate(sites):\n",
    "            label = siteLabels[i]\n",
    "            symb = siteSymbs[i]\n",
    "\n",
    "            if len(sites) == 1:\n",
    "                label = siteLabels[2]\n",
    "                symb = siteSymbs[2]\n",
    "\n",
    "            tmp = df.loc[(df.problem == problem) & (df.site == site) & (df.variable == var)]\n",
    "\n",
    "            ax.errorbar(tmp.paramNum, tmp.delta, yerr=tmp.error, fmt=symb, color = 'k', label = label,\n",
    "                         markersize = markerSize)\n",
    "            tmps.append(tmp)\n",
    "            plt.xlim(0.25,4.75)\n",
    "            plt.xticks(ticks = xticks[0:problem+1], labels = xlabels[0:problem+1])\n",
    "            \n",
    "            l = len(sites)\n",
    "            if l == 1:\n",
    "                plt.legend(handles=[custom_lines[2]]);\n",
    "            else:\n",
    "                plt.legend(handles=custom_lines[0:l]);\n",
    "            \n",
    "for ax,title,lab in zip([ax1,ax3,ax5],titles2, ['(a)','(b)','(c)']):\n",
    "    ax.set_ylabel('$\\delta$', fontsize = 18)\n",
    "    ax.set_title('%s R: %s'%(lab,title))\n",
    "    \n",
    "for ax,title,lab in zip([ax2,ax4,ax6],titles2,['(d)','(e)','(f)']):\n",
    "    ax.set_ylabel('$\\delta$', fontsize = 18)\n",
    "    ax.set_title('%s $\\Delta$S: %s'%(lab,title))\n",
    "    \n",
    "plt.savefig(\"./figures/SI_analysis_6panel.pdf\", bbox_inches='tight')\n",
    "plt.savefig(\"./figures/SI_analysis_6panel.png\", bbox_inches='tight', dpi=300)"
   ]
  },
  {
   "cell_type": "code",
   "execution_count": null,
   "metadata": {
    "collapsed": true
   },
   "outputs": [],
   "source": []
  }
 ],
 "metadata": {
  "kernelspec": {
   "display_name": "python 3.7",
   "language": "python",
   "name": "py37"
  },
  "language_info": {
   "codemirror_mode": {
    "name": "ipython",
    "version": 3
   },
   "file_extension": ".py",
   "mimetype": "text/x-python",
   "name": "python",
   "nbconvert_exporter": "python",
   "pygments_lexer": "ipython3",
   "version": "3.7.3"
  }
 },
 "nbformat": 4,
 "nbformat_minor": 2
}
