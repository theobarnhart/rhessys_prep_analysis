{
 "cells": [
  {
   "cell_type": "markdown",
   "metadata": {},
   "source": [
    "# Preamble\n",
    "\n",
    "Theodore Barnhart | tbarnhart@usgs.gov | theodore.barnhart@colorado.edu | April 6, 2019\n",
    "\n",
    "This notebook explores global parameter sensivitivty using the dela-moment method (Plischke et al., 2013).\n",
    "\n",
    "This is done via two analyses:\n",
    "\n",
    "**Analysis 1:**\n",
    "SA is run on outputs with only optimized rooting depth (combo == 6)\n",
    "\n",
    "**Analysis 2:**\n",
    "SA is run on outputs with all rooting depths to assess the importance of plant available water storage (PAWS)."
   ]
  },
  {
   "cell_type": "code",
   "execution_count": 1,
   "metadata": {},
   "outputs": [],
   "source": [
    "import pandas as pd\n",
    "from SALib.analyze import delta\n",
    "import matplotlib.pyplot as plt"
   ]
  },
  {
   "cell_type": "markdown",
   "metadata": {},
   "source": [
    "## Load Data"
   ]
  },
  {
   "cell_type": "code",
   "execution_count": 2,
   "metadata": {},
   "outputs": [],
   "source": [
    "# load data\n",
    "site = 'Nr1'\n",
    "exname = 'smex8_sen'\n",
    "method = '8'\n",
    "period = 'melt'\n",
    "Nr1 = pd.read_hdf('./data/%s_%s_%s_processed_for_SA.h5'%(site,exname,period),'df') # load the first experiment\n",
    "\n",
    "site = 'p301'\n",
    "exname = 'smex8_sen'\n",
    "method = '8'\n",
    "period = 'melt'\n",
    "P301 = pd.read_hdf('./data/%s_%s_%s_processed_for_SA.h5'%(site,exname,period),'df')"
   ]
  },
  {
   "cell_type": "code",
   "execution_count": 3,
   "metadata": {},
   "outputs": [],
   "source": [
    "# clean the data to remove scenarios where ET is greater than snowmelt\n",
    "Nr1 = Nr1.loc[Nr1.ablRR_ET>0]\n",
    "P301 = P301.loc[P301.ablRR_ET>0]"
   ]
  },
  {
   "cell_type": "code",
   "execution_count": 4,
   "metadata": {},
   "outputs": [],
   "source": [
    "def plotSI(Si, problem, figsize=(6,4)):\n",
    "    figsize = (6,4)\n",
    "    xax = np.arange(1,len(Si['delta'])+1)\n",
    "    fig = plt.figure(figsize=figsize)\n",
    "    ax = fig.add_subplot(111)\n",
    "    ax.errorbar(xax,Si['delta'],yerr=Si['delta_conf'],fmt = '.');\n",
    "    plt.xticks(ticks=xax, labels=problem['names'], fontsize = 14);\n",
    "    ax.set_xlabel('Parameter', fontsize = 16);\n",
    "    ax.set_ylabel('$\\delta$', fontsize= 16);\n",
    "    return ax"
   ]
  },
  {
   "cell_type": "markdown",
   "metadata": {},
   "source": [
    "# Analysis 1"
   ]
  },
  {
   "cell_type": "code",
   "execution_count": 5,
   "metadata": {},
   "outputs": [],
   "source": [
    "# define problem\n",
    "problem = {\n",
    "    'num_vars': 3,\n",
    "    'names': ['SMR', 'SMT', 'PeakSWE'],\n",
    "    'bounds': [[-3.14159265359, 3.14159265359],\n",
    "               [-3.14159265359, 3.14159265359],\n",
    "               [-3.14159265359, 3.14159265359]]}"
   ]
  },
  {
   "cell_type": "code",
   "execution_count": 6,
   "metadata": {},
   "outputs": [],
   "source": [
    "# define problem\n",
    "problem = {\n",
    "    'num_vars': 2,\n",
    "    'names': ['SMR', 'SMT'],\n",
    "    'bounds': [[-3.14159265359, 3.14159265359],\n",
    "               [-3.14159265359, 3.14159265359]]}"
   ]
  },
  {
   "cell_type": "code",
   "execution_count": 7,
   "metadata": {},
   "outputs": [],
   "source": [
    "#Nr1X = Nr1.loc[Nr1.combo == 6,['SMR','TpeakSWE','PeakSWE']].copy().values # get input parameters\n",
    "Nr1X = Nr1.loc[Nr1.combo == 6,['SMR','TpeakSWE']].copy().values # get input parameters\n",
    "#Nr1Y = Nr1.loc[Nr1.combo == 6,'ablRR_ET'].copy().values # get output\n",
    "Nr1Y = Nr1.loc[Nr1.combo == 6,'wb'].copy().values # get output\n",
    "\n",
    "#P301X = P301.loc[P301.combo == 6,['SMR','TpeakSWE','PeakSWE']].copy().values # get input parameters\n",
    "P301X = P301.loc[P301.combo == 6,['SMR','TpeakSWE']].copy().values # get input parameters\n",
    "#P301Y = P301.loc[P301.combo == 6,'ablRR_ET'].copy().values # get output\n",
    "P301Y = P301.loc[P301.combo == 6,'wb'].copy().values # get output"
   ]
  },
  {
   "cell_type": "code",
   "execution_count": 8,
   "metadata": {},
   "outputs": [],
   "source": [
    "# compute the delta method sensitivity analysis\n",
    "Nr1Si = delta.analyze(problem, Nr1X, Nr1Y, print_to_console=False, num_resamples=50)\n",
    "P301Si = delta.analyze(problem, P301X, P301Y, print_to_console=False, num_resamples=50)"
   ]
  },
  {
   "cell_type": "markdown",
   "metadata": {},
   "source": [
    "# Analysis 2"
   ]
  },
  {
   "cell_type": "code",
   "execution_count": 9,
   "metadata": {},
   "outputs": [],
   "source": [
    "problem2 = {\n",
    "    'num_vars': 4,\n",
    "    'names': ['SMR', 'SMT', 'PeakSWE','RD'],\n",
    "    'bounds': [[-3.14159265359, 3.14159265359],\n",
    "               [-3.14159265359, 3.14159265359],\n",
    "               [-3.14159265359, 3.14159265359],\n",
    "               [-3.14159265359, 3.14159265359]]}"
   ]
  },
  {
   "cell_type": "code",
   "execution_count": 10,
   "metadata": {},
   "outputs": [],
   "source": [
    "problem2 = {\n",
    "    'num_vars': 3,\n",
    "    'names': ['SMR', 'SMT','RD'],\n",
    "    'bounds': [[-3.14159265359, 3.14159265359],\n",
    "               [-3.14159265359, 3.14159265359],\n",
    "               [-3.14159265359, 3.14159265359]]}"
   ]
  },
  {
   "cell_type": "code",
   "execution_count": 11,
   "metadata": {},
   "outputs": [],
   "source": [
    "#Nr1X = Nr1[['SMR','TpeakSWE','PeakSWE','rd']].copy().values # get input parameters\n",
    "Nr1X = Nr1[['SMR','TpeakSWE','rd']].copy().values # get input parameters\n",
    "#Nr1Y = Nr1['ablRR_ET'].copy().values # get output\n",
    "Nr1Y = Nr1['wb'].copy().values # get output\n",
    "\n",
    "#P301X = P301[['SMR','TpeakSWE','PeakSWE','rd']].copy().values # get input parameters\n",
    "P301X = P301[['SMR','TpeakSWE','rd']].copy().values # get input parameters\n",
    "#P301Y = P301['ablRR_ET'].copy().values # get output\n",
    "P301Y = P301['wb'].copy().values # get output"
   ]
  },
  {
   "cell_type": "code",
   "execution_count": 12,
   "metadata": {},
   "outputs": [],
   "source": [
    "# compute the delta method sensitivity analysis\n",
    "Nr1Siall = delta.analyze(problem2, Nr1X, Nr1Y, print_to_console=False, num_resamples=50)\n",
    "P301Siall = delta.analyze(problem2, P301X, P301Y, print_to_console=False, num_resamples=50)"
   ]
  },
  {
   "cell_type": "markdown",
   "metadata": {},
   "source": [
    "# Collate data into dataframe"
   ]
  },
  {
   "cell_type": "code",
   "execution_count": 13,
   "metadata": {},
   "outputs": [],
   "source": [
    "dat = pd.DataFrame()\n",
    "dat['value'] = Nr1Si['delta']\n",
    "dat['error'] = Nr1Si['delta_conf']\n",
    "dat['parameter'] = problem['names']\n",
    "dat['site'] = 'Nr1'\n",
    "dat['analysis'] = 'Optimal PAWS'\n",
    "\n",
    "tmp = pd.DataFrame()\n",
    "tmp['value'] = P301Si['delta']\n",
    "tmp['error'] = P301Si['delta_conf']\n",
    "tmp['parameter'] = problem['names']\n",
    "tmp['site'] = 'P301'\n",
    "tmp['analysis'] = 'Optimal PAWS'\n",
    "\n",
    "dat = pd.concat([dat,tmp])\n",
    "\n",
    "tmp = pd.DataFrame()\n",
    "tmp['value'] = P301Siall['delta']\n",
    "tmp['error'] = P301Siall['delta_conf']\n",
    "tmp['parameter'] = problem2['names']\n",
    "tmp['site'] = 'P301'\n",
    "tmp['analysis'] = 'All PAWS'\n",
    "\n",
    "dat = pd.concat([dat, tmp])\n",
    "\n",
    "tmp = pd.DataFrame()\n",
    "tmp['value'] = Nr1Siall['delta']\n",
    "tmp['error'] = Nr1Siall['delta_conf']\n",
    "tmp['parameter'] = problem2['names']\n",
    "tmp['site'] = 'Nr1'\n",
    "tmp['analysis'] = 'All PAWS'\n",
    "\n",
    "dat = pd.concat([dat, tmp])\n",
    "\n",
    "dat.reset_index(inplace=True)\n",
    "del dat['index']"
   ]
  },
  {
   "cell_type": "code",
   "execution_count": 14,
   "metadata": {},
   "outputs": [],
   "source": [
    "def param2num(param):\n",
    "    if param == 'SMR':\n",
    "        return 1\n",
    "    if param == 'SMT':\n",
    "        return 2\n",
    "    if param == 'PeakSWE':\n",
    "        return 0\n",
    "    if param == 'RD':\n",
    "        return 3"
   ]
  },
  {
   "cell_type": "code",
   "execution_count": 15,
   "metadata": {},
   "outputs": [],
   "source": [
    "dat['paramNum'] = dat.parameter.map(param2num)"
   ]
  },
  {
   "cell_type": "code",
   "execution_count": 16,
   "metadata": {},
   "outputs": [],
   "source": [
    "#dat.to_pickle('./data/smex8_SA_delta.pcl')"
   ]
  },
  {
   "cell_type": "markdown",
   "metadata": {},
   "source": [
    "# Plotting!"
   ]
  },
  {
   "cell_type": "code",
   "execution_count": 17,
   "metadata": {},
   "outputs": [
    {
     "data": {
      "text/plain": [
       "([<matplotlib.axis.XTick at 0x126f05d30>,\n",
       "  <matplotlib.axis.XTick at 0x126f05668>,\n",
       "  <matplotlib.axis.XTick at 0x126f05390>],\n",
       " <a list of 3 Text xticklabel objects>)"
      ]
     },
     "execution_count": 17,
     "metadata": {},
     "output_type": "execute_result"
    },
    {
     "data": {
      "image/png": "[encoded data removed]",
      "text/plain": [
       "<Figure size 720x288 with 2 Axes>"
      ]
     },
     "metadata": {
      "needs_background": "light"
     },
     "output_type": "display_data"
    }
   ],
   "source": [
    "#xlabels = ['Snowmelt\\nRate', 'Snowmelt\\nTiming','Snowmelt\\nAmount','Plant Available\\nWater Storage']\n",
    "xlabels = ['Snowmelt\\nRate', 'Snowmelt\\nTiming','Plant Available\\nWater Storage']\n",
    "xticks = np.arange(1,len(xlabels)+1)\n",
    "\n",
    "fig = plt.figure(figsize = (10,4))\n",
    "ax1 = fig.add_subplot(121)\n",
    "plt.title('CO', fontsize = 18)\n",
    "\n",
    "site = 'Nr1'\n",
    "\n",
    "tmp = dat.loc[(dat.site==site) & (dat.analysis == 'Optimal PAWS')]\n",
    "plt.errorbar(tmp['paramNum'], tmp['value'], yerr=tmp['error'], fmt = 'o', c='orange',label = 'Optimal PAWS')\n",
    "\n",
    "tmp = dat.loc[(dat.site==site) & (dat.analysis == 'All PAWS')]\n",
    "plt.errorbar(tmp['paramNum'], tmp['value'], yerr=tmp['error'], fmt = 'o', c='blue',label = 'All PAWS')\n",
    "\n",
    "plt.xticks(ticks=xticks,labels=xlabels, fontsize = 11)\n",
    "plt.ylabel('$\\delta$ (sensitivity measure)', fontsize = 16)\n",
    "\n",
    "ax2 = fig.add_subplot(122)\n",
    "plt.title('CA', fontsize = 18)\n",
    "\n",
    "site = 'P301'\n",
    "\n",
    "tmp = dat.loc[(dat.site==site) & (dat.analysis == 'Optimal PAWS')]\n",
    "plt.errorbar(tmp['paramNum'], tmp['value'], yerr=tmp['error'], fmt = 'o', c='orange',label = 'Optimal PAWS')\n",
    "\n",
    "tmp = dat.loc[(dat.site==site) & (dat.analysis == 'All PAWS')]\n",
    "plt.errorbar(tmp['paramNum'], tmp['value'], yerr=tmp['error'], fmt = 'o', c='blue',label = 'All PAWS')\n",
    "\n",
    "plt.legend()\n",
    "\n",
    "plt.xticks(ticks=xticks,labels=xlabels, fontsize = 11)"
   ]
  },
  {
   "cell_type": "code",
   "execution_count": null,
   "metadata": {},
   "outputs": [],
   "source": []
  }
 ],
 "metadata": {
  "kernelspec": {
   "display_name": "python 3.7",
   "language": "python",
   "name": "py37"
  },
  "language_info": {
   "codemirror_mode": {
    "name": "ipython",
    "version": 3
   },
   "file_extension": ".py",
   "mimetype": "text/x-python",
   "name": "python",
   "nbconvert_exporter": "python",
   "pygments_lexer": "ipython3",
   "version": "3.7.3"
  }
 },
 "nbformat": 4,
 "nbformat_minor": 2
}
