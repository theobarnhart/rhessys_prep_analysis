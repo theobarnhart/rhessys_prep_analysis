{
 "cells": [
  {
   "cell_type": "markdown",
   "metadata": {},
   "source": [
    "# Preamble\n",
    "\n",
    "Theodore Barnhart | tbarnhart@usgs.gov | theodore.barnhart@colorado.edu | April 6, 2019\n",
    "\n",
    "This notebook explores global parameter sensivitivty using the dela-moment method (Plischke et al., 2013).\n",
    "\n",
    "This is done via three analyses on two datasets, making six sensitivity analysese:\n",
    "\n",
    "**Analysis 1:**\n",
    "SA is run on outputs with only optimized rooting depth (combo == 6)\n",
    "\n",
    "**Analysis 2:**\n",
    "SA is run on outputs with all rooting depths to assess the importance of plant available water storage (PAWS).\n",
    "\n",
    "**Analysis 3:**\n",
    "SA is run on outputs with all rooting depths and sites.\n",
    "\n",
    "**Dataset 1:**\n",
    "Ablation season runoff ratio (abblRR_ET)\n",
    "\n",
    "**Dataset 2:**\n",
    "Ablation season change in subsurface storage (wb)"
   ]
  },
  {
   "cell_type": "code",
   "execution_count": 78,
   "metadata": {},
   "outputs": [],
   "source": [
    "import pandas as pd\n",
    "from SALib.analyze import delta\n",
    "import matplotlib.pyplot as plt\n",
    "from matplotlib.lines import Line2D\n",
    "from matplotlib.patches import Patch"
   ]
  },
  {
   "cell_type": "markdown",
   "metadata": {},
   "source": [
    "## Load Data"
   ]
  },
  {
   "cell_type": "code",
   "execution_count": 2,
   "metadata": {},
   "outputs": [],
   "source": [
    "# load data\n",
    "site = 'Nr1'\n",
    "exname = 'smex8_sen'\n",
    "method = '8'\n",
    "period = 'melt'\n",
    "Nr1 = pd.read_hdf('./data/%s_%s_%s_processed_for_SA.h5'%(site,exname,period),'df') # load the first experiment\n",
    "Nr1['site'] = 'Nr1'\n",
    "\n",
    "site = 'p301'\n",
    "exname = 'smex8_sen'\n",
    "method = '8'\n",
    "period = 'melt'\n",
    "P301 = pd.read_hdf('./data/%s_%s_%s_processed_for_SA.h5'%(site,exname,period),'df')\n",
    "P301['site'] = 'P301'"
   ]
  },
  {
   "cell_type": "code",
   "execution_count": 3,
   "metadata": {},
   "outputs": [],
   "source": [
    "# clean the data to remove scenarios where ET is greater than snowmelt\n",
    "Nr1 = Nr1.loc[Nr1.ablRR_ET>0]\n",
    "P301 = P301.loc[P301.ablRR_ET>0]"
   ]
  },
  {
   "cell_type": "code",
   "execution_count": 5,
   "metadata": {},
   "outputs": [],
   "source": [
    "dat = pd.concat([Nr1,P301])"
   ]
  },
  {
   "cell_type": "code",
   "execution_count": 6,
   "metadata": {},
   "outputs": [],
   "source": [
    "# define problem\n",
    "problem1 = {\n",
    "    'num_vars': 2,\n",
    "    'names': ['SMR', 'TpeakSWE'],\n",
    "    'bounds': [[-3.14159265359, 3.14159265359],\n",
    "               [-3.14159265359, 3.14159265359]]}\n",
    "\n",
    "problem2 = {\n",
    "    'num_vars': 3,\n",
    "    'names': ['SMR', 'TpeakSWE','rd'],\n",
    "    'bounds': [[-3.14159265359, 3.14159265359],\n",
    "               [-3.14159265359, 3.14159265359],\n",
    "               [-3.14159265359, 3.14159265359]]}\n",
    "\n",
    "problem3 = {\n",
    "    'num_vars': 4,\n",
    "    'names': ['SMR', 'TpeakSWE', 'rd','site'],\n",
    "    'bounds': [[-3.14159265359, 3.14159265359],\n",
    "               [-3.14159265359, 3.14159265359],\n",
    "               [-3.14159265359, 3.14159265359],\n",
    "               [-3.14159265359, 3.14159265359]]}"
   ]
  },
  {
   "cell_type": "code",
   "execution_count": 9,
   "metadata": {},
   "outputs": [
    {
     "name": "stdout",
     "output_type": "stream",
     "text": [
      "Parameter delta delta_conf S1 S1_conf\n",
      "SMR 0.183905 0.007927 0.234695 0.018625\n",
      "TpeakSWE 0.300084 0.006470 0.514652 0.013580\n",
      "Parameter delta delta_conf S1 S1_conf\n",
      "SMR 0.319906 0.009045 0.569431 0.018744\n",
      "TpeakSWE 0.137338 0.007507 0.097525 0.011743\n",
      "Parameter delta delta_conf S1 S1_conf\n",
      "SMR 0.203888 0.001899 0.240872 0.003017\n",
      "TpeakSWE 0.158233 0.001188 0.151007 0.002965\n",
      "Parameter delta delta_conf S1 S1_conf\n",
      "SMR 0.189633 0.001591 0.141974 0.003237\n",
      "TpeakSWE 0.254288 0.001902 0.310058 0.004316\n",
      "rd 0.276609 0.001170 0.184382 0.001997\n",
      "Parameter delta delta_conf S1 S1_conf\n",
      "SMR 0.247360 0.002072 0.403615 0.005502\n",
      "TpeakSWE 0.168720 0.002221 0.077521 0.002245\n",
      "rd 0.229779 0.003010 0.192470 0.002291\n",
      "Parameter delta delta_conf S1 S1_conf\n",
      "SMR 0.203784 0.001192 0.240872 0.003168\n",
      "TpeakSWE 0.158277 0.001241 0.151007 0.002604\n",
      "rd 0.277985 0.001481 0.188195 0.001479\n",
      "Parameter delta delta_conf S1 S1_conf\n",
      "SMR 0.189490 0.001617 0.141974 0.002628\n",
      "TpeakSWE 0.255124 0.002380 0.310058 0.004746\n",
      "rd 0.276590 0.001636 0.184382 0.002020\n",
      "site 0.126525 0.001023 0.002825 0.000123\n",
      "Parameter delta delta_conf S1 S1_conf\n",
      "SMR 0.248009 0.001793 0.403615 0.005570\n",
      "TpeakSWE 0.168725 0.001707 0.077521 0.002787\n",
      "rd 0.229588 0.001817 0.192470 0.002696\n",
      "site 0.078171 0.000744 0.003138 0.000133\n",
      "Parameter delta delta_conf S1 S1_conf\n",
      "SMR 0.204007 0.001487 0.240872 0.004234\n",
      "TpeakSWE 0.158157 0.001411 0.151007 0.003927\n",
      "rd 0.278112 0.001423 0.188195 0.001522\n",
      "site 0.135619 0.001384 0.002106 0.000158\n",
      "Parameter delta delta_conf S1 S1_conf\n",
      "SMR 0.057617 0.007094 0.043736 0.008246\n",
      "TpeakSWE 0.082069 0.005723 0.077228 0.007974\n",
      "Parameter delta delta_conf S1 S1_conf\n",
      "SMR 0.166725 0.007991 0.226015 0.013951\n",
      "TpeakSWE 0.170671 0.007310 0.217045 0.015383\n",
      "Parameter delta delta_conf S1 S1_conf\n",
      "SMR 0.151563 0.001306 0.139086 0.002154\n",
      "TpeakSWE 0.212777 0.001418 0.173874 0.002978\n",
      "Parameter delta delta_conf S1 S1_conf\n",
      "SMR 0.106243 0.002249 0.094703 0.002353\n",
      "TpeakSWE 0.170447 0.001617 0.233146 0.003261\n",
      "rd 0.047193 0.000967 0.015087 0.001253\n",
      "Parameter delta delta_conf S1 S1_conf\n",
      "SMR 0.166662 0.001938 0.203860 0.002749\n",
      "TpeakSWE 0.137256 0.002184 0.123341 0.002855\n",
      "rd 0.048514 0.001279 0.019320 0.001140\n",
      "Parameter delta delta_conf S1 S1_conf\n",
      "SMR 0.151254 0.001558 0.139086 0.002017\n",
      "TpeakSWE 0.212723 0.001684 0.173874 0.002959\n",
      "rd 0.211344 0.003118 0.058830 0.001931\n",
      "Parameter delta delta_conf S1 S1_conf\n",
      "SMR 0.106447 0.002356 0.094703 0.002458\n",
      "TpeakSWE 0.170166 0.002000 0.233146 0.003570\n",
      "rd 0.047061 0.001637 0.015087 0.001202\n",
      "site 0.088851 0.001576 0.003934 0.000156\n",
      "Parameter delta delta_conf S1 S1_conf\n",
      "SMR 0.166398 0.002434 0.203860 0.003271\n",
      "TpeakSWE 0.136947 0.002161 0.123341 0.003406\n",
      "rd 0.048426 0.001532 0.019320 0.001492\n",
      "site 0.087382 0.001211 0.005253 0.000132\n",
      "Parameter delta delta_conf S1 S1_conf\n",
      "SMR 0.151259 0.001374 0.139086 0.002242\n",
      "TpeakSWE 0.212770 0.001551 0.173874 0.002550\n",
      "rd 0.211372 0.002551 0.058830 0.001719\n",
      "site 0.258941 0.001323 0.056807 0.001281\n"
     ]
    }
   ],
   "source": [
    "resamp = 25\n",
    "console = False\n",
    "\n",
    "Yvars = []\n",
    "Sites = []\n",
    "outputs = []\n",
    "Problems = []\n",
    "for Yvar in ['ablRR_ET','wb']:\n",
    "    for problem in [problem1,problem2,problem3]:\n",
    "        for site in ['Nr1','P301','All']:\n",
    "            if site != 'All': # if a specific site is requested\n",
    "                if problem['num_vars'] > 2: # use all the rooting depths\n",
    "                    Y = dat.loc[(dat.site == site),Yvar].values\n",
    "                    X = dat.loc[(dat.site == site),problem['names']].values\n",
    "                else: # if the analysis includes only two variables, use optimal PAWS\n",
    "                    Y = dat.loc[(dat.site == site) & (dat.combo == 6),Yvar].values\n",
    "                    X = dat.loc[(dat.site == site) & (dat.combo == 6),problem['names']].values\n",
    "            else: # otherwise use all the sites\n",
    "                Y = dat[Yvar].values\n",
    "                X = dat[problem['names']].values\n",
    "                \n",
    "            Yvars.append(Yvar)\n",
    "            Sites.append(site)\n",
    "            outputs.append(delta.analyze(problem, X, Y, print_to_console=console, num_resamples=resamp))\n",
    "            Problems.append(problem)"
   ]
  },
  {
   "cell_type": "code",
   "execution_count": 13,
   "metadata": {},
   "outputs": [],
   "source": [
    "# process the results\n",
    "dfs = []\n",
    "\n",
    "for Yvar,site,output,problem in zip(Yvars,Sites,outputs,Problems):\n",
    "    df = pd.DataFrame()\n",
    "    \n",
    "    df['delta'] = output['delta']\n",
    "    df['error'] = output['delta_conf']\n",
    "    df['parameter'] = problem['names']\n",
    "    df['variable'] = Yvar\n",
    "    df['site'] = site\n",
    "    df['problem'] = len(problem['names']) - 1\n",
    "    \n",
    "    dfs.append(df)\n",
    "    \n",
    "df = pd.concat(dfs)"
   ]
  },
  {
   "cell_type": "code",
   "execution_count": 22,
   "metadata": {},
   "outputs": [],
   "source": [
    "def param2num(param):\n",
    "    if param == 'SMR':\n",
    "        return 1\n",
    "    if param == 'TpeakSWE':\n",
    "        return 2\n",
    "    if param == 'rd':\n",
    "        return 3\n",
    "    if param == 'site':\n",
    "        return 4"
   ]
  },
  {
   "cell_type": "code",
   "execution_count": 23,
   "metadata": {},
   "outputs": [],
   "source": [
    "df['paramNum'] = df.parameter.map(param2num)"
   ]
  },
  {
   "cell_type": "code",
   "execution_count": 24,
   "metadata": {},
   "outputs": [],
   "source": [
    "df.to_pickle('./data/si_analysis.pcl')"
   ]
  },
  {
   "cell_type": "code",
   "execution_count": 25,
   "metadata": {},
   "outputs": [
    {
     "data": {
      "text/html": [
       "<div>\n",
       "<style scoped>\n",
       "    .dataframe tbody tr th:only-of-type {\n",
       "        vertical-align: middle;\n",
       "    }\n",
       "\n",
       "    .dataframe tbody tr th {\n",
       "        vertical-align: top;\n",
       "    }\n",
       "\n",
       "    .dataframe thead th {\n",
       "        text-align: right;\n",
       "    }\n",
       "</style>\n",
       "<table border=\"1\" class=\"dataframe\">\n",
       "  <thead>\n",
       "    <tr style=\"text-align: right;\">\n",
       "      <th></th>\n",
       "      <th>delta</th>\n",
       "      <th>error</th>\n",
       "      <th>parameter</th>\n",
       "      <th>variable</th>\n",
       "      <th>site</th>\n",
       "      <th>problem</th>\n",
       "      <th>paramNum</th>\n",
       "    </tr>\n",
       "  </thead>\n",
       "  <tbody>\n",
       "    <tr>\n",
       "      <th>0</th>\n",
       "      <td>0.183905</td>\n",
       "      <td>0.007927</td>\n",
       "      <td>SMR</td>\n",
       "      <td>ablRR_ET</td>\n",
       "      <td>Nr1</td>\n",
       "      <td>1</td>\n",
       "      <td>1</td>\n",
       "    </tr>\n",
       "    <tr>\n",
       "      <th>1</th>\n",
       "      <td>0.300084</td>\n",
       "      <td>0.006470</td>\n",
       "      <td>TpeakSWE</td>\n",
       "      <td>ablRR_ET</td>\n",
       "      <td>Nr1</td>\n",
       "      <td>1</td>\n",
       "      <td>2</td>\n",
       "    </tr>\n",
       "    <tr>\n",
       "      <th>0</th>\n",
       "      <td>0.319906</td>\n",
       "      <td>0.009045</td>\n",
       "      <td>SMR</td>\n",
       "      <td>ablRR_ET</td>\n",
       "      <td>P301</td>\n",
       "      <td>1</td>\n",
       "      <td>1</td>\n",
       "    </tr>\n",
       "    <tr>\n",
       "      <th>1</th>\n",
       "      <td>0.137338</td>\n",
       "      <td>0.007507</td>\n",
       "      <td>TpeakSWE</td>\n",
       "      <td>ablRR_ET</td>\n",
       "      <td>P301</td>\n",
       "      <td>1</td>\n",
       "      <td>2</td>\n",
       "    </tr>\n",
       "    <tr>\n",
       "      <th>0</th>\n",
       "      <td>0.203888</td>\n",
       "      <td>0.001899</td>\n",
       "      <td>SMR</td>\n",
       "      <td>ablRR_ET</td>\n",
       "      <td>All</td>\n",
       "      <td>1</td>\n",
       "      <td>1</td>\n",
       "    </tr>\n",
       "  </tbody>\n",
       "</table>\n",
       "</div>"
      ],
      "text/plain": [
       "      delta     error parameter  variable  site  problem  paramNum\n",
       "0  0.183905  0.007927       SMR  ablRR_ET   Nr1        1         1\n",
       "1  0.300084  0.006470  TpeakSWE  ablRR_ET   Nr1        1         2\n",
       "0  0.319906  0.009045       SMR  ablRR_ET  P301        1         1\n",
       "1  0.137338  0.007507  TpeakSWE  ablRR_ET  P301        1         2\n",
       "0  0.203888  0.001899       SMR  ablRR_ET   All        1         1"
      ]
     },
     "execution_count": 25,
     "metadata": {},
     "output_type": "execute_result"
    }
   ],
   "source": [
    "df.head()"
   ]
  },
  {
   "cell_type": "markdown",
   "metadata": {},
   "source": [
    "# Plotting\n",
    "\n",
    "Make one two pannel plot with runoff on the left and change in subsurface storage on the right\n",
    "\n",
    "Colors == different SA problems\n",
    "\n",
    "Symbols == different sites"
   ]
  },
  {
   "cell_type": "code",
   "execution_count": 92,
   "metadata": {},
   "outputs": [
    {
     "data": {
      "image/png": "[encoded data removed]",
      "text/plain": [
       "<Figure size 1080x360 with 2 Axes>"
      ]
     },
     "metadata": {
      "needs_background": "light"
     },
     "output_type": "display_data"
    }
   ],
   "source": [
    "tmps = []\n",
    "titleFont = 18\n",
    "markerSize = 15\n",
    "xlabels = ['Snowmelt\\nRate', 'Snowmelt\\nTiming','Plant Available\\nWater Storage','Site']\n",
    "xticks = np.arange(1,len(xlabels)+1)\n",
    "\n",
    "problems = [1,2,3]\n",
    "colors = ['#1b9e77','#d95f02','#7570b3']\n",
    "sites = ['Nr1','P301','All']\n",
    "siteLabels = ['CO','CA','All']\n",
    "siteSymbs = ['o','^','d']\n",
    "titles = ['R','$\\Delta$S']\n",
    "variables = ['ablRR_ET','wb']\n",
    "\n",
    "fig = plt.figure(figsize=(15,5))\n",
    "ax1 = fig.add_subplot(121)\n",
    "ax2 = fig.add_subplot(122)\n",
    "\n",
    "axs = [ax1,ax2]\n",
    "for ax,title,var in zip(axs,titles,variables):\n",
    "    plt.sca(ax)\n",
    "    plt.title(title, fontsize = titleFont)\n",
    "\n",
    "    for problem,color in zip(problems,colors):\n",
    "        #sites = df.loc[(df.problem == problem) & (df.variable == var)].site.unique()\n",
    "        if problem < 3:\n",
    "            sites = ['Nr1','P301']\n",
    "        else:\n",
    "            sites = ['All']\n",
    "        for i,site in enumerate(sites):\n",
    "            label = siteLabels[i]\n",
    "            symb = siteSymbs[i]\n",
    "\n",
    "            if len(sites) == 1:\n",
    "                label = siteLabels[2]\n",
    "                symb = siteSymbs[2]\n",
    "\n",
    "            tmp = df.loc[(df.problem == problem) & (df.site == site) & (df.variable == var)]\n",
    "\n",
    "            ax.errorbar(tmp.paramNum, tmp.delta, yerr=tmp.error, fmt=symb, color = color, label = label,\n",
    "                         markersize = markerSize)\n",
    "            tmps.append(tmp)\n",
    "\n",
    "        plt.xticks(ticks = xticks, labels = xlabels)\n",
    "\n",
    "# do the legend\n",
    "custom_lines = [Patch(facecolor=colors[0], edgecolor=colors[0],label='Optimized PAWS'),\n",
    "                Patch(facecolor=colors[1], edgecolor=colors[1],label='All PAWS'),\n",
    "                Patch(facecolor=colors[2], edgecolor=colors[2],label='All Factors'),\n",
    "                Line2D([0], [0], color='k', marker=siteSymbs[0], lw=0, markersize=8,label = 'CO'),\n",
    "                Line2D([0], [0], color='k', marker=siteSymbs[1], lw=0, markersize=8, label = 'CA'),\n",
    "                Line2D([0], [0], color='k', marker=siteSymbs[2], lw=0, markersize=8, label = 'All')]\n",
    "                       \n",
    "plt.legend(handles=custom_lines);"
   ]
  },
  {
   "cell_type": "markdown",
   "metadata": {},
   "source": [
    "# Little confusing, break in to 6 panels:"
   ]
  },
  {
   "cell_type": "code",
   "execution_count": null,
   "metadata": {},
   "outputs": [],
   "source": []
  }
 ],
 "metadata": {
  "kernelspec": {
   "display_name": "python 3.7",
   "language": "python",
   "name": "py37"
  },
  "language_info": {
   "codemirror_mode": {
    "name": "ipython",
    "version": 3
   },
   "file_extension": ".py",
   "mimetype": "text/x-python",
   "name": "python",
   "nbconvert_exporter": "python",
   "pygments_lexer": "ipython3",
   "version": "3.7.3"
  }
 },
 "nbformat": 4,
 "nbformat_minor": 2
}
