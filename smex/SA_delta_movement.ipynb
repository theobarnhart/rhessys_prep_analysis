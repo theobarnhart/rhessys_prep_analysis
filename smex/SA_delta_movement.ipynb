{
 "cells": [
  {
   "cell_type": "markdown",
   "metadata": {},
   "source": [
    "# Preamble\n",
    "\n",
    "Theodore Barnhart | tbarnhart@usgs.gov | theodore.barnhart@colorado.edu | April 6, 2019\n",
    "\n",
    "This notebook explores global parameter sensivitivty using the dela-moment method (Plischke et al., 2013).\n",
    "\n",
    "This is done via two analyses:\n",
    "\n",
    "**Analysis 1:**\n",
    "SA is run on outputs with only optimized rooting depth (combo == 6)\n",
    "\n",
    "**Analysis 2:**\n",
    "SA is run on outputs with all rooting depths to assess the importance of plant available water storage (PAWS)."
   ]
  },
  {
   "cell_type": "code",
   "execution_count": 11,
   "metadata": {},
   "outputs": [],
   "source": [
    "import pandas as pd\n",
    "from SALib.analyze import delta\n",
    "import matplotlib.pyplot as plt"
   ]
  },
  {
   "cell_type": "markdown",
   "metadata": {},
   "source": [
    "## Load Data"
   ]
  },
  {
   "cell_type": "code",
   "execution_count": 67,
   "metadata": {},
   "outputs": [],
   "source": [
    "# load data\n",
    "site = 'Nr1'\n",
    "exname = 'smex8_sen'\n",
    "method = '8'\n",
    "period = 'melt'\n",
    "Nr1 = pd.read_hdf('./data/%s_%s_%s_processed_for_SA.h5'%(site,exname,period),'df') # load the first experiment\n",
    "\n",
    "site = 'p301'\n",
    "exname = 'smex8_sen'\n",
    "method = '8'\n",
    "period = 'melt'\n",
    "P301 = pd.read_hdf('./data/%s_%s_%s_processed_for_SA.h5'%(site,exname,period),'df')"
   ]
  },
  {
   "cell_type": "code",
   "execution_count": 63,
   "metadata": {},
   "outputs": [],
   "source": [
    "def plotSI(Si, problem, figsize=(6,4)):\n",
    "    figsize = (6,4)\n",
    "    xax = np.arange(1,len(Si['delta'])+1)\n",
    "    fig = plt.figure(figsize=figsize)\n",
    "    ax = fig.add_subplot(111)\n",
    "    ax.errorbar(xax,Si['delta'],yerr=Si['delta_conf'],fmt = '.');\n",
    "    plt.xticks(ticks=xax, labels=problem['names'], fontsize = 14);\n",
    "    ax.set_xlabel('Parameter', fontsize = 16);\n",
    "    ax.set_ylabel('$\\delta$', fontsize= 16);\n",
    "    return ax"
   ]
  },
  {
   "cell_type": "markdown",
   "metadata": {},
   "source": [
    "# Analysis 1"
   ]
  },
  {
   "cell_type": "code",
   "execution_count": 90,
   "metadata": {},
   "outputs": [],
   "source": [
    "# define problem\n",
    "problem = {\n",
    "    'num_vars': 3,\n",
    "    'names': ['SMR', 'SMT', 'PeakSWE'],\n",
    "    'bounds': [[-3.14159265359, 3.14159265359],\n",
    "               [-3.14159265359, 3.14159265359],\n",
    "               [-3.14159265359, 3.14159265359]]}"
   ]
  },
  {
   "cell_type": "code",
   "execution_count": 74,
   "metadata": {},
   "outputs": [],
   "source": [
    "Nr1X = Nr1.loc[Nr1.combo == 6,['SMR','TpeakSWE','PeakSWE','rd']].copy().values # get input parameters\n",
    "Nr1Y = Nr1.loc[Nr1.combo == 6,'ablRR_ET'].copy().values # get output\n",
    "\n",
    "P301X = P301.loc[P301.combo == 6,['SMR','TpeakSWE','PeakSWE','rd']].copy().values # get input parameters\n",
    "P301Y = P301.loc[P301.combo == 6,'ablRR_ET'].copy().values # get output"
   ]
  },
  {
   "cell_type": "code",
   "execution_count": 75,
   "metadata": {},
   "outputs": [],
   "source": [
    "# compute the delta method sensitivity analysis\n",
    "Nr1Si = delta.analyze(problem, Nr1X, Nr1Y, print_to_console=False, num_resamples=100)\n",
    "P301Si = delta.analyze(problem, P301X, P301Y, print_to_console=False, num_resamples=100)"
   ]
  },
  {
   "cell_type": "code",
   "execution_count": 78,
   "metadata": {},
   "outputs": [
    {
     "data": {
      "text/plain": [
       "Text(0.5, 1.0, 'Nr1 Calibrated PAWS')"
      ]
     },
     "execution_count": 78,
     "metadata": {},
     "output_type": "execute_result"
    },
    {
     "data": {
      "image/png": "[encoded data removed]",
      "text/plain": [
       "<Figure size 432x288 with 1 Axes>"
      ]
     },
     "metadata": {
      "needs_background": "light"
     },
     "output_type": "display_data"
    }
   ],
   "source": [
    "plotSI(Nr1Si,problem)\n",
    "plt.title('Nr1 Calibrated PAWS', fontsize=18)"
   ]
  },
  {
   "cell_type": "code",
   "execution_count": 79,
   "metadata": {},
   "outputs": [
    {
     "data": {
      "text/plain": [
       "Text(0.5, 1.0, 'P301 Calibrated PAWS')"
      ]
     },
     "execution_count": 79,
     "metadata": {},
     "output_type": "execute_result"
    },
    {
     "data": {
      "image/png": "[encoded data removed]",
      "text/plain": [
       "<Figure size 432x288 with 1 Axes>"
      ]
     },
     "metadata": {
      "needs_background": "light"
     },
     "output_type": "display_data"
    }
   ],
   "source": [
    "plotSI(P301Si,problem)\n",
    "plt.title('P301 Calibrated PAWS', fontsize=18)"
   ]
  },
  {
   "cell_type": "markdown",
   "metadata": {},
   "source": [
    "# Analysis 2"
   ]
  },
  {
   "cell_type": "code",
   "execution_count": 87,
   "metadata": {},
   "outputs": [],
   "source": [
    "problem2 = {\n",
    "    'num_vars': 4,\n",
    "    'names': ['SMR', 'SMT', 'PeakSWE','RD'],\n",
    "    'bounds': [[-3.14159265359, 3.14159265359],\n",
    "               [-3.14159265359, 3.14159265359],\n",
    "               [-3.14159265359, 3.14159265359],\n",
    "               [-3.14159265359, 3.14159265359]]}"
   ]
  },
  {
   "cell_type": "code",
   "execution_count": 85,
   "metadata": {},
   "outputs": [],
   "source": [
    "Nr1X = Nr1[['SMR','TpeakSWE','PeakSWE','rd']].copy().values # get input parameters\n",
    "Nr1Y = Nr1['ablRR_ET'].copy().values # get output\n",
    "\n",
    "P301X = P301[['SMR','TpeakSWE','PeakSWE','rd']].copy().values # get input parameters\n",
    "P301Y = P301['ablRR_ET'].copy().values # get output"
   ]
  },
  {
   "cell_type": "code",
   "execution_count": 86,
   "metadata": {},
   "outputs": [],
   "source": [
    "# compute the delta method sensitivity analysis\n",
    "Nr1Siall = delta.analyze(problem2, Nr1X, Nr1Y, print_to_console=False, num_resamples=100)\n",
    "P301Siall = delta.analyze(problem2, P301X, P301Y, print_to_console=False, num_resamples=100)"
   ]
  },
  {
   "cell_type": "markdown",
   "metadata": {},
   "source": [
    "# Collate data into dataframe"
   ]
  },
  {
   "cell_type": "code",
   "execution_count": 105,
   "metadata": {},
   "outputs": [],
   "source": [
    "dat = pd.DataFrame()\n",
    "dat['value'] = Nr1Si['delta']\n",
    "dat['error'] = Nr1Si['delta_conf']\n",
    "dat['parameter'] = problem['names']\n",
    "dat['site'] = 'Nr1'\n",
    "dat['analysis'] = 'Optimal PAWS'\n",
    "\n",
    "tmp = pd.DataFrame()\n",
    "tmp['value'] = P301Si['delta']\n",
    "tmp['error'] = P301Si['delta_conf']\n",
    "tmp['parameter'] = problem['names']\n",
    "tmp['site'] = 'P301'\n",
    "tmp['analysis'] = 'Optimal PAWS'\n",
    "\n",
    "dat = pd.concat([dat,tmp])\n",
    "\n",
    "tmp = pd.DataFrame()\n",
    "tmp['value'] = P301Siall['delta']\n",
    "tmp['error'] = P301Siall['delta_conf']\n",
    "tmp['parameter'] = problem2['names']\n",
    "tmp['site'] = 'P301'\n",
    "tmp['analysis'] = 'All PAWS'\n",
    "\n",
    "dat = pd.concat([dat, tmp])\n",
    "\n",
    "tmp = pd.DataFrame()\n",
    "tmp['value'] = Nr1Siall['delta']\n",
    "tmp['error'] = Nr1Siall['delta_conf']\n",
    "tmp['parameter'] = problem2['names']\n",
    "tmp['site'] = 'Nr1'\n",
    "tmp['analysis'] = 'All PAWS'\n",
    "\n",
    "dat = pd.concat([dat, tmp])\n",
    "\n",
    "dat.reset_index(inplace=True)\n",
    "del dat['index']"
   ]
  },
  {
   "cell_type": "code",
   "execution_count": 120,
   "metadata": {},
   "outputs": [],
   "source": [
    "def param2num(param):\n",
    "    if param == 'SMR':\n",
    "        return 1\n",
    "    if param == 'SMT':\n",
    "        return 2\n",
    "    if param == 'PeakSWE':\n",
    "        return 3\n",
    "    if param == 'RD':\n",
    "        return 4"
   ]
  },
  {
   "cell_type": "code",
   "execution_count": 121,
   "metadata": {},
   "outputs": [],
   "source": [
    "dat['paramNum'] = dat.parameter.map(param2num)"
   ]
  },
  {
   "cell_type": "code",
   "execution_count": 143,
   "metadata": {},
   "outputs": [],
   "source": [
    "dat.to_pickle('./data/smex8_SA_delta.pcl')"
   ]
  },
  {
   "cell_type": "markdown",
   "metadata": {},
   "source": [
    "# Plotting!"
   ]
  },
  {
   "cell_type": "code",
   "execution_count": 142,
   "metadata": {},
   "outputs": [
    {
     "data": {
      "text/plain": [
       "([<matplotlib.axis.XTick at 0x12d4017b8>,\n",
       "  <matplotlib.axis.XTick at 0x12d4010f0>,\n",
       "  <matplotlib.axis.XTick at 0x12d3f9dd8>,\n",
       "  <matplotlib.axis.XTick at 0x12d4380f0>],\n",
       " <a list of 4 Text xticklabel objects>)"
      ]
     },
     "execution_count": 142,
     "metadata": {},
     "output_type": "execute_result"
    },
    {
     "data": {
      "image/png": "[encoded data removed]",
      "text/plain": [
       "<Figure size 720x288 with 2 Axes>"
      ]
     },
     "metadata": {
      "needs_background": "light"
     },
     "output_type": "display_data"
    }
   ],
   "source": [
    "xlabels = ['Snowmelt\\nRate', 'Snowmelt\\nTiming','Snowmelt\\nAmount','Plant Available\\nWater Storage']\n",
    "\n",
    "fig = plt.figure(figsize = (10,4))\n",
    "ax1 = fig.add_subplot(121)\n",
    "plt.title('Nr1', fontsize = 18)\n",
    "\n",
    "site = 'Nr1'\n",
    "\n",
    "tmp = dat.loc[(dat.site==site) & (dat.analysis == 'Optimal PAWS')]\n",
    "plt.errorbar(tmp['paramNum'], tmp['value'], yerr=tmp['error'], fmt = 'o', c='orange',label = 'Optimal PAWS')\n",
    "\n",
    "tmp = dat.loc[(dat.site==site) & (dat.analysis == 'All PAWS')]\n",
    "plt.errorbar(tmp['paramNum'], tmp['value'], yerr=tmp['error'], fmt = 'o', c='blue',label = 'All PAWS')\n",
    "\n",
    "plt.xticks(ticks=np.arange(1,5),labels=xlabels, fontsize = 11)\n",
    "plt.ylabel('$\\delta$ (sensitivity measure)', fontsize = 16)\n",
    "\n",
    "ax2 = fig.add_subplot(122)\n",
    "plt.title('P301', fontsize = 18)\n",
    "\n",
    "site = 'P301'\n",
    "\n",
    "tmp = dat.loc[(dat.site==site) & (dat.analysis == 'Optimal PAWS')]\n",
    "plt.errorbar(tmp['paramNum'], tmp['value'], yerr=tmp['error'], fmt = 'o', c='orange',label = 'Optimal PAWS')\n",
    "\n",
    "tmp = dat.loc[(dat.site==site) & (dat.analysis == 'All PAWS')]\n",
    "plt.errorbar(tmp['paramNum'], tmp['value'], yerr=tmp['error'], fmt = 'o', c='blue',label = 'All PAWS')\n",
    "\n",
    "plt.legend()\n",
    "\n",
    "plt.xticks(ticks=np.arange(1,5),labels=xlabels, fontsize = 11)"
   ]
  }
 ],
 "metadata": {
  "kernelspec": {
   "display_name": "python 3.7",
   "language": "python",
   "name": "py37"
  },
  "language_info": {
   "codemirror_mode": {
    "name": "ipython",
    "version": 3
   },
   "file_extension": ".py",
   "mimetype": "text/x-python",
   "name": "python",
   "nbconvert_exporter": "python",
   "pygments_lexer": "ipython3",
   "version": "3.7.3"
  }
 },
 "nbformat": 4,
 "nbformat_minor": 2
}
