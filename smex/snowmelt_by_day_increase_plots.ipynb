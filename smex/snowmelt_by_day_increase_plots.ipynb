{
 "cells": [
  {
   "cell_type": "code",
   "execution_count": 1,
   "metadata": {
    "collapsed": true
   },
   "outputs": [],
   "source": [
    "from statsmodels.api import formula as sm"
   ]
  },
  {
   "cell_type": "code",
   "execution_count": 2,
   "metadata": {
    "collapsed": false
   },
   "outputs": [
    {
     "name": "stdout",
     "output_type": "stream",
     "text": [
      "1304\n",
      "77\n",
      "33\n"
     ]
    }
   ],
   "source": [
    "co = pd.read_pickle('./data/NR1_ablation_season_data.pcl'); print len(co)\n",
    "ca = pd.read_pickle('./data/p301_ablation_season_data.pcl'); print len(ca)\n",
    "nm = pd.read_pickle('./data/Vcm_ablation_season_data.pcl'); print len(nm)"
   ]
  },
  {
   "cell_type": "code",
   "execution_count": 3,
   "metadata": {
    "collapsed": true
   },
   "outputs": [],
   "source": [
    "ca.snowmelt *= 1000.\n",
    "nm.snowmelt *= 1000."
   ]
  },
  {
   "cell_type": "code",
   "execution_count": 4,
   "metadata": {
    "collapsed": false
   },
   "outputs": [],
   "source": [
    "m_co = sm.ols('snowmelt ~ DOWY - 1', co).fit()\n",
    "m_ca = sm.ols('snowmelt ~ DOWY - 1', ca).fit()\n",
    "m_nm = sm.ols('snowmelt ~ DOWY - 1', nm).fit()"
   ]
  },
  {
   "cell_type": "code",
   "execution_count": 5,
   "metadata": {
    "collapsed": false
   },
   "outputs": [
    {
     "data": {
      "text/html": [
       "<table class=\"simpletable\">\n",
       "<caption>OLS Regression Results</caption>\n",
       "<tr>\n",
       "  <th>Dep. Variable:</th>        <td>snowmelt</td>     <th>  R-squared:         </th> <td>   0.551</td> \n",
       "</tr>\n",
       "<tr>\n",
       "  <th>Model:</th>                   <td>OLS</td>       <th>  Adj. R-squared:    </th> <td>   0.550</td> \n",
       "</tr>\n",
       "<tr>\n",
       "  <th>Method:</th>             <td>Least Squares</td>  <th>  F-statistic:       </th> <td>   1596.</td> \n",
       "</tr>\n",
       "<tr>\n",
       "  <th>Date:</th>             <td>Wed, 28 Jun 2017</td> <th>  Prob (F-statistic):</th> <td>1.61e-228</td>\n",
       "</tr>\n",
       "<tr>\n",
       "  <th>Time:</th>                 <td>10:33:18</td>     <th>  Log-Likelihood:    </th> <td> -4879.0</td> \n",
       "</tr>\n",
       "<tr>\n",
       "  <th>No. Observations:</th>      <td>  1304</td>      <th>  AIC:               </th> <td>   9760.</td> \n",
       "</tr>\n",
       "<tr>\n",
       "  <th>Df Residuals:</th>          <td>  1303</td>      <th>  BIC:               </th> <td>   9765.</td> \n",
       "</tr>\n",
       "<tr>\n",
       "  <th>Df Model:</th>              <td>     1</td>      <th>                     </th>     <td> </td>    \n",
       "</tr>\n",
       "<tr>\n",
       "  <th>Covariance Type:</th>      <td>nonrobust</td>    <th>                     </th>     <td> </td>    \n",
       "</tr>\n",
       "</table>\n",
       "<table class=\"simpletable\">\n",
       "<tr>\n",
       "    <td></td>      <th>coef</th>     <th>std err</th>      <th>t</th>      <th>P>|t|</th> <th>[95.0% Conf. Int.]</th> \n",
       "</tr>\n",
       "<tr>\n",
       "  <th>DOWY</th> <td>    0.0514</td> <td>    0.001</td> <td>   39.950</td> <td> 0.000</td> <td>    0.049     0.054</td>\n",
       "</tr>\n",
       "</table>\n",
       "<table class=\"simpletable\">\n",
       "<tr>\n",
       "  <th>Omnibus:</th>       <td>247.644</td> <th>  Durbin-Watson:     </th> <td>   0.964</td>\n",
       "</tr>\n",
       "<tr>\n",
       "  <th>Prob(Omnibus):</th> <td> 0.000</td>  <th>  Jarque-Bera (JB):  </th> <td> 425.026</td>\n",
       "</tr>\n",
       "<tr>\n",
       "  <th>Skew:</th>          <td> 1.201</td>  <th>  Prob(JB):          </th> <td>5.09e-93</td>\n",
       "</tr>\n",
       "<tr>\n",
       "  <th>Kurtosis:</th>      <td> 4.432</td>  <th>  Cond. No.          </th> <td>    1.00</td>\n",
       "</tr>\n",
       "</table>"
      ],
      "text/plain": [
       "<class 'statsmodels.iolib.summary.Summary'>\n",
       "\"\"\"\n",
       "                            OLS Regression Results                            \n",
       "==============================================================================\n",
       "Dep. Variable:               snowmelt   R-squared:                       0.551\n",
       "Model:                            OLS   Adj. R-squared:                  0.550\n",
       "Method:                 Least Squares   F-statistic:                     1596.\n",
       "Date:                Wed, 28 Jun 2017   Prob (F-statistic):          1.61e-228\n",
       "Time:                        10:33:18   Log-Likelihood:                -4879.0\n",
       "No. Observations:                1304   AIC:                             9760.\n",
       "Df Residuals:                    1303   BIC:                             9765.\n",
       "Df Model:                           1                                         \n",
       "Covariance Type:            nonrobust                                         \n",
       "==============================================================================\n",
       "                 coef    std err          t      P>|t|      [95.0% Conf. Int.]\n",
       "------------------------------------------------------------------------------\n",
       "DOWY           0.0514      0.001     39.950      0.000         0.049     0.054\n",
       "==============================================================================\n",
       "Omnibus:                      247.644   Durbin-Watson:                   0.964\n",
       "Prob(Omnibus):                  0.000   Jarque-Bera (JB):              425.026\n",
       "Skew:                           1.201   Prob(JB):                     5.09e-93\n",
       "Kurtosis:                       4.432   Cond. No.                         1.00\n",
       "==============================================================================\n",
       "\n",
       "Warnings:\n",
       "[1] Standard Errors assume that the covariance matrix of the errors is correctly specified.\n",
       "\"\"\""
      ]
     },
     "execution_count": 5,
     "metadata": {},
     "output_type": "execute_result"
    }
   ],
   "source": [
    "m_co.summary()"
   ]
  },
  {
   "cell_type": "code",
   "execution_count": 6,
   "metadata": {
    "collapsed": false
   },
   "outputs": [
    {
     "data": {
      "text/html": [
       "<table class=\"simpletable\">\n",
       "<caption>OLS Regression Results</caption>\n",
       "<tr>\n",
       "  <th>Dep. Variable:</th>        <td>snowmelt</td>     <th>  R-squared:         </th> <td>   0.408</td>\n",
       "</tr>\n",
       "<tr>\n",
       "  <th>Model:</th>                   <td>OLS</td>       <th>  Adj. R-squared:    </th> <td>   0.400</td>\n",
       "</tr>\n",
       "<tr>\n",
       "  <th>Method:</th>             <td>Least Squares</td>  <th>  F-statistic:       </th> <td>   52.40</td>\n",
       "</tr>\n",
       "<tr>\n",
       "  <th>Date:</th>             <td>Wed, 28 Jun 2017</td> <th>  Prob (F-statistic):</th> <td>3.11e-10</td>\n",
       "</tr>\n",
       "<tr>\n",
       "  <th>Time:</th>                 <td>10:33:27</td>     <th>  Log-Likelihood:    </th> <td> -316.29</td>\n",
       "</tr>\n",
       "<tr>\n",
       "  <th>No. Observations:</th>      <td>    77</td>      <th>  AIC:               </th> <td>   634.6</td>\n",
       "</tr>\n",
       "<tr>\n",
       "  <th>Df Residuals:</th>          <td>    76</td>      <th>  BIC:               </th> <td>   636.9</td>\n",
       "</tr>\n",
       "<tr>\n",
       "  <th>Df Model:</th>              <td>     1</td>      <th>                     </th>     <td> </td>   \n",
       "</tr>\n",
       "<tr>\n",
       "  <th>Covariance Type:</th>      <td>nonrobust</td>    <th>                     </th>     <td> </td>   \n",
       "</tr>\n",
       "</table>\n",
       "<table class=\"simpletable\">\n",
       "<tr>\n",
       "    <td></td>      <th>coef</th>     <th>std err</th>      <th>t</th>      <th>P>|t|</th> <th>[95.0% Conf. Int.]</th> \n",
       "</tr>\n",
       "<tr>\n",
       "  <th>DOWY</th> <td>    0.0684</td> <td>    0.009</td> <td>    7.239</td> <td> 0.000</td> <td>    0.050     0.087</td>\n",
       "</tr>\n",
       "</table>\n",
       "<table class=\"simpletable\">\n",
       "<tr>\n",
       "  <th>Omnibus:</th>       <td>53.401</td> <th>  Durbin-Watson:     </th> <td>   1.654</td>\n",
       "</tr>\n",
       "<tr>\n",
       "  <th>Prob(Omnibus):</th> <td> 0.000</td> <th>  Jarque-Bera (JB):  </th> <td> 171.720</td>\n",
       "</tr>\n",
       "<tr>\n",
       "  <th>Skew:</th>          <td> 2.348</td> <th>  Prob(JB):          </th> <td>5.15e-38</td>\n",
       "</tr>\n",
       "<tr>\n",
       "  <th>Kurtosis:</th>      <td> 8.610</td> <th>  Cond. No.          </th> <td>    1.00</td>\n",
       "</tr>\n",
       "</table>"
      ],
      "text/plain": [
       "<class 'statsmodels.iolib.summary.Summary'>\n",
       "\"\"\"\n",
       "                            OLS Regression Results                            \n",
       "==============================================================================\n",
       "Dep. Variable:               snowmelt   R-squared:                       0.408\n",
       "Model:                            OLS   Adj. R-squared:                  0.400\n",
       "Method:                 Least Squares   F-statistic:                     52.40\n",
       "Date:                Wed, 28 Jun 2017   Prob (F-statistic):           3.11e-10\n",
       "Time:                        10:33:27   Log-Likelihood:                -316.29\n",
       "No. Observations:                  77   AIC:                             634.6\n",
       "Df Residuals:                      76   BIC:                             636.9\n",
       "Df Model:                           1                                         \n",
       "Covariance Type:            nonrobust                                         \n",
       "==============================================================================\n",
       "                 coef    std err          t      P>|t|      [95.0% Conf. Int.]\n",
       "------------------------------------------------------------------------------\n",
       "DOWY           0.0684      0.009      7.239      0.000         0.050     0.087\n",
       "==============================================================================\n",
       "Omnibus:                       53.401   Durbin-Watson:                   1.654\n",
       "Prob(Omnibus):                  0.000   Jarque-Bera (JB):              171.720\n",
       "Skew:                           2.348   Prob(JB):                     5.15e-38\n",
       "Kurtosis:                       8.610   Cond. No.                         1.00\n",
       "==============================================================================\n",
       "\n",
       "Warnings:\n",
       "[1] Standard Errors assume that the covariance matrix of the errors is correctly specified.\n",
       "\"\"\""
      ]
     },
     "execution_count": 6,
     "metadata": {},
     "output_type": "execute_result"
    }
   ],
   "source": [
    "m_ca.summary()"
   ]
  },
  {
   "cell_type": "code",
   "execution_count": 7,
   "metadata": {
    "collapsed": false
   },
   "outputs": [
    {
     "data": {
      "text/html": [
       "<table class=\"simpletable\">\n",
       "<caption>OLS Regression Results</caption>\n",
       "<tr>\n",
       "  <th>Dep. Variable:</th>        <td>snowmelt</td>     <th>  R-squared:         </th> <td>   0.445</td>\n",
       "</tr>\n",
       "<tr>\n",
       "  <th>Model:</th>                   <td>OLS</td>       <th>  Adj. R-squared:    </th> <td>   0.428</td>\n",
       "</tr>\n",
       "<tr>\n",
       "  <th>Method:</th>             <td>Least Squares</td>  <th>  F-statistic:       </th> <td>   25.68</td>\n",
       "</tr>\n",
       "<tr>\n",
       "  <th>Date:</th>             <td>Wed, 28 Jun 2017</td> <th>  Prob (F-statistic):</th> <td>1.63e-05</td>\n",
       "</tr>\n",
       "<tr>\n",
       "  <th>Time:</th>                 <td>10:33:49</td>     <th>  Log-Likelihood:    </th> <td> -97.458</td>\n",
       "</tr>\n",
       "<tr>\n",
       "  <th>No. Observations:</th>      <td>    33</td>      <th>  AIC:               </th> <td>   196.9</td>\n",
       "</tr>\n",
       "<tr>\n",
       "  <th>Df Residuals:</th>          <td>    32</td>      <th>  BIC:               </th> <td>   198.4</td>\n",
       "</tr>\n",
       "<tr>\n",
       "  <th>Df Model:</th>              <td>     1</td>      <th>                     </th>     <td> </td>   \n",
       "</tr>\n",
       "<tr>\n",
       "  <th>Covariance Type:</th>      <td>nonrobust</td>    <th>                     </th>     <td> </td>   \n",
       "</tr>\n",
       "</table>\n",
       "<table class=\"simpletable\">\n",
       "<tr>\n",
       "    <td></td>      <th>coef</th>     <th>std err</th>      <th>t</th>      <th>P>|t|</th> <th>[95.0% Conf. Int.]</th> \n",
       "</tr>\n",
       "<tr>\n",
       "  <th>DOWY</th> <td>    0.0231</td> <td>    0.005</td> <td>    5.068</td> <td> 0.000</td> <td>    0.014     0.032</td>\n",
       "</tr>\n",
       "</table>\n",
       "<table class=\"simpletable\">\n",
       "<tr>\n",
       "  <th>Omnibus:</th>       <td>15.434</td> <th>  Durbin-Watson:     </th> <td>   1.330</td>\n",
       "</tr>\n",
       "<tr>\n",
       "  <th>Prob(Omnibus):</th> <td> 0.000</td> <th>  Jarque-Bera (JB):  </th> <td>  16.412</td>\n",
       "</tr>\n",
       "<tr>\n",
       "  <th>Skew:</th>          <td> 1.516</td> <th>  Prob(JB):          </th> <td>0.000273</td>\n",
       "</tr>\n",
       "<tr>\n",
       "  <th>Kurtosis:</th>      <td> 4.657</td> <th>  Cond. No.          </th> <td>    1.00</td>\n",
       "</tr>\n",
       "</table>"
      ],
      "text/plain": [
       "<class 'statsmodels.iolib.summary.Summary'>\n",
       "\"\"\"\n",
       "                            OLS Regression Results                            \n",
       "==============================================================================\n",
       "Dep. Variable:               snowmelt   R-squared:                       0.445\n",
       "Model:                            OLS   Adj. R-squared:                  0.428\n",
       "Method:                 Least Squares   F-statistic:                     25.68\n",
       "Date:                Wed, 28 Jun 2017   Prob (F-statistic):           1.63e-05\n",
       "Time:                        10:33:49   Log-Likelihood:                -97.458\n",
       "No. Observations:                  33   AIC:                             196.9\n",
       "Df Residuals:                      32   BIC:                             198.4\n",
       "Df Model:                           1                                         \n",
       "Covariance Type:            nonrobust                                         \n",
       "==============================================================================\n",
       "                 coef    std err          t      P>|t|      [95.0% Conf. Int.]\n",
       "------------------------------------------------------------------------------\n",
       "DOWY           0.0231      0.005      5.068      0.000         0.014     0.032\n",
       "==============================================================================\n",
       "Omnibus:                       15.434   Durbin-Watson:                   1.330\n",
       "Prob(Omnibus):                  0.000   Jarque-Bera (JB):               16.412\n",
       "Skew:                           1.516   Prob(JB):                     0.000273\n",
       "Kurtosis:                       4.657   Cond. No.                         1.00\n",
       "==============================================================================\n",
       "\n",
       "Warnings:\n",
       "[1] Standard Errors assume that the covariance matrix of the errors is correctly specified.\n",
       "\"\"\""
      ]
     },
     "execution_count": 7,
     "metadata": {},
     "output_type": "execute_result"
    }
   ],
   "source": [
    "m_nm.summary()"
   ]
  },
  {
   "cell_type": "code",
   "execution_count": 81,
   "metadata": {
    "collapsed": false
   },
   "outputs": [
    {
     "data": {
      "text/html": [
       "<div>\n",
       "<table border=\"1\" class=\"dataframe\">\n",
       "  <thead>\n",
       "    <tr style=\"text-align: right;\">\n",
       "      <th></th>\n",
       "      <th>DOAS</th>\n",
       "      <th>date</th>\n",
       "      <th>snowmelt</th>\n",
       "      <th>DOWY</th>\n",
       "      <th>DOWY2</th>\n",
       "    </tr>\n",
       "  </thead>\n",
       "  <tbody>\n",
       "    <tr>\n",
       "      <th>0</th>\n",
       "      <td>1</td>\n",
       "      <td>1981-04-09</td>\n",
       "      <td>15.0</td>\n",
       "      <td>191</td>\n",
       "      <td>36481</td>\n",
       "    </tr>\n",
       "    <tr>\n",
       "      <th>1</th>\n",
       "      <td>2</td>\n",
       "      <td>1981-04-10</td>\n",
       "      <td>3.0</td>\n",
       "      <td>192</td>\n",
       "      <td>36864</td>\n",
       "    </tr>\n",
       "    <tr>\n",
       "      <th>2</th>\n",
       "      <td>3</td>\n",
       "      <td>1981-04-11</td>\n",
       "      <td>12.0</td>\n",
       "      <td>193</td>\n",
       "      <td>37249</td>\n",
       "    </tr>\n",
       "    <tr>\n",
       "      <th>3</th>\n",
       "      <td>4</td>\n",
       "      <td>1981-04-12</td>\n",
       "      <td>11.0</td>\n",
       "      <td>194</td>\n",
       "      <td>37636</td>\n",
       "    </tr>\n",
       "    <tr>\n",
       "      <th>4</th>\n",
       "      <td>5</td>\n",
       "      <td>1981-04-13</td>\n",
       "      <td>0.0</td>\n",
       "      <td>195</td>\n",
       "      <td>38025</td>\n",
       "    </tr>\n",
       "  </tbody>\n",
       "</table>\n",
       "</div>"
      ],
      "text/plain": [
       "   DOAS       date  snowmelt  DOWY  DOWY2\n",
       "0     1 1981-04-09      15.0   191  36481\n",
       "1     2 1981-04-10       3.0   192  36864\n",
       "2     3 1981-04-11      12.0   193  37249\n",
       "3     4 1981-04-12      11.0   194  37636\n",
       "4     5 1981-04-13       0.0   195  38025"
      ]
     },
     "execution_count": 81,
     "metadata": {},
     "output_type": "execute_result"
    }
   ],
   "source": [
    "co.head()"
   ]
  },
  {
   "cell_type": "code",
   "execution_count": 82,
   "metadata": {
    "collapsed": false
   },
   "outputs": [
    {
     "data": {
      "text/plain": [
       "0.023102219124214889"
      ]
     },
     "execution_count": 82,
     "metadata": {},
     "output_type": "execute_result"
    }
   ],
   "source": [
    "mod.params['DOWY']"
   ]
  },
  {
   "cell_type": "code",
   "execution_count": 109,
   "metadata": {
    "collapsed": false
   },
   "outputs": [
    {
     "data": {
      "image/png": "[encoded data removed]",
      "text/plain": [
       "<matplotlib.figure.Figure at 0x122817f90>"
      ]
     },
     "metadata": {},
     "output_type": "display_data"
    }
   ],
   "source": [
    "f,axes = plt.subplots(nrows=1,ncols=3)\n",
    "fig = plt.gcf()\n",
    "fig.set_figwidth(15)\n",
    "\n",
    "titles = ['a: CO','b: CA','c: NM']\n",
    "textx = [150,110,155]\n",
    "texty = [60,70,17]\n",
    "texty2= [54,63,15]\n",
    "texty3= [48,56,13]\n",
    "texty4 = [42,49,11]\n",
    "\n",
    "for ax,mod,dat,x,y,y2,y3,y4,title in zip(axes,[m_co,m_ca,m_nm],[co,ca,nm],textx,texty,texty2,texty3,texty4,titles):\n",
    "    plt.sca(ax)\n",
    "    plt.scatter(dat.DOWY,dat.snowmelt,s=40,c='0.5',lw=0,edgecolors='k')\n",
    "    xmin = dat.DOWY.min()\n",
    "    xmax = dat.DOWY.max()\n",
    "    \n",
    "    ymin = mod.params['DOWY'] * xmin\n",
    "    ymax = mod.params['DOWY'] * xmax\n",
    "    \n",
    "    plt.plot((xmin,xmax),(ymin,ymax), lw=2, c='k')\n",
    "    \n",
    "    plt.text(x,y,'y = %sx'%(round(mod.params['DOWY'],3)), fontsize=16)\n",
    "    plt.text(x,y2,'R$^2$=%s'%(round(mod.rsquared,2)), fontsize = 16)\n",
    "    plt.text(x,y3, 'p<0.001', fontsize=16)\n",
    "    plt.text(x,y4, 'n=%s'%(len(dat)), fontsize=16)\n",
    "    \n",
    "    plt.title(title,fontsize=18)\n",
    "    plt.xlabel('Day of Water Year', fontsize=16)\n",
    "\n",
    "plt.sca(axes[0])\n",
    "plt.ylabel('Snowmelt Rate [mm/day]', fontsize=16)\n",
    "\n",
    "plt.savefig('./figures/snowmelt_rate_dowy.png',dpi=300,bbox_inches='tight')\n",
    "plt.savefig('./figures/snowmelt_rate_dowy.pdf')"
   ]
  },
  {
   "cell_type": "code",
   "execution_count": null,
   "metadata": {
    "collapsed": true
   },
   "outputs": [],
   "source": []
  }
 ],
 "metadata": {
  "kernelspec": {
   "display_name": "Python 2",
   "language": "python",
   "name": "python2"
  },
  "language_info": {
   "codemirror_mode": {
    "name": "ipython",
    "version": 2
   },
   "file_extension": ".py",
   "mimetype": "text/x-python",
   "name": "python",
   "nbconvert_exporter": "python",
   "pygments_lexer": "ipython2",
   "version": "2.7.12"
  }
 },
 "nbformat": 4,
 "nbformat_minor": 0
}
