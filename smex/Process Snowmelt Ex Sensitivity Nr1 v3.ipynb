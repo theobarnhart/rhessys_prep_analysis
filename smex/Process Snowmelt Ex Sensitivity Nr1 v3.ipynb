{
 "cells": [
  {
   "cell_type": "code",
   "execution_count": 1,
   "metadata": {},
   "outputs": [],
   "source": [
    "import numpy as np\n",
    "import pandas as pd\n",
    "import glob\n",
    "import ipyparallel as p\n",
    "import os\n",
    "import ntpath\n",
    "import ProgressBar as pb\n",
    "from pymail import alert\n",
    "import time"
   ]
  },
  {
   "cell_type": "code",
   "execution_count": 2,
   "metadata": {},
   "outputs": [],
   "source": [
    "exname = 'smex7_sen'\n",
    "method = '7'\n",
    "site = 'Nr1'"
   ]
  },
  {
   "cell_type": "code",
   "execution_count": 3,
   "metadata": {},
   "outputs": [],
   "source": [
    "files = glob.glob('/Volumes/data/RHESSys_out/Nwt/%s/*_basin.daily'%(exname))"
   ]
  },
  {
   "cell_type": "code",
   "execution_count": 4,
   "metadata": {
    "scrolled": true
   },
   "outputs": [
    {
     "data": {
      "text/plain": [
       "['/Volumes/data/RHESSys_out/Nwt/smex7_sen/smex7_sen_99994_basin.daily',\n",
       " '/Volumes/data/RHESSys_out/Nwt/smex7_sen/smex7_sen_99995_basin.daily',\n",
       " '/Volumes/data/RHESSys_out/Nwt/smex7_sen/smex7_sen_99996_basin.daily',\n",
       " '/Volumes/data/RHESSys_out/Nwt/smex7_sen/smex7_sen_99997_basin.daily',\n",
       " '/Volumes/data/RHESSys_out/Nwt/smex7_sen/smex7_sen_99998_basin.daily',\n",
       " '/Volumes/data/RHESSys_out/Nwt/smex7_sen/smex7_sen_99999_basin.daily',\n",
       " '/Volumes/data/RHESSys_out/Nwt/smex7_sen/smex7_sen_9999_basin.daily',\n",
       " '/Volumes/data/RHESSys_out/Nwt/smex7_sen/smex7_sen_999_basin.daily',\n",
       " '/Volumes/data/RHESSys_out/Nwt/smex7_sen/smex7_sen_99_basin.daily',\n",
       " '/Volumes/data/RHESSys_out/Nwt/smex7_sen/smex7_sen_9_basin.daily']"
      ]
     },
     "execution_count": 4,
     "metadata": {},
     "output_type": "execute_result"
    }
   ],
   "source": [
    "files[-10:]"
   ]
  },
  {
   "cell_type": "code",
   "execution_count": 5,
   "metadata": {},
   "outputs": [],
   "source": [
    "params = pd.read_pickle('./data/soil_params_multispinup_%s_smex%s_sen.pcl'%(site,method))"
   ]
  },
  {
   "cell_type": "code",
   "execution_count": 6,
   "metadata": {},
   "outputs": [
    {
     "data": {
      "text/html": [
       "<div>\n",
       "<style scoped>\n",
       "    .dataframe tbody tr th:only-of-type {\n",
       "        vertical-align: middle;\n",
       "    }\n",
       "\n",
       "    .dataframe tbody tr th {\n",
       "        vertical-align: top;\n",
       "    }\n",
       "\n",
       "    .dataframe thead th {\n",
       "        text-align: right;\n",
       "    }\n",
       "</style>\n",
       "<table border=\"1\" class=\"dataframe\">\n",
       "  <thead>\n",
       "    <tr style=\"text-align: right;\">\n",
       "      <th></th>\n",
       "      <th>MAP</th>\n",
       "      <th>PeakSWE</th>\n",
       "      <th>SMR</th>\n",
       "      <th>TpeakSWE</th>\n",
       "      <th>combo</th>\n",
       "      <th>idx</th>\n",
       "      <th>ksat</th>\n",
       "      <th>m</th>\n",
       "      <th>pa</th>\n",
       "      <th>po</th>\n",
       "      <th>ref</th>\n",
       "      <th>scenidx</th>\n",
       "    </tr>\n",
       "  </thead>\n",
       "  <tbody>\n",
       "    <tr>\n",
       "      <th>0</th>\n",
       "      <td>6.165935</td>\n",
       "      <td>0.41366</td>\n",
       "      <td>0.007447</td>\n",
       "      <td>180.0</td>\n",
       "      <td>d1:s1</td>\n",
       "      <td>0</td>\n",
       "      <td>10.0245</td>\n",
       "      <td>4.9592</td>\n",
       "      <td>0.00356</td>\n",
       "      <td>0.032637</td>\n",
       "      <td>2010</td>\n",
       "      <td>0</td>\n",
       "    </tr>\n",
       "    <tr>\n",
       "      <th>1</th>\n",
       "      <td>6.165935</td>\n",
       "      <td>0.41366</td>\n",
       "      <td>0.007447</td>\n",
       "      <td>180.0</td>\n",
       "      <td>d1:s2</td>\n",
       "      <td>0</td>\n",
       "      <td>10.0245</td>\n",
       "      <td>4.9592</td>\n",
       "      <td>0.00534</td>\n",
       "      <td>0.032637</td>\n",
       "      <td>2010</td>\n",
       "      <td>1</td>\n",
       "    </tr>\n",
       "    <tr>\n",
       "      <th>2</th>\n",
       "      <td>6.165935</td>\n",
       "      <td>0.41366</td>\n",
       "      <td>0.007447</td>\n",
       "      <td>180.0</td>\n",
       "      <td>d1:s3</td>\n",
       "      <td>0</td>\n",
       "      <td>10.0245</td>\n",
       "      <td>4.9592</td>\n",
       "      <td>0.00712</td>\n",
       "      <td>0.032637</td>\n",
       "      <td>2010</td>\n",
       "      <td>2</td>\n",
       "    </tr>\n",
       "    <tr>\n",
       "      <th>3</th>\n",
       "      <td>6.165935</td>\n",
       "      <td>0.41366</td>\n",
       "      <td>0.007447</td>\n",
       "      <td>180.0</td>\n",
       "      <td>d1:s4</td>\n",
       "      <td>0</td>\n",
       "      <td>10.0245</td>\n",
       "      <td>4.9592</td>\n",
       "      <td>0.00890</td>\n",
       "      <td>0.032637</td>\n",
       "      <td>2010</td>\n",
       "      <td>3</td>\n",
       "    </tr>\n",
       "    <tr>\n",
       "      <th>4</th>\n",
       "      <td>6.165935</td>\n",
       "      <td>0.41366</td>\n",
       "      <td>0.007447</td>\n",
       "      <td>180.0</td>\n",
       "      <td>d1:s5</td>\n",
       "      <td>0</td>\n",
       "      <td>10.0245</td>\n",
       "      <td>4.9592</td>\n",
       "      <td>0.01068</td>\n",
       "      <td>0.032637</td>\n",
       "      <td>2010</td>\n",
       "      <td>4</td>\n",
       "    </tr>\n",
       "  </tbody>\n",
       "</table>\n",
       "</div>"
      ],
      "text/plain": [
       "        MAP  PeakSWE       SMR  TpeakSWE  combo  idx     ksat       m  \\\n",
       "0  6.165935  0.41366  0.007447     180.0  d1:s1    0  10.0245  4.9592   \n",
       "1  6.165935  0.41366  0.007447     180.0  d1:s2    0  10.0245  4.9592   \n",
       "2  6.165935  0.41366  0.007447     180.0  d1:s3    0  10.0245  4.9592   \n",
       "3  6.165935  0.41366  0.007447     180.0  d1:s4    0  10.0245  4.9592   \n",
       "4  6.165935  0.41366  0.007447     180.0  d1:s5    0  10.0245  4.9592   \n",
       "\n",
       "        pa        po   ref  scenidx  \n",
       "0  0.00356  0.032637  2010        0  \n",
       "1  0.00534  0.032637  2010        1  \n",
       "2  0.00712  0.032637  2010        2  \n",
       "3  0.00890  0.032637  2010        3  \n",
       "4  0.01068  0.032637  2010        4  "
      ]
     },
     "execution_count": 6,
     "metadata": {},
     "output_type": "execute_result"
    }
   ],
   "source": [
    "params.head()"
   ]
  },
  {
   "cell_type": "code",
   "execution_count": 7,
   "metadata": {},
   "outputs": [],
   "source": [
    "files = pd.DataFrame({'basin_daily':files})"
   ]
  },
  {
   "cell_type": "code",
   "execution_count": 8,
   "metadata": {},
   "outputs": [],
   "source": [
    "def getIDX(fl):\n",
    "    return int(fl.split('_')[-2])"
   ]
  },
  {
   "cell_type": "code",
   "execution_count": 9,
   "metadata": {},
   "outputs": [],
   "source": [
    "files['scenidx'] = files.basin_daily.map(getIDX)"
   ]
  },
  {
   "cell_type": "code",
   "execution_count": 10,
   "metadata": {},
   "outputs": [],
   "source": [
    "params = pd.merge(params,files, on= 'scenidx')"
   ]
  },
  {
   "cell_type": "code",
   "execution_count": 11,
   "metadata": {},
   "outputs": [],
   "source": [
    "from rhessys import snowmelt_experiment as smex"
   ]
  },
  {
   "cell_type": "code",
   "execution_count": 12,
   "metadata": {},
   "outputs": [],
   "source": [
    "params['Tnosnow'] = params.TpeakSWE+np.ceil(params.PeakSWE/params.SMR)"
   ]
  },
  {
   "cell_type": "code",
   "execution_count": 13,
   "metadata": {},
   "outputs": [],
   "source": [
    "params['date_peakSWE'] = params.apply(smex.DOPEAKSWE2cal,axis=1)\n",
    "params['date_ONS'] =params.apply(smex.DONS2cal,axis=1)"
   ]
  },
  {
   "cell_type": "code",
   "execution_count": 14,
   "metadata": {},
   "outputs": [],
   "source": [
    "c = p.Client()\n",
    "view = c.load_balanced_view()"
   ]
  },
  {
   "cell_type": "code",
   "execution_count": 15,
   "metadata": {},
   "outputs": [
    {
     "data": {
      "text/plain": [
       "[0, 1, 2, 3, 4, 5, 6]"
      ]
     },
     "execution_count": 15,
     "metadata": {},
     "output_type": "execute_result"
    }
   ],
   "source": [
    "c.ids"
   ]
  },
  {
   "cell_type": "code",
   "execution_count": 16,
   "metadata": {},
   "outputs": [
    {
     "data": {
      "text/plain": [
       "250000"
      ]
     },
     "execution_count": 16,
     "metadata": {},
     "output_type": "execute_result"
    }
   ],
   "source": [
    "len(params)"
   ]
  },
  {
   "cell_type": "code",
   "execution_count": 17,
   "metadata": {},
   "outputs": [],
   "source": [
    "dr = pd.date_range('2009-10-1','2010-9-30',freq='D')"
   ]
  },
  {
   "cell_type": "code",
   "execution_count": 18,
   "metadata": {},
   "outputs": [],
   "source": [
    "%px dr = pd.date_range('2009-10-1','2010-9-30',freq='D')"
   ]
  },
  {
   "cell_type": "code",
   "execution_count": 19,
   "metadata": {},
   "outputs": [],
   "source": [
    "def processSM(bd,idx,strt,nd):\n",
    "\n",
    "    # read in the basin daily data\n",
    "    data = pd.read_csv(bd,delimiter=' ')\n",
    "\n",
    "    data.index = pd.DatetimeIndex(dr)\n",
    "\n",
    "    data['ET'] = data.evap + data.trans\n",
    "    trans = data.trans.sum()\n",
    "    evap = data.evap.sum()\n",
    "    ET = data.ET.sum() # compute total ET\n",
    "    Q = data.streamflow.sum() # compute total streamflow \n",
    "    Qbf = data.baseflow.sum() # compute total baseflow\n",
    "    Qrf = data['return'].sum() # compute total returnflow,p\n",
    "    sm = data.snowmelt.sum()\n",
    "    rech = data.recharge.sum() # compute total recharge\n",
    "    sat = data['%sat_area'].mean() # compute the mean saturated area\n",
    "    p = data.precip.sum() # compute water year precip\n",
    "    rz_storage = data.rz_storage.mean() # root zone storage\n",
    "    rz_drainage = data.rz_drainage.mean() # root zone drainage \n",
    "    unsat_drainage = data.unsat_drain.mean() # unsaturated zone drainage\n",
    "    unsat_storage = data.unsat_stor.mean() # unsaturated zone drainage\n",
    "    sat_def = data.sat_def.mean() # saturation deficite (mm)\n",
    "    sat_def_z = data.sat_def_z.mean() # saturation deficite depth, is this the depth to ground water?\n",
    "    gwStore = data['gw.storage'].sum() # gw store\n",
    "    gwFlux = data['gw.Qout'].mean()\n",
    "    ETRate = data.ET.mean()\n",
    "    \n",
    "    # create full output object\n",
    "    full = (idx,trans,evap,ET,Q,Qbf,Qrf,rech,sat,p,rz_storage,rz_drainage,\n",
    "            unsat_storage,unsat_drainage,sat_def,sat_def_z,sm,gwStore,gwFlux,ETRate)\n",
    "    \n",
    "    data = data.loc[strt:nd] # crop the data to the melt season\n",
    "    \n",
    "    T = data.trans.sum() # compute totoal transpiration\n",
    "    E = data.evap.sum() # compute total evaporation\n",
    "    ET = data.ET.sum() # compute total ET\n",
    "    Q = data.streamflow.sum() # compute total streamflow \n",
    "    Qbf = data.baseflow.sum() # compute total baseflow\n",
    "    Qrf = data['return'].sum() # compute total returnflow,p\n",
    "    sm = data.snowmelt.sum()\n",
    "    rech = data.recharge.sum() # compute total recharge\n",
    "    sat = data['%sat_area'].mean() # compute the mean saturated area\n",
    "    p = data.precip.sum() # compute water year precip\n",
    "    rz_storage = data.rz_storage.mean() # root zone storage\n",
    "    rz_drainage = data.rz_drainage.mean() # root zone drainage \n",
    "    unsat_drainage = data.unsat_drain.mean() # unsaturated zone drainage\n",
    "    unsat_storage = data.unsat_stor.mean() # unsaturated zone drainage\n",
    "    sat_def = data.sat_def.mean() # saturation deficite (mm)\n",
    "    sat_def_z = data.sat_def_z.mean() # saturation deficite depth, is this the depth to ground water?\n",
    "    gwStore = data['gw.storage'].sum() # gw store\n",
    "    gwFlux = data['gw.Qout'].mean()\n",
    "    ETRate = data.ET.mean()\n",
    "    \n",
    "    melt = (idx,T,E,ET,Q,Qbf,Qrf,rech,sat,p,rz_storage,rz_drainage,\n",
    "            unsat_storage,unsat_drainage,sat_def,sat_def_z,sm,gwStore,gwFlux,ETRate)\n",
    "    \n",
    "    return full,melt"
   ]
  },
  {
   "cell_type": "code",
   "execution_count": 20,
   "metadata": {
    "scrolled": true
   },
   "outputs": [
    {
     "name": "stdout",
     "output_type": "stream",
     "text": [
      "/Volumes/data/RHESSys_out/Nwt/smex7_sen/smex7_sen_3_basin.daily\n"
     ]
    },
    {
     "data": {
      "text/plain": [
       "((3,\n",
       "  123.284062,\n",
       "  197.28817400000003,\n",
       "  320.572236,\n",
       "  244.34013299999998,\n",
       "  244.34013299999998,\n",
       "  0.0,\n",
       "  135.02782100000002,\n",
       "  0.0,\n",
       "  546.921614,\n",
       "  1510.538855712327,\n",
       "  0.0061935479452054805,\n",
       "  1183.6840702739769,\n",
       "  0.0,\n",
       "  5478.913440000021,\n",
       "  7240.0,\n",
       "  175.79934699999998,\n",
       "  21043.223084999998,\n",
       "  0.6694250219178083,\n",
       "  0.8782800986301371),\n",
       " (3,\n",
       "  8.220068,\n",
       "  26.631236,\n",
       "  34.851304,\n",
       "  8.267421,\n",
       "  8.267421,\n",
       "  0.0,\n",
       "  8.871521999999999,\n",
       "  0.0,\n",
       "  1.179243,\n",
       "  1509.9593046666669,\n",
       "  0.0,\n",
       "  1183.002780000001,\n",
       "  0.0,\n",
       "  5478.913439999998,\n",
       "  7240.0,\n",
       "  23.169269,\n",
       "  719.1528310000001,\n",
       "  0.14504247368421055,\n",
       "  0.6114263859649125))"
      ]
     },
     "execution_count": 20,
     "metadata": {},
     "output_type": "execute_result"
    }
   ],
   "source": [
    "idx = 3\n",
    "print params.basin_daily[idx]\n",
    "processSM(params.basin_daily[idx],params.scenidx[idx],params.date_peakSWE[idx],params.date_ONS[idx])"
   ]
  },
  {
   "cell_type": "code",
   "execution_count": 21,
   "metadata": {},
   "outputs": [],
   "source": [
    "#res = view.map(processSM,params.basin_daily[0:1000],params.scenidx[0:1000],params.date_peakSWE[0:1000],params.date_ONS[0:1000])\n",
    "res = view.map(processSM,params.basin_daily,params.scenidx,params.date_peakSWE,params.date_ONS)"
   ]
  },
  {
   "cell_type": "code",
   "execution_count": 22,
   "metadata": {},
   "outputs": [],
   "source": [
    "prog = pb.ProgressBar(len(params))"
   ]
  },
  {
   "cell_type": "code",
   "execution_count": 23,
   "metadata": {},
   "outputs": [
    {
     "name": "stdout",
     "output_type": "stream",
     "text": [
      "[****************100%******************]  249925 of 250000 complete                                                                                                                                                                                                                                                                                                                                                                                                                                                                                                                                                                                                                                                                                                                                                                                                                                                                                                                                                                                                                                                                                                                                                                                                                                                                                                                                                                                                                                                                                                                                                                                                                                                                                                                                                                                                                                                                                                                                                                                                                                                                                                                                                                                                                                                                                           \n"
     ]
    }
   ],
   "source": [
    "while res.ready() == False:\n",
    "    prog.animate_ipython(res.progress)\n",
    "    time.sleep(2)"
   ]
  },
  {
   "cell_type": "code",
   "execution_count": 24,
   "metadata": {},
   "outputs": [
    {
     "data": {
      "text/plain": [
       "True"
      ]
     },
     "execution_count": 24,
     "metadata": {},
     "output_type": "execute_result"
    }
   ],
   "source": [
    "res.done()"
   ]
  },
  {
   "cell_type": "code",
   "execution_count": 25,
   "metadata": {},
   "outputs": [],
   "source": [
    "full,melt = zip(*res.result())"
   ]
  },
  {
   "cell_type": "markdown",
   "metadata": {},
   "source": [
    "## Merge processing results with parameters dataset"
   ]
  },
  {
   "cell_type": "code",
   "execution_count": 26,
   "metadata": {},
   "outputs": [],
   "source": [
    "idx,trans,evap,ET,Q,Qbf,Qrf,rech,sat,p,rz_storage,rz_drainage,unsat_storage,unsat_drainage,sat_def,sat_def_z,sm,gwStore,gwFlux,ETRate = zip(*full)\n",
    "\n",
    "params = pd.read_pickle('./data/soil_params_multispinup_%s_smex%s_sen.pcl'%(site,method))\n",
    "\n",
    "# make a date frame of the results\n",
    "proc = pd.DataFrame()\n",
    "\n",
    "arrs = [idx,trans, evap, ET,Q,Qbf,Qrf,rech,sat,p,rz_storage,rz_drainage,unsat_storage,unsat_drainage,\n",
    "        sat_def,sat_def_z,sm,gwStore,gwFlux,ETRate]\n",
    "keys = ['scenidx','trans','evap','ET','Q','Qbf','Qrf','rech','sat','p','rz_storage','rz_drainage',\n",
    "        'unsat_storage','unsat_drainage','sat_def','sat_def_z','sm','gwStore','gwFlux','ETRate']\n",
    "\n",
    "for arr,key in zip(arrs,keys):\n",
    "    proc[key] = arr # insert the results\n",
    "\n",
    "params = pd.merge(params,proc,on='scenidx') # join on file index number\n",
    "params.dropna(inplace=True) # drop missing values\n",
    "\n",
    "params.to_hdf('./data/%s_%s_full.hdf'%(site,exname),'df',format='fixed',complevel=5,complib='bzip2',fletcher32=True)"
   ]
  },
  {
   "cell_type": "code",
   "execution_count": 27,
   "metadata": {},
   "outputs": [],
   "source": [
    "idx,T,E,ET,Q,Qbf,Qrf,rech,sat,p,rz_storage,rz_drainage,unsat_storage,unsat_drainage,sat_def,sat_def_z,sm,gwStore,gwFlux,ETRate = zip(*melt)\n",
    "\n",
    "params = pd.read_pickle('./data/soil_params_multispinup_%s_smex%s_sen.pcl'%(site,method))\n",
    "\n",
    "# make a date frame of the results\n",
    "proc = pd.DataFrame()\n",
    "\n",
    "arrs = [idx,T,E,ET,Q,Qbf,Qrf,rech,sat,p,rz_storage,rz_drainage,unsat_storage,unsat_drainage,\n",
    "        sat_def,sat_def_z,sm,gwStore,gwFlux,ETRate]\n",
    "keys = ['scenidx','T','E','ET','Q','Qbf','Qrf','rech','sat','p','rz_storage','rz_drainage',\n",
    "        'unsat_storage','unsat_drainage','sat_def','sat_def_z','sm','gwStore','gwFlux','ETRate']\n",
    "\n",
    "for arr,key in zip(arrs,keys):\n",
    "    proc[key] = arr # insert the results\n",
    "\n",
    "params = pd.merge(params,proc,on='scenidx') # join on file index number\n",
    "params.dropna(inplace=True) # drop missing values\n",
    "\n",
    "params.to_hdf('./data/%s_%s_melt.hdf'%(site,exname),'df',format='fixed',complevel=5,complib='bzip2',fletcher32=True) # "
   ]
  },
  {
   "cell_type": "code",
   "execution_count": 28,
   "metadata": {},
   "outputs": [],
   "source": [
    "alert.send_alert('barnhatb@colorado.edu','Processing Nr1 %s has finished'%exname,'Your script has finished')"
   ]
  },
  {
   "cell_type": "code",
   "execution_count": null,
   "metadata": {
    "collapsed": true
   },
   "outputs": [],
   "source": []
  }
 ],
 "metadata": {
  "kernelspec": {
   "display_name": "Python 2",
   "language": "python",
   "name": "python2"
  },
  "language_info": {
   "codemirror_mode": {
    "name": "ipython",
    "version": 2
   },
   "file_extension": ".py",
   "mimetype": "text/x-python",
   "name": "python",
   "nbconvert_exporter": "python",
   "pygments_lexer": "ipython2",
   "version": "2.7.17"
  }
 },
 "nbformat": 4,
 "nbformat_minor": 1
}
