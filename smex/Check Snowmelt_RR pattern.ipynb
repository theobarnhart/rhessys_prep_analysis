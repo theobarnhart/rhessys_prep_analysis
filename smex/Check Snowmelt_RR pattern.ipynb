{
 "cells": [
  {
   "cell_type": "code",
   "execution_count": 1,
   "metadata": {
    "collapsed": true
   },
   "outputs": [],
   "source": [
    "from statsmodels.api import formula as sm"
   ]
  },
  {
   "cell_type": "code",
   "execution_count": 2,
   "metadata": {
    "collapsed": true
   },
   "outputs": [],
   "source": [
    "nr = pd.read_pickle('../data/et_cal26.pcl') # use et_cal26"
   ]
  },
  {
   "cell_type": "code",
   "execution_count": 3,
   "metadata": {
    "collapsed": false
   },
   "outputs": [
    {
     "data": {
      "text/html": [
       "<div>\n",
       "<table border=\"1\" class=\"dataframe\">\n",
       "  <thead>\n",
       "    <tr style=\"text-align: right;\">\n",
       "      <th></th>\n",
       "      <th>gw1</th>\n",
       "      <th>gw2</th>\n",
       "      <th>idx</th>\n",
       "      <th>ksat</th>\n",
       "      <th>lai</th>\n",
       "      <th>m</th>\n",
       "      <th>pa</th>\n",
       "      <th>po</th>\n",
       "      <th>rd</th>\n",
       "      <th>daily</th>\n",
       "      <th>...</th>\n",
       "      <th>nse_SF_daily</th>\n",
       "      <th>nse_SF_monthly</th>\n",
       "      <th>nse_SF_weekly</th>\n",
       "      <th>pe_ET_daily</th>\n",
       "      <th>pe_ET_monthly</th>\n",
       "      <th>pe_ET_weekly</th>\n",
       "      <th>pe_SF_daily</th>\n",
       "      <th>pe_SF_monthly</th>\n",
       "      <th>pe_SF_weekly</th>\n",
       "      <th>weekly</th>\n",
       "    </tr>\n",
       "  </thead>\n",
       "  <tbody>\n",
       "    <tr>\n",
       "      <th>15559</th>\n",
       "      <td>0.451</td>\n",
       "      <td>1.015</td>\n",
       "      <td>15559</td>\n",
       "      <td>526.22</td>\n",
       "      <td>0.52</td>\n",
       "      <td>8.534</td>\n",
       "      <td>1.229</td>\n",
       "      <td>3.009</td>\n",
       "      <td>7.441</td>\n",
       "      <td>0.734049</td>\n",
       "      <td>...</td>\n",
       "      <td>0.812628</td>\n",
       "      <td>0.787539</td>\n",
       "      <td>0.799053</td>\n",
       "      <td>0.579589</td>\n",
       "      <td>0.271869</td>\n",
       "      <td>0.305515</td>\n",
       "      <td>1.465803</td>\n",
       "      <td>1.55134</td>\n",
       "      <td>1.554123</td>\n",
       "      <td>0.793223</td>\n",
       "    </tr>\n",
       "  </tbody>\n",
       "</table>\n",
       "<p>1 rows × 24 columns</p>\n",
       "</div>"
      ],
      "text/plain": [
       "         gw1    gw2    idx    ksat   lai      m     pa     po     rd  \\\n",
       "15559  0.451  1.015  15559  526.22  0.52  8.534  1.229  3.009  7.441   \n",
       "\n",
       "          daily    ...     nse_SF_daily  nse_SF_monthly  nse_SF_weekly  \\\n",
       "15559  0.734049    ...         0.812628        0.787539       0.799053   \n",
       "\n",
       "       pe_ET_daily  pe_ET_monthly  pe_ET_weekly  pe_SF_daily  pe_SF_monthly  \\\n",
       "15559     0.579589       0.271869      0.305515     1.465803        1.55134   \n",
       "\n",
       "       pe_SF_weekly    weekly  \n",
       "15559      1.554123  0.793223  \n",
       "\n",
       "[1 rows x 24 columns]"
      ]
     },
     "execution_count": 3,
     "metadata": {},
     "output_type": "execute_result"
    }
   ],
   "source": [
    "nr.loc[nr.monthly==nr.monthly.max()]"
   ]
  },
  {
   "cell_type": "code",
   "execution_count": 4,
   "metadata": {
    "collapsed": false
   },
   "outputs": [],
   "source": [
    "data = rut.readRHESSysBasin('/RHESSys/ComoCreek_new/out/et_cal26/et_cal26_15559_basin.daily')"
   ]
  },
  {
   "cell_type": "code",
   "execution_count": 5,
   "metadata": {
    "collapsed": true
   },
   "outputs": [],
   "source": [
    "data = data.loc[data.wateryear<=2013].copy()"
   ]
  },
  {
   "cell_type": "code",
   "execution_count": 6,
   "metadata": {
    "collapsed": false
   },
   "outputs": [
    {
     "data": {
      "text/plain": [
       "Index([u'basinID', u'pot_surface_infil', u'snow_thr', u'sat_def_z', u'sat_def',\n",
       "       u'rz_storage', u'unsat_stor', u'rz_drainage', u'unsat_drain', u'cap',\n",
       "       u'evap', u'snowpack', u'trans', u'baseflow', u'return', u'streamflow',\n",
       "       u'psn', u'lai', u'gw.Qout', u'gw.storage', u'detention_store',\n",
       "       u'%sat_area', u'litter_store', u'canopy_store', u'%snow_cover',\n",
       "       u'snow_subl', u'trans_var', u'acc_trans', u'acctransv_var', u'pet',\n",
       "       u'dC13', u'precip', u'pcp_assim', u'mortf', u'tmax', u'tmin', u'tavg',\n",
       "       u'vpd', u'snowfall', u'recharge', u'gpsn', u'resp', u'gs', u'rootdepth',\n",
       "       u'plantc', u'snowmelt', u'canopysubl', u'routedstreamflow',\n",
       "       u'canopy_snow', u'height', u'evap_can', u'evap_lit', u'evap_soil',\n",
       "       u'litrc', u'Kdown', u'Ldown', u'Kup', u'Lup', u'Kstar_can',\n",
       "       u'Kstar_soil', u'Kstar_snow', u'Lstar_can', u'Lstar_soil',\n",
       "       u'Lstar_snow', u'LE_canopy', u'LE_soil', u'LE_snow', u'Lstar_strat',\n",
       "       u'canopydrip', u'ga', u'wateryear', u'ET', u'accumPrecip',\n",
       "       u'accumSnowFall', u'accumET'],\n",
       "      dtype='object')"
      ]
     },
     "execution_count": 6,
     "metadata": {},
     "output_type": "execute_result"
    }
   ],
   "source": [
    "data.columns"
   ]
  },
  {
   "cell_type": "code",
   "execution_count": 7,
   "metadata": {
    "collapsed": false
   },
   "outputs": [],
   "source": [
    "out = pd.DataFrame({'P':data.groupby(by='wateryear').sum()['precip']})\n",
    "out['ET'] = data.groupby('wateryear').sum()['ET']\n",
    "out['Q'] = data.groupby('wateryear').sum()['streamflow']\n",
    "out['Q_P'] = out.Q/out.P\n",
    "out['Q_P2'] = 1-(out.ET/out.P)\n",
    "out['SMR'] = np.NaN"
   ]
  },
  {
   "cell_type": "code",
   "execution_count": 8,
   "metadata": {
    "collapsed": false
   },
   "outputs": [],
   "source": [
    "for wy in data.wateryear.unique():\n",
    "    SM = data.loc[data.wateryear == wy,'snowmelt'].as_matrix()\n",
    "    \n",
    "    smr = np.mean(SM[SM!=0])\n",
    "    \n",
    "    out.loc[out.index==wy,'SMR'] = smr"
   ]
  },
  {
   "cell_type": "code",
   "execution_count": 9,
   "metadata": {
    "collapsed": false
   },
   "outputs": [
    {
     "data": {
      "text/html": [
       "<div>\n",
       "<table border=\"1\" class=\"dataframe\">\n",
       "  <thead>\n",
       "    <tr style=\"text-align: right;\">\n",
       "      <th></th>\n",
       "      <th>P</th>\n",
       "      <th>ET</th>\n",
       "      <th>Q</th>\n",
       "      <th>Q_P</th>\n",
       "      <th>Q_P2</th>\n",
       "      <th>SMR</th>\n",
       "    </tr>\n",
       "    <tr>\n",
       "      <th>wateryear</th>\n",
       "      <th></th>\n",
       "      <th></th>\n",
       "      <th></th>\n",
       "      <th></th>\n",
       "      <th></th>\n",
       "      <th></th>\n",
       "    </tr>\n",
       "  </thead>\n",
       "  <tbody>\n",
       "    <tr>\n",
       "      <th>2005</th>\n",
       "      <td>856.376712</td>\n",
       "      <td>958.575463</td>\n",
       "      <td>302.195533</td>\n",
       "      <td>0.352877</td>\n",
       "      <td>-0.119339</td>\n",
       "      <td>10.678584</td>\n",
       "    </tr>\n",
       "    <tr>\n",
       "      <th>2006</th>\n",
       "      <td>736.432906</td>\n",
       "      <td>1002.100707</td>\n",
       "      <td>239.341982</td>\n",
       "      <td>0.325002</td>\n",
       "      <td>-0.360749</td>\n",
       "      <td>7.331502</td>\n",
       "    </tr>\n",
       "    <tr>\n",
       "      <th>2007</th>\n",
       "      <td>933.360082</td>\n",
       "      <td>848.466152</td>\n",
       "      <td>328.876832</td>\n",
       "      <td>0.352358</td>\n",
       "      <td>0.090955</td>\n",
       "      <td>9.994736</td>\n",
       "    </tr>\n",
       "    <tr>\n",
       "      <th>2008</th>\n",
       "      <td>795.518811</td>\n",
       "      <td>564.864007</td>\n",
       "      <td>252.675932</td>\n",
       "      <td>0.317624</td>\n",
       "      <td>0.289943</td>\n",
       "      <td>9.092121</td>\n",
       "    </tr>\n",
       "    <tr>\n",
       "      <th>2009</th>\n",
       "      <td>715.602518</td>\n",
       "      <td>510.141367</td>\n",
       "      <td>232.014006</td>\n",
       "      <td>0.324222</td>\n",
       "      <td>0.287116</td>\n",
       "      <td>9.078901</td>\n",
       "    </tr>\n",
       "    <tr>\n",
       "      <th>2010</th>\n",
       "      <td>727.058202</td>\n",
       "      <td>506.409933</td>\n",
       "      <td>240.528853</td>\n",
       "      <td>0.330825</td>\n",
       "      <td>0.303481</td>\n",
       "      <td>10.590964</td>\n",
       "    </tr>\n",
       "    <tr>\n",
       "      <th>2011</th>\n",
       "      <td>940.063272</td>\n",
       "      <td>579.373409</td>\n",
       "      <td>317.897707</td>\n",
       "      <td>0.338166</td>\n",
       "      <td>0.383687</td>\n",
       "      <td>10.804345</td>\n",
       "    </tr>\n",
       "    <tr>\n",
       "      <th>2012</th>\n",
       "      <td>772.055313</td>\n",
       "      <td>514.498039</td>\n",
       "      <td>253.465035</td>\n",
       "      <td>0.328299</td>\n",
       "      <td>0.333600</td>\n",
       "      <td>7.707203</td>\n",
       "    </tr>\n",
       "    <tr>\n",
       "      <th>2013</th>\n",
       "      <td>1093.452589</td>\n",
       "      <td>573.131874</td>\n",
       "      <td>376.996895</td>\n",
       "      <td>0.344777</td>\n",
       "      <td>0.475851</td>\n",
       "      <td>10.872126</td>\n",
       "    </tr>\n",
       "  </tbody>\n",
       "</table>\n",
       "</div>"
      ],
      "text/plain": [
       "                     P           ET           Q       Q_P      Q_P2        SMR\n",
       "wateryear                                                                     \n",
       "2005        856.376712   958.575463  302.195533  0.352877 -0.119339  10.678584\n",
       "2006        736.432906  1002.100707  239.341982  0.325002 -0.360749   7.331502\n",
       "2007        933.360082   848.466152  328.876832  0.352358  0.090955   9.994736\n",
       "2008        795.518811   564.864007  252.675932  0.317624  0.289943   9.092121\n",
       "2009        715.602518   510.141367  232.014006  0.324222  0.287116   9.078901\n",
       "2010        727.058202   506.409933  240.528853  0.330825  0.303481  10.590964\n",
       "2011        940.063272   579.373409  317.897707  0.338166  0.383687  10.804345\n",
       "2012        772.055313   514.498039  253.465035  0.328299  0.333600   7.707203\n",
       "2013       1093.452589   573.131874  376.996895  0.344777  0.475851  10.872126"
      ]
     },
     "execution_count": 9,
     "metadata": {},
     "output_type": "execute_result"
    }
   ],
   "source": [
    "out"
   ]
  },
  {
   "cell_type": "code",
   "execution_count": 10,
   "metadata": {
    "collapsed": false
   },
   "outputs": [
    {
     "data": {
      "text/plain": [
       "[<matplotlib.lines.Line2D at 0x101ba26d0>]"
      ]
     },
     "execution_count": 10,
     "metadata": {},
     "output_type": "execute_result"
    },
    {
     "data": {
      "image/png": "[encoded data removed]",
      "text/plain": [
       "<matplotlib.figure.Figure at 0x1094d6510>"
      ]
     },
     "metadata": {},
     "output_type": "display_data"
    }
   ],
   "source": [
    "plt.plot(out.SMR,out.Q_P,'.')"
   ]
  },
  {
   "cell_type": "code",
   "execution_count": 13,
   "metadata": {
    "collapsed": false
   },
   "outputs": [
    {
     "name": "stdout",
     "output_type": "stream",
     "text": [
      "                            OLS Regression Results                            \n",
      "==============================================================================\n",
      "Dep. Variable:                    Q_P   R-squared:                       0.406\n",
      "Model:                            OLS   Adj. R-squared:                  0.321\n",
      "Method:                 Least Squares   F-statistic:                     4.776\n",
      "Date:                Mon, 07 Nov 2016   Prob (F-statistic):             0.0651\n",
      "Time:                        07:30:22   Log-Likelihood:                 29.338\n",
      "No. Observations:                   9   AIC:                            -54.68\n",
      "Df Residuals:                       7   BIC:                            -54.28\n",
      "Df Model:                           1                                         \n",
      "Covariance Type:            nonrobust                                         \n",
      "==============================================================================\n",
      "                 coef    std err          t      P>|t|      [95.0% Conf. Int.]\n",
      "------------------------------------------------------------------------------\n",
      "Intercept      0.2773      0.027     10.422      0.000         0.214     0.340\n",
      "SMR            0.0060      0.003      2.185      0.065        -0.000     0.013\n",
      "==============================================================================\n",
      "Omnibus:                        0.559   Durbin-Watson:                   1.567\n",
      "Prob(Omnibus):                  0.756   Jarque-Bera (JB):                0.499\n",
      "Skew:                           0.047   Prob(JB):                        0.779\n",
      "Kurtosis:                       1.850   Cond. No.                         73.9\n",
      "==============================================================================\n",
      "\n",
      "Warnings:\n",
      "[1] Standard Errors assume that the covariance matrix of the errors is correctly specified.\n"
     ]
    }
   ],
   "source": [
    "print sm.ols('Q_P ~ SMR + 1',out).fit().summary()"
   ]
  },
  {
   "cell_type": "code",
   "execution_count": null,
   "metadata": {
    "collapsed": true
   },
   "outputs": [],
   "source": []
  }
 ],
 "metadata": {
  "kernelspec": {
   "display_name": "Python 2",
   "language": "python",
   "name": "python2"
  },
  "language_info": {
   "codemirror_mode": {
    "name": "ipython",
    "version": 2
   },
   "file_extension": ".py",
   "mimetype": "text/x-python",
   "name": "python",
   "nbconvert_exporter": "python",
   "pygments_lexer": "ipython2",
   "version": "2.7.12"
  }
 },
 "nbformat": 4,
 "nbformat_minor": 0
}
