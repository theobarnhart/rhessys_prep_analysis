{
 "cells": [
  {
   "cell_type": "code",
   "execution_count": 57,
   "metadata": {
    "collapsed": true
   },
   "outputs": [],
   "source": [
    "import seaborn as sn"
   ]
  },
  {
   "cell_type": "code",
   "execution_count": 58,
   "metadata": {
    "collapsed": true
   },
   "outputs": [],
   "source": [
    "p301 = pd.read_pickle('./data/p301_soils_coef_smex7_sen7.pcl')"
   ]
  },
  {
   "cell_type": "code",
   "execution_count": 59,
   "metadata": {
    "collapsed": true
   },
   "outputs": [],
   "source": [
    "Vcm = pd.read_pickle('./data/Vcm_soils_coef_smex7_sen7.pcl')"
   ]
  },
  {
   "cell_type": "code",
   "execution_count": 60,
   "metadata": {
    "collapsed": true
   },
   "outputs": [],
   "source": [
    "Nr1 = pd.read_pickle('./data/Nr1_soils_coef_smex7_sen7.pcl')"
   ]
  },
  {
   "cell_type": "code",
   "execution_count": 61,
   "metadata": {
    "collapsed": true
   },
   "outputs": [],
   "source": [
    "sites = ['p301','Vcm','Nr1']\n",
    "\n",
    "df = pd.DataFrame(columns=['site','type','val'])"
   ]
  },
  {
   "cell_type": "code",
   "execution_count": 62,
   "metadata": {
    "collapsed": true
   },
   "outputs": [],
   "source": [
    "dfs = [p301,Vcm,Nr1]"
   ]
  },
  {
   "cell_type": "code",
   "execution_count": 63,
   "metadata": {
    "collapsed": false
   },
   "outputs": [],
   "source": [
    "sites2 = []\n",
    "types = []\n",
    "vals = []\n",
    "\n",
    "for tmp,site in zip(dfs,sites):\n",
    "    for typ in ['SMR_coef','PeakSWE_coef','TpeakSWE_coef']:     \n",
    "        vals.append(tmp.loc[tmp.combo == 'd3:s3',typ].as_matrix()[0])\n",
    "        types.append(typ)\n",
    "        sites2.append(site)"
   ]
  },
  {
   "cell_type": "code",
   "execution_count": 64,
   "metadata": {
    "collapsed": true
   },
   "outputs": [],
   "source": [
    "df = pd.DataFrame({'site':sites2,'type':types,'val':vals})"
   ]
  },
  {
   "cell_type": "code",
   "execution_count": 65,
   "metadata": {
    "collapsed": false
   },
   "outputs": [
    {
     "data": {
      "text/plain": [
       "['p301', 'Vcm', 'Nr1']"
      ]
     },
     "execution_count": 65,
     "metadata": {},
     "output_type": "execute_result"
    }
   ],
   "source": [
    "sites"
   ]
  },
  {
   "cell_type": "code",
   "execution_count": 67,
   "metadata": {
    "collapsed": false
   },
   "outputs": [
    {
     "data": {
      "text/plain": [
       "<matplotlib.axes._subplots.AxesSubplot at 0x113bc1150>"
      ]
     },
     "execution_count": 67,
     "metadata": {},
     "output_type": "execute_result"
    },
    {
     "data": {
      "image/png": "[encoded data removed]",
      "text/plain": [
       "<matplotlib.figure.Figure at 0x110f511d0>"
      ]
     },
     "metadata": {},
     "output_type": "display_data"
    }
   ],
   "source": [
    "sn.barplot(x='site',y='val',hue='type',data=df)"
   ]
  },
  {
   "cell_type": "code",
   "execution_count": 29,
   "metadata": {
    "collapsed": true
   },
   "outputs": [],
   "source": [
    "df['site'] = np.arange(1,4)"
   ]
  },
  {
   "cell_type": "code",
   "execution_count": 30,
   "metadata": {
    "collapsed": false
   },
   "outputs": [
    {
     "data": {
      "text/plain": [
       "<matplotlib.axes._subplots.AxesSubplot at 0x110eda450>"
      ]
     },
     "execution_count": 30,
     "metadata": {},
     "output_type": "execute_result"
    },
    {
     "data": {
      "image/png": "[encoded data removed]",
      "text/plain": [
       "<matplotlib.figure.Figure at 0x10f07b450>"
      ]
     },
     "metadata": {},
     "output_type": "display_data"
    }
   ],
   "source": [
    "sn.barplot(x='site',y='SMR',data=df,)"
   ]
  },
  {
   "cell_type": "code",
   "execution_count": null,
   "metadata": {
    "collapsed": true
   },
   "outputs": [],
   "source": []
  },
  {
   "cell_type": "code",
   "execution_count": 15,
   "metadata": {
    "collapsed": false
   },
   "outputs": [
    {
     "data": {
      "text/html": [
       "<div>\n",
       "<table border=\"1\" class=\"dataframe\">\n",
       "  <thead>\n",
       "    <tr style=\"text-align: right;\">\n",
       "      <th></th>\n",
       "      <th>combo</th>\n",
       "      <th>ksat</th>\n",
       "      <th>m</th>\n",
       "      <th>pa</th>\n",
       "      <th>po</th>\n",
       "      <th>root_depth</th>\n",
       "      <th>soil_depth</th>\n",
       "      <th>phi_o</th>\n",
       "      <th>p</th>\n",
       "      <th>phi_plant</th>\n",
       "      <th>phi_total</th>\n",
       "      <th>drainage</th>\n",
       "      <th>fc_storage</th>\n",
       "      <th>wp_storage</th>\n",
       "      <th>PAWS</th>\n",
       "      <th>intercept</th>\n",
       "      <th>SMR_coef</th>\n",
       "      <th>TpeakSWE_coef</th>\n",
       "      <th>PeakSWE_coef</th>\n",
       "    </tr>\n",
       "  </thead>\n",
       "  <tbody>\n",
       "    <tr>\n",
       "      <th>12</th>\n",
       "      <td>d3:s3</td>\n",
       "      <td>78.933</td>\n",
       "      <td>1.02408</td>\n",
       "      <td>0.437524</td>\n",
       "      <td>2.576251</td>\n",
       "      <td>7.441</td>\n",
       "      <td>11.441</td>\n",
       "      <td>0.477</td>\n",
       "      <td>4000</td>\n",
       "      <td>3.546058</td>\n",
       "      <td>5.44956</td>\n",
       "      <td>7.065166</td>\n",
       "      <td>1.599917</td>\n",
       "      <td>0.367894</td>\n",
       "      <td>1.232022</td>\n",
       "      <td>-8.655945e-15</td>\n",
       "      <td>0.009149</td>\n",
       "      <td>-0.031135</td>\n",
       "      <td>0.0341</td>\n",
       "    </tr>\n",
       "  </tbody>\n",
       "</table>\n",
       "</div>"
      ],
      "text/plain": [
       "    combo    ksat        m        pa        po  root_depth  soil_depth  phi_o  \\\n",
       "12  d3:s3  78.933  1.02408  0.437524  2.576251       7.441      11.441  0.477   \n",
       "\n",
       "       p  phi_plant  phi_total  drainage  fc_storage  wp_storage      PAWS  \\\n",
       "12  4000   3.546058    5.44956  7.065166    1.599917    0.367894  1.232022   \n",
       "\n",
       "       intercept  SMR_coef  TpeakSWE_coef  PeakSWE_coef  \n",
       "12 -8.655945e-15  0.009149      -0.031135        0.0341  "
      ]
     },
     "execution_count": 15,
     "metadata": {},
     "output_type": "execute_result"
    }
   ],
   "source": [
    "tmp.loc[tmp.combo == 'd3:s3']"
   ]
  },
  {
   "cell_type": "code",
   "execution_count": 9,
   "metadata": {
    "collapsed": true
   },
   "outputs": [],
   "source": [
    "combos = Nr1.combo.unique()"
   ]
  },
  {
   "cell_type": "code",
   "execution_count": 10,
   "metadata": {
    "collapsed": false
   },
   "outputs": [
    {
     "data": {
      "text/plain": [
       "array(['d1:s1', 'd1:s2', 'd1:s3', 'd1:s4', 'd1:s5', 'd2:s1', 'd2:s2',\n",
       "       'd2:s3', 'd2:s4', 'd2:s5', 'd3:s1', 'd3:s2', 'd3:s3', 'd3:s4',\n",
       "       'd3:s5', 'd4:s1', 'd4:s2', 'd4:s3', 'd4:s4', 'd4:s5', 'd5:s1',\n",
       "       'd5:s2', 'd5:s3', 'd5:s4', 'd5:s5'], dtype=object)"
      ]
     },
     "execution_count": 10,
     "metadata": {},
     "output_type": "execute_result"
    }
   ],
   "source": [
    "combos"
   ]
  },
  {
   "cell_type": "code",
   "execution_count": 11,
   "metadata": {
    "collapsed": false
   },
   "outputs": [
    {
     "data": {
      "text/plain": [
       "Index([u'combo', u'ksat', u'm', u'pa', u'po', u'root_depth', u'soil_depth',\n",
       "       u'phi_o', u'p', u'phi_plant', u'phi_total', u'drainage', u'fc_storage',\n",
       "       u'wp_storage', u'PAWS', u'intercept', u'SMR_coef', u'TpeakSWE_coef',\n",
       "       u'PeakSWE_coef'],\n",
       "      dtype='object')"
      ]
     },
     "execution_count": 11,
     "metadata": {},
     "output_type": "execute_result"
    }
   ],
   "source": [
    "Nr1.columns"
   ]
  },
  {
   "cell_type": "code",
   "execution_count": null,
   "metadata": {
    "collapsed": true
   },
   "outputs": [],
   "source": []
  }
 ],
 "metadata": {
  "kernelspec": {
   "display_name": "Python 2",
   "language": "python",
   "name": "python2"
  },
  "language_info": {
   "codemirror_mode": {
    "name": "ipython",
    "version": 2
   },
   "file_extension": ".py",
   "mimetype": "text/x-python",
   "name": "python",
   "nbconvert_exporter": "python",
   "pygments_lexer": "ipython2",
   "version": "2.7.12"
  }
 },
 "nbformat": 4,
 "nbformat_minor": 0
}
