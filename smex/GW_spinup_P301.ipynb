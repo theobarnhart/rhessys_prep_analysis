{
 "cells": [
  {
   "cell_type": "code",
   "execution_count": 4,
   "metadata": {
    "collapsed": false
   },
   "outputs": [],
   "source": [
    "tmp = pd.read_pickle('../providence/data/providence_upper_met_p.pcl')"
   ]
  },
  {
   "cell_type": "code",
   "execution_count": 5,
   "metadata": {
    "collapsed": true
   },
   "outputs": [],
   "source": [
    "crn = pd.DataFrame(tmp[['precip','Tmax','Tmin','Tave','rain_duration']])"
   ]
  },
  {
   "cell_type": "code",
   "execution_count": 7,
   "metadata": {
    "collapsed": true
   },
   "outputs": [],
   "source": [
    "crn.columns = ['P','Tmax','Tmin','Tave','rain_duration']\n",
    "crn.P *= 0.001 # mm to m"
   ]
  },
  {
   "cell_type": "code",
   "execution_count": 8,
   "metadata": {
    "collapsed": false
   },
   "outputs": [
    {
     "data": {
      "text/html": [
       "<div>\n",
       "<table border=\"1\" class=\"dataframe\">\n",
       "  <thead>\n",
       "    <tr style=\"text-align: right;\">\n",
       "      <th></th>\n",
       "      <th>P</th>\n",
       "      <th>Tmax</th>\n",
       "      <th>Tmin</th>\n",
       "      <th>Tave</th>\n",
       "      <th>rain_duration</th>\n",
       "    </tr>\n",
       "  </thead>\n",
       "  <tbody>\n",
       "    <tr>\n",
       "      <th>2008-10-01</th>\n",
       "      <td>0.000</td>\n",
       "      <td>24.870</td>\n",
       "      <td>14.480</td>\n",
       "      <td>18.203333</td>\n",
       "      <td>3</td>\n",
       "    </tr>\n",
       "    <tr>\n",
       "      <th>2008-10-02</th>\n",
       "      <td>0.000</td>\n",
       "      <td>18.960</td>\n",
       "      <td>10.240</td>\n",
       "      <td>14.393333</td>\n",
       "      <td>3</td>\n",
       "    </tr>\n",
       "    <tr>\n",
       "      <th>2008-10-03</th>\n",
       "      <td>0.002</td>\n",
       "      <td>14.520</td>\n",
       "      <td>6.913</td>\n",
       "      <td>10.579292</td>\n",
       "      <td>3</td>\n",
       "    </tr>\n",
       "    <tr>\n",
       "      <th>2008-10-04</th>\n",
       "      <td>0.031</td>\n",
       "      <td>7.442</td>\n",
       "      <td>3.633</td>\n",
       "      <td>6.088833</td>\n",
       "      <td>3</td>\n",
       "    </tr>\n",
       "    <tr>\n",
       "      <th>2008-10-05</th>\n",
       "      <td>0.000</td>\n",
       "      <td>9.840</td>\n",
       "      <td>3.633</td>\n",
       "      <td>6.412625</td>\n",
       "      <td>3</td>\n",
       "    </tr>\n",
       "  </tbody>\n",
       "</table>\n",
       "</div>"
      ],
      "text/plain": [
       "                P    Tmax    Tmin       Tave  rain_duration\n",
       "2008-10-01  0.000  24.870  14.480  18.203333              3\n",
       "2008-10-02  0.000  18.960  10.240  14.393333              3\n",
       "2008-10-03  0.002  14.520   6.913  10.579292              3\n",
       "2008-10-04  0.031   7.442   3.633   6.088833              3\n",
       "2008-10-05  0.000   9.840   3.633   6.412625              3"
      ]
     },
     "execution_count": 8,
     "metadata": {},
     "output_type": "execute_result"
    }
   ],
   "source": [
    "crn.head()"
   ]
  },
  {
   "cell_type": "code",
   "execution_count": 9,
   "metadata": {
    "collapsed": false
   },
   "outputs": [
    {
     "data": {
      "text/html": [
       "<div>\n",
       "<table border=\"1\" class=\"dataframe\">\n",
       "  <thead>\n",
       "    <tr style=\"text-align: right;\">\n",
       "      <th></th>\n",
       "      <th>P</th>\n",
       "      <th>Tmax</th>\n",
       "      <th>Tmin</th>\n",
       "      <th>Tave</th>\n",
       "      <th>rain_duration</th>\n",
       "    </tr>\n",
       "  </thead>\n",
       "  <tbody>\n",
       "    <tr>\n",
       "      <th>2011-09-26</th>\n",
       "      <td>0.0</td>\n",
       "      <td>21.88</td>\n",
       "      <td>9.26</td>\n",
       "      <td>14.567660</td>\n",
       "      <td>3</td>\n",
       "    </tr>\n",
       "    <tr>\n",
       "      <th>2011-09-27</th>\n",
       "      <td>0.0</td>\n",
       "      <td>24.38</td>\n",
       "      <td>15.33</td>\n",
       "      <td>18.686809</td>\n",
       "      <td>3</td>\n",
       "    </tr>\n",
       "    <tr>\n",
       "      <th>2011-09-28</th>\n",
       "      <td>0.0</td>\n",
       "      <td>26.55</td>\n",
       "      <td>15.49</td>\n",
       "      <td>19.705745</td>\n",
       "      <td>3</td>\n",
       "    </tr>\n",
       "    <tr>\n",
       "      <th>2011-09-29</th>\n",
       "      <td>0.0</td>\n",
       "      <td>29.08</td>\n",
       "      <td>16.68</td>\n",
       "      <td>20.793830</td>\n",
       "      <td>3</td>\n",
       "    </tr>\n",
       "    <tr>\n",
       "      <th>2011-09-30</th>\n",
       "      <td>0.0</td>\n",
       "      <td>24.90</td>\n",
       "      <td>12.32</td>\n",
       "      <td>17.590426</td>\n",
       "      <td>3</td>\n",
       "    </tr>\n",
       "  </tbody>\n",
       "</table>\n",
       "</div>"
      ],
      "text/plain": [
       "              P   Tmax   Tmin       Tave  rain_duration\n",
       "2011-09-26  0.0  21.88   9.26  14.567660              3\n",
       "2011-09-27  0.0  24.38  15.33  18.686809              3\n",
       "2011-09-28  0.0  26.55  15.49  19.705745              3\n",
       "2011-09-29  0.0  29.08  16.68  20.793830              3\n",
       "2011-09-30  0.0  24.90  12.32  17.590426              3"
      ]
     },
     "execution_count": 9,
     "metadata": {},
     "output_type": "execute_result"
    }
   ],
   "source": [
    "crn.tail()"
   ]
  },
  {
   "cell_type": "code",
   "execution_count": 11,
   "metadata": {
    "collapsed": true
   },
   "outputs": [],
   "source": [
    "nonleap = crn.loc['2008-10-1':'2009-09-30'].copy().reset_index()\n",
    "leap = crn.loc['2008-10-1':'2009-10-01'].copy().reset_index()\n",
    "year_end = crn.loc['2008-10-1':'2009-10-15'].copy().reset_index() # not a leap year"
   ]
  },
  {
   "cell_type": "code",
   "execution_count": 12,
   "metadata": {
    "collapsed": false
   },
   "outputs": [],
   "source": [
    "strt = '2008-10-1'\n",
    "\n",
    "out = pd.concat([nonleap,\n",
    "                nonleap,\n",
    "                nonleap,\n",
    "                leap,\n",
    "                nonleap,\n",
    "                nonleap,\n",
    "                nonleap,\n",
    "                leap,\n",
    "                nonleap,\n",
    "                year_end],axis=0)\n",
    "\n",
    "out.index = pd.DatetimeIndex(pd.date_range(start=strt,freq='D',periods=len(out)))"
   ]
  },
  {
   "cell_type": "code",
   "execution_count": 13,
   "metadata": {
    "collapsed": false
   },
   "outputs": [
    {
     "data": {
      "text/html": [
       "<div>\n",
       "<table border=\"1\" class=\"dataframe\">\n",
       "  <thead>\n",
       "    <tr style=\"text-align: right;\">\n",
       "      <th></th>\n",
       "      <th>index</th>\n",
       "      <th>P</th>\n",
       "      <th>Tmax</th>\n",
       "      <th>Tmin</th>\n",
       "      <th>Tave</th>\n",
       "      <th>rain_duration</th>\n",
       "    </tr>\n",
       "  </thead>\n",
       "  <tbody>\n",
       "    <tr>\n",
       "      <th>2008-10-01</th>\n",
       "      <td>2008-10-01</td>\n",
       "      <td>0.000</td>\n",
       "      <td>24.870</td>\n",
       "      <td>14.480</td>\n",
       "      <td>18.203333</td>\n",
       "      <td>3</td>\n",
       "    </tr>\n",
       "    <tr>\n",
       "      <th>2008-10-02</th>\n",
       "      <td>2008-10-02</td>\n",
       "      <td>0.000</td>\n",
       "      <td>18.960</td>\n",
       "      <td>10.240</td>\n",
       "      <td>14.393333</td>\n",
       "      <td>3</td>\n",
       "    </tr>\n",
       "    <tr>\n",
       "      <th>2008-10-03</th>\n",
       "      <td>2008-10-03</td>\n",
       "      <td>0.002</td>\n",
       "      <td>14.520</td>\n",
       "      <td>6.913</td>\n",
       "      <td>10.579292</td>\n",
       "      <td>3</td>\n",
       "    </tr>\n",
       "    <tr>\n",
       "      <th>2008-10-04</th>\n",
       "      <td>2008-10-04</td>\n",
       "      <td>0.031</td>\n",
       "      <td>7.442</td>\n",
       "      <td>3.633</td>\n",
       "      <td>6.088833</td>\n",
       "      <td>3</td>\n",
       "    </tr>\n",
       "    <tr>\n",
       "      <th>2008-10-05</th>\n",
       "      <td>2008-10-05</td>\n",
       "      <td>0.000</td>\n",
       "      <td>9.840</td>\n",
       "      <td>3.633</td>\n",
       "      <td>6.412625</td>\n",
       "      <td>3</td>\n",
       "    </tr>\n",
       "  </tbody>\n",
       "</table>\n",
       "</div>"
      ],
      "text/plain": [
       "                index      P    Tmax    Tmin       Tave  rain_duration\n",
       "2008-10-01 2008-10-01  0.000  24.870  14.480  18.203333              3\n",
       "2008-10-02 2008-10-02  0.000  18.960  10.240  14.393333              3\n",
       "2008-10-03 2008-10-03  0.002  14.520   6.913  10.579292              3\n",
       "2008-10-04 2008-10-04  0.031   7.442   3.633   6.088833              3\n",
       "2008-10-05 2008-10-05  0.000   9.840   3.633   6.412625              3"
      ]
     },
     "execution_count": 13,
     "metadata": {},
     "output_type": "execute_result"
    }
   ],
   "source": [
    "out.head()"
   ]
  },
  {
   "cell_type": "code",
   "execution_count": 14,
   "metadata": {
    "collapsed": false
   },
   "outputs": [
    {
     "data": {
      "text/html": [
       "<div>\n",
       "<table border=\"1\" class=\"dataframe\">\n",
       "  <thead>\n",
       "    <tr style=\"text-align: right;\">\n",
       "      <th></th>\n",
       "      <th>index</th>\n",
       "      <th>P</th>\n",
       "      <th>Tmax</th>\n",
       "      <th>Tmin</th>\n",
       "      <th>Tave</th>\n",
       "      <th>rain_duration</th>\n",
       "    </tr>\n",
       "  </thead>\n",
       "  <tbody>\n",
       "    <tr>\n",
       "      <th>2018-10-11</th>\n",
       "      <td>2009-10-11</td>\n",
       "      <td>0.000</td>\n",
       "      <td>16.580</td>\n",
       "      <td>6.547</td>\n",
       "      <td>9.743500</td>\n",
       "      <td>3</td>\n",
       "    </tr>\n",
       "    <tr>\n",
       "      <th>2018-10-12</th>\n",
       "      <td>2009-10-12</td>\n",
       "      <td>0.000</td>\n",
       "      <td>10.830</td>\n",
       "      <td>1.747</td>\n",
       "      <td>5.533083</td>\n",
       "      <td>3</td>\n",
       "    </tr>\n",
       "    <tr>\n",
       "      <th>2018-10-13</th>\n",
       "      <td>2009-10-13</td>\n",
       "      <td>0.210</td>\n",
       "      <td>7.287</td>\n",
       "      <td>1.077</td>\n",
       "      <td>4.326417</td>\n",
       "      <td>3</td>\n",
       "    </tr>\n",
       "    <tr>\n",
       "      <th>2018-10-14</th>\n",
       "      <td>2009-10-14</td>\n",
       "      <td>0.045</td>\n",
       "      <td>15.040</td>\n",
       "      <td>7.310</td>\n",
       "      <td>9.669208</td>\n",
       "      <td>3</td>\n",
       "    </tr>\n",
       "    <tr>\n",
       "      <th>2018-10-15</th>\n",
       "      <td>2009-10-15</td>\n",
       "      <td>0.000</td>\n",
       "      <td>17.610</td>\n",
       "      <td>8.880</td>\n",
       "      <td>12.357083</td>\n",
       "      <td>3</td>\n",
       "    </tr>\n",
       "  </tbody>\n",
       "</table>\n",
       "</div>"
      ],
      "text/plain": [
       "                index      P    Tmax   Tmin       Tave  rain_duration\n",
       "2018-10-11 2009-10-11  0.000  16.580  6.547   9.743500              3\n",
       "2018-10-12 2009-10-12  0.000  10.830  1.747   5.533083              3\n",
       "2018-10-13 2009-10-13  0.210   7.287  1.077   4.326417              3\n",
       "2018-10-14 2009-10-14  0.045  15.040  7.310   9.669208              3\n",
       "2018-10-15 2009-10-15  0.000  17.610  8.880  12.357083              3"
      ]
     },
     "execution_count": 14,
     "metadata": {},
     "output_type": "execute_result"
    }
   ],
   "source": [
    "out.tail()"
   ]
  },
  {
   "cell_type": "code",
   "execution_count": 15,
   "metadata": {
    "collapsed": false
   },
   "outputs": [],
   "source": [
    "header = '2008 10 1'\n",
    "np.savetxt('/RHESSys/providence/theo_p301_flux/clim/smex_spinup.rain',out.P,comments='',header=header,fmt='%10.8f')\n",
    "np.savetxt('/RHESSys/providence/theo_p301_flux/clim/smex_spinup.tmin',out.Tmin,comments='',header=header,fmt='%10.8f')\n",
    "np.savetxt('/RHESSys/providence/theo_p301_flux/clim/smex_spinup.tmax',out.Tmax,comments='',header=header,fmt='%10.8f')\n",
    "np.savetxt('/RHESSys/providence/theo_p301_flux/clim/smex_spinup.tavg',out.Tave,comments='',header=header,fmt='%10.8f')\n",
    "np.savetxt('/RHESSys/providence/theo_p301_flux/clim/smex_spinup.daytime_rain_duration',out.rain_duration,comments='',header=header,fmt='%10.8f')"
   ]
  },
  {
   "cell_type": "code",
   "execution_count": null,
   "metadata": {
    "collapsed": true
   },
   "outputs": [],
   "source": []
  }
 ],
 "metadata": {
  "kernelspec": {
   "display_name": "Python 2",
   "language": "python",
   "name": "python2"
  },
  "language_info": {
   "codemirror_mode": {
    "name": "ipython",
    "version": 2
   },
   "file_extension": ".py",
   "mimetype": "text/x-python",
   "name": "python",
   "nbconvert_exporter": "python",
   "pygments_lexer": "ipython2",
   "version": "2.7.12"
  }
 },
 "nbformat": 4,
 "nbformat_minor": 0
}
