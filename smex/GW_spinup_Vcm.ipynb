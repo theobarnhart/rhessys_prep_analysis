{
 "cells": [
  {
   "cell_type": "code",
   "execution_count": 3,
   "metadata": {
    "collapsed": true
   },
   "outputs": [],
   "source": [
    "tmp = pd.read_pickle('../jemez/data/Vcm_hybrid_precip.pcl')\n",
    "crn = pd.DataFrame(tmp[['hybrid_p','Vcm_tmin','Vcm_tave','Vcm_tmax','Vcm_rain_duration']])"
   ]
  },
  {
   "cell_type": "code",
   "execution_count": 5,
   "metadata": {
    "collapsed": true
   },
   "outputs": [],
   "source": [
    "crn.columns = ['P','Tmin','Tave','Tmax','rain_duration']\n",
    "crn.P *= 0.001 # mm to m"
   ]
  },
  {
   "cell_type": "code",
   "execution_count": 7,
   "metadata": {
    "collapsed": false
   },
   "outputs": [
    {
     "data": {
      "text/html": [
       "<div>\n",
       "<table border=\"1\" class=\"dataframe\">\n",
       "  <thead>\n",
       "    <tr style=\"text-align: right;\">\n",
       "      <th></th>\n",
       "      <th>P</th>\n",
       "      <th>Tmin</th>\n",
       "      <th>Tave</th>\n",
       "      <th>Tmax</th>\n",
       "      <th>rain_duration</th>\n",
       "    </tr>\n",
       "  </thead>\n",
       "  <tbody>\n",
       "    <tr>\n",
       "      <th>2009-10-01</th>\n",
       "      <td>0.001647</td>\n",
       "      <td>-0.709345</td>\n",
       "      <td>2.936486</td>\n",
       "      <td>7.834244</td>\n",
       "      <td>1.176688</td>\n",
       "    </tr>\n",
       "    <tr>\n",
       "      <th>2009-10-02</th>\n",
       "      <td>0.001647</td>\n",
       "      <td>-2.309345</td>\n",
       "      <td>5.236486</td>\n",
       "      <td>12.234244</td>\n",
       "      <td>1.176688</td>\n",
       "    </tr>\n",
       "    <tr>\n",
       "      <th>2009-10-03</th>\n",
       "      <td>0.001647</td>\n",
       "      <td>0.490655</td>\n",
       "      <td>7.736486</td>\n",
       "      <td>13.934244</td>\n",
       "      <td>1.176688</td>\n",
       "    </tr>\n",
       "    <tr>\n",
       "      <th>2009-10-04</th>\n",
       "      <td>0.001647</td>\n",
       "      <td>5.490655</td>\n",
       "      <td>8.336486</td>\n",
       "      <td>13.334244</td>\n",
       "      <td>1.176688</td>\n",
       "    </tr>\n",
       "    <tr>\n",
       "      <th>2009-10-05</th>\n",
       "      <td>0.001647</td>\n",
       "      <td>3.190655</td>\n",
       "      <td>8.836486</td>\n",
       "      <td>14.434244</td>\n",
       "      <td>1.176688</td>\n",
       "    </tr>\n",
       "  </tbody>\n",
       "</table>\n",
       "</div>"
      ],
      "text/plain": [
       "                   P      Tmin      Tave       Tmax  rain_duration\n",
       "2009-10-01  0.001647 -0.709345  2.936486   7.834244       1.176688\n",
       "2009-10-02  0.001647 -2.309345  5.236486  12.234244       1.176688\n",
       "2009-10-03  0.001647  0.490655  7.736486  13.934244       1.176688\n",
       "2009-10-04  0.001647  5.490655  8.336486  13.334244       1.176688\n",
       "2009-10-05  0.001647  3.190655  8.836486  14.434244       1.176688"
      ]
     },
     "execution_count": 7,
     "metadata": {},
     "output_type": "execute_result"
    }
   ],
   "source": [
    "crn.head()"
   ]
  },
  {
   "cell_type": "code",
   "execution_count": 6,
   "metadata": {
    "collapsed": false
   },
   "outputs": [
    {
     "data": {
      "text/html": [
       "<div>\n",
       "<table border=\"1\" class=\"dataframe\">\n",
       "  <thead>\n",
       "    <tr style=\"text-align: right;\">\n",
       "      <th></th>\n",
       "      <th>P</th>\n",
       "      <th>Tmin</th>\n",
       "      <th>Tave</th>\n",
       "      <th>Tmax</th>\n",
       "      <th>rain_duration</th>\n",
       "    </tr>\n",
       "  </thead>\n",
       "  <tbody>\n",
       "    <tr>\n",
       "      <th>2012-10-01</th>\n",
       "      <td>0.001647</td>\n",
       "      <td>5.490655</td>\n",
       "      <td>10.936486</td>\n",
       "      <td>17.834244</td>\n",
       "      <td>1.176688</td>\n",
       "    </tr>\n",
       "    <tr>\n",
       "      <th>2012-10-02</th>\n",
       "      <td>0.001647</td>\n",
       "      <td>3.190655</td>\n",
       "      <td>11.436486</td>\n",
       "      <td>18.334244</td>\n",
       "      <td>1.176688</td>\n",
       "    </tr>\n",
       "    <tr>\n",
       "      <th>2012-10-03</th>\n",
       "      <td>0.001647</td>\n",
       "      <td>9.890655</td>\n",
       "      <td>14.136486</td>\n",
       "      <td>18.934244</td>\n",
       "      <td>1.176688</td>\n",
       "    </tr>\n",
       "    <tr>\n",
       "      <th>2012-10-04</th>\n",
       "      <td>0.001647</td>\n",
       "      <td>6.590655</td>\n",
       "      <td>13.136486</td>\n",
       "      <td>18.934244</td>\n",
       "      <td>1.176688</td>\n",
       "    </tr>\n",
       "    <tr>\n",
       "      <th>2012-10-05</th>\n",
       "      <td>0.001647</td>\n",
       "      <td>5.490655</td>\n",
       "      <td>11.736486</td>\n",
       "      <td>16.134244</td>\n",
       "      <td>1.176688</td>\n",
       "    </tr>\n",
       "  </tbody>\n",
       "</table>\n",
       "</div>"
      ],
      "text/plain": [
       "                   P      Tmin       Tave       Tmax  rain_duration\n",
       "2012-10-01  0.001647  5.490655  10.936486  17.834244       1.176688\n",
       "2012-10-02  0.001647  3.190655  11.436486  18.334244       1.176688\n",
       "2012-10-03  0.001647  9.890655  14.136486  18.934244       1.176688\n",
       "2012-10-04  0.001647  6.590655  13.136486  18.934244       1.176688\n",
       "2012-10-05  0.001647  5.490655  11.736486  16.134244       1.176688"
      ]
     },
     "execution_count": 6,
     "metadata": {},
     "output_type": "execute_result"
    }
   ],
   "source": [
    "crn.tail()"
   ]
  },
  {
   "cell_type": "code",
   "execution_count": 34,
   "metadata": {
    "collapsed": true
   },
   "outputs": [],
   "source": [
    "nonleap = crn.loc['2011-10-1':'2012-09-29'].copy().reset_index()\n",
    "leap = crn.loc['2011-10-1':'2012-09-30'].copy().reset_index()\n",
    "year_end = crn.loc['2011-10-1':'2012-10-4'].copy().reset_index() # a non-leap year"
   ]
  },
  {
   "cell_type": "code",
   "execution_count": 42,
   "metadata": {
    "collapsed": false
   },
   "outputs": [
    {
     "data": {
      "text/plain": [
       "DatetimeIndex([], dtype='datetime64[ns]', freq='D')"
      ]
     },
     "execution_count": 42,
     "metadata": {},
     "output_type": "execute_result"
    }
   ],
   "source": [
    "pd.DatetimeIndex(pd.date_range(start=strt,freq='D',periods=len(out)))"
   ]
  },
  {
   "cell_type": "code",
   "execution_count": 61,
   "metadata": {
    "collapsed": false
   },
   "outputs": [],
   "source": [
    "strt = '1952-10-1'\n",
    "\n",
    "years = pd.concat([leap,\n",
    "                nonleap,\n",
    "                nonleap,\n",
    "                nonleap],axis=0)\n",
    "\n",
    "year_end = pd.concat([leap,\n",
    "                year_end],axis=0)\n",
    "\n",
    "out = pd.concat([years,years,years,years,years,years,years,years,years,years,years,years,\n",
    "                years,years,years,years,years,years,years,years,years,years,years,years,\n",
    "                 years,years,years,years,years,years,years,years,years,years,years,years,\n",
    "                 years,years,years,years,years,years,years,years,years,years,years,years,\n",
    "                 years,years,years,years,years,years,years,years,years,years,years,years,years,\n",
    "                 years,years,years,years,years,years,years,years,years,year_end],axis=0)\n",
    "\n",
    "out.index = pd.DatetimeIndex(pd.date_range(start=strt,freq='D',periods=len(out)))"
   ]
  },
  {
   "cell_type": "code",
   "execution_count": 62,
   "metadata": {
    "collapsed": false
   },
   "outputs": [
    {
     "data": {
      "text/plain": [
       "106666"
      ]
     },
     "execution_count": 62,
     "metadata": {},
     "output_type": "execute_result"
    }
   ],
   "source": [
    "len(out)"
   ]
  },
  {
   "cell_type": "code",
   "execution_count": 63,
   "metadata": {
    "collapsed": false
   },
   "outputs": [
    {
     "data": {
      "text/html": [
       "<div>\n",
       "<table border=\"1\" class=\"dataframe\">\n",
       "  <thead>\n",
       "    <tr style=\"text-align: right;\">\n",
       "      <th></th>\n",
       "      <th>index</th>\n",
       "      <th>P</th>\n",
       "      <th>Tmin</th>\n",
       "      <th>Tave</th>\n",
       "      <th>Tmax</th>\n",
       "      <th>rain_duration</th>\n",
       "    </tr>\n",
       "  </thead>\n",
       "  <tbody>\n",
       "    <tr>\n",
       "      <th>2244-10-11</th>\n",
       "      <td>2012-09-30</td>\n",
       "      <td>0.002845</td>\n",
       "      <td>4.242253</td>\n",
       "      <td>9.768752</td>\n",
       "      <td>16.526511</td>\n",
       "      <td>1.800283</td>\n",
       "    </tr>\n",
       "    <tr>\n",
       "      <th>2244-10-12</th>\n",
       "      <td>2012-10-01</td>\n",
       "      <td>0.001647</td>\n",
       "      <td>5.490655</td>\n",
       "      <td>10.936486</td>\n",
       "      <td>17.834244</td>\n",
       "      <td>1.176688</td>\n",
       "    </tr>\n",
       "    <tr>\n",
       "      <th>2244-10-13</th>\n",
       "      <td>2012-10-02</td>\n",
       "      <td>0.001647</td>\n",
       "      <td>3.190655</td>\n",
       "      <td>11.436486</td>\n",
       "      <td>18.334244</td>\n",
       "      <td>1.176688</td>\n",
       "    </tr>\n",
       "    <tr>\n",
       "      <th>2244-10-14</th>\n",
       "      <td>2012-10-03</td>\n",
       "      <td>0.001647</td>\n",
       "      <td>9.890655</td>\n",
       "      <td>14.136486</td>\n",
       "      <td>18.934244</td>\n",
       "      <td>1.176688</td>\n",
       "    </tr>\n",
       "    <tr>\n",
       "      <th>2244-10-15</th>\n",
       "      <td>2012-10-04</td>\n",
       "      <td>0.001647</td>\n",
       "      <td>6.590655</td>\n",
       "      <td>13.136486</td>\n",
       "      <td>18.934244</td>\n",
       "      <td>1.176688</td>\n",
       "    </tr>\n",
       "  </tbody>\n",
       "</table>\n",
       "</div>"
      ],
      "text/plain": [
       "                index         P      Tmin       Tave       Tmax  rain_duration\n",
       "2244-10-11 2012-09-30  0.002845  4.242253   9.768752  16.526511       1.800283\n",
       "2244-10-12 2012-10-01  0.001647  5.490655  10.936486  17.834244       1.176688\n",
       "2244-10-13 2012-10-02  0.001647  3.190655  11.436486  18.334244       1.176688\n",
       "2244-10-14 2012-10-03  0.001647  9.890655  14.136486  18.934244       1.176688\n",
       "2244-10-15 2012-10-04  0.001647  6.590655  13.136486  18.934244       1.176688"
      ]
     },
     "execution_count": 63,
     "metadata": {},
     "output_type": "execute_result"
    }
   ],
   "source": [
    "out.tail()"
   ]
  },
  {
   "cell_type": "code",
   "execution_count": 64,
   "metadata": {
    "collapsed": false
   },
   "outputs": [],
   "source": [
    "header = '1952 10 1'\n",
    "np.savetxt('/RHESSys/jemez/clim/smex_spinup.rain',out.P,comments='',header=header,fmt='%10.8f')\n",
    "np.savetxt('/RHESSys/jemez/clim/smex_spinup.tmin',out.Tmin,comments='',header=header,fmt='%10.8f')\n",
    "np.savetxt('/RHESSys/jemez/clim/smex_spinup.tmax',out.Tmax,comments='',header=header,fmt='%10.8f')\n",
    "np.savetxt('/RHESSys/jemez/clim/smex_spinup.tavg',out.Tave,comments='',header=header,fmt='%10.8f')\n",
    "np.savetxt('/RHESSys/jemez/clim/smex_spinup.daytime_rain_duration',out.rain_duration,comments='',header=header,fmt='%10.8f')"
   ]
  },
  {
   "cell_type": "code",
   "execution_count": null,
   "metadata": {
    "collapsed": true
   },
   "outputs": [],
   "source": []
  }
 ],
 "metadata": {
  "kernelspec": {
   "display_name": "Python 2",
   "language": "python",
   "name": "python2"
  },
  "language_info": {
   "codemirror_mode": {
    "name": "ipython",
    "version": 2
   },
   "file_extension": ".py",
   "mimetype": "text/x-python",
   "name": "python",
   "nbconvert_exporter": "python",
   "pygments_lexer": "ipython2",
   "version": "2.7.12"
  }
 },
 "nbformat": 4,
 "nbformat_minor": 0
}
