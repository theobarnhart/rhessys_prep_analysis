{
 "cells": [
  {
   "cell_type": "code",
   "execution_count": 1,
   "metadata": {},
   "outputs": [],
   "source": [
    "import numpy as np\n",
    "import pandas as pd\n",
    "import glob\n",
    "import ipyparallel as p\n",
    "import os\n",
    "import ntpath\n",
    "import ProgressBar as pb\n",
    "from pymail import alert\n",
    "import time"
   ]
  },
  {
   "cell_type": "code",
   "execution_count": 2,
   "metadata": {},
   "outputs": [],
   "source": [
    "exname = 'smex7_sen'\n",
    "method = '7'\n",
    "site = 'P301'"
   ]
  },
  {
   "cell_type": "code",
   "execution_count": 3,
   "metadata": {},
   "outputs": [],
   "source": [
    "files = glob.glob('/Volumes/data/RHESSys_out/P301/%s/*_basin.daily'%exname)"
   ]
  },
  {
   "cell_type": "code",
   "execution_count": 4,
   "metadata": {},
   "outputs": [
    {
     "data": {
      "text/plain": [
       "250000"
      ]
     },
     "execution_count": 4,
     "metadata": {},
     "output_type": "execute_result"
    }
   ],
   "source": [
    "len(files)"
   ]
  },
  {
   "cell_type": "code",
   "execution_count": 5,
   "metadata": {},
   "outputs": [],
   "source": [
    "params = pd.read_pickle('./data/soil_params_multispinup_%s_smex%s_sen.pcl'%(site,method))"
   ]
  },
  {
   "cell_type": "code",
   "execution_count": 33,
   "metadata": {},
   "outputs": [
    {
     "data": {
      "text/plain": [
       "array(['d1:s1', 'd1:s2', 'd1:s3', 'd1:s4', 'd1:s5', 'd2:s1', 'd2:s2',\n",
       "       'd2:s3', 'd2:s4', 'd2:s5', 'd3:s1', 'd3:s2', 'd3:s3', 'd3:s4',\n",
       "       'd3:s5', 'd4:s1', 'd4:s2', 'd4:s3', 'd4:s4', 'd4:s5', 'd5:s1',\n",
       "       'd5:s2', 'd5:s3', 'd5:s4', 'd5:s5'], dtype=object)"
      ]
     },
     "execution_count": 33,
     "metadata": {},
     "output_type": "execute_result"
    }
   ],
   "source": [
    "params.combo.unique()"
   ]
  },
  {
   "cell_type": "code",
   "execution_count": 29,
   "metadata": {},
   "outputs": [
    {
     "data": {
      "text/html": [
       "<div>\n",
       "<style scoped>\n",
       "    .dataframe tbody tr th:only-of-type {\n",
       "        vertical-align: middle;\n",
       "    }\n",
       "\n",
       "    .dataframe tbody tr th {\n",
       "        vertical-align: top;\n",
       "    }\n",
       "\n",
       "    .dataframe thead th {\n",
       "        text-align: right;\n",
       "    }\n",
       "</style>\n",
       "<table border=\"1\" class=\"dataframe\">\n",
       "  <thead>\n",
       "    <tr style=\"text-align: right;\">\n",
       "      <th></th>\n",
       "      <th>MAP</th>\n",
       "      <th>PeakSWE</th>\n",
       "      <th>SMR</th>\n",
       "      <th>TpeakSWE</th>\n",
       "      <th>combo</th>\n",
       "      <th>idx</th>\n",
       "      <th>ksat</th>\n",
       "      <th>m</th>\n",
       "      <th>pa</th>\n",
       "      <th>po</th>\n",
       "      <th>...</th>\n",
       "      <th>rz_storage</th>\n",
       "      <th>rz_drainage</th>\n",
       "      <th>unsat_storage</th>\n",
       "      <th>unsat_drainage</th>\n",
       "      <th>sat_def</th>\n",
       "      <th>sat_def_z</th>\n",
       "      <th>sm</th>\n",
       "      <th>gwStore</th>\n",
       "      <th>gwFlux</th>\n",
       "      <th>ETRate</th>\n",
       "    </tr>\n",
       "  </thead>\n",
       "  <tbody>\n",
       "    <tr>\n",
       "      <th>0</th>\n",
       "      <td>0.325</td>\n",
       "      <td>0.521211</td>\n",
       "      <td>0.014403</td>\n",
       "      <td>113.0</td>\n",
       "      <td>d1:s1</td>\n",
       "      <td>0</td>\n",
       "      <td>757.89</td>\n",
       "      <td>1.2548</td>\n",
       "      <td>0.050794</td>\n",
       "      <td>0.516732</td>\n",
       "      <td>...</td>\n",
       "      <td>3273.973193</td>\n",
       "      <td>0.0</td>\n",
       "      <td>1097.506537</td>\n",
       "      <td>0.000000</td>\n",
       "      <td>4930.146548</td>\n",
       "      <td>11333.670226</td>\n",
       "      <td>72.746216</td>\n",
       "      <td>392564.529297</td>\n",
       "      <td>0.0</td>\n",
       "      <td>0.418232</td>\n",
       "    </tr>\n",
       "    <tr>\n",
       "      <th>1</th>\n",
       "      <td>0.325</td>\n",
       "      <td>0.521211</td>\n",
       "      <td>0.014403</td>\n",
       "      <td>113.0</td>\n",
       "      <td>d1:s2</td>\n",
       "      <td>0</td>\n",
       "      <td>757.89</td>\n",
       "      <td>1.2548</td>\n",
       "      <td>0.076191</td>\n",
       "      <td>0.516732</td>\n",
       "      <td>...</td>\n",
       "      <td>3124.028192</td>\n",
       "      <td>0.0</td>\n",
       "      <td>1026.603452</td>\n",
       "      <td>73.020907</td>\n",
       "      <td>4854.259079</td>\n",
       "      <td>11159.216274</td>\n",
       "      <td>72.746216</td>\n",
       "      <td>392564.603777</td>\n",
       "      <td>0.0</td>\n",
       "      <td>0.418232</td>\n",
       "    </tr>\n",
       "    <tr>\n",
       "      <th>2</th>\n",
       "      <td>0.325</td>\n",
       "      <td>0.521211</td>\n",
       "      <td>0.014403</td>\n",
       "      <td>113.0</td>\n",
       "      <td>d1:s3</td>\n",
       "      <td>0</td>\n",
       "      <td>757.89</td>\n",
       "      <td>1.2548</td>\n",
       "      <td>0.101588</td>\n",
       "      <td>0.516732</td>\n",
       "      <td>...</td>\n",
       "      <td>2978.818824</td>\n",
       "      <td>0.0</td>\n",
       "      <td>969.485761</td>\n",
       "      <td>120.443883</td>\n",
       "      <td>4798.196733</td>\n",
       "      <td>11030.337318</td>\n",
       "      <td>72.746216</td>\n",
       "      <td>392564.603777</td>\n",
       "      <td>0.0</td>\n",
       "      <td>0.418232</td>\n",
       "    </tr>\n",
       "    <tr>\n",
       "      <th>3</th>\n",
       "      <td>0.325</td>\n",
       "      <td>0.521211</td>\n",
       "      <td>0.014403</td>\n",
       "      <td>113.0</td>\n",
       "      <td>d1:s4</td>\n",
       "      <td>0</td>\n",
       "      <td>757.89</td>\n",
       "      <td>1.2548</td>\n",
       "      <td>0.126985</td>\n",
       "      <td>0.516732</td>\n",
       "      <td>...</td>\n",
       "      <td>2826.330069</td>\n",
       "      <td>0.0</td>\n",
       "      <td>1055.101881</td>\n",
       "      <td>132.551484</td>\n",
       "      <td>4873.304786</td>\n",
       "      <td>11202.999509</td>\n",
       "      <td>72.746216</td>\n",
       "      <td>392564.603777</td>\n",
       "      <td>0.0</td>\n",
       "      <td>0.418232</td>\n",
       "    </tr>\n",
       "    <tr>\n",
       "      <th>4</th>\n",
       "      <td>0.325</td>\n",
       "      <td>0.521211</td>\n",
       "      <td>0.014403</td>\n",
       "      <td>113.0</td>\n",
       "      <td>d1:s5</td>\n",
       "      <td>0</td>\n",
       "      <td>757.89</td>\n",
       "      <td>1.2548</td>\n",
       "      <td>0.152382</td>\n",
       "      <td>0.516732</td>\n",
       "      <td>...</td>\n",
       "      <td>2683.178636</td>\n",
       "      <td>0.0</td>\n",
       "      <td>918.802707</td>\n",
       "      <td>149.791240</td>\n",
       "      <td>4748.277188</td>\n",
       "      <td>10915.579744</td>\n",
       "      <td>72.746216</td>\n",
       "      <td>392564.603777</td>\n",
       "      <td>0.0</td>\n",
       "      <td>0.418232</td>\n",
       "    </tr>\n",
       "  </tbody>\n",
       "</table>\n",
       "<p>5 rows × 31 columns</p>\n",
       "</div>"
      ],
      "text/plain": [
       "     MAP   PeakSWE       SMR  TpeakSWE  combo  idx    ksat       m        pa  \\\n",
       "0  0.325  0.521211  0.014403     113.0  d1:s1    0  757.89  1.2548  0.050794   \n",
       "1  0.325  0.521211  0.014403     113.0  d1:s2    0  757.89  1.2548  0.076191   \n",
       "2  0.325  0.521211  0.014403     113.0  d1:s3    0  757.89  1.2548  0.101588   \n",
       "3  0.325  0.521211  0.014403     113.0  d1:s4    0  757.89  1.2548  0.126985   \n",
       "4  0.325  0.521211  0.014403     113.0  d1:s5    0  757.89  1.2548  0.152382   \n",
       "\n",
       "         po  ...   rz_storage  rz_drainage  unsat_storage  unsat_drainage  \\\n",
       "0  0.516732  ...  3273.973193          0.0    1097.506537        0.000000   \n",
       "1  0.516732  ...  3124.028192          0.0    1026.603452       73.020907   \n",
       "2  0.516732  ...  2978.818824          0.0     969.485761      120.443883   \n",
       "3  0.516732  ...  2826.330069          0.0    1055.101881      132.551484   \n",
       "4  0.516732  ...  2683.178636          0.0     918.802707      149.791240   \n",
       "\n",
       "       sat_def     sat_def_z         sm        gwStore  gwFlux    ETRate  \n",
       "0  4930.146548  11333.670226  72.746216  392564.529297     0.0  0.418232  \n",
       "1  4854.259079  11159.216274  72.746216  392564.603777     0.0  0.418232  \n",
       "2  4798.196733  11030.337318  72.746216  392564.603777     0.0  0.418232  \n",
       "3  4873.304786  11202.999509  72.746216  392564.603777     0.0  0.418232  \n",
       "4  4748.277188  10915.579744  72.746216  392564.603777     0.0  0.418232  \n",
       "\n",
       "[5 rows x 31 columns]"
      ]
     },
     "execution_count": 29,
     "metadata": {},
     "output_type": "execute_result"
    }
   ],
   "source": [
    "params.head()"
   ]
  },
  {
   "cell_type": "code",
   "execution_count": 6,
   "metadata": {},
   "outputs": [],
   "source": [
    "files = pd.DataFrame({'basin_daily':files})"
   ]
  },
  {
   "cell_type": "code",
   "execution_count": 7,
   "metadata": {},
   "outputs": [],
   "source": [
    "def getIDX(fl):\n",
    "    return int(fl.split('_')[-2])"
   ]
  },
  {
   "cell_type": "code",
   "execution_count": 8,
   "metadata": {},
   "outputs": [],
   "source": [
    "files['scenidx'] = files.basin_daily.map(getIDX)"
   ]
  },
  {
   "cell_type": "code",
   "execution_count": 9,
   "metadata": {},
   "outputs": [],
   "source": [
    "params = pd.merge(params,files, on= 'scenidx')"
   ]
  },
  {
   "cell_type": "code",
   "execution_count": 10,
   "metadata": {},
   "outputs": [],
   "source": [
    "from rhessys import snowmelt_experiment as smex"
   ]
  },
  {
   "cell_type": "code",
   "execution_count": 11,
   "metadata": {},
   "outputs": [],
   "source": [
    "params['Tnosnow'] = params.TpeakSWE+np.ceil(params.PeakSWE/params.SMR)"
   ]
  },
  {
   "cell_type": "code",
   "execution_count": 12,
   "metadata": {},
   "outputs": [],
   "source": [
    "params['date_peakSWE'] = params.apply(smex.DOPEAKSWE2cal,axis=1)\n",
    "params['date_ONS'] =params.apply(smex.DONS2cal,axis=1)"
   ]
  },
  {
   "cell_type": "code",
   "execution_count": 13,
   "metadata": {},
   "outputs": [],
   "source": [
    "c = p.Client()\n",
    "view = c.load_balanced_view()"
   ]
  },
  {
   "cell_type": "code",
   "execution_count": 14,
   "metadata": {},
   "outputs": [
    {
     "data": {
      "text/plain": [
       "[0, 1, 2, 3, 4, 5, 6]"
      ]
     },
     "execution_count": 14,
     "metadata": {},
     "output_type": "execute_result"
    }
   ],
   "source": [
    "c.ids"
   ]
  },
  {
   "cell_type": "code",
   "execution_count": 15,
   "metadata": {},
   "outputs": [
    {
     "data": {
      "text/plain": [
       "250000"
      ]
     },
     "execution_count": 15,
     "metadata": {},
     "output_type": "execute_result"
    }
   ],
   "source": [
    "len(params)"
   ]
  },
  {
   "cell_type": "code",
   "execution_count": 16,
   "metadata": {},
   "outputs": [],
   "source": [
    "dr = pd.date_range('2008-10-1','2009-10-02',freq='D')"
   ]
  },
  {
   "cell_type": "code",
   "execution_count": 17,
   "metadata": {},
   "outputs": [],
   "source": [
    "%px dr = pd.date_range('2008-10-1','2009-10-02',freq='D')"
   ]
  },
  {
   "cell_type": "code",
   "execution_count": 18,
   "metadata": {},
   "outputs": [],
   "source": [
    "def processSM(bd,idx,strt,nd):\n",
    "\n",
    "    # read in the basin daily data\n",
    "    data = pd.read_csv(bd,delimiter=' ')\n",
    "\n",
    "    data.index = pd.DatetimeIndex(dr)\n",
    "\n",
    "    data['ET'] = data.evap + data.trans\n",
    "    trans = data.trans.sum()\n",
    "    evap = data.evap.sum()\n",
    "    ET = data.ET.sum() # compute total ET\n",
    "    Q = data.streamflow.sum() # compute total streamflow \n",
    "    Qbf = data.baseflow.sum() # compute total baseflow\n",
    "    Qrf = data['return'].sum() # compute total returnflow,p\n",
    "    sm = data.snowmelt.sum()\n",
    "    rech = data.recharge.sum() # compute total recharge\n",
    "    sat = data['%sat_area'].mean() # compute the mean saturated area\n",
    "    p = data.precip.sum() # compute water year precip\n",
    "    rz_storage = data.rz_storage.mean() # root zone storage\n",
    "    rz_drainage = data.rz_drainage.mean() # root zone drainage \n",
    "    unsat_drainage = data.unsat_drain.mean() # unsaturated zone drainage\n",
    "    unsat_storage = data.unsat_stor.mean() # unsaturated zone drainage\n",
    "    sat_def = data.sat_def.mean() # saturation deficite (mm)\n",
    "    sat_def_z = data.sat_def_z.mean() # saturation deficite depth, is this the depth to ground water?\n",
    "    gwStore = data['gw.storage'].sum() # gw store\n",
    "    gwFlux = data['gw.Qout'].mean()\n",
    "    ETRate = data.ET.mean()\n",
    "    \n",
    "    # create full output object\n",
    "    full = (idx,trans,evap,ET,Q,Qbf,Qrf,rech,sat,p,rz_storage,rz_drainage,\n",
    "            unsat_storage,unsat_drainage,sat_def,sat_def_z,sm,gwStore,gwFlux,ETRate)\n",
    "    \n",
    "    data = data.loc[strt:nd] # crop the data to the melt season\n",
    "    T = data.trans.sum() # compute totoal transpiration\n",
    "    E = data.evap.sum() # compute total evaporation\n",
    "    ET = data.ET.sum() # compute total ET\n",
    "    Q = data.streamflow.sum() # compute total streamflow \n",
    "    Qbf = data.baseflow.sum() # compute total baseflow\n",
    "    Qrf = data['return'].sum() # compute total returnflow,p\n",
    "    sm = data.snowmelt.sum()\n",
    "    rech = data.recharge.sum() # compute total recharge\n",
    "    sat = data['%sat_area'].mean() # compute the mean saturated area\n",
    "    p = data.precip.sum() # compute water year precip\n",
    "    rz_storage = data.rz_storage.mean() # root zone storage\n",
    "    rz_drainage = data.rz_drainage.mean() # root zone drainage \n",
    "    unsat_drainage = data.unsat_drain.mean() # unsaturated zone drainage\n",
    "    unsat_storage = data.unsat_stor.mean() # unsaturated zone drainage\n",
    "    sat_def = data.sat_def.mean() # saturation deficite (mm)\n",
    "    sat_def_z = data.sat_def_z.mean() # saturation deficite depth, is this the depth to ground water?\n",
    "    gwStore = data['gw.storage'].sum() # gw store\n",
    "    gwFlux = data['gw.Qout'].mean()\n",
    "    ETRate = data.ET.mean()\n",
    "    \n",
    "    melt = (idx,T,E,ET,Q,Qbf,Qrf,rech,sat,p,rz_storage,rz_drainage,\n",
    "            unsat_storage,unsat_drainage,sat_def,sat_def_z,sm,gwStore,gwFlux,ETRate)\n",
    "    \n",
    "    return full,melt"
   ]
  },
  {
   "cell_type": "code",
   "execution_count": 19,
   "metadata": {
    "scrolled": true
   },
   "outputs": [
    {
     "name": "stdout",
     "output_type": "stream",
     "text": [
      "/Volumes/data/RHESSys_out/P301/smex7_sen/smex7_sen_0_basin.daily\n"
     ]
    },
    {
     "data": {
      "text/plain": [
       "((0,\n",
       "  455.50006999999994,\n",
       "  104.96986,\n",
       "  560.46993,\n",
       "  18.431646,\n",
       "  18.431646,\n",
       "  0.0,\n",
       "  362.16081799999995,\n",
       "  0.0,\n",
       "  716.4708499999999,\n",
       "  3250.571043212535,\n",
       "  0.018942937329700274,\n",
       "  1099.9170150381399,\n",
       "  2.1667303760217984,\n",
       "  4947.251389275205,\n",
       "  11372.991699430522,\n",
       "  397.726705,\n",
       "  3807342.936078,\n",
       "  0.0,\n",
       "  1.5271660217983654),\n",
       " (0,\n",
       "  10.164971000000001,\n",
       "  5.7278389999999995,\n",
       "  15.89281,\n",
       "  2.012645,\n",
       "  2.012645,\n",
       "  0.0,\n",
       "  40.592388,\n",
       "  0.0,\n",
       "  0.0,\n",
       "  3273.973193368419,\n",
       "  0.0,\n",
       "  1097.5065370000004,\n",
       "  0.0,\n",
       "  4930.146548315789,\n",
       "  11333.670225921049,\n",
       "  72.746216,\n",
       "  392564.5292970001,\n",
       "  0.0,\n",
       "  0.41823184210526315))"
      ]
     },
     "execution_count": 19,
     "metadata": {},
     "output_type": "execute_result"
    }
   ],
   "source": [
    "idx = 0\n",
    "print params.basin_daily[idx]\n",
    "processSM(params.basin_daily[idx],params.scenidx[idx],params.date_peakSWE[idx],params.date_ONS[idx])"
   ]
  },
  {
   "cell_type": "code",
   "execution_count": 20,
   "metadata": {},
   "outputs": [],
   "source": [
    "#res = view.map(processSM,params.basin_daily[0:1000],params.scenidx[0:1000],params.date_peakSWE[0:1000],params.date_ONS[0:1000])\n",
    "res = view.map(processSM,params.basin_daily,params.scenidx,params.date_peakSWE,params.date_ONS)"
   ]
  },
  {
   "cell_type": "code",
   "execution_count": 21,
   "metadata": {},
   "outputs": [],
   "source": [
    "prog = pb.ProgressBar(len(params))"
   ]
  },
  {
   "cell_type": "code",
   "execution_count": 22,
   "metadata": {},
   "outputs": [
    {
     "name": "stdout",
     "output_type": "stream",
     "text": [
      "[****************100%******************]  249947 of 250000 complete                                                                                                                                                                                                                                                                                                                                                                                                                                                                                                                                                                                                                                                                                                                                                                                                                                                                                                                                                                                                                                                                                                                                                                                                                                                                                                                                                                                                                                                                                                                                                                                                                                                                                                                                                                                                                                                                                                                                                                                                                                                                                                                                                                                                                                                                                                                                                                                                                                                                                                                           \n"
     ]
    }
   ],
   "source": [
    "while res.ready() == False:\n",
    "    prog.animate_ipython(res.progress)\n",
    "    time.sleep(2)\n",
    "\n",
    "#alert.send_alert('barnhatb@colorado.edu','Processing Nr1 %s has finished'%exname,'Your script has finished')"
   ]
  },
  {
   "cell_type": "code",
   "execution_count": 23,
   "metadata": {},
   "outputs": [
    {
     "data": {
      "text/plain": [
       "True"
      ]
     },
     "execution_count": 23,
     "metadata": {},
     "output_type": "execute_result"
    }
   ],
   "source": [
    "res.done()"
   ]
  },
  {
   "cell_type": "code",
   "execution_count": 24,
   "metadata": {},
   "outputs": [
    {
     "data": {
      "text/plain": [
       "250000"
      ]
     },
     "execution_count": 24,
     "metadata": {},
     "output_type": "execute_result"
    }
   ],
   "source": [
    "res.progress"
   ]
  },
  {
   "cell_type": "code",
   "execution_count": 25,
   "metadata": {},
   "outputs": [],
   "source": [
    "full,melt = zip(*res.result())"
   ]
  },
  {
   "cell_type": "markdown",
   "metadata": {},
   "source": [
    "## Merge processing results with parameters dataset"
   ]
  },
  {
   "cell_type": "code",
   "execution_count": 34,
   "metadata": {},
   "outputs": [],
   "source": [
    "idx,trans,evap,ET,Q,Qbf,Qrf,rech,sat,p,rz_storage,rz_drainage,unsat_storage,unsat_drainage,sat_def,sat_def_z,sm,gwStore,gwFlux,ETRate = zip(*full)\n",
    "\n",
    "params = pd.read_pickle('./data/soil_params_multispinup_%s_smex%s_sen.pcl'%(site,method))\n",
    "\n",
    "# make a date frame of the results\n",
    "proc = pd.DataFrame()\n",
    "\n",
    "arrs = [idx,trans,evap,ET,Q,Qbf,Qrf,rech,sat,p,rz_storage,rz_drainage,unsat_storage,unsat_drainage,\n",
    "        sat_def,sat_def_z,sm,gwStore,gwFlux,ETRate]\n",
    "keys = ['scenidx','trans','evap','ET','Q','Qbf','Qrf','rech','sat','p','rz_storage','rz_drainage',\n",
    "        'unsat_storage','unsat_drainage','sat_def','sat_def_z','sm','gwStore','gwFlux','ETRate']\n",
    "\n",
    "for arr,key in zip(arrs,keys):\n",
    "    proc[key] = arr # insert the results\n",
    "\n",
    "params = pd.merge(params,proc,on='scenidx') # join on file index number\n",
    "params.dropna(inplace=True) # drop missing values\n",
    "\n",
    "params.to_hdf('./data/%s_%s_full.hdf'%(site,exname),'df',format='fixed',complevel=5,complib='bzip2',fletcher32=True)"
   ]
  },
  {
   "cell_type": "code",
   "execution_count": 35,
   "metadata": {},
   "outputs": [
    {
     "data": {
      "text/html": [
       "<div>\n",
       "<style scoped>\n",
       "    .dataframe tbody tr th:only-of-type {\n",
       "        vertical-align: middle;\n",
       "    }\n",
       "\n",
       "    .dataframe tbody tr th {\n",
       "        vertical-align: top;\n",
       "    }\n",
       "\n",
       "    .dataframe thead th {\n",
       "        text-align: right;\n",
       "    }\n",
       "</style>\n",
       "<table border=\"1\" class=\"dataframe\">\n",
       "  <thead>\n",
       "    <tr style=\"text-align: right;\">\n",
       "      <th></th>\n",
       "      <th>MAP</th>\n",
       "      <th>PeakSWE</th>\n",
       "      <th>SMR</th>\n",
       "      <th>TpeakSWE</th>\n",
       "      <th>combo</th>\n",
       "      <th>idx</th>\n",
       "      <th>ksat</th>\n",
       "      <th>m</th>\n",
       "      <th>pa</th>\n",
       "      <th>po</th>\n",
       "      <th>...</th>\n",
       "      <th>rz_storage</th>\n",
       "      <th>rz_drainage</th>\n",
       "      <th>unsat_storage</th>\n",
       "      <th>unsat_drainage</th>\n",
       "      <th>sat_def</th>\n",
       "      <th>sat_def_z</th>\n",
       "      <th>sm</th>\n",
       "      <th>gwStore</th>\n",
       "      <th>gwFlux</th>\n",
       "      <th>ETRate</th>\n",
       "    </tr>\n",
       "  </thead>\n",
       "  <tbody>\n",
       "    <tr>\n",
       "      <th>0</th>\n",
       "      <td>0.325</td>\n",
       "      <td>0.521211</td>\n",
       "      <td>0.014403</td>\n",
       "      <td>113.0</td>\n",
       "      <td>d1:s1</td>\n",
       "      <td>0</td>\n",
       "      <td>757.89</td>\n",
       "      <td>1.2548</td>\n",
       "      <td>0.050794</td>\n",
       "      <td>0.516732</td>\n",
       "      <td>...</td>\n",
       "      <td>3250.571043</td>\n",
       "      <td>0.018943</td>\n",
       "      <td>1099.917015</td>\n",
       "      <td>2.166730</td>\n",
       "      <td>4947.251389</td>\n",
       "      <td>11372.991699</td>\n",
       "      <td>397.726705</td>\n",
       "      <td>3.807343e+06</td>\n",
       "      <td>0.0</td>\n",
       "      <td>1.527166</td>\n",
       "    </tr>\n",
       "    <tr>\n",
       "      <th>1</th>\n",
       "      <td>0.325</td>\n",
       "      <td>0.521211</td>\n",
       "      <td>0.014403</td>\n",
       "      <td>113.0</td>\n",
       "      <td>d1:s2</td>\n",
       "      <td>0</td>\n",
       "      <td>757.89</td>\n",
       "      <td>1.2548</td>\n",
       "      <td>0.076191</td>\n",
       "      <td>0.516732</td>\n",
       "      <td>...</td>\n",
       "      <td>3101.757169</td>\n",
       "      <td>0.000000</td>\n",
       "      <td>1036.515251</td>\n",
       "      <td>46.963793</td>\n",
       "      <td>4880.200172</td>\n",
       "      <td>11218.850969</td>\n",
       "      <td>397.726705</td>\n",
       "      <td>3.807344e+06</td>\n",
       "      <td>0.0</td>\n",
       "      <td>1.527166</td>\n",
       "    </tr>\n",
       "    <tr>\n",
       "      <th>2</th>\n",
       "      <td>0.325</td>\n",
       "      <td>0.521211</td>\n",
       "      <td>0.014403</td>\n",
       "      <td>113.0</td>\n",
       "      <td>d1:s3</td>\n",
       "      <td>0</td>\n",
       "      <td>757.89</td>\n",
       "      <td>1.2548</td>\n",
       "      <td>0.101588</td>\n",
       "      <td>0.516732</td>\n",
       "      <td>...</td>\n",
       "      <td>2956.260288</td>\n",
       "      <td>0.000000</td>\n",
       "      <td>1001.767320</td>\n",
       "      <td>89.677185</td>\n",
       "      <td>4847.631834</td>\n",
       "      <td>11143.981228</td>\n",
       "      <td>397.726705</td>\n",
       "      <td>3.807344e+06</td>\n",
       "      <td>0.0</td>\n",
       "      <td>1.527166</td>\n",
       "    </tr>\n",
       "    <tr>\n",
       "      <th>3</th>\n",
       "      <td>0.325</td>\n",
       "      <td>0.521211</td>\n",
       "      <td>0.014403</td>\n",
       "      <td>113.0</td>\n",
       "      <td>d1:s4</td>\n",
       "      <td>0</td>\n",
       "      <td>757.89</td>\n",
       "      <td>1.2548</td>\n",
       "      <td>0.126985</td>\n",
       "      <td>0.516732</td>\n",
       "      <td>...</td>\n",
       "      <td>2803.562558</td>\n",
       "      <td>0.000000</td>\n",
       "      <td>976.767720</td>\n",
       "      <td>124.833347</td>\n",
       "      <td>4813.739275</td>\n",
       "      <td>11064.818086</td>\n",
       "      <td>397.726705</td>\n",
       "      <td>3.807344e+06</td>\n",
       "      <td>0.0</td>\n",
       "      <td>1.527166</td>\n",
       "    </tr>\n",
       "    <tr>\n",
       "      <th>4</th>\n",
       "      <td>0.325</td>\n",
       "      <td>0.521211</td>\n",
       "      <td>0.014403</td>\n",
       "      <td>113.0</td>\n",
       "      <td>d1:s5</td>\n",
       "      <td>0</td>\n",
       "      <td>757.89</td>\n",
       "      <td>1.2548</td>\n",
       "      <td>0.152382</td>\n",
       "      <td>0.516732</td>\n",
       "      <td>...</td>\n",
       "      <td>2658.737463</td>\n",
       "      <td>0.000000</td>\n",
       "      <td>905.667577</td>\n",
       "      <td>139.002862</td>\n",
       "      <td>4753.894760</td>\n",
       "      <td>10928.493701</td>\n",
       "      <td>397.726705</td>\n",
       "      <td>3.807344e+06</td>\n",
       "      <td>0.0</td>\n",
       "      <td>1.527166</td>\n",
       "    </tr>\n",
       "  </tbody>\n",
       "</table>\n",
       "<p>5 rows × 31 columns</p>\n",
       "</div>"
      ],
      "text/plain": [
       "     MAP   PeakSWE       SMR  TpeakSWE  combo  idx    ksat       m        pa  \\\n",
       "0  0.325  0.521211  0.014403     113.0  d1:s1    0  757.89  1.2548  0.050794   \n",
       "1  0.325  0.521211  0.014403     113.0  d1:s2    0  757.89  1.2548  0.076191   \n",
       "2  0.325  0.521211  0.014403     113.0  d1:s3    0  757.89  1.2548  0.101588   \n",
       "3  0.325  0.521211  0.014403     113.0  d1:s4    0  757.89  1.2548  0.126985   \n",
       "4  0.325  0.521211  0.014403     113.0  d1:s5    0  757.89  1.2548  0.152382   \n",
       "\n",
       "         po  ...   rz_storage  rz_drainage  unsat_storage  unsat_drainage  \\\n",
       "0  0.516732  ...  3250.571043     0.018943    1099.917015        2.166730   \n",
       "1  0.516732  ...  3101.757169     0.000000    1036.515251       46.963793   \n",
       "2  0.516732  ...  2956.260288     0.000000    1001.767320       89.677185   \n",
       "3  0.516732  ...  2803.562558     0.000000     976.767720      124.833347   \n",
       "4  0.516732  ...  2658.737463     0.000000     905.667577      139.002862   \n",
       "\n",
       "       sat_def     sat_def_z          sm       gwStore  gwFlux    ETRate  \n",
       "0  4947.251389  11372.991699  397.726705  3.807343e+06     0.0  1.527166  \n",
       "1  4880.200172  11218.850969  397.726705  3.807344e+06     0.0  1.527166  \n",
       "2  4847.631834  11143.981228  397.726705  3.807344e+06     0.0  1.527166  \n",
       "3  4813.739275  11064.818086  397.726705  3.807344e+06     0.0  1.527166  \n",
       "4  4753.894760  10928.493701  397.726705  3.807344e+06     0.0  1.527166  \n",
       "\n",
       "[5 rows x 31 columns]"
      ]
     },
     "execution_count": 35,
     "metadata": {},
     "output_type": "execute_result"
    }
   ],
   "source": [
    "params.head()"
   ]
  },
  {
   "cell_type": "code",
   "execution_count": 36,
   "metadata": {},
   "outputs": [
    {
     "data": {
      "text/plain": [
       "250000"
      ]
     },
     "execution_count": 36,
     "metadata": {},
     "output_type": "execute_result"
    }
   ],
   "source": [
    "len(params)"
   ]
  },
  {
   "cell_type": "code",
   "execution_count": 37,
   "metadata": {},
   "outputs": [],
   "source": [
    "idx,T,E,ET,Q,Qbf,Qrf,rech,sat,p,rz_storage,rz_drainage,unsat_storage,unsat_drainage,sat_def,sat_def_z,sm,gwStore,gwFlux,ETRate = zip(*melt)\n",
    "\n",
    "params = pd.read_pickle('./data/soil_params_multispinup_%s_smex%s_sen.pcl'%(site,method))\n",
    "\n",
    "# make a date frame of the results\n",
    "proc = pd.DataFrame()\n",
    "\n",
    "arrs = [idx,T,E,ET,Q,Qbf,Qrf,rech,sat,p,rz_storage,rz_drainage,unsat_storage,unsat_drainage,\n",
    "        sat_def,sat_def_z,sm,gwStore,gwFlux,ETRate]\n",
    "keys = ['scenidx','T','E','ET','Q','Qbf','Qrf','rech','sat','p','rz_storage','rz_drainage',\n",
    "        'unsat_storage','unsat_drainage','sat_def','sat_def_z','sm','gwStore','gwFlux','ETRate']\n",
    "\n",
    "for arr,key in zip(arrs,keys):\n",
    "    proc[key] = arr # insert the results\n",
    "\n",
    "params = pd.merge(params,proc,on='scenidx') # join on file index number\n",
    "params.dropna(inplace=True) # drop missing values\n",
    "\n",
    "params.to_hdf('./data/%s_%s_melt.hdf'%(site,exname),'df',format='fixed',complevel=5,complib='bzip2',fletcher32=True) # "
   ]
  },
  {
   "cell_type": "code",
   "execution_count": 38,
   "metadata": {},
   "outputs": [
    {
     "data": {
      "text/plain": [
       "(250000, 31)"
      ]
     },
     "execution_count": 38,
     "metadata": {},
     "output_type": "execute_result"
    }
   ],
   "source": [
    "params.shape"
   ]
  },
  {
   "cell_type": "code",
   "execution_count": 28,
   "metadata": {},
   "outputs": [],
   "source": [
    "alert.send_alert('barnhatb@colorado.edu','Processing P301 %s has finished'%exname,'Your script has finished')"
   ]
  },
  {
   "cell_type": "code",
   "execution_count": null,
   "metadata": {},
   "outputs": [],
   "source": []
  }
 ],
 "metadata": {
  "kernelspec": {
   "display_name": "Python 2",
   "language": "python",
   "name": "python2"
  },
  "language_info": {
   "codemirror_mode": {
    "name": "ipython",
    "version": 2
   },
   "file_extension": ".py",
   "mimetype": "text/x-python",
   "name": "python",
   "nbconvert_exporter": "python",
   "pygments_lexer": "ipython2",
   "version": "2.7.17"
  }
 },
 "nbformat": 4,
 "nbformat_minor": 1
}
