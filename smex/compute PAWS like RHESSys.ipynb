{
 "cells": [
  {
   "cell_type": "code",
   "execution_count": 36,
   "metadata": {
    "collapsed": true
   },
   "outputs": [],
   "source": [
    "def compute_mean_phi(p,p0,z):\n",
    "    '''\n",
    "    Inputs:\n",
    "    p - decay rate of porosity [1]\n",
    "    p0 - surface porosity [1/m]\n",
    "    z - root depth [m]\n",
    "    \n",
    "    Returns:\n",
    "    phi_mean - average porosity [1]\n",
    "    '''\n",
    "    phi_mean = p * po * (1 - np.exp(-1*z/p))/z\n",
    "    \n",
    "    return phi_mean\n",
    "\n",
    "def wilting_point(pa,po,phi_mean):\n",
    "    '''\n",
    "    Inputs:\n",
    "    pa - air entry pressure [m]\n",
    "    po - pore size index [1]\n",
    "    phi_mean - average porosity [1]\n",
    "    \n",
    "    Returns:\n",
    "    wp - wilting point [1]\n",
    "    '''\n",
    "    \n",
    "    wp = np.exp(-1. * np.log(2.5/pa) * po) * phi_mean\n",
    "    \n",
    "    return wp\n",
    "\n",
    "def field_capacity(p0,pa,po):\n",
    "    '''\n",
    "    Inputs:\n",
    "    p0 - porosity at the surface [1/m]\n",
    "    pa - air entry pressure [m]\n",
    "    po - pore size index [1]\n",
    "    z - soil depth [m]\n",
    "    \n",
    "    Returns:\n",
    "    fc - field capacity [1]\n",
    "    '''\n",
    "    \n",
    "    fc = p0 * ((pa/3.4)**po) * z\n",
    "    \n",
    "    return fc\n",
    "\n",
    "def compute_paws(p,p0,z,pa,po):\n",
    "    mean_phi = compute_mean_phi(p,p0,z)\n",
    "    wp = wilting_point(pa,po,mean_phi)\n",
    "    fc = field_capacity(p0,pa,p0)\n",
    "    \n",
    "    paws = fc - wp\n",
    "    \n",
    "    return mean_phi,wp,fc,paws\n",
    "    "
   ]
  },
  {
   "cell_type": "code",
   "execution_count": 37,
   "metadata": {
    "collapsed": false
   },
   "outputs": [
    {
     "name": "stdout",
     "output_type": "stream",
     "text": [
      "PAWS: 2.73063030814 [mm]\n"
     ]
    }
   ],
   "source": [
    "# RHESSys soil parameters used. Definition file parameters have been multiplied by command line \n",
    "# calibration multipliers when appropriate\n",
    "\n",
    "p = 4000 # decay of surface porosity with depth [1]\n",
    "p0 = 0.435 # surface porosity [1/m]\n",
    "z = 1.11 # rooting depth [m]\n",
    "pa = 0.19 # air entry pressure [m]\n",
    "po = 0.53 # pore size index [1]\n",
    "\n",
    "mean_phi,wp,fc,paws = compute_paws(p,p0,z,pa,po)\n",
    "\n",
    "print 'PAWS: %s [mm]'%(paws * z * 1000)"
   ]
  },
  {
   "cell_type": "code",
   "execution_count": 38,
   "metadata": {
    "collapsed": false
   },
   "outputs": [
    {
     "data": {
      "text/plain": [
       "0.13522183232230423"
      ]
     },
     "execution_count": 38,
     "metadata": {},
     "output_type": "execute_result"
    }
   ],
   "source": [
    "wp"
   ]
  },
  {
   "cell_type": "code",
   "execution_count": 39,
   "metadata": {
    "collapsed": false
   },
   "outputs": [
    {
     "data": {
      "text/plain": [
       "0.13768185962693846"
      ]
     },
     "execution_count": 39,
     "metadata": {},
     "output_type": "execute_result"
    }
   ],
   "source": [
    "fc"
   ]
  },
  {
   "cell_type": "code",
   "execution_count": 40,
   "metadata": {
    "collapsed": false
   },
   "outputs": [
    {
     "data": {
      "text/plain": [
       "0.52992646930172849"
      ]
     },
     "execution_count": 40,
     "metadata": {},
     "output_type": "execute_result"
    }
   ],
   "source": [
    "mean_phi"
   ]
  },
  {
   "cell_type": "markdown",
   "metadata": {},
   "source": [
    "## Following Garcia and Tague"
   ]
  },
  {
   "cell_type": "code",
   "execution_count": 41,
   "metadata": {
    "collapsed": false
   },
   "outputs": [],
   "source": [
    "def compute_fc(p,pa,po):\n",
    "    '''\n",
    "    p - mean porosity\n",
    "    pa - air entry pressure\n",
    "    po - pore size index\n",
    "    '''\n",
    "    \n",
    "    fc = p*((pa/3.4)**(po))\n",
    "    \n",
    "    return fc\n",
    "\n",
    "def compute_wp(p,pa,po):\n",
    "    '''\n",
    "    p - mean porosity\n",
    "    pa - air entry pressure\n",
    "    po - pore size index\n",
    "    '''\n",
    "    \n",
    "    wp = p*((pa/15)**(po))\n",
    "    \n",
    "    return wp\n",
    "\n",
    "def compute_paws(p,pa,po,z):\n",
    "    fc = compute_fc(p,pa,po)\n",
    "    wp = compute_wp(p,pa,po)\n",
    "    return (fc-wp) * z"
   ]
  },
  {
   "cell_type": "code",
   "execution_count": 42,
   "metadata": {
    "collapsed": false
   },
   "outputs": [
    {
     "data": {
      "text/plain": [
       "69.45495315992433"
      ]
     },
     "execution_count": 42,
     "metadata": {},
     "output_type": "execute_result"
    }
   ],
   "source": [
    "paws = compute_paws(0.52992646930172849,pa,po,z)\n",
    "paws * 1000 # m to mm"
   ]
  },
  {
   "cell_type": "code",
   "execution_count": null,
   "metadata": {
    "collapsed": true
   },
   "outputs": [],
   "source": []
  }
 ],
 "metadata": {
  "kernelspec": {
   "display_name": "Python 2",
   "language": "python",
   "name": "python2"
  },
  "language_info": {
   "codemirror_mode": {
    "name": "ipython",
    "version": 2
   },
   "file_extension": ".py",
   "mimetype": "text/x-python",
   "name": "python",
   "nbconvert_exporter": "python",
   "pygments_lexer": "ipython2",
   "version": "2.7.12"
  }
 },
 "nbformat": 4,
 "nbformat_minor": 0
}
