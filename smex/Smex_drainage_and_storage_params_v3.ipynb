{
 "cells": [
  {
   "cell_type": "markdown",
   "metadata": {},
   "source": [
    "## Method\n",
    "\n",
    "Computing PAWS from the RHESSys parameters is not really working.... But the simulations work.... Changing to just altering rooting depth."
   ]
  },
  {
   "cell_type": "code",
   "execution_count": 10,
   "metadata": {
    "collapsed": true
   },
   "outputs": [],
   "source": [
    "import scipy.integrate as spint\n",
    "\n",
    "version = 3\n",
    "\n",
    "depths = np.array([0.01,0.1,0.2,0.4,0.8,1,2,4,8,10,15,20,30,40,60])\n",
    "n = len(depths)\n",
    "k = 10000 # number of simulations \n",
    "idx = np.arange(1,n+1)"
   ]
  },
  {
   "cell_type": "raw",
   "metadata": {},
   "source": [
    "### AFX"
   ]
  },
  {
   "cell_type": "raw",
   "metadata": {
    "collapsed": true
   },
   "source": [
    "site = 'Nr1'\n",
    "loc = 'ComoCreek_new'\n",
    "method = '8'\n",
    "root_depth = 0.376446"
   ]
  },
  {
   "cell_type": "markdown",
   "metadata": {},
   "source": [
    "### P301"
   ]
  },
  {
   "cell_type": "code",
   "execution_count": 11,
   "metadata": {
    "collapsed": true
   },
   "outputs": [],
   "source": [
    "site = 'P301'\n",
    "loc = 'providence/theo_p301_flux'\n",
    "method = '8'\n",
    "root_depth = 1.110408"
   ]
  },
  {
   "cell_type": "code",
   "execution_count": 12,
   "metadata": {
    "collapsed": false
   },
   "outputs": [],
   "source": [
    "# generate a list of rooting depths\n",
    "tmp = pd.DataFrame()\n",
    "tmp['root_depth'] = root_depth * depths\n",
    "tmp['soil_depth'] = tmp.root_depth + 4.\n",
    "tmp['idx'] = idx"
   ]
  },
  {
   "cell_type": "code",
   "execution_count": 13,
   "metadata": {
    "collapsed": false
   },
   "outputs": [
    {
     "data": {
      "text/html": [
       "<div>\n",
       "<table border=\"1\" class=\"dataframe\">\n",
       "  <thead>\n",
       "    <tr style=\"text-align: right;\">\n",
       "      <th></th>\n",
       "      <th>root_depth</th>\n",
       "      <th>soil_depth</th>\n",
       "      <th>idx</th>\n",
       "    </tr>\n",
       "  </thead>\n",
       "  <tbody>\n",
       "    <tr>\n",
       "      <th>0</th>\n",
       "      <td>0.011104</td>\n",
       "      <td>4.011104</td>\n",
       "      <td>1</td>\n",
       "    </tr>\n",
       "    <tr>\n",
       "      <th>1</th>\n",
       "      <td>0.111041</td>\n",
       "      <td>4.111041</td>\n",
       "      <td>2</td>\n",
       "    </tr>\n",
       "    <tr>\n",
       "      <th>2</th>\n",
       "      <td>0.222082</td>\n",
       "      <td>4.222082</td>\n",
       "      <td>3</td>\n",
       "    </tr>\n",
       "    <tr>\n",
       "      <th>3</th>\n",
       "      <td>0.444163</td>\n",
       "      <td>4.444163</td>\n",
       "      <td>4</td>\n",
       "    </tr>\n",
       "    <tr>\n",
       "      <th>4</th>\n",
       "      <td>0.888326</td>\n",
       "      <td>4.888326</td>\n",
       "      <td>5</td>\n",
       "    </tr>\n",
       "    <tr>\n",
       "      <th>5</th>\n",
       "      <td>1.110408</td>\n",
       "      <td>5.110408</td>\n",
       "      <td>6</td>\n",
       "    </tr>\n",
       "    <tr>\n",
       "      <th>6</th>\n",
       "      <td>2.220816</td>\n",
       "      <td>6.220816</td>\n",
       "      <td>7</td>\n",
       "    </tr>\n",
       "    <tr>\n",
       "      <th>7</th>\n",
       "      <td>4.441632</td>\n",
       "      <td>8.441632</td>\n",
       "      <td>8</td>\n",
       "    </tr>\n",
       "    <tr>\n",
       "      <th>8</th>\n",
       "      <td>8.883264</td>\n",
       "      <td>12.883264</td>\n",
       "      <td>9</td>\n",
       "    </tr>\n",
       "    <tr>\n",
       "      <th>9</th>\n",
       "      <td>11.104080</td>\n",
       "      <td>15.104080</td>\n",
       "      <td>10</td>\n",
       "    </tr>\n",
       "    <tr>\n",
       "      <th>10</th>\n",
       "      <td>16.656120</td>\n",
       "      <td>20.656120</td>\n",
       "      <td>11</td>\n",
       "    </tr>\n",
       "    <tr>\n",
       "      <th>11</th>\n",
       "      <td>22.208160</td>\n",
       "      <td>26.208160</td>\n",
       "      <td>12</td>\n",
       "    </tr>\n",
       "    <tr>\n",
       "      <th>12</th>\n",
       "      <td>33.312240</td>\n",
       "      <td>37.312240</td>\n",
       "      <td>13</td>\n",
       "    </tr>\n",
       "    <tr>\n",
       "      <th>13</th>\n",
       "      <td>44.416320</td>\n",
       "      <td>48.416320</td>\n",
       "      <td>14</td>\n",
       "    </tr>\n",
       "    <tr>\n",
       "      <th>14</th>\n",
       "      <td>66.624480</td>\n",
       "      <td>70.624480</td>\n",
       "      <td>15</td>\n",
       "    </tr>\n",
       "  </tbody>\n",
       "</table>\n",
       "</div>"
      ],
      "text/plain": [
       "    root_depth  soil_depth  idx\n",
       "0     0.011104    4.011104    1\n",
       "1     0.111041    4.111041    2\n",
       "2     0.222082    4.222082    3\n",
       "3     0.444163    4.444163    4\n",
       "4     0.888326    4.888326    5\n",
       "5     1.110408    5.110408    6\n",
       "6     2.220816    6.220816    7\n",
       "7     4.441632    8.441632    8\n",
       "8     8.883264   12.883264    9\n",
       "9    11.104080   15.104080   10\n",
       "10   16.656120   20.656120   11\n",
       "11   22.208160   26.208160   12\n",
       "12   33.312240   37.312240   13\n",
       "13   44.416320   48.416320   14\n",
       "14   66.624480   70.624480   15"
      ]
     },
     "execution_count": 13,
     "metadata": {},
     "output_type": "execute_result"
    }
   ],
   "source": [
    "tmp"
   ]
  },
  {
   "cell_type": "code",
   "execution_count": 14,
   "metadata": {
    "collapsed": true
   },
   "outputs": [],
   "source": [
    "# save soils data\n",
    "tmp.to_pickle('./data/soils_%s_smex%s_v%s.pcl'%(site,method,version))"
   ]
  },
  {
   "cell_type": "code",
   "execution_count": 15,
   "metadata": {
    "collapsed": false
   },
   "outputs": [],
   "source": [
    "# save the parameters to text files for experiment spinup\n",
    "idxpth = '/RHESSys/%s/clim/smexperiment/smex%s/%s_smex%s_spinup_idx_v%s.txt'%(loc,method,site,method,version)\n",
    "rdpth = '/RHESSys/%s/clim/smexperiment/smex%s/%s_smex%s_spinup_rd_v%s.txt'%(loc,method,site,method,version)\n",
    "sdpth = '/RHESSys/%s/clim/smexperiment/smex%s/%s_smex%s_spinup_sd_v%s.txt'%(loc,method,site,method,version)\n",
    "\n",
    "np.savetxt(idxpth,tmp.idx,fmt='%i')\n",
    "np.savetxt(rdpth,tmp.root_depth,fmt='%f')\n",
    "np.savetxt(sdpth,tmp.soil_depth,fmt='%f')"
   ]
  },
  {
   "cell_type": "code",
   "execution_count": null,
   "metadata": {
    "collapsed": true
   },
   "outputs": [],
   "source": []
  }
 ],
 "metadata": {
  "kernelspec": {
   "display_name": "Python 2",
   "language": "python",
   "name": "python2"
  },
  "language_info": {
   "codemirror_mode": {
    "name": "ipython",
    "version": 2
   },
   "file_extension": ".py",
   "mimetype": "text/x-python",
   "name": "python",
   "nbconvert_exporter": "python",
   "pygments_lexer": "ipython2",
   "version": "2.7.12"
  }
 },
 "nbformat": 4,
 "nbformat_minor": 0
}
