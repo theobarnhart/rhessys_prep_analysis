{
 "cells": [
  {
   "cell_type": "code",
   "execution_count": 1,
   "metadata": {
    "collapsed": true
   },
   "outputs": [],
   "source": [
    "tmp = pd.read_pickle('../data/crn_corr.pcl')\n",
    "tmp['rain_duration'] = (tmp.P*0.6890) + 1.0826\n",
    "tmp.loc[tmp.rain_duration>24,'rain_duration'] = 24\n",
    "crn = pd.DataFrame(tmp[['P','Tmax','Tmin','Tave_mod','rain_duration']])"
   ]
  },
  {
   "cell_type": "code",
   "execution_count": 2,
   "metadata": {
    "collapsed": true
   },
   "outputs": [],
   "source": [
    "crn.columns = ['P','Tmax','Tmin','Tave','rain_duration']\n",
    "crn.P *= 0.001 # mm to m"
   ]
  },
  {
   "cell_type": "code",
   "execution_count": 3,
   "metadata": {
    "collapsed": true
   },
   "outputs": [],
   "source": [
    "nonleap = crn.loc['2009-10-1':'2010-09-30'].copy().reset_index()\n",
    "leap = crn.loc['2009-10-1':'2010-10-01'].copy().reset_index()\n",
    "year_end = crn.loc['2009-10-1':'2010-10-15'].copy().reset_index() # not a leap year"
   ]
  },
  {
   "cell_type": "code",
   "execution_count": 11,
   "metadata": {
    "collapsed": true
   },
   "outputs": [],
   "source": [
    "strt = '2009-10-1'\n",
    "\n",
    "out = pd.concat([nonleap,\n",
    "                nonleap,\n",
    "                leap,\n",
    "                nonleap,\n",
    "                nonleap,\n",
    "                nonleap,\n",
    "                leap,\n",
    "                nonleap,\n",
    "                nonleap,\n",
    "                year_end],axis=0)\n",
    "\n",
    "out.index = pd.DatetimeIndex(pd.date_range(start=strt,freq='D',periods=len(out)))"
   ]
  },
  {
   "cell_type": "code",
   "execution_count": 12,
   "metadata": {
    "collapsed": false
   },
   "outputs": [
    {
     "data": {
      "text/html": [
       "<div>\n",
       "<table border=\"1\" class=\"dataframe\">\n",
       "  <thead>\n",
       "    <tr style=\"text-align: right;\">\n",
       "      <th></th>\n",
       "      <th>date</th>\n",
       "      <th>P</th>\n",
       "      <th>Tmax</th>\n",
       "      <th>Tmin</th>\n",
       "      <th>Tave</th>\n",
       "      <th>rain_duration</th>\n",
       "    </tr>\n",
       "  </thead>\n",
       "  <tbody>\n",
       "    <tr>\n",
       "      <th>2009-10-01</th>\n",
       "      <td>2009-10-01</td>\n",
       "      <td>0.0009</td>\n",
       "      <td>-3.6</td>\n",
       "      <td>-8.1</td>\n",
       "      <td>-5.4</td>\n",
       "      <td>1.7027</td>\n",
       "    </tr>\n",
       "    <tr>\n",
       "      <th>2009-10-02</th>\n",
       "      <td>2009-10-02</td>\n",
       "      <td>0.0000</td>\n",
       "      <td>4.8</td>\n",
       "      <td>-6.1</td>\n",
       "      <td>-1.7</td>\n",
       "      <td>1.0826</td>\n",
       "    </tr>\n",
       "    <tr>\n",
       "      <th>2009-10-03</th>\n",
       "      <td>2009-10-03</td>\n",
       "      <td>0.0000</td>\n",
       "      <td>8.6</td>\n",
       "      <td>-6.8</td>\n",
       "      <td>0.8</td>\n",
       "      <td>1.0826</td>\n",
       "    </tr>\n",
       "    <tr>\n",
       "      <th>2009-10-04</th>\n",
       "      <td>2009-10-04</td>\n",
       "      <td>0.0027</td>\n",
       "      <td>6.1</td>\n",
       "      <td>-3.7</td>\n",
       "      <td>0.3</td>\n",
       "      <td>2.9429</td>\n",
       "    </tr>\n",
       "    <tr>\n",
       "      <th>2009-10-05</th>\n",
       "      <td>2009-10-05</td>\n",
       "      <td>0.0029</td>\n",
       "      <td>4.5</td>\n",
       "      <td>-5.5</td>\n",
       "      <td>-0.5</td>\n",
       "      <td>3.0807</td>\n",
       "    </tr>\n",
       "  </tbody>\n",
       "</table>\n",
       "</div>"
      ],
      "text/plain": [
       "                 date       P  Tmax  Tmin  Tave  rain_duration\n",
       "2009-10-01 2009-10-01  0.0009  -3.6  -8.1  -5.4         1.7027\n",
       "2009-10-02 2009-10-02  0.0000   4.8  -6.1  -1.7         1.0826\n",
       "2009-10-03 2009-10-03  0.0000   8.6  -6.8   0.8         1.0826\n",
       "2009-10-04 2009-10-04  0.0027   6.1  -3.7   0.3         2.9429\n",
       "2009-10-05 2009-10-05  0.0029   4.5  -5.5  -0.5         3.0807"
      ]
     },
     "execution_count": 12,
     "metadata": {},
     "output_type": "execute_result"
    }
   ],
   "source": [
    "out.head()"
   ]
  },
  {
   "cell_type": "code",
   "execution_count": 13,
   "metadata": {
    "collapsed": false
   },
   "outputs": [
    {
     "data": {
      "text/html": [
       "<div>\n",
       "<table border=\"1\" class=\"dataframe\">\n",
       "  <thead>\n",
       "    <tr style=\"text-align: right;\">\n",
       "      <th></th>\n",
       "      <th>date</th>\n",
       "      <th>P</th>\n",
       "      <th>Tmax</th>\n",
       "      <th>Tmin</th>\n",
       "      <th>Tave</th>\n",
       "      <th>rain_duration</th>\n",
       "    </tr>\n",
       "  </thead>\n",
       "  <tbody>\n",
       "    <tr>\n",
       "      <th>2019-10-11</th>\n",
       "      <td>2010-10-11</td>\n",
       "      <td>0.0000</td>\n",
       "      <td>9.8</td>\n",
       "      <td>1.1</td>\n",
       "      <td>5.1</td>\n",
       "      <td>1.0826</td>\n",
       "    </tr>\n",
       "    <tr>\n",
       "      <th>2019-10-12</th>\n",
       "      <td>2010-10-12</td>\n",
       "      <td>0.0143</td>\n",
       "      <td>4.5</td>\n",
       "      <td>-2.2</td>\n",
       "      <td>0.2</td>\n",
       "      <td>10.9353</td>\n",
       "    </tr>\n",
       "    <tr>\n",
       "      <th>2019-10-13</th>\n",
       "      <td>2010-10-13</td>\n",
       "      <td>0.0000</td>\n",
       "      <td>8.9</td>\n",
       "      <td>-4.0</td>\n",
       "      <td>2.2</td>\n",
       "      <td>1.0826</td>\n",
       "    </tr>\n",
       "    <tr>\n",
       "      <th>2019-10-14</th>\n",
       "      <td>2010-10-14</td>\n",
       "      <td>0.0000</td>\n",
       "      <td>13.9</td>\n",
       "      <td>0.5</td>\n",
       "      <td>7.9</td>\n",
       "      <td>1.0826</td>\n",
       "    </tr>\n",
       "    <tr>\n",
       "      <th>2019-10-15</th>\n",
       "      <td>2010-10-15</td>\n",
       "      <td>0.0000</td>\n",
       "      <td>14.2</td>\n",
       "      <td>0.3</td>\n",
       "      <td>8.4</td>\n",
       "      <td>1.0826</td>\n",
       "    </tr>\n",
       "  </tbody>\n",
       "</table>\n",
       "</div>"
      ],
      "text/plain": [
       "                 date       P  Tmax  Tmin  Tave  rain_duration\n",
       "2019-10-11 2010-10-11  0.0000   9.8   1.1   5.1         1.0826\n",
       "2019-10-12 2010-10-12  0.0143   4.5  -2.2   0.2        10.9353\n",
       "2019-10-13 2010-10-13  0.0000   8.9  -4.0   2.2         1.0826\n",
       "2019-10-14 2010-10-14  0.0000  13.9   0.5   7.9         1.0826\n",
       "2019-10-15 2010-10-15  0.0000  14.2   0.3   8.4         1.0826"
      ]
     },
     "execution_count": 13,
     "metadata": {},
     "output_type": "execute_result"
    }
   ],
   "source": [
    "out.tail()"
   ]
  },
  {
   "cell_type": "code",
   "execution_count": 15,
   "metadata": {
    "collapsed": false
   },
   "outputs": [],
   "source": [
    "header = '2009 10 1'\n",
    "np.savetxt('/RHESSys/ComoCreek_new/clim/smex_spinup.rain',out.P,comments='',header=header,fmt='%10.8f')\n",
    "np.savetxt('/RHESSys/ComoCreek_new/clim/smex_spinup.tmin',out.Tmin,comments='',header=header,fmt='%10.8f')\n",
    "np.savetxt('/RHESSys/ComoCreek_new/clim/smex_spinup.tmax',out.Tmax,comments='',header=header,fmt='%10.8f')\n",
    "np.savetxt('/RHESSys/ComoCreek_new/clim/smex_spinup.tavg',out.Tave,comments='',header=header,fmt='%10.8f')\n",
    "np.savetxt('/RHESSys/ComoCreek_new/clim/smex_spinup.daytime_rain_duration',out.rain_duration,comments='',header=header,fmt='%10.8f')"
   ]
  },
  {
   "cell_type": "code",
   "execution_count": null,
   "metadata": {
    "collapsed": true
   },
   "outputs": [],
   "source": []
  }
 ],
 "metadata": {
  "kernelspec": {
   "display_name": "Python 2",
   "language": "python",
   "name": "python2"
  },
  "language_info": {
   "codemirror_mode": {
    "name": "ipython",
    "version": 2
   },
   "file_extension": ".py",
   "mimetype": "text/x-python",
   "name": "python",
   "nbconvert_exporter": "python",
   "pygments_lexer": "ipython2",
   "version": "2.7.12"
  }
 },
 "nbformat": 4,
 "nbformat_minor": 0
}
