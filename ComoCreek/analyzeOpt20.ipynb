{
 "cells": [
  {
   "cell_type": "code",
   "execution_count": 24,
   "metadata": {
    "collapsed": true
   },
   "outputs": [],
   "source": [
    "import glob\n",
    "from hydro import objective_fxns as obfx"
   ]
  },
  {
   "cell_type": "code",
   "execution_count": 2,
   "metadata": {
    "collapsed": true
   },
   "outputs": [],
   "source": [
    "# load the parameters\n",
    "gw1 = np.loadtxt('./opt20_gw1.txt')\n",
    "gw2 = np.loadtxt('./opt20_gw2.txt')\n",
    "m = np.loadtxt('./opt20_m.txt')\n",
    "ksat = np.loadtxt('./opt20_ksat.txt')\n",
    "crd = np.loadtxt('./opt20_crd.txt')\n",
    "trd = np.loadtxt('./opt20_trd.txt')\n",
    "po = np.loadtxt('./opt20_po.txt')\n",
    "pa = np.loadtxt('./opt20_pa.txt')\n",
    "idx = np.arange(1,len(gw1)+1) # index variable"
   ]
  },
  {
   "cell_type": "code",
   "execution_count": 3,
   "metadata": {
    "collapsed": true
   },
   "outputs": [],
   "source": [
    "files = glob.glob('/RHESSys/Como/out/opt20/*_basin.daily')"
   ]
  },
  {
   "cell_type": "code",
   "execution_count": 9,
   "metadata": {
    "collapsed": true
   },
   "outputs": [],
   "source": [
    "tmp = pd.DataFrame({'file':files})"
   ]
  },
  {
   "cell_type": "code",
   "execution_count": 17,
   "metadata": {
    "collapsed": true
   },
   "outputs": [],
   "source": [
    "def get_idx(fl): return int(fl.split('/')[-1].split('_')[0])"
   ]
  },
  {
   "cell_type": "code",
   "execution_count": 18,
   "metadata": {
    "collapsed": true
   },
   "outputs": [],
   "source": [
    "tmp['idx'] = tmp.file.map(get_idx)"
   ]
  },
  {
   "cell_type": "code",
   "execution_count": 20,
   "metadata": {
    "collapsed": true
   },
   "outputs": [],
   "source": [
    "dat = pd.DataFrame({'gw1':gw1,'gw2':gw2,'m':m,'ksat':ksat,'crd':crd,'trd':trd,'po':po,'pa':pa,'idx':idx})"
   ]
  },
  {
   "cell_type": "code",
   "execution_count": 22,
   "metadata": {
    "collapsed": false
   },
   "outputs": [],
   "source": [
    "dat = pd.merge(dat,tmp,on='idx')"
   ]
  },
  {
   "cell_type": "code",
   "execution_count": 35,
   "metadata": {
    "collapsed": true
   },
   "outputs": [],
   "source": [
    "strt = '2004-10-01'\n",
    "nd = '2007-09-30'"
   ]
  },
  {
   "cell_type": "code",
   "execution_count": 36,
   "metadata": {
    "collapsed": true
   },
   "outputs": [],
   "source": [
    "obs = pd.read_pickle('/RHESSys/Como/obs/como_q_obs.pcl')['2004-10-01':'2007-09-30']"
   ]
  },
  {
   "cell_type": "code",
   "execution_count": 40,
   "metadata": {
    "collapsed": false
   },
   "outputs": [],
   "source": [
    "obs = obs.discharge.as_matrix()"
   ]
  },
  {
   "cell_type": "code",
   "execution_count": 32,
   "metadata": {
    "collapsed": true
   },
   "outputs": [],
   "source": [
    "def read_date(df):\n",
    "    return '%s-%s-%s'%(int(df.year),int(df.month),int(df.day))"
   ]
  },
  {
   "cell_type": "code",
   "execution_count": 43,
   "metadata": {
    "collapsed": true
   },
   "outputs": [],
   "source": [
    "def compute_ns(fl):\n",
    "    out = pd.read_table(fl,sep=' ')\n",
    "    out['datetime'] = out.apply(read_date,axis=1)\n",
    "    out.index = pd.DatetimeIndex(out.datetime)\n",
    "    out = out[strt:nd]\n",
    "    sim = out.streamflow.as_matrix()\n",
    "    return obfx.nashsut(obs,sim)"
   ]
  },
  {
   "cell_type": "code",
   "execution_count": 45,
   "metadata": {
    "collapsed": false
   },
   "outputs": [],
   "source": [
    "dat['ns'] = dat.file.map(compute_ns)"
   ]
  },
  {
   "cell_type": "code",
   "execution_count": 49,
   "metadata": {
    "collapsed": false
   },
   "outputs": [],
   "source": [
    "dat.sort_values('ns',inplace=True,ascending=False)"
   ]
  },
  {
   "cell_type": "code",
   "execution_count": 51,
   "metadata": {
    "collapsed": true
   },
   "outputs": [],
   "source": [
    "def loadfl(fl):\n",
    "    out = pd.read_table(fl,sep=' ')\n",
    "    out['datetime'] = out.apply(read_date,axis=1)\n",
    "    out.index = pd.DatetimeIndex(out.datetime)\n",
    "    \n",
    "    return out"
   ]
  },
  {
   "cell_type": "code",
   "execution_count": 53,
   "metadata": {
    "collapsed": true
   },
   "outputs": [],
   "source": [
    "sim = loadfl(dat.file[0])[strt:nd]"
   ]
  },
  {
   "cell_type": "code",
   "execution_count": 61,
   "metadata": {
    "collapsed": false
   },
   "outputs": [
    {
     "data": {
      "text/plain": [
       "<matplotlib.legend.Legend at 0x113edbd10>"
      ]
     },
     "execution_count": 61,
     "metadata": {},
     "output_type": "execute_result"
    },
    {
     "data": {
      "image/png": "[encoded data removed]",
      "text/plain": [
       "<matplotlib.figure.Figure at 0x113edb9d0>"
      ]
     },
     "metadata": {},
     "output_type": "display_data"
    }
   ],
   "source": [
    "sim.streamflow.plot(label='Sim.')\n",
    "plt.plot(sim.datetime,obs,label = 'Obs.')\n",
    "plt.legend()"
   ]
  },
  {
   "cell_type": "code",
   "execution_count": 57,
   "metadata": {
    "collapsed": false
   },
   "outputs": [
    {
     "data": {
      "text/html": [
       "<div>\n",
       "<table border=\"1\" class=\"dataframe\">\n",
       "  <thead>\n",
       "    <tr style=\"text-align: right;\">\n",
       "      <th></th>\n",
       "      <th>crd</th>\n",
       "      <th>gw1</th>\n",
       "      <th>gw2</th>\n",
       "      <th>idx</th>\n",
       "      <th>ksat</th>\n",
       "      <th>m</th>\n",
       "      <th>pa</th>\n",
       "      <th>po</th>\n",
       "      <th>trd</th>\n",
       "      <th>file</th>\n",
       "      <th>ns</th>\n",
       "    </tr>\n",
       "  </thead>\n",
       "  <tbody>\n",
       "    <tr>\n",
       "      <th>0</th>\n",
       "      <td>7.693360</td>\n",
       "      <td>0.338835</td>\n",
       "      <td>0.925561</td>\n",
       "      <td>1</td>\n",
       "      <td>550.830059</td>\n",
       "      <td>9.260107</td>\n",
       "      <td>795.805483</td>\n",
       "      <td>9.352211</td>\n",
       "      <td>2.835409</td>\n",
       "      <td>/RHESSys/Como/out/opt20/1_basin.daily</td>\n",
       "      <td>0.270630</td>\n",
       "    </tr>\n",
       "    <tr>\n",
       "      <th>1</th>\n",
       "      <td>3.675079</td>\n",
       "      <td>0.260339</td>\n",
       "      <td>0.929629</td>\n",
       "      <td>2</td>\n",
       "      <td>602.287043</td>\n",
       "      <td>11.880746</td>\n",
       "      <td>64.458516</td>\n",
       "      <td>9.662149</td>\n",
       "      <td>1.718231</td>\n",
       "      <td>/RHESSys/Como/out/opt20/2_basin.daily</td>\n",
       "      <td>0.098313</td>\n",
       "    </tr>\n",
       "    <tr>\n",
       "      <th>2</th>\n",
       "      <td>7.907322</td>\n",
       "      <td>0.569225</td>\n",
       "      <td>0.001934</td>\n",
       "      <td>3</td>\n",
       "      <td>297.092856</td>\n",
       "      <td>29.349125</td>\n",
       "      <td>56.957810</td>\n",
       "      <td>165.836227</td>\n",
       "      <td>1.032384</td>\n",
       "      <td>/RHESSys/Como/out/opt20/3_basin.daily</td>\n",
       "      <td>0.031670</td>\n",
       "    </tr>\n",
       "    <tr>\n",
       "      <th>3</th>\n",
       "      <td>1.969945</td>\n",
       "      <td>0.534597</td>\n",
       "      <td>0.002350</td>\n",
       "      <td>4</td>\n",
       "      <td>675.116448</td>\n",
       "      <td>18.484190</td>\n",
       "      <td>671.110885</td>\n",
       "      <td>83.844865</td>\n",
       "      <td>1.772318</td>\n",
       "      <td>/RHESSys/Como/out/opt20/4_basin.daily</td>\n",
       "      <td>0.013543</td>\n",
       "    </tr>\n",
       "    <tr>\n",
       "      <th>4</th>\n",
       "      <td>4.019799</td>\n",
       "      <td>0.728435</td>\n",
       "      <td>0.003103</td>\n",
       "      <td>5</td>\n",
       "      <td>336.491370</td>\n",
       "      <td>14.596382</td>\n",
       "      <td>436.501422</td>\n",
       "      <td>446.017427</td>\n",
       "      <td>2.094443</td>\n",
       "      <td>/RHESSys/Como/out/opt20/5_basin.daily</td>\n",
       "      <td>-0.008110</td>\n",
       "    </tr>\n",
       "  </tbody>\n",
       "</table>\n",
       "</div>"
      ],
      "text/plain": [
       "        crd       gw1       gw2  idx        ksat          m          pa  \\\n",
       "0  7.693360  0.338835  0.925561    1  550.830059   9.260107  795.805483   \n",
       "1  3.675079  0.260339  0.929629    2  602.287043  11.880746   64.458516   \n",
       "2  7.907322  0.569225  0.001934    3  297.092856  29.349125   56.957810   \n",
       "3  1.969945  0.534597  0.002350    4  675.116448  18.484190  671.110885   \n",
       "4  4.019799  0.728435  0.003103    5  336.491370  14.596382  436.501422   \n",
       "\n",
       "           po       trd                                   file        ns  \n",
       "0    9.352211  2.835409  /RHESSys/Como/out/opt20/1_basin.daily  0.270630  \n",
       "1    9.662149  1.718231  /RHESSys/Como/out/opt20/2_basin.daily  0.098313  \n",
       "2  165.836227  1.032384  /RHESSys/Como/out/opt20/3_basin.daily  0.031670  \n",
       "3   83.844865  1.772318  /RHESSys/Como/out/opt20/4_basin.daily  0.013543  \n",
       "4  446.017427  2.094443  /RHESSys/Como/out/opt20/5_basin.daily -0.008110  "
      ]
     },
     "execution_count": 57,
     "metadata": {},
     "output_type": "execute_result"
    }
   ],
   "source": [
    "dat.head()"
   ]
  },
  {
   "cell_type": "code",
   "execution_count": null,
   "metadata": {
    "collapsed": true
   },
   "outputs": [],
   "source": []
  }
 ],
 "metadata": {
  "kernelspec": {
   "display_name": "Python 2",
   "language": "python",
   "name": "python2"
  },
  "language_info": {
   "codemirror_mode": {
    "name": "ipython",
    "version": 2
   },
   "file_extension": ".py",
   "mimetype": "text/x-python",
   "name": "python",
   "nbconvert_exporter": "python",
   "pygments_lexer": "ipython2",
   "version": "2.7.12"
  }
 },
 "nbformat": 4,
 "nbformat_minor": 0
}
