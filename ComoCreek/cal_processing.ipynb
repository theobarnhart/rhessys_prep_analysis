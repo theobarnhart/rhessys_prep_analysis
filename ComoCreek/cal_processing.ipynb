{
 "cells": [
  {
   "cell_type": "code",
   "execution_count": 105,
   "metadata": {
    "collapsed": false
   },
   "outputs": [],
   "source": [
    "'''Usage: python cal_processing.py idx start_date end_date observations_path simulation_path output_path'''\n",
    "\n",
    "import sys\n",
    "import numpy as np\n",
    "import pandas as pd\n",
    "\n",
    "# define the objective functions from Bart et al. 2016\n",
    "\n",
    "#NSE\n",
    "def NSE(obs,mod):\n",
    "       \n",
    "    return 1. - (np.nansum(np.square(obs-mod)) / np.nansum(np.square(obs - np.nanmean(obs))))\n",
    "\n",
    "                 \n",
    "def NSE_log(obs,mod):\n",
    "    \n",
    "    obs = np.log10(obs)\n",
    "    \n",
    "    mod[mod<=0] = np.NaN\n",
    "    \n",
    "    mod = np.log10(mod)\n",
    "    \n",
    "    return 1. - (np.nansum(np.square(obs-mod)) / np.nansum(np.square(obs - np.nanmean(obs))))\n",
    "\n",
    "def PE(obs,mod):\n",
    "    \n",
    "    return (np.nanmean(mod)-np.nanmean(obs))/np.nanmean(obs)\n",
    "\n",
    "def OBFX(obs,mod):\n",
    "    \n",
    "    pe = PE(obs,mod)\n",
    "    nse = NSE(obs,mod)\n",
    "    nse_log = NSE_log(obs,mod)\n",
    "    \n",
    "    obfx = nse*nse_log*(1.-np.abs(pe))\n",
    "    \n",
    "    return pe,nse,nse_log\n",
    "\n",
    "def parse_rhessys_date(df):\n",
    "    return '%s-%s-%s'%(int(df.year),int(df.month),int(df.day))\n",
    "\n",
    "\n",
    "# parse the command line arguments\n",
    "idx = sys.argv[1]\n",
    "strt = sys.argv[2]\n",
    "nd = sys.argv[3]\n",
    "obspth = sys.argv[4]\n",
    "modpth = sys.argv[5]\n",
    "outpth = sys.argv[6]\n",
    "\n",
    "#idx = '01'\n",
    "#strt = '2004-10-01'\n",
    "#nd = '2012-09-29'\n",
    "#obspth = './data/como_q_obs.pcl'\n",
    "#modpth = '/RHESSys/Como/out/test_basin.daily'\n",
    "#outpth = '/RHESSys/Como/out/test_streamflow.npz'"
   ]
  },
  {
   "cell_type": "code",
   "execution_count": 106,
   "metadata": {
    "collapsed": true
   },
   "outputs": [],
   "source": [
    "# read in the observations\n",
    "obs = pd.read_pickle(obspth)[strt:nd].discharge.as_matrix()"
   ]
  },
  {
   "cell_type": "code",
   "execution_count": 107,
   "metadata": {
    "collapsed": false
   },
   "outputs": [],
   "source": [
    "# read in the model\n",
    "mod = pd.read_table(modpth,sep=' ')\n",
    "mod['datetime'] = mod.apply(parse_rhessys_date,axis = 1)\n",
    "mod.index = pd.DatetimeIndex(mod.datetime)\n",
    "mod = mod[strt:nd].streamflow.as_matrix()\n",
    "\n",
    "np.savez_compressed(outpth,streamflow=mod)"
   ]
  },
  {
   "cell_type": "code",
   "execution_count": 108,
   "metadata": {
    "collapsed": false
   },
   "outputs": [],
   "source": [
    "pe,nse,nse_log = OBFX(obs,mod)"
   ]
  },
  {
   "cell_type": "code",
   "execution_count": 109,
   "metadata": {
    "collapsed": false
   },
   "outputs": [
    {
     "name": "stdout",
     "output_type": "stream",
     "text": [
      "01,-0.620480581439,-2.20827515398,0.915246227918\n"
     ]
    }
   ],
   "source": [
    "print '%s,%s,%s,%s'%(idx,pe,nse,nse_log)"
   ]
  }
 ],
 "metadata": {
  "kernelspec": {
   "display_name": "Python 2",
   "language": "python",
   "name": "python2"
  },
  "language_info": {
   "codemirror_mode": {
    "name": "ipython",
    "version": 2
   },
   "file_extension": ".py",
   "mimetype": "text/x-python",
   "name": "python",
   "nbconvert_exporter": "python",
   "pygments_lexer": "ipython2",
   "version": "2.7.12"
  }
 },
 "nbformat": 4,
 "nbformat_minor": 0
}
