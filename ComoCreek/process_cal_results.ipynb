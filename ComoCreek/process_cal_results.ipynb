{
 "cells": [
  {
   "cell_type": "code",
   "execution_count": 93,
   "metadata": {
    "collapsed": false
   },
   "outputs": [],
   "source": [
    "calname = 'cal15'\n",
    "strt = '2003-10-01'\n",
    "nd = '2012-09-30'\n",
    "n = 300\n",
    "\n",
    "obs = pd.read_pickle('./data/como_q_obs.pcl')[strt:nd]\n",
    "\n",
    "def split_filename(fl):\n",
    "    return int(fl.split('/')[-1].split('_')[-1].split('.')[0])\n",
    "\n",
    "def compute_metric(df):\n",
    "    return df.nse_norm*df.nse_log_norm*(1.-df.pe_norm)\n",
    "\n",
    "import glob"
   ]
  },
  {
   "cell_type": "raw",
   "metadata": {
    "collapsed": false
   },
   "source": [
    "obs.discharge.to_csv('./data/glue_obs.csv',index=False, header=False,na_rep='NaN')"
   ]
  },
  {
   "cell_type": "code",
   "execution_count": 126,
   "metadata": {
    "collapsed": false
   },
   "outputs": [],
   "source": [
    "# grab the calibration output files and parse out the index number\n",
    "tmp = glob.glob('/RHESSys/Como/out/cal/%s_*.npz'%(calname))\n",
    "files = pd.DataFrame({'filename':tmp})\n",
    "files['idx'] = files.filename.map(split_filename)\n",
    "files.index = files.idx\n",
    "files.sort_index(inplace=True)"
   ]
  },
  {
   "cell_type": "code",
   "execution_count": null,
   "metadata": {
    "collapsed": true
   },
   "outputs": [],
   "source": []
  },
  {
   "cell_type": "code",
   "execution_count": 127,
   "metadata": {
    "collapsed": false
   },
   "outputs": [
    {
     "data": {
      "text/plain": [
       "293"
      ]
     },
     "execution_count": 127,
     "metadata": {},
     "output_type": "execute_result"
    }
   ],
   "source": [
    "len(files)"
   ]
  },
  {
   "cell_type": "code",
   "execution_count": 128,
   "metadata": {
    "collapsed": false
   },
   "outputs": [],
   "source": [
    "# make a dataframe of the calibration parameters\n",
    "tmp = glob.glob('/RHESSys/Como/scripts/%s_*.txt'%(calname))\n",
    "names = []\n",
    "for fl in tmp:\n",
    "    names.append(fl.split('/')[-1].split('_')[-1].split('.')[0])\n",
    "\n",
    "params = pd.DataFrame(columns=names)\n",
    "\n",
    "for name,fl in zip(names,tmp):\n",
    "    params[name] = np.loadtxt(fl)\n",
    "    \n",
    "params['idx'] = np.arange(0,n)\n",
    "params.index = params.idx\n",
    "params['idx'] = params.index"
   ]
  },
  {
   "cell_type": "code",
   "execution_count": 129,
   "metadata": {
    "collapsed": false
   },
   "outputs": [
    {
     "data": {
      "text/html": [
       "<div>\n",
       "<table border=\"1\" class=\"dataframe\">\n",
       "  <thead>\n",
       "    <tr style=\"text-align: right;\">\n",
       "      <th></th>\n",
       "      <th>alpsnowscale</th>\n",
       "      <th>forsnowscale</th>\n",
       "      <th>gw1</th>\n",
       "      <th>gw2</th>\n",
       "      <th>plapse</th>\n",
       "      <th>idx</th>\n",
       "    </tr>\n",
       "    <tr>\n",
       "      <th>idx</th>\n",
       "      <th></th>\n",
       "      <th></th>\n",
       "      <th></th>\n",
       "      <th></th>\n",
       "      <th></th>\n",
       "      <th></th>\n",
       "    </tr>\n",
       "  </thead>\n",
       "  <tbody>\n",
       "    <tr>\n",
       "      <th>0</th>\n",
       "      <td>0.20154</td>\n",
       "      <td>0.95845</td>\n",
       "      <td>0.36070</td>\n",
       "      <td>0.00545</td>\n",
       "      <td>0.00009</td>\n",
       "      <td>0</td>\n",
       "    </tr>\n",
       "    <tr>\n",
       "      <th>1</th>\n",
       "      <td>0.08951</td>\n",
       "      <td>0.52046</td>\n",
       "      <td>0.01028</td>\n",
       "      <td>0.14922</td>\n",
       "      <td>0.00050</td>\n",
       "      <td>1</td>\n",
       "    </tr>\n",
       "    <tr>\n",
       "      <th>2</th>\n",
       "      <td>0.03836</td>\n",
       "      <td>0.77431</td>\n",
       "      <td>0.16558</td>\n",
       "      <td>0.03995</td>\n",
       "      <td>0.00034</td>\n",
       "      <td>2</td>\n",
       "    </tr>\n",
       "    <tr>\n",
       "      <th>3</th>\n",
       "      <td>0.05162</td>\n",
       "      <td>0.70172</td>\n",
       "      <td>0.06645</td>\n",
       "      <td>0.48191</td>\n",
       "      <td>0.00026</td>\n",
       "      <td>3</td>\n",
       "    </tr>\n",
       "    <tr>\n",
       "      <th>4</th>\n",
       "      <td>0.04106</td>\n",
       "      <td>0.88613</td>\n",
       "      <td>0.26587</td>\n",
       "      <td>0.04247</td>\n",
       "      <td>0.00012</td>\n",
       "      <td>4</td>\n",
       "    </tr>\n",
       "    <tr>\n",
       "      <th>5</th>\n",
       "      <td>0.22479</td>\n",
       "      <td>0.68214</td>\n",
       "      <td>0.32066</td>\n",
       "      <td>0.27703</td>\n",
       "      <td>0.00008</td>\n",
       "      <td>5</td>\n",
       "    </tr>\n",
       "    <tr>\n",
       "      <th>6</th>\n",
       "      <td>0.22111</td>\n",
       "      <td>0.56407</td>\n",
       "      <td>0.11286</td>\n",
       "      <td>0.13275</td>\n",
       "      <td>0.00041</td>\n",
       "      <td>6</td>\n",
       "    </tr>\n",
       "    <tr>\n",
       "      <th>7</th>\n",
       "      <td>0.12847</td>\n",
       "      <td>0.78992</td>\n",
       "      <td>0.10775</td>\n",
       "      <td>0.11890</td>\n",
       "      <td>0.00027</td>\n",
       "      <td>7</td>\n",
       "    </tr>\n",
       "    <tr>\n",
       "      <th>8</th>\n",
       "      <td>0.24252</td>\n",
       "      <td>0.97989</td>\n",
       "      <td>0.24285</td>\n",
       "      <td>0.49790</td>\n",
       "      <td>0.00006</td>\n",
       "      <td>8</td>\n",
       "    </tr>\n",
       "    <tr>\n",
       "      <th>9</th>\n",
       "      <td>0.22387</td>\n",
       "      <td>0.89969</td>\n",
       "      <td>0.16405</td>\n",
       "      <td>0.19444</td>\n",
       "      <td>0.00039</td>\n",
       "      <td>9</td>\n",
       "    </tr>\n",
       "    <tr>\n",
       "      <th>10</th>\n",
       "      <td>0.17102</td>\n",
       "      <td>0.65437</td>\n",
       "      <td>0.24815</td>\n",
       "      <td>0.29867</td>\n",
       "      <td>0.00030</td>\n",
       "      <td>10</td>\n",
       "    </tr>\n",
       "    <tr>\n",
       "      <th>11</th>\n",
       "      <td>0.12786</td>\n",
       "      <td>0.92295</td>\n",
       "      <td>0.34343</td>\n",
       "      <td>0.35502</td>\n",
       "      <td>0.00003</td>\n",
       "      <td>11</td>\n",
       "    </tr>\n",
       "    <tr>\n",
       "      <th>12</th>\n",
       "      <td>0.16790</td>\n",
       "      <td>0.79222</td>\n",
       "      <td>0.29804</td>\n",
       "      <td>0.43644</td>\n",
       "      <td>0.00037</td>\n",
       "      <td>12</td>\n",
       "    </tr>\n",
       "    <tr>\n",
       "      <th>13</th>\n",
       "      <td>0.01654</td>\n",
       "      <td>0.75651</td>\n",
       "      <td>0.14502</td>\n",
       "      <td>0.16831</td>\n",
       "      <td>0.00008</td>\n",
       "      <td>13</td>\n",
       "    </tr>\n",
       "    <tr>\n",
       "      <th>14</th>\n",
       "      <td>0.05733</td>\n",
       "      <td>0.97196</td>\n",
       "      <td>0.22626</td>\n",
       "      <td>0.00057</td>\n",
       "      <td>0.00020</td>\n",
       "      <td>14</td>\n",
       "    </tr>\n",
       "  </tbody>\n",
       "</table>\n",
       "</div>"
      ],
      "text/plain": [
       "     alpsnowscale  forsnowscale      gw1      gw2   plapse  idx\n",
       "idx                                                            \n",
       "0         0.20154       0.95845  0.36070  0.00545  0.00009    0\n",
       "1         0.08951       0.52046  0.01028  0.14922  0.00050    1\n",
       "2         0.03836       0.77431  0.16558  0.03995  0.00034    2\n",
       "3         0.05162       0.70172  0.06645  0.48191  0.00026    3\n",
       "4         0.04106       0.88613  0.26587  0.04247  0.00012    4\n",
       "5         0.22479       0.68214  0.32066  0.27703  0.00008    5\n",
       "6         0.22111       0.56407  0.11286  0.13275  0.00041    6\n",
       "7         0.12847       0.78992  0.10775  0.11890  0.00027    7\n",
       "8         0.24252       0.97989  0.24285  0.49790  0.00006    8\n",
       "9         0.22387       0.89969  0.16405  0.19444  0.00039    9\n",
       "10        0.17102       0.65437  0.24815  0.29867  0.00030   10\n",
       "11        0.12786       0.92295  0.34343  0.35502  0.00003   11\n",
       "12        0.16790       0.79222  0.29804  0.43644  0.00037   12\n",
       "13        0.01654       0.75651  0.14502  0.16831  0.00008   13\n",
       "14        0.05733       0.97196  0.22626  0.00057  0.00020   14"
      ]
     },
     "execution_count": 129,
     "metadata": {},
     "output_type": "execute_result"
    }
   ],
   "source": [
    "params.head(15)"
   ]
  },
  {
   "cell_type": "code",
   "execution_count": 130,
   "metadata": {
    "collapsed": false
   },
   "outputs": [],
   "source": [
    "data = pd.read_csv('/RHESSys/Como/out/%s.txt'%(calname),names=['idx','pe','nse','nse_log','rmse'],index_col='idx')"
   ]
  },
  {
   "cell_type": "raw",
   "metadata": {
    "collapsed": false
   },
   "source": [
    "data.to_csv('./data/glue_obfx.csv',index=False,header=False)"
   ]
  },
  {
   "cell_type": "code",
   "execution_count": 131,
   "metadata": {
    "collapsed": false
   },
   "outputs": [],
   "source": [
    "if calname == 'cal01':\n",
    "    data = data[-66:] # this is because the first few records are old in the cal01 file..."
   ]
  },
  {
   "cell_type": "code",
   "execution_count": 132,
   "metadata": {
    "collapsed": false
   },
   "outputs": [],
   "source": [
    "data.sort_index(inplace=True)"
   ]
  },
  {
   "cell_type": "code",
   "execution_count": 133,
   "metadata": {
    "collapsed": true
   },
   "outputs": [],
   "source": [
    "data.pe = data.pe.abs() # take the absolute value of the percent error before normalizing"
   ]
  },
  {
   "cell_type": "raw",
   "metadata": {
    "collapsed": false
   },
   "source": [
    "# normalize the variables\n",
    "for var,out in zip(['pe','nse','nse_log'],['pe_norm','nse_norm','nse_log_norm']):\n",
    "    data[out] = (data[var] - data[var].min()) / (data[var].max()-data[var].min())\n"
   ]
  },
  {
   "cell_type": "raw",
   "metadata": {
    "collapsed": false
   },
   "source": [
    "data.sort_values(by='nse',ascending=False)"
   ]
  },
  {
   "cell_type": "raw",
   "metadata": {
    "collapsed": false
   },
   "source": [
    "data[['pe_norm','nse_norm','nse_log_norm']].plot(kind='hist')"
   ]
  },
  {
   "cell_type": "raw",
   "metadata": {
    "collapsed": false
   },
   "source": [
    "data['metric'] = data.apply(compute_metric,axis=1)"
   ]
  },
  {
   "cell_type": "raw",
   "metadata": {
    "collapsed": false
   },
   "source": [
    "data.metric.hist()"
   ]
  },
  {
   "cell_type": "code",
   "execution_count": 134,
   "metadata": {
    "collapsed": true
   },
   "outputs": [],
   "source": [
    "data2 = data.copy()"
   ]
  },
  {
   "cell_type": "code",
   "execution_count": 135,
   "metadata": {
    "collapsed": true
   },
   "outputs": [],
   "source": [
    "data2['idx'] = data2.index"
   ]
  },
  {
   "cell_type": "code",
   "execution_count": 136,
   "metadata": {
    "collapsed": false
   },
   "outputs": [],
   "source": [
    "data.sort_values(by='nse',ascending=False,inplace=True)"
   ]
  },
  {
   "cell_type": "code",
   "execution_count": 137,
   "metadata": {
    "collapsed": false
   },
   "outputs": [],
   "source": [
    "out = data.head(10).copy()\n",
    "out['idx'] = out.index"
   ]
  },
  {
   "cell_type": "code",
   "execution_count": 138,
   "metadata": {
    "collapsed": false
   },
   "outputs": [
    {
     "data": {
      "text/html": [
       "<div>\n",
       "<table border=\"1\" class=\"dataframe\">\n",
       "  <thead>\n",
       "    <tr style=\"text-align: right;\">\n",
       "      <th></th>\n",
       "      <th>pe</th>\n",
       "      <th>nse</th>\n",
       "      <th>nse_log</th>\n",
       "      <th>rmse</th>\n",
       "      <th>idx</th>\n",
       "    </tr>\n",
       "    <tr>\n",
       "      <th>idx</th>\n",
       "      <th></th>\n",
       "      <th></th>\n",
       "      <th></th>\n",
       "      <th></th>\n",
       "      <th></th>\n",
       "    </tr>\n",
       "  </thead>\n",
       "  <tbody>\n",
       "    <tr>\n",
       "      <th>44</th>\n",
       "      <td>0.010032</td>\n",
       "      <td>-2.148095</td>\n",
       "      <td>-1.852951</td>\n",
       "      <td>35.939283</td>\n",
       "      <td>44</td>\n",
       "    </tr>\n",
       "    <tr>\n",
       "      <th>136</th>\n",
       "      <td>0.061139</td>\n",
       "      <td>-2.265609</td>\n",
       "      <td>-2.628469</td>\n",
       "      <td>36.603921</td>\n",
       "      <td>136</td>\n",
       "    </tr>\n",
       "    <tr>\n",
       "      <th>93</th>\n",
       "      <td>0.041107</td>\n",
       "      <td>-2.329913</td>\n",
       "      <td>-1.802184</td>\n",
       "      <td>36.962552</td>\n",
       "      <td>93</td>\n",
       "    </tr>\n",
       "    <tr>\n",
       "      <th>152</th>\n",
       "      <td>0.056750</td>\n",
       "      <td>-2.424721</td>\n",
       "      <td>-2.689167</td>\n",
       "      <td>37.485052</td>\n",
       "      <td>152</td>\n",
       "    </tr>\n",
       "    <tr>\n",
       "      <th>276</th>\n",
       "      <td>0.074903</td>\n",
       "      <td>-2.608648</td>\n",
       "      <td>-3.086814</td>\n",
       "      <td>38.478465</td>\n",
       "      <td>276</td>\n",
       "    </tr>\n",
       "    <tr>\n",
       "      <th>245</th>\n",
       "      <td>0.029161</td>\n",
       "      <td>-2.818449</td>\n",
       "      <td>-2.279764</td>\n",
       "      <td>39.581203</td>\n",
       "      <td>245</td>\n",
       "    </tr>\n",
       "    <tr>\n",
       "      <th>14</th>\n",
       "      <td>0.157345</td>\n",
       "      <td>-3.016930</td>\n",
       "      <td>-2.160423</td>\n",
       "      <td>40.596878</td>\n",
       "      <td>14</td>\n",
       "    </tr>\n",
       "    <tr>\n",
       "      <th>227</th>\n",
       "      <td>0.079285</td>\n",
       "      <td>-3.466163</td>\n",
       "      <td>-4.293796</td>\n",
       "      <td>42.806802</td>\n",
       "      <td>227</td>\n",
       "    </tr>\n",
       "    <tr>\n",
       "      <th>113</th>\n",
       "      <td>0.089327</td>\n",
       "      <td>-3.483566</td>\n",
       "      <td>-4.339094</td>\n",
       "      <td>42.890123</td>\n",
       "      <td>113</td>\n",
       "    </tr>\n",
       "    <tr>\n",
       "      <th>259</th>\n",
       "      <td>0.037502</td>\n",
       "      <td>-3.718642</td>\n",
       "      <td>-3.094168</td>\n",
       "      <td>44.000133</td>\n",
       "      <td>259</td>\n",
       "    </tr>\n",
       "  </tbody>\n",
       "</table>\n",
       "</div>"
      ],
      "text/plain": [
       "           pe       nse   nse_log       rmse  idx\n",
       "idx                                              \n",
       "44   0.010032 -2.148095 -1.852951  35.939283   44\n",
       "136  0.061139 -2.265609 -2.628469  36.603921  136\n",
       "93   0.041107 -2.329913 -1.802184  36.962552   93\n",
       "152  0.056750 -2.424721 -2.689167  37.485052  152\n",
       "276  0.074903 -2.608648 -3.086814  38.478465  276\n",
       "245  0.029161 -2.818449 -2.279764  39.581203  245\n",
       "14   0.157345 -3.016930 -2.160423  40.596878   14\n",
       "227  0.079285 -3.466163 -4.293796  42.806802  227\n",
       "113  0.089327 -3.483566 -4.339094  42.890123  113\n",
       "259  0.037502 -3.718642 -3.094168  44.000133  259"
      ]
     },
     "execution_count": 138,
     "metadata": {},
     "output_type": "execute_result"
    }
   ],
   "source": [
    "out"
   ]
  },
  {
   "cell_type": "code",
   "execution_count": 139,
   "metadata": {
    "collapsed": false
   },
   "outputs": [],
   "source": [
    "out = pd.merge(left=out,right=params,how='inner',on='idx')"
   ]
  },
  {
   "cell_type": "code",
   "execution_count": 140,
   "metadata": {
    "collapsed": false
   },
   "outputs": [],
   "source": [
    "data2 = pd.merge(left=data2,right=params,how='inner', on='idx')"
   ]
  },
  {
   "cell_type": "raw",
   "metadata": {
    "collapsed": false
   },
   "source": [
    "data2[['crd','gw1','gw2','ksat','m','pa','po','trd']].to_csv('./data/glue_params.csv',index=False,header=False)"
   ]
  },
  {
   "cell_type": "code",
   "execution_count": 141,
   "metadata": {
    "collapsed": false
   },
   "outputs": [
    {
     "data": {
      "text/html": [
       "<div>\n",
       "<table border=\"1\" class=\"dataframe\">\n",
       "  <thead>\n",
       "    <tr style=\"text-align: right;\">\n",
       "      <th></th>\n",
       "      <th>pe</th>\n",
       "      <th>nse</th>\n",
       "      <th>nse_log</th>\n",
       "      <th>rmse</th>\n",
       "      <th>idx</th>\n",
       "      <th>alpsnowscale</th>\n",
       "      <th>forsnowscale</th>\n",
       "      <th>gw1</th>\n",
       "      <th>gw2</th>\n",
       "      <th>plapse</th>\n",
       "    </tr>\n",
       "  </thead>\n",
       "  <tbody>\n",
       "    <tr>\n",
       "      <th>0</th>\n",
       "      <td>0.010032</td>\n",
       "      <td>-2.148095</td>\n",
       "      <td>-1.852951</td>\n",
       "      <td>35.939283</td>\n",
       "      <td>44</td>\n",
       "      <td>0.17849</td>\n",
       "      <td>0.63077</td>\n",
       "      <td>0.36281</td>\n",
       "      <td>0.04594</td>\n",
       "      <td>0.00023</td>\n",
       "    </tr>\n",
       "    <tr>\n",
       "      <th>1</th>\n",
       "      <td>0.061139</td>\n",
       "      <td>-2.265609</td>\n",
       "      <td>-2.628469</td>\n",
       "      <td>36.603921</td>\n",
       "      <td>136</td>\n",
       "      <td>0.02227</td>\n",
       "      <td>0.52780</td>\n",
       "      <td>0.30617</td>\n",
       "      <td>0.03047</td>\n",
       "      <td>0.00039</td>\n",
       "    </tr>\n",
       "    <tr>\n",
       "      <th>2</th>\n",
       "      <td>0.041107</td>\n",
       "      <td>-2.329913</td>\n",
       "      <td>-1.802184</td>\n",
       "      <td>36.962552</td>\n",
       "      <td>93</td>\n",
       "      <td>0.12670</td>\n",
       "      <td>0.71205</td>\n",
       "      <td>0.27545</td>\n",
       "      <td>0.05138</td>\n",
       "      <td>0.00003</td>\n",
       "    </tr>\n",
       "    <tr>\n",
       "      <th>3</th>\n",
       "      <td>0.056750</td>\n",
       "      <td>-2.424721</td>\n",
       "      <td>-2.689167</td>\n",
       "      <td>37.485052</td>\n",
       "      <td>152</td>\n",
       "      <td>0.29923</td>\n",
       "      <td>0.64647</td>\n",
       "      <td>0.31978</td>\n",
       "      <td>0.03338</td>\n",
       "      <td>0.00001</td>\n",
       "    </tr>\n",
       "    <tr>\n",
       "      <th>4</th>\n",
       "      <td>0.074903</td>\n",
       "      <td>-2.608648</td>\n",
       "      <td>-3.086814</td>\n",
       "      <td>38.478465</td>\n",
       "      <td>276</td>\n",
       "      <td>0.25874</td>\n",
       "      <td>0.52971</td>\n",
       "      <td>0.35260</td>\n",
       "      <td>0.08349</td>\n",
       "      <td>0.00027</td>\n",
       "    </tr>\n",
       "  </tbody>\n",
       "</table>\n",
       "</div>"
      ],
      "text/plain": [
       "         pe       nse   nse_log       rmse  idx  alpsnowscale  forsnowscale  \\\n",
       "0  0.010032 -2.148095 -1.852951  35.939283   44       0.17849       0.63077   \n",
       "1  0.061139 -2.265609 -2.628469  36.603921  136       0.02227       0.52780   \n",
       "2  0.041107 -2.329913 -1.802184  36.962552   93       0.12670       0.71205   \n",
       "3  0.056750 -2.424721 -2.689167  37.485052  152       0.29923       0.64647   \n",
       "4  0.074903 -2.608648 -3.086814  38.478465  276       0.25874       0.52971   \n",
       "\n",
       "       gw1      gw2   plapse  \n",
       "0  0.36281  0.04594  0.00023  \n",
       "1  0.30617  0.03047  0.00039  \n",
       "2  0.27545  0.05138  0.00003  \n",
       "3  0.31978  0.03338  0.00001  \n",
       "4  0.35260  0.08349  0.00027  "
      ]
     },
     "execution_count": 141,
     "metadata": {},
     "output_type": "execute_result"
    }
   ],
   "source": [
    "out.head(5)"
   ]
  },
  {
   "cell_type": "code",
   "execution_count": 142,
   "metadata": {
    "collapsed": false
   },
   "outputs": [
    {
     "data": {
      "text/plain": [
       "292"
      ]
     },
     "execution_count": 142,
     "metadata": {},
     "output_type": "execute_result"
    }
   ],
   "source": [
    "len(data)"
   ]
  },
  {
   "cell_type": "code",
   "execution_count": 143,
   "metadata": {
    "collapsed": false
   },
   "outputs": [
    {
     "data": {
      "text/html": [
       "<div>\n",
       "<table border=\"1\" class=\"dataframe\">\n",
       "  <thead>\n",
       "    <tr style=\"text-align: right;\">\n",
       "      <th></th>\n",
       "      <th>alpsnowscale</th>\n",
       "      <th>forsnowscale</th>\n",
       "      <th>gw1</th>\n",
       "      <th>gw2</th>\n",
       "      <th>plapse</th>\n",
       "    </tr>\n",
       "  </thead>\n",
       "  <tbody>\n",
       "    <tr>\n",
       "      <th>min</th>\n",
       "      <td>0.02227</td>\n",
       "      <td>0.51523</td>\n",
       "      <td>0.21892</td>\n",
       "      <td>0.00057</td>\n",
       "      <td>0.00001</td>\n",
       "    </tr>\n",
       "    <tr>\n",
       "      <th>max</th>\n",
       "      <td>0.29923</td>\n",
       "      <td>0.97196</td>\n",
       "      <td>0.38581</td>\n",
       "      <td>0.14325</td>\n",
       "      <td>0.00041</td>\n",
       "    </tr>\n",
       "  </tbody>\n",
       "</table>\n",
       "</div>"
      ],
      "text/plain": [
       "     alpsnowscale  forsnowscale      gw1      gw2   plapse\n",
       "min       0.02227       0.51523  0.21892  0.00057  0.00001\n",
       "max       0.29923       0.97196  0.38581  0.14325  0.00041"
      ]
     },
     "execution_count": 143,
     "metadata": {},
     "output_type": "execute_result"
    }
   ],
   "source": [
    "(out.describe()).loc[['min','max'],names]"
   ]
  },
  {
   "cell_type": "code",
   "execution_count": 144,
   "metadata": {
    "collapsed": false
   },
   "outputs": [
    {
     "data": {
      "text/html": [
       "<div>\n",
       "<table border=\"1\" class=\"dataframe\">\n",
       "  <thead>\n",
       "    <tr style=\"text-align: right;\">\n",
       "      <th></th>\n",
       "      <th>pe</th>\n",
       "      <th>nse</th>\n",
       "      <th>nse_log</th>\n",
       "      <th>rmse</th>\n",
       "      <th>idx</th>\n",
       "      <th>alpsnowscale</th>\n",
       "      <th>forsnowscale</th>\n",
       "      <th>gw1</th>\n",
       "      <th>gw2</th>\n",
       "      <th>plapse</th>\n",
       "    </tr>\n",
       "  </thead>\n",
       "  <tbody>\n",
       "    <tr>\n",
       "      <th>0</th>\n",
       "      <td>0.010032</td>\n",
       "      <td>-2.148095</td>\n",
       "      <td>-1.852951</td>\n",
       "      <td>35.939283</td>\n",
       "      <td>44</td>\n",
       "      <td>0.17849</td>\n",
       "      <td>0.63077</td>\n",
       "      <td>0.36281</td>\n",
       "      <td>0.04594</td>\n",
       "      <td>0.00023</td>\n",
       "    </tr>\n",
       "    <tr>\n",
       "      <th>1</th>\n",
       "      <td>0.061139</td>\n",
       "      <td>-2.265609</td>\n",
       "      <td>-2.628469</td>\n",
       "      <td>36.603921</td>\n",
       "      <td>136</td>\n",
       "      <td>0.02227</td>\n",
       "      <td>0.52780</td>\n",
       "      <td>0.30617</td>\n",
       "      <td>0.03047</td>\n",
       "      <td>0.00039</td>\n",
       "    </tr>\n",
       "    <tr>\n",
       "      <th>2</th>\n",
       "      <td>0.041107</td>\n",
       "      <td>-2.329913</td>\n",
       "      <td>-1.802184</td>\n",
       "      <td>36.962552</td>\n",
       "      <td>93</td>\n",
       "      <td>0.12670</td>\n",
       "      <td>0.71205</td>\n",
       "      <td>0.27545</td>\n",
       "      <td>0.05138</td>\n",
       "      <td>0.00003</td>\n",
       "    </tr>\n",
       "    <tr>\n",
       "      <th>3</th>\n",
       "      <td>0.056750</td>\n",
       "      <td>-2.424721</td>\n",
       "      <td>-2.689167</td>\n",
       "      <td>37.485052</td>\n",
       "      <td>152</td>\n",
       "      <td>0.29923</td>\n",
       "      <td>0.64647</td>\n",
       "      <td>0.31978</td>\n",
       "      <td>0.03338</td>\n",
       "      <td>0.00001</td>\n",
       "    </tr>\n",
       "    <tr>\n",
       "      <th>4</th>\n",
       "      <td>0.074903</td>\n",
       "      <td>-2.608648</td>\n",
       "      <td>-3.086814</td>\n",
       "      <td>38.478465</td>\n",
       "      <td>276</td>\n",
       "      <td>0.25874</td>\n",
       "      <td>0.52971</td>\n",
       "      <td>0.35260</td>\n",
       "      <td>0.08349</td>\n",
       "      <td>0.00027</td>\n",
       "    </tr>\n",
       "    <tr>\n",
       "      <th>5</th>\n",
       "      <td>0.029161</td>\n",
       "      <td>-2.818449</td>\n",
       "      <td>-2.279764</td>\n",
       "      <td>39.581203</td>\n",
       "      <td>245</td>\n",
       "      <td>0.09398</td>\n",
       "      <td>0.68358</td>\n",
       "      <td>0.29597</td>\n",
       "      <td>0.07403</td>\n",
       "      <td>0.00013</td>\n",
       "    </tr>\n",
       "    <tr>\n",
       "      <th>6</th>\n",
       "      <td>0.157345</td>\n",
       "      <td>-3.016930</td>\n",
       "      <td>-2.160423</td>\n",
       "      <td>40.596878</td>\n",
       "      <td>14</td>\n",
       "      <td>0.05733</td>\n",
       "      <td>0.97196</td>\n",
       "      <td>0.22626</td>\n",
       "      <td>0.00057</td>\n",
       "      <td>0.00020</td>\n",
       "    </tr>\n",
       "    <tr>\n",
       "      <th>7</th>\n",
       "      <td>0.079285</td>\n",
       "      <td>-3.466163</td>\n",
       "      <td>-4.293796</td>\n",
       "      <td>42.806802</td>\n",
       "      <td>227</td>\n",
       "      <td>0.05952</td>\n",
       "      <td>0.51523</td>\n",
       "      <td>0.21892</td>\n",
       "      <td>0.06307</td>\n",
       "      <td>0.00041</td>\n",
       "    </tr>\n",
       "    <tr>\n",
       "      <th>8</th>\n",
       "      <td>0.089327</td>\n",
       "      <td>-3.483566</td>\n",
       "      <td>-4.339094</td>\n",
       "      <td>42.890123</td>\n",
       "      <td>113</td>\n",
       "      <td>0.23483</td>\n",
       "      <td>0.53456</td>\n",
       "      <td>0.38581</td>\n",
       "      <td>0.14325</td>\n",
       "      <td>0.00023</td>\n",
       "    </tr>\n",
       "    <tr>\n",
       "      <th>9</th>\n",
       "      <td>0.037502</td>\n",
       "      <td>-3.718642</td>\n",
       "      <td>-3.094168</td>\n",
       "      <td>44.000133</td>\n",
       "      <td>259</td>\n",
       "      <td>0.03751</td>\n",
       "      <td>0.62463</td>\n",
       "      <td>0.29075</td>\n",
       "      <td>0.08314</td>\n",
       "      <td>0.00037</td>\n",
       "    </tr>\n",
       "  </tbody>\n",
       "</table>\n",
       "</div>"
      ],
      "text/plain": [
       "         pe       nse   nse_log       rmse  idx  alpsnowscale  forsnowscale  \\\n",
       "0  0.010032 -2.148095 -1.852951  35.939283   44       0.17849       0.63077   \n",
       "1  0.061139 -2.265609 -2.628469  36.603921  136       0.02227       0.52780   \n",
       "2  0.041107 -2.329913 -1.802184  36.962552   93       0.12670       0.71205   \n",
       "3  0.056750 -2.424721 -2.689167  37.485052  152       0.29923       0.64647   \n",
       "4  0.074903 -2.608648 -3.086814  38.478465  276       0.25874       0.52971   \n",
       "5  0.029161 -2.818449 -2.279764  39.581203  245       0.09398       0.68358   \n",
       "6  0.157345 -3.016930 -2.160423  40.596878   14       0.05733       0.97196   \n",
       "7  0.079285 -3.466163 -4.293796  42.806802  227       0.05952       0.51523   \n",
       "8  0.089327 -3.483566 -4.339094  42.890123  113       0.23483       0.53456   \n",
       "9  0.037502 -3.718642 -3.094168  44.000133  259       0.03751       0.62463   \n",
       "\n",
       "       gw1      gw2   plapse  \n",
       "0  0.36281  0.04594  0.00023  \n",
       "1  0.30617  0.03047  0.00039  \n",
       "2  0.27545  0.05138  0.00003  \n",
       "3  0.31978  0.03338  0.00001  \n",
       "4  0.35260  0.08349  0.00027  \n",
       "5  0.29597  0.07403  0.00013  \n",
       "6  0.22626  0.00057  0.00020  \n",
       "7  0.21892  0.06307  0.00041  \n",
       "8  0.38581  0.14325  0.00023  \n",
       "9  0.29075  0.08314  0.00037  "
      ]
     },
     "execution_count": 144,
     "metadata": {},
     "output_type": "execute_result"
    }
   ],
   "source": [
    "out"
   ]
  },
  {
   "cell_type": "code",
   "execution_count": 146,
   "metadata": {
    "collapsed": false
   },
   "outputs": [],
   "source": [
    "# plot the ten best parameters\n",
    "sims = pd.DataFrame()\n",
    "for idx in out.idx:\n",
    "    fl = files.loc[files.index == idx].filename.as_matrix()[0]\n",
    "    dat = np.load(fl)\n",
    "    \n",
    "    tmp = pd.DataFrame()\n",
    "    for key in dat.keys():\n",
    "        tmp[key] = dat[key]\n",
    "        \n",
    "    tmp.index = pd.DatetimeIndex(tmp.datetime)\n",
    "    tmp['wateryear'] = tmp.index.map(rut.wateryear)\n",
    "    tmp = tmp.groupby(by='wateryear').sum()\n",
    "    \n",
    "    sims[idx] = tmp.streamflow"
   ]
  },
  {
   "cell_type": "code",
   "execution_count": 148,
   "metadata": {
    "collapsed": false
   },
   "outputs": [
    {
     "ename": "AttributeError",
     "evalue": "'int' object has no attribute 'year'",
     "output_type": "error",
     "traceback": [
      "\u001b[0;31m---------------------------------------------------------------------------\u001b[0m",
      "\u001b[0;31mAttributeError\u001b[0m                            Traceback (most recent call last)",
      "\u001b[0;32m<ipython-input-148-70e6526c5b72>\u001b[0m in \u001b[0;36m<module>\u001b[0;34m()\u001b[0m\n\u001b[0;32m----> 1\u001b[0;31m \u001b[0mobs\u001b[0m\u001b[0;34m[\u001b[0m\u001b[0;34m'wateryear'\u001b[0m\u001b[0;34m]\u001b[0m \u001b[0;34m=\u001b[0m \u001b[0mobs\u001b[0m\u001b[0;34m.\u001b[0m\u001b[0mindex\u001b[0m\u001b[0;34m.\u001b[0m\u001b[0mmap\u001b[0m\u001b[0;34m(\u001b[0m\u001b[0mrut\u001b[0m\u001b[0;34m.\u001b[0m\u001b[0mwateryear\u001b[0m\u001b[0;34m)\u001b[0m\u001b[0;34m\u001b[0m\u001b[0m\n\u001b[0m\u001b[1;32m      2\u001b[0m \u001b[0mobs\u001b[0m \u001b[0;34m=\u001b[0m \u001b[0mobs\u001b[0m\u001b[0;34m.\u001b[0m\u001b[0mgroupby\u001b[0m\u001b[0;34m(\u001b[0m\u001b[0mby\u001b[0m\u001b[0;34m=\u001b[0m\u001b[0;34m'wateryear'\u001b[0m\u001b[0;34m)\u001b[0m\u001b[0;34m.\u001b[0m\u001b[0msum\u001b[0m\u001b[0;34m(\u001b[0m\u001b[0;34m)\u001b[0m\u001b[0;34m\u001b[0m\u001b[0m\n",
      "\u001b[0;32m/Users/barnhatb/anaconda/lib/python2.7/site-packages/pandas/indexes/base.pyc\u001b[0m in \u001b[0;36mmap\u001b[0;34m(self, mapper)\u001b[0m\n\u001b[1;32m   2439\u001b[0m         \u001b[0mapplied\u001b[0m \u001b[0;34m:\u001b[0m \u001b[0marray\u001b[0m\u001b[0;34m\u001b[0m\u001b[0m\n\u001b[1;32m   2440\u001b[0m         \"\"\"\n\u001b[0;32m-> 2441\u001b[0;31m         \u001b[0;32mreturn\u001b[0m \u001b[0mself\u001b[0m\u001b[0;34m.\u001b[0m\u001b[0m_arrmap\u001b[0m\u001b[0;34m(\u001b[0m\u001b[0mself\u001b[0m\u001b[0;34m.\u001b[0m\u001b[0mvalues\u001b[0m\u001b[0;34m,\u001b[0m \u001b[0mmapper\u001b[0m\u001b[0;34m)\u001b[0m\u001b[0;34m\u001b[0m\u001b[0m\n\u001b[0m\u001b[1;32m   2442\u001b[0m \u001b[0;34m\u001b[0m\u001b[0m\n\u001b[1;32m   2443\u001b[0m     \u001b[0;32mdef\u001b[0m \u001b[0misin\u001b[0m\u001b[0;34m(\u001b[0m\u001b[0mself\u001b[0m\u001b[0;34m,\u001b[0m \u001b[0mvalues\u001b[0m\u001b[0;34m,\u001b[0m \u001b[0mlevel\u001b[0m\u001b[0;34m=\u001b[0m\u001b[0mNone\u001b[0m\u001b[0;34m)\u001b[0m\u001b[0;34m:\u001b[0m\u001b[0;34m\u001b[0m\u001b[0m\n",
      "\u001b[0;32mpandas/src/algos_common_helper.pxi\u001b[0m in \u001b[0;36mpandas.algos.arrmap_int64 (pandas/algos.c:56092)\u001b[0;34m()\u001b[0m\n",
      "\u001b[0;32m/Users/barnhatb/Dropbox/python/bin/rhessys/utilities.pyc\u001b[0m in \u001b[0;36mwateryear\u001b[0;34m(index)\u001b[0m\n\u001b[1;32m     16\u001b[0m \u001b[0;34m\u001b[0m\u001b[0m\n\u001b[1;32m     17\u001b[0m \u001b[0;32mdef\u001b[0m \u001b[0mwateryear\u001b[0m\u001b[0;34m(\u001b[0m\u001b[0mindex\u001b[0m\u001b[0;34m)\u001b[0m\u001b[0;34m:\u001b[0m\u001b[0;34m\u001b[0m\u001b[0m\n\u001b[0;32m---> 18\u001b[0;31m     \u001b[0myear\u001b[0m \u001b[0;34m=\u001b[0m \u001b[0mindex\u001b[0m\u001b[0;34m.\u001b[0m\u001b[0myear\u001b[0m\u001b[0;34m\u001b[0m\u001b[0m\n\u001b[0m\u001b[1;32m     19\u001b[0m     \u001b[0mstrt\u001b[0m \u001b[0;34m=\u001b[0m \u001b[0mpd\u001b[0m\u001b[0;34m.\u001b[0m\u001b[0mdatetime\u001b[0m\u001b[0;34m(\u001b[0m\u001b[0mint\u001b[0m\u001b[0;34m(\u001b[0m\u001b[0myear\u001b[0m\u001b[0;34m)\u001b[0m\u001b[0;34m,\u001b[0m\u001b[0;36m10\u001b[0m\u001b[0;34m,\u001b[0m\u001b[0;36m1\u001b[0m\u001b[0;34m)\u001b[0m \u001b[0;31m# start of the next water year+1\u001b[0m\u001b[0;34m\u001b[0m\u001b[0m\n\u001b[1;32m     20\u001b[0m \u001b[0;34m\u001b[0m\u001b[0m\n",
      "\u001b[0;31mAttributeError\u001b[0m: 'int' object has no attribute 'year'"
     ]
    }
   ],
   "source": [
    "obs['wateryear'] = obs.index.map(rut.wateryear)\n",
    "obs = obs.groupby(by='wateryear').sum()"
   ]
  },
  {
   "cell_type": "code",
   "execution_count": 149,
   "metadata": {
    "collapsed": false
   },
   "outputs": [
    {
     "data": {
      "text/html": [
       "<div>\n",
       "<table border=\"1\" class=\"dataframe\">\n",
       "  <thead>\n",
       "    <tr style=\"text-align: right;\">\n",
       "      <th></th>\n",
       "      <th>44</th>\n",
       "      <th>136</th>\n",
       "      <th>93</th>\n",
       "      <th>152</th>\n",
       "      <th>276</th>\n",
       "      <th>245</th>\n",
       "      <th>14</th>\n",
       "      <th>227</th>\n",
       "      <th>113</th>\n",
       "      <th>259</th>\n",
       "    </tr>\n",
       "    <tr>\n",
       "      <th>wateryear</th>\n",
       "      <th></th>\n",
       "      <th></th>\n",
       "      <th></th>\n",
       "      <th></th>\n",
       "      <th></th>\n",
       "      <th></th>\n",
       "      <th></th>\n",
       "      <th></th>\n",
       "      <th></th>\n",
       "      <th></th>\n",
       "    </tr>\n",
       "  </thead>\n",
       "  <tbody>\n",
       "    <tr>\n",
       "      <th>2005</th>\n",
       "      <td>189.952687</td>\n",
       "      <td>173.747120</td>\n",
       "      <td>193.579295</td>\n",
       "      <td>173.352964</td>\n",
       "      <td>174.387775</td>\n",
       "      <td>189.452216</td>\n",
       "      <td>220.260891</td>\n",
       "      <td>164.002082</td>\n",
       "      <td>167.830239</td>\n",
       "      <td>186.454107</td>\n",
       "    </tr>\n",
       "    <tr>\n",
       "      <th>2006</th>\n",
       "      <td>182.203070</td>\n",
       "      <td>180.663929</td>\n",
       "      <td>187.405014</td>\n",
       "      <td>172.925121</td>\n",
       "      <td>173.944168</td>\n",
       "      <td>184.257262</td>\n",
       "      <td>213.199216</td>\n",
       "      <td>177.385967</td>\n",
       "      <td>172.039637</td>\n",
       "      <td>188.728381</td>\n",
       "    </tr>\n",
       "    <tr>\n",
       "      <th>2007</th>\n",
       "      <td>253.368089</td>\n",
       "      <td>225.760718</td>\n",
       "      <td>259.556720</td>\n",
       "      <td>236.131704</td>\n",
       "      <td>230.045502</td>\n",
       "      <td>262.269093</td>\n",
       "      <td>263.887313</td>\n",
       "      <td>229.408984</td>\n",
       "      <td>232.451990</td>\n",
       "      <td>267.636733</td>\n",
       "    </tr>\n",
       "  </tbody>\n",
       "</table>\n",
       "</div>"
      ],
      "text/plain": [
       "                  44          136         93          152         276  \\\n",
       "wateryear                                                               \n",
       "2005       189.952687  173.747120  193.579295  173.352964  174.387775   \n",
       "2006       182.203070  180.663929  187.405014  172.925121  173.944168   \n",
       "2007       253.368089  225.760718  259.556720  236.131704  230.045502   \n",
       "\n",
       "                  245         14          227         113         259  \n",
       "wateryear                                                              \n",
       "2005       189.452216  220.260891  164.002082  167.830239  186.454107  \n",
       "2006       184.257262  213.199216  177.385967  172.039637  188.728381  \n",
       "2007       262.269093  263.887313  229.408984  232.451990  267.636733  "
      ]
     },
     "execution_count": 149,
     "metadata": {},
     "output_type": "execute_result"
    }
   ],
   "source": [
    "sims"
   ]
  },
  {
   "cell_type": "code",
   "execution_count": 152,
   "metadata": {
    "collapsed": false,
    "scrolled": true
   },
   "outputs": [
    {
     "data": {
      "text/plain": [
       "(2003.5, 2011.5)"
      ]
     },
     "execution_count": 152,
     "metadata": {},
     "output_type": "execute_result"
    },
    {
     "data": {
      "image/png": "[encoded data removed]",
      "text/plain": [
       "<matplotlib.figure.Figure at 0x11218f150>"
      ]
     },
     "metadata": {},
     "output_type": "display_data"
    }
   ],
   "source": [
    "sims.plot(kind='line',figsize=(15,5),legend=False,marker='o',ls='')\n",
    "obs.discharge.plot(c='k',marker='s',ls='')\n",
    "ax = plt.gca()\n",
    "ax.get_xaxis().get_major_formatter().set_useOffset(False)\n",
    "ax.set_xlim(2003.5,2011.5)"
   ]
  },
  {
   "cell_type": "code",
   "execution_count": 90,
   "metadata": {
    "collapsed": false
   },
   "outputs": [
    {
     "data": {
      "text/plain": [
       "[<matplotlib.lines.Line2D at 0x112b71690>]"
      ]
     },
     "execution_count": 90,
     "metadata": {},
     "output_type": "execute_result"
    },
    {
     "data": {
      "image/png": "[encoded data removed]",
      "text/plain": [
       "<matplotlib.figure.Figure at 0x112803210>"
      ]
     },
     "metadata": {},
     "output_type": "display_data"
    }
   ],
   "source": [
    "plt.plot(dat['lai'])"
   ]
  },
  {
   "cell_type": "code",
   "execution_count": 91,
   "metadata": {
    "collapsed": false
   },
   "outputs": [
    {
     "data": {
      "text/plain": [
       "[<matplotlib.lines.Line2D at 0x113093850>]"
      ]
     },
     "execution_count": 91,
     "metadata": {},
     "output_type": "execute_result"
    },
    {
     "data": {
      "image/png": "[encoded data removed]",
      "text/plain": [
       "<matplotlib.figure.Figure at 0x112803f50>"
      ]
     },
     "metadata": {},
     "output_type": "display_data"
    }
   ],
   "source": [
    "plt.plot(dat['evap']+dat['trans'])"
   ]
  },
  {
   "cell_type": "code",
   "execution_count": 92,
   "metadata": {
    "collapsed": false
   },
   "outputs": [
    {
     "data": {
      "text/plain": [
       "[<matplotlib.lines.Line2D at 0x1132e1890>]"
      ]
     },
     "execution_count": 92,
     "metadata": {},
     "output_type": "execute_result"
    },
    {
     "data": {
      "image/png": "[encoded data removed]",
      "text/plain": [
       "<matplotlib.figure.Figure at 0x1130adf90>"
      ]
     },
     "metadata": {},
     "output_type": "display_data"
    }
   ],
   "source": [
    "plt.plot(dat['snowpack'])\n",
    "plt.plot(dat['streamflow'])\n",
    "plt.plot(dat['precip'])"
   ]
  },
  {
   "cell_type": "code",
   "execution_count": 51,
   "metadata": {
    "collapsed": false
   },
   "outputs": [
    {
     "data": {
      "text/html": [
       "<div>\n",
       "<table border=\"1\" class=\"dataframe\">\n",
       "  <thead>\n",
       "    <tr style=\"text-align: right;\">\n",
       "      <th>idx</th>\n",
       "      <th>0</th>\n",
       "      <th>1</th>\n",
       "      <th>2</th>\n",
       "      <th>3</th>\n",
       "      <th>4</th>\n",
       "      <th>5</th>\n",
       "      <th>6</th>\n",
       "      <th>7</th>\n",
       "      <th>8</th>\n",
       "      <th>9</th>\n",
       "      <th>...</th>\n",
       "      <th>1490</th>\n",
       "      <th>1491</th>\n",
       "      <th>1492</th>\n",
       "      <th>1493</th>\n",
       "      <th>1494</th>\n",
       "      <th>1495</th>\n",
       "      <th>1496</th>\n",
       "      <th>1497</th>\n",
       "      <th>1498</th>\n",
       "      <th>1499</th>\n",
       "    </tr>\n",
       "  </thead>\n",
       "  <tbody>\n",
       "    <tr>\n",
       "      <th>crd</th>\n",
       "      <td>7.740</td>\n",
       "      <td>6.149</td>\n",
       "      <td>8.188</td>\n",
       "      <td>4.167</td>\n",
       "      <td>5.304</td>\n",
       "      <td>9.478</td>\n",
       "      <td>8.701</td>\n",
       "      <td>3.559</td>\n",
       "      <td>7.726</td>\n",
       "      <td>4.462</td>\n",
       "      <td>...</td>\n",
       "      <td>4.087</td>\n",
       "      <td>2.970</td>\n",
       "      <td>6.032</td>\n",
       "      <td>8.022</td>\n",
       "      <td>4.459</td>\n",
       "      <td>2.574</td>\n",
       "      <td>2.977</td>\n",
       "      <td>8.763</td>\n",
       "      <td>2.678</td>\n",
       "      <td>4.804</td>\n",
       "    </tr>\n",
       "    <tr>\n",
       "      <th>gw1</th>\n",
       "      <td>0.935</td>\n",
       "      <td>0.516</td>\n",
       "      <td>0.721</td>\n",
       "      <td>0.033</td>\n",
       "      <td>0.934</td>\n",
       "      <td>0.931</td>\n",
       "      <td>0.735</td>\n",
       "      <td>0.921</td>\n",
       "      <td>0.133</td>\n",
       "      <td>0.889</td>\n",
       "      <td>...</td>\n",
       "      <td>0.277</td>\n",
       "      <td>0.834</td>\n",
       "      <td>0.146</td>\n",
       "      <td>0.610</td>\n",
       "      <td>0.490</td>\n",
       "      <td>0.727</td>\n",
       "      <td>0.002</td>\n",
       "      <td>0.416</td>\n",
       "      <td>0.684</td>\n",
       "      <td>0.377</td>\n",
       "    </tr>\n",
       "    <tr>\n",
       "      <th>gw2</th>\n",
       "      <td>0.148</td>\n",
       "      <td>0.618</td>\n",
       "      <td>0.452</td>\n",
       "      <td>0.819</td>\n",
       "      <td>0.730</td>\n",
       "      <td>0.889</td>\n",
       "      <td>0.033</td>\n",
       "      <td>0.281</td>\n",
       "      <td>0.140</td>\n",
       "      <td>0.041</td>\n",
       "      <td>...</td>\n",
       "      <td>0.123</td>\n",
       "      <td>0.420</td>\n",
       "      <td>0.182</td>\n",
       "      <td>0.379</td>\n",
       "      <td>0.338</td>\n",
       "      <td>0.628</td>\n",
       "      <td>0.184</td>\n",
       "      <td>0.168</td>\n",
       "      <td>0.948</td>\n",
       "      <td>0.690</td>\n",
       "    </tr>\n",
       "    <tr>\n",
       "      <th>ksat</th>\n",
       "      <td>1.617</td>\n",
       "      <td>2.645</td>\n",
       "      <td>8.037</td>\n",
       "      <td>9.139</td>\n",
       "      <td>1.134</td>\n",
       "      <td>4.535</td>\n",
       "      <td>3.309</td>\n",
       "      <td>7.747</td>\n",
       "      <td>1.520</td>\n",
       "      <td>4.563</td>\n",
       "      <td>...</td>\n",
       "      <td>9.024</td>\n",
       "      <td>8.917</td>\n",
       "      <td>2.010</td>\n",
       "      <td>2.259</td>\n",
       "      <td>3.232</td>\n",
       "      <td>1.675</td>\n",
       "      <td>3.652</td>\n",
       "      <td>3.652</td>\n",
       "      <td>8.039</td>\n",
       "      <td>6.696</td>\n",
       "    </tr>\n",
       "    <tr>\n",
       "      <th>m</th>\n",
       "      <td>26.286</td>\n",
       "      <td>13.297</td>\n",
       "      <td>0.423</td>\n",
       "      <td>22.006</td>\n",
       "      <td>24.428</td>\n",
       "      <td>23.032</td>\n",
       "      <td>9.429</td>\n",
       "      <td>24.341</td>\n",
       "      <td>20.784</td>\n",
       "      <td>26.964</td>\n",
       "      <td>...</td>\n",
       "      <td>0.498</td>\n",
       "      <td>23.210</td>\n",
       "      <td>20.954</td>\n",
       "      <td>25.870</td>\n",
       "      <td>1.963</td>\n",
       "      <td>19.149</td>\n",
       "      <td>8.186</td>\n",
       "      <td>21.520</td>\n",
       "      <td>23.075</td>\n",
       "      <td>28.175</td>\n",
       "    </tr>\n",
       "    <tr>\n",
       "      <th>pa</th>\n",
       "      <td>0.305</td>\n",
       "      <td>0.884</td>\n",
       "      <td>1.595</td>\n",
       "      <td>1.563</td>\n",
       "      <td>1.092</td>\n",
       "      <td>0.985</td>\n",
       "      <td>1.080</td>\n",
       "      <td>1.092</td>\n",
       "      <td>1.234</td>\n",
       "      <td>0.685</td>\n",
       "      <td>...</td>\n",
       "      <td>0.404</td>\n",
       "      <td>0.992</td>\n",
       "      <td>1.186</td>\n",
       "      <td>1.359</td>\n",
       "      <td>0.438</td>\n",
       "      <td>0.469</td>\n",
       "      <td>0.264</td>\n",
       "      <td>1.543</td>\n",
       "      <td>0.442</td>\n",
       "      <td>0.827</td>\n",
       "    </tr>\n",
       "    <tr>\n",
       "      <th>po</th>\n",
       "      <td>0.473</td>\n",
       "      <td>1.426</td>\n",
       "      <td>1.133</td>\n",
       "      <td>1.325</td>\n",
       "      <td>1.036</td>\n",
       "      <td>1.680</td>\n",
       "      <td>1.498</td>\n",
       "      <td>1.070</td>\n",
       "      <td>1.542</td>\n",
       "      <td>1.101</td>\n",
       "      <td>...</td>\n",
       "      <td>1.035</td>\n",
       "      <td>1.467</td>\n",
       "      <td>0.259</td>\n",
       "      <td>1.440</td>\n",
       "      <td>0.126</td>\n",
       "      <td>0.644</td>\n",
       "      <td>0.915</td>\n",
       "      <td>0.641</td>\n",
       "      <td>0.914</td>\n",
       "      <td>0.127</td>\n",
       "    </tr>\n",
       "    <tr>\n",
       "      <th>trd</th>\n",
       "      <td>1.343</td>\n",
       "      <td>0.118</td>\n",
       "      <td>1.061</td>\n",
       "      <td>1.900</td>\n",
       "      <td>1.748</td>\n",
       "      <td>0.282</td>\n",
       "      <td>0.487</td>\n",
       "      <td>1.426</td>\n",
       "      <td>0.739</td>\n",
       "      <td>0.071</td>\n",
       "      <td>...</td>\n",
       "      <td>1.932</td>\n",
       "      <td>0.994</td>\n",
       "      <td>1.277</td>\n",
       "      <td>0.291</td>\n",
       "      <td>1.110</td>\n",
       "      <td>0.921</td>\n",
       "      <td>0.901</td>\n",
       "      <td>0.534</td>\n",
       "      <td>1.653</td>\n",
       "      <td>1.195</td>\n",
       "    </tr>\n",
       "  </tbody>\n",
       "</table>\n",
       "<p>8 rows × 1500 columns</p>\n",
       "</div>"
      ],
      "text/plain": [
       "idx     0       1      2       3       4       5      6       7       8     \\\n",
       "crd    7.740   6.149  8.188   4.167   5.304   9.478  8.701   3.559   7.726   \n",
       "gw1    0.935   0.516  0.721   0.033   0.934   0.931  0.735   0.921   0.133   \n",
       "gw2    0.148   0.618  0.452   0.819   0.730   0.889  0.033   0.281   0.140   \n",
       "ksat   1.617   2.645  8.037   9.139   1.134   4.535  3.309   7.747   1.520   \n",
       "m     26.286  13.297  0.423  22.006  24.428  23.032  9.429  24.341  20.784   \n",
       "pa     0.305   0.884  1.595   1.563   1.092   0.985  1.080   1.092   1.234   \n",
       "po     0.473   1.426  1.133   1.325   1.036   1.680  1.498   1.070   1.542   \n",
       "trd    1.343   0.118  1.061   1.900   1.748   0.282  0.487   1.426   0.739   \n",
       "\n",
       "idx     9      ...     1490    1491    1492    1493   1494    1495   1496  \\\n",
       "crd    4.462   ...    4.087   2.970   6.032   8.022  4.459   2.574  2.977   \n",
       "gw1    0.889   ...    0.277   0.834   0.146   0.610  0.490   0.727  0.002   \n",
       "gw2    0.041   ...    0.123   0.420   0.182   0.379  0.338   0.628  0.184   \n",
       "ksat   4.563   ...    9.024   8.917   2.010   2.259  3.232   1.675  3.652   \n",
       "m     26.964   ...    0.498  23.210  20.954  25.870  1.963  19.149  8.186   \n",
       "pa     0.685   ...    0.404   0.992   1.186   1.359  0.438   0.469  0.264   \n",
       "po     1.101   ...    1.035   1.467   0.259   1.440  0.126   0.644  0.915   \n",
       "trd    0.071   ...    1.932   0.994   1.277   0.291  1.110   0.921  0.901   \n",
       "\n",
       "idx     1497    1498    1499  \n",
       "crd    8.763   2.678   4.804  \n",
       "gw1    0.416   0.684   0.377  \n",
       "gw2    0.168   0.948   0.690  \n",
       "ksat   3.652   8.039   6.696  \n",
       "m     21.520  23.075  28.175  \n",
       "pa     1.543   0.442   0.827  \n",
       "po     0.641   0.914   0.127  \n",
       "trd    0.534   1.653   1.195  \n",
       "\n",
       "[8 rows x 1500 columns]"
      ]
     },
     "execution_count": 51,
     "metadata": {},
     "output_type": "execute_result"
    }
   ],
   "source": [
    "params.iloc[0:-1,]"
   ]
  },
  {
   "cell_type": "code",
   "execution_count": 48,
   "metadata": {
    "collapsed": false
   },
   "outputs": [],
   "source": [
    "data2 = pd.merge(left=data2,right=files,how='inner',on='idx')"
   ]
  },
  {
   "cell_type": "code",
   "execution_count": 51,
   "metadata": {
    "collapsed": false
   },
   "outputs": [],
   "source": [
    "n, = np.load(data2.filename[0])['streamflow'].shape\n",
    "m = len(data2)"
   ]
  },
  {
   "cell_type": "code",
   "execution_count": 52,
   "metadata": {
    "collapsed": false
   },
   "outputs": [],
   "source": [
    "sims = np.zeros((m,n))"
   ]
  },
  {
   "cell_type": "code",
   "execution_count": 54,
   "metadata": {
    "collapsed": false
   },
   "outputs": [],
   "source": [
    "ct = 0\n",
    "for fl in data2.filename:\n",
    "    sims[ct,:] = np.load(fl)['streamflow']\n",
    "    ct += 1"
   ]
  },
  {
   "cell_type": "code",
   "execution_count": 55,
   "metadata": {
    "collapsed": true
   },
   "outputs": [],
   "source": [
    "np.savetxt('./data/glue_simulations.csv',sims,delimiter=',')"
   ]
  },
  {
   "cell_type": "code",
   "execution_count": 36,
   "metadata": {
    "collapsed": false
   },
   "outputs": [
    {
     "data": {
      "text/plain": [
       "(1490, 2922)"
      ]
     },
     "execution_count": 36,
     "metadata": {},
     "output_type": "execute_result"
    }
   ],
   "source": [
    "sims.shape"
   ]
  },
  {
   "cell_type": "code",
   "execution_count": 25,
   "metadata": {
    "collapsed": false
   },
   "outputs": [
    {
     "data": {
      "text/html": [
       "<div>\n",
       "<table border=\"1\" class=\"dataframe\">\n",
       "  <thead>\n",
       "    <tr style=\"text-align: right;\">\n",
       "      <th></th>\n",
       "      <th>filename</th>\n",
       "      <th>idx</th>\n",
       "    </tr>\n",
       "    <tr>\n",
       "      <th>idx</th>\n",
       "      <th></th>\n",
       "      <th></th>\n",
       "    </tr>\n",
       "  </thead>\n",
       "  <tbody>\n",
       "    <tr>\n",
       "      <th>0</th>\n",
       "      <td>/RHESSys/Como/out/cal05/cal05_0.npz</td>\n",
       "      <td>0</td>\n",
       "    </tr>\n",
       "    <tr>\n",
       "      <th>1</th>\n",
       "      <td>/RHESSys/Como/out/cal05/cal05_1.npz</td>\n",
       "      <td>1</td>\n",
       "    </tr>\n",
       "    <tr>\n",
       "      <th>2</th>\n",
       "      <td>/RHESSys/Como/out/cal05/cal05_2.npz</td>\n",
       "      <td>2</td>\n",
       "    </tr>\n",
       "    <tr>\n",
       "      <th>3</th>\n",
       "      <td>/RHESSys/Como/out/cal05/cal05_3.npz</td>\n",
       "      <td>3</td>\n",
       "    </tr>\n",
       "    <tr>\n",
       "      <th>4</th>\n",
       "      <td>/RHESSys/Como/out/cal05/cal05_4.npz</td>\n",
       "      <td>4</td>\n",
       "    </tr>\n",
       "    <tr>\n",
       "      <th>5</th>\n",
       "      <td>/RHESSys/Como/out/cal05/cal05_5.npz</td>\n",
       "      <td>5</td>\n",
       "    </tr>\n",
       "    <tr>\n",
       "      <th>6</th>\n",
       "      <td>/RHESSys/Como/out/cal05/cal05_6.npz</td>\n",
       "      <td>6</td>\n",
       "    </tr>\n",
       "    <tr>\n",
       "      <th>7</th>\n",
       "      <td>/RHESSys/Como/out/cal05/cal05_7.npz</td>\n",
       "      <td>7</td>\n",
       "    </tr>\n",
       "    <tr>\n",
       "      <th>8</th>\n",
       "      <td>/RHESSys/Como/out/cal05/cal05_8.npz</td>\n",
       "      <td>8</td>\n",
       "    </tr>\n",
       "    <tr>\n",
       "      <th>9</th>\n",
       "      <td>/RHESSys/Como/out/cal05/cal05_9.npz</td>\n",
       "      <td>9</td>\n",
       "    </tr>\n",
       "    <tr>\n",
       "      <th>10</th>\n",
       "      <td>/RHESSys/Como/out/cal05/cal05_10.npz</td>\n",
       "      <td>10</td>\n",
       "    </tr>\n",
       "    <tr>\n",
       "      <th>11</th>\n",
       "      <td>/RHESSys/Como/out/cal05/cal05_11.npz</td>\n",
       "      <td>11</td>\n",
       "    </tr>\n",
       "    <tr>\n",
       "      <th>12</th>\n",
       "      <td>/RHESSys/Como/out/cal05/cal05_12.npz</td>\n",
       "      <td>12</td>\n",
       "    </tr>\n",
       "    <tr>\n",
       "      <th>13</th>\n",
       "      <td>/RHESSys/Como/out/cal05/cal05_13.npz</td>\n",
       "      <td>13</td>\n",
       "    </tr>\n",
       "    <tr>\n",
       "      <th>14</th>\n",
       "      <td>/RHESSys/Como/out/cal05/cal05_14.npz</td>\n",
       "      <td>14</td>\n",
       "    </tr>\n",
       "    <tr>\n",
       "      <th>15</th>\n",
       "      <td>/RHESSys/Como/out/cal05/cal05_15.npz</td>\n",
       "      <td>15</td>\n",
       "    </tr>\n",
       "    <tr>\n",
       "      <th>16</th>\n",
       "      <td>/RHESSys/Como/out/cal05/cal05_16.npz</td>\n",
       "      <td>16</td>\n",
       "    </tr>\n",
       "    <tr>\n",
       "      <th>17</th>\n",
       "      <td>/RHESSys/Como/out/cal05/cal05_17.npz</td>\n",
       "      <td>17</td>\n",
       "    </tr>\n",
       "    <tr>\n",
       "      <th>18</th>\n",
       "      <td>/RHESSys/Como/out/cal05/cal05_18.npz</td>\n",
       "      <td>18</td>\n",
       "    </tr>\n",
       "    <tr>\n",
       "      <th>19</th>\n",
       "      <td>/RHESSys/Como/out/cal05/cal05_19.npz</td>\n",
       "      <td>19</td>\n",
       "    </tr>\n",
       "    <tr>\n",
       "      <th>20</th>\n",
       "      <td>/RHESSys/Como/out/cal05/cal05_20.npz</td>\n",
       "      <td>20</td>\n",
       "    </tr>\n",
       "    <tr>\n",
       "      <th>21</th>\n",
       "      <td>/RHESSys/Como/out/cal05/cal05_21.npz</td>\n",
       "      <td>21</td>\n",
       "    </tr>\n",
       "    <tr>\n",
       "      <th>22</th>\n",
       "      <td>/RHESSys/Como/out/cal05/cal05_22.npz</td>\n",
       "      <td>22</td>\n",
       "    </tr>\n",
       "    <tr>\n",
       "      <th>23</th>\n",
       "      <td>/RHESSys/Como/out/cal05/cal05_23.npz</td>\n",
       "      <td>23</td>\n",
       "    </tr>\n",
       "    <tr>\n",
       "      <th>24</th>\n",
       "      <td>/RHESSys/Como/out/cal05/cal05_24.npz</td>\n",
       "      <td>24</td>\n",
       "    </tr>\n",
       "    <tr>\n",
       "      <th>25</th>\n",
       "      <td>/RHESSys/Como/out/cal05/cal05_25.npz</td>\n",
       "      <td>25</td>\n",
       "    </tr>\n",
       "    <tr>\n",
       "      <th>26</th>\n",
       "      <td>/RHESSys/Como/out/cal05/cal05_26.npz</td>\n",
       "      <td>26</td>\n",
       "    </tr>\n",
       "    <tr>\n",
       "      <th>27</th>\n",
       "      <td>/RHESSys/Como/out/cal05/cal05_27.npz</td>\n",
       "      <td>27</td>\n",
       "    </tr>\n",
       "    <tr>\n",
       "      <th>28</th>\n",
       "      <td>/RHESSys/Como/out/cal05/cal05_28.npz</td>\n",
       "      <td>28</td>\n",
       "    </tr>\n",
       "    <tr>\n",
       "      <th>29</th>\n",
       "      <td>/RHESSys/Como/out/cal05/cal05_29.npz</td>\n",
       "      <td>29</td>\n",
       "    </tr>\n",
       "    <tr>\n",
       "      <th>...</th>\n",
       "      <td>...</td>\n",
       "      <td>...</td>\n",
       "    </tr>\n",
       "    <tr>\n",
       "      <th>1470</th>\n",
       "      <td>/RHESSys/Como/out/cal05/cal05_1470.npz</td>\n",
       "      <td>1470</td>\n",
       "    </tr>\n",
       "    <tr>\n",
       "      <th>1471</th>\n",
       "      <td>/RHESSys/Como/out/cal05/cal05_1471.npz</td>\n",
       "      <td>1471</td>\n",
       "    </tr>\n",
       "    <tr>\n",
       "      <th>1472</th>\n",
       "      <td>/RHESSys/Como/out/cal05/cal05_1472.npz</td>\n",
       "      <td>1472</td>\n",
       "    </tr>\n",
       "    <tr>\n",
       "      <th>1473</th>\n",
       "      <td>/RHESSys/Como/out/cal05/cal05_1473.npz</td>\n",
       "      <td>1473</td>\n",
       "    </tr>\n",
       "    <tr>\n",
       "      <th>1474</th>\n",
       "      <td>/RHESSys/Como/out/cal05/cal05_1474.npz</td>\n",
       "      <td>1474</td>\n",
       "    </tr>\n",
       "    <tr>\n",
       "      <th>1475</th>\n",
       "      <td>/RHESSys/Como/out/cal05/cal05_1475.npz</td>\n",
       "      <td>1475</td>\n",
       "    </tr>\n",
       "    <tr>\n",
       "      <th>1476</th>\n",
       "      <td>/RHESSys/Como/out/cal05/cal05_1476.npz</td>\n",
       "      <td>1476</td>\n",
       "    </tr>\n",
       "    <tr>\n",
       "      <th>1477</th>\n",
       "      <td>/RHESSys/Como/out/cal05/cal05_1477.npz</td>\n",
       "      <td>1477</td>\n",
       "    </tr>\n",
       "    <tr>\n",
       "      <th>1478</th>\n",
       "      <td>/RHESSys/Como/out/cal05/cal05_1478.npz</td>\n",
       "      <td>1478</td>\n",
       "    </tr>\n",
       "    <tr>\n",
       "      <th>1479</th>\n",
       "      <td>/RHESSys/Como/out/cal05/cal05_1479.npz</td>\n",
       "      <td>1479</td>\n",
       "    </tr>\n",
       "    <tr>\n",
       "      <th>1480</th>\n",
       "      <td>/RHESSys/Como/out/cal05/cal05_1480.npz</td>\n",
       "      <td>1480</td>\n",
       "    </tr>\n",
       "    <tr>\n",
       "      <th>1481</th>\n",
       "      <td>/RHESSys/Como/out/cal05/cal05_1481.npz</td>\n",
       "      <td>1481</td>\n",
       "    </tr>\n",
       "    <tr>\n",
       "      <th>1482</th>\n",
       "      <td>/RHESSys/Como/out/cal05/cal05_1482.npz</td>\n",
       "      <td>1482</td>\n",
       "    </tr>\n",
       "    <tr>\n",
       "      <th>1483</th>\n",
       "      <td>/RHESSys/Como/out/cal05/cal05_1483.npz</td>\n",
       "      <td>1483</td>\n",
       "    </tr>\n",
       "    <tr>\n",
       "      <th>1484</th>\n",
       "      <td>/RHESSys/Como/out/cal05/cal05_1484.npz</td>\n",
       "      <td>1484</td>\n",
       "    </tr>\n",
       "    <tr>\n",
       "      <th>1485</th>\n",
       "      <td>/RHESSys/Como/out/cal05/cal05_1485.npz</td>\n",
       "      <td>1485</td>\n",
       "    </tr>\n",
       "    <tr>\n",
       "      <th>1486</th>\n",
       "      <td>/RHESSys/Como/out/cal05/cal05_1486.npz</td>\n",
       "      <td>1486</td>\n",
       "    </tr>\n",
       "    <tr>\n",
       "      <th>1487</th>\n",
       "      <td>/RHESSys/Como/out/cal05/cal05_1487.npz</td>\n",
       "      <td>1487</td>\n",
       "    </tr>\n",
       "    <tr>\n",
       "      <th>1488</th>\n",
       "      <td>/RHESSys/Como/out/cal05/cal05_1488.npz</td>\n",
       "      <td>1488</td>\n",
       "    </tr>\n",
       "    <tr>\n",
       "      <th>1489</th>\n",
       "      <td>/RHESSys/Como/out/cal05/cal05_1489.npz</td>\n",
       "      <td>1489</td>\n",
       "    </tr>\n",
       "    <tr>\n",
       "      <th>1490</th>\n",
       "      <td>/RHESSys/Como/out/cal05/cal05_1490.npz</td>\n",
       "      <td>1490</td>\n",
       "    </tr>\n",
       "    <tr>\n",
       "      <th>1491</th>\n",
       "      <td>/RHESSys/Como/out/cal05/cal05_1491.npz</td>\n",
       "      <td>1491</td>\n",
       "    </tr>\n",
       "    <tr>\n",
       "      <th>1492</th>\n",
       "      <td>/RHESSys/Como/out/cal05/cal05_1492.npz</td>\n",
       "      <td>1492</td>\n",
       "    </tr>\n",
       "    <tr>\n",
       "      <th>1493</th>\n",
       "      <td>/RHESSys/Como/out/cal05/cal05_1493.npz</td>\n",
       "      <td>1493</td>\n",
       "    </tr>\n",
       "    <tr>\n",
       "      <th>1494</th>\n",
       "      <td>/RHESSys/Como/out/cal05/cal05_1494.npz</td>\n",
       "      <td>1494</td>\n",
       "    </tr>\n",
       "    <tr>\n",
       "      <th>1495</th>\n",
       "      <td>/RHESSys/Como/out/cal05/cal05_1495.npz</td>\n",
       "      <td>1495</td>\n",
       "    </tr>\n",
       "    <tr>\n",
       "      <th>1496</th>\n",
       "      <td>/RHESSys/Como/out/cal05/cal05_1496.npz</td>\n",
       "      <td>1496</td>\n",
       "    </tr>\n",
       "    <tr>\n",
       "      <th>1497</th>\n",
       "      <td>/RHESSys/Como/out/cal05/cal05_1497.npz</td>\n",
       "      <td>1497</td>\n",
       "    </tr>\n",
       "    <tr>\n",
       "      <th>1498</th>\n",
       "      <td>/RHESSys/Como/out/cal05/cal05_1498.npz</td>\n",
       "      <td>1498</td>\n",
       "    </tr>\n",
       "    <tr>\n",
       "      <th>1499</th>\n",
       "      <td>/RHESSys/Como/out/cal05/cal05_1499.npz</td>\n",
       "      <td>1499</td>\n",
       "    </tr>\n",
       "  </tbody>\n",
       "</table>\n",
       "<p>1490 rows × 2 columns</p>\n",
       "</div>"
      ],
      "text/plain": [
       "                                    filename   idx\n",
       "idx                                               \n",
       "0        /RHESSys/Como/out/cal05/cal05_0.npz     0\n",
       "1        /RHESSys/Como/out/cal05/cal05_1.npz     1\n",
       "2        /RHESSys/Como/out/cal05/cal05_2.npz     2\n",
       "3        /RHESSys/Como/out/cal05/cal05_3.npz     3\n",
       "4        /RHESSys/Como/out/cal05/cal05_4.npz     4\n",
       "5        /RHESSys/Como/out/cal05/cal05_5.npz     5\n",
       "6        /RHESSys/Como/out/cal05/cal05_6.npz     6\n",
       "7        /RHESSys/Como/out/cal05/cal05_7.npz     7\n",
       "8        /RHESSys/Como/out/cal05/cal05_8.npz     8\n",
       "9        /RHESSys/Como/out/cal05/cal05_9.npz     9\n",
       "10      /RHESSys/Como/out/cal05/cal05_10.npz    10\n",
       "11      /RHESSys/Como/out/cal05/cal05_11.npz    11\n",
       "12      /RHESSys/Como/out/cal05/cal05_12.npz    12\n",
       "13      /RHESSys/Como/out/cal05/cal05_13.npz    13\n",
       "14      /RHESSys/Como/out/cal05/cal05_14.npz    14\n",
       "15      /RHESSys/Como/out/cal05/cal05_15.npz    15\n",
       "16      /RHESSys/Como/out/cal05/cal05_16.npz    16\n",
       "17      /RHESSys/Como/out/cal05/cal05_17.npz    17\n",
       "18      /RHESSys/Como/out/cal05/cal05_18.npz    18\n",
       "19      /RHESSys/Como/out/cal05/cal05_19.npz    19\n",
       "20      /RHESSys/Como/out/cal05/cal05_20.npz    20\n",
       "21      /RHESSys/Como/out/cal05/cal05_21.npz    21\n",
       "22      /RHESSys/Como/out/cal05/cal05_22.npz    22\n",
       "23      /RHESSys/Como/out/cal05/cal05_23.npz    23\n",
       "24      /RHESSys/Como/out/cal05/cal05_24.npz    24\n",
       "25      /RHESSys/Como/out/cal05/cal05_25.npz    25\n",
       "26      /RHESSys/Como/out/cal05/cal05_26.npz    26\n",
       "27      /RHESSys/Como/out/cal05/cal05_27.npz    27\n",
       "28      /RHESSys/Como/out/cal05/cal05_28.npz    28\n",
       "29      /RHESSys/Como/out/cal05/cal05_29.npz    29\n",
       "...                                      ...   ...\n",
       "1470  /RHESSys/Como/out/cal05/cal05_1470.npz  1470\n",
       "1471  /RHESSys/Como/out/cal05/cal05_1471.npz  1471\n",
       "1472  /RHESSys/Como/out/cal05/cal05_1472.npz  1472\n",
       "1473  /RHESSys/Como/out/cal05/cal05_1473.npz  1473\n",
       "1474  /RHESSys/Como/out/cal05/cal05_1474.npz  1474\n",
       "1475  /RHESSys/Como/out/cal05/cal05_1475.npz  1475\n",
       "1476  /RHESSys/Como/out/cal05/cal05_1476.npz  1476\n",
       "1477  /RHESSys/Como/out/cal05/cal05_1477.npz  1477\n",
       "1478  /RHESSys/Como/out/cal05/cal05_1478.npz  1478\n",
       "1479  /RHESSys/Como/out/cal05/cal05_1479.npz  1479\n",
       "1480  /RHESSys/Como/out/cal05/cal05_1480.npz  1480\n",
       "1481  /RHESSys/Como/out/cal05/cal05_1481.npz  1481\n",
       "1482  /RHESSys/Como/out/cal05/cal05_1482.npz  1482\n",
       "1483  /RHESSys/Como/out/cal05/cal05_1483.npz  1483\n",
       "1484  /RHESSys/Como/out/cal05/cal05_1484.npz  1484\n",
       "1485  /RHESSys/Como/out/cal05/cal05_1485.npz  1485\n",
       "1486  /RHESSys/Como/out/cal05/cal05_1486.npz  1486\n",
       "1487  /RHESSys/Como/out/cal05/cal05_1487.npz  1487\n",
       "1488  /RHESSys/Como/out/cal05/cal05_1488.npz  1488\n",
       "1489  /RHESSys/Como/out/cal05/cal05_1489.npz  1489\n",
       "1490  /RHESSys/Como/out/cal05/cal05_1490.npz  1490\n",
       "1491  /RHESSys/Como/out/cal05/cal05_1491.npz  1491\n",
       "1492  /RHESSys/Como/out/cal05/cal05_1492.npz  1492\n",
       "1493  /RHESSys/Como/out/cal05/cal05_1493.npz  1493\n",
       "1494  /RHESSys/Como/out/cal05/cal05_1494.npz  1494\n",
       "1495  /RHESSys/Como/out/cal05/cal05_1495.npz  1495\n",
       "1496  /RHESSys/Como/out/cal05/cal05_1496.npz  1496\n",
       "1497  /RHESSys/Como/out/cal05/cal05_1497.npz  1497\n",
       "1498  /RHESSys/Como/out/cal05/cal05_1498.npz  1498\n",
       "1499  /RHESSys/Como/out/cal05/cal05_1499.npz  1499\n",
       "\n",
       "[1490 rows x 2 columns]"
      ]
     },
     "execution_count": 25,
     "metadata": {},
     "output_type": "execute_result"
    }
   ],
   "source": [
    "files"
   ]
  },
  {
   "cell_type": "code",
   "execution_count": 68,
   "metadata": {
    "collapsed": true
   },
   "outputs": [],
   "source": [
    "fl = '/RHESSys/Como/out/cal/cal12_498.npz'"
   ]
  },
  {
   "cell_type": "code",
   "execution_count": 69,
   "metadata": {
    "collapsed": false
   },
   "outputs": [],
   "source": [
    "dat = np.load(fl)"
   ]
  },
  {
   "cell_type": "code",
   "execution_count": 70,
   "metadata": {
    "collapsed": false
   },
   "outputs": [],
   "source": [
    "dat = pd.DataFrame({'streamflow':dat['streamflow']})"
   ]
  },
  {
   "cell_type": "code",
   "execution_count": 71,
   "metadata": {
    "collapsed": false
   },
   "outputs": [],
   "source": [
    "dat.index = pd.DatetimeIndex(pd.date_range(start=strt,end=nd,freq='D'))"
   ]
  },
  {
   "cell_type": "code",
   "execution_count": 72,
   "metadata": {
    "collapsed": false
   },
   "outputs": [
    {
     "data": {
      "text/plain": [
       "<matplotlib.legend.Legend at 0x10f9db310>"
      ]
     },
     "execution_count": 72,
     "metadata": {},
     "output_type": "execute_result"
    },
    {
     "data": {
      "image/png": "[encoded data removed]",
      "text/plain": [
       "<matplotlib.figure.Figure at 0x10f9db150>"
      ]
     },
     "metadata": {},
     "output_type": "display_data"
    }
   ],
   "source": [
    "dat.streamflow.plot(figsize=(15,5))\n",
    "obs.discharge.plot()\n",
    "plt.legend()"
   ]
  },
  {
   "cell_type": "code",
   "execution_count": null,
   "metadata": {
    "collapsed": true
   },
   "outputs": [],
   "source": []
  }
 ],
 "metadata": {
  "kernelspec": {
   "display_name": "Python 2",
   "language": "python",
   "name": "python2"
  },
  "language_info": {
   "codemirror_mode": {
    "name": "ipython",
    "version": 2
   },
   "file_extension": ".py",
   "mimetype": "text/x-python",
   "name": "python",
   "nbconvert_exporter": "python",
   "pygments_lexer": "ipython2",
   "version": "2.7.12"
  }
 },
 "nbformat": 4,
 "nbformat_minor": 0
}
