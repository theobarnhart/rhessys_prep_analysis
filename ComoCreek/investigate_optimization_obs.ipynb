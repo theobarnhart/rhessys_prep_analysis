{
 "cells": [
  {
   "cell_type": "code",
   "execution_count": 20,
   "metadata": {
    "collapsed": true
   },
   "outputs": [],
   "source": [
    "strt = '2005-1-1'\n",
    "nd = '2007-09-30'"
   ]
  },
  {
   "cell_type": "code",
   "execution_count": 21,
   "metadata": {
    "collapsed": false
   },
   "outputs": [],
   "source": [
    "obs = pd.read_pickle('/RHESSys/Como/obs/como_q_obs.pcl')[strt:nd]"
   ]
  },
  {
   "cell_type": "code",
   "execution_count": 26,
   "metadata": {
    "collapsed": false
   },
   "outputs": [
    {
     "data": {
      "text/html": [
       "<div>\n",
       "<table border=\"1\" class=\"dataframe\">\n",
       "  <thead>\n",
       "    <tr style=\"text-align: right;\">\n",
       "      <th></th>\n",
       "      <th>q_liter_per_day</th>\n",
       "      <th>Unnamed: 3</th>\n",
       "      <th>discharge</th>\n",
       "    </tr>\n",
       "  </thead>\n",
       "  <tbody>\n",
       "    <tr>\n",
       "      <th>2005-01-01</th>\n",
       "      <td>259200.0</td>\n",
       "      <td>NaN</td>\n",
       "      <td>0.051806</td>\n",
       "    </tr>\n",
       "    <tr>\n",
       "      <th>2005-01-02</th>\n",
       "      <td>259200.0</td>\n",
       "      <td>NaN</td>\n",
       "      <td>0.051806</td>\n",
       "    </tr>\n",
       "    <tr>\n",
       "      <th>2005-01-03</th>\n",
       "      <td>259200.0</td>\n",
       "      <td>NaN</td>\n",
       "      <td>0.051806</td>\n",
       "    </tr>\n",
       "    <tr>\n",
       "      <th>2005-01-04</th>\n",
       "      <td>259200.0</td>\n",
       "      <td>NaN</td>\n",
       "      <td>0.051806</td>\n",
       "    </tr>\n",
       "    <tr>\n",
       "      <th>2005-01-05</th>\n",
       "      <td>259200.0</td>\n",
       "      <td>NaN</td>\n",
       "      <td>0.051806</td>\n",
       "    </tr>\n",
       "    <tr>\n",
       "      <th>2005-01-06</th>\n",
       "      <td>259200.0</td>\n",
       "      <td>NaN</td>\n",
       "      <td>0.051806</td>\n",
       "    </tr>\n",
       "    <tr>\n",
       "      <th>2005-01-07</th>\n",
       "      <td>259200.0</td>\n",
       "      <td>NaN</td>\n",
       "      <td>0.051806</td>\n",
       "    </tr>\n",
       "    <tr>\n",
       "      <th>2005-01-08</th>\n",
       "      <td>259200.0</td>\n",
       "      <td>NaN</td>\n",
       "      <td>0.051806</td>\n",
       "    </tr>\n",
       "    <tr>\n",
       "      <th>2005-01-09</th>\n",
       "      <td>259200.0</td>\n",
       "      <td>NaN</td>\n",
       "      <td>0.051806</td>\n",
       "    </tr>\n",
       "    <tr>\n",
       "      <th>2005-01-10</th>\n",
       "      <td>259200.0</td>\n",
       "      <td>NaN</td>\n",
       "      <td>0.051806</td>\n",
       "    </tr>\n",
       "    <tr>\n",
       "      <th>2005-01-11</th>\n",
       "      <td>259200.0</td>\n",
       "      <td>NaN</td>\n",
       "      <td>0.051806</td>\n",
       "    </tr>\n",
       "    <tr>\n",
       "      <th>2005-01-12</th>\n",
       "      <td>259200.0</td>\n",
       "      <td>NaN</td>\n",
       "      <td>0.051806</td>\n",
       "    </tr>\n",
       "    <tr>\n",
       "      <th>2005-01-13</th>\n",
       "      <td>259200.0</td>\n",
       "      <td>NaN</td>\n",
       "      <td>0.051806</td>\n",
       "    </tr>\n",
       "    <tr>\n",
       "      <th>2005-01-14</th>\n",
       "      <td>259200.0</td>\n",
       "      <td>NaN</td>\n",
       "      <td>0.051806</td>\n",
       "    </tr>\n",
       "    <tr>\n",
       "      <th>2005-01-15</th>\n",
       "      <td>259200.0</td>\n",
       "      <td>NaN</td>\n",
       "      <td>0.051806</td>\n",
       "    </tr>\n",
       "    <tr>\n",
       "      <th>2005-01-16</th>\n",
       "      <td>259200.0</td>\n",
       "      <td>NaN</td>\n",
       "      <td>0.051806</td>\n",
       "    </tr>\n",
       "    <tr>\n",
       "      <th>2005-01-17</th>\n",
       "      <td>259200.0</td>\n",
       "      <td>NaN</td>\n",
       "      <td>0.051806</td>\n",
       "    </tr>\n",
       "    <tr>\n",
       "      <th>2005-01-18</th>\n",
       "      <td>259200.0</td>\n",
       "      <td>NaN</td>\n",
       "      <td>0.051806</td>\n",
       "    </tr>\n",
       "    <tr>\n",
       "      <th>2005-01-19</th>\n",
       "      <td>259200.0</td>\n",
       "      <td>NaN</td>\n",
       "      <td>0.051806</td>\n",
       "    </tr>\n",
       "    <tr>\n",
       "      <th>2005-01-20</th>\n",
       "      <td>259200.0</td>\n",
       "      <td>NaN</td>\n",
       "      <td>0.051806</td>\n",
       "    </tr>\n",
       "  </tbody>\n",
       "</table>\n",
       "</div>"
      ],
      "text/plain": [
       "            q_liter_per_day  Unnamed: 3  discharge\n",
       "2005-01-01         259200.0         NaN   0.051806\n",
       "2005-01-02         259200.0         NaN   0.051806\n",
       "2005-01-03         259200.0         NaN   0.051806\n",
       "2005-01-04         259200.0         NaN   0.051806\n",
       "2005-01-05         259200.0         NaN   0.051806\n",
       "2005-01-06         259200.0         NaN   0.051806\n",
       "2005-01-07         259200.0         NaN   0.051806\n",
       "2005-01-08         259200.0         NaN   0.051806\n",
       "2005-01-09         259200.0         NaN   0.051806\n",
       "2005-01-10         259200.0         NaN   0.051806\n",
       "2005-01-11         259200.0         NaN   0.051806\n",
       "2005-01-12         259200.0         NaN   0.051806\n",
       "2005-01-13         259200.0         NaN   0.051806\n",
       "2005-01-14         259200.0         NaN   0.051806\n",
       "2005-01-15         259200.0         NaN   0.051806\n",
       "2005-01-16         259200.0         NaN   0.051806\n",
       "2005-01-17         259200.0         NaN   0.051806\n",
       "2005-01-18         259200.0         NaN   0.051806\n",
       "2005-01-19         259200.0         NaN   0.051806\n",
       "2005-01-20         259200.0         NaN   0.051806"
      ]
     },
     "execution_count": 26,
     "metadata": {},
     "output_type": "execute_result"
    }
   ],
   "source": [
    "obs.head(20)"
   ]
  },
  {
   "cell_type": "code",
   "execution_count": 22,
   "metadata": {
    "collapsed": false
   },
   "outputs": [
    {
     "data": {
      "text/plain": [
       "<matplotlib.axes._subplots.AxesSubplot at 0x113400e50>"
      ]
     },
     "execution_count": 22,
     "metadata": {},
     "output_type": "execute_result"
    },
    {
     "data": {
      "image/png": "[encoded data removed]",
      "text/plain": [
       "<matplotlib.figure.Figure at 0x113400b10>"
      ]
     },
     "metadata": {},
     "output_type": "display_data"
    }
   ],
   "source": [
    "obs.discharge.plot(figsize=(15,5))"
   ]
  },
  {
   "cell_type": "code",
   "execution_count": 23,
   "metadata": {
    "collapsed": false
   },
   "outputs": [
    {
     "data": {
      "text/plain": [
       "12"
      ]
     },
     "execution_count": 23,
     "metadata": {},
     "output_type": "execute_result"
    }
   ],
   "source": [
    "np.sum(np.isnan(obs.discharge.as_matrix()))"
   ]
  },
  {
   "cell_type": "code",
   "execution_count": 24,
   "metadata": {
    "collapsed": true
   },
   "outputs": [],
   "source": [
    "obs.interpolate(inplace=True,limit=100,limit_direction='both')"
   ]
  },
  {
   "cell_type": "code",
   "execution_count": 25,
   "metadata": {
    "collapsed": false
   },
   "outputs": [
    {
     "data": {
      "text/plain": [
       "<matplotlib.axes._subplots.AxesSubplot at 0x113746b90>"
      ]
     },
     "execution_count": 25,
     "metadata": {},
     "output_type": "execute_result"
    },
    {
     "data": {
      "image/png": "[encoded data removed]",
      "text/plain": [
       "<matplotlib.figure.Figure at 0x10f170e10>"
      ]
     },
     "metadata": {},
     "output_type": "display_data"
    }
   ],
   "source": [
    "obs.discharge.plot(figsize=(15,5))"
   ]
  },
  {
   "cell_type": "code",
   "execution_count": 19,
   "metadata": {
    "collapsed": false
   },
   "outputs": [
    {
     "data": {
      "text/plain": [
       "0"
      ]
     },
     "execution_count": 19,
     "metadata": {},
     "output_type": "execute_result"
    }
   ],
   "source": [
    "np.sum(np.isnan(obs.discharge.as_matrix()))"
   ]
  },
  {
   "cell_type": "code",
   "execution_count": null,
   "metadata": {
    "collapsed": true
   },
   "outputs": [],
   "source": []
  }
 ],
 "metadata": {
  "kernelspec": {
   "display_name": "Python 2",
   "language": "python",
   "name": "python2"
  },
  "language_info": {
   "codemirror_mode": {
    "name": "ipython",
    "version": 2
   },
   "file_extension": ".py",
   "mimetype": "text/x-python",
   "name": "python",
   "nbconvert_exporter": "python",
   "pygments_lexer": "ipython2",
   "version": "2.7.12"
  }
 },
 "nbformat": 4,
 "nbformat_minor": 0
}
