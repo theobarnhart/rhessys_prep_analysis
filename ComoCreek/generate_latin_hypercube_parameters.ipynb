{
 "cells": [
  {
   "cell_type": "markdown",
   "metadata": {},
   "source": [
    "### Notebook to generate a parameter set using a latin hypercube\n",
    "\n",
    "Theodore Barnhart\n",
    "\n",
    "March 15, 2017"
   ]
  },
  {
   "cell_type": "code",
   "execution_count": 2,
   "metadata": {
    "collapsed": true
   },
   "outputs": [],
   "source": [
    "calname = 'cal15'\n",
    "n = 300 # number of samples\n",
    "m = 5 # number of parameters"
   ]
  },
  {
   "cell_type": "code",
   "execution_count": 3,
   "metadata": {
    "collapsed": true
   },
   "outputs": [],
   "source": [
    "import pyDOE as doe # python package with latin hypercube support\n",
    "from scipy.stats.distributions import uniform"
   ]
  },
  {
   "cell_type": "code",
   "execution_count": 4,
   "metadata": {
    "collapsed": true
   },
   "outputs": [],
   "source": [
    "lhd = doe.lhs(m,samples=n) # draw a latin hyper cube of parameters"
   ]
  },
  {
   "cell_type": "code",
   "execution_count": 11,
   "metadata": {
    "collapsed": false
   },
   "outputs": [],
   "source": [
    "# define the distributions to rescale the parameters from the hypercube\n",
    "gw1 = uniform(loc=0.0001,scale=0.4-0.0001) # % water to the groundwater store\n",
    "gw2 = uniform(loc=0.0001,scale=0.5-0.0001) # % water from the groundwater store to the stream\n",
    "#m = uniform(loc=0.01,scale=300.) # decay of ksat with depth\n",
    "#ksat = uniform(loc=0.,scale=400.) # ksat\n",
    "#crd = uniform(loc=2,scale=10.) # conifer rooting depth\n",
    "#trd = uniform(loc=0.1,scale=2.) # tundra rooting depth\n",
    "#po = uniform(loc=0.01,scale=120) # pore size index\n",
    "#pa = uniform(loc=0.01,scale=120) # air entry pressure\n",
    "alpsnowscale = uniform(loc=0.01,scale=0.29) # alpine snow scale\n",
    "forsnowscale = uniform(loc=0.5,scale=0.5)\n",
    "plapse = uniform(loc=0.00001,scale=0.0004999999999999999) # precip lapse rate\n",
    "#smtc = uniform(loc=0.001,scale=10) # snowmelt temperature coefficient\n",
    "#msed = uniform(loc=-700,scale=700) # maximum snowpack energy deficit\n",
    "#raintemp = uniform(loc=-2,scale=6.5) # minimum rain temperature\n",
    "#snowtemp = uniform(loc=-5.5,scale=9.5) # maximum snow temperature\n",
    "\n",
    "#dists = [gw1,gw2,m,ksat,crd,trd,po,pa,alpsnowscale,forsnowscale,plapse]\n",
    "dists = [gw1,gw2,alpsnowscale,forsnowscale,plapse]"
   ]
  },
  {
   "cell_type": "code",
   "execution_count": 12,
   "metadata": {
    "collapsed": false
   },
   "outputs": [],
   "source": [
    "# move the hypercube to a dataframe and rescale each parameter set using the define uniform distributions\n",
    "#['gw1','gw2','m','ksat','crd','trd','po','pa','alpsnowscale','forsnowscale','plapse']\n",
    "names = ['gw1','gw2','alpsnowscale','forsnowscale','plapse']\n",
    "df = pd.DataFrame()\n",
    "\n",
    "ct = 0\n",
    "for name,dist in zip(names,dists):\n",
    "    df[name] = dist.ppf(lhd[:,ct])\n",
    "    ct += 1"
   ]
  },
  {
   "cell_type": "code",
   "execution_count": 13,
   "metadata": {
    "collapsed": false
   },
   "outputs": [
    {
     "data": {
      "image/png": "[encoded data removed]",
      "text/plain": [
       "<matplotlib.figure.Figure at 0x1139baad0>"
      ]
     },
     "metadata": {},
     "output_type": "display_data"
    }
   ],
   "source": [
    "df.hist(figsize=(22,6),layout=(3,4));"
   ]
  },
  {
   "cell_type": "code",
   "execution_count": 14,
   "metadata": {
    "collapsed": true
   },
   "outputs": [],
   "source": [
    "# export the parameters\n",
    "for name in names:\n",
    "    np.savetxt('/RHESSys/Como/scripts/%s_%s.txt'%(calname,name),df[name].as_matrix(),fmt='%0.5f')"
   ]
  },
  {
   "cell_type": "code",
   "execution_count": null,
   "metadata": {
    "collapsed": true
   },
   "outputs": [],
   "source": []
  }
 ],
 "metadata": {
  "kernelspec": {
   "display_name": "Python 2",
   "language": "python",
   "name": "python2"
  },
  "language_info": {
   "codemirror_mode": {
    "name": "ipython",
    "version": 2
   },
   "file_extension": ".py",
   "mimetype": "text/x-python",
   "name": "python",
   "nbconvert_exporter": "python",
   "pygments_lexer": "ipython2",
   "version": "2.7.12"
  }
 },
 "nbformat": 4,
 "nbformat_minor": 0
}
