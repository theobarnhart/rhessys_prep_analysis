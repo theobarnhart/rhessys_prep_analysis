{
 "cells": [
  {
   "cell_type": "markdown",
   "metadata": {},
   "source": [
    "## Landuse codes\n",
    "11 = alpine\n",
    "\n",
    "12 = forest"
   ]
  },
  {
   "cell_type": "code",
   "execution_count": 7,
   "metadata": {
    "collapsed": true
   },
   "outputs": [],
   "source": [
    "import re"
   ]
  },
  {
   "cell_type": "code",
   "execution_count": 8,
   "metadata": {
    "collapsed": true
   },
   "outputs": [],
   "source": [
    "def readworld(fl):\n",
    "    with open(fl) as f:\n",
    "        content = f.readlines()\n",
    "    \n",
    "    world = [x.strip() for x in content] # remove whitespace\n",
    "    \n",
    "    return world"
   ]
  },
  {
   "cell_type": "code",
   "execution_count": 9,
   "metadata": {
    "collapsed": true
   },
   "outputs": [],
   "source": [
    "infl = '/RHESSys/Como/worldfiles/world.como.snow.lai'\n",
    "outfl = '/RHESSys/Como/worldfiles/world.como.snow.lai.2met'"
   ]
  },
  {
   "cell_type": "code",
   "execution_count": 10,
   "metadata": {
    "collapsed": true
   },
   "outputs": [],
   "source": [
    "world = readworld(infl)"
   ]
  },
  {
   "cell_type": "code",
   "execution_count": 11,
   "metadata": {
    "collapsed": false
   },
   "outputs": [
    {
     "data": {
      "text/plain": [
       "['1.000000    world_ID',\n",
       " '1.000000    num_basins',\n",
       " '1.000000    basin_ID',\n",
       " '0.000000    x',\n",
       " '0.000000    y',\n",
       " '3280.062256    z',\n",
       " '1    default_ID',\n",
       " '40.000000    latitude',\n",
       " '0    n_basestations',\n",
       " '26.000000    num_hillslopes',\n",
       " '27.000000    hillslope_ID',\n",
       " '0.000000    x',\n",
       " '0.000000    y',\n",
       " '2962.314697    z',\n",
       " '1    default_ID',\n",
       " '0.000000    gw_storage',\n",
       " '0.000000    gw_NO3',\n",
       " '0    n_basestations',\n",
       " '54.000000    num_zones',\n",
       " '19934.000000    zone_ID']"
      ]
     },
     "execution_count": 11,
     "metadata": {},
     "output_type": "execute_result"
    }
   ],
   "source": [
    "world[:20]"
   ]
  },
  {
   "cell_type": "code",
   "execution_count": 12,
   "metadata": {
    "collapsed": false
   },
   "outputs": [],
   "source": [
    "ct = 0\n",
    "\n",
    "for l in world:\n",
    "    \n",
    "    val,tag = l.split('    ')\n",
    "    \n",
    "    if (tag=='landuse_default') & (val == '11'):\n",
    "        \n",
    "        world[ct-7] = '%s          %s'%(102,'base_station_ID')\n",
    "    \n",
    "    ct += 1 # increment counter\n",
    "    "
   ]
  },
  {
   "cell_type": "code",
   "execution_count": 13,
   "metadata": {
    "collapsed": true
   },
   "outputs": [],
   "source": [
    "with open(outfl, 'w') as f:\n",
    "    for l in world:\n",
    "        f.write('%s\\n'%l)"
   ]
  },
  {
   "cell_type": "code",
   "execution_count": null,
   "metadata": {
    "collapsed": true
   },
   "outputs": [],
   "source": []
  },
  {
   "cell_type": "code",
   "execution_count": null,
   "metadata": {
    "collapsed": true
   },
   "outputs": [],
   "source": []
  }
 ],
 "metadata": {
  "kernelspec": {
   "display_name": "Python 2",
   "language": "python",
   "name": "python2"
  },
  "language_info": {
   "codemirror_mode": {
    "name": "ipython",
    "version": 2
   },
   "file_extension": ".py",
   "mimetype": "text/x-python",
   "name": "python",
   "nbconvert_exporter": "python",
   "pygments_lexer": "ipython2",
   "version": "2.7.12"
  }
 },
 "nbformat": 4,
 "nbformat_minor": 0
}
