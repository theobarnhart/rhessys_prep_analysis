{
 "cells": [
  {
   "cell_type": "code",
   "execution_count": 1,
   "metadata": {
    "collapsed": true
   },
   "outputs": [],
   "source": [
    "savefig = False"
   ]
  },
  {
   "cell_type": "markdown",
   "metadata": {},
   "source": [
    "## Notes:\n",
    "- 20 has the best NSE\n",
    "- opt 26 has improved the NSE to 0.363; however, the tail is fat, likely because of the gw model. Specifically, because gw2 ~1, all of the GW reservoir is released into the stream.\n",
    "- opt 27 attempting an optimization with gw2 = 0\n",
    "- opt 27 didn't work out that well, converged very quickly, but with an unrealistic hydrograph\n",
    "- opt 28 - re-do opt 26 with a wider parameter space for gw1 and gw2\n",
    "- opt 29 - re-do opt 28 with the snow parameters to improve timing\n",
    "- opt 30 - calibration without gw2 and with all the other calibration parameters, soil depth was also increased to 50 m\n",
    "- opt 31 - same as above, but soil depth is now also calibrated.\n",
    "- opt 32 - add a loss term to the calibration...\n",
    "\n",
    "- opt 37 (output is labeled 36) rooting depth constrained to literature\n",
    "\n",
    "### Sensitivity Anaylsis:\n",
    "\n",
    "Using opt 26 to construct dotty plots, it appears that the objective function score is really only sensitive to gw1, gw2, and po"
   ]
  },
  {
   "cell_type": "code",
   "execution_count": 2,
   "metadata": {
    "collapsed": true
   },
   "outputs": [],
   "source": [
    "opt = '40'"
   ]
  },
  {
   "cell_type": "code",
   "execution_count": 3,
   "metadata": {
    "collapsed": false
   },
   "outputs": [],
   "source": [
    "from hydro import objective_fxns as obfx\n",
    "import datetime"
   ]
  },
  {
   "cell_type": "code",
   "execution_count": 4,
   "metadata": {
    "collapsed": true
   },
   "outputs": [],
   "source": [
    "fl = './Como_SCEUA_%s.out'%opt"
   ]
  },
  {
   "cell_type": "code",
   "execution_count": 5,
   "metadata": {
    "collapsed": false
   },
   "outputs": [],
   "source": [
    "with open(fl) as f:\n",
    "    dat = f.readlines()\n",
    "    \n",
    "dat = [x.strip() for x in dat] # remove whitespace"
   ]
  },
  {
   "cell_type": "code",
   "execution_count": 6,
   "metadata": {
    "collapsed": false
   },
   "outputs": [],
   "source": [
    "times = []\n",
    "key = 'time cost'\n",
    "for l in dat:\n",
    "    if len(l) < len(key):\n",
    "        exit\n",
    "    \n",
    "    if l[:len(key)] == key:\n",
    "        tag,val = l.split('=')\n",
    "        \n",
    "    else:\n",
    "        continue\n",
    "    \n",
    "    times.append(float(val.split(' ')[1]))\n",
    "\n",
    "times = np.array(times)"
   ]
  },
  {
   "cell_type": "code",
   "execution_count": 7,
   "metadata": {
    "collapsed": false
   },
   "outputs": [],
   "source": [
    "times /= 60."
   ]
  },
  {
   "cell_type": "code",
   "execution_count": 8,
   "metadata": {
    "collapsed": false
   },
   "outputs": [
    {
     "data": {
      "image/png": "[encoded data removed]",
      "text/plain": [
       "<matplotlib.figure.Figure at 0x11513f490>"
      ]
     },
     "metadata": {},
     "output_type": "display_data"
    }
   ],
   "source": [
    "plt.hist(times);"
   ]
  },
  {
   "cell_type": "code",
   "execution_count": 9,
   "metadata": {
    "collapsed": false
   },
   "outputs": [
    {
     "data": {
      "text/plain": [
       "2310"
      ]
     },
     "execution_count": 9,
     "metadata": {},
     "output_type": "execute_result"
    }
   ],
   "source": [
    "len(times)"
   ]
  },
  {
   "cell_type": "code",
   "execution_count": 10,
   "metadata": {
    "collapsed": false
   },
   "outputs": [],
   "source": [
    "tmp = pd.read_csv('./Como_SCEUA_%s.csv'%(opt))"
   ]
  },
  {
   "cell_type": "code",
   "execution_count": 11,
   "metadata": {
    "collapsed": false
   },
   "outputs": [
    {
     "data": {
      "text/plain": [
       "1651"
      ]
     },
     "execution_count": 11,
     "metadata": {},
     "output_type": "execute_result"
    }
   ],
   "source": [
    "len(tmp)"
   ]
  },
  {
   "cell_type": "code",
   "execution_count": 12,
   "metadata": {
    "collapsed": false
   },
   "outputs": [
    {
     "data": {
      "text/html": [
       "<div>\n",
       "<table border=\"1\" class=\"dataframe\">\n",
       "  <thead>\n",
       "    <tr style=\"text-align: right;\">\n",
       "      <th></th>\n",
       "      <th>like1</th>\n",
       "      <th>pargw1</th>\n",
       "      <th>pargw2</th>\n",
       "      <th>parsd</th>\n",
       "      <th>parm</th>\n",
       "      <th>parksat</th>\n",
       "      <th>parcrd</th>\n",
       "      <th>partrd</th>\n",
       "      <th>parpo</th>\n",
       "      <th>parpa</th>\n",
       "      <th>parsnowtemp</th>\n",
       "      <th>parraintemp</th>\n",
       "      <th>parsmtc</th>\n",
       "      <th>parmsed</th>\n",
       "      <th>para</th>\n",
       "      <th>parb</th>\n",
       "      <th>parc</th>\n",
       "    </tr>\n",
       "  </thead>\n",
       "  <tbody>\n",
       "    <tr>\n",
       "      <th>1365</th>\n",
       "      <td>-0.693076</td>\n",
       "      <td>0.431707</td>\n",
       "      <td>0.168340</td>\n",
       "      <td>0.601265</td>\n",
       "      <td>24.052533</td>\n",
       "      <td>122.731664</td>\n",
       "      <td>0.577681</td>\n",
       "      <td>0.033624</td>\n",
       "      <td>3.570694</td>\n",
       "      <td>804.935265</td>\n",
       "      <td>3.032986</td>\n",
       "      <td>-2.561700</td>\n",
       "      <td>0.176698</td>\n",
       "      <td>-78.335363</td>\n",
       "      <td>0.115062</td>\n",
       "      <td>20.122044</td>\n",
       "      <td>0.623436</td>\n",
       "    </tr>\n",
       "    <tr>\n",
       "      <th>3</th>\n",
       "      <td>-0.729113</td>\n",
       "      <td>0.332524</td>\n",
       "      <td>0.005451</td>\n",
       "      <td>1.509656</td>\n",
       "      <td>20.025146</td>\n",
       "      <td>158.754823</td>\n",
       "      <td>1.765613</td>\n",
       "      <td>0.396077</td>\n",
       "      <td>0.594764</td>\n",
       "      <td>317.917021</td>\n",
       "      <td>0.273628</td>\n",
       "      <td>-1.066652</td>\n",
       "      <td>0.254228</td>\n",
       "      <td>-46.217417</td>\n",
       "      <td>6.272412</td>\n",
       "      <td>22.012469</td>\n",
       "      <td>0.626705</td>\n",
       "    </tr>\n",
       "    <tr>\n",
       "      <th>856</th>\n",
       "      <td>-0.741188</td>\n",
       "      <td>0.138902</td>\n",
       "      <td>0.486267</td>\n",
       "      <td>1.881759</td>\n",
       "      <td>4.706205</td>\n",
       "      <td>317.027331</td>\n",
       "      <td>1.694616</td>\n",
       "      <td>0.146532</td>\n",
       "      <td>2.649358</td>\n",
       "      <td>748.433366</td>\n",
       "      <td>0.861861</td>\n",
       "      <td>-3.668324</td>\n",
       "      <td>0.285071</td>\n",
       "      <td>-91.213109</td>\n",
       "      <td>1.294819</td>\n",
       "      <td>13.430063</td>\n",
       "      <td>0.588600</td>\n",
       "    </tr>\n",
       "    <tr>\n",
       "      <th>1510</th>\n",
       "      <td>-0.757659</td>\n",
       "      <td>0.630411</td>\n",
       "      <td>0.301106</td>\n",
       "      <td>1.290054</td>\n",
       "      <td>19.729513</td>\n",
       "      <td>164.506709</td>\n",
       "      <td>1.462568</td>\n",
       "      <td>0.242865</td>\n",
       "      <td>3.191566</td>\n",
       "      <td>333.442161</td>\n",
       "      <td>2.392041</td>\n",
       "      <td>-1.720153</td>\n",
       "      <td>0.473557</td>\n",
       "      <td>-54.161267</td>\n",
       "      <td>3.998156</td>\n",
       "      <td>17.769975</td>\n",
       "      <td>0.544398</td>\n",
       "    </tr>\n",
       "    <tr>\n",
       "      <th>1461</th>\n",
       "      <td>-0.778466</td>\n",
       "      <td>0.665324</td>\n",
       "      <td>0.250248</td>\n",
       "      <td>1.183473</td>\n",
       "      <td>11.265328</td>\n",
       "      <td>406.725340</td>\n",
       "      <td>1.057533</td>\n",
       "      <td>0.377564</td>\n",
       "      <td>3.182238</td>\n",
       "      <td>325.914025</td>\n",
       "      <td>1.281924</td>\n",
       "      <td>-2.493429</td>\n",
       "      <td>0.284460</td>\n",
       "      <td>-63.890017</td>\n",
       "      <td>8.986835</td>\n",
       "      <td>11.338208</td>\n",
       "      <td>0.575429</td>\n",
       "    </tr>\n",
       "  </tbody>\n",
       "</table>\n",
       "</div>"
      ],
      "text/plain": [
       "         like1    pargw1    pargw2     parsd       parm     parksat    parcrd  \\\n",
       "1365 -0.693076  0.431707  0.168340  0.601265  24.052533  122.731664  0.577681   \n",
       "3    -0.729113  0.332524  0.005451  1.509656  20.025146  158.754823  1.765613   \n",
       "856  -0.741188  0.138902  0.486267  1.881759   4.706205  317.027331  1.694616   \n",
       "1510 -0.757659  0.630411  0.301106  1.290054  19.729513  164.506709  1.462568   \n",
       "1461 -0.778466  0.665324  0.250248  1.183473  11.265328  406.725340  1.057533   \n",
       "\n",
       "        partrd     parpo       parpa  parsnowtemp  parraintemp   parsmtc  \\\n",
       "1365  0.033624  3.570694  804.935265     3.032986    -2.561700  0.176698   \n",
       "3     0.396077  0.594764  317.917021     0.273628    -1.066652  0.254228   \n",
       "856   0.146532  2.649358  748.433366     0.861861    -3.668324  0.285071   \n",
       "1510  0.242865  3.191566  333.442161     2.392041    -1.720153  0.473557   \n",
       "1461  0.377564  3.182238  325.914025     1.281924    -2.493429  0.284460   \n",
       "\n",
       "        parmsed      para       parb      parc  \n",
       "1365 -78.335363  0.115062  20.122044  0.623436  \n",
       "3    -46.217417  6.272412  22.012469  0.626705  \n",
       "856  -91.213109  1.294819  13.430063  0.588600  \n",
       "1510 -54.161267  3.998156  17.769975  0.544398  \n",
       "1461 -63.890017  8.986835  11.338208  0.575429  "
      ]
     },
     "execution_count": 12,
     "metadata": {},
     "output_type": "execute_result"
    }
   ],
   "source": [
    "tmp.sort_values(by = 'like1',ascending=False).iloc[1:6,0:17]"
   ]
  },
  {
   "cell_type": "code",
   "execution_count": 13,
   "metadata": {
    "collapsed": false
   },
   "outputs": [
    {
     "data": {
      "image/png": "[encoded data removed]",
      "text/plain": [
       "<matplotlib.figure.Figure at 0x114b6ee50>"
      ]
     },
     "metadata": {},
     "output_type": "display_data"
    }
   ],
   "source": [
    "# define a function that increases the leakage as flow increases\n",
    "def leakage(x,a,b,c): \n",
    "    y = a*(x**b) + c\n",
    "    y[y>1.] = 1\n",
    "    \n",
    "    return y\n",
    "\n",
    "\n",
    "\n",
    "x = np.linspace(0,1,100,endpoint=True)\n",
    "y = leakage(x,10.204982,21.230562,0.555779)\n",
    "\n",
    "plt.plot(x,y,'-',c='0.5',lw=3)\n",
    "plt.xlabel('Proportion of high flow', fontsize = 14)\n",
    "plt.ylabel('Proportion of streamflow lost',fontsize = 14)\n",
    "ax = plt.gca()\n",
    "[tick.label.set_fontsize(14) for tick in ax.xaxis.get_major_ticks()];\n",
    "[tick.label.set_fontsize(14) for tick in ax.yaxis.get_major_ticks()];\n",
    "plt.ylim(0,1.2)\n",
    "if savefig: plt.savefig('./figures/optimized_leakage_curve.png',bbox_inches='tight',dpi=300)\n",
    "if savefig: plt.savefig('./figures/optimized_leakage_curve.pdf',bbox_inches='tight')"
   ]
  },
  {
   "cell_type": "raw",
   "metadata": {
    "collapsed": false
   },
   "source": [
    "pars = tmp.sort_values(by = 'like1',ascending=False).iloc[1:]"
   ]
  },
  {
   "cell_type": "raw",
   "metadata": {
    "collapsed": true
   },
   "source": [
    "# export the parameters, I think the optimizer does not correctly match the parameters with the output....\n",
    "gw1 = pars['pargw1'].as_matrix(); np.savetxt('./opt20_gw1.txt',gw1)\n",
    "gw2 = pars['pargw2'].as_matrix(); np.savetxt('./opt20_gw2.txt',gw2)\n",
    "m = pars['parm'].as_matrix(); np.savetxt('./opt20_m.txt',m)\n",
    "ksat = pars['parksat'].as_matrix(); np.savetxt('./opt20_ksat.txt',ksat)\n",
    "crd = pars['parcrd'].as_matrix(); np.savetxt('./opt20_crd.txt',crd)\n",
    "trd = pars['partrd'].as_matrix(); np.savetxt('./opt20_trd.txt',trd)\n",
    "po = pars['parpo'].as_matrix(); np.savetxt('./opt20_po.txt',po)\n",
    "pa = pars['parpa'].as_matrix(); np.savetxt('./opt20_pa.txt',pa)"
   ]
  },
  {
   "cell_type": "code",
   "execution_count": 14,
   "metadata": {
    "collapsed": true
   },
   "outputs": [],
   "source": [
    "obs = pd.read_pickle('/RHESSys/Como/obs/como_q_obs.pcl')['2004-10-01':'2007-09-30']\n",
    "obs = obs.discharge.as_matrix()"
   ]
  },
  {
   "cell_type": "code",
   "execution_count": 15,
   "metadata": {
    "collapsed": true
   },
   "outputs": [],
   "source": [
    "nses = []\n",
    "for i in np.arange(0,len(tmp)):\n",
    "    simtmp = tmp.iloc[i,17:-1].as_matrix()\n",
    "    nses.append(obfx.nashsut(obs,simtmp))"
   ]
  },
  {
   "cell_type": "code",
   "execution_count": 16,
   "metadata": {
    "collapsed": false
   },
   "outputs": [
    {
     "data": {
      "text/plain": [
       "0.73"
      ]
     },
     "execution_count": 16,
     "metadata": {},
     "output_type": "execute_result"
    }
   ],
   "source": [
    "round(np.max(nses),2)"
   ]
  },
  {
   "cell_type": "code",
   "execution_count": 17,
   "metadata": {
    "collapsed": false
   },
   "outputs": [
    {
     "data": {
      "text/plain": [
       "-8.41"
      ]
     },
     "execution_count": 17,
     "metadata": {},
     "output_type": "execute_result"
    }
   ],
   "source": [
    "round(np.min(nses),2)"
   ]
  },
  {
   "cell_type": "code",
   "execution_count": 18,
   "metadata": {
    "collapsed": false
   },
   "outputs": [],
   "source": [
    "sim = tmp.sort_values(by = 'like1',ascending=False).iloc[1,17:-1].as_matrix()\n",
    "#print len(obs)\n",
    "#print len(sim)\n",
    "#4\n",
    "#9"
   ]
  },
  {
   "cell_type": "code",
   "execution_count": 19,
   "metadata": {
    "collapsed": false
   },
   "outputs": [
    {
     "name": "stdout",
     "output_type": "stream",
     "text": [
      "NSE: 0.734\n"
     ]
    }
   ],
   "source": [
    "nse = obfx.nashsut(obs,sim)\n",
    "print 'NSE: %s'%round(nse,3)"
   ]
  },
  {
   "cell_type": "code",
   "execution_count": 20,
   "metadata": {
    "collapsed": true
   },
   "outputs": [],
   "source": [
    "tmp.sort_values(by = 'like1',ascending=False,inplace=True)"
   ]
  },
  {
   "cell_type": "code",
   "execution_count": 21,
   "metadata": {
    "collapsed": false
   },
   "outputs": [],
   "source": [
    "# fill a data frame with the top twenty\n",
    "sims = pd.DataFrame()\n",
    "for i in range(20):\n",
    "    sims['sim_%i'%i] = tmp.iloc[i,17:-1].as_matrix()\n",
    "\n",
    "sims.index = pd.DatetimeIndex(pd.date_range(start='2004-10-01',periods=len(sim),freq='D'))\n",
    "sims['idx'] = np.arange(0,len(sims))"
   ]
  },
  {
   "cell_type": "code",
   "execution_count": 22,
   "metadata": {
    "collapsed": false
   },
   "outputs": [],
   "source": [
    "sims = pd.melt(sims,id_vars='idx')"
   ]
  },
  {
   "cell_type": "code",
   "execution_count": 23,
   "metadata": {
    "collapsed": true
   },
   "outputs": [],
   "source": [
    "dat = pd.DataFrame()\n",
    "dat['Observations'] = obs\n",
    "dat['Simulation'] = sim\n",
    "dat['Sim_min'] = sims.groupby(by='idx').min()['value']\n",
    "dat['Sim_max'] = sims.groupby(by='idx').max()['value']\n",
    "dat.index = pd.DatetimeIndex(pd.date_range(start='2004-10-01',periods=len(sim),freq='D'))"
   ]
  },
  {
   "cell_type": "code",
   "execution_count": 24,
   "metadata": {
    "collapsed": true
   },
   "outputs": [],
   "source": [
    "savefig = True"
   ]
  },
  {
   "cell_type": "code",
   "execution_count": 26,
   "metadata": {
    "collapsed": false,
    "scrolled": false
   },
   "outputs": [
    {
     "data": {
      "image/png": "[encoded data removed]",
      "text/plain": [
       "<matplotlib.figure.Figure at 0x11515b550>"
      ]
     },
     "metadata": {},
     "output_type": "display_data"
    }
   ],
   "source": [
    "#plt.figure(figsize=(15,5))\n",
    "dat['Observations'].plot(figsize=(15,5),color='k',lw=2,label='Observations')\n",
    "dat['Simulation'].plot(figsize=(15,5),color='g',lw=2,label='Best Simulation')\n",
    "plt.fill_between(dat.index,dat.Sim_min,dat.Sim_max,facecolor='0.8',edgecolor='0.8',zorder=1,color='0.8',label='Top 20 Simulations')\n",
    "plt.ylim(0,10)\n",
    "plt.legend(fontsize=16,ncol=3,loc='upper center')\n",
    "plt.ylabel('Specific Discharge [mm/day]', fontsize = 18)\n",
    "ax = plt.gca()\n",
    "#plt.title('Como Creek, Training Period NSE: %s'%(round(nse,3)), fontsize = 20)\n",
    "[tick.label.set_fontsize(16) for tick in ax.xaxis.get_major_ticks()];\n",
    "[tick.label.set_fontsize(16) for tick in ax.xaxis.get_minor_ticks()];\n",
    "[tick.label.set_fontsize(16) for tick in ax.yaxis.get_major_ticks()];\n",
    "if savefig: plt.savefig('./figures/experiment_calibration_%s.png'%(opt),dpi=300,bbox_inches='tight')\n",
    "if savefig: plt.savefig('./figures/experiment_calibration_%s.pdf'%(opt),bbox_inches='tight')\n",
    "savefig = False"
   ]
  },
  {
   "cell_type": "markdown",
   "metadata": {
    "collapsed": true
   },
   "source": [
    "## Sensitivity Dotty Plots - from Opt. 26"
   ]
  },
  {
   "cell_type": "code",
   "execution_count": null,
   "metadata": {
    "collapsed": true
   },
   "outputs": [],
   "source": [
    "def dotty_plot(par,label):\n",
    "    labelsize = 16\n",
    "    tmp.plot.scatter('like1',par,figsize=(10,5))\n",
    "    plt.ylabel(label, fontsize=labelsize)\n",
    "    plt.xlabel('Likelihood', fontsize=labelsize)\n",
    "    ax = plt.gca()\n",
    "    [tick.label.set_fontsize(labelsize-2) for tick in ax.xaxis.get_major_ticks()];\n",
    "    [tick.label.set_fontsize(labelsize-2) for tick in ax.yaxis.get_major_ticks()];\n",
    "    plt.xlim(-2,-1)"
   ]
  },
  {
   "cell_type": "code",
   "execution_count": null,
   "metadata": {
    "collapsed": false
   },
   "outputs": [],
   "source": [
    "dotty_plot('pargw1','gw1')\n",
    "dotty_plot('pargw2','gw2')\n",
    "dotty_plot('parpo','po')"
   ]
  },
  {
   "cell_type": "code",
   "execution_count": null,
   "metadata": {
    "collapsed": false,
    "scrolled": false
   },
   "outputs": [],
   "source": [
    "dotty_plot('pargw1','gw1')\n",
    "dotty_plot('pargw2','gw2')\n",
    "dotty_plot('parm','m')\n",
    "dotty_plot('parksat','ksat')\n",
    "dotty_plot('partrd','trd')\n",
    "dotty_plot('parcrd','crd')\n",
    "dotty_plot('parpo','po')\n",
    "dotty_plot('parpa','pa')"
   ]
  },
  {
   "cell_type": "code",
   "execution_count": null,
   "metadata": {
    "collapsed": true
   },
   "outputs": [],
   "source": []
  },
  {
   "cell_type": "code",
   "execution_count": null,
   "metadata": {
    "collapsed": false
   },
   "outputs": [],
   "source": [
    "tmp.plot.scatter('like1','parksat',figsize=(10,5))\n",
    "plt.xlim(-2,-1)"
   ]
  },
  {
   "cell_type": "code",
   "execution_count": null,
   "metadata": {
    "collapsed": false
   },
   "outputs": [],
   "source": [
    "tmp.plot.scatter('like1','parcrd',figsize=(10,5))\n",
    "plt.xlim(-2,-1)"
   ]
  },
  {
   "cell_type": "code",
   "execution_count": null,
   "metadata": {
    "collapsed": false
   },
   "outputs": [],
   "source": [
    "tmp.plot.scatter('like1','partrd',figsize=(10,5))\n",
    "plt.xlim(-2,-1)"
   ]
  },
  {
   "cell_type": "code",
   "execution_count": null,
   "metadata": {
    "collapsed": false
   },
   "outputs": [],
   "source": [
    "tmp.plot.scatter('like1','parpo',figsize=(10,5))\n",
    "plt.xlim(-2,-1)"
   ]
  },
  {
   "cell_type": "code",
   "execution_count": null,
   "metadata": {
    "collapsed": false
   },
   "outputs": [],
   "source": [
    "tmp.plot.scatter('like1','parpa',figsize=(10,5))\n",
    "plt.xlim(-2,-1)"
   ]
  },
  {
   "cell_type": "code",
   "execution_count": null,
   "metadata": {
    "collapsed": true
   },
   "outputs": [],
   "source": []
  },
  {
   "cell_type": "code",
   "execution_count": null,
   "metadata": {
    "collapsed": true
   },
   "outputs": [],
   "source": []
  }
 ],
 "metadata": {
  "kernelspec": {
   "display_name": "Python 2",
   "language": "python",
   "name": "python2"
  },
  "language_info": {
   "codemirror_mode": {
    "name": "ipython",
    "version": 2
   },
   "file_extension": ".py",
   "mimetype": "text/x-python",
   "name": "python",
   "nbconvert_exporter": "python",
   "pygments_lexer": "ipython2",
   "version": "2.7.12"
  }
 },
 "nbformat": 4,
 "nbformat_minor": 0
}
