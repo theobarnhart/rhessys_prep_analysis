{
 "cells": [
  {
   "cell_type": "code",
   "execution_count": 1,
   "metadata": {
    "collapsed": false
   },
   "outputs": [],
   "source": [
    "import ipyparallel as par \n",
    "import subprocess"
   ]
  },
  {
   "cell_type": "code",
   "execution_count": 2,
   "metadata": {
    "collapsed": true
   },
   "outputs": [],
   "source": [
    "%%px \n",
    "import subprocess\n",
    "import pandas as pd"
   ]
  },
  {
   "cell_type": "code",
   "execution_count": 3,
   "metadata": {
    "collapsed": true
   },
   "outputs": [],
   "source": [
    "def run(gw1,gw2,m,ksat,crd,trd,po,pa,idx):\n",
    "    start_date = pd.datetime(2003,10,1) # simulation spinup start (RHESSys format)\n",
    "    end_date = pd.datetime(2007,10,5) # simulation end date (RHESSys format)\n",
    "    \n",
    "    strtyear = start_date.year\n",
    "    strtmonth = start_date.month\n",
    "    strtday = start_date.day\n",
    "\n",
    "    endyear = end_date.year\n",
    "    endmonth = end_date.month\n",
    "    endday = end_date.day\n",
    "    \n",
    "    scrpt = 'sh /RHESSys/Como/scripts/rhessys_opt20.sh'\n",
    "    args = '%s %s %s %s %s %s %s %s %s %s %s %s %s %s %s'%(gw1,gw2,m,ksat,crd,trd,po,pa,strtyear,strtmonth,strtday,endyear,endmonth,endday,idx)\n",
    "    cmd =  '%s %s'%(scrpt,args)\n",
    "    #print cmd\n",
    "    subprocess.call(cmd,shell=True) # run the simulation using the rhessys script\n",
    "    return idx"
   ]
  },
  {
   "cell_type": "code",
   "execution_count": 4,
   "metadata": {
    "collapsed": true
   },
   "outputs": [],
   "source": [
    "# load the parameters\n",
    "gw1 = np.loadtxt('./opt20_gw1.txt')\n",
    "gw2 = np.loadtxt('./opt20_gw2.txt')\n",
    "m = np.loadtxt('./opt20_m.txt')\n",
    "ksat = np.loadtxt('./opt20_ksat.txt')\n",
    "crd = np.loadtxt('./opt20_crd.txt')\n",
    "trd = np.loadtxt('./opt20_trd.txt')\n",
    "po = np.loadtxt('./opt20_po.txt')\n",
    "pa = np.loadtxt('./opt20_pa.txt')\n",
    "idx = np.arange(1,len(gw1)+1) # index variable"
   ]
  },
  {
   "cell_type": "code",
   "execution_count": 5,
   "metadata": {
    "collapsed": false
   },
   "outputs": [],
   "source": [
    "c = par.Client()\n",
    "view = c.load_balanced_view()"
   ]
  },
  {
   "cell_type": "code",
   "execution_count": 6,
   "metadata": {
    "collapsed": false
   },
   "outputs": [
    {
     "data": {
      "text/plain": [
       "[0, 1, 2, 3, 4, 5, 6, 7]"
      ]
     },
     "execution_count": 6,
     "metadata": {},
     "output_type": "execute_result"
    }
   ],
   "source": [
    "c.ids"
   ]
  },
  {
   "cell_type": "code",
   "execution_count": 7,
   "metadata": {
    "collapsed": true
   },
   "outputs": [],
   "source": [
    "#res = view.map(run,gw1[0:10],gw2[0:10],m[0:10],ksat[0:10],crd[0:10],trd[0:10],po[0:10],pa[0:10],idx[0:10])"
   ]
  },
  {
   "cell_type": "code",
   "execution_count": 8,
   "metadata": {
    "collapsed": true
   },
   "outputs": [],
   "source": [
    "res = view.map(run,gw1,gw2,m,ksat,crd,trd,po,pa,idx)"
   ]
  },
  {
   "cell_type": "code",
   "execution_count": 9,
   "metadata": {
    "collapsed": false
   },
   "outputs": [
    {
     "data": {
      "text/plain": [
       "0"
      ]
     },
     "execution_count": 9,
     "metadata": {},
     "output_type": "execute_result"
    }
   ],
   "source": [
    "res.progress"
   ]
  },
  {
   "cell_type": "code",
   "execution_count": 49,
   "metadata": {
    "collapsed": false
   },
   "outputs": [
    {
     "data": {
      "text/plain": [
       "[1, 2, 3, 4, 5, 6, 7, 8, 9, 10]"
      ]
     },
     "execution_count": 49,
     "metadata": {},
     "output_type": "execute_result"
    }
   ],
   "source": [
    "res.result()"
   ]
  },
  {
   "cell_type": "code",
   "execution_count": null,
   "metadata": {
    "collapsed": true
   },
   "outputs": [],
   "source": []
  },
  {
   "cell_type": "code",
   "execution_count": null,
   "metadata": {
    "collapsed": true
   },
   "outputs": [],
   "source": []
  }
 ],
 "metadata": {
  "kernelspec": {
   "display_name": "Python 2",
   "language": "python",
   "name": "python2"
  },
  "language_info": {
   "codemirror_mode": {
    "name": "ipython",
    "version": 2
   },
   "file_extension": ".py",
   "mimetype": "text/x-python",
   "name": "python",
   "nbconvert_exporter": "python",
   "pygments_lexer": "ipython2",
   "version": "2.7.12"
  }
 },
 "nbformat": 4,
 "nbformat_minor": 0
}
