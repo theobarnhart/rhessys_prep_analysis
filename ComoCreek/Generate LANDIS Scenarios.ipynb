{
 "cells": [
  {
   "cell_type": "markdown",
   "metadata": {},
   "source": [
    "### Script to convert LANDIS Biomass to forest LAI\n",
    "\n",
    "Outputs a geoTIFF for ingestion into GRASS and RHESSys\n",
    "\n",
    "Blank cells (biomass of 0) are assumed to be grass and given an LAI of 1, this is an assumption that will need to be documented in the methods."
   ]
  },
  {
   "cell_type": "code",
   "execution_count": 1,
   "metadata": {
    "collapsed": true
   },
   "outputs": [],
   "source": [
    "def biomass2LAI(x,sla,leaf_stem):\n",
    "    '''\n",
    "    Convert biomass to lai based on the specific leaf area.\n",
    "    \n",
    "    x: array of biomass values in g/m2\n",
    "    sla: specific leaf area m2/kg c\n",
    "    leaf_stem: ratio of leaf mass to stem mass\n",
    "    '''\n",
    "    x /= 1000. # g/m2 > kg/m2\n",
    "    leaf = (x*leaf_stem) / (1.+leaf_stem) # compute leaf wet biomass\n",
    "    lai = leaf * sla # convert leaf dry biomass to leaf area\n",
    "\n",
    "    return lai"
   ]
  },
  {
   "cell_type": "code",
   "execution_count": 2,
   "metadata": {
    "collapsed": true
   },
   "outputs": [],
   "source": [
    "import gdal\n",
    "import glob"
   ]
  },
  {
   "cell_type": "code",
   "execution_count": 3,
   "metadata": {
    "collapsed": false
   },
   "outputs": [],
   "source": [
    "rastpth = './data/LAI_Boulder_crop.tif'\n",
    "ds = gdal.Open(rastpth)\n",
    "rast = np.array(ds.GetRasterBand(1).ReadAsArray(),dtype=float)\n",
    "rast[rast<0] = np.NaN\n",
    "mask = rast.copy()\n",
    "mask[np.isnan(mask)==0] = 1"
   ]
  },
  {
   "cell_type": "code",
   "execution_count": 4,
   "metadata": {
    "collapsed": true
   },
   "outputs": [],
   "source": [
    "files = glob.glob('./data/LANDIS_output/climate_change/*/*/*.tiff')"
   ]
  },
  {
   "cell_type": "code",
   "execution_count": 5,
   "metadata": {
    "collapsed": true
   },
   "outputs": [],
   "source": [
    "dat = pd.DataFrame({'filename':files})"
   ]
  },
  {
   "cell_type": "code",
   "execution_count": 6,
   "metadata": {
    "collapsed": true
   },
   "outputs": [],
   "source": [
    "def get_run(fl):\n",
    "    return int(fl.split(\"/\")[-2].split('_')[-1])"
   ]
  },
  {
   "cell_type": "code",
   "execution_count": 7,
   "metadata": {
    "collapsed": true
   },
   "outputs": [],
   "source": [
    "def get_scenario(fl):\n",
    "    \n",
    "    key = fl.split(\"/\")[-2][:-2]\n",
    "    \n",
    "    if key == 'BDA+FIRE_+4C_minus15%precip':\n",
    "        out = 'PGW_LP'\n",
    "    \n",
    "    if key == 'BDA+FIRE_+4C_+15%precip':\n",
    "        out = 'PGW_MP'\n",
    "        \n",
    "    return out "
   ]
  },
  {
   "cell_type": "code",
   "execution_count": 8,
   "metadata": {
    "collapsed": false
   },
   "outputs": [],
   "source": [
    "def get_year(fl):\n",
    "    \n",
    "    yr = int(fl.split('/')[-1].split('-')[-1].split('_')[0])\n",
    "    yr -= 10\n",
    "    yr += 2000\n",
    "    \n",
    "    return yr"
   ]
  },
  {
   "cell_type": "code",
   "execution_count": 9,
   "metadata": {
    "collapsed": true
   },
   "outputs": [],
   "source": [
    "dat['run'] = dat.filename.map(get_run)\n",
    "dat['scenario'] = dat.filename.map(get_scenario)\n",
    "dat['year'] = dat.filename.map(get_year)"
   ]
  },
  {
   "cell_type": "code",
   "execution_count": 10,
   "metadata": {
    "collapsed": false
   },
   "outputs": [
    {
     "data": {
      "text/html": [
       "<div>\n",
       "<table border=\"1\" class=\"dataframe\">\n",
       "  <thead>\n",
       "    <tr style=\"text-align: right;\">\n",
       "      <th></th>\n",
       "      <th>filename</th>\n",
       "      <th>run</th>\n",
       "      <th>scenario</th>\n",
       "      <th>year</th>\n",
       "    </tr>\n",
       "  </thead>\n",
       "  <tbody>\n",
       "    <tr>\n",
       "      <th>1</th>\n",
       "      <td>./data/LANDIS_output/climate_change/PGW_less_P...</td>\n",
       "      <td>1</td>\n",
       "      <td>PGW_LP</td>\n",
       "      <td>2000</td>\n",
       "    </tr>\n",
       "    <tr>\n",
       "      <th>3</th>\n",
       "      <td>./data/LANDIS_output/climate_change/PGW_less_P...</td>\n",
       "      <td>1</td>\n",
       "      <td>PGW_LP</td>\n",
       "      <td>2100</td>\n",
       "    </tr>\n",
       "    <tr>\n",
       "      <th>8</th>\n",
       "      <td>./data/LANDIS_output/climate_change/PGW_less_P...</td>\n",
       "      <td>1</td>\n",
       "      <td>PGW_LP</td>\n",
       "      <td>2050</td>\n",
       "    </tr>\n",
       "    <tr>\n",
       "      <th>13</th>\n",
       "      <td>./data/LANDIS_output/climate_change/PGW_less_P...</td>\n",
       "      <td>2</td>\n",
       "      <td>PGW_LP</td>\n",
       "      <td>2000</td>\n",
       "    </tr>\n",
       "    <tr>\n",
       "      <th>15</th>\n",
       "      <td>./data/LANDIS_output/climate_change/PGW_less_P...</td>\n",
       "      <td>2</td>\n",
       "      <td>PGW_LP</td>\n",
       "      <td>2100</td>\n",
       "    </tr>\n",
       "    <tr>\n",
       "      <th>20</th>\n",
       "      <td>./data/LANDIS_output/climate_change/PGW_less_P...</td>\n",
       "      <td>2</td>\n",
       "      <td>PGW_LP</td>\n",
       "      <td>2050</td>\n",
       "    </tr>\n",
       "    <tr>\n",
       "      <th>25</th>\n",
       "      <td>./data/LANDIS_output/climate_change/PGW_less_P...</td>\n",
       "      <td>5</td>\n",
       "      <td>PGW_LP</td>\n",
       "      <td>2000</td>\n",
       "    </tr>\n",
       "    <tr>\n",
       "      <th>27</th>\n",
       "      <td>./data/LANDIS_output/climate_change/PGW_less_P...</td>\n",
       "      <td>5</td>\n",
       "      <td>PGW_LP</td>\n",
       "      <td>2100</td>\n",
       "    </tr>\n",
       "    <tr>\n",
       "      <th>32</th>\n",
       "      <td>./data/LANDIS_output/climate_change/PGW_less_P...</td>\n",
       "      <td>5</td>\n",
       "      <td>PGW_LP</td>\n",
       "      <td>2050</td>\n",
       "    </tr>\n",
       "    <tr>\n",
       "      <th>37</th>\n",
       "      <td>./data/LANDIS_output/climate_change/PGW_more_P...</td>\n",
       "      <td>1</td>\n",
       "      <td>PGW_MP</td>\n",
       "      <td>2000</td>\n",
       "    </tr>\n",
       "    <tr>\n",
       "      <th>39</th>\n",
       "      <td>./data/LANDIS_output/climate_change/PGW_more_P...</td>\n",
       "      <td>1</td>\n",
       "      <td>PGW_MP</td>\n",
       "      <td>2100</td>\n",
       "    </tr>\n",
       "    <tr>\n",
       "      <th>44</th>\n",
       "      <td>./data/LANDIS_output/climate_change/PGW_more_P...</td>\n",
       "      <td>1</td>\n",
       "      <td>PGW_MP</td>\n",
       "      <td>2050</td>\n",
       "    </tr>\n",
       "    <tr>\n",
       "      <th>49</th>\n",
       "      <td>./data/LANDIS_output/climate_change/PGW_more_P...</td>\n",
       "      <td>2</td>\n",
       "      <td>PGW_MP</td>\n",
       "      <td>2000</td>\n",
       "    </tr>\n",
       "    <tr>\n",
       "      <th>51</th>\n",
       "      <td>./data/LANDIS_output/climate_change/PGW_more_P...</td>\n",
       "      <td>2</td>\n",
       "      <td>PGW_MP</td>\n",
       "      <td>2100</td>\n",
       "    </tr>\n",
       "    <tr>\n",
       "      <th>56</th>\n",
       "      <td>./data/LANDIS_output/climate_change/PGW_more_P...</td>\n",
       "      <td>2</td>\n",
       "      <td>PGW_MP</td>\n",
       "      <td>2050</td>\n",
       "    </tr>\n",
       "    <tr>\n",
       "      <th>61</th>\n",
       "      <td>./data/LANDIS_output/climate_change/PGW_more_P...</td>\n",
       "      <td>3</td>\n",
       "      <td>PGW_MP</td>\n",
       "      <td>2000</td>\n",
       "    </tr>\n",
       "    <tr>\n",
       "      <th>63</th>\n",
       "      <td>./data/LANDIS_output/climate_change/PGW_more_P...</td>\n",
       "      <td>3</td>\n",
       "      <td>PGW_MP</td>\n",
       "      <td>2100</td>\n",
       "    </tr>\n",
       "    <tr>\n",
       "      <th>68</th>\n",
       "      <td>./data/LANDIS_output/climate_change/PGW_more_P...</td>\n",
       "      <td>3</td>\n",
       "      <td>PGW_MP</td>\n",
       "      <td>2050</td>\n",
       "    </tr>\n",
       "  </tbody>\n",
       "</table>\n",
       "</div>"
      ],
      "text/plain": [
       "                                             filename  run scenario  year\n",
       "1   ./data/LANDIS_output/climate_change/PGW_less_P...    1   PGW_LP  2000\n",
       "3   ./data/LANDIS_output/climate_change/PGW_less_P...    1   PGW_LP  2100\n",
       "8   ./data/LANDIS_output/climate_change/PGW_less_P...    1   PGW_LP  2050\n",
       "13  ./data/LANDIS_output/climate_change/PGW_less_P...    2   PGW_LP  2000\n",
       "15  ./data/LANDIS_output/climate_change/PGW_less_P...    2   PGW_LP  2100\n",
       "20  ./data/LANDIS_output/climate_change/PGW_less_P...    2   PGW_LP  2050\n",
       "25  ./data/LANDIS_output/climate_change/PGW_less_P...    5   PGW_LP  2000\n",
       "27  ./data/LANDIS_output/climate_change/PGW_less_P...    5   PGW_LP  2100\n",
       "32  ./data/LANDIS_output/climate_change/PGW_less_P...    5   PGW_LP  2050\n",
       "37  ./data/LANDIS_output/climate_change/PGW_more_P...    1   PGW_MP  2000\n",
       "39  ./data/LANDIS_output/climate_change/PGW_more_P...    1   PGW_MP  2100\n",
       "44  ./data/LANDIS_output/climate_change/PGW_more_P...    1   PGW_MP  2050\n",
       "49  ./data/LANDIS_output/climate_change/PGW_more_P...    2   PGW_MP  2000\n",
       "51  ./data/LANDIS_output/climate_change/PGW_more_P...    2   PGW_MP  2100\n",
       "56  ./data/LANDIS_output/climate_change/PGW_more_P...    2   PGW_MP  2050\n",
       "61  ./data/LANDIS_output/climate_change/PGW_more_P...    3   PGW_MP  2000\n",
       "63  ./data/LANDIS_output/climate_change/PGW_more_P...    3   PGW_MP  2100\n",
       "68  ./data/LANDIS_output/climate_change/PGW_more_P...    3   PGW_MP  2050"
      ]
     },
     "execution_count": 10,
     "metadata": {},
     "output_type": "execute_result"
    }
   ],
   "source": [
    "dat = dat.loc[(dat.year==2000) | (dat.year==2050) | (dat.year==2100)]\n",
    "dat"
   ]
  },
  {
   "cell_type": "code",
   "execution_count": 11,
   "metadata": {
    "collapsed": false
   },
   "outputs": [
    {
     "data": {
      "text/plain": [
       "18"
      ]
     },
     "execution_count": 11,
     "metadata": {},
     "output_type": "execute_result"
    }
   ],
   "source": [
    "len(dat)"
   ]
  },
  {
   "cell_type": "code",
   "execution_count": 12,
   "metadata": {
    "collapsed": true
   },
   "outputs": [],
   "source": [
    "sla = 9. # specific leaf area\n",
    "leaf_stem = 0.0141 # ratio of leaf to stem biomass"
   ]
  },
  {
   "cell_type": "code",
   "execution_count": 13,
   "metadata": {
    "collapsed": true
   },
   "outputs": [],
   "source": [
    "def biomass2LAItiff(fl,sla,leaf_stem,outpath1,outpath2,outpath3,outtiff):\n",
    "    ds = gdal.Open(fl)\n",
    "    rast = np.array(ds.GetRasterBand(1).ReadAsArray(),dtype=float)\n",
    "\n",
    "    srs = ds.GetProjection() # get the projection of the input data set\n",
    "    transform = ds.GetGeoTransform() # get the limits and resolution of the input data set\n",
    "    \n",
    "    # generate lai map\n",
    "    lai = biomass2LAI(rast,sla,leaf_stem)\n",
    "    lai[lai==0] = 0.5 # if there is a blank cell, make it into grass with an LAI of 0.5 Blanken et al 2009\n",
    "    \n",
    "    # generate land cover type map\n",
    "    lc = rast.copy()\n",
    "    lc[lc==0] = 2 # tundra (grass)\n",
    "    lc[lc!=2] = 4 # forest (evergreen)\n",
    "    \n",
    "    # generate land use type map\n",
    "    lu = lc.copy()\n",
    "    lu[lu==2] = 11 # alpine\n",
    "    lu[lu==4] = 12 # subalpine\n",
    "    \n",
    "    m,n = np.shape(lai) # get the dimensions of the DEM\n",
    "    \n",
    "    # output lai maps\n",
    "    if outtiff:\n",
    "        output = gdal.GetDriverByName('GTiff').Create(outpath1,n,m,1,gdal.GDT_Float32) # open the output file\n",
    "        output.SetGeoTransform(transform) # set coordinates\n",
    "        output.SetProjection(srs) # set projection\n",
    "    \n",
    "        output.GetRasterBand(1).WriteArray(lai)\n",
    "        output = None # close dataset\n",
    "    \n",
    "    # output land cover type map\n",
    "    if outtiff:\n",
    "        output = gdal.GetDriverByName('GTiff').Create(outpath2,n,m,1,gdal.GDT_Int16) # open the output file\n",
    "        output.SetGeoTransform(transform) # set coordinates\n",
    "        output.SetProjection(srs) # set projection\n",
    "    \n",
    "        output.GetRasterBand(1).WriteArray(lc)\n",
    "        output = None # close dataset\n",
    "    \n",
    "    # output land use map\n",
    "    if outtiff:\n",
    "        output = gdal.GetDriverByName('GTiff').Create(outpath3,n,m,1,gdal.GDT_Int16) # open the output file\n",
    "        output.SetGeoTransform(transform) # set coordinates\n",
    "        output.SetProjection(srs) # set projection\n",
    "    \n",
    "        output.GetRasterBand(1).WriteArray(lu)\n",
    "        output = None # close dataset\n",
    "    "
   ]
  },
  {
   "cell_type": "code",
   "execution_count": 14,
   "metadata": {
    "collapsed": true
   },
   "outputs": [],
   "source": [
    "def run_laitiff(dat):\n",
    "    fl = dat.filename\n",
    "    \n",
    "    outpath1 = './data/RHESSys_scenarios/LANDIS_LAI_%s_%s_%s.tiff'%(dat.scenario,dat.run,dat.year)\n",
    "    outpath2 = './data/RHESSys_scenarios/LANDIS_landcover_%s_%s_%s.tiff'%(dat.scenario,dat.run,dat.year)\n",
    "    outpath3 = './data/RHESSys_scenarios/LANDIS_landuse_%s_%s_%s.tiff'%(dat.scenario,dat.run,dat.year)\n",
    "    \n",
    "    biomass2LAItiff(fl,sla,leaf_stem,outpath1,outpath2,outpath3,True)\n",
    "    \n",
    "    return None"
   ]
  },
  {
   "cell_type": "code",
   "execution_count": 15,
   "metadata": {
    "collapsed": false
   },
   "outputs": [
    {
     "data": {
      "text/plain": [
       "1     None\n",
       "3     None\n",
       "8     None\n",
       "13    None\n",
       "15    None\n",
       "20    None\n",
       "25    None\n",
       "27    None\n",
       "32    None\n",
       "37    None\n",
       "39    None\n",
       "44    None\n",
       "49    None\n",
       "51    None\n",
       "56    None\n",
       "61    None\n",
       "63    None\n",
       "68    None\n",
       "dtype: object"
      ]
     },
     "execution_count": 15,
     "metadata": {},
     "output_type": "execute_result"
    }
   ],
   "source": [
    "dat.apply(run_laitiff,axis=1)"
   ]
  },
  {
   "cell_type": "code",
   "execution_count": null,
   "metadata": {
    "collapsed": true
   },
   "outputs": [],
   "source": []
  }
 ],
 "metadata": {
  "kernelspec": {
   "display_name": "Python 2",
   "language": "python",
   "name": "python2"
  },
  "language_info": {
   "codemirror_mode": {
    "name": "ipython",
    "version": 2
   },
   "file_extension": ".py",
   "mimetype": "text/x-python",
   "name": "python",
   "nbconvert_exporter": "python",
   "pygments_lexer": "ipython2",
   "version": "2.7.12"
  }
 },
 "nbformat": 4,
 "nbformat_minor": 0
}
