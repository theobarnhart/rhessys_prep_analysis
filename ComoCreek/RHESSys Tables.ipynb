{
 "cells": [
  {
   "cell_type": "markdown",
   "metadata": {},
   "source": [
    "# Zones\n",
    "|Variable Name|Description|Units|\n",
    "|--------------|----------------------------|-----------| \n",
    "|zone_default_ID| Identifier used by zone objects to indicate their zone definition files|unique value for each default file \n",
    "|atm_trans_lapse_rate|Lapse rate of atmospheric transmissivity with elevation|\t1/metre \n",
    "|dewpoint_lapse_rate|Lapse rate of dewpoint with elevation|\tº C /metre\n",
    "|max_effective_lai |Maximum effective lai to be used with lai temperature adjustment| metres/metres\n",
    "|lapse_rate|Temperature lapse rate with elevation|º C /metre\n",
    "|pptmin| Minimum precipitation to intiate cloud cover|\tmetres\n",
    "|sea_level_clear_sky_trans|Sea level clear sky transmissivity|range (0 - 1)\n",
    "|temcf|Daylight average temperature coefficient| dimensionless (0.212 if sine from assumed)\n",
    "|trans_coeff1|Coefficients used in calculation of atm. transmissivity adjustment|dimensionless\n",
    "|trans_coeff2|Coefficients used in calculation of atm. transmissivity adjustment|dimensionless\n",
    "|wind|Wind speed|metres/s\n",
    "|max_snow_temp|Maximum temperature at which precip falls as snow|º C\n",
    "|min_rain_temp| Minimum temperature at which precip falls as rain|º C\n",
    "|ndep_NO3|Nitrogen depostion as NO3|kg m-2 yr-1\n",
    "|lapse_rate_tmin**|Minimum temperature lapse rate with elevation (defaults to lapse rate)|º C/meter\n",
    "|lapse_rate_tmax**|\tMaximum temperature lapse rate with elevation (defaults to lapse rate)|º C/meter\n",
    "** optional parameters - if not included then default value set in code is used"
   ]
  },
  {
   "cell_type": "code",
   "execution_count": null,
   "metadata": {
    "collapsed": true
   },
   "outputs": [],
   "source": []
  }
 ],
 "metadata": {
  "kernelspec": {
   "display_name": "Python 2",
   "language": "python",
   "name": "python2"
  },
  "language_info": {
   "codemirror_mode": {
    "name": "ipython",
    "version": 2
   },
   "file_extension": ".py",
   "mimetype": "text/x-python",
   "name": "python",
   "nbconvert_exporter": "python",
   "pygments_lexer": "ipython2",
   "version": "2.7.12"
  }
 },
 "nbformat": 4,
 "nbformat_minor": 0
}
