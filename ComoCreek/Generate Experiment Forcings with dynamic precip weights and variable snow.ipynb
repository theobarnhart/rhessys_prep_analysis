{
 "cells": [
  {
   "cell_type": "markdown",
   "metadata": {},
   "source": [
    "## Generate Experiment Climate Forcings Dynamically based on LAI\n",
    "\n",
    "Use the LANDIS LAI based precipitatioin weights surfaces to create the future precipitation grids for the model."
   ]
  },
  {
   "cell_type": "code",
   "execution_count": 1,
   "metadata": {
    "collapsed": false
   },
   "outputs": [],
   "source": [
    "import gdal\n",
    "import glob\n",
    "import ipyparallel as p"
   ]
  },
  {
   "cell_type": "code",
   "execution_count": 2,
   "metadata": {
    "collapsed": true
   },
   "outputs": [],
   "source": [
    "%%px\n",
    "import gdal"
   ]
  },
  {
   "cell_type": "code",
   "execution_count": 3,
   "metadata": {
    "collapsed": true
   },
   "outputs": [],
   "source": [
    "force = pd.read_pickle('./data/dynamic_precipitation.pcl')\n",
    "force['decade'] = (force.year-2000)/10."
   ]
  },
  {
   "cell_type": "code",
   "execution_count": 4,
   "metadata": {
    "collapsed": true
   },
   "outputs": [],
   "source": [
    "def t_force(decade):\n",
    "    return decade * 0.4\n",
    "\n",
    "def p_force(df):\n",
    "    c = 1\n",
    "    if df.track == 'PGW_LP':\n",
    "        c *= -1 # make less precip scenarios less\n",
    "    \n",
    "    return df.decade * 0.015 * c\n",
    "\n",
    "force['T'] = force.decade.map(t_force)\n",
    "force['P'] = force.apply(p_force,axis=1)\n",
    "force['name'] = np.NaN"
   ]
  },
  {
   "cell_type": "code",
   "execution_count": 5,
   "metadata": {
    "collapsed": true
   },
   "outputs": [],
   "source": [
    "def p_force_more(decade):\n",
    "    return decade * 0.015\n",
    "\n",
    "def p_force_less(decade):\n",
    "    return decade * -0.015"
   ]
  },
  {
   "cell_type": "markdown",
   "metadata": {},
   "source": [
    "## Combinations\n",
    "\n",
    "There are two combinations of forcings:\n",
    "\n",
    "- higher T and lower P\n",
    "- higher T and higher P\n",
    "\n",
    "There are three years to run the experiment over:\n",
    "\n",
    "- 2000 - no change in forcings\n",
    "- 2050 - 50% change in forcings\n",
    "- 2100 - 100% change in forcings\n",
    "\n",
    "There are three scenarios for each year and combination\n",
    "\n",
    "- 1,2,3 for PGW_MP\n",
    "- 1,2,5 for PGW_LP\n",
    "\n",
    "## Naming Conventions\n",
    "\n",
    "- CLC = current land cover\n",
    "- FLC = future land cover\n",
    "- CP = current precipitation\n",
    "- MP = future more precipitation\n",
    "- LP = future less precipitation\n",
    "- CT = current temperature\n",
    "- FT = future temperature"
   ]
  },
  {
   "cell_type": "code",
   "execution_count": 6,
   "metadata": {
    "collapsed": true
   },
   "outputs": [],
   "source": [
    "force.loc[force.year==2000,'name'] = 'CLC_CP_CT'\n",
    "\n",
    "force.loc[(force.year!=2000) & (force.track=='PGW_MP'),'name'] = 'FLC_MP_FT'\n",
    "force.loc[(force.year!=2000) & (force.track=='PGW_LP'),'name'] = 'FLC_LP_FT'"
   ]
  },
  {
   "cell_type": "raw",
   "metadata": {},
   "source": [
    "force.to_pickle('./data/experiment_forcing_params_dynamic_FLC_only.pcl')"
   ]
  },
  {
   "cell_type": "code",
   "execution_count": 7,
   "metadata": {
    "collapsed": false
   },
   "outputs": [
    {
     "data": {
      "text/plain": [
       "(66, 9)"
      ]
     },
     "execution_count": 7,
     "metadata": {},
     "output_type": "execute_result"
    }
   ],
   "source": [
    "force.shape"
   ]
  },
  {
   "cell_type": "code",
   "execution_count": 8,
   "metadata": {
    "collapsed": true
   },
   "outputs": [],
   "source": [
    "# add a few more scenarios for the control simulations\n",
    "############################\n",
    "# current land cover and less precip, no temp change\n",
    "# LP\n",
    "LP1 = pd.DataFrame()\n",
    "LP1['scenarios'] = [1,2,5]*2\n",
    "LP1['track'] = 'PGW_LP'\n",
    "LP1['year'] = 2000\n",
    "LP1['decade'] = [5,5,5,10,10,10]\n",
    "LP1['T'] = 0. # no temperature change\n",
    "LP1['P'] = LP1.decade.map(p_force_less)\n",
    "LP1['name'] = 'CLC_LP_CT'\n",
    "\n",
    "# MP\n",
    "MP1 = pd.DataFrame()\n",
    "MP1['scenarios'] = [1,2,3]*2\n",
    "MP1['track'] = 'PGW_MP'\n",
    "MP1['year'] = 2000\n",
    "MP1['decade'] = [5,5,5,10,10,10]\n",
    "MP1['T'] = 0. # no temperature change\n",
    "MP1['P'] = MP1.decade.map(p_force_less)\n",
    "MP1['name'] = 'CLC_LP_CT'\n",
    "\n",
    "# current land cover and more precip, no temp change\n",
    "# LP\n",
    "LP2 = pd.DataFrame()\n",
    "LP2['scenarios'] = [1,2,5]*2\n",
    "LP2['track'] = 'PGW_LP'\n",
    "LP2['year'] = 2000\n",
    "LP2['decade'] = [5,5,5,10,10,10]\n",
    "LP2['T'] = 0. # no temperature change\n",
    "LP2['P'] = LP2.decade.map(p_force_more)\n",
    "LP2['name'] = 'CLC_MP_CT'\n",
    "\n",
    "# MP\n",
    "MP2 = pd.DataFrame()\n",
    "MP2['scenarios'] = [1,2,3]*2\n",
    "MP2['track'] = 'PGW_MP'\n",
    "MP2['year'] = 2000\n",
    "MP2['decade'] = [5,5,5,10,10,10]\n",
    "MP2['T'] = 0. # no temperature change\n",
    "MP2['P'] = MP2.decade.map(p_force_more)\n",
    "MP2['name'] = 'CLC_MP_CT'\n",
    "\n",
    "# Current land cover, no precipitation change, increased temp\n",
    "# PGW1\n",
    "PGW1 = pd.DataFrame()\n",
    "PGW1['scenarios'] = [1,2,5]*2\n",
    "PGW1['track'] = 'PGW_LP'\n",
    "PGW1['year'] = 2000\n",
    "PGW1['decade'] = [5,5,5,10,10,10]\n",
    "PGW1['P'] = 0. # no precip change\n",
    "PGW1['T'] = PGW1.decade.map(t_force)\n",
    "PGW1['name'] = 'CLC_CP_FT'\n",
    "\n",
    "# PGW2 \n",
    "PGW2 = pd.DataFrame()\n",
    "PGW2['scenarios'] = [1,2,3]*2\n",
    "PGW2['track'] = 'PGW_MP'\n",
    "PGW2['year'] = 2000\n",
    "PGW2['decade'] = [5,5,5,10,10,10]\n",
    "PGW2['P'] = 0 # no precip change \n",
    "PGW2['T'] = PGW2.decade.map(t_force)\n",
    "PGW2['name'] = 'CLC_CP_FT'\n",
    "\n",
    "# current land cover, more precipitation, temperature change\n",
    "tmp1 = pd.DataFrame()\n",
    "tmp1['scenarios'] = [1,2,3]*2\n",
    "tmp1['track'] = 'PGW_MP'\n",
    "tmp1['year'] = 2000\n",
    "tmp1['decade'] = [5,5,5,10,10,10]\n",
    "tmp1['P'] = tmp1.decade.map(p_force_more)\n",
    "tmp1['T'] = tmp1.decade.map(t_force)\n",
    "tmp1['name'] = 'CLC_MP_FT'\n",
    "\n",
    "tmp2 = pd.DataFrame()\n",
    "tmp2['scenarios'] = [1,2,5]*2\n",
    "tmp2['track'] = 'PGW_LP'\n",
    "tmp2['year'] = 2000\n",
    "tmp2['decade'] = [5,5,5,10,10,10]\n",
    "tmp2['P'] = tmp1.decade.map(p_force_more)\n",
    "tmp2['T'] = tmp1.decade.map(t_force)\n",
    "tmp2['name'] = 'CLC_MP_FT'\n",
    "\n",
    "# current land cover, less precipitation, temperature change\n",
    "tmp3 = pd.DataFrame()\n",
    "tmp3['scenarios'] = [1,2,3]*2\n",
    "tmp3['track'] = 'PGW_MP'\n",
    "tmp3['year'] = 2000\n",
    "tmp3['decade'] = [5,5,5,10,10,10]\n",
    "tmp3['P'] = tmp3.decade.map(p_force_less)\n",
    "tmp3['T'] = tmp3.decade.map(t_force)\n",
    "tmp3['name'] = 'CLC_LP_FT'\n",
    "\n",
    "tmp4 = pd.DataFrame()\n",
    "tmp4['scenarios'] = [1,2,5]*2\n",
    "tmp4['track'] = 'PGW_LP'\n",
    "tmp4['year'] = 2000\n",
    "tmp4['decade'] = [5,5,5,10,10,10]\n",
    "tmp4['P'] = tmp4.decade.map(p_force_less)\n",
    "tmp4['T'] = tmp4.decade.map(t_force)\n",
    "tmp4['name'] = 'CLC_LP_FT'\n",
    "\n",
    "tmp = pd.concat([LP1,MP1,LP2,MP2,PGW1,PGW2,tmp1,tmp2,tmp3,tmp4])\n",
    "tmp['krumlai'] = np.NaN\n",
    "tmp['krumweight'] = np.NaN"
   ]
  },
  {
   "cell_type": "code",
   "execution_count": 9,
   "metadata": {
    "collapsed": false
   },
   "outputs": [
    {
     "data": {
      "text/plain": [
       "60"
      ]
     },
     "execution_count": 9,
     "metadata": {},
     "output_type": "execute_result"
    }
   ],
   "source": [
    "len(tmp)"
   ]
  },
  {
   "cell_type": "code",
   "execution_count": 10,
   "metadata": {
    "collapsed": true
   },
   "outputs": [],
   "source": [
    "force = pd.concat([force,tmp])"
   ]
  },
  {
   "cell_type": "code",
   "execution_count": 11,
   "metadata": {
    "collapsed": true
   },
   "outputs": [],
   "source": [
    "force.to_pickle('./data/experiment_forcing_params_dynamic.pcl')"
   ]
  },
  {
   "cell_type": "code",
   "execution_count": 12,
   "metadata": {
    "collapsed": false
   },
   "outputs": [
    {
     "data": {
      "text/plain": [
       "(126, 9)"
      ]
     },
     "execution_count": 12,
     "metadata": {},
     "output_type": "execute_result"
    }
   ],
   "source": [
    "force.shape"
   ]
  },
  {
   "cell_type": "code",
   "execution_count": 13,
   "metadata": {
    "collapsed": false
   },
   "outputs": [
    {
     "data": {
      "text/html": [
       "<div>\n",
       "<table border=\"1\" class=\"dataframe\">\n",
       "  <thead>\n",
       "    <tr style=\"text-align: right;\">\n",
       "      <th></th>\n",
       "      <th>P</th>\n",
       "      <th>T</th>\n",
       "      <th>decade</th>\n",
       "      <th>krumlai</th>\n",
       "      <th>krumweight</th>\n",
       "      <th>name</th>\n",
       "      <th>scenarios</th>\n",
       "      <th>track</th>\n",
       "      <th>year</th>\n",
       "    </tr>\n",
       "  </thead>\n",
       "  <tbody>\n",
       "    <tr>\n",
       "      <th>0</th>\n",
       "      <td>-0.000</td>\n",
       "      <td>0.0</td>\n",
       "      <td>0.0</td>\n",
       "      <td>2.736959</td>\n",
       "      <td>6.037752</td>\n",
       "      <td>CLC_CP_CT</td>\n",
       "      <td>1</td>\n",
       "      <td>PGW_LP</td>\n",
       "      <td>2000</td>\n",
       "    </tr>\n",
       "    <tr>\n",
       "      <th>1</th>\n",
       "      <td>-0.015</td>\n",
       "      <td>0.4</td>\n",
       "      <td>1.0</td>\n",
       "      <td>2.433178</td>\n",
       "      <td>5.131501</td>\n",
       "      <td>FLC_LP_FT</td>\n",
       "      <td>1</td>\n",
       "      <td>PGW_LP</td>\n",
       "      <td>2010</td>\n",
       "    </tr>\n",
       "    <tr>\n",
       "      <th>2</th>\n",
       "      <td>-0.030</td>\n",
       "      <td>0.8</td>\n",
       "      <td>2.0</td>\n",
       "      <td>2.352813</td>\n",
       "      <td>4.789137</td>\n",
       "      <td>FLC_LP_FT</td>\n",
       "      <td>1</td>\n",
       "      <td>PGW_LP</td>\n",
       "      <td>2020</td>\n",
       "    </tr>\n",
       "    <tr>\n",
       "      <th>3</th>\n",
       "      <td>-0.045</td>\n",
       "      <td>1.2</td>\n",
       "      <td>3.0</td>\n",
       "      <td>2.315622</td>\n",
       "      <td>5.047437</td>\n",
       "      <td>FLC_LP_FT</td>\n",
       "      <td>1</td>\n",
       "      <td>PGW_LP</td>\n",
       "      <td>2030</td>\n",
       "    </tr>\n",
       "    <tr>\n",
       "      <th>4</th>\n",
       "      <td>-0.060</td>\n",
       "      <td>1.6</td>\n",
       "      <td>4.0</td>\n",
       "      <td>2.184931</td>\n",
       "      <td>4.737545</td>\n",
       "      <td>FLC_LP_FT</td>\n",
       "      <td>1</td>\n",
       "      <td>PGW_LP</td>\n",
       "      <td>2040</td>\n",
       "    </tr>\n",
       "  </tbody>\n",
       "</table>\n",
       "</div>"
      ],
      "text/plain": [
       "       P    T  decade   krumlai  krumweight       name  scenarios   track  \\\n",
       "0 -0.000  0.0     0.0  2.736959    6.037752  CLC_CP_CT          1  PGW_LP   \n",
       "1 -0.015  0.4     1.0  2.433178    5.131501  FLC_LP_FT          1  PGW_LP   \n",
       "2 -0.030  0.8     2.0  2.352813    4.789137  FLC_LP_FT          1  PGW_LP   \n",
       "3 -0.045  1.2     3.0  2.315622    5.047437  FLC_LP_FT          1  PGW_LP   \n",
       "4 -0.060  1.6     4.0  2.184931    4.737545  FLC_LP_FT          1  PGW_LP   \n",
       "\n",
       "   year  \n",
       "0  2000  \n",
       "1  2010  \n",
       "2  2020  \n",
       "3  2030  \n",
       "4  2040  "
      ]
     },
     "execution_count": 13,
     "metadata": {},
     "output_type": "execute_result"
    }
   ],
   "source": [
    "force.head()"
   ]
  },
  {
   "cell_type": "code",
   "execution_count": 14,
   "metadata": {
    "collapsed": false
   },
   "outputs": [
    {
     "data": {
      "text/html": [
       "<div>\n",
       "<table border=\"1\" class=\"dataframe\">\n",
       "  <thead>\n",
       "    <tr style=\"text-align: right;\">\n",
       "      <th></th>\n",
       "      <th>P</th>\n",
       "      <th>T</th>\n",
       "      <th>decade</th>\n",
       "      <th>krumlai</th>\n",
       "      <th>krumweight</th>\n",
       "      <th>name</th>\n",
       "      <th>scenarios</th>\n",
       "      <th>track</th>\n",
       "      <th>year</th>\n",
       "    </tr>\n",
       "  </thead>\n",
       "  <tbody>\n",
       "    <tr>\n",
       "      <th>1</th>\n",
       "      <td>-0.075</td>\n",
       "      <td>2.0</td>\n",
       "      <td>5.0</td>\n",
       "      <td>NaN</td>\n",
       "      <td>NaN</td>\n",
       "      <td>CLC_LP_FT</td>\n",
       "      <td>2</td>\n",
       "      <td>PGW_LP</td>\n",
       "      <td>2000</td>\n",
       "    </tr>\n",
       "    <tr>\n",
       "      <th>2</th>\n",
       "      <td>-0.075</td>\n",
       "      <td>2.0</td>\n",
       "      <td>5.0</td>\n",
       "      <td>NaN</td>\n",
       "      <td>NaN</td>\n",
       "      <td>CLC_LP_FT</td>\n",
       "      <td>5</td>\n",
       "      <td>PGW_LP</td>\n",
       "      <td>2000</td>\n",
       "    </tr>\n",
       "    <tr>\n",
       "      <th>3</th>\n",
       "      <td>-0.150</td>\n",
       "      <td>4.0</td>\n",
       "      <td>10.0</td>\n",
       "      <td>NaN</td>\n",
       "      <td>NaN</td>\n",
       "      <td>CLC_LP_FT</td>\n",
       "      <td>1</td>\n",
       "      <td>PGW_LP</td>\n",
       "      <td>2000</td>\n",
       "    </tr>\n",
       "    <tr>\n",
       "      <th>4</th>\n",
       "      <td>-0.150</td>\n",
       "      <td>4.0</td>\n",
       "      <td>10.0</td>\n",
       "      <td>NaN</td>\n",
       "      <td>NaN</td>\n",
       "      <td>CLC_LP_FT</td>\n",
       "      <td>2</td>\n",
       "      <td>PGW_LP</td>\n",
       "      <td>2000</td>\n",
       "    </tr>\n",
       "    <tr>\n",
       "      <th>5</th>\n",
       "      <td>-0.150</td>\n",
       "      <td>4.0</td>\n",
       "      <td>10.0</td>\n",
       "      <td>NaN</td>\n",
       "      <td>NaN</td>\n",
       "      <td>CLC_LP_FT</td>\n",
       "      <td>5</td>\n",
       "      <td>PGW_LP</td>\n",
       "      <td>2000</td>\n",
       "    </tr>\n",
       "  </tbody>\n",
       "</table>\n",
       "</div>"
      ],
      "text/plain": [
       "       P    T  decade  krumlai  krumweight       name  scenarios   track  year\n",
       "1 -0.075  2.0     5.0      NaN         NaN  CLC_LP_FT          2  PGW_LP  2000\n",
       "2 -0.075  2.0     5.0      NaN         NaN  CLC_LP_FT          5  PGW_LP  2000\n",
       "3 -0.150  4.0    10.0      NaN         NaN  CLC_LP_FT          1  PGW_LP  2000\n",
       "4 -0.150  4.0    10.0      NaN         NaN  CLC_LP_FT          2  PGW_LP  2000\n",
       "5 -0.150  4.0    10.0      NaN         NaN  CLC_LP_FT          5  PGW_LP  2000"
      ]
     },
     "execution_count": 14,
     "metadata": {},
     "output_type": "execute_result"
    }
   ],
   "source": [
    "force.tail()"
   ]
  },
  {
   "cell_type": "code",
   "execution_count": 15,
   "metadata": {
    "collapsed": false
   },
   "outputs": [],
   "source": [
    "%%px\n",
    "# dates to produce gridded data between\n",
    "strt = '1990-10-01'\n",
    "nd = '2013-10-05'\n",
    "\n",
    "# dates to use the snow scaling map\n",
    "winter_strt = '10-01'\n",
    "winter_nd = '05-31'\n",
    "\n",
    "cellsize=60\n",
    "site_elev = 3018 # met station site elevation in m\n",
    "\n",
    "months = np.arange(1,13)\n",
    "temp = [-2.1,-3.3,-5.0,-6.5,-6.2,-5.6,-5.5,-5.6,-5.2,-5.0,-4.5,-2.5] # [degC/km]\n",
    "precip = [55.1,52.6,64.0,64.2,33.6,17.6,16.0,14.6,17.0,23.2,53.1,42.5] # [mm/km]\n",
    "\n",
    "lapse = pd.DataFrame({'month':months,'T':temp,'P':precip})\n",
    "lapse.index = lapse.month\n",
    "\n",
    "lapse.P /= (1000.*1000.) # [mm/km] > [m/m]\n",
    "lapse.T = lapse['T'].as_matrix()/1000. # [deg C/km] > [deg C/m]\n",
    "\n",
    "# load the met data\n",
    "c1 = pd.read_pickle('./data/c1_met_jennings_QAQC_corrP.pcl')[strt:nd]\n",
    "\n",
    "fl = '/RHESSys/Como/auxdata/gridmet_dem_%sm_crop.tiff'%cellsize\n",
    "ds = gdal.Open(fl)\n",
    "dem = np.array(ds.GetRasterBand(1).ReadAsArray())\n",
    "\n",
    "fl = '/RHESSys/Como/auxdata/gridmet_index_%sm_crop.tiff'%cellsize\n",
    "ds = gdal.Open(fl)\n",
    "idx = np.array(ds.GetRasterBand(1).ReadAsArray())\n",
    "\n",
    "l,k = dem.shape\n",
    "n = l*k\n",
    "\n",
    "# reshape the rasters all in the same way\n",
    "dem.shape = n\n",
    "idx.shape = n\n",
    "\n",
    "header = '%s\\n%s %s %s 1'%(n,c1.index[0].year,c1.index[0].month, c1.index[0].day)"
   ]
  },
  {
   "cell_type": "code",
   "execution_count": 24,
   "metadata": {
    "collapsed": true
   },
   "outputs": [],
   "source": [
    "def grid_data(deltaT,deltaP,track,scenario,Year):\n",
    "    \n",
    "    # load the met data\n",
    "    c1 = pd.read_pickle('./data/c1_met_jennings_QAQC_corrP.pcl')[strt:nd]\n",
    "    \n",
    "    # alter the forcings according to delta T and delta P\n",
    "    c1.Tmin += deltaT\n",
    "    c1.Tmax += deltaT\n",
    "    c1.P *= (1.+deltaP)\n",
    "    \n",
    "    # load the weights\n",
    "    scaled = np.load('./data/RHESSys_scenarios/LANDIS_Pweight_%s_%s_%s.npy'%(track,scenario,Year))\n",
    "    scaled.shape = n # reshape the weights\n",
    "    \n",
    "    out = pd.DataFrame(np.ndarray((len(c1)+2,n)))\n",
    "    out.iloc[0,:] = idx # add the index numbers to the data frame\n",
    "    out.iloc[1,:] = dem # add the dem values to the data frame\n",
    "\n",
    "    # make copies of the data frame for population\n",
    "    Tmax = out.copy()\n",
    "    Tmin = out.copy()\n",
    "    P = out.copy()\n",
    "\n",
    "    elev_diff = dem - site_elev\n",
    "    winter_strt_month = int(winter_strt.split('-')[0])\n",
    "    winter_strt_day = int(winter_strt.split('-')[1])\n",
    "    winter_nd_month = int(winter_nd.split('-')[0])\n",
    "    winter_nd_day = int(winter_nd.split('-')[1])\n",
    "\n",
    "    ct = 2 # start at 2 b/c the first 2 rows are full\n",
    "    for day in c1.index:\n",
    "\n",
    "        year = int(day.year)\n",
    "        month = day.month\n",
    "\n",
    "        # compute the start and end of the winter time period\n",
    "        winter_strt2 = pd.datetime(year,winter_strt_month,winter_strt_day)\n",
    "        winter_nd2 = pd.datetime(year,winter_nd_month,winter_nd_day)\n",
    "\n",
    "        tlapse = lapse.loc[lapse.month==month,'T'].as_matrix()[0] # pull out the temp. lapse rate\n",
    "        plapse = lapse.loc[lapse.month==month,'P'].as_matrix()[0] # pull out the precip. lapse rate    \n",
    "        #plapse = 0.000015 # static precip lapse rate m/m\n",
    "        \n",
    "        # compute the temperature of each cell\n",
    "        Tmax.iloc[ct,:] = c1.loc[day].Tmax + (tlapse*elev_diff)\n",
    "        Tmin.iloc[ct,:] = c1.loc[day].Tmin + (tlapse*elev_diff)\n",
    "        \n",
    "        # use the below scheme for years where there is no temperature change.\n",
    "        if deltaT == 0:\n",
    "            if (day>winter_nd2) & (day<winter_strt2) & (c1.loc[day].P > 0): # test if the day is during the summer\n",
    "                # distribute summer precip based on published lapse rates\n",
    "                P.iloc[ct,:] = c1.loc[day].P + (plapse*elev_diff)\n",
    "\n",
    "                #if c1.loc[day].P > 0:# ensure that there is actually precipitation\n",
    "            else: #f the day is during winter\n",
    "                # distribute winter precip based on the Jepsen reconstruction\n",
    "                P.iloc[ct,:] = c1.loc[day].P * scaled\n",
    "        else: # for future years:\n",
    "            # compute the proportion of snow and rain at each grid cell based on min and max temperatures as well as\n",
    "            # the minimum rain and maximum snow temperatures optimized in RHESSys.\n",
    "            minRain = -2.561700 # minimum rainfall temperature\n",
    "            maxSnow = 3.032986 # maximum snowfall temperature\n",
    "            \n",
    "            ## create a DataFrame\n",
    "            props = pd.DataFrame()\n",
    "            props['Tmin'] = Tmin.iloc[ct,:].as_matrix() # grab the min temp as array\n",
    "            props['Tmax'] = Tmax.iloc[ct,:].as_matrix() # grab the max temp as array\n",
    "            props['lapsedP'] = c1.loc[day].P + (plapse*elev_diff) # precipitation as all rain\n",
    "            props['scaledP'] = c1.loc[day].P * scaled # precipitation as all snow\n",
    "            props['snow'] = props.apply(compute_snowFallFraction,axis=1, minRain = minRain, maxSnow = maxSnow)\n",
    "            props['rain'] = 1. - props.snow # compute rain fraction\n",
    "            \n",
    "            props['P'] = props.apply(compute_weightedP,axis=1) # compute precip and the weighted average of lapsed and scaled P\n",
    "            \n",
    "            P.iloc[ct,:] = props.P.as_matrix() # insert P into the \n",
    "            \n",
    "            \n",
    "        ct+=1\n",
    "\n",
    "    # convert the data frames to numpy arrays\n",
    "    Tmax = Tmax.as_matrix()\n",
    "    Tmin = Tmin.as_matrix()\n",
    "    P = P.as_matrix()\n",
    "\n",
    "    P[P<0] = 0. # precip that is for some reason negative should be zeroed\n",
    "    \n",
    "    return Tmin,Tmax,P"
   ]
  },
  {
   "cell_type": "code",
   "execution_count": 25,
   "metadata": {
    "collapsed": true
   },
   "outputs": [],
   "source": [
    "%%px\n",
    "def compute_snowFallFraction(df,minRain = [], maxSnow = []):\n",
    "    '''RHESSys source code, Tague and Band 2004'''\n",
    "    Tmin = df.Tmin\n",
    "    Tmax = df.Tmax\n",
    "    Tavg = np.nanmean([Tmin,Tmax]) # compute average T\n",
    "    \n",
    "    rain = df.lapsedP # start with the idea that all the P is rain\n",
    "    \n",
    "    if Tavg < maxSnow:\n",
    "        if Tavg <= minRain:\n",
    "            snow = rain\n",
    "            rain = 0.    \n",
    "        else:\n",
    "            snow_rain_range = maxSnow - minRain\n",
    "            if snow_rain_range < 0.001:\n",
    "                print 'Limited Range'\n",
    "                snow = rain\n",
    "                rain = 0.\n",
    "            else:\n",
    "                snow = np.nanmin([(maxSnow - Tavg)*rain / snow_rain_range,rain])\n",
    "                rain = rain - snow\n",
    "        \n",
    "    else:\n",
    "        snow = 0.0\n",
    "            \n",
    "    totalP = snow + rain\n",
    "    propSnow = snow/totalP\n",
    "        \n",
    "    return propSnow # return the proportion of precip is rain"
   ]
  },
  {
   "cell_type": "code",
   "execution_count": 34,
   "metadata": {
    "collapsed": true
   },
   "outputs": [],
   "source": [
    "%%px\n",
    "def compute_weightedP(df):\n",
    "    #print df.snow\n",
    "    #print df.scaledP\n",
    "    #print df.rain\n",
    "    #print df.lapsedP\n",
    "    if (df.snow is None) | (df.scaledP is None) | (df.rain is None) | (df.lapsedP is None):\n",
    "        print 'Variable Missing!'\n",
    "        print df.snow.dtype()\n",
    "        print df.scaledP.dtype()\n",
    "        print df.rain.dtype()\n",
    "        print df.lapsedP.dtype()\n",
    "    \n",
    "    return (df.snow * df.scaledP) + (df.rain * df.lapsedP) # compute a weighted average"
   ]
  },
  {
   "cell_type": "code",
   "execution_count": 27,
   "metadata": {
    "collapsed": true
   },
   "outputs": [],
   "source": [
    "# define a function that runs the gridding function over the forcing data frame\n",
    "\n",
    "def gen_forcings(year,track,scenario,decade,name,deltaT,deltaP):\n",
    "    # extract things for naming\n",
    "    #year = int(df['year'])\n",
    "    year = int(year)\n",
    "    #track = df['track']\n",
    "    #scenario = df['scenarios']\n",
    "    #decade = int(df['decade'])\n",
    "    decade = int(decade)\n",
    "    #name = df['name']\n",
    "    \n",
    "    # extract perturbations\n",
    "    #deltaT = df['T']\n",
    "    #deltaP = df['P']\n",
    "    \n",
    "    # grid out the data\n",
    "    Tmin,Tmax,P = grid_data(deltaT,deltaP,track,scenario,year)\n",
    "    \n",
    "    # save the data\n",
    "    np.savetxt('/RHESSys/Como/clim/exp/grid%s_%s_%s_%s_%s_%s.tmax'%(cellsize,track,scenario,year,decade,name),Tmax,header=header,comments='',fmt='%3.2f')\n",
    "    np.savetxt('/RHESSys/Como/clim/exp/grid%s_%s_%s_%s_%s_%s.tmin'%(cellsize,track,scenario,year,decade,name),Tmin,header=header,comments='',fmt='%3.2f')\n",
    "    np.savetxt('/RHESSys/Como/clim/exp/grid%s_%s_%s_%s_%s_%s.rain'%(cellsize,track,scenario,year,decade,name),P,header=header,comments='',fmt='%3.6f')\n",
    "    \n",
    "    # generate the summary data\n",
    "    check_P = pd.DataFrame({'Tmax':np.mean(Tmax[2:,:],axis=1),'Tmin':np.mean(Tmin[2:,:],axis=1),\n",
    "                             'P':np.mean(P[2:,:],axis=1)},index = c1.index)\n",
    "    \n",
    "    # save the summary data\n",
    "    check_P.to_pickle('/RHESSys/Como/clim/exp/grid%s_%s_%s_%s_%s_%s.pcl'%(cellsize,track,scenario,year,decade,name))\n",
    "    \n",
    "    return None"
   ]
  },
  {
   "cell_type": "code",
   "execution_count": 28,
   "metadata": {
    "collapsed": false
   },
   "outputs": [
    {
     "data": {
      "text/plain": [
       "[0, 1, 2, 3, 4, 5, 6, 7]"
      ]
     },
     "execution_count": 28,
     "metadata": {},
     "output_type": "execute_result"
    }
   ],
   "source": [
    "c = p.Client()\n",
    "view = c.load_balanced_view()\n",
    "c.ids"
   ]
  },
  {
   "cell_type": "code",
   "execution_count": 29,
   "metadata": {
    "collapsed": false
   },
   "outputs": [],
   "source": [
    "#year,track,scenario,decade,name,deltaT,deltaP\n",
    "res = view.map(gen_forcings,force.year,force.track,force.scenarios,force.decade,force.name,force.T,force.P)"
   ]
  },
  {
   "cell_type": "code",
   "execution_count": 32,
   "metadata": {
    "collapsed": false
   },
   "outputs": [
    {
     "data": {
      "text/plain": [
       "True"
      ]
     },
     "execution_count": 32,
     "metadata": {},
     "output_type": "execute_result"
    }
   ],
   "source": [
    "res.ready()"
   ]
  },
  {
   "cell_type": "code",
   "execution_count": 33,
   "metadata": {
    "collapsed": false
   },
   "outputs": [
    {
     "ename": "CompositeError",
     "evalue": "one or more exceptions from call to method: gen_forcings\n[5:apply]: NameError: global name 'grid_data' is not defined\n[2:apply]: NameError: global name 'grid_data' is not defined\n[7:apply]: NameError: global name 'grid_data' is not defined\n[3:apply]: NameError: global name 'grid_data' is not defined\n.... 122 more exceptions ...",
     "output_type": "error",
     "traceback": [
      "[5:apply]: ",
      "No traceback available",
      "",
      "[2:apply]: ",
      "No traceback available",
      "",
      "[7:apply]: ",
      "No traceback available",
      "",
      "[3:apply]: ",
      "No traceback available",
      "",
      "... 122 more exceptions ..."
     ]
    }
   ],
   "source": [
    "res.result()"
   ]
  },
  {
   "cell_type": "code",
   "execution_count": 36,
   "metadata": {
    "collapsed": false
   },
   "outputs": [
    {
     "data": {
      "text/plain": [
       "True"
      ]
     },
     "execution_count": 36,
     "metadata": {},
     "output_type": "execute_result"
    }
   ],
   "source": [
    "res.ready()"
   ]
  },
  {
   "cell_type": "code",
   "execution_count": 30,
   "metadata": {
    "collapsed": false
   },
   "outputs": [
    {
     "data": {
      "text/html": [
       "<div>\n",
       "<table border=\"1\" class=\"dataframe\">\n",
       "  <thead>\n",
       "    <tr style=\"text-align: right;\">\n",
       "      <th></th>\n",
       "      <th>P</th>\n",
       "      <th>T</th>\n",
       "      <th>decade</th>\n",
       "      <th>krumlai</th>\n",
       "      <th>krumweight</th>\n",
       "      <th>name</th>\n",
       "      <th>scenarios</th>\n",
       "      <th>track</th>\n",
       "      <th>year</th>\n",
       "    </tr>\n",
       "  </thead>\n",
       "  <tbody>\n",
       "    <tr>\n",
       "      <th>0</th>\n",
       "      <td>-0.000</td>\n",
       "      <td>0.0</td>\n",
       "      <td>0.0</td>\n",
       "      <td>2.736959</td>\n",
       "      <td>6.037752</td>\n",
       "      <td>CLC_CP_CT</td>\n",
       "      <td>1</td>\n",
       "      <td>PGW_LP</td>\n",
       "      <td>2000</td>\n",
       "    </tr>\n",
       "    <tr>\n",
       "      <th>1</th>\n",
       "      <td>-0.015</td>\n",
       "      <td>0.4</td>\n",
       "      <td>1.0</td>\n",
       "      <td>2.433178</td>\n",
       "      <td>5.131501</td>\n",
       "      <td>FLC_LP_FT</td>\n",
       "      <td>1</td>\n",
       "      <td>PGW_LP</td>\n",
       "      <td>2010</td>\n",
       "    </tr>\n",
       "    <tr>\n",
       "      <th>2</th>\n",
       "      <td>-0.030</td>\n",
       "      <td>0.8</td>\n",
       "      <td>2.0</td>\n",
       "      <td>2.352813</td>\n",
       "      <td>4.789137</td>\n",
       "      <td>FLC_LP_FT</td>\n",
       "      <td>1</td>\n",
       "      <td>PGW_LP</td>\n",
       "      <td>2020</td>\n",
       "    </tr>\n",
       "    <tr>\n",
       "      <th>3</th>\n",
       "      <td>-0.045</td>\n",
       "      <td>1.2</td>\n",
       "      <td>3.0</td>\n",
       "      <td>2.315622</td>\n",
       "      <td>5.047437</td>\n",
       "      <td>FLC_LP_FT</td>\n",
       "      <td>1</td>\n",
       "      <td>PGW_LP</td>\n",
       "      <td>2030</td>\n",
       "    </tr>\n",
       "    <tr>\n",
       "      <th>4</th>\n",
       "      <td>-0.060</td>\n",
       "      <td>1.6</td>\n",
       "      <td>4.0</td>\n",
       "      <td>2.184931</td>\n",
       "      <td>4.737545</td>\n",
       "      <td>FLC_LP_FT</td>\n",
       "      <td>1</td>\n",
       "      <td>PGW_LP</td>\n",
       "      <td>2040</td>\n",
       "    </tr>\n",
       "  </tbody>\n",
       "</table>\n",
       "</div>"
      ],
      "text/plain": [
       "       P    T  decade   krumlai  krumweight       name  scenarios   track  \\\n",
       "0 -0.000  0.0     0.0  2.736959    6.037752  CLC_CP_CT          1  PGW_LP   \n",
       "1 -0.015  0.4     1.0  2.433178    5.131501  FLC_LP_FT          1  PGW_LP   \n",
       "2 -0.030  0.8     2.0  2.352813    4.789137  FLC_LP_FT          1  PGW_LP   \n",
       "3 -0.045  1.2     3.0  2.315622    5.047437  FLC_LP_FT          1  PGW_LP   \n",
       "4 -0.060  1.6     4.0  2.184931    4.737545  FLC_LP_FT          1  PGW_LP   \n",
       "\n",
       "   year  \n",
       "0  2000  \n",
       "1  2010  \n",
       "2  2020  \n",
       "3  2030  \n",
       "4  2040  "
      ]
     },
     "execution_count": 30,
     "metadata": {},
     "output_type": "execute_result"
    }
   ],
   "source": [
    "force.head()"
   ]
  },
  {
   "cell_type": "code",
   "execution_count": 24,
   "metadata": {
    "collapsed": false
   },
   "outputs": [
    {
     "data": {
      "text/plain": [
       "True"
      ]
     },
     "execution_count": 24,
     "metadata": {},
     "output_type": "execute_result"
    }
   ],
   "source": [
    "res.ready()"
   ]
  },
  {
   "cell_type": "code",
   "execution_count": 27,
   "metadata": {
    "collapsed": false
   },
   "outputs": [
    {
     "ename": "CompositeError",
     "evalue": "one or more exceptions from call to method: gen_forcings\n[3:apply]: TypeError: string indices must be integers, not str\n[7:apply]: TypeError: string indices must be integers, not str\n[5:apply]: TypeError: string indices must be integers, not str\n[0:apply]: TypeError: string indices must be integers, not str\n.... 122 more exceptions ...",
     "output_type": "error",
     "traceback": [
      "[3:apply]: ",
      "\u001b[0;31m\u001b[0m\u001b[0;31mTypeError\u001b[0mTraceback (most recent call last)\u001b[0;32m<string>\u001b[0m in \u001b[0;36m<module>\u001b[0;34m()\u001b[0m",
      "\u001b[0;32m<ipython-input-21-ce55c773862b>\u001b[0m in \u001b[0;36mgen_forcings\u001b[0;34m(df)\u001b[0m",
      "\u001b[0;31mTypeError\u001b[0m: string indices must be integers, not str",
      "",
      "[7:apply]: ",
      "\u001b[0;31m\u001b[0m\u001b[0;31mTypeError\u001b[0mTraceback (most recent call last)\u001b[0;32m<string>\u001b[0m in \u001b[0;36m<module>\u001b[0;34m()\u001b[0m",
      "\u001b[0;32m<ipython-input-21-ce55c773862b>\u001b[0m in \u001b[0;36mgen_forcings\u001b[0;34m(df)\u001b[0m",
      "\u001b[0;31mTypeError\u001b[0m: string indices must be integers, not str",
      "",
      "[5:apply]: ",
      "\u001b[0;31m\u001b[0m\u001b[0;31mTypeError\u001b[0mTraceback (most recent call last)\u001b[0;32m<string>\u001b[0m in \u001b[0;36m<module>\u001b[0;34m()\u001b[0m",
      "\u001b[0;32m<ipython-input-21-ce55c773862b>\u001b[0m in \u001b[0;36mgen_forcings\u001b[0;34m(df)\u001b[0m",
      "\u001b[0;31mTypeError\u001b[0m: string indices must be integers, not str",
      "",
      "[0:apply]: ",
      "\u001b[0;31m\u001b[0m\u001b[0;31mTypeError\u001b[0mTraceback (most recent call last)\u001b[0;32m<string>\u001b[0m in \u001b[0;36m<module>\u001b[0;34m()\u001b[0m",
      "\u001b[0;32m<ipython-input-21-ce55c773862b>\u001b[0m in \u001b[0;36mgen_forcings\u001b[0;34m(df)\u001b[0m",
      "\u001b[0;31mTypeError\u001b[0m: string indices must be integers, not str",
      "",
      "... 122 more exceptions ..."
     ]
    }
   ],
   "source": [
    "res.result()"
   ]
  },
  {
   "cell_type": "code",
   "execution_count": 77,
   "metadata": {
    "collapsed": true
   },
   "outputs": [
    {
     "ename": "KeyboardInterrupt",
     "evalue": "",
     "output_type": "error",
     "traceback": [
      "\u001b[0;31m---------------------------------------------------------------\u001b[0m",
      "\u001b[0;31mKeyboardInterrupt\u001b[0m             Traceback (most recent call last)",
      "\u001b[0;32m<ipython-input-77-789a8b66a431>\u001b[0m in \u001b[0;36m<module>\u001b[0;34m()\u001b[0m\n\u001b[0;32m----> 1\u001b[0;31m \u001b[0mforce\u001b[0m\u001b[0;34m.\u001b[0m\u001b[0mapply\u001b[0m\u001b[0;34m(\u001b[0m\u001b[0mgen_forcings\u001b[0m\u001b[0;34m,\u001b[0m\u001b[0maxis\u001b[0m\u001b[0;34m=\u001b[0m\u001b[0;36m1\u001b[0m\u001b[0;34m)\u001b[0m\u001b[0;34m\u001b[0m\u001b[0m\n\u001b[0m",
      "\u001b[0;32m/Users/barnhatb/anaconda/lib/python2.7/site-packages/pandas/core/frame.pyc\u001b[0m in \u001b[0;36mapply\u001b[0;34m(self, func, axis, broadcast, raw, reduce, args, **kwds)\u001b[0m\n\u001b[1;32m   4059\u001b[0m                     \u001b[0;32mif\u001b[0m \u001b[0mreduce\u001b[0m \u001b[0;32mis\u001b[0m \u001b[0mNone\u001b[0m\u001b[0;34m:\u001b[0m\u001b[0;34m\u001b[0m\u001b[0m\n\u001b[1;32m   4060\u001b[0m                         \u001b[0mreduce\u001b[0m \u001b[0;34m=\u001b[0m \u001b[0mTrue\u001b[0m\u001b[0;34m\u001b[0m\u001b[0m\n\u001b[0;32m-> 4061\u001b[0;31m                     \u001b[0;32mreturn\u001b[0m \u001b[0mself\u001b[0m\u001b[0;34m.\u001b[0m\u001b[0m_apply_standard\u001b[0m\u001b[0;34m(\u001b[0m\u001b[0mf\u001b[0m\u001b[0;34m,\u001b[0m \u001b[0maxis\u001b[0m\u001b[0;34m,\u001b[0m \u001b[0mreduce\u001b[0m\u001b[0;34m=\u001b[0m\u001b[0mreduce\u001b[0m\u001b[0;34m)\u001b[0m\u001b[0;34m\u001b[0m\u001b[0m\n\u001b[0m\u001b[1;32m   4062\u001b[0m             \u001b[0;32melse\u001b[0m\u001b[0;34m:\u001b[0m\u001b[0;34m\u001b[0m\u001b[0m\n\u001b[1;32m   4063\u001b[0m                 \u001b[0;32mreturn\u001b[0m \u001b[0mself\u001b[0m\u001b[0;34m.\u001b[0m\u001b[0m_apply_broadcast\u001b[0m\u001b[0;34m(\u001b[0m\u001b[0mf\u001b[0m\u001b[0;34m,\u001b[0m \u001b[0maxis\u001b[0m\u001b[0;34m)\u001b[0m\u001b[0;34m\u001b[0m\u001b[0m\n",
      "\u001b[0;32m/Users/barnhatb/anaconda/lib/python2.7/site-packages/pandas/core/frame.pyc\u001b[0m in \u001b[0;36m_apply_standard\u001b[0;34m(self, func, axis, ignore_failures, reduce)\u001b[0m\n\u001b[1;32m   4115\u001b[0m                     \u001b[0mlabels\u001b[0m \u001b[0;34m=\u001b[0m \u001b[0mself\u001b[0m\u001b[0;34m.\u001b[0m\u001b[0m_get_agg_axis\u001b[0m\u001b[0;34m(\u001b[0m\u001b[0maxis\u001b[0m\u001b[0;34m)\u001b[0m\u001b[0;34m\u001b[0m\u001b[0m\n\u001b[1;32m   4116\u001b[0m                     result = lib.reduce(values, func, axis=axis, dummy=dummy,\n\u001b[0;32m-> 4117\u001b[0;31m                                         labels=labels)\n\u001b[0m\u001b[1;32m   4118\u001b[0m                     \u001b[0;32mreturn\u001b[0m \u001b[0mSeries\u001b[0m\u001b[0;34m(\u001b[0m\u001b[0mresult\u001b[0m\u001b[0;34m,\u001b[0m \u001b[0mindex\u001b[0m\u001b[0;34m=\u001b[0m\u001b[0mlabels\u001b[0m\u001b[0;34m)\u001b[0m\u001b[0;34m\u001b[0m\u001b[0m\n\u001b[1;32m   4119\u001b[0m                 \u001b[0;32mexcept\u001b[0m \u001b[0mException\u001b[0m\u001b[0;34m:\u001b[0m\u001b[0;34m\u001b[0m\u001b[0m\n",
      "\u001b[0;32mpandas/src/reduce.pyx\u001b[0m in \u001b[0;36mpandas.lib.reduce (pandas/lib.c:43539)\u001b[0;34m()\u001b[0m\n",
      "\u001b[0;32mpandas/src/reduce.pyx\u001b[0m in \u001b[0;36mpandas.lib.Reducer.get_result (pandas/lib.c:33736)\u001b[0;34m()\u001b[0m\n",
      "\u001b[0;32m<ipython-input-75-ce55c773862b>\u001b[0m in \u001b[0;36mgen_forcings\u001b[0;34m(df)\u001b[0m\n\u001b[1;32m     14\u001b[0m \u001b[0;34m\u001b[0m\u001b[0m\n\u001b[1;32m     15\u001b[0m     \u001b[0;31m# grid out the data\u001b[0m\u001b[0;34m\u001b[0m\u001b[0;34m\u001b[0m\u001b[0m\n\u001b[0;32m---> 16\u001b[0;31m     \u001b[0mTmin\u001b[0m\u001b[0;34m,\u001b[0m\u001b[0mTmax\u001b[0m\u001b[0;34m,\u001b[0m\u001b[0mP\u001b[0m \u001b[0;34m=\u001b[0m \u001b[0mgrid_data\u001b[0m\u001b[0;34m(\u001b[0m\u001b[0mdeltaT\u001b[0m\u001b[0;34m,\u001b[0m\u001b[0mdeltaP\u001b[0m\u001b[0;34m,\u001b[0m\u001b[0mtrack\u001b[0m\u001b[0;34m,\u001b[0m\u001b[0mscenario\u001b[0m\u001b[0;34m,\u001b[0m\u001b[0myear\u001b[0m\u001b[0;34m)\u001b[0m\u001b[0;34m\u001b[0m\u001b[0m\n\u001b[0m\u001b[1;32m     17\u001b[0m \u001b[0;34m\u001b[0m\u001b[0m\n\u001b[1;32m     18\u001b[0m     \u001b[0;31m# save the data\u001b[0m\u001b[0;34m\u001b[0m\u001b[0;34m\u001b[0m\u001b[0m\n",
      "\u001b[0;32m<ipython-input-68-7f97f6add405>\u001b[0m in \u001b[0;36mgrid_data\u001b[0;34m(deltaT, deltaP, track, scenario, Year)\u001b[0m\n\u001b[1;32m     71\u001b[0m             \u001b[0mprops\u001b[0m\u001b[0;34m[\u001b[0m\u001b[0;34m'rain'\u001b[0m\u001b[0;34m]\u001b[0m \u001b[0;34m=\u001b[0m \u001b[0;36m1.\u001b[0m \u001b[0;34m-\u001b[0m \u001b[0mprops\u001b[0m\u001b[0;34m.\u001b[0m\u001b[0msnow\u001b[0m \u001b[0;31m# compute rain fraction\u001b[0m\u001b[0;34m\u001b[0m\u001b[0m\n\u001b[1;32m     72\u001b[0m \u001b[0;34m\u001b[0m\u001b[0m\n\u001b[0;32m---> 73\u001b[0;31m             \u001b[0mprops\u001b[0m\u001b[0;34m[\u001b[0m\u001b[0;34m'P'\u001b[0m\u001b[0;34m]\u001b[0m \u001b[0;34m=\u001b[0m \u001b[0mprops\u001b[0m\u001b[0;34m.\u001b[0m\u001b[0mapply\u001b[0m\u001b[0;34m(\u001b[0m\u001b[0mcompute_weightedP\u001b[0m\u001b[0;34m,\u001b[0m\u001b[0maxis\u001b[0m\u001b[0;34m=\u001b[0m\u001b[0;36m1\u001b[0m\u001b[0;34m)\u001b[0m \u001b[0;31m# compute precip and the weighted average of lapsed and scaled P\u001b[0m\u001b[0;34m\u001b[0m\u001b[0m\n\u001b[0m\u001b[1;32m     74\u001b[0m \u001b[0;34m\u001b[0m\u001b[0m\n\u001b[1;32m     75\u001b[0m             \u001b[0mP\u001b[0m\u001b[0;34m.\u001b[0m\u001b[0miloc\u001b[0m\u001b[0;34m[\u001b[0m\u001b[0mct\u001b[0m\u001b[0;34m,\u001b[0m\u001b[0;34m:\u001b[0m\u001b[0;34m]\u001b[0m \u001b[0;34m=\u001b[0m \u001b[0mprops\u001b[0m\u001b[0;34m.\u001b[0m\u001b[0mP\u001b[0m\u001b[0;34m.\u001b[0m\u001b[0mas_matrix\u001b[0m\u001b[0;34m(\u001b[0m\u001b[0;34m)\u001b[0m \u001b[0;31m# insert P into the\u001b[0m\u001b[0;34m\u001b[0m\u001b[0m\n",
      "\u001b[0;32m/Users/barnhatb/anaconda/lib/python2.7/site-packages/pandas/core/frame.pyc\u001b[0m in \u001b[0;36mapply\u001b[0;34m(self, func, axis, broadcast, raw, reduce, args, **kwds)\u001b[0m\n\u001b[1;32m   4059\u001b[0m                     \u001b[0;32mif\u001b[0m \u001b[0mreduce\u001b[0m \u001b[0;32mis\u001b[0m \u001b[0mNone\u001b[0m\u001b[0;34m:\u001b[0m\u001b[0;34m\u001b[0m\u001b[0m\n\u001b[1;32m   4060\u001b[0m                         \u001b[0mreduce\u001b[0m \u001b[0;34m=\u001b[0m \u001b[0mTrue\u001b[0m\u001b[0;34m\u001b[0m\u001b[0m\n\u001b[0;32m-> 4061\u001b[0;31m                     \u001b[0;32mreturn\u001b[0m \u001b[0mself\u001b[0m\u001b[0;34m.\u001b[0m\u001b[0m_apply_standard\u001b[0m\u001b[0;34m(\u001b[0m\u001b[0mf\u001b[0m\u001b[0;34m,\u001b[0m \u001b[0maxis\u001b[0m\u001b[0;34m,\u001b[0m \u001b[0mreduce\u001b[0m\u001b[0;34m=\u001b[0m\u001b[0mreduce\u001b[0m\u001b[0;34m)\u001b[0m\u001b[0;34m\u001b[0m\u001b[0m\n\u001b[0m\u001b[1;32m   4062\u001b[0m             \u001b[0;32melse\u001b[0m\u001b[0;34m:\u001b[0m\u001b[0;34m\u001b[0m\u001b[0m\n\u001b[1;32m   4063\u001b[0m                 \u001b[0;32mreturn\u001b[0m \u001b[0mself\u001b[0m\u001b[0;34m.\u001b[0m\u001b[0m_apply_broadcast\u001b[0m\u001b[0;34m(\u001b[0m\u001b[0mf\u001b[0m\u001b[0;34m,\u001b[0m \u001b[0maxis\u001b[0m\u001b[0;34m)\u001b[0m\u001b[0;34m\u001b[0m\u001b[0m\n",
      "\u001b[0;32m/Users/barnhatb/anaconda/lib/python2.7/site-packages/pandas/core/frame.pyc\u001b[0m in \u001b[0;36m_apply_standard\u001b[0;34m(self, func, axis, ignore_failures, reduce)\u001b[0m\n\u001b[1;32m   4115\u001b[0m                     \u001b[0mlabels\u001b[0m \u001b[0;34m=\u001b[0m \u001b[0mself\u001b[0m\u001b[0;34m.\u001b[0m\u001b[0m_get_agg_axis\u001b[0m\u001b[0;34m(\u001b[0m\u001b[0maxis\u001b[0m\u001b[0;34m)\u001b[0m\u001b[0;34m\u001b[0m\u001b[0m\n\u001b[1;32m   4116\u001b[0m                     result = lib.reduce(values, func, axis=axis, dummy=dummy,\n\u001b[0;32m-> 4117\u001b[0;31m                                         labels=labels)\n\u001b[0m\u001b[1;32m   4118\u001b[0m                     \u001b[0;32mreturn\u001b[0m \u001b[0mSeries\u001b[0m\u001b[0;34m(\u001b[0m\u001b[0mresult\u001b[0m\u001b[0;34m,\u001b[0m \u001b[0mindex\u001b[0m\u001b[0;34m=\u001b[0m\u001b[0mlabels\u001b[0m\u001b[0;34m)\u001b[0m\u001b[0;34m\u001b[0m\u001b[0m\n\u001b[1;32m   4119\u001b[0m                 \u001b[0;32mexcept\u001b[0m \u001b[0mException\u001b[0m\u001b[0;34m:\u001b[0m\u001b[0;34m\u001b[0m\u001b[0m\n",
      "\u001b[0;32mpandas/src/reduce.pyx\u001b[0m in \u001b[0;36mpandas.lib.reduce (pandas/lib.c:43539)\u001b[0;34m()\u001b[0m\n",
      "\u001b[0;32mpandas/src/reduce.pyx\u001b[0m in \u001b[0;36mpandas.lib.Reducer.get_result (pandas/lib.c:33736)\u001b[0;34m()\u001b[0m\n",
      "\u001b[0;32m<ipython-input-74-be5936c3e7bc>\u001b[0m in \u001b[0;36mcompute_weightedP\u001b[0;34m(df)\u001b[0m\n\u001b[1;32m      4\u001b[0m     \u001b[0;31m#print df.rain\u001b[0m\u001b[0;34m\u001b[0m\u001b[0;34m\u001b[0m\u001b[0m\n\u001b[1;32m      5\u001b[0m     \u001b[0;31m#print df.lapsedP\u001b[0m\u001b[0;34m\u001b[0m\u001b[0;34m\u001b[0m\u001b[0m\n\u001b[0;32m----> 6\u001b[0;31m     \u001b[0;32mif\u001b[0m \u001b[0;34m(\u001b[0m\u001b[0mdf\u001b[0m\u001b[0;34m.\u001b[0m\u001b[0msnow\u001b[0m \u001b[0;32mis\u001b[0m \u001b[0mNone\u001b[0m\u001b[0;34m)\u001b[0m \u001b[0;34m|\u001b[0m \u001b[0;34m(\u001b[0m\u001b[0mdf\u001b[0m\u001b[0;34m.\u001b[0m\u001b[0mscaledP\u001b[0m \u001b[0;32mis\u001b[0m \u001b[0mNone\u001b[0m\u001b[0;34m)\u001b[0m \u001b[0;34m|\u001b[0m \u001b[0;34m(\u001b[0m\u001b[0mdf\u001b[0m\u001b[0;34m.\u001b[0m\u001b[0mrain\u001b[0m \u001b[0;32mis\u001b[0m \u001b[0mNone\u001b[0m\u001b[0;34m)\u001b[0m \u001b[0;34m|\u001b[0m \u001b[0;34m(\u001b[0m\u001b[0mdf\u001b[0m\u001b[0;34m.\u001b[0m\u001b[0mlapsedP\u001b[0m \u001b[0;32mis\u001b[0m \u001b[0mNone\u001b[0m\u001b[0;34m)\u001b[0m\u001b[0;34m:\u001b[0m\u001b[0;34m\u001b[0m\u001b[0m\n\u001b[0m\u001b[1;32m      7\u001b[0m         \u001b[0;32mprint\u001b[0m \u001b[0;34m'Variable Missing!'\u001b[0m\u001b[0;34m\u001b[0m\u001b[0m\n\u001b[1;32m      8\u001b[0m         \u001b[0;32mprint\u001b[0m \u001b[0mdf\u001b[0m\u001b[0;34m.\u001b[0m\u001b[0msnow\u001b[0m\u001b[0;34m.\u001b[0m\u001b[0mdtype\u001b[0m\u001b[0;34m(\u001b[0m\u001b[0;34m)\u001b[0m\u001b[0;34m\u001b[0m\u001b[0m\n",
      "\u001b[0;32m/Users/barnhatb/anaconda/lib/python2.7/site-packages/pandas/core/generic.pyc\u001b[0m in \u001b[0;36m__getattr__\u001b[0;34m(self, name)\u001b[0m\n\u001b[1;32m   2669\u001b[0m         \u001b[0;32melse\u001b[0m\u001b[0;34m:\u001b[0m\u001b[0;34m\u001b[0m\u001b[0m\n\u001b[1;32m   2670\u001b[0m             \u001b[0;32mif\u001b[0m \u001b[0mname\u001b[0m \u001b[0;32min\u001b[0m \u001b[0mself\u001b[0m\u001b[0;34m.\u001b[0m\u001b[0m_info_axis\u001b[0m\u001b[0;34m:\u001b[0m\u001b[0;34m\u001b[0m\u001b[0m\n\u001b[0;32m-> 2671\u001b[0;31m                 \u001b[0;32mreturn\u001b[0m \u001b[0mself\u001b[0m\u001b[0;34m[\u001b[0m\u001b[0mname\u001b[0m\u001b[0;34m]\u001b[0m\u001b[0;34m\u001b[0m\u001b[0m\n\u001b[0m\u001b[1;32m   2672\u001b[0m             \u001b[0;32mreturn\u001b[0m \u001b[0mobject\u001b[0m\u001b[0;34m.\u001b[0m\u001b[0m__getattribute__\u001b[0m\u001b[0;34m(\u001b[0m\u001b[0mself\u001b[0m\u001b[0;34m,\u001b[0m \u001b[0mname\u001b[0m\u001b[0;34m)\u001b[0m\u001b[0;34m\u001b[0m\u001b[0m\n\u001b[1;32m   2673\u001b[0m \u001b[0;34m\u001b[0m\u001b[0m\n",
      "\u001b[0;32m/Users/barnhatb/anaconda/lib/python2.7/site-packages/pandas/core/series.pyc\u001b[0m in \u001b[0;36m__getitem__\u001b[0;34m(self, key)\u001b[0m\n\u001b[1;32m    581\u001b[0m         \u001b[0mkey\u001b[0m \u001b[0;34m=\u001b[0m \u001b[0mcom\u001b[0m\u001b[0;34m.\u001b[0m\u001b[0m_apply_if_callable\u001b[0m\u001b[0;34m(\u001b[0m\u001b[0mkey\u001b[0m\u001b[0;34m,\u001b[0m \u001b[0mself\u001b[0m\u001b[0;34m)\u001b[0m\u001b[0;34m\u001b[0m\u001b[0m\n\u001b[1;32m    582\u001b[0m         \u001b[0;32mtry\u001b[0m\u001b[0;34m:\u001b[0m\u001b[0;34m\u001b[0m\u001b[0m\n\u001b[0;32m--> 583\u001b[0;31m             \u001b[0mresult\u001b[0m \u001b[0;34m=\u001b[0m \u001b[0mself\u001b[0m\u001b[0;34m.\u001b[0m\u001b[0mindex\u001b[0m\u001b[0;34m.\u001b[0m\u001b[0mget_value\u001b[0m\u001b[0;34m(\u001b[0m\u001b[0mself\u001b[0m\u001b[0;34m,\u001b[0m \u001b[0mkey\u001b[0m\u001b[0;34m)\u001b[0m\u001b[0;34m\u001b[0m\u001b[0m\n\u001b[0m\u001b[1;32m    584\u001b[0m \u001b[0;34m\u001b[0m\u001b[0m\n\u001b[1;32m    585\u001b[0m             \u001b[0;32mif\u001b[0m \u001b[0;32mnot\u001b[0m \u001b[0mlib\u001b[0m\u001b[0;34m.\u001b[0m\u001b[0misscalar\u001b[0m\u001b[0;34m(\u001b[0m\u001b[0mresult\u001b[0m\u001b[0;34m)\u001b[0m\u001b[0;34m:\u001b[0m\u001b[0;34m\u001b[0m\u001b[0m\n",
      "\u001b[0;32m/Users/barnhatb/anaconda/lib/python2.7/site-packages/pandas/indexes/base.pyc\u001b[0m in \u001b[0;36mget_value\u001b[0;34m(self, series, key)\u001b[0m\n\u001b[1;32m   1978\u001b[0m         \u001b[0;32mtry\u001b[0m\u001b[0;34m:\u001b[0m\u001b[0;34m\u001b[0m\u001b[0m\n\u001b[1;32m   1979\u001b[0m             return self._engine.get_value(s, k,\n\u001b[0;32m-> 1980\u001b[0;31m                                           tz=getattr(series.dtype, 'tz', None))\n\u001b[0m\u001b[1;32m   1981\u001b[0m         \u001b[0;32mexcept\u001b[0m \u001b[0mKeyError\u001b[0m \u001b[0;32mas\u001b[0m \u001b[0me1\u001b[0m\u001b[0;34m:\u001b[0m\u001b[0;34m\u001b[0m\u001b[0m\n\u001b[1;32m   1982\u001b[0m             \u001b[0;32mif\u001b[0m \u001b[0mlen\u001b[0m\u001b[0;34m(\u001b[0m\u001b[0mself\u001b[0m\u001b[0;34m)\u001b[0m \u001b[0;34m>\u001b[0m \u001b[0;36m0\u001b[0m \u001b[0;32mand\u001b[0m \u001b[0mself\u001b[0m\u001b[0;34m.\u001b[0m\u001b[0minferred_type\u001b[0m \u001b[0;32min\u001b[0m \u001b[0;34m[\u001b[0m\u001b[0;34m'integer'\u001b[0m\u001b[0;34m,\u001b[0m \u001b[0;34m'boolean'\u001b[0m\u001b[0;34m]\u001b[0m\u001b[0;34m:\u001b[0m\u001b[0;34m\u001b[0m\u001b[0m\n",
      "\u001b[0;31mKeyboardInterrupt\u001b[0m: "
     ]
    }
   ],
   "source": [
    "force.apply(gen_forcings,axis=1)"
   ]
  },
  {
   "cell_type": "code",
   "execution_count": 30,
   "metadata": {
    "collapsed": true
   },
   "outputs": [],
   "source": [
    "tmp = 2"
   ]
  },
  {
   "cell_type": "code",
   "execution_count": 31,
   "metadata": {
    "collapsed": false
   },
   "outputs": [
    {
     "data": {
      "text/plain": [
       "2"
      ]
     },
     "execution_count": 31,
     "metadata": {},
     "output_type": "execute_result"
    }
   ],
   "source": [
    "tmp"
   ]
  },
  {
   "cell_type": "code",
   "execution_count": 18,
   "metadata": {
    "collapsed": false
   },
   "outputs": [],
   "source": [
    "# get all the summary files \n",
    "files = glob.glob('/RHESSys/Como/clim/exp/grid%s*.pcl'%(cellsize))"
   ]
  },
  {
   "cell_type": "code",
   "execution_count": 19,
   "metadata": {
    "collapsed": false
   },
   "outputs": [
    {
     "data": {
      "image/png": "[encoded data removed]",
      "text/plain": [
       "<matplotlib.figure.Figure at 0x114a90390>"
      ]
     },
     "metadata": {},
     "output_type": "display_data"
    }
   ],
   "source": [
    "fig = plt.figure(figsize=(15,10))\n",
    "ax1 = fig.add_subplot(211)\n",
    "ax2 = fig.add_subplot(212)\n",
    "\n",
    "for fl in files:\n",
    "    tmp = pd.read_pickle(fl)\n",
    "    ax1.plot(tmp.Tmin,'-g')\n",
    "    ax1.plot(tmp.Tmax,'-r')\n",
    "    \n",
    "    ax2.plot(tmp.P,'-b')\n"
   ]
  },
  {
   "cell_type": "code",
   "execution_count": null,
   "metadata": {
    "collapsed": true
   },
   "outputs": [],
   "source": []
  }
 ],
 "metadata": {
  "kernelspec": {
   "display_name": "Python 2",
   "language": "python",
   "name": "python2"
  },
  "language_info": {
   "codemirror_mode": {
    "name": "ipython",
    "version": 2
   },
   "file_extension": ".py",
   "mimetype": "text/x-python",
   "name": "python",
   "nbconvert_exporter": "python",
   "pygments_lexer": "ipython2",
   "version": "2.7.12"
  }
 },
 "nbformat": 4,
 "nbformat_minor": 0
}
