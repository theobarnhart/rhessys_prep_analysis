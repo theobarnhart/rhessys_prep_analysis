{
 "cells": [
  {
   "cell_type": "code",
   "execution_count": 87,
   "metadata": {
    "collapsed": true
   },
   "outputs": [],
   "source": [
    "import spotpy"
   ]
  },
  {
   "cell_type": "code",
   "execution_count": 88,
   "metadata": {
    "collapsed": true
   },
   "outputs": [],
   "source": [
    "class spotpy_setup(object):\n",
    "    def __init__(self,dim=30):\n",
    "        self.dim=dim\n",
    "        self.params = []\n",
    "        for i in range(self.dim):\n",
    "            self.params.append(spotpy.parameter.Uniform(str(i),-32.768,32.768))\n",
    "\n",
    "    def parameters(self):\n",
    "        return spotpy.parameter.generate(self.params)\n",
    "\n",
    "    def simulation(self, vector):\n",
    "        firstSum = 0.0\n",
    "        secondSum = 0.0\n",
    "        for c in vector:\n",
    "            firstSum += c**2.0\n",
    "            secondSum += np.cos(2.0*np.pi*c)\n",
    "            n = float(len(vector))\n",
    "        return [-20.0*np.exp(-0.2*np.sqrt(firstSum/n)) - np.exp(secondSum/n) + 20 + np.e]\n",
    "\n",
    "    def evaluation(self):\n",
    "        observations=[0]\n",
    "        return observations\n",
    "\n",
    "    def objectivefunction(self,simulation,evaluation):\n",
    "        objectivefunction= spotpy.objectivefunctions.nashsutcliff(evaluation,simulation)\n",
    "        return objectivefunction"
   ]
  },
  {
   "cell_type": "code",
   "execution_count": 89,
   "metadata": {
    "collapsed": true
   },
   "outputs": [],
   "source": [
    "spotpy_setup = spotpy_setup()"
   ]
  },
  {
   "cell_type": "code",
   "execution_count": 90,
   "metadata": {
    "collapsed": false
   },
   "outputs": [
    {
     "ename": "RuntimeError",
     "evalue": "Need at least two processes for parallelization",
     "output_type": "error",
     "traceback": [
      "\u001b[0;31m---------------------------------------------------------------------------\u001b[0m",
      "\u001b[0;31mRuntimeError\u001b[0m                              Traceback (most recent call last)",
      "\u001b[0;32m<ipython-input-90-7aa59d00e782>\u001b[0m in \u001b[0;36m<module>\u001b[0;34m()\u001b[0m\n\u001b[0;32m----> 1\u001b[0;31m \u001b[0msampler\u001b[0m\u001b[0;34m=\u001b[0m\u001b[0mspotpy\u001b[0m\u001b[0;34m.\u001b[0m\u001b[0malgorithms\u001b[0m\u001b[0;34m.\u001b[0m\u001b[0msceua\u001b[0m\u001b[0;34m(\u001b[0m\u001b[0mspotpy_setup\u001b[0m\u001b[0;34m,\u001b[0m\u001b[0mdbname\u001b[0m\u001b[0;34m=\u001b[0m\u001b[0;34m'ackleySCEUA'\u001b[0m\u001b[0;34m,\u001b[0m\u001b[0mdbformat\u001b[0m\u001b[0;34m=\u001b[0m\u001b[0;34m'csv'\u001b[0m\u001b[0;34m,\u001b[0m \u001b[0mparallel\u001b[0m\u001b[0;34m=\u001b[0m\u001b[0;34m'mpi'\u001b[0m\u001b[0;34m)\u001b[0m\u001b[0;34m\u001b[0m\u001b[0m\n\u001b[0m",
      "\u001b[0;32m/Users/barnhatb/anaconda/lib/python2.7/site-packages/spotpy/algorithms/sceua.pyc\u001b[0m in \u001b[0;36m__init__\u001b[0;34m(self, *args, **kwargs)\u001b[0m\n\u001b[1;32m     70\u001b[0m         \u001b[0;32mif\u001b[0m \u001b[0;34m'alt_objfun'\u001b[0m \u001b[0;32mnot\u001b[0m \u001b[0;32min\u001b[0m \u001b[0mkwargs\u001b[0m\u001b[0;34m:\u001b[0m\u001b[0;34m\u001b[0m\u001b[0m\n\u001b[1;32m     71\u001b[0m             \u001b[0mkwargs\u001b[0m\u001b[0;34m[\u001b[0m\u001b[0;34m'alt_objfun'\u001b[0m\u001b[0;34m]\u001b[0m \u001b[0;34m=\u001b[0m \u001b[0;34m'rmse'\u001b[0m\u001b[0;34m\u001b[0m\u001b[0m\n\u001b[0;32m---> 72\u001b[0;31m         \u001b[0msuper\u001b[0m\u001b[0;34m(\u001b[0m\u001b[0msceua\u001b[0m\u001b[0;34m,\u001b[0m \u001b[0mself\u001b[0m\u001b[0;34m)\u001b[0m\u001b[0;34m.\u001b[0m\u001b[0m__init__\u001b[0m\u001b[0;34m(\u001b[0m\u001b[0;34m*\u001b[0m\u001b[0margs\u001b[0m\u001b[0;34m,\u001b[0m \u001b[0;34m**\u001b[0m\u001b[0mkwargs\u001b[0m\u001b[0;34m)\u001b[0m\u001b[0;34m\u001b[0m\u001b[0m\n\u001b[0m\u001b[1;32m     73\u001b[0m \u001b[0;34m\u001b[0m\u001b[0m\n\u001b[1;32m     74\u001b[0m     \u001b[0;32mdef\u001b[0m \u001b[0mfind_min_max\u001b[0m\u001b[0;34m(\u001b[0m\u001b[0mself\u001b[0m\u001b[0;34m)\u001b[0m\u001b[0;34m:\u001b[0m\u001b[0;34m\u001b[0m\u001b[0m\n",
      "\u001b[0;32m/Users/barnhatb/anaconda/lib/python2.7/site-packages/spotpy/algorithms/_algorithm.pyc\u001b[0m in \u001b[0;36m__init__\u001b[0;34m(self, spot_setup, dbname, dbformat, dbinit, parallel, save_sim, alt_objfun)\u001b[0m\n\u001b[1;32m    129\u001b[0m         \u001b[0;31m# to other functions. This is introduced for sceua to differentiate between burn in and\u001b[0m\u001b[0;34m\u001b[0m\u001b[0;34m\u001b[0m\u001b[0m\n\u001b[1;32m    130\u001b[0m         \u001b[0;31m# the normal work on the chains\u001b[0m\u001b[0;34m\u001b[0m\u001b[0;34m\u001b[0m\u001b[0m\n\u001b[0;32m--> 131\u001b[0;31m         \u001b[0mself\u001b[0m\u001b[0;34m.\u001b[0m\u001b[0mrepeat\u001b[0m \u001b[0;34m=\u001b[0m \u001b[0mForEach\u001b[0m\u001b[0;34m(\u001b[0m\u001b[0mself\u001b[0m\u001b[0;34m.\u001b[0m\u001b[0msimulate\u001b[0m\u001b[0;34m)\u001b[0m\u001b[0;34m\u001b[0m\u001b[0m\n\u001b[0m\u001b[1;32m    132\u001b[0m \u001b[0;34m\u001b[0m\u001b[0m\n\u001b[1;32m    133\u001b[0m         \u001b[0;31m# In MPI, this command will do nothing on the master process\u001b[0m\u001b[0;34m\u001b[0m\u001b[0;34m\u001b[0m\u001b[0m\n",
      "\u001b[0;32m/Users/barnhatb/anaconda/lib/python2.7/site-packages/spotpy/parallel/mpi.pyc\u001b[0m in \u001b[0;36m__init__\u001b[0;34m(self, process)\u001b[0m\n\u001b[1;32m     42\u001b[0m         \u001b[0mself\u001b[0m\u001b[0;34m.\u001b[0m\u001b[0msize\u001b[0m \u001b[0;34m=\u001b[0m \u001b[0mself\u001b[0m\u001b[0;34m.\u001b[0m\u001b[0mcomm\u001b[0m\u001b[0;34m.\u001b[0m\u001b[0mGet_size\u001b[0m\u001b[0;34m(\u001b[0m\u001b[0;34m)\u001b[0m\u001b[0;34m\u001b[0m\u001b[0m\n\u001b[1;32m     43\u001b[0m         \u001b[0;32mif\u001b[0m \u001b[0mself\u001b[0m\u001b[0;34m.\u001b[0m\u001b[0msize\u001b[0m\u001b[0;34m<=\u001b[0m\u001b[0;36m1\u001b[0m\u001b[0;34m:\u001b[0m\u001b[0;34m\u001b[0m\u001b[0m\n\u001b[0;32m---> 44\u001b[0;31m             \u001b[0;32mraise\u001b[0m \u001b[0mRuntimeError\u001b[0m\u001b[0;34m(\u001b[0m\u001b[0;34m'Need at least two processes for parallelization'\u001b[0m\u001b[0;34m)\u001b[0m\u001b[0;34m\u001b[0m\u001b[0m\n\u001b[0m\u001b[1;32m     45\u001b[0m         \u001b[0mself\u001b[0m\u001b[0;34m.\u001b[0m\u001b[0mrank\u001b[0m \u001b[0;34m=\u001b[0m \u001b[0mself\u001b[0m\u001b[0;34m.\u001b[0m\u001b[0mcomm\u001b[0m\u001b[0;34m.\u001b[0m\u001b[0mGet_rank\u001b[0m\u001b[0;34m(\u001b[0m\u001b[0;34m)\u001b[0m\u001b[0;34m\u001b[0m\u001b[0m\n\u001b[1;32m     46\u001b[0m         \u001b[0mself\u001b[0m\u001b[0;34m.\u001b[0m\u001b[0mprocess\u001b[0m \u001b[0;34m=\u001b[0m \u001b[0mprocess\u001b[0m\u001b[0;34m\u001b[0m\u001b[0m\n",
      "\u001b[0;31mRuntimeError\u001b[0m: Need at least two processes for parallelization"
     ]
    }
   ],
   "source": [
    "sampler=spotpy.algorithms.sceua(spotpy_setup,dbname='ackleySCEUA',dbformat='csv', parallel='mpi')"
   ]
  },
  {
   "cell_type": "code",
   "execution_count": 85,
   "metadata": {
    "collapsed": false
   },
   "outputs": [
    {
     "name": "stdout",
     "output_type": "stream",
     "text": [
      "696 of 100000 (best like=-20.4098)\n",
      "5490 of 100000 (best like=-13.455)\n",
      "9150 of 100000 (best like=-8.08226)\n",
      "10980 of 100000 (best like=-5.37096)\n",
      "12810 of 100000 (best like=-3.66033)\n",
      "14640 of 100000 (best like=-2.7537)\n",
      "18300 of 100000 (best like=-1.3045)\n",
      "21960 of 100000 (best like=-0.424316)\n",
      "23790 of 100000 (best like=-0.197477)\n",
      "25620 of 100000 (best like=-0.0963908)\n",
      "29280 of 100000 (best like=-0.0356432)\n",
      "32940 of 100000 (best like=-0.00997182)\n",
      "34770 of 100000 (best like=-0.00719203)\n",
      "36600 of 100000 (best like=-0.00404025)\n",
      "38430 of 100000 (best like=-0.00228755)\n",
      "42090 of 100000 (best like=-0.000878528)\n",
      "45750 of 100000 (best like=-0.000267803)\n",
      "THE POPULATION HAS CONVERGED TO A PRESPECIFIED SMALL PARAMETER SPACE\n",
      "SEARCH WAS STOPPED AT TRIAL NUMBER: 45750\n",
      "NORMALIZED GEOMETRIC RANGE = 0.000581\n",
      "THE BEST POINT HAS IMPROVED IN LAST 1000 LOOPS BY 100000.000000\n",
      "Best parameter set\n",
      "[ -1.38823876e-04  -8.46624004e-05   1.58391560e-05   1.07128207e-04\n",
      "   7.91186210e-05  -2.63796667e-05  -3.17031739e-05   3.96844963e-06\n",
      "  -2.06411393e-05   1.12954628e-05   1.05902477e-04  -1.83174795e-06\n",
      "   5.92730371e-06   7.42182118e-05  -1.23129626e-04  -2.95099621e-05\n",
      "   2.15533522e-05   4.69824201e-05  -2.96408366e-05  -6.78643402e-05\n",
      "   4.98528841e-05   9.18239016e-05  -4.00904632e-05   2.26903606e-05\n",
      "   1.00273730e-04   3.83284326e-05  -8.56189522e-05  -6.73472051e-05\n",
      "   8.74410590e-06   1.00401344e-04]\n",
      "Duration:63.24 s\n"
     ]
    }
   ],
   "source": [
    "sampler.sample(100000,ngs=30,kstop=1000, pcento = 0.001, peps=0.001)"
   ]
  }
 ],
 "metadata": {
  "kernelspec": {
   "display_name": "Python 2",
   "language": "python",
   "name": "python2"
  },
  "language_info": {
   "codemirror_mode": {
    "name": "ipython",
    "version": 2
   },
   "file_extension": ".py",
   "mimetype": "text/x-python",
   "name": "python",
   "nbconvert_exporter": "python",
   "pygments_lexer": "ipython2",
   "version": "2.7.12"
  }
 },
 "nbformat": 4,
 "nbformat_minor": 0
}
