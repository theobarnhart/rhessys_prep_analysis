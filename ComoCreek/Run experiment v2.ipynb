{
 "cells": [
  {
   "cell_type": "code",
   "execution_count": 1,
   "metadata": {
    "collapsed": true
   },
   "outputs": [],
   "source": [
    "import subprocess\n",
    "import ProgressBar as pb\n",
    "import shutil\n",
    "import os"
   ]
  },
  {
   "cell_type": "markdown",
   "metadata": {},
   "source": [
    "### Script to run the future landcover and future forcings experiment\n",
    "\n",
    "- Loop through years: 2000, 2050, 2100\n",
    "- Loop through forcings: PGW_lessPrecip and PGW_morePrecip\n",
    "- Loop through the landcover scenarions pertinaint to each forcing class:\n",
    "    - PGW_lessPrecip: Scenarios 1,2,5\n",
    "    - PGW_morePrecip: Scenarios 1,2,3\n",
    "    \n",
    "Write a script such that the correct forcings are served to the correct model instances\n",
    "\n",
    "changes to be made: \n",
    "- lc w/o pgw and precip\n",
    "- "
   ]
  },
  {
   "cell_type": "raw",
   "metadata": {
    "collapsed": true
   },
   "source": [
    "MP_scenarios = [1,2,3]\n",
    "LP_scenarios = [1,2,5]"
   ]
  },
  {
   "cell_type": "code",
   "execution_count": 2,
   "metadata": {
    "collapsed": true
   },
   "outputs": [],
   "source": [
    "params = pd.read_pickle('./data/experiment_forcing_params_dynamic.pcl')\n",
    "params['idx'] = np.arange(1,len(params)+1)\n",
    "params.reset_index(inplace=True)"
   ]
  },
  {
   "cell_type": "code",
   "execution_count": 3,
   "metadata": {
    "collapsed": false
   },
   "outputs": [
    {
     "data": {
      "text/plain": [
       "(126, 11)"
      ]
     },
     "execution_count": 3,
     "metadata": {},
     "output_type": "execute_result"
    }
   ],
   "source": [
    "params.shape"
   ]
  },
  {
   "cell_type": "code",
   "execution_count": 4,
   "metadata": {
    "collapsed": false
   },
   "outputs": [
    {
     "data": {
      "text/html": [
       "<div>\n",
       "<table border=\"1\" class=\"dataframe\">\n",
       "  <thead>\n",
       "    <tr style=\"text-align: right;\">\n",
       "      <th></th>\n",
       "      <th>index</th>\n",
       "      <th>P</th>\n",
       "      <th>T</th>\n",
       "      <th>decade</th>\n",
       "      <th>krumlai</th>\n",
       "      <th>krumweight</th>\n",
       "      <th>name</th>\n",
       "      <th>scenarios</th>\n",
       "      <th>track</th>\n",
       "      <th>year</th>\n",
       "      <th>idx</th>\n",
       "    </tr>\n",
       "  </thead>\n",
       "  <tbody>\n",
       "    <tr>\n",
       "      <th>102</th>\n",
       "      <td>0</td>\n",
       "      <td>0.075</td>\n",
       "      <td>2.0</td>\n",
       "      <td>5.0</td>\n",
       "      <td>NaN</td>\n",
       "      <td>NaN</td>\n",
       "      <td>CLC_MP_FT</td>\n",
       "      <td>1</td>\n",
       "      <td>PGW_MP</td>\n",
       "      <td>2000</td>\n",
       "      <td>103</td>\n",
       "    </tr>\n",
       "    <tr>\n",
       "      <th>103</th>\n",
       "      <td>1</td>\n",
       "      <td>0.075</td>\n",
       "      <td>2.0</td>\n",
       "      <td>5.0</td>\n",
       "      <td>NaN</td>\n",
       "      <td>NaN</td>\n",
       "      <td>CLC_MP_FT</td>\n",
       "      <td>2</td>\n",
       "      <td>PGW_MP</td>\n",
       "      <td>2000</td>\n",
       "      <td>104</td>\n",
       "    </tr>\n",
       "    <tr>\n",
       "      <th>104</th>\n",
       "      <td>2</td>\n",
       "      <td>0.075</td>\n",
       "      <td>2.0</td>\n",
       "      <td>5.0</td>\n",
       "      <td>NaN</td>\n",
       "      <td>NaN</td>\n",
       "      <td>CLC_MP_FT</td>\n",
       "      <td>3</td>\n",
       "      <td>PGW_MP</td>\n",
       "      <td>2000</td>\n",
       "      <td>105</td>\n",
       "    </tr>\n",
       "    <tr>\n",
       "      <th>105</th>\n",
       "      <td>3</td>\n",
       "      <td>0.150</td>\n",
       "      <td>4.0</td>\n",
       "      <td>10.0</td>\n",
       "      <td>NaN</td>\n",
       "      <td>NaN</td>\n",
       "      <td>CLC_MP_FT</td>\n",
       "      <td>1</td>\n",
       "      <td>PGW_MP</td>\n",
       "      <td>2000</td>\n",
       "      <td>106</td>\n",
       "    </tr>\n",
       "    <tr>\n",
       "      <th>106</th>\n",
       "      <td>4</td>\n",
       "      <td>0.150</td>\n",
       "      <td>4.0</td>\n",
       "      <td>10.0</td>\n",
       "      <td>NaN</td>\n",
       "      <td>NaN</td>\n",
       "      <td>CLC_MP_FT</td>\n",
       "      <td>2</td>\n",
       "      <td>PGW_MP</td>\n",
       "      <td>2000</td>\n",
       "      <td>107</td>\n",
       "    </tr>\n",
       "    <tr>\n",
       "      <th>107</th>\n",
       "      <td>5</td>\n",
       "      <td>0.150</td>\n",
       "      <td>4.0</td>\n",
       "      <td>10.0</td>\n",
       "      <td>NaN</td>\n",
       "      <td>NaN</td>\n",
       "      <td>CLC_MP_FT</td>\n",
       "      <td>3</td>\n",
       "      <td>PGW_MP</td>\n",
       "      <td>2000</td>\n",
       "      <td>108</td>\n",
       "    </tr>\n",
       "    <tr>\n",
       "      <th>108</th>\n",
       "      <td>0</td>\n",
       "      <td>0.075</td>\n",
       "      <td>2.0</td>\n",
       "      <td>5.0</td>\n",
       "      <td>NaN</td>\n",
       "      <td>NaN</td>\n",
       "      <td>CLC_MP_FT</td>\n",
       "      <td>1</td>\n",
       "      <td>PGW_LP</td>\n",
       "      <td>2000</td>\n",
       "      <td>109</td>\n",
       "    </tr>\n",
       "    <tr>\n",
       "      <th>109</th>\n",
       "      <td>1</td>\n",
       "      <td>0.075</td>\n",
       "      <td>2.0</td>\n",
       "      <td>5.0</td>\n",
       "      <td>NaN</td>\n",
       "      <td>NaN</td>\n",
       "      <td>CLC_MP_FT</td>\n",
       "      <td>2</td>\n",
       "      <td>PGW_LP</td>\n",
       "      <td>2000</td>\n",
       "      <td>110</td>\n",
       "    </tr>\n",
       "    <tr>\n",
       "      <th>110</th>\n",
       "      <td>2</td>\n",
       "      <td>0.075</td>\n",
       "      <td>2.0</td>\n",
       "      <td>5.0</td>\n",
       "      <td>NaN</td>\n",
       "      <td>NaN</td>\n",
       "      <td>CLC_MP_FT</td>\n",
       "      <td>5</td>\n",
       "      <td>PGW_LP</td>\n",
       "      <td>2000</td>\n",
       "      <td>111</td>\n",
       "    </tr>\n",
       "    <tr>\n",
       "      <th>111</th>\n",
       "      <td>3</td>\n",
       "      <td>0.150</td>\n",
       "      <td>4.0</td>\n",
       "      <td>10.0</td>\n",
       "      <td>NaN</td>\n",
       "      <td>NaN</td>\n",
       "      <td>CLC_MP_FT</td>\n",
       "      <td>1</td>\n",
       "      <td>PGW_LP</td>\n",
       "      <td>2000</td>\n",
       "      <td>112</td>\n",
       "    </tr>\n",
       "    <tr>\n",
       "      <th>112</th>\n",
       "      <td>4</td>\n",
       "      <td>0.150</td>\n",
       "      <td>4.0</td>\n",
       "      <td>10.0</td>\n",
       "      <td>NaN</td>\n",
       "      <td>NaN</td>\n",
       "      <td>CLC_MP_FT</td>\n",
       "      <td>2</td>\n",
       "      <td>PGW_LP</td>\n",
       "      <td>2000</td>\n",
       "      <td>113</td>\n",
       "    </tr>\n",
       "    <tr>\n",
       "      <th>113</th>\n",
       "      <td>5</td>\n",
       "      <td>0.150</td>\n",
       "      <td>4.0</td>\n",
       "      <td>10.0</td>\n",
       "      <td>NaN</td>\n",
       "      <td>NaN</td>\n",
       "      <td>CLC_MP_FT</td>\n",
       "      <td>5</td>\n",
       "      <td>PGW_LP</td>\n",
       "      <td>2000</td>\n",
       "      <td>114</td>\n",
       "    </tr>\n",
       "    <tr>\n",
       "      <th>114</th>\n",
       "      <td>0</td>\n",
       "      <td>-0.075</td>\n",
       "      <td>2.0</td>\n",
       "      <td>5.0</td>\n",
       "      <td>NaN</td>\n",
       "      <td>NaN</td>\n",
       "      <td>CLC_LP_FT</td>\n",
       "      <td>1</td>\n",
       "      <td>PGW_MP</td>\n",
       "      <td>2000</td>\n",
       "      <td>115</td>\n",
       "    </tr>\n",
       "    <tr>\n",
       "      <th>115</th>\n",
       "      <td>1</td>\n",
       "      <td>-0.075</td>\n",
       "      <td>2.0</td>\n",
       "      <td>5.0</td>\n",
       "      <td>NaN</td>\n",
       "      <td>NaN</td>\n",
       "      <td>CLC_LP_FT</td>\n",
       "      <td>2</td>\n",
       "      <td>PGW_MP</td>\n",
       "      <td>2000</td>\n",
       "      <td>116</td>\n",
       "    </tr>\n",
       "    <tr>\n",
       "      <th>116</th>\n",
       "      <td>2</td>\n",
       "      <td>-0.075</td>\n",
       "      <td>2.0</td>\n",
       "      <td>5.0</td>\n",
       "      <td>NaN</td>\n",
       "      <td>NaN</td>\n",
       "      <td>CLC_LP_FT</td>\n",
       "      <td>3</td>\n",
       "      <td>PGW_MP</td>\n",
       "      <td>2000</td>\n",
       "      <td>117</td>\n",
       "    </tr>\n",
       "    <tr>\n",
       "      <th>117</th>\n",
       "      <td>3</td>\n",
       "      <td>-0.150</td>\n",
       "      <td>4.0</td>\n",
       "      <td>10.0</td>\n",
       "      <td>NaN</td>\n",
       "      <td>NaN</td>\n",
       "      <td>CLC_LP_FT</td>\n",
       "      <td>1</td>\n",
       "      <td>PGW_MP</td>\n",
       "      <td>2000</td>\n",
       "      <td>118</td>\n",
       "    </tr>\n",
       "    <tr>\n",
       "      <th>118</th>\n",
       "      <td>4</td>\n",
       "      <td>-0.150</td>\n",
       "      <td>4.0</td>\n",
       "      <td>10.0</td>\n",
       "      <td>NaN</td>\n",
       "      <td>NaN</td>\n",
       "      <td>CLC_LP_FT</td>\n",
       "      <td>2</td>\n",
       "      <td>PGW_MP</td>\n",
       "      <td>2000</td>\n",
       "      <td>119</td>\n",
       "    </tr>\n",
       "    <tr>\n",
       "      <th>119</th>\n",
       "      <td>5</td>\n",
       "      <td>-0.150</td>\n",
       "      <td>4.0</td>\n",
       "      <td>10.0</td>\n",
       "      <td>NaN</td>\n",
       "      <td>NaN</td>\n",
       "      <td>CLC_LP_FT</td>\n",
       "      <td>3</td>\n",
       "      <td>PGW_MP</td>\n",
       "      <td>2000</td>\n",
       "      <td>120</td>\n",
       "    </tr>\n",
       "    <tr>\n",
       "      <th>120</th>\n",
       "      <td>0</td>\n",
       "      <td>-0.075</td>\n",
       "      <td>2.0</td>\n",
       "      <td>5.0</td>\n",
       "      <td>NaN</td>\n",
       "      <td>NaN</td>\n",
       "      <td>CLC_LP_FT</td>\n",
       "      <td>1</td>\n",
       "      <td>PGW_LP</td>\n",
       "      <td>2000</td>\n",
       "      <td>121</td>\n",
       "    </tr>\n",
       "    <tr>\n",
       "      <th>121</th>\n",
       "      <td>1</td>\n",
       "      <td>-0.075</td>\n",
       "      <td>2.0</td>\n",
       "      <td>5.0</td>\n",
       "      <td>NaN</td>\n",
       "      <td>NaN</td>\n",
       "      <td>CLC_LP_FT</td>\n",
       "      <td>2</td>\n",
       "      <td>PGW_LP</td>\n",
       "      <td>2000</td>\n",
       "      <td>122</td>\n",
       "    </tr>\n",
       "    <tr>\n",
       "      <th>122</th>\n",
       "      <td>2</td>\n",
       "      <td>-0.075</td>\n",
       "      <td>2.0</td>\n",
       "      <td>5.0</td>\n",
       "      <td>NaN</td>\n",
       "      <td>NaN</td>\n",
       "      <td>CLC_LP_FT</td>\n",
       "      <td>5</td>\n",
       "      <td>PGW_LP</td>\n",
       "      <td>2000</td>\n",
       "      <td>123</td>\n",
       "    </tr>\n",
       "    <tr>\n",
       "      <th>123</th>\n",
       "      <td>3</td>\n",
       "      <td>-0.150</td>\n",
       "      <td>4.0</td>\n",
       "      <td>10.0</td>\n",
       "      <td>NaN</td>\n",
       "      <td>NaN</td>\n",
       "      <td>CLC_LP_FT</td>\n",
       "      <td>1</td>\n",
       "      <td>PGW_LP</td>\n",
       "      <td>2000</td>\n",
       "      <td>124</td>\n",
       "    </tr>\n",
       "    <tr>\n",
       "      <th>124</th>\n",
       "      <td>4</td>\n",
       "      <td>-0.150</td>\n",
       "      <td>4.0</td>\n",
       "      <td>10.0</td>\n",
       "      <td>NaN</td>\n",
       "      <td>NaN</td>\n",
       "      <td>CLC_LP_FT</td>\n",
       "      <td>2</td>\n",
       "      <td>PGW_LP</td>\n",
       "      <td>2000</td>\n",
       "      <td>125</td>\n",
       "    </tr>\n",
       "    <tr>\n",
       "      <th>125</th>\n",
       "      <td>5</td>\n",
       "      <td>-0.150</td>\n",
       "      <td>4.0</td>\n",
       "      <td>10.0</td>\n",
       "      <td>NaN</td>\n",
       "      <td>NaN</td>\n",
       "      <td>CLC_LP_FT</td>\n",
       "      <td>5</td>\n",
       "      <td>PGW_LP</td>\n",
       "      <td>2000</td>\n",
       "      <td>126</td>\n",
       "    </tr>\n",
       "  </tbody>\n",
       "</table>\n",
       "</div>"
      ],
      "text/plain": [
       "     index      P    T  decade  krumlai  krumweight       name  scenarios  \\\n",
       "102      0  0.075  2.0     5.0      NaN         NaN  CLC_MP_FT          1   \n",
       "103      1  0.075  2.0     5.0      NaN         NaN  CLC_MP_FT          2   \n",
       "104      2  0.075  2.0     5.0      NaN         NaN  CLC_MP_FT          3   \n",
       "105      3  0.150  4.0    10.0      NaN         NaN  CLC_MP_FT          1   \n",
       "106      4  0.150  4.0    10.0      NaN         NaN  CLC_MP_FT          2   \n",
       "107      5  0.150  4.0    10.0      NaN         NaN  CLC_MP_FT          3   \n",
       "108      0  0.075  2.0     5.0      NaN         NaN  CLC_MP_FT          1   \n",
       "109      1  0.075  2.0     5.0      NaN         NaN  CLC_MP_FT          2   \n",
       "110      2  0.075  2.0     5.0      NaN         NaN  CLC_MP_FT          5   \n",
       "111      3  0.150  4.0    10.0      NaN         NaN  CLC_MP_FT          1   \n",
       "112      4  0.150  4.0    10.0      NaN         NaN  CLC_MP_FT          2   \n",
       "113      5  0.150  4.0    10.0      NaN         NaN  CLC_MP_FT          5   \n",
       "114      0 -0.075  2.0     5.0      NaN         NaN  CLC_LP_FT          1   \n",
       "115      1 -0.075  2.0     5.0      NaN         NaN  CLC_LP_FT          2   \n",
       "116      2 -0.075  2.0     5.0      NaN         NaN  CLC_LP_FT          3   \n",
       "117      3 -0.150  4.0    10.0      NaN         NaN  CLC_LP_FT          1   \n",
       "118      4 -0.150  4.0    10.0      NaN         NaN  CLC_LP_FT          2   \n",
       "119      5 -0.150  4.0    10.0      NaN         NaN  CLC_LP_FT          3   \n",
       "120      0 -0.075  2.0     5.0      NaN         NaN  CLC_LP_FT          1   \n",
       "121      1 -0.075  2.0     5.0      NaN         NaN  CLC_LP_FT          2   \n",
       "122      2 -0.075  2.0     5.0      NaN         NaN  CLC_LP_FT          5   \n",
       "123      3 -0.150  4.0    10.0      NaN         NaN  CLC_LP_FT          1   \n",
       "124      4 -0.150  4.0    10.0      NaN         NaN  CLC_LP_FT          2   \n",
       "125      5 -0.150  4.0    10.0      NaN         NaN  CLC_LP_FT          5   \n",
       "\n",
       "      track  year  idx  \n",
       "102  PGW_MP  2000  103  \n",
       "103  PGW_MP  2000  104  \n",
       "104  PGW_MP  2000  105  \n",
       "105  PGW_MP  2000  106  \n",
       "106  PGW_MP  2000  107  \n",
       "107  PGW_MP  2000  108  \n",
       "108  PGW_LP  2000  109  \n",
       "109  PGW_LP  2000  110  \n",
       "110  PGW_LP  2000  111  \n",
       "111  PGW_LP  2000  112  \n",
       "112  PGW_LP  2000  113  \n",
       "113  PGW_LP  2000  114  \n",
       "114  PGW_MP  2000  115  \n",
       "115  PGW_MP  2000  116  \n",
       "116  PGW_MP  2000  117  \n",
       "117  PGW_MP  2000  118  \n",
       "118  PGW_MP  2000  119  \n",
       "119  PGW_MP  2000  120  \n",
       "120  PGW_LP  2000  121  \n",
       "121  PGW_LP  2000  122  \n",
       "122  PGW_LP  2000  123  \n",
       "123  PGW_LP  2000  124  \n",
       "124  PGW_LP  2000  125  \n",
       "125  PGW_LP  2000  126  "
      ]
     },
     "execution_count": 4,
     "metadata": {},
     "output_type": "execute_result"
    }
   ],
   "source": [
    "params.tail(24)"
   ]
  },
  {
   "cell_type": "code",
   "execution_count": 5,
   "metadata": {
    "collapsed": true
   },
   "outputs": [],
   "source": [
    "# contract the params to only run the last 12 simulations\n",
    "#params = params.tail(24)"
   ]
  },
  {
   "cell_type": "code",
   "execution_count": 6,
   "metadata": {
    "collapsed": false
   },
   "outputs": [
    {
     "data": {
      "text/plain": [
       "(126, 11)"
      ]
     },
     "execution_count": 6,
     "metadata": {},
     "output_type": "execute_result"
    }
   ],
   "source": [
    "params.shape"
   ]
  },
  {
   "cell_type": "code",
   "execution_count": 7,
   "metadata": {
    "collapsed": false
   },
   "outputs": [
    {
     "data": {
      "text/plain": [
       "[0, 1, 2, 3, 4, 5, 6, 7]"
      ]
     },
     "execution_count": 7,
     "metadata": {},
     "output_type": "execute_result"
    }
   ],
   "source": [
    "# set up the parallel environemnt\n",
    "import ipyparallel as p\n",
    "\n",
    "c = p.Client()\n",
    "view = c.load_balanced_view()\n",
    "c.ids"
   ]
  },
  {
   "cell_type": "code",
   "execution_count": 8,
   "metadata": {
    "collapsed": false
   },
   "outputs": [],
   "source": [
    "%%px\n",
    "import subprocess\n",
    "import shutil\n",
    "import os"
   ]
  },
  {
   "cell_type": "code",
   "execution_count": 9,
   "metadata": {
    "collapsed": true
   },
   "outputs": [],
   "source": [
    "# set calibrated parameters from opt 23 run 180\n",
    "#gw1 = 0.348374\n",
    "#gw2 = 0.701333\n",
    "#m = 17.758708\n",
    "#ksat = 214.275801\n",
    "#pa = 26.750008\n",
    "#po = 9.758069\n",
    "\n",
    "# from opt 23 389\n",
    "#gw1 = 0.277932\n",
    "#gw2 = 0.371005\n",
    "#m = 5.687163\n",
    "#ksat = 32.976835\n",
    "#pa = 17.179477\n",
    "#po = 13.027247\n",
    "\n",
    "# from opt 26 1187 - changed the experiment worldfile to the correct soil file!\n",
    "#gw1 = 0.244624\n",
    "#gw2 = 0.997174\n",
    "#m = 13.936816\n",
    "#ksat = 502.160744\n",
    "#pa = 746.478663\n",
    "#po = 12.591981\n",
    "\n",
    "#crd = 11.877791 \n",
    "#trd = 3.711013"
   ]
  },
  {
   "cell_type": "code",
   "execution_count": 20,
   "metadata": {
    "collapsed": true
   },
   "outputs": [],
   "source": [
    "def run_exp(idx,year,track,scen,dec,name):\n",
    "    '''\n",
    "    Inputs:\n",
    "    idx - simulation indexer\n",
    "    year - simulation year\n",
    "    track - simulation track\n",
    "    scen - simulation scenario\n",
    "    dec - simulation decade\n",
    "    name - experiment designator \n",
    "    \n",
    "    Outputs:\n",
    "    idx - simulation indexer\n",
    "    ouput - RHESSys commandline output\n",
    "    \n",
    "    works with worldfles that look like:\n",
    "    \n",
    "    PGW_LP_R1_2000.world.lai where:\n",
    "    \n",
    "    PGW_LP == simulation track\n",
    "    R1 == simulation scenario \n",
    "    2000 == simulation year\n",
    "    \n",
    "    works with climate files that look like:\n",
    "    \n",
    "    grid60_PGW_LP_1_2000_10_CLC_MP_CT where:\n",
    "    \n",
    "    grid60 == meteorology grid cell size\n",
    "    PGW_LP == simulation track \n",
    "    1 == simulation scenario\n",
    "    2000 == simulation year\n",
    "    10 == simulation decade\n",
    "    CLC_MP_CT == experiment designator (i.e. Current Land Cover, More Precipitation, Current Temperature)\n",
    "    '''\n",
    "    print idx\n",
    "    print year\n",
    "    print track\n",
    "    print scen\n",
    "    print dec\n",
    "    print name\n",
    "    \n",
    "    # set start and end dates\n",
    "    strt = '1990 10 1 1'\n",
    "    nd = '2013 10 5 1' # 2013 10 5 1 # use long date for real experiment, short date for\n",
    "    # extracting effective precipitation\n",
    "    \n",
    "    # from opt 40 1364\n",
    "    gw1 = 0.431707\n",
    "    gw2 = 0.168340\n",
    "    m = 24.052533\n",
    "    ksat = 122.731664\n",
    "    pa = 804.935265\n",
    "    po = 3.570694\n",
    "    minrain = -2.561700\n",
    "    maxsnow = 3.032986\n",
    "    msed = -78.335363\n",
    "    smtc = 0.176698\n",
    "    crd = 0.577681 # these are in the worldfile\n",
    "    trd = 0.033624 # these are in the worldfile\n",
    "    sd = 0.601265\n",
    "    a = 0.115062\n",
    "    b = 20.12204\n",
    "    c = 0.623436\n",
    "    maxflow = 20\n",
    "    \n",
    "    # make a temporary directory for the worldfile header and the climate basestation\n",
    "    newdir = '/RHESSys/Como/tmp/%s'%(idx)\n",
    "    if not os.path.exists(newdir):\n",
    "        os.makedirs(newdir)\n",
    "    #subprocess.call('mkdir /RHESSys/Como/tmp/%s'%(idx),shell=True)\n",
    "    #subprocess.call('cp /RHESSys/Como/clim/exp/grid60_exp_base /RHESSys/Como/tmp/%s/'%(idx),shell=True)\n",
    "    #subprocess.call('cp /RHESSys/Como/worldfiles/exp/world.como.grid60_exp.hdr /RHESSys/Como/tmp/%s/'%(idx),shell=True)\n",
    "    \n",
    "    # change and move the climate basestation\n",
    "    climprefix = '/RHESSys/Como/clim/exp/grid60_%s_%s_%i_%i_%s'%(track,scen,year,dec,name) #climate prefix for the run\n",
    "    awk = '/RHESSys/Como/scripts/change_daily_clim.awk'\n",
    "    basein = '/RHESSys/Como/clim/exp/grid60_exp_base'\n",
    "    baseout = '/RHESSys/Como/tmp/%s/grid60_exp_basestation'%(idx) # put the basestation file in the new folder\n",
    "    cmd = 'awk -f %s < %s par=%s > %s'%(awk,basein,climprefix,baseout)\n",
    "    subprocess.call(cmd,shell=True)\n",
    "    print 'climate basestation edited'\n",
    "    \n",
    "    # change the header to point to the correct basestation file\n",
    "    climpath = '/RHESSys/Como/tmp/%s/grid60_exp_basestation'%(idx)\n",
    "    awk = '/RHESSys/Como/scripts/change_header_clim.awk'\n",
    "    hdrin = '/RHESSys/Como/worldfiles/exp/world.como.grid60_exp.hdr'\n",
    "    hdrout = '/RHESSys/Como/tmp/%s/world.como.grid60_exp.hdr'%(idx) # put the header in the new folder\n",
    "    cmd = 'awk -f %s < %s par=%s > %s'%(awk,hdrin,climpath,hdrout)\n",
    "    subprocess.call(cmd,shell=True)\n",
    "    print 'header file edited'\n",
    "    \n",
    "    # select the correct worldfile\n",
    "    w = '/RHESSys/Como/worldfiles/exp/%s_R%s_%s.world.lai'%(track,scen,year)\n",
    "    print w\n",
    "    out = '/RHESSys/Como/out/exp/%s_%s_%i_%i_%s_%i'%(track,scen,year,dec,name,idx) # for local output\n",
    "    #out = '/Volumes/hydroData/Theo/RHESSys/out/exp/%s_%s_%i_%i_%s_%i'%(track,scen,year,dec,name,idx) # for spatial output\n",
    "    print out\n",
    "    hdr = '/RHESSys/Como/tmp/%s/world.como.grid60_exp.hdr'%(idx)\n",
    "    print hdr\n",
    "    f = '/RHESSys/Como/flowtables/como.flow'\n",
    "    t = '/RHESSys/Como/tecfiles/exp.tec'\n",
    "    \n",
    "    # change the snow parameterization\n",
    "    \n",
    "    # build the command, remove -p for non-spatial output\n",
    "    cmd = 'rhessys5.196 -w %s -whdr %s -t %s -b -s %s %s %s -sv %s %s -gw %s %s -pre %s -st %s -ed %s -asciigrid -r %s -svalt %s %s'%(w,\n",
    "            hdr,t,m,ksat,m,ksat,sd,gw1,gw2,out,strt,nd,f,po,pa)\n",
    "    \n",
    "    print cmd\n",
    "    \n",
    "    output = subprocess.check_output(cmd,shell=True) # run the command\n",
    "    \n",
    "    # apply the leakage code\n",
    "    cmd = 'python /RHESSys/Como/scripts/leakage.py %s_basin.daily %s %s %s %s'%(out,a,b,c,maxflow)\n",
    "    print cmd\n",
    "    subprocess.call(cmd, shell = True)\n",
    "    \n",
    "    shutil.rmtree(newdir) \n",
    "    return idx,output"
   ]
  },
  {
   "cell_type": "raw",
   "metadata": {},
   "source": [
    "%%timeit -n 3 -r 2\n",
    "\n",
    "num = 0\n",
    "res = run_exp(params.idx[num],params.year[num],params.track[num],params.scenarios[num],\n",
    "                          params.decade[num],params.name[num])"
   ]
  },
  {
   "cell_type": "code",
   "execution_count": 21,
   "metadata": {
    "collapsed": true
   },
   "outputs": [],
   "source": [
    "# test case for timing\n",
    "num = 8\n",
    "res = view.map(run_exp,params.idx[0:num],params.year[0:num],params.track[0:num],params.scenarios[0:num],\n",
    "               params.decade[0:num],params.name[0:num])"
   ]
  },
  {
   "cell_type": "code",
   "execution_count": 32,
   "metadata": {
    "collapsed": true
   },
   "outputs": [],
   "source": [
    "res = view.map(run_exp,params.idx,params.year,params.track,params.scenarios,\n",
    "               params.decade,params.name)"
   ]
  },
  {
   "cell_type": "code",
   "execution_count": 33,
   "metadata": {
    "collapsed": false
   },
   "outputs": [
    {
     "data": {
      "text/plain": [
       "126"
      ]
     },
     "execution_count": 33,
     "metadata": {},
     "output_type": "execute_result"
    }
   ],
   "source": [
    "res.progress"
   ]
  },
  {
   "cell_type": "code",
   "execution_count": 34,
   "metadata": {
    "collapsed": false
   },
   "outputs": [
    {
     "data": {
      "text/plain": [
       "True"
      ]
     },
     "execution_count": 34,
     "metadata": {},
     "output_type": "execute_result"
    }
   ],
   "source": [
    "res.ready()"
   ]
  },
  {
   "cell_type": "code",
   "execution_count": 28,
   "metadata": {
    "collapsed": false
   },
   "outputs": [
    {
     "data": {
      "text/plain": [
       "True"
      ]
     },
     "execution_count": 28,
     "metadata": {},
     "output_type": "execute_result"
    }
   ],
   "source": [
    "res.done()"
   ]
  },
  {
   "cell_type": "code",
   "execution_count": 35,
   "metadata": {
    "collapsed": false
   },
   "outputs": [
    {
     "data": {
      "text/plain": [
       "27.72667846027778"
      ]
     },
     "execution_count": 35,
     "metadata": {},
     "output_type": "execute_result"
    }
   ],
   "source": [
    "res.elapsed/60./60."
   ]
  },
  {
   "cell_type": "markdown",
   "metadata": {},
   "source": [
    "## Get Effective Precipitation\n",
    "\n",
    "Use the RHESSys output to get effective precipitation from each run"
   ]
  },
  {
   "cell_type": "code",
   "execution_count": 30,
   "metadata": {
    "collapsed": false
   },
   "outputs": [
    {
     "data": {
      "text/plain": [
       "[(1,\n",
       "  'Setting climate mode to gridded ascii\\nReading specified world file header /RHESSys/Como/tmp/1/world.como.grid60_exp.hdr\\nOpening climate grid /RHESSys/Como/tmp/1/grid60_exp_basestation\\nReading /RHESSys/Como/defs/basin.def\\nReading /RHESSys/Como/defs/hill.def\\nReading /RHESSys/Como/defs/zone.def\\nReading /RHESSys/Como/defs/sandyloam.def\\n\\nNote that soil depth used for biogeochem cycling (active zone z)\\nis more than 0.5 meter different from hydrologic soil depth\\nfor soil default file: /RHESSys/Como/defs/sandyloam.def\\n\\n Sensitivity analysis giving Pore Size Index > 1.0, not allowed, setting to 1.0\\nReading /RHESSys/Como/defs/alpine.def\\nReading /RHESSys/Como/defs/forest.def\\nReading /RHESSys/Como/defs/veg_evergreen.def\\nReading /RHESSys/Como/defs/veg_grass_tbb.def\\n\\nConstructed fire defaults\\n\\nConstructing base stations from ASCII GRID\\nYou have 5146 base stations \\nDaily clim is /RHESSys/Como/clim/exp/grid60_PGW_LP_1_2000_0_CLC_CP_CT \\nOpened tmax file /RHESSys/Como/clim/exp/grid60_PGW_LP_1_2000_0_CLC_CP_CT.tmax\\nOpened tmin file /RHESSys/Como/clim/exp/grid60_PGW_LP_1_2000_0_CLC_CP_CT.tmin\\nOpened rain file /RHESSys/Como/clim/exp/grid60_PGW_LP_1_2000_0_CLC_CP_CT.rain\\n\\n Finished constructing base stations\\n\\n Constructing world 1\\n\\n Constructing basins\\nYear 1990\\nYear 1991\\nYear 1992\\nYear 1993\\nYear 1994\\nYear 1995\\nYear 1996\\nYear 1997\\nYear 1998\\nYear 1999\\nYear 2000\\nYear 2001\\nYear 2002\\nYear 2003\\nYear 2004\\nYear 2005\\nYear 2006\\nYear 2007\\nYear 2008\\nYear 2009\\nYear 2010\\nYear 2011\\nYear 2012\\ntime cost = 5521 seconds\\n'),\n",
       " (2,\n",
       "  'Setting climate mode to gridded ascii\\nReading specified world file header /RHESSys/Como/tmp/2/world.como.grid60_exp.hdr\\nOpening climate grid /RHESSys/Como/tmp/2/grid60_exp_basestation\\nReading /RHESSys/Como/defs/basin.def\\nReading /RHESSys/Como/defs/hill.def\\nReading /RHESSys/Como/defs/zone.def\\nReading /RHESSys/Como/defs/sandyloam.def\\n\\nNote that soil depth used for biogeochem cycling (active zone z)\\nis more than 0.5 meter different from hydrologic soil depth\\nfor soil default file: /RHESSys/Como/defs/sandyloam.def\\n\\n Sensitivity analysis giving Pore Size Index > 1.0, not allowed, setting to 1.0\\nReading /RHESSys/Como/defs/alpine.def\\nReading /RHESSys/Como/defs/forest.def\\nReading /RHESSys/Como/defs/veg_evergreen.def\\nReading /RHESSys/Como/defs/veg_grass_tbb.def\\n\\nConstructed fire defaults\\n\\nConstructing base stations from ASCII GRID\\nYou have 5146 base stations \\nDaily clim is /RHESSys/Como/clim/exp/grid60_PGW_LP_1_2010_1_FLC_LP_FT \\nOpened tmax file /RHESSys/Como/clim/exp/grid60_PGW_LP_1_2010_1_FLC_LP_FT.tmax\\nOpened tmin file /RHESSys/Como/clim/exp/grid60_PGW_LP_1_2010_1_FLC_LP_FT.tmin\\nOpened rain file /RHESSys/Como/clim/exp/grid60_PGW_LP_1_2010_1_FLC_LP_FT.rain\\n\\n Finished constructing base stations\\n\\n Constructing world 1\\n\\n Constructing basins\\nYear 1990\\nYear 1991\\nYear 1992\\nYear 1993\\nYear 1994\\nYear 1995\\nYear 1996\\nYear 1997\\nYear 1998\\nYear 1999\\nYear 2000\\nYear 2001\\nYear 2002\\nYear 2003\\nYear 2004\\nYear 2005\\nYear 2006\\nYear 2007\\nYear 2008\\nYear 2009\\nYear 2010\\nYear 2011\\nYear 2012\\ntime cost = 5507 seconds\\n'),\n",
       " (3,\n",
       "  'Setting climate mode to gridded ascii\\nReading specified world file header /RHESSys/Como/tmp/3/world.como.grid60_exp.hdr\\nOpening climate grid /RHESSys/Como/tmp/3/grid60_exp_basestation\\nReading /RHESSys/Como/defs/basin.def\\nReading /RHESSys/Como/defs/hill.def\\nReading /RHESSys/Como/defs/zone.def\\nReading /RHESSys/Como/defs/sandyloam.def\\n\\nNote that soil depth used for biogeochem cycling (active zone z)\\nis more than 0.5 meter different from hydrologic soil depth\\nfor soil default file: /RHESSys/Como/defs/sandyloam.def\\n\\n Sensitivity analysis giving Pore Size Index > 1.0, not allowed, setting to 1.0\\nReading /RHESSys/Como/defs/alpine.def\\nReading /RHESSys/Como/defs/forest.def\\nReading /RHESSys/Como/defs/veg_evergreen.def\\nReading /RHESSys/Como/defs/veg_grass_tbb.def\\n\\nConstructed fire defaults\\n\\nConstructing base stations from ASCII GRID\\nYou have 5146 base stations \\nDaily clim is /RHESSys/Como/clim/exp/grid60_PGW_LP_1_2020_2_FLC_LP_FT \\nOpened tmax file /RHESSys/Como/clim/exp/grid60_PGW_LP_1_2020_2_FLC_LP_FT.tmax\\nOpened tmin file /RHESSys/Como/clim/exp/grid60_PGW_LP_1_2020_2_FLC_LP_FT.tmin\\nOpened rain file /RHESSys/Como/clim/exp/grid60_PGW_LP_1_2020_2_FLC_LP_FT.rain\\n\\n Finished constructing base stations\\n\\n Constructing world 1\\n\\n Constructing basins\\nYear 1990\\nYear 1991\\nYear 1992\\nYear 1993\\nYear 1994\\nYear 1995\\nYear 1996\\nYear 1997\\nYear 1998\\nYear 1999\\nYear 2000\\nYear 2001\\nYear 2002\\nYear 2003\\nYear 2004\\nYear 2005\\nYear 2006\\nYear 2007\\nYear 2008\\nYear 2009\\nYear 2010\\nYear 2011\\nYear 2012\\ntime cost = 5482 seconds\\n'),\n",
       " (4,\n",
       "  'Setting climate mode to gridded ascii\\nReading specified world file header /RHESSys/Como/tmp/4/world.como.grid60_exp.hdr\\nOpening climate grid /RHESSys/Como/tmp/4/grid60_exp_basestation\\nReading /RHESSys/Como/defs/basin.def\\nReading /RHESSys/Como/defs/hill.def\\nReading /RHESSys/Como/defs/zone.def\\nReading /RHESSys/Como/defs/sandyloam.def\\n\\nNote that soil depth used for biogeochem cycling (active zone z)\\nis more than 0.5 meter different from hydrologic soil depth\\nfor soil default file: /RHESSys/Como/defs/sandyloam.def\\n\\n Sensitivity analysis giving Pore Size Index > 1.0, not allowed, setting to 1.0\\nReading /RHESSys/Como/defs/alpine.def\\nReading /RHESSys/Como/defs/forest.def\\nReading /RHESSys/Como/defs/veg_evergreen.def\\nReading /RHESSys/Como/defs/veg_grass_tbb.def\\n\\nConstructed fire defaults\\n\\nConstructing base stations from ASCII GRID\\nYou have 5146 base stations \\nDaily clim is /RHESSys/Como/clim/exp/grid60_PGW_LP_1_2030_3_FLC_LP_FT \\nOpened tmax file /RHESSys/Como/clim/exp/grid60_PGW_LP_1_2030_3_FLC_LP_FT.tmax\\nOpened tmin file /RHESSys/Como/clim/exp/grid60_PGW_LP_1_2030_3_FLC_LP_FT.tmin\\nOpened rain file /RHESSys/Como/clim/exp/grid60_PGW_LP_1_2030_3_FLC_LP_FT.rain\\n\\n Finished constructing base stations\\n\\n Constructing world 1\\n\\n Constructing basins\\nYear 1990\\nYear 1991\\nYear 1992\\nYear 1993\\nYear 1994\\nYear 1995\\nYear 1996\\nYear 1997\\nYear 1998\\nYear 1999\\nYear 2000\\nYear 2001\\nYear 2002\\nYear 2003\\nYear 2004\\nYear 2005\\nYear 2006\\nYear 2007\\nYear 2008\\nYear 2009\\nYear 2010\\nYear 2011\\nYear 2012\\ntime cost = 5508 seconds\\n'),\n",
       " (5,\n",
       "  'Setting climate mode to gridded ascii\\nReading specified world file header /RHESSys/Como/tmp/5/world.como.grid60_exp.hdr\\nOpening climate grid /RHESSys/Como/tmp/5/grid60_exp_basestation\\nReading /RHESSys/Como/defs/basin.def\\nReading /RHESSys/Como/defs/hill.def\\nReading /RHESSys/Como/defs/zone.def\\nReading /RHESSys/Como/defs/sandyloam.def\\n\\nNote that soil depth used for biogeochem cycling (active zone z)\\nis more than 0.5 meter different from hydrologic soil depth\\nfor soil default file: /RHESSys/Como/defs/sandyloam.def\\n\\n Sensitivity analysis giving Pore Size Index > 1.0, not allowed, setting to 1.0\\nReading /RHESSys/Como/defs/alpine.def\\nReading /RHESSys/Como/defs/forest.def\\nReading /RHESSys/Como/defs/veg_evergreen.def\\nReading /RHESSys/Como/defs/veg_grass_tbb.def\\n\\nConstructed fire defaults\\n\\nConstructing base stations from ASCII GRID\\nYou have 5146 base stations \\nDaily clim is /RHESSys/Como/clim/exp/grid60_PGW_LP_1_2040_4_FLC_LP_FT \\nOpened tmax file /RHESSys/Como/clim/exp/grid60_PGW_LP_1_2040_4_FLC_LP_FT.tmax\\nOpened tmin file /RHESSys/Como/clim/exp/grid60_PGW_LP_1_2040_4_FLC_LP_FT.tmin\\nOpened rain file /RHESSys/Como/clim/exp/grid60_PGW_LP_1_2040_4_FLC_LP_FT.rain\\n\\n Finished constructing base stations\\n\\n Constructing world 1\\n\\n Constructing basins\\nYear 1990\\nYear 1991\\nYear 1992\\nYear 1993\\nYear 1994\\nYear 1995\\nYear 1996\\nYear 1997\\nYear 1998\\nYear 1999\\nYear 2000\\nYear 2001\\nYear 2002\\nYear 2003\\nYear 2004\\nYear 2005\\nYear 2006\\nYear 2007\\nYear 2008\\nYear 2009\\nYear 2010\\nYear 2011\\nYear 2012\\ntime cost = 5533 seconds\\n'),\n",
       " (6,\n",
       "  'Setting climate mode to gridded ascii\\nReading specified world file header /RHESSys/Como/tmp/6/world.como.grid60_exp.hdr\\nOpening climate grid /RHESSys/Como/tmp/6/grid60_exp_basestation\\nReading /RHESSys/Como/defs/basin.def\\nReading /RHESSys/Como/defs/hill.def\\nReading /RHESSys/Como/defs/zone.def\\nReading /RHESSys/Como/defs/sandyloam.def\\n\\nNote that soil depth used for biogeochem cycling (active zone z)\\nis more than 0.5 meter different from hydrologic soil depth\\nfor soil default file: /RHESSys/Como/defs/sandyloam.def\\n\\n Sensitivity analysis giving Pore Size Index > 1.0, not allowed, setting to 1.0\\nReading /RHESSys/Como/defs/alpine.def\\nReading /RHESSys/Como/defs/forest.def\\nReading /RHESSys/Como/defs/veg_evergreen.def\\nReading /RHESSys/Como/defs/veg_grass_tbb.def\\n\\nConstructed fire defaults\\n\\nConstructing base stations from ASCII GRID\\nYou have 5146 base stations \\nDaily clim is /RHESSys/Como/clim/exp/grid60_PGW_LP_1_2050_5_FLC_LP_FT \\nOpened tmax file /RHESSys/Como/clim/exp/grid60_PGW_LP_1_2050_5_FLC_LP_FT.tmax\\nOpened tmin file /RHESSys/Como/clim/exp/grid60_PGW_LP_1_2050_5_FLC_LP_FT.tmin\\nOpened rain file /RHESSys/Como/clim/exp/grid60_PGW_LP_1_2050_5_FLC_LP_FT.rain\\n\\n Finished constructing base stations\\n\\n Constructing world 1\\n\\n Constructing basins\\nYear 1990\\nYear 1991\\nYear 1992\\nYear 1993\\nYear 1994\\nYear 1995\\nYear 1996\\nYear 1997\\nYear 1998\\nYear 1999\\nYear 2000\\nYear 2001\\nYear 2002\\nYear 2003\\nYear 2004\\nYear 2005\\nYear 2006\\nYear 2007\\nYear 2008\\nYear 2009\\nYear 2010\\nYear 2011\\nYear 2012\\ntime cost = 5558 seconds\\n'),\n",
       " (7,\n",
       "  'Setting climate mode to gridded ascii\\nReading specified world file header /RHESSys/Como/tmp/7/world.como.grid60_exp.hdr\\nOpening climate grid /RHESSys/Como/tmp/7/grid60_exp_basestation\\nReading /RHESSys/Como/defs/basin.def\\nReading /RHESSys/Como/defs/hill.def\\nReading /RHESSys/Como/defs/zone.def\\nReading /RHESSys/Como/defs/sandyloam.def\\n\\nNote that soil depth used for biogeochem cycling (active zone z)\\nis more than 0.5 meter different from hydrologic soil depth\\nfor soil default file: /RHESSys/Como/defs/sandyloam.def\\n\\n Sensitivity analysis giving Pore Size Index > 1.0, not allowed, setting to 1.0\\nReading /RHESSys/Como/defs/alpine.def\\nReading /RHESSys/Como/defs/forest.def\\nReading /RHESSys/Como/defs/veg_evergreen.def\\nReading /RHESSys/Como/defs/veg_grass_tbb.def\\n\\nConstructed fire defaults\\n\\nConstructing base stations from ASCII GRID\\nYou have 5146 base stations \\nDaily clim is /RHESSys/Como/clim/exp/grid60_PGW_LP_1_2060_6_FLC_LP_FT \\nOpened tmax file /RHESSys/Como/clim/exp/grid60_PGW_LP_1_2060_6_FLC_LP_FT.tmax\\nOpened tmin file /RHESSys/Como/clim/exp/grid60_PGW_LP_1_2060_6_FLC_LP_FT.tmin\\nOpened rain file /RHESSys/Como/clim/exp/grid60_PGW_LP_1_2060_6_FLC_LP_FT.rain\\n\\n Finished constructing base stations\\n\\n Constructing world 1\\n\\n Constructing basins\\nYear 1990\\nYear 1991\\nYear 1992\\nYear 1993\\nYear 1994\\nYear 1995\\nYear 1996\\nYear 1997\\nYear 1998\\nYear 1999\\nYear 2000\\nYear 2001\\nYear 2002\\nYear 2003\\nYear 2004\\nYear 2005\\nYear 2006\\nYear 2007\\nYear 2008\\nYear 2009\\nYear 2010\\nYear 2011\\nYear 2012\\ntime cost = 5533 seconds\\n')]"
      ]
     },
     "execution_count": 30,
     "metadata": {},
     "output_type": "execute_result"
    }
   ],
   "source": [
    "res.result()"
   ]
  },
  {
   "cell_type": "code",
   "execution_count": 13,
   "metadata": {
    "collapsed": false
   },
   "outputs": [],
   "source": [
    "idx,mes = zip(*res.result())"
   ]
  },
  {
   "cell_type": "code",
   "execution_count": 14,
   "metadata": {
    "collapsed": true
   },
   "outputs": [],
   "source": [
    "dat = pd.DataFrame({'idx':idx,'message':mes})"
   ]
  },
  {
   "cell_type": "code",
   "execution_count": 15,
   "metadata": {
    "collapsed": true
   },
   "outputs": [],
   "source": [
    "message = dat['message'][0]"
   ]
  },
  {
   "cell_type": "raw",
   "metadata": {
    "collapsed": false
   },
   "source": [
    "# generate a data frame of parameters from which to run the experiment\n",
    "years = []\n",
    "forces = []\n",
    "scenarios = []\n",
    "tracks = []\n",
    "\n",
    "for year,PGW_MP,PGW_LP in zip(forcings.year,forcings.combo_Ph,forcings.combo_Pl):\n",
    "    for MP_scen,LP_scen in zip(MP_scenarios,LP_scenarios):\n",
    "        # more precip\n",
    "        years.append(int(year))\n",
    "        forces.append(PGW_MP)\n",
    "        scenarios.append(MP_scen)\n",
    "        tracks.append('PGW_MP')\n",
    "        # less precip\n",
    "        years.append(int(year))\n",
    "        forces.append(PGW_LP)\n",
    "        scenarios.append(LP_scen)\n",
    "        tracks.append('PGW_LP')\n",
    "\n",
    "params = pd.DataFrame({'year':years,'track':tracks,'scenario':scenarios,'forcing':forces})\n",
    "params['idx'] = np.arange(1,len(params)+1)"
   ]
  },
  {
   "cell_type": "code",
   "execution_count": 16,
   "metadata": {
    "collapsed": false
   },
   "outputs": [],
   "source": [
    "def get_effective_precip(message):\n",
    "    return float(message.split('is')[-2].split('\\n')[0])"
   ]
  },
  {
   "cell_type": "code",
   "execution_count": 17,
   "metadata": {
    "collapsed": true
   },
   "outputs": [],
   "source": [
    "dat['effective_precip'] = dat.message.map(get_effective_precip)"
   ]
  },
  {
   "cell_type": "code",
   "execution_count": 18,
   "metadata": {
    "collapsed": false
   },
   "outputs": [],
   "source": [
    "dat = pd.merge(dat,params,on='idx')"
   ]
  },
  {
   "cell_type": "code",
   "execution_count": 19,
   "metadata": {
    "collapsed": false
   },
   "outputs": [
    {
     "data": {
      "text/html": [
       "<div>\n",
       "<table border=\"1\" class=\"dataframe\">\n",
       "  <thead>\n",
       "    <tr style=\"text-align: right;\">\n",
       "      <th></th>\n",
       "      <th>idx</th>\n",
       "      <th>message</th>\n",
       "      <th>effective_precip</th>\n",
       "      <th>forcing</th>\n",
       "      <th>scenario</th>\n",
       "      <th>track</th>\n",
       "      <th>year</th>\n",
       "    </tr>\n",
       "  </thead>\n",
       "  <tbody>\n",
       "    <tr>\n",
       "      <th>0</th>\n",
       "      <td>1</td>\n",
       "      <td>\\n Running wiith snow redistributionSetting cl...</td>\n",
       "      <td>0.941938</td>\n",
       "      <td>1</td>\n",
       "      <td>1</td>\n",
       "      <td>PGW_MP</td>\n",
       "      <td>2000</td>\n",
       "    </tr>\n",
       "    <tr>\n",
       "      <th>1</th>\n",
       "      <td>2</td>\n",
       "      <td>\\n Running wiith snow redistributionSetting cl...</td>\n",
       "      <td>0.940829</td>\n",
       "      <td>2</td>\n",
       "      <td>1</td>\n",
       "      <td>PGW_LP</td>\n",
       "      <td>2000</td>\n",
       "    </tr>\n",
       "    <tr>\n",
       "      <th>2</th>\n",
       "      <td>3</td>\n",
       "      <td>\\n Running wiith snow redistributionSetting cl...</td>\n",
       "      <td>0.940551</td>\n",
       "      <td>1</td>\n",
       "      <td>2</td>\n",
       "      <td>PGW_MP</td>\n",
       "      <td>2000</td>\n",
       "    </tr>\n",
       "    <tr>\n",
       "      <th>3</th>\n",
       "      <td>4</td>\n",
       "      <td>\\n Running wiith snow redistributionSetting cl...</td>\n",
       "      <td>0.940987</td>\n",
       "      <td>2</td>\n",
       "      <td>2</td>\n",
       "      <td>PGW_LP</td>\n",
       "      <td>2000</td>\n",
       "    </tr>\n",
       "    <tr>\n",
       "      <th>4</th>\n",
       "      <td>5</td>\n",
       "      <td>\\n Running wiith snow redistributionSetting cl...</td>\n",
       "      <td>0.941066</td>\n",
       "      <td>1</td>\n",
       "      <td>3</td>\n",
       "      <td>PGW_MP</td>\n",
       "      <td>2000</td>\n",
       "    </tr>\n",
       "    <tr>\n",
       "      <th>5</th>\n",
       "      <td>6</td>\n",
       "      <td>\\n Running wiith snow redistributionSetting cl...</td>\n",
       "      <td>0.941938</td>\n",
       "      <td>2</td>\n",
       "      <td>5</td>\n",
       "      <td>PGW_LP</td>\n",
       "      <td>2000</td>\n",
       "    </tr>\n",
       "    <tr>\n",
       "      <th>6</th>\n",
       "      <td>7</td>\n",
       "      <td>\\n Running wiith snow redistributionSetting cl...</td>\n",
       "      <td>0.964727</td>\n",
       "      <td>3</td>\n",
       "      <td>1</td>\n",
       "      <td>PGW_MP</td>\n",
       "      <td>2050</td>\n",
       "    </tr>\n",
       "    <tr>\n",
       "      <th>7</th>\n",
       "      <td>8</td>\n",
       "      <td>\\n Running wiith snow redistributionSetting cl...</td>\n",
       "      <td>0.968492</td>\n",
       "      <td>4</td>\n",
       "      <td>1</td>\n",
       "      <td>PGW_LP</td>\n",
       "      <td>2050</td>\n",
       "    </tr>\n",
       "    <tr>\n",
       "      <th>8</th>\n",
       "      <td>9</td>\n",
       "      <td>\\n Running wiith snow redistributionSetting cl...</td>\n",
       "      <td>0.972138</td>\n",
       "      <td>3</td>\n",
       "      <td>2</td>\n",
       "      <td>PGW_MP</td>\n",
       "      <td>2050</td>\n",
       "    </tr>\n",
       "    <tr>\n",
       "      <th>9</th>\n",
       "      <td>10</td>\n",
       "      <td>\\n Running wiith snow redistributionSetting cl...</td>\n",
       "      <td>0.960724</td>\n",
       "      <td>4</td>\n",
       "      <td>2</td>\n",
       "      <td>PGW_LP</td>\n",
       "      <td>2050</td>\n",
       "    </tr>\n",
       "    <tr>\n",
       "      <th>10</th>\n",
       "      <td>11</td>\n",
       "      <td>\\n Running wiith snow redistributionSetting cl...</td>\n",
       "      <td>0.969879</td>\n",
       "      <td>3</td>\n",
       "      <td>3</td>\n",
       "      <td>PGW_MP</td>\n",
       "      <td>2050</td>\n",
       "    </tr>\n",
       "    <tr>\n",
       "      <th>11</th>\n",
       "      <td>12</td>\n",
       "      <td>\\n Running wiith snow redistributionSetting cl...</td>\n",
       "      <td>0.966312</td>\n",
       "      <td>4</td>\n",
       "      <td>5</td>\n",
       "      <td>PGW_LP</td>\n",
       "      <td>2050</td>\n",
       "    </tr>\n",
       "    <tr>\n",
       "      <th>12</th>\n",
       "      <td>13</td>\n",
       "      <td>\\n Running wiith snow redistributionSetting cl...</td>\n",
       "      <td>0.991915</td>\n",
       "      <td>5</td>\n",
       "      <td>1</td>\n",
       "      <td>PGW_MP</td>\n",
       "      <td>2100</td>\n",
       "    </tr>\n",
       "    <tr>\n",
       "      <th>13</th>\n",
       "      <td>14</td>\n",
       "      <td>\\n Running wiith snow redistributionSetting cl...</td>\n",
       "      <td>0.990607</td>\n",
       "      <td>6</td>\n",
       "      <td>1</td>\n",
       "      <td>PGW_LP</td>\n",
       "      <td>2100</td>\n",
       "    </tr>\n",
       "    <tr>\n",
       "      <th>14</th>\n",
       "      <td>15</td>\n",
       "      <td>\\n Running wiith snow redistributionSetting cl...</td>\n",
       "      <td>0.991756</td>\n",
       "      <td>5</td>\n",
       "      <td>2</td>\n",
       "      <td>PGW_MP</td>\n",
       "      <td>2100</td>\n",
       "    </tr>\n",
       "    <tr>\n",
       "      <th>15</th>\n",
       "      <td>16</td>\n",
       "      <td>\\n Running wiith snow redistributionSetting cl...</td>\n",
       "      <td>0.990607</td>\n",
       "      <td>6</td>\n",
       "      <td>2</td>\n",
       "      <td>PGW_LP</td>\n",
       "      <td>2100</td>\n",
       "    </tr>\n",
       "    <tr>\n",
       "      <th>16</th>\n",
       "      <td>17</td>\n",
       "      <td>\\n Running wiith snow redistributionSetting cl...</td>\n",
       "      <td>0.991241</td>\n",
       "      <td>5</td>\n",
       "      <td>3</td>\n",
       "      <td>PGW_MP</td>\n",
       "      <td>2100</td>\n",
       "    </tr>\n",
       "    <tr>\n",
       "      <th>17</th>\n",
       "      <td>18</td>\n",
       "      <td>\\n Running wiith snow redistributionSetting cl...</td>\n",
       "      <td>0.979867</td>\n",
       "      <td>6</td>\n",
       "      <td>5</td>\n",
       "      <td>PGW_LP</td>\n",
       "      <td>2100</td>\n",
       "    </tr>\n",
       "  </tbody>\n",
       "</table>\n",
       "</div>"
      ],
      "text/plain": [
       "    idx                                            message  effective_precip  \\\n",
       "0     1  \\n Running wiith snow redistributionSetting cl...          0.941938   \n",
       "1     2  \\n Running wiith snow redistributionSetting cl...          0.940829   \n",
       "2     3  \\n Running wiith snow redistributionSetting cl...          0.940551   \n",
       "3     4  \\n Running wiith snow redistributionSetting cl...          0.940987   \n",
       "4     5  \\n Running wiith snow redistributionSetting cl...          0.941066   \n",
       "5     6  \\n Running wiith snow redistributionSetting cl...          0.941938   \n",
       "6     7  \\n Running wiith snow redistributionSetting cl...          0.964727   \n",
       "7     8  \\n Running wiith snow redistributionSetting cl...          0.968492   \n",
       "8     9  \\n Running wiith snow redistributionSetting cl...          0.972138   \n",
       "9    10  \\n Running wiith snow redistributionSetting cl...          0.960724   \n",
       "10   11  \\n Running wiith snow redistributionSetting cl...          0.969879   \n",
       "11   12  \\n Running wiith snow redistributionSetting cl...          0.966312   \n",
       "12   13  \\n Running wiith snow redistributionSetting cl...          0.991915   \n",
       "13   14  \\n Running wiith snow redistributionSetting cl...          0.990607   \n",
       "14   15  \\n Running wiith snow redistributionSetting cl...          0.991756   \n",
       "15   16  \\n Running wiith snow redistributionSetting cl...          0.990607   \n",
       "16   17  \\n Running wiith snow redistributionSetting cl...          0.991241   \n",
       "17   18  \\n Running wiith snow redistributionSetting cl...          0.979867   \n",
       "\n",
       "    forcing  scenario   track  year  \n",
       "0         1         1  PGW_MP  2000  \n",
       "1         2         1  PGW_LP  2000  \n",
       "2         1         2  PGW_MP  2000  \n",
       "3         2         2  PGW_LP  2000  \n",
       "4         1         3  PGW_MP  2000  \n",
       "5         2         5  PGW_LP  2000  \n",
       "6         3         1  PGW_MP  2050  \n",
       "7         4         1  PGW_LP  2050  \n",
       "8         3         2  PGW_MP  2050  \n",
       "9         4         2  PGW_LP  2050  \n",
       "10        3         3  PGW_MP  2050  \n",
       "11        4         5  PGW_LP  2050  \n",
       "12        5         1  PGW_MP  2100  \n",
       "13        6         1  PGW_LP  2100  \n",
       "14        5         2  PGW_MP  2100  \n",
       "15        6         2  PGW_LP  2100  \n",
       "16        5         3  PGW_MP  2100  \n",
       "17        6         5  PGW_LP  2100  "
      ]
     },
     "execution_count": 19,
     "metadata": {},
     "output_type": "execute_result"
    }
   ],
   "source": [
    "dat"
   ]
  },
  {
   "cell_type": "code",
   "execution_count": 20,
   "metadata": {
    "collapsed": true
   },
   "outputs": [],
   "source": [
    "import seaborn as sns"
   ]
  },
  {
   "cell_type": "code",
   "execution_count": 23,
   "metadata": {
    "collapsed": false
   },
   "outputs": [
    {
     "data": {
      "image/png": "[encoded data removed]",
      "text/plain": [
       "<matplotlib.figure.Figure at 0x113865d50>"
      ]
     },
     "metadata": {},
     "output_type": "display_data"
    }
   ],
   "source": [
    "g = sns.FacetGrid(dat,col='track',hue='scenario',aspect=1.5,size=4)\n",
    "g = g.map(plt.scatter,'year','effective_precip',s=80)"
   ]
  },
  {
   "cell_type": "code",
   "execution_count": 54,
   "metadata": {
    "collapsed": false
   },
   "outputs": [
    {
     "data": {
      "text/html": [
       "<div>\n",
       "<table border=\"1\" class=\"dataframe\">\n",
       "  <thead>\n",
       "    <tr style=\"text-align: right;\">\n",
       "      <th></th>\n",
       "      <th></th>\n",
       "      <th>idx</th>\n",
       "      <th>effective_precip</th>\n",
       "      <th>forcing</th>\n",
       "      <th>scenario</th>\n",
       "    </tr>\n",
       "    <tr>\n",
       "      <th>track</th>\n",
       "      <th>year</th>\n",
       "      <th></th>\n",
       "      <th></th>\n",
       "      <th></th>\n",
       "      <th></th>\n",
       "    </tr>\n",
       "  </thead>\n",
       "  <tbody>\n",
       "    <tr>\n",
       "      <th rowspan=\"3\" valign=\"top\">PGW_LP</th>\n",
       "      <th>2000</th>\n",
       "      <td>4.0</td>\n",
       "      <td>0.94</td>\n",
       "      <td>2.0</td>\n",
       "      <td>2.67</td>\n",
       "    </tr>\n",
       "    <tr>\n",
       "      <th>2050</th>\n",
       "      <td>10.0</td>\n",
       "      <td>0.97</td>\n",
       "      <td>4.0</td>\n",
       "      <td>2.67</td>\n",
       "    </tr>\n",
       "    <tr>\n",
       "      <th>2100</th>\n",
       "      <td>16.0</td>\n",
       "      <td>0.99</td>\n",
       "      <td>6.0</td>\n",
       "      <td>2.67</td>\n",
       "    </tr>\n",
       "    <tr>\n",
       "      <th rowspan=\"3\" valign=\"top\">PGW_MP</th>\n",
       "      <th>2000</th>\n",
       "      <td>3.0</td>\n",
       "      <td>0.94</td>\n",
       "      <td>1.0</td>\n",
       "      <td>2.00</td>\n",
       "    </tr>\n",
       "    <tr>\n",
       "      <th>2050</th>\n",
       "      <td>9.0</td>\n",
       "      <td>0.97</td>\n",
       "      <td>3.0</td>\n",
       "      <td>2.00</td>\n",
       "    </tr>\n",
       "    <tr>\n",
       "      <th>2100</th>\n",
       "      <td>15.0</td>\n",
       "      <td>0.99</td>\n",
       "      <td>5.0</td>\n",
       "      <td>2.00</td>\n",
       "    </tr>\n",
       "  </tbody>\n",
       "</table>\n",
       "</div>"
      ],
      "text/plain": [
       "              idx  effective_precip  forcing  scenario\n",
       "track  year                                           \n",
       "PGW_LP 2000   4.0              0.94      2.0      2.67\n",
       "       2050  10.0              0.97      4.0      2.67\n",
       "       2100  16.0              0.99      6.0      2.67\n",
       "PGW_MP 2000   3.0              0.94      1.0      2.00\n",
       "       2050   9.0              0.97      3.0      2.00\n",
       "       2100  15.0              0.99      5.0      2.00"
      ]
     },
     "execution_count": 54,
     "metadata": {},
     "output_type": "execute_result"
    }
   ],
   "source": [
    "# summarize by track and year.\n",
    "dat.groupby(by=['track','year']).mean().round(2)"
   ]
  },
  {
   "cell_type": "code",
   "execution_count": null,
   "metadata": {
    "collapsed": true
   },
   "outputs": [],
   "source": []
  }
 ],
 "metadata": {
  "kernelspec": {
   "display_name": "Python 2",
   "language": "python",
   "name": "python2"
  },
  "language_info": {
   "codemirror_mode": {
    "name": "ipython",
    "version": 2
   },
   "file_extension": ".py",
   "mimetype": "text/x-python",
   "name": "python",
   "nbconvert_exporter": "python",
   "pygments_lexer": "ipython2",
   "version": "2.7.12"
  }
 },
 "nbformat": 4,
 "nbformat_minor": 0
}
