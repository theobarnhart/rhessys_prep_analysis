{
 "cells": [
  {
   "cell_type": "code",
   "execution_count": 1,
   "metadata": {
    "collapsed": false
   },
   "outputs": [],
   "source": [
    "strt = '2004-10-01'\n",
    "nd = '2009-09-30'\n",
    "cellsize=30\n",
    "\n",
    "plapse = 0.00004 # m/m\n",
    "tmaxlapse = -1.241379e-02# deg C / m\n",
    "tminlapse = -1.103448e-02# deg C / m\n",
    "tavelapse = -0.007651# deg C / m"
   ]
  },
  {
   "cell_type": "code",
   "execution_count": 2,
   "metadata": {
    "collapsed": true
   },
   "outputs": [],
   "source": [
    "site_elev = 3018 # met station site elevation in m"
   ]
  },
  {
   "cell_type": "code",
   "execution_count": 3,
   "metadata": {
    "collapsed": true
   },
   "outputs": [],
   "source": [
    "tmp = pd.read_csv('./data/nwt_hrly_met_data_20160527/data/c1_hrly_met_data_master_QC_infill.csv')\n",
    "tmp.index = pd.DatetimeIndex(tmp.datetime)"
   ]
  },
  {
   "cell_type": "code",
   "execution_count": 4,
   "metadata": {
    "collapsed": true
   },
   "outputs": [],
   "source": [
    "c1 = pd.DataFrame()\n",
    "c1['Tmin'] = tmp.temp_FILL2.resample('D').min() # min temperature [degC]\n",
    "c1['Tmax'] = tmp.temp_FILL2.resample('D').max() # max temperature [degC]\n",
    "c1['Tave'] = tmp.temp_FILL2.resample('D').mean() # mean temperature [degC]\n",
    "c1['P'] = tmp.ppt_h.resample('D').sum()/1000. # total precip. [m]"
   ]
  },
  {
   "cell_type": "code",
   "execution_count": 5,
   "metadata": {
    "collapsed": false
   },
   "outputs": [],
   "source": [
    "c1 = c1[strt:nd]"
   ]
  },
  {
   "cell_type": "code",
   "execution_count": 6,
   "metadata": {
    "collapsed": true
   },
   "outputs": [],
   "source": [
    "import gdal"
   ]
  },
  {
   "cell_type": "code",
   "execution_count": 7,
   "metadata": {
    "collapsed": false
   },
   "outputs": [],
   "source": [
    "fl = '/RHESSys/Como/auxdata/gridmet_dem_%sm.tiff'%cellsize\n",
    "ds = gdal.Open(fl)\n",
    "dem = np.array(ds.GetRasterBand(1).ReadAsArray())"
   ]
  },
  {
   "cell_type": "code",
   "execution_count": 8,
   "metadata": {
    "collapsed": true
   },
   "outputs": [],
   "source": [
    "fl = '/RHESSys/Como/auxdata/gridmet_index_%sm.tiff'%cellsize\n",
    "ds = gdal.Open(fl)\n",
    "idx = np.array(ds.GetRasterBand(1).ReadAsArray())"
   ]
  },
  {
   "cell_type": "code",
   "execution_count": 9,
   "metadata": {
    "collapsed": false
   },
   "outputs": [],
   "source": [
    "m,k = idx.shape\n",
    "n = m*k\n",
    "idx.shape = m*k"
   ]
  },
  {
   "cell_type": "code",
   "execution_count": 10,
   "metadata": {
    "collapsed": true
   },
   "outputs": [],
   "source": [
    "dem.shape = m*k"
   ]
  },
  {
   "cell_type": "code",
   "execution_count": 11,
   "metadata": {
    "collapsed": false
   },
   "outputs": [],
   "source": [
    "header = '%s\\n%s %s %s 1'%(n,c1.index[0].year,c1.index[0].month, c1.index[0].day)"
   ]
  },
  {
   "cell_type": "code",
   "execution_count": 12,
   "metadata": {
    "collapsed": false
   },
   "outputs": [
    {
     "data": {
      "text/plain": [
       "'27270\\n2004 10 1 1'"
      ]
     },
     "execution_count": 12,
     "metadata": {},
     "output_type": "execute_result"
    }
   ],
   "source": [
    "header"
   ]
  },
  {
   "cell_type": "code",
   "execution_count": 13,
   "metadata": {
    "collapsed": true
   },
   "outputs": [],
   "source": [
    "out = pd.DataFrame(np.ndarray((len(c1)+2,n)))"
   ]
  },
  {
   "cell_type": "code",
   "execution_count": 14,
   "metadata": {
    "collapsed": false
   },
   "outputs": [],
   "source": [
    "out.iloc[0,:] = idx # add the index numbers to the data frame\n",
    "out.iloc[1,:] = dem # add the dem values to the data frame"
   ]
  },
  {
   "cell_type": "code",
   "execution_count": 15,
   "metadata": {
    "collapsed": true
   },
   "outputs": [],
   "source": [
    "# make copies of the data frame for population\n",
    "Tmax = out.copy()\n",
    "Tmin = out.copy()\n",
    "Tave = out.copy()\n",
    "P = out.copy()"
   ]
  },
  {
   "cell_type": "code",
   "execution_count": 16,
   "metadata": {
    "collapsed": false
   },
   "outputs": [],
   "source": [
    "elev_diff = dem - site_elev\n",
    "\n",
    "ct = 2 # start at 2 b/c the first 2 rows are full\n",
    "for day in c1.index:\n",
    "    Tmax.iloc[ct,:] = c1.loc[day].Tmax + (tmaxlapse*elev_diff)\n",
    "    Tmin.iloc[ct,:] = c1.loc[day].Tmin + (tminlapse*elev_diff)\n",
    "    Tave.iloc[ct,:] = c1.loc[day].Tave + (tavelapse*elev_diff)\n",
    "    P.iloc[ct,:] = c1.loc[day].P + (plapse*elev_diff)\n",
    "\n",
    "Tmax = Tmax.as_matrix()\n",
    "Tmin = Tmin.as_matrix()\n",
    "Tave = Tave.as_matrix()\n",
    "P = P.as_matrix()"
   ]
  },
  {
   "cell_type": "code",
   "execution_count": 17,
   "metadata": {
    "collapsed": true
   },
   "outputs": [],
   "source": [
    "P[P<0] = 0"
   ]
  },
  {
   "cell_type": "code",
   "execution_count": 20,
   "metadata": {
    "collapsed": false
   },
   "outputs": [],
   "source": [
    "np.savetxt('/RHESSys/Como/clim/grid%s.tmax'%(cellsize),Tmax,header=header,comments='',fmt='%3.2f')\n",
    "np.savetxt('/RHESSys/Como/clim/grid%s.tmin'%(cellsize),Tmin,header=header,comments='',fmt='%3.2f')\n",
    "np.savetxt('/RHESSys/Como/clim/grid%s.tavg'%(cellsize),Tave,header=header,comments='',fmt='%3.2f')\n",
    "np.savetxt('/RHESSys/Como/clim/grid%s.rain'%(cellsize),P,header=header,comments='',fmt='%3.6f')"
   ]
  },
  {
   "cell_type": "code",
   "execution_count": 19,
   "metadata": {
    "collapsed": false
   },
   "outputs": [
    {
     "data": {
      "text/plain": [
       "27270"
      ]
     },
     "execution_count": 19,
     "metadata": {},
     "output_type": "execute_result"
    }
   ],
   "source": [
    "n"
   ]
  },
  {
   "cell_type": "code",
   "execution_count": null,
   "metadata": {
    "collapsed": true
   },
   "outputs": [],
   "source": []
  }
 ],
 "metadata": {
  "kernelspec": {
   "display_name": "Python 2",
   "language": "python",
   "name": "python2"
  },
  "language_info": {
   "codemirror_mode": {
    "name": "ipython",
    "version": 2
   },
   "file_extension": ".py",
   "mimetype": "text/x-python",
   "name": "python",
   "nbconvert_exporter": "python",
   "pygments_lexer": "ipython2",
   "version": "2.7.12"
  }
 },
 "nbformat": 4,
 "nbformat_minor": 0
}
