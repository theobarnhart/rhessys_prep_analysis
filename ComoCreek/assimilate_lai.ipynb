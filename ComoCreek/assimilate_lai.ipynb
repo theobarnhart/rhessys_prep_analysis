{
 "cells": [
  {
   "cell_type": "code",
   "execution_count": 2,
   "metadata": {
    "collapsed": true
   },
   "outputs": [],
   "source": [
    "import re\n",
    "import sys\n",
    "\n",
    "args = sys.argv\n",
    "fl1 = args[1]\n",
    "fl2 = args[2]\n",
    "fl3 = args[3]"
   ]
  },
  {
   "cell_type": "raw",
   "metadata": {
    "collapsed": true
   },
   "source": [
    "fl1 = '/RHESSys/Como/worldfiles/world.como.snow'\n",
    "fl2 = '/RHESSys/Como/worldfiles/world.como.snow.Y2005M10D6H1'\n",
    "outfl = '/RHESSys/Como/worldfiles/world.como.snow.lai'"
   ]
  },
  {
   "cell_type": "code",
   "execution_count": 3,
   "metadata": {
    "collapsed": true
   },
   "outputs": [],
   "source": [
    "def readworld(fl):\n",
    "    with open(fl) as f:\n",
    "        content = f.readlines()\n",
    "    \n",
    "    world = [x.strip() for x in content] # remove whitespace\n",
    "    \n",
    "    return world"
   ]
  },
  {
   "cell_type": "code",
   "execution_count": 4,
   "metadata": {
    "collapsed": true
   },
   "outputs": [],
   "source": [
    "world1 = readworld(fl1)\n",
    "world2 = readworld(fl2)"
   ]
  },
  {
   "cell_type": "code",
   "execution_count": 5,
   "metadata": {
    "collapsed": false
   },
   "outputs": [],
   "source": [
    "out = []\n",
    "a = 0\n",
    "for l,k in zip(world1,world2):\n",
    "    \n",
    "    # pull apart each line\n",
    "    val1,tag = re.split(r'\\s{2,}',l)\n",
    "    val2,tag2 = re.split(r'\\t',k)\n",
    "    \n",
    "    # if val2 is -9999 use val 1, otherwise use val 2 to replace stratum values\n",
    "    outval = val2\n",
    "    \n",
    "    if float(val2) == -9999.:\n",
    "        outval = val1\n",
    "    \n",
    "    #print '%s %s %s'%(val1,val2,outval)\n",
    "    out.append('%s    %s'%(outval,tag))"
   ]
  },
  {
   "cell_type": "code",
   "execution_count": 7,
   "metadata": {
    "collapsed": true
   },
   "outputs": [],
   "source": [
    "with open(outfl, 'w') as f:\n",
    "    for l in out:\n",
    "        f.write('%s\\n'%l)"
   ]
  },
  {
   "cell_type": "code",
   "execution_count": null,
   "metadata": {
    "collapsed": true
   },
   "outputs": [],
   "source": []
  }
 ],
 "metadata": {
  "kernelspec": {
   "display_name": "Python 2",
   "language": "python",
   "name": "python2"
  },
  "language_info": {
   "codemirror_mode": {
    "name": "ipython",
    "version": 2
   },
   "file_extension": ".py",
   "mimetype": "text/x-python",
   "name": "python",
   "nbconvert_exporter": "python",
   "pygments_lexer": "ipython2",
   "version": "2.7.12"
  }
 },
 "nbformat": 4,
 "nbformat_minor": 0
}
