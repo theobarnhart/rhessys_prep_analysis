{
 "cells": [
  {
   "cell_type": "code",
   "execution_count": 1,
   "metadata": {
    "collapsed": true
   },
   "outputs": [],
   "source": [
    "import glob"
   ]
  },
  {
   "cell_type": "code",
   "execution_count": 2,
   "metadata": {
    "collapsed": true
   },
   "outputs": [],
   "source": [
    "dat = pd.read_pickle('./data/experiment_forcing_params_dynamic.pcl')\n",
    "dat['idx'] = np.arange(1,len(dat)+1)"
   ]
  },
  {
   "cell_type": "code",
   "execution_count": 3,
   "metadata": {
    "collapsed": false
   },
   "outputs": [
    {
     "data": {
      "text/html": [
       "<div>\n",
       "<table border=\"1\" class=\"dataframe\">\n",
       "  <thead>\n",
       "    <tr style=\"text-align: right;\">\n",
       "      <th></th>\n",
       "      <th>P</th>\n",
       "      <th>T</th>\n",
       "      <th>decade</th>\n",
       "      <th>krumlai</th>\n",
       "      <th>krumweight</th>\n",
       "      <th>name</th>\n",
       "      <th>scenarios</th>\n",
       "      <th>track</th>\n",
       "      <th>year</th>\n",
       "      <th>idx</th>\n",
       "    </tr>\n",
       "  </thead>\n",
       "  <tbody>\n",
       "    <tr>\n",
       "      <th>0</th>\n",
       "      <td>-0.075</td>\n",
       "      <td>2.0</td>\n",
       "      <td>5.0</td>\n",
       "      <td>NaN</td>\n",
       "      <td>NaN</td>\n",
       "      <td>CLC_LP_FT</td>\n",
       "      <td>1</td>\n",
       "      <td>PGW_MP</td>\n",
       "      <td>2000</td>\n",
       "      <td>115</td>\n",
       "    </tr>\n",
       "    <tr>\n",
       "      <th>1</th>\n",
       "      <td>-0.075</td>\n",
       "      <td>2.0</td>\n",
       "      <td>5.0</td>\n",
       "      <td>NaN</td>\n",
       "      <td>NaN</td>\n",
       "      <td>CLC_LP_FT</td>\n",
       "      <td>2</td>\n",
       "      <td>PGW_MP</td>\n",
       "      <td>2000</td>\n",
       "      <td>116</td>\n",
       "    </tr>\n",
       "    <tr>\n",
       "      <th>2</th>\n",
       "      <td>-0.075</td>\n",
       "      <td>2.0</td>\n",
       "      <td>5.0</td>\n",
       "      <td>NaN</td>\n",
       "      <td>NaN</td>\n",
       "      <td>CLC_LP_FT</td>\n",
       "      <td>3</td>\n",
       "      <td>PGW_MP</td>\n",
       "      <td>2000</td>\n",
       "      <td>117</td>\n",
       "    </tr>\n",
       "    <tr>\n",
       "      <th>3</th>\n",
       "      <td>-0.150</td>\n",
       "      <td>4.0</td>\n",
       "      <td>10.0</td>\n",
       "      <td>NaN</td>\n",
       "      <td>NaN</td>\n",
       "      <td>CLC_LP_FT</td>\n",
       "      <td>1</td>\n",
       "      <td>PGW_MP</td>\n",
       "      <td>2000</td>\n",
       "      <td>118</td>\n",
       "    </tr>\n",
       "    <tr>\n",
       "      <th>4</th>\n",
       "      <td>-0.150</td>\n",
       "      <td>4.0</td>\n",
       "      <td>10.0</td>\n",
       "      <td>NaN</td>\n",
       "      <td>NaN</td>\n",
       "      <td>CLC_LP_FT</td>\n",
       "      <td>2</td>\n",
       "      <td>PGW_MP</td>\n",
       "      <td>2000</td>\n",
       "      <td>119</td>\n",
       "    </tr>\n",
       "    <tr>\n",
       "      <th>5</th>\n",
       "      <td>-0.150</td>\n",
       "      <td>4.0</td>\n",
       "      <td>10.0</td>\n",
       "      <td>NaN</td>\n",
       "      <td>NaN</td>\n",
       "      <td>CLC_LP_FT</td>\n",
       "      <td>3</td>\n",
       "      <td>PGW_MP</td>\n",
       "      <td>2000</td>\n",
       "      <td>120</td>\n",
       "    </tr>\n",
       "    <tr>\n",
       "      <th>0</th>\n",
       "      <td>-0.075</td>\n",
       "      <td>2.0</td>\n",
       "      <td>5.0</td>\n",
       "      <td>NaN</td>\n",
       "      <td>NaN</td>\n",
       "      <td>CLC_LP_FT</td>\n",
       "      <td>1</td>\n",
       "      <td>PGW_LP</td>\n",
       "      <td>2000</td>\n",
       "      <td>121</td>\n",
       "    </tr>\n",
       "    <tr>\n",
       "      <th>1</th>\n",
       "      <td>-0.075</td>\n",
       "      <td>2.0</td>\n",
       "      <td>5.0</td>\n",
       "      <td>NaN</td>\n",
       "      <td>NaN</td>\n",
       "      <td>CLC_LP_FT</td>\n",
       "      <td>2</td>\n",
       "      <td>PGW_LP</td>\n",
       "      <td>2000</td>\n",
       "      <td>122</td>\n",
       "    </tr>\n",
       "    <tr>\n",
       "      <th>2</th>\n",
       "      <td>-0.075</td>\n",
       "      <td>2.0</td>\n",
       "      <td>5.0</td>\n",
       "      <td>NaN</td>\n",
       "      <td>NaN</td>\n",
       "      <td>CLC_LP_FT</td>\n",
       "      <td>5</td>\n",
       "      <td>PGW_LP</td>\n",
       "      <td>2000</td>\n",
       "      <td>123</td>\n",
       "    </tr>\n",
       "    <tr>\n",
       "      <th>3</th>\n",
       "      <td>-0.150</td>\n",
       "      <td>4.0</td>\n",
       "      <td>10.0</td>\n",
       "      <td>NaN</td>\n",
       "      <td>NaN</td>\n",
       "      <td>CLC_LP_FT</td>\n",
       "      <td>1</td>\n",
       "      <td>PGW_LP</td>\n",
       "      <td>2000</td>\n",
       "      <td>124</td>\n",
       "    </tr>\n",
       "    <tr>\n",
       "      <th>4</th>\n",
       "      <td>-0.150</td>\n",
       "      <td>4.0</td>\n",
       "      <td>10.0</td>\n",
       "      <td>NaN</td>\n",
       "      <td>NaN</td>\n",
       "      <td>CLC_LP_FT</td>\n",
       "      <td>2</td>\n",
       "      <td>PGW_LP</td>\n",
       "      <td>2000</td>\n",
       "      <td>125</td>\n",
       "    </tr>\n",
       "    <tr>\n",
       "      <th>5</th>\n",
       "      <td>-0.150</td>\n",
       "      <td>4.0</td>\n",
       "      <td>10.0</td>\n",
       "      <td>NaN</td>\n",
       "      <td>NaN</td>\n",
       "      <td>CLC_LP_FT</td>\n",
       "      <td>5</td>\n",
       "      <td>PGW_LP</td>\n",
       "      <td>2000</td>\n",
       "      <td>126</td>\n",
       "    </tr>\n",
       "  </tbody>\n",
       "</table>\n",
       "</div>"
      ],
      "text/plain": [
       "       P    T  decade  krumlai  krumweight       name  scenarios   track  \\\n",
       "0 -0.075  2.0     5.0      NaN         NaN  CLC_LP_FT          1  PGW_MP   \n",
       "1 -0.075  2.0     5.0      NaN         NaN  CLC_LP_FT          2  PGW_MP   \n",
       "2 -0.075  2.0     5.0      NaN         NaN  CLC_LP_FT          3  PGW_MP   \n",
       "3 -0.150  4.0    10.0      NaN         NaN  CLC_LP_FT          1  PGW_MP   \n",
       "4 -0.150  4.0    10.0      NaN         NaN  CLC_LP_FT          2  PGW_MP   \n",
       "5 -0.150  4.0    10.0      NaN         NaN  CLC_LP_FT          3  PGW_MP   \n",
       "0 -0.075  2.0     5.0      NaN         NaN  CLC_LP_FT          1  PGW_LP   \n",
       "1 -0.075  2.0     5.0      NaN         NaN  CLC_LP_FT          2  PGW_LP   \n",
       "2 -0.075  2.0     5.0      NaN         NaN  CLC_LP_FT          5  PGW_LP   \n",
       "3 -0.150  4.0    10.0      NaN         NaN  CLC_LP_FT          1  PGW_LP   \n",
       "4 -0.150  4.0    10.0      NaN         NaN  CLC_LP_FT          2  PGW_LP   \n",
       "5 -0.150  4.0    10.0      NaN         NaN  CLC_LP_FT          5  PGW_LP   \n",
       "\n",
       "   year  idx  \n",
       "0  2000  115  \n",
       "1  2000  116  \n",
       "2  2000  117  \n",
       "3  2000  118  \n",
       "4  2000  119  \n",
       "5  2000  120  \n",
       "0  2000  121  \n",
       "1  2000  122  \n",
       "2  2000  123  \n",
       "3  2000  124  \n",
       "4  2000  125  \n",
       "5  2000  126  "
      ]
     },
     "execution_count": 3,
     "metadata": {},
     "output_type": "execute_result"
    }
   ],
   "source": [
    "dat.tail(12)"
   ]
  },
  {
   "cell_type": "code",
   "execution_count": 4,
   "metadata": {
    "collapsed": false
   },
   "outputs": [
    {
     "data": {
      "text/plain": [
       "(126, 10)"
      ]
     },
     "execution_count": 4,
     "metadata": {},
     "output_type": "execute_result"
    }
   ],
   "source": [
    "dat.shape"
   ]
  },
  {
   "cell_type": "code",
   "execution_count": 5,
   "metadata": {
    "collapsed": true
   },
   "outputs": [],
   "source": [
    "strt = '1993-10-1'\n",
    "nd = '2013-09-30'"
   ]
  },
  {
   "cell_type": "code",
   "execution_count": 6,
   "metadata": {
    "collapsed": true
   },
   "outputs": [],
   "source": [
    "def parse_date(df):\n",
    "    return '%i-%i-%i'%(df.year,df.month,df.day)\n",
    "\n",
    "def readfile(fl):\n",
    "    dat = pd.read_table(fl,sep=' ')\n",
    "    dat['ET'] = dat.trans+dat.evap\n",
    "    dat['datetime'] = dat.apply(parse_date,axis=1)\n",
    "    dat.index = pd.DatetimeIndex(dat.datetime)\n",
    "    dat['wateryear'] = dat.index.map(rut.wateryear)\n",
    "    \n",
    "    return dat[strt:nd]"
   ]
  },
  {
   "cell_type": "code",
   "execution_count": 49,
   "metadata": {
    "collapsed": false
   },
   "outputs": [],
   "source": [
    "def process(df):\n",
    "    fl = df['file']\n",
    "    track = '%s_%s'%(fl.split('_')[0].split('/')[-1],fl.split('_')[1])\n",
    "    scenario = int(fl.split('_')[2]) # pull scenario\n",
    "    year = int(fl.split('_')[-7]) # pull year\n",
    "    decade = int(fl.split('_')[4]) # pull decade\n",
    "    \n",
    "    # pull the name of the simulation\n",
    "    name1 = fl.split('_')[-5]\n",
    "    name2 = fl.split('_')[-4]\n",
    "    name3 = fl.split('_')[-3]\n",
    "    name = '%s_%s_%s'%(name1,name2,name3)\n",
    "    \n",
    "    idx = int(fl.split('_')[-2]) # pull idx\n",
    "    \n",
    "    dat = readfile(fl)\n",
    "    sfvals = dat.adj_streamflow.as_matrix()\n",
    "    etvals = dat.ET.as_matrix()\n",
    "    transvals = dat.trans.as_matrix()\n",
    "    subvals = dat.snow_subl.as_matrix()\n",
    "    snowfallvals = dat.snowfall.as_matrix()\n",
    "    precipvals = dat.precip.as_matrix()\n",
    "    evapvals = dat.evap.as_matrix()\n",
    "    leakagevals = dat.leakage.as_matrix()\n",
    "    rzs = dat.rz_storage.as_matrix()\n",
    "    petvals = dat.pet.as_matrix()\n",
    "    \n",
    "    # compute some dataset whole values\n",
    "    R_P = dat.adj_streamflow.sum()/dat.precip.sum()\n",
    "    LAI = dat.lai.mean()\n",
    "    ET = dat.ET.mean()\n",
    "    leakage = dat.leakage.mean()\n",
    "    \n",
    "    \n",
    "    # summarize by water year\n",
    "    dat2 = dat.groupby(by='wateryear').mean()\n",
    "    dat2['R_P'] = dat2.adj_streamflow/dat2.precip\n",
    "    \n",
    "    # some values\n",
    "    R_P_min = dat2.R_P.min()\n",
    "    R_P_max = dat2.R_P.max()\n",
    "    P = dat2.precip.mean()\n",
    "    Q = dat2.streamflow.mean() \n",
    "    L = dat2.leakage.mean()\n",
    "    SWE = dat.groupby(by='wateryear').max().snowpack.mean()\n",
    "    \n",
    "    \n",
    "    return [track,scenario,year,decade,name,idx,R_P,LAI,R_P_min,R_P_max,Q,L,P,SWE,ET,leakage,sfvals,etvals,\n",
    "            transvals,subvals,snowfallvals,precipvals,evapvals,leakagevals,rzs,petvals]"
   ]
  },
  {
   "cell_type": "code",
   "execution_count": 50,
   "metadata": {
    "collapsed": false
   },
   "outputs": [],
   "source": [
    "df = pd.DataFrame({'file':glob.glob('/RHESSys/Como/out/exp/*_basin.daily')})"
   ]
  },
  {
   "cell_type": "code",
   "execution_count": 51,
   "metadata": {
    "collapsed": false
   },
   "outputs": [
    {
     "data": {
      "text/plain": [
       "126"
      ]
     },
     "execution_count": 51,
     "metadata": {},
     "output_type": "execute_result"
    }
   ],
   "source": [
    "len(df)"
   ]
  },
  {
   "cell_type": "code",
   "execution_count": 52,
   "metadata": {
    "collapsed": false
   },
   "outputs": [],
   "source": [
    "res = df.apply(process,axis=1)"
   ]
  },
  {
   "cell_type": "code",
   "execution_count": 53,
   "metadata": {
    "collapsed": false
   },
   "outputs": [],
   "source": [
    "names = ['track','scenario','year','decade','name','idx','R_P','LAI','R_Pmin','R_Pmax','Q','L','P','SWE','ET',\n",
    "         'leakage','streamflow','et','trans','snow_sub','snowfall','precip','evap','leakage','root_storage','pet']\n",
    "for name,val in zip(names,zip(*res)):\n",
    "    df[name] = val"
   ]
  },
  {
   "cell_type": "raw",
   "metadata": {},
   "source": [
    "# old way of pulling out the processing data\n",
    "track,scenario,year,decade,name,idx,R_P,LAI,R_P_min,R_P_max,Q,L,P,SWE,ET,leakage,sfvals,etvals,transvals,subvals,snowfallvals,precipvals,evapvals = zip(*res)\n",
    "df['track'] = track\n",
    "df['scenario'] = scenario\n",
    "df['year'] = year\n",
    "df['decade'] = decade\n",
    "df['name'] = name\n",
    "df['idx'] = idx\n",
    "df['R_P'] = R_P\n",
    "df['LAI'] = LAI\n",
    "df['R_Pmin'] = R_P_min\n",
    "df['R_Pmax'] = R_P_max\n",
    "df['Q'] = Q\n",
    "df['L'] = L\n",
    "df['P'] = P\n",
    "df['SWE'] = SWE\n",
    "df['ET'] = ET\n",
    "df['leakage'] = leakage\n",
    "df['streamflow'] = sfvals\n",
    "df['et'] = etvals\n",
    "df['trans'] = transvals\n",
    "df['']"
   ]
  },
  {
   "cell_type": "code",
   "execution_count": 54,
   "metadata": {
    "collapsed": false
   },
   "outputs": [],
   "source": [
    "df.sort_values('idx',inplace=True)"
   ]
  },
  {
   "cell_type": "code",
   "execution_count": 55,
   "metadata": {
    "collapsed": true
   },
   "outputs": [],
   "source": [
    "# removed b/c full run with all the climate futures do not have the correct index numbers, but those numbers are not important\n",
    "# add the columns from the experiment parameter file\n",
    "df['krumlai'] = dat['krumlai'].as_matrix()\n",
    "df['krumweight'] = dat['krumweight'].as_matrix()"
   ]
  },
  {
   "cell_type": "code",
   "execution_count": 56,
   "metadata": {
    "collapsed": false
   },
   "outputs": [],
   "source": [
    "del df['file']"
   ]
  },
  {
   "cell_type": "code",
   "execution_count": 57,
   "metadata": {
    "collapsed": true
   },
   "outputs": [],
   "source": [
    "df.reset_index(inplace=True)"
   ]
  },
  {
   "cell_type": "code",
   "execution_count": 58,
   "metadata": {
    "collapsed": true
   },
   "outputs": [],
   "source": [
    "df.to_pickle('./data/experiment_results_v5.pcl')"
   ]
  },
  {
   "cell_type": "code",
   "execution_count": 59,
   "metadata": {
    "collapsed": false
   },
   "outputs": [
    {
     "name": "stdout",
     "output_type": "stream",
     "text": [
      "-rwx------  1 barnhatb  staff   8.7M Oct 17 14:36 \u001b[31m./data/experiment_results_v2.pcl\u001b[m\u001b[m\r\n",
      "-rwx------  1 barnhatb  staff    17M Oct 20 08:50 \u001b[31m./data/experiment_results_v3.pcl\u001b[m\u001b[m\r\n",
      "-rwx------  1 barnhatb  staff    49M Oct 25 17:25 \u001b[31m./data/experiment_results_v4.pcl\u001b[m\u001b[m\r\n",
      "-rwx------  1 barnhatb  staff    70M Nov  7 17:04 \u001b[31m./data/experiment_results_v5.pcl\u001b[m\u001b[m\r\n"
     ]
    }
   ],
   "source": [
    "! ls -ltrh ./data/experiment_results_*.pcl"
   ]
  },
  {
   "cell_type": "code",
   "execution_count": 32,
   "metadata": {
    "collapsed": false
   },
   "outputs": [
    {
     "data": {
      "text/plain": [
       "array([2000, 2010, 2020, 2030, 2040, 2050, 2060, 2070, 2080, 2090, 2100])"
      ]
     },
     "execution_count": 32,
     "metadata": {},
     "output_type": "execute_result"
    }
   ],
   "source": [
    "df.year.unique()"
   ]
  },
  {
   "cell_type": "code",
   "execution_count": null,
   "metadata": {
    "collapsed": true
   },
   "outputs": [],
   "source": []
  }
 ],
 "metadata": {
  "kernelspec": {
   "display_name": "Python 2",
   "language": "python",
   "name": "python2"
  },
  "language_info": {
   "codemirror_mode": {
    "name": "ipython",
    "version": 2
   },
   "file_extension": ".py",
   "mimetype": "text/x-python",
   "name": "python",
   "nbconvert_exporter": "python",
   "pygments_lexer": "ipython2",
   "version": "2.7.12"
  }
 },
 "nbformat": 4,
 "nbformat_minor": 0
}
