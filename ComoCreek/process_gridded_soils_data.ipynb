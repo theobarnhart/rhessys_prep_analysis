{
 "cells": [
  {
   "cell_type": "code",
   "execution_count": 1,
   "metadata": {
    "collapsed": true
   },
   "outputs": [],
   "source": [
    "import gdal\n",
    "from scipy.optimize import curve_fit"
   ]
  },
  {
   "cell_type": "code",
   "execution_count": 2,
   "metadata": {
    "collapsed": true
   },
   "outputs": [],
   "source": [
    "depths = ['0_5','5_15','15_30','30_60','60_100','100_200']\n",
    "mids = [2.5,10,15+7.5,45,80,150]\n",
    "thicknesses = [5,10,15,30,40,100]\n",
    "variables = ['silt','sand','clay','lambda','hb','ksat']\n",
    "products = ['column','column','column','column','column','surface']\n",
    "stat = 'mean'"
   ]
  },
  {
   "cell_type": "code",
   "execution_count": 3,
   "metadata": {
    "collapsed": true
   },
   "outputs": [],
   "source": [
    "def generate_df(variable,depths):\n",
    "    \n",
    "    fl = '/RHESSys/Como/auxdata/POLARIS_3arcsec/%s_%s_%s_crop_project.tif'%(variable,stat,depths[0])\n",
    "    ds = gdal.Open(fl)\n",
    "    dat = np.array(ds.GetRasterBand(1).ReadAsArray(),dtype='float')\n",
    "    m,n = dat.shape\n",
    "    #print m*n\n",
    "    tmp = pd.DataFrame(index=np.arange(0,(m*n)),columns=depths) # generate data frame\n",
    "    for depth in depths:\n",
    "        fl = '/RHESSys/Como/auxdata/POLARIS_3arcsec/%s_%s_%s_crop_project.tif'%(variable,stat,depth)\n",
    "        ds = gdal.Open(fl)\n",
    "        dat = np.array(ds.GetRasterBand(1).ReadAsArray(),dtype='float')\n",
    "        m,n = dat.shape\n",
    "        #print m*n\n",
    "        \n",
    "        dat = np.reshape(dat,(m*n,1)) # reshape to a column\n",
    "        \n",
    "        tmp[depth] = dat\n",
    "    \n",
    "    return tmp"
   ]
  },
  {
   "cell_type": "code",
   "execution_count": 4,
   "metadata": {
    "collapsed": false
   },
   "outputs": [],
   "source": [
    "ksat = generate_df('ksat',depths)\n",
    "clay = generate_df('clay',depths)\n",
    "silt = generate_df('silt',depths)\n",
    "sand = generate_df('sand',depths)\n",
    "po = generate_df('lambda',depths)\n",
    "pa = generate_df('hb',depths)"
   ]
  },
  {
   "cell_type": "code",
   "execution_count": 5,
   "metadata": {
    "collapsed": false
   },
   "outputs": [],
   "source": [
    "def compute_cell_averages(df):\n",
    "    total_depth = np.sum(thicknesses)\n",
    "    weights = np.array(thicknesses)/float(total_depth)\n",
    "    \n",
    "    tmp = []\n",
    "    \n",
    "    for weight,depth in zip(weights,depths):\n",
    "        tmp.append(df[depth]*weight)\n",
    "    \n",
    "    return np.sum(tmp)"
   ]
  },
  {
   "cell_type": "code",
   "execution_count": 6,
   "metadata": {
    "collapsed": true
   },
   "outputs": [],
   "source": [
    "df = pd.DataFrame()"
   ]
  },
  {
   "cell_type": "code",
   "execution_count": 7,
   "metadata": {
    "collapsed": true
   },
   "outputs": [],
   "source": [
    "def estimate_m(df):\n",
    "    surf = df['0_5'] # grab the surface ksat value\n",
    "    \n",
    "    ksats = []\n",
    "    \n",
    "    for name in depths: ksats.append(df[name]) # extract ksat values\n",
    "        \n",
    "    ksats = np.array(ksats)\n",
    "    \n",
    "    def exp_decay(z,m):\n",
    "        return surf*np.exp((z/m)*-1)\n",
    "    \n",
    "    popt, pcov = curve_fit(exp_decay,ksats,mids)\n",
    "    \n",
    "    return popt[0]"
   ]
  },
  {
   "cell_type": "code",
   "execution_count": 8,
   "metadata": {
    "collapsed": false
   },
   "outputs": [],
   "source": [
    "df['clay'] = clay.apply(compute_cell_averages,axis=1)\n",
    "df['silt'] = silt.apply(compute_cell_averages,axis=1)\n",
    "df['sand'] = sand.apply(compute_cell_averages,axis=1)\n",
    "df['po'] = po.apply(compute_cell_averages,axis=1)\n",
    "df['pa'] = pa.apply(compute_cell_averages,axis=1)\n",
    "df['ksat_0_5'] = ksat['0_5']\n",
    "df['ksat_5_15'] = ksat['5_15']\n",
    "df['ksat_15_30'] = ksat['15_30']\n",
    "df['ksat_30_60'] = ksat['30_60']\n",
    "df['ksat_60_100'] = ksat['60_100']\n",
    "df['ksat_100_200'] = ksat['100_200']\n",
    "df['m'] = ksat.apply(estimate_m,axis=1) # this doesn't look promising"
   ]
  },
  {
   "cell_type": "code",
   "execution_count": 9,
   "metadata": {
    "collapsed": false
   },
   "outputs": [],
   "source": [
    "# Read in soil type raster\n",
    "rastpth = '/RHESSys/Como/auxdata/como_soils_30m_crop.tif'\n",
    "ds = gdal.Open(rastpth)\n",
    "soils = np.array(ds.GetRasterBand(1).ReadAsArray(),dtype='float')\n",
    "soils[soils==-9999] = np.nan"
   ]
  },
  {
   "cell_type": "code",
   "execution_count": 10,
   "metadata": {
    "collapsed": false
   },
   "outputs": [],
   "source": [
    "m,n = soils.shape\n",
    "df['soil'] = np.reshape(soils,(m*n,1))"
   ]
  },
  {
   "cell_type": "code",
   "execution_count": 11,
   "metadata": {
    "collapsed": true
   },
   "outputs": [],
   "source": [
    "# generate a list of soils types that fall only in the watershed\n",
    "# Read in soil type raster\n",
    "rastpth = '/RHESSys/Como/auxdata/como_soils_30m_crop_watershed.tif'\n",
    "ds = gdal.Open(rastpth)\n",
    "soils = np.array(ds.GetRasterBand(1).ReadAsArray(),dtype='float')\n",
    "soils[soils==0] = np.nan"
   ]
  },
  {
   "cell_type": "code",
   "execution_count": 12,
   "metadata": {
    "collapsed": true
   },
   "outputs": [],
   "source": [
    "soils = np.unique(soils[np.isnan(soils)==0])"
   ]
  },
  {
   "cell_type": "code",
   "execution_count": 13,
   "metadata": {
    "collapsed": false
   },
   "outputs": [],
   "source": [
    "# generate a list of soils not contained within the watershed\n",
    "all_soils = df.soil.unique() # grab all the soils in the data frame\n",
    "idxs = []\n",
    "\n",
    "for soil in all_soils: # loop through all the soils in the data frame\n",
    "    tmp = []\n",
    "    for s in soils: # loop through the soils in the watershed\n",
    "        \n",
    "        if s-soil == 0:\n",
    "            tmp.append(1)\n",
    "            \n",
    "    if np.sum(tmp) > 0:\n",
    "        idxs.append(0)\n",
    "        \n",
    "    else: idxs.append(1)\n",
    "                \n",
    "extra_soils = []\n",
    "\n",
    "for idx,soil in zip(idxs,all_soils):\n",
    "    if idx ==1: extra_soils.append(soil)"
   ]
  },
  {
   "cell_type": "code",
   "execution_count": 14,
   "metadata": {
    "collapsed": true
   },
   "outputs": [],
   "source": [
    "for soil in extra_soils:\n",
    "    df.loc[df.soil==soil,:] = np.NaN"
   ]
  },
  {
   "cell_type": "code",
   "execution_count": 15,
   "metadata": {
    "collapsed": true
   },
   "outputs": [],
   "source": [
    "df.dropna(inplace=True)"
   ]
  },
  {
   "cell_type": "code",
   "execution_count": 17,
   "metadata": {
    "collapsed": false
   },
   "outputs": [],
   "source": [
    "out = df.groupby(by='soil').mean()"
   ]
  },
  {
   "cell_type": "code",
   "execution_count": 24,
   "metadata": {
    "collapsed": true
   },
   "outputs": [],
   "source": [
    "def estimate_m_2(df):\n",
    "    ksats = np.array([df['ksat_0_5'],df['ksat_5_15'],df['ksat_15_30'],df['ksat_30_60'],df['ksat_60_100'],df['ksat_100_200']])\n",
    "    surf = ksats[0]\n",
    "    \n",
    "    def exp_decay(z,m):\n",
    "        return surf*np.exp((z/m)*-1)\n",
    "    \n",
    "    popt, pcov = curve_fit(exp_decay,mids,ksats)\n",
    "    \n",
    "    return popt[0]"
   ]
  },
  {
   "cell_type": "code",
   "execution_count": 25,
   "metadata": {
    "collapsed": false
   },
   "outputs": [],
   "source": [
    "out['m_2'] = out.apply(estimate_m_2,axis=1)"
   ]
  },
  {
   "cell_type": "code",
   "execution_count": 58,
   "metadata": {
    "collapsed": true
   },
   "outputs": [],
   "source": [
    "out.to_pickle('./data/como_soils.pcl')"
   ]
  },
  {
   "cell_type": "code",
   "execution_count": 79,
   "metadata": {
    "collapsed": true
   },
   "outputs": [],
   "source": [
    "def sum_texture(df):\n",
    "    return df['silt']+df['sand']+df['clay']"
   ]
  },
  {
   "cell_type": "code",
   "execution_count": 91,
   "metadata": {
    "collapsed": false
   },
   "outputs": [],
   "source": [
    "out['texture_total'] = out.apply(sum_texture,axis=1)"
   ]
  },
  {
   "cell_type": "code",
   "execution_count": 75,
   "metadata": {
    "collapsed": true
   },
   "outputs": [],
   "source": [
    "out['silt'] = out.silt * (100./out.texture_total)\n",
    "out['sand'] = out.sand * (100./out.texture_total)\n",
    "out['clay'] = out.clay * (100./out.texture_total)"
   ]
  },
  {
   "cell_type": "code",
   "execution_count": 82,
   "metadata": {
    "collapsed": true
   },
   "outputs": [],
   "source": [
    "out['clay'] = out.clay.round()\n",
    "out['silt'] = out.silt.round()\n",
    "out['sand'] = out.sand.round()"
   ]
  },
  {
   "cell_type": "code",
   "execution_count": 86,
   "metadata": {
    "collapsed": true
   },
   "outputs": [],
   "source": [
    "def compute_sand(df):\n",
    "    return 100. - np.sum([df['clay'],df['silt']])"
   ]
  },
  {
   "cell_type": "code",
   "execution_count": 90,
   "metadata": {
    "collapsed": true
   },
   "outputs": [],
   "source": [
    "out['sand'] = out.apply(compute_sand,axis=1)"
   ]
  },
  {
   "cell_type": "code",
   "execution_count": 102,
   "metadata": {
    "collapsed": false
   },
   "outputs": [],
   "source": [
    "cal = out.describe()[['ksat_0_5','po','pa']]"
   ]
  },
  {
   "cell_type": "code",
   "execution_count": 104,
   "metadata": {
    "collapsed": false
   },
   "outputs": [],
   "source": [
    "cal = cal.loc[['mean','min','max'],:]"
   ]
  },
  {
   "cell_type": "code",
   "execution_count": 106,
   "metadata": {
    "collapsed": false
   },
   "outputs": [],
   "source": [
    "cal['ksat_0_5'] /= 100."
   ]
  },
  {
   "cell_type": "code",
   "execution_count": 111,
   "metadata": {
    "collapsed": false
   },
   "outputs": [],
   "source": [
    "cal.loc['max_scalar',:] = cal.loc['max']/cal.loc['mean']\n",
    "cal.loc['min_scalar',:] = cal.loc['min']/cal.loc['mean']"
   ]
  },
  {
   "cell_type": "code",
   "execution_count": 112,
   "metadata": {
    "collapsed": false
   },
   "outputs": [
    {
     "data": {
      "text/html": [
       "<div>\n",
       "<table border=\"1\" class=\"dataframe\">\n",
       "  <thead>\n",
       "    <tr style=\"text-align: right;\">\n",
       "      <th></th>\n",
       "      <th>ksat_0_5</th>\n",
       "      <th>po</th>\n",
       "      <th>pa</th>\n",
       "    </tr>\n",
       "  </thead>\n",
       "  <tbody>\n",
       "    <tr>\n",
       "      <th>mean</th>\n",
       "      <td>0.307471</td>\n",
       "      <td>0.407403</td>\n",
       "      <td>13.761959</td>\n",
       "    </tr>\n",
       "    <tr>\n",
       "      <th>min</th>\n",
       "      <td>0.159092</td>\n",
       "      <td>0.398318</td>\n",
       "      <td>10.964427</td>\n",
       "    </tr>\n",
       "    <tr>\n",
       "      <th>max</th>\n",
       "      <td>0.383972</td>\n",
       "      <td>0.418298</td>\n",
       "      <td>16.293565</td>\n",
       "    </tr>\n",
       "    <tr>\n",
       "      <th>max_scalar</th>\n",
       "      <td>1.248808</td>\n",
       "      <td>1.026743</td>\n",
       "      <td>1.183957</td>\n",
       "    </tr>\n",
       "    <tr>\n",
       "      <th>min_scalar</th>\n",
       "      <td>0.517422</td>\n",
       "      <td>0.977701</td>\n",
       "      <td>0.796720</td>\n",
       "    </tr>\n",
       "  </tbody>\n",
       "</table>\n",
       "</div>"
      ],
      "text/plain": [
       "            ksat_0_5        po         pa\n",
       "mean        0.307471  0.407403  13.761959\n",
       "min         0.159092  0.398318  10.964427\n",
       "max         0.383972  0.418298  16.293565\n",
       "max_scalar  1.248808  1.026743   1.183957\n",
       "min_scalar  0.517422  0.977701   0.796720"
      ]
     },
     "execution_count": 112,
     "metadata": {},
     "output_type": "execute_result"
    }
   ],
   "source": [
    "cal"
   ]
  },
  {
   "cell_type": "code",
   "execution_count": 97,
   "metadata": {
    "collapsed": false
   },
   "outputs": [
    {
     "data": {
      "text/plain": [
       "0.1376"
      ]
     },
     "execution_count": 97,
     "metadata": {},
     "output_type": "execute_result"
    }
   ],
   "source": [
    "13.76/100."
   ]
  },
  {
   "cell_type": "markdown",
   "metadata": {},
   "source": [
    "### Note:\n",
    "\n",
    "It seems that given the above table, there isn't much variability in the soils across ComoCreek. I should probably just parameterize it as one soil...."
   ]
  },
  {
   "cell_type": "code",
   "execution_count": 93,
   "metadata": {
    "collapsed": false
   },
   "outputs": [
    {
     "data": {
      "text/html": [
       "<div>\n",
       "<table border=\"1\" class=\"dataframe\">\n",
       "  <thead>\n",
       "    <tr style=\"text-align: right;\">\n",
       "      <th></th>\n",
       "      <th>clay</th>\n",
       "      <th>silt</th>\n",
       "      <th>sand</th>\n",
       "      <th>po</th>\n",
       "      <th>pa</th>\n",
       "      <th>ksat_0_5</th>\n",
       "      <th>ksat_5_15</th>\n",
       "      <th>ksat_15_30</th>\n",
       "      <th>ksat_30_60</th>\n",
       "      <th>ksat_60_100</th>\n",
       "      <th>ksat_100_200</th>\n",
       "      <th>m</th>\n",
       "      <th>soil</th>\n",
       "    </tr>\n",
       "  </thead>\n",
       "  <tbody>\n",
       "    <tr>\n",
       "      <th>count</th>\n",
       "      <td>16783.000000</td>\n",
       "      <td>16783.000000</td>\n",
       "      <td>16783.000000</td>\n",
       "      <td>16783.000000</td>\n",
       "      <td>16783.000000</td>\n",
       "      <td>16783.000000</td>\n",
       "      <td>16783.000000</td>\n",
       "      <td>16783.000000</td>\n",
       "      <td>16783.000000</td>\n",
       "      <td>16783.000000</td>\n",
       "      <td>16783.000000</td>\n",
       "      <td>1.678300e+04</td>\n",
       "      <td>16783.000000</td>\n",
       "    </tr>\n",
       "    <tr>\n",
       "      <th>mean</th>\n",
       "      <td>13.952544</td>\n",
       "      <td>20.716450</td>\n",
       "      <td>62.500349</td>\n",
       "      <td>0.407596</td>\n",
       "      <td>13.663587</td>\n",
       "      <td>30.403838</td>\n",
       "      <td>14.590718</td>\n",
       "      <td>7.683341</td>\n",
       "      <td>8.211930</td>\n",
       "      <td>9.855494</td>\n",
       "      <td>15.683045</td>\n",
       "      <td>1.178638e+08</td>\n",
       "      <td>140.396771</td>\n",
       "    </tr>\n",
       "    <tr>\n",
       "      <th>std</th>\n",
       "      <td>1.681907</td>\n",
       "      <td>1.140756</td>\n",
       "      <td>2.255130</td>\n",
       "      <td>0.011288</td>\n",
       "      <td>2.278666</td>\n",
       "      <td>8.903771</td>\n",
       "      <td>3.225571</td>\n",
       "      <td>1.067355</td>\n",
       "      <td>1.232863</td>\n",
       "      <td>2.410643</td>\n",
       "      <td>3.931845</td>\n",
       "      <td>1.094876e+08</td>\n",
       "      <td>12.939757</td>\n",
       "    </tr>\n",
       "    <tr>\n",
       "      <th>min</th>\n",
       "      <td>9.355786</td>\n",
       "      <td>16.207026</td>\n",
       "      <td>54.156929</td>\n",
       "      <td>0.368062</td>\n",
       "      <td>7.890588</td>\n",
       "      <td>9.261080</td>\n",
       "      <td>6.620969</td>\n",
       "      <td>4.788270</td>\n",
       "      <td>4.828485</td>\n",
       "      <td>4.051244</td>\n",
       "      <td>6.156418</td>\n",
       "      <td>1.033189e+02</td>\n",
       "      <td>123.000000</td>\n",
       "    </tr>\n",
       "    <tr>\n",
       "      <th>25%</th>\n",
       "      <td>12.576380</td>\n",
       "      <td>20.009050</td>\n",
       "      <td>61.080723</td>\n",
       "      <td>0.400451</td>\n",
       "      <td>11.785900</td>\n",
       "      <td>24.590642</td>\n",
       "      <td>12.212982</td>\n",
       "      <td>6.956430</td>\n",
       "      <td>7.366637</td>\n",
       "      <td>8.241879</td>\n",
       "      <td>12.854218</td>\n",
       "      <td>5.172685e+07</td>\n",
       "      <td>123.000000</td>\n",
       "    </tr>\n",
       "    <tr>\n",
       "      <th>50%</th>\n",
       "      <td>13.996609</td>\n",
       "      <td>20.809492</td>\n",
       "      <td>62.634343</td>\n",
       "      <td>0.409140</td>\n",
       "      <td>13.699515</td>\n",
       "      <td>31.854584</td>\n",
       "      <td>14.793041</td>\n",
       "      <td>7.669579</td>\n",
       "      <td>8.114238</td>\n",
       "      <td>9.578377</td>\n",
       "      <td>15.228470</td>\n",
       "      <td>1.028405e+08</td>\n",
       "      <td>145.000000</td>\n",
       "    </tr>\n",
       "    <tr>\n",
       "      <th>75%</th>\n",
       "      <td>15.140592</td>\n",
       "      <td>21.533541</td>\n",
       "      <td>64.141285</td>\n",
       "      <td>0.416134</td>\n",
       "      <td>15.323161</td>\n",
       "      <td>37.303087</td>\n",
       "      <td>17.063907</td>\n",
       "      <td>8.328271</td>\n",
       "      <td>8.946536</td>\n",
       "      <td>11.254957</td>\n",
       "      <td>17.958005</td>\n",
       "      <td>1.620404e+08</td>\n",
       "      <td>146.000000</td>\n",
       "    </tr>\n",
       "    <tr>\n",
       "      <th>max</th>\n",
       "      <td>19.684217</td>\n",
       "      <td>24.498658</td>\n",
       "      <td>69.403314</td>\n",
       "      <td>0.434209</td>\n",
       "      <td>20.496996</td>\n",
       "      <td>50.080135</td>\n",
       "      <td>23.790100</td>\n",
       "      <td>11.168921</td>\n",
       "      <td>13.176240</td>\n",
       "      <td>23.194210</td>\n",
       "      <td>38.690639</td>\n",
       "      <td>2.172282e+09</td>\n",
       "      <td>159.000000</td>\n",
       "    </tr>\n",
       "  </tbody>\n",
       "</table>\n",
       "</div>"
      ],
      "text/plain": [
       "               clay          silt          sand            po            pa  \\\n",
       "count  16783.000000  16783.000000  16783.000000  16783.000000  16783.000000   \n",
       "mean      13.952544     20.716450     62.500349      0.407596     13.663587   \n",
       "std        1.681907      1.140756      2.255130      0.011288      2.278666   \n",
       "min        9.355786     16.207026     54.156929      0.368062      7.890588   \n",
       "25%       12.576380     20.009050     61.080723      0.400451     11.785900   \n",
       "50%       13.996609     20.809492     62.634343      0.409140     13.699515   \n",
       "75%       15.140592     21.533541     64.141285      0.416134     15.323161   \n",
       "max       19.684217     24.498658     69.403314      0.434209     20.496996   \n",
       "\n",
       "           ksat_0_5     ksat_5_15    ksat_15_30    ksat_30_60   ksat_60_100  \\\n",
       "count  16783.000000  16783.000000  16783.000000  16783.000000  16783.000000   \n",
       "mean      30.403838     14.590718      7.683341      8.211930      9.855494   \n",
       "std        8.903771      3.225571      1.067355      1.232863      2.410643   \n",
       "min        9.261080      6.620969      4.788270      4.828485      4.051244   \n",
       "25%       24.590642     12.212982      6.956430      7.366637      8.241879   \n",
       "50%       31.854584     14.793041      7.669579      8.114238      9.578377   \n",
       "75%       37.303087     17.063907      8.328271      8.946536     11.254957   \n",
       "max       50.080135     23.790100     11.168921     13.176240     23.194210   \n",
       "\n",
       "       ksat_100_200             m          soil  \n",
       "count  16783.000000  1.678300e+04  16783.000000  \n",
       "mean      15.683045  1.178638e+08    140.396771  \n",
       "std        3.931845  1.094876e+08     12.939757  \n",
       "min        6.156418  1.033189e+02    123.000000  \n",
       "25%       12.854218  5.172685e+07    123.000000  \n",
       "50%       15.228470  1.028405e+08    145.000000  \n",
       "75%       17.958005  1.620404e+08    146.000000  \n",
       "max       38.690639  2.172282e+09    159.000000  "
      ]
     },
     "execution_count": 93,
     "metadata": {},
     "output_type": "execute_result"
    }
   ],
   "source": [
    "df.describe()"
   ]
  },
  {
   "cell_type": "code",
   "execution_count": 48,
   "metadata": {
    "collapsed": true
   },
   "outputs": [],
   "source": [
    "def graph(df):\n",
    "    ksats = df[['ksat_0_5','ksat_5_15','ksat_15_30','ksat_30_60','ksat_60_100','ksat_100_200']].as_matrix()\n",
    "    m,n = ksats.shape\n",
    "    \n",
    "    ksats = np.reshape(ksats,(m*n))\n",
    "    \n",
    "    surf = ksats[0]\n",
    "    fig = plt.figure(figsize=(5,5))\n",
    "    ax = fig.add_subplot(111)\n",
    "    \n",
    "    ax.plot(ksats,mids,'.',label='Observed')\n",
    "    \n",
    "    depths = np.linspace(0,np.max(mids),100)\n",
    "    \n",
    "    def exp_decay(z,m):\n",
    "        return surf*np.exp((z/m)*-1)\n",
    "    \n",
    "    ax.plot(exp_decay(depths,df['m_2'].as_matrix()[0]),depths,label='Modeled')\n",
    "    "
   ]
  },
  {
   "cell_type": "code",
   "execution_count": null,
   "metadata": {
    "collapsed": true
   },
   "outputs": [],
   "source": []
  },
  {
   "cell_type": "code",
   "execution_count": null,
   "metadata": {
    "collapsed": true
   },
   "outputs": [],
   "source": [
    "tags = ['silt','sand','clay']"
   ]
  }
 ],
 "metadata": {
  "kernelspec": {
   "display_name": "Python 2",
   "language": "python",
   "name": "python2"
  },
  "language_info": {
   "codemirror_mode": {
    "name": "ipython",
    "version": 2
   },
   "file_extension": ".py",
   "mimetype": "text/x-python",
   "name": "python",
   "nbconvert_exporter": "python",
   "pygments_lexer": "ipython2",
   "version": "2.7.12"
  }
 },
 "nbformat": 4,
 "nbformat_minor": 0
}
