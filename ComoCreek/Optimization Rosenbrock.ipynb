{
 "cells": [
  {
   "cell_type": "code",
   "execution_count": 1,
   "metadata": {
    "collapsed": true
   },
   "outputs": [],
   "source": [
    "import spotpy"
   ]
  },
  {
   "cell_type": "raw",
   "metadata": {},
   "source": [
    "class spotpy_setup(object):\n",
    "    def __init__(self):\n",
    "        # define the parameter distributions\n",
    "        self.params = [spotpy.parameter.Uniform('x',-10,10,1.5,3.0,-10,10),\n",
    "                      spotpy.parameter.Uniform('y',-10,10,1.5,3.0,-10,10)]\n",
    "        \n",
    "        def parameters(self): # generate the parameters\n",
    "            return spotpy.parameter.generate(self.params)\n",
    "        \n",
    "        def simulation(self,vector):\n",
    "            x=np.array(vector)\n",
    "            simulations = [np.sum(100.0*(x[1:] - x[:-1]**2.)**2 + (1 - x[:-1])**2.)]\n",
    "            return simulations\n",
    "        \n",
    "        def evaluation(self):\n",
    "            observations=[0]\n",
    "            return observations\n",
    "        \n",
    "        def objectivefunction(self,simulation,evaluation):\n",
    "            objectivefunction=-spotpy.objectivefunctions.rmse(evaluation,simulation)\n",
    "            return objectivefunction\n",
    "    "
   ]
  },
  {
   "cell_type": "code",
   "execution_count": null,
   "metadata": {
    "collapsed": true
   },
   "outputs": [],
   "source": [
    "spotpy.parameter.generate()"
   ]
  },
  {
   "cell_type": "code",
   "execution_count": 4,
   "metadata": {
    "collapsed": false
   },
   "outputs": [],
   "source": [
    "from spotpy.examples.spot_setup_rosenbrock import spot_setup"
   ]
  },
  {
   "cell_type": "code",
   "execution_count": 22,
   "metadata": {
    "collapsed": false
   },
   "outputs": [],
   "source": [
    "results = []\n",
    "spotpy_setup = spot_setup()\n",
    "rep = 5000"
   ]
  },
  {
   "cell_type": "code",
   "execution_count": 23,
   "metadata": {
    "collapsed": false
   },
   "outputs": [
    {
     "name": "stdout",
     "output_type": "stream",
     "text": [
      "End of sampling\n",
      "936 of 5000 (best like=-0.239378)\n",
      "Best parameter set\n",
      "[ 0.59545595  0.32705009]\n",
      "Duration:0.33 s\n",
      "Creating LatinHyperCube Matrix\n",
      "Start sampling\n",
      "End of sampling\n",
      "1308 of 5000 (best like=-0.0133985)\n",
      "Best parameter set\n",
      "[ 0.89819427  0.81226117]\n",
      "Duration:0.28 s\n",
      "burnIn...\n",
      "Beginn Random Walk\n",
      "End of sampling\n",
      "Acceptance rate = 0.001\n",
      "1504 of 5000 (best like=-0.0233498)\n",
      "Best parameter set:\n",
      "[ 0.97538032  0.96644775]\n",
      "Duration:0.31 s\n",
      "burnIn...\n",
      "Beginn of Random Walk\n",
      "End of sampling\n",
      "Acceptance rate = 0.0034\n",
      "1331 of 5000 (best like=-0.935675)\n",
      "Best parameter set\n",
      "[ 1.12478934  1.25993284]\n",
      "Duration:0.37 s\n",
      "THE POPULATION HAS CONVERGED TO A PRESPECIFIED SMALL PARAMETER SPACE\n",
      "SEARCH WAS STOPPED AT TRIAL NUMBER: 2160\n",
      "NORMALIZED GEOMETRIC RANGE = 0.000000\n",
      "THE BEST POINT HAS IMPROVED IN LAST 100 LOOPS BY 6919.121907\n",
      "Best parameter set\n",
      "[ 1.  1.]\n",
      "Duration:0.38 s\n",
      "5000 of 5000 (best like=-0.00391915)\n",
      "Duration:0.35 s\n"
     ]
    },
    {
     "name": "stderr",
     "output_type": "stream",
     "text": [
      "/Users/barnhatb/anaconda/lib/python2.7/site-packages/spotpy/algorithms/demcz.py:407: RuntimeWarning: overflow encountered in exp\n",
      "  return decision, np.minimum(1, np.exp(logMetropHastRatio))\n",
      "/Users/barnhatb/anaconda/lib/python2.7/site-packages/spotpy/algorithms/demcz.py:692: RuntimeWarning: divide by zero encountered in true_divide\n",
      "  self._R = np.sqrt(varEstimate / withinChainVariances)\n",
      "/Users/barnhatb/anaconda/lib/python2.7/site-packages/spotpy/algorithms/demcz.py:694: RuntimeWarning: divide by zero encountered in log\n",
      "  self._WChange = np.abs(np.log(withinChainVariances / self._W)**.5)\n",
      "/Users/barnhatb/anaconda/lib/python2.7/site-packages/spotpy/algorithms/demcz.py:694: RuntimeWarning: invalid value encountered in sqrt\n",
      "  self._WChange = np.abs(np.log(withinChainVariances / self._W)**.5)\n",
      "/Users/barnhatb/anaconda/lib/python2.7/site-packages/spotpy/algorithms/demcz.py:697: RuntimeWarning: divide by zero encountered in log\n",
      "  self._VChange = np.abs(np.log(varEstimate / self._V)**.5)\n",
      "/Users/barnhatb/anaconda/lib/python2.7/site-packages/spotpy/algorithms/demcz.py:697: RuntimeWarning: invalid value encountered in sqrt\n",
      "  self._VChange = np.abs(np.log(varEstimate / self._V)**.5)\n",
      "/Users/barnhatb/anaconda/lib/python2.7/site-packages/spotpy/algorithms/demcz.py:694: RuntimeWarning: divide by zero encountered in true_divide\n",
      "  self._WChange = np.abs(np.log(withinChainVariances / self._W)**.5)\n"
     ]
    },
    {
     "name": "stdout",
     "output_type": "stream",
     "text": [
      "Gelman Rubin R=[ 1.02427489  1.02178148]\n",
      "End of sampling\n",
      "2 of 1250 (best like=-0.919006)\n",
      "Best parameter set\n",
      "[0.99881797102254521, 0.99423708360663532]\n",
      "Duration:1.66 s\n",
      "100 input vectors with 2 parameters\n",
      "Generating 1000 parameters:\n",
      "(67, 101)\n",
      "(142, 201)\n",
      "(221, 301)\n",
      "(288, 401)\n"
     ]
    },
    {
     "name": "stderr",
     "output_type": "stream",
     "text": [
      "/Users/barnhatb/anaconda/lib/python2.7/site-packages/spotpy/algorithms/rope.py:258: VisibleDeprecationWarning: using a non-integer number instead of an integer will result in an error in the future\n",
      "  for j in range(NP)]  # S: random sample from X\n"
     ]
    },
    {
     "name": "stdout",
     "output_type": "stream",
     "text": [
      "(348, 501)\n",
      "(422, 601)\n",
      "(490, 701)\n",
      "(559, 801)\n",
      "(634, 901)\n",
      "(699, 1001)\n",
      "(768, 1101)\n",
      "(840, 1201)\n",
      "(906, 1301)\n",
      "(976, 1401)\n",
      "(1046, 1501)\n",
      "100 input vectors with 2 parameters\n",
      "Generating 1000 parameters:\n",
      "(48, 101)\n",
      "(91, 201)\n",
      "(143, 301)\n",
      "(187, 401)\n",
      "(235, 501)\n",
      "(289, 601)\n",
      "(343, 701)\n",
      "(398, 801)\n",
      "(443, 901)\n",
      "(485, 1001)\n",
      "(526, 1101)\n",
      "(583, 1201)\n",
      "(638, 1301)\n",
      "(689, 1401)\n",
      "(727, 1501)\n",
      "(777, 1601)\n",
      "(828, 1701)\n",
      "(883, 1801)\n",
      "(932, 1901)\n",
      "(979, 2001)\n",
      "(1032, 2101)\n",
      "100 input vectors with 2 parameters\n",
      "Generating 1000 parameters:\n",
      "(26, 101)\n",
      "(53, 201)\n",
      "(78, 301)\n",
      "(106, 401)\n",
      "(134, 501)\n",
      "(160, 601)\n",
      "(185, 701)\n",
      "(199, 801)\n",
      "(216, 901)\n",
      "(243, 1001)\n",
      "(266, 1101)\n",
      "(296, 1201)\n",
      "(318, 1301)\n",
      "(342, 1401)\n",
      "(365, 1501)\n",
      "(389, 1601)\n",
      "(417, 1701)\n",
      "(441, 1801)\n",
      "(463, 1901)\n",
      "(483, 2001)\n",
      "(505, 2101)\n",
      "(539, 2201)\n",
      "(570, 2301)\n",
      "(589, 2401)\n",
      "(612, 2501)\n",
      "(638, 2601)\n",
      "(662, 2701)\n",
      "(689, 2801)\n",
      "(720, 2901)\n",
      "(749, 3001)\n",
      "(768, 3101)\n",
      "(797, 3201)\n",
      "(825, 3301)\n",
      "(850, 3401)\n",
      "(881, 3501)\n",
      "(903, 3601)\n",
      "(933, 3701)\n",
      "(964, 3801)\n",
      "(987, 3901)\n",
      "(1011, 4001)\n",
      "100 input vectors with 2 parameters\n",
      "Generating 1000 parameters:\n",
      "(17, 101)\n",
      "(32, 201)\n",
      "(46, 301)\n",
      "(60, 401)\n",
      "(74, 501)\n",
      "(90, 601)\n",
      "(107, 701)\n",
      "(125, 801)\n",
      "(146, 901)\n",
      "(165, 1001)\n",
      "(185, 1101)\n",
      "(201, 1201)\n",
      "(216, 1301)\n",
      "(226, 1401)\n",
      "(240, 1501)\n",
      "(260, 1601)\n",
      "(276, 1701)\n",
      "(295, 1801)\n",
      "(317, 1901)\n",
      "(340, 2001)\n",
      "(357, 2101)\n",
      "(373, 2201)\n",
      "(391, 2301)\n",
      "(401, 2401)\n",
      "(412, 2501)\n",
      "(432, 2601)\n",
      "(445, 2701)\n",
      "(463, 2801)\n",
      "(477, 2901)\n",
      "(490, 3001)\n",
      "(502, 3101)\n",
      "(520, 3201)\n",
      "(535, 3301)\n",
      "(549, 3401)\n",
      "(571, 3501)\n",
      "(586, 3601)\n",
      "(608, 3701)\n",
      "(626, 3801)\n",
      "(643, 3901)\n",
      "(658, 4001)\n",
      "(672, 4101)\n",
      "(681, 4201)\n",
      "(702, 4301)\n",
      "(718, 4401)\n",
      "(743, 4501)\n",
      "(761, 4601)\n",
      "(777, 4701)\n",
      "(794, 4801)\n",
      "(808, 4901)\n",
      "(828, 5001)\n",
      "(849, 5101)\n",
      "(869, 5201)\n",
      "(888, 5301)\n",
      "(910, 5401)\n",
      "(926, 5501)\n",
      "(938, 5601)\n",
      "(951, 5701)\n",
      "(970, 5801)\n",
      "(985, 5901)\n",
      "(1007, 6001)\n",
      "End of sampling\n",
      "3563 of 5000 (best like=-0.00186517)\n",
      "Best parameter set:\n",
      "[ 0.96688595  0.93764087]\n",
      "Duration:1.43 s\n",
      "96 of 5000 (best like=-2.15176) est. time remaining: 00:00:01\n",
      "192 of 5000 (best like=-2.15176) est. time remaining: 00:00:01\n",
      "288 of 5000 (best like=-0.552362) est. time remaining: 00:00:01\n",
      "384 of 5000 (best like=-0.552362) est. time remaining: 00:00:01\n",
      "480 of 5000 (best like=-0.127243) est. time remaining: 00:00:01\n",
      "576 of 5000 (best like=-0.116837) est. time remaining: 00:00:01\n",
      "672 of 5000 (best like=-0.116837) est. time remaining: 00:00:01\n",
      "768 of 5000 (best like=-0.116837) est. time remaining: 00:00:01\n",
      "864 of 5000 (best like=-0.112154) est. time remaining: 00:00:01\n",
      "960 of 5000 (best like=-0.11149) est. time remaining: 00:00:01\n",
      "1056 of 5000 (best like=-0.11149) est. time remaining: 00:00:01\n",
      "1152 of 5000 (best like=-0.0922121) est. time remaining: 00:00:01\n",
      "1248 of 5000 (best like=-0.0922121) est. time remaining: 00:00:01\n",
      "1344 of 5000 (best like=-0.0922121) est. time remaining: 00:00:01\n",
      "1440 of 5000 (best like=-0.0922121) est. time remaining: 00:00:01\n",
      "1536 of 5000 (best like=-0.0922121) est. time remaining: 00:00:01\n",
      "1632 of 5000 (best like=-0.0922121) est. time remaining: 00:00:01\n",
      "1728 of 5000 (best like=-0.0922121) est. time remaining: 00:00:01\n",
      "1824 of 5000 (best like=-0.0922121) est. time remaining: 00:00:01\n",
      "1920 of 5000 (best like=-0.0922121) est. time remaining: 00:00:01\n",
      "2016 of 5000 (best like=-0.0922121) est. time remaining: 00:00:01\n",
      "2112 of 5000 (best like=-0.0922121) est. time remaining: 00:00:01\n",
      "2208 of 5000 (best like=-0.0922121) est. time remaining: 00:00:01\n",
      "2304 of 5000 (best like=-0.0922121) est. time remaining: 00:00:01\n",
      "2400 of 5000 (best like=-0.0922121) est. time remaining: 00:00:01\n",
      "2496 of 5000 (best like=-0.0922121) est. time remaining: 00:00:01\n",
      "2592 of 5000 (best like=-0.0922121) est. time remaining: 00:00:01\n",
      "2688 of 5000 (best like=-0.0922121) est. time remaining: 00:00:01\n",
      "2785 of 5000 (best like=-0.0922121) est. time remaining: 00:00:01\n",
      "2882 of 5000 (best like=-0.0922121) est. time remaining: 00:00:01\n",
      "2978 of 5000 (best like=-0.0922121) est. time remaining: 00:00:01\n",
      "3075 of 5000 (best like=-0.0922121) est. time remaining: 00:00:01\n",
      "3171 of 5000 (best like=-0.0922121) est. time remaining: 00:00:01\n",
      "3269 of 5000 (best like=-0.0922121) est. time remaining: 00:00:01\n",
      "3366 of 5000 (best like=-0.0922121) est. time remaining: 00:00:01\n",
      "3463 of 5000 (best like=-0.0917709) est. time remaining: 00:00:01\n",
      "3560 of 5000 (best like=-0.0917709) est. time remaining: 00:00:01\n",
      "3658 of 5000 (best like=-0.0917709) est. time remaining: 00:00:01\n",
      "3754 of 5000 (best like=-0.0917709) est. time remaining: 00:00:01\n",
      "3850 of 5000 (best like=-0.0917709) est. time remaining: 00:00:01\n",
      "3947 of 5000 (best like=-0.0917709) est. time remaining: 00:00:01\n",
      "4045 of 5000 (best like=-0.0917709) est. time remaining: 00:00:01\n",
      "4143 of 5000 (best like=-0.0917709) est. time remaining: 00:00:01\n",
      "4239 of 5000 (best like=-0.0917709) est. time remaining: 00:00:01\n",
      "4335 of 5000 (best like=-0.0917709) est. time remaining: 00:00:01\n",
      "4431 of 5000 (best like=-0.0662846) est. time remaining: 00:00:01\n",
      "4527 of 5000 (best like=-0.0662846) est. time remaining: 00:00:01\n",
      "4624 of 5000 (best like=-0.0662846) est. time remaining: 00:00:01\n",
      "4721 of 5000 (best like=-0.0662846) est. time remaining: 00:00:01\n",
      "4817 of 5000 (best like=-0.0662846) est. time remaining: 00:00:01\n",
      "4913 of 5000 (best like=-0.0643295) est. time remaining: 00:00:01\n",
      "5009 of 5000 (best like=-0.0643295) est. time remaining: 00:00:01\n",
      "*** OPTIMIZATION SEARCH TERMINATED BECAUSE THE LIMIT\n",
      "ON THE MAXIMUM NUMBER OF TRIALS \n",
      "5000\n",
      "HAS BEEN EXCEEDED.\n",
      "Best parameter set:\n",
      "[ 1.29966614  1.13261024]\n",
      "Duration:0.01 s\n",
      "0.0643295197682\n",
      "5009\n"
     ]
    },
    {
     "ename": "AttributeError",
     "evalue": "'module' object has no attribute 'fscabd'",
     "output_type": "error",
     "traceback": [
      "\u001b[0;31m------------------------------------------------------\u001b[0m",
      "\u001b[0;31mAttributeError\u001b[0m       Traceback (most recent call last)",
      "\u001b[0;32m<ipython-input-23-57db85773bd0>\u001b[0m in \u001b[0;36m<module>\u001b[0;34m()\u001b[0m\n\u001b[1;32m     26\u001b[0m \u001b[0mresults\u001b[0m\u001b[0;34m.\u001b[0m\u001b[0mappend\u001b[0m\u001b[0;34m(\u001b[0m\u001b[0msampler\u001b[0m\u001b[0;34m.\u001b[0m\u001b[0msample\u001b[0m\u001b[0;34m(\u001b[0m\u001b[0mrep\u001b[0m\u001b[0;34m)\u001b[0m\u001b[0;34m)\u001b[0m\u001b[0;34m\u001b[0m\u001b[0m\n\u001b[1;32m     27\u001b[0m \u001b[0;34m\u001b[0m\u001b[0m\n\u001b[0;32m---> 28\u001b[0;31m \u001b[0msampler\u001b[0m\u001b[0;34m=\u001b[0m\u001b[0mspotpy\u001b[0m\u001b[0;34m.\u001b[0m\u001b[0malgorithms\u001b[0m\u001b[0;34m.\u001b[0m\u001b[0mfscabd\u001b[0m\u001b[0;34m(\u001b[0m\u001b[0mspotpy_setup\u001b[0m\u001b[0;34m,\u001b[0m  \u001b[0mdbname\u001b[0m\u001b[0;34m=\u001b[0m\u001b[0;34m'RosenROPE'\u001b[0m\u001b[0;34m,\u001b[0m  \u001b[0mdbformat\u001b[0m\u001b[0;34m=\u001b[0m\u001b[0;34m'csv'\u001b[0m\u001b[0;34m)\u001b[0m\u001b[0;34m\u001b[0m\u001b[0m\n\u001b[0m\u001b[1;32m     29\u001b[0m \u001b[0mresults\u001b[0m\u001b[0;34m.\u001b[0m\u001b[0mappend\u001b[0m\u001b[0;34m(\u001b[0m\u001b[0msampler\u001b[0m\u001b[0;34m.\u001b[0m\u001b[0msample\u001b[0m\u001b[0;34m(\u001b[0m\u001b[0mrep\u001b[0m\u001b[0;34m)\u001b[0m\u001b[0;34m)\u001b[0m\u001b[0;34m\u001b[0m\u001b[0m\n",
      "\u001b[0;31mAttributeError\u001b[0m: 'module' object has no attribute 'fscabd'"
     ]
    }
   ],
   "source": [
    "sampler=spotpy.algorithms.mc(spotpy_setup,    dbname='RosenMC',    dbformat='csv')\n",
    "results.append(sampler.sample(rep))\n",
    "\n",
    "sampler=spotpy.algorithms.lhs(spotpy_setup,   dbname='RosenLHS',   dbformat='csv')\n",
    "results.append(sampler.sample(rep))\n",
    "\n",
    "sampler=spotpy.algorithms.mle(spotpy_setup,   dbname='RosenMLE',   dbformat='csv')\n",
    "results.append(sampler.sample(rep))\n",
    "\n",
    "sampler=spotpy.algorithms.mcmc(spotpy_setup,  dbname='RosenMCMC',  dbformat='csv')\n",
    "results.append(sampler.sample(rep))\n",
    "\n",
    "sampler=spotpy.algorithms.sceua(spotpy_setup, dbname='RosenSCEUA', dbformat='csv')\n",
    "results.append(sampler.sample(rep,ngs=4))\n",
    "\n",
    "sampler=spotpy.algorithms.sa(spotpy_setup,    dbname='RosenSA',    dbformat='csv')\n",
    "results.append(sampler.sample(rep))\n",
    "\n",
    "sampler=spotpy.algorithms.demcz(spotpy_setup, dbname='RosenDEMCz', dbformat='csv')\n",
    "results.append(sampler.sample(rep,nChains=4))\n",
    "\n",
    "sampler=spotpy.algorithms.rope(spotpy_setup,  dbname='RosenROPE',  dbformat='csv')\n",
    "results.append(sampler.sample(rep))\n",
    "\n",
    "sampler=spotpy.algorithms.abc(spotpy_setup, dbname='RosenDEMCz', dbformat='csv')\n",
    "results.append(sampler.sample(rep))\n",
    "\n",
    "sampler=spotpy.algorithms.fscabd(spotpy_setup,  dbname='RosenROPE',  dbformat='csv')\n",
    "results.append(sampler.sample(rep))\n"
   ]
  },
  {
   "cell_type": "code",
   "execution_count": 25,
   "metadata": {
    "collapsed": false
   },
   "outputs": [
    {
     "data": {
      "text/plain": [
       "[None,\n",
       " None,\n",
       " None,\n",
       " None,\n",
       " None,\n",
       " array([(-3604.0, 3.0, 3.0, 3604.0, 1.0), (-3604.0, 3.0, 3.0, 3604.0, 1.0),\n",
       "        (-42.0624697981, 2.03294974343, 3.4926074957, 42.0624697981, 1.0),\n",
       "        ...,\n",
       "        (-29.0782087125, -2.79546307262, 7.4315645928, 29.0782087125, 1.0),\n",
       "        (-29.0782087125, -2.79546307262, 7.4315645928, 29.0782087125, 1.0),\n",
       "        (-29.0782087125, -2.79546307262, 7.4315645928, 29.0782087125, 1.0)], \n",
       "       dtype=[('like1', '<f8'), ('parx', '<f8'), ('pary', '<f8'), ('simulation1', '<f8'), ('chain', '<f8')]),\n",
       " None,\n",
       " None,\n",
       " None]"
      ]
     },
     "execution_count": 25,
     "metadata": {},
     "output_type": "execute_result"
    }
   ],
   "source": [
    "results"
   ]
  },
  {
   "cell_type": "code",
   "execution_count": 24,
   "metadata": {
    "collapsed": false
   },
   "outputs": [
    {
     "ename": "TypeError",
     "evalue": "object of type 'NoneType' has no len()",
     "output_type": "error",
     "traceback": [
      "\u001b[0;31m------------------------------------------------------\u001b[0m",
      "\u001b[0;31mTypeError\u001b[0m            Traceback (most recent call last)",
      "\u001b[0;32m<ipython-input-24-68860542f5fd>\u001b[0m in \u001b[0;36m<module>\u001b[0;34m()\u001b[0m\n\u001b[1;32m      1\u001b[0m \u001b[0malgorithms\u001b[0m\u001b[0;34m=\u001b[0m\u001b[0;34m[\u001b[0m\u001b[0;34m'MC'\u001b[0m\u001b[0;34m,\u001b[0m\u001b[0;34m'LHS'\u001b[0m\u001b[0;34m,\u001b[0m\u001b[0;34m'MLE'\u001b[0m\u001b[0;34m,\u001b[0m\u001b[0;34m'MCMC'\u001b[0m\u001b[0;34m,\u001b[0m\u001b[0;34m'SCEUA'\u001b[0m\u001b[0;34m,\u001b[0m\u001b[0;34m'SA'\u001b[0m\u001b[0;34m,\u001b[0m\u001b[0;34m'DEMCz'\u001b[0m\u001b[0;34m,\u001b[0m\u001b[0;34m'ROPE'\u001b[0m\u001b[0;34m,\u001b[0m\u001b[0;34m'ABC'\u001b[0m\u001b[0;34m,\u001b[0m\u001b[0;34m'FSCABC'\u001b[0m\u001b[0;34m]\u001b[0m\u001b[0;34m\u001b[0m\u001b[0m\n\u001b[0;32m----> 2\u001b[0;31m \u001b[0mspotpy\u001b[0m\u001b[0;34m.\u001b[0m\u001b[0manalyser\u001b[0m\u001b[0;34m.\u001b[0m\u001b[0mplot_parametertrace_algorithms\u001b[0m\u001b[0;34m(\u001b[0m\u001b[0mresults\u001b[0m\u001b[0;34m,\u001b[0m\u001b[0malgorithmnames\u001b[0m\u001b[0;34m=\u001b[0m\u001b[0malgorithms\u001b[0m\u001b[0;34m,\u001b[0m\u001b[0mparameternames\u001b[0m\u001b[0;34m=\u001b[0m\u001b[0;34m[\u001b[0m\u001b[0;34m'x'\u001b[0m\u001b[0;34m,\u001b[0m\u001b[0;34m'y'\u001b[0m\u001b[0;34m]\u001b[0m\u001b[0;34m)\u001b[0m\u001b[0;34m\u001b[0m\u001b[0m\n\u001b[0m",
      "\u001b[0;32m/Users/barnhatb/anaconda/lib/python2.7/site-packages/spotpy/analyser.pyc\u001b[0m in \u001b[0;36mplot_parametertrace_algorithms\u001b[0;34m(results, algorithmnames, parameternames, xticks)\u001b[0m\n\u001b[1;32m    477\u001b[0m     \u001b[0mplt\u001b[0m\u001b[0;34m.\u001b[0m\u001b[0mrc\u001b[0m\u001b[0;34m(\u001b[0m\u001b[0;34m'font'\u001b[0m\u001b[0;34m,\u001b[0m \u001b[0;34m**\u001b[0m\u001b[0mfont\u001b[0m\u001b[0;34m)\u001b[0m\u001b[0;34m\u001b[0m\u001b[0m\n\u001b[1;32m    478\u001b[0m     \u001b[0mfig\u001b[0m\u001b[0;34m=\u001b[0m\u001b[0mplt\u001b[0m\u001b[0;34m.\u001b[0m\u001b[0mfigure\u001b[0m\u001b[0;34m(\u001b[0m\u001b[0mfigsize\u001b[0m\u001b[0;34m=\u001b[0m\u001b[0;34m(\u001b[0m\u001b[0;36m17\u001b[0m\u001b[0;34m,\u001b[0m\u001b[0;36m5\u001b[0m\u001b[0;34m)\u001b[0m\u001b[0;34m)\u001b[0m\u001b[0;34m\u001b[0m\u001b[0m\n\u001b[0;32m--> 479\u001b[0;31m     \u001b[0mrep\u001b[0m\u001b[0;34m=\u001b[0m\u001b[0mlen\u001b[0m\u001b[0;34m(\u001b[0m\u001b[0mresults\u001b[0m\u001b[0;34m[\u001b[0m\u001b[0;36m0\u001b[0m\u001b[0;34m]\u001b[0m\u001b[0;34m)\u001b[0m\u001b[0;34m\u001b[0m\u001b[0m\n\u001b[0m\u001b[1;32m    480\u001b[0m     \u001b[0msubplots\u001b[0m\u001b[0;34m=\u001b[0m\u001b[0mlen\u001b[0m\u001b[0;34m(\u001b[0m\u001b[0mresults\u001b[0m\u001b[0;34m)\u001b[0m\u001b[0;34m\u001b[0m\u001b[0m\n\u001b[1;32m    481\u001b[0m     \u001b[0mrows\u001b[0m\u001b[0;34m=\u001b[0m\u001b[0;36m2\u001b[0m\u001b[0;34m\u001b[0m\u001b[0m\n",
      "\u001b[0;31mTypeError\u001b[0m: object of type 'NoneType' has no len()"
     ]
    },
    {
     "data": {
      "text/plain": [
       "<matplotlib.figure.Figure at 0x10eec1490>"
      ]
     },
     "metadata": {},
     "output_type": "display_data"
    }
   ],
   "source": [
    "algorithms=['MC','LHS','MLE','MCMC','SCEUA','SA','DEMCz','ROPE','ABC','FSCABC']\n",
    "spotpy.analyser.plot_parametertrace_algorithms(results,algorithmnames=algorithms,parameternames=['x','y'])"
   ]
  },
  {
   "cell_type": "code",
   "execution_count": null,
   "metadata": {
    "collapsed": true
   },
   "outputs": [],
   "source": []
  }
 ],
 "metadata": {
  "kernelspec": {
   "display_name": "Python 2",
   "language": "python",
   "name": "python2"
  },
  "language_info": {
   "codemirror_mode": {
    "name": "ipython",
    "version": 2
   },
   "file_extension": ".py",
   "mimetype": "text/x-python",
   "name": "python",
   "nbconvert_exporter": "python",
   "pygments_lexer": "ipython2",
   "version": "2.7.12"
  }
 },
 "nbformat": 4,
 "nbformat_minor": 0
}
