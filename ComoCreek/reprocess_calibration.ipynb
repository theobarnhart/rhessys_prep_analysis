{
 "cells": [
  {
   "cell_type": "code",
   "execution_count": 1,
   "metadata": {
    "collapsed": true
   },
   "outputs": [],
   "source": [
    "import glob\n",
    "import sys\n",
    "import numpy as np\n",
    "import pandas as pd\n",
    "import ipyparallel as p"
   ]
  },
  {
   "cell_type": "code",
   "execution_count": 9,
   "metadata": {
    "collapsed": false
   },
   "outputs": [],
   "source": [
    "c = p.Client()"
   ]
  },
  {
   "cell_type": "code",
   "execution_count": 10,
   "metadata": {
    "collapsed": false
   },
   "outputs": [
    {
     "data": {
      "text/plain": [
       "[0, 1, 2, 3, 4, 5]"
      ]
     },
     "execution_count": 10,
     "metadata": {},
     "output_type": "execute_result"
    }
   ],
   "source": [
    "c.ids"
   ]
  },
  {
   "cell_type": "code",
   "execution_count": 11,
   "metadata": {
    "collapsed": true
   },
   "outputs": [],
   "source": [
    "view = c.load_balanced_view()"
   ]
  },
  {
   "cell_type": "code",
   "execution_count": 12,
   "metadata": {
    "collapsed": false
   },
   "outputs": [],
   "source": [
    "%%px\n",
    "# define the objective functions from Bart et al. 2016\n",
    "\n",
    "#NSE\n",
    "def NSE(obs,mod):\n",
    "       \n",
    "    return 1. - (np.nansum(np.square(obs-mod)) / np.nansum(np.square(obs - np.nanmean(obs))))\n",
    "\n",
    "                 \n",
    "def NSE_log(obs,mod):\n",
    "    \n",
    "    obs = np.log10(obs)\n",
    "    \n",
    "    mod[mod<=0] = np.NaN\n",
    "    \n",
    "    mod = np.log10(mod)\n",
    "    \n",
    "    return 1. - (np.nansum(np.square(obs-mod)) / np.nansum(np.square(obs - np.nanmean(obs))))\n",
    "\n",
    "def PE(obs,mod):\n",
    "    \n",
    "    return (np.nanmean(mod)-np.nanmean(obs))/np.nanmean(obs)\n",
    "\n",
    "def RMSE(obs,mod):\n",
    "    return np.sqrt(np.nanmean(np.square(mod-obs)))\n",
    "\n",
    "def OBFX(obs,mod):\n",
    "    \n",
    "    pe = PE(obs,mod)\n",
    "    nse = NSE(obs,mod)\n",
    "    nse_log = NSE_log(obs,mod)\n",
    "    rmse = RMSE(obs,mod)\n",
    "    \n",
    "    obfx = nse*nse_log*(1.-np.abs(pe))\n",
    "    \n",
    "    return pe,nse,nse_log,rmse\n",
    "\n",
    "def parse_rhessys_date(df):\n",
    "    return '%s-%s-%s'%(int(df.year),int(df.month),int(df.day))\n",
    "\n",
    "strt = '2004-10-01'\n",
    "nd = '2007-09-30'\n",
    "\n",
    "obs = pd.read_pickle('/RHESSys/Como/obs/como_q_obs.pcl')[strt:nd].discharge.as_matrix()\n",
    "#obs[obs==0.051806] = np.NaN"
   ]
  },
  {
   "cell_type": "code",
   "execution_count": 13,
   "metadata": {
    "collapsed": false
   },
   "outputs": [],
   "source": [
    "# define the objective functions from Bart et al. 2016\n",
    "\n",
    "#NSE\n",
    "def NSE(obs,mod):\n",
    "       \n",
    "    return 1. - (np.nansum(np.square(obs-mod)) / np.nansum(np.square(obs - np.nanmean(obs))))\n",
    "\n",
    "                 \n",
    "def NSE_log(obs,mod):\n",
    "    \n",
    "    obs = np.log10(obs)\n",
    "    \n",
    "    mod[mod<=0] = np.NaN\n",
    "    \n",
    "    mod = np.log10(mod)\n",
    "    \n",
    "    return 1. - (np.nansum(np.square(obs-mod)) / np.nansum(np.square(obs - np.nanmean(obs))))\n",
    "\n",
    "def PE(obs,mod):\n",
    "    \n",
    "    return (np.nanmean(mod)-np.nanmean(obs))/np.nanmean(obs)\n",
    "\n",
    "def RMSE(obs,mod):\n",
    "    return np.sqrt(np.nanmean(np.square(mod-obs)))\n",
    "\n",
    "def OBFX(obs,mod):\n",
    "    \n",
    "    pe = PE(obs,mod)\n",
    "    nse = NSE(obs,mod)\n",
    "    nse_log = NSE_log(obs,mod)\n",
    "    \n",
    "    obfx = nse*nse_log*(1.-np.abs(pe))\n",
    "    \n",
    "    return pe,nse,nse_log\n",
    "\n",
    "def parse_rhessys_date(df):\n",
    "    return '%s-%s-%s'%(int(df.year),int(df.month),int(df.day))\n",
    "\n",
    "strt = '2004-10-01'\n",
    "nd = '2007-09-30'\n",
    "\n",
    "obs = pd.read_pickle('/RHESSys/Como/obs/como_q_obs.pcl')[strt:nd].discharge.as_matrix()\n",
    "#obs[obs==0.051806] = np.NaN"
   ]
  },
  {
   "cell_type": "code",
   "execution_count": 14,
   "metadata": {
    "collapsed": true
   },
   "outputs": [],
   "source": [
    "files = glob.glob('/RHESSys/Como/out/cal/cal14_*.npz')"
   ]
  },
  {
   "cell_type": "code",
   "execution_count": 15,
   "metadata": {
    "collapsed": false
   },
   "outputs": [
    {
     "data": {
      "text/plain": [
       "300"
      ]
     },
     "execution_count": 15,
     "metadata": {},
     "output_type": "execute_result"
    }
   ],
   "source": [
    "len(files)"
   ]
  },
  {
   "cell_type": "code",
   "execution_count": 16,
   "metadata": {
    "collapsed": true
   },
   "outputs": [],
   "source": [
    "def reprocess(fl):\n",
    "    idx = int(fl.split('/')[-1].split('_')[-1].split('.')[0])\n",
    "    \n",
    "    dat = np.load(fl)\n",
    "    \n",
    "    tmp = pd.DataFrame()\n",
    "    \n",
    "    for key in dat.keys():\n",
    "        tmp[key] = dat[key]\n",
    "        \n",
    "    tmp.index = pd.DatetimeIndex(tmp.datetime)\n",
    "    tmp['obs'] = obs\n",
    "    tmp['wateryear'] = tmp.index.map(rut.wateryear)\n",
    "    tmp.dropna(inplace=True)\n",
    "    tmp = tmp.groupby(by='wateryear').sum()\n",
    "    #tmp.loc[tmp.index == 2008] = np.NaN\n",
    "    #tmp.loc[tmp.index == 2010] = np.NaN\n",
    "    tmp.dropna(inplace=True)\n",
    "    \n",
    "    pe,nse,nse_log,rmse = OBFX(tmp.obs.as_matrix(),tmp.streamflow.as_matrix())\n",
    "    \n",
    "    return idx,pe,nse,nse_log,rmse"
   ]
  },
  {
   "cell_type": "code",
   "execution_count": 17,
   "metadata": {
    "collapsed": true
   },
   "outputs": [],
   "source": [
    "res = view.map(reprocess,files)"
   ]
  },
  {
   "cell_type": "code",
   "execution_count": 22,
   "metadata": {
    "collapsed": false
   },
   "outputs": [
    {
     "data": {
      "text/plain": [
       "300"
      ]
     },
     "execution_count": 22,
     "metadata": {},
     "output_type": "execute_result"
    }
   ],
   "source": [
    "res.progress"
   ]
  },
  {
   "cell_type": "code",
   "execution_count": 23,
   "metadata": {
    "collapsed": false
   },
   "outputs": [],
   "source": [
    "idx,pe,nse,nse_log,rmse = zip(*res.result())"
   ]
  },
  {
   "cell_type": "code",
   "execution_count": 24,
   "metadata": {
    "collapsed": true
   },
   "outputs": [],
   "source": [
    "data = pd.DataFrame({'idx':idx,'pe':pe,'nse':nse,'nse_log':nse_log,'rmse':rmse})"
   ]
  },
  {
   "cell_type": "raw",
   "metadata": {
    "collapsed": true
   },
   "source": [
    "data.pe = data.pe.abs() # take the absolute value of the percent error before normalizing"
   ]
  },
  {
   "cell_type": "raw",
   "metadata": {
    "collapsed": false
   },
   "source": [
    "# normalize the variables\n",
    "for var,out in zip(['pe','nse','nse_log'],['pe_norm','nse_norm','nse_log_norm']):\n",
    "    data[out] = (data[var] - data[var].min()) / (data[var].max()-data[var].min())"
   ]
  },
  {
   "cell_type": "raw",
   "metadata": {
    "collapsed": true
   },
   "source": [
    "def compute_metric(df):\n",
    "    return df.nse_norm*df.nse_log_norm*(1.-df.pe_norm)"
   ]
  },
  {
   "cell_type": "raw",
   "metadata": {
    "collapsed": true
   },
   "source": [
    "data['metric'] = data.apply(compute_metric,axis=1)"
   ]
  },
  {
   "cell_type": "code",
   "execution_count": null,
   "metadata": {
    "collapsed": true
   },
   "outputs": [],
   "source": []
  },
  {
   "cell_type": "code",
   "execution_count": 25,
   "metadata": {
    "collapsed": false
   },
   "outputs": [
    {
     "data": {
      "text/html": [
       "<div>\n",
       "<table border=\"1\" class=\"dataframe\">\n",
       "  <thead>\n",
       "    <tr style=\"text-align: right;\">\n",
       "      <th></th>\n",
       "      <th>idx</th>\n",
       "      <th>nse</th>\n",
       "      <th>nse_log</th>\n",
       "      <th>pe</th>\n",
       "      <th>rmse</th>\n",
       "    </tr>\n",
       "  </thead>\n",
       "  <tbody>\n",
       "    <tr>\n",
       "      <th>256</th>\n",
       "      <td>6</td>\n",
       "      <td>-1.630010</td>\n",
       "      <td>-1.354692</td>\n",
       "      <td>0.060901</td>\n",
       "      <td>32.849155</td>\n",
       "    </tr>\n",
       "    <tr>\n",
       "      <th>258</th>\n",
       "      <td>61</td>\n",
       "      <td>-1.669801</td>\n",
       "      <td>-1.898035</td>\n",
       "      <td>-0.062536</td>\n",
       "      <td>33.096719</td>\n",
       "    </tr>\n",
       "    <tr>\n",
       "      <th>43</th>\n",
       "      <td>137</td>\n",
       "      <td>-1.832706</td>\n",
       "      <td>-1.888563</td>\n",
       "      <td>-0.026753</td>\n",
       "      <td>34.091512</td>\n",
       "    </tr>\n",
       "    <tr>\n",
       "      <th>270</th>\n",
       "      <td>72</td>\n",
       "      <td>-1.925504</td>\n",
       "      <td>-1.881321</td>\n",
       "      <td>0.008814</td>\n",
       "      <td>34.645422</td>\n",
       "    </tr>\n",
       "    <tr>\n",
       "      <th>196</th>\n",
       "      <td>275</td>\n",
       "      <td>-2.086579</td>\n",
       "      <td>-1.976539</td>\n",
       "      <td>0.002913</td>\n",
       "      <td>35.586410</td>\n",
       "    </tr>\n",
       "  </tbody>\n",
       "</table>\n",
       "</div>"
      ],
      "text/plain": [
       "     idx       nse   nse_log        pe       rmse\n",
       "256    6 -1.630010 -1.354692  0.060901  32.849155\n",
       "258   61 -1.669801 -1.898035 -0.062536  33.096719\n",
       "43   137 -1.832706 -1.888563 -0.026753  34.091512\n",
       "270   72 -1.925504 -1.881321  0.008814  34.645422\n",
       "196  275 -2.086579 -1.976539  0.002913  35.586410"
      ]
     },
     "execution_count": 25,
     "metadata": {},
     "output_type": "execute_result"
    }
   ],
   "source": [
    "data.sort_values(by='nse',ascending=False).head()"
   ]
  },
  {
   "cell_type": "code",
   "execution_count": 65,
   "metadata": {
    "collapsed": true
   },
   "outputs": [],
   "source": [
    "def loadfl(idx,cal):\n",
    "    fl = '/RHESSys/Como/out/cal/cal%s_%s.npz'%(cal,idx)\n",
    "    \n",
    "    dat = np.load(fl)\n",
    "    \n",
    "    tmp = pd.DataFrame()\n",
    "    \n",
    "    for key in dat.keys():\n",
    "        tmp[key] = dat[key]\n",
    "        \n",
    "    tmp.index = pd.DatetimeIndex(tmp.datetime)\n",
    "    tmp['obs'] = obs\n",
    "    tmp['wateryear'] = tmp.index.map(rut.wateryear)\n",
    "    tmp.dropna(inplace=True)\n",
    "    tmp = tmp.groupby(by='wateryear').sum()\n",
    "    tmp.loc[tmp.index == 2008] = np.NaN\n",
    "    tmp.loc[tmp.index == 2010] = np.NaN\n",
    "    tmp.dropna(inplace=True)\n",
    "    \n",
    "    return tmp"
   ]
  },
  {
   "cell_type": "code",
   "execution_count": 71,
   "metadata": {
    "collapsed": false
   },
   "outputs": [],
   "source": [
    "dat = loadfl(85,14)"
   ]
  },
  {
   "cell_type": "code",
   "execution_count": 72,
   "metadata": {
    "collapsed": false
   },
   "outputs": [
    {
     "data": {
      "image/png": "[encoded data removed]",
      "text/plain": [
       "<matplotlib.figure.Figure at 0x113776e90>"
      ]
     },
     "metadata": {},
     "output_type": "display_data"
    }
   ],
   "source": [
    "dat.streamflow.plot(marker='o',ls='')\n",
    "dat.obs.plot(marker='o',ls='',c='r')\n",
    "plt.xlim(2006.5,2010.5)\n",
    "ax = plt.gca()\n",
    "ax.get_xaxis().get_major_formatter().set_useOffset(False)"
   ]
  },
  {
   "cell_type": "code",
   "execution_count": 46,
   "metadata": {
    "collapsed": false
   },
   "outputs": [
    {
     "data": {
      "text/html": [
       "<div>\n",
       "<table border=\"1\" class=\"dataframe\">\n",
       "  <thead>\n",
       "    <tr style=\"text-align: right;\">\n",
       "      <th></th>\n",
       "      <th>streamflow</th>\n",
       "      <th>rz_storage</th>\n",
       "      <th>lai</th>\n",
       "      <th>snowpack</th>\n",
       "      <th>snow_subl</th>\n",
       "      <th>sat_def</th>\n",
       "      <th>precip</th>\n",
       "      <th>sat_def_z</th>\n",
       "      <th>trans</th>\n",
       "      <th>returnflow</th>\n",
       "      <th>evap</th>\n",
       "      <th>baseflow</th>\n",
       "      <th>obs</th>\n",
       "    </tr>\n",
       "    <tr>\n",
       "      <th>wateryear</th>\n",
       "      <th></th>\n",
       "      <th></th>\n",
       "      <th></th>\n",
       "      <th></th>\n",
       "      <th></th>\n",
       "      <th></th>\n",
       "      <th></th>\n",
       "      <th></th>\n",
       "      <th></th>\n",
       "      <th></th>\n",
       "      <th></th>\n",
       "      <th></th>\n",
       "      <th></th>\n",
       "    </tr>\n",
       "  </thead>\n",
       "  <tbody>\n",
       "    <tr>\n",
       "      <th>2007</th>\n",
       "      <td>216.958817</td>\n",
       "      <td>632.275248</td>\n",
       "      <td>647.292326</td>\n",
       "      <td>1453.665913</td>\n",
       "      <td>38.638567</td>\n",
       "      <td>985.335940</td>\n",
       "      <td>759.901303</td>\n",
       "      <td>2383.841764</td>\n",
       "      <td>112.189280</td>\n",
       "      <td>126.098355</td>\n",
       "      <td>163.759962</td>\n",
       "      <td>90.860465</td>\n",
       "      <td>210.424486</td>\n",
       "    </tr>\n",
       "    <tr>\n",
       "      <th>2008</th>\n",
       "      <td>195.271577</td>\n",
       "      <td>627.046115</td>\n",
       "      <td>516.587319</td>\n",
       "      <td>1883.633154</td>\n",
       "      <td>22.815226</td>\n",
       "      <td>920.205010</td>\n",
       "      <td>632.140124</td>\n",
       "      <td>2223.225095</td>\n",
       "      <td>49.760392</td>\n",
       "      <td>119.996439</td>\n",
       "      <td>117.957188</td>\n",
       "      <td>75.275138</td>\n",
       "      <td>148.167204</td>\n",
       "    </tr>\n",
       "    <tr>\n",
       "      <th>2009</th>\n",
       "      <td>195.624752</td>\n",
       "      <td>739.498198</td>\n",
       "      <td>577.130314</td>\n",
       "      <td>1104.460279</td>\n",
       "      <td>40.950893</td>\n",
       "      <td>1086.227039</td>\n",
       "      <td>636.583992</td>\n",
       "      <td>2585.652573</td>\n",
       "      <td>82.092392</td>\n",
       "      <td>104.661388</td>\n",
       "      <td>149.139631</td>\n",
       "      <td>90.963363</td>\n",
       "      <td>197.100251</td>\n",
       "    </tr>\n",
       "    <tr>\n",
       "      <th>2010</th>\n",
       "      <td>180.974684</td>\n",
       "      <td>453.274121</td>\n",
       "      <td>620.612901</td>\n",
       "      <td>380.410807</td>\n",
       "      <td>30.763969</td>\n",
       "      <td>741.856410</td>\n",
       "      <td>644.360755</td>\n",
       "      <td>1786.088471</td>\n",
       "      <td>65.158321</td>\n",
       "      <td>99.517850</td>\n",
       "      <td>144.137094</td>\n",
       "      <td>81.456839</td>\n",
       "      <td>235.301302</td>\n",
       "    </tr>\n",
       "  </tbody>\n",
       "</table>\n",
       "</div>"
      ],
      "text/plain": [
       "           streamflow  rz_storage         lai     snowpack  snow_subl  \\\n",
       "wateryear                                                               \n",
       "2007       216.958817  632.275248  647.292326  1453.665913  38.638567   \n",
       "2008       195.271577  627.046115  516.587319  1883.633154  22.815226   \n",
       "2009       195.624752  739.498198  577.130314  1104.460279  40.950893   \n",
       "2010       180.974684  453.274121  620.612901   380.410807  30.763969   \n",
       "\n",
       "               sat_def      precip    sat_def_z       trans  returnflow  \\\n",
       "wateryear                                                                 \n",
       "2007        985.335940  759.901303  2383.841764  112.189280  126.098355   \n",
       "2008        920.205010  632.140124  2223.225095   49.760392  119.996439   \n",
       "2009       1086.227039  636.583992  2585.652573   82.092392  104.661388   \n",
       "2010        741.856410  644.360755  1786.088471   65.158321   99.517850   \n",
       "\n",
       "                 evap   baseflow         obs  \n",
       "wateryear                                     \n",
       "2007       163.759962  90.860465  210.424486  \n",
       "2008       117.957188  75.275138  148.167204  \n",
       "2009       149.139631  90.963363  197.100251  \n",
       "2010       144.137094  81.456839  235.301302  "
      ]
     },
     "execution_count": 46,
     "metadata": {},
     "output_type": "execute_result"
    }
   ],
   "source": [
    "dat"
   ]
  },
  {
   "cell_type": "code",
   "execution_count": 49,
   "metadata": {
    "collapsed": false
   },
   "outputs": [],
   "source": [
    "dat.loc[dat.index == 2008] = np.NaN"
   ]
  },
  {
   "cell_type": "code",
   "execution_count": 50,
   "metadata": {
    "collapsed": false
   },
   "outputs": [
    {
     "data": {
      "text/html": [
       "<div>\n",
       "<table border=\"1\" class=\"dataframe\">\n",
       "  <thead>\n",
       "    <tr style=\"text-align: right;\">\n",
       "      <th></th>\n",
       "      <th>streamflow</th>\n",
       "      <th>rz_storage</th>\n",
       "      <th>lai</th>\n",
       "      <th>snowpack</th>\n",
       "      <th>snow_subl</th>\n",
       "      <th>sat_def</th>\n",
       "      <th>precip</th>\n",
       "      <th>sat_def_z</th>\n",
       "      <th>trans</th>\n",
       "      <th>returnflow</th>\n",
       "      <th>evap</th>\n",
       "      <th>baseflow</th>\n",
       "      <th>obs</th>\n",
       "    </tr>\n",
       "    <tr>\n",
       "      <th>wateryear</th>\n",
       "      <th></th>\n",
       "      <th></th>\n",
       "      <th></th>\n",
       "      <th></th>\n",
       "      <th></th>\n",
       "      <th></th>\n",
       "      <th></th>\n",
       "      <th></th>\n",
       "      <th></th>\n",
       "      <th></th>\n",
       "      <th></th>\n",
       "      <th></th>\n",
       "      <th></th>\n",
       "    </tr>\n",
       "  </thead>\n",
       "  <tbody>\n",
       "    <tr>\n",
       "      <th>2007</th>\n",
       "      <td>216.958817</td>\n",
       "      <td>632.275248</td>\n",
       "      <td>647.292326</td>\n",
       "      <td>1453.665913</td>\n",
       "      <td>38.638567</td>\n",
       "      <td>985.335940</td>\n",
       "      <td>759.901303</td>\n",
       "      <td>2383.841764</td>\n",
       "      <td>112.189280</td>\n",
       "      <td>126.098355</td>\n",
       "      <td>163.759962</td>\n",
       "      <td>90.860465</td>\n",
       "      <td>210.424486</td>\n",
       "    </tr>\n",
       "    <tr>\n",
       "      <th>2008</th>\n",
       "      <td>NaN</td>\n",
       "      <td>NaN</td>\n",
       "      <td>NaN</td>\n",
       "      <td>NaN</td>\n",
       "      <td>NaN</td>\n",
       "      <td>NaN</td>\n",
       "      <td>NaN</td>\n",
       "      <td>NaN</td>\n",
       "      <td>NaN</td>\n",
       "      <td>NaN</td>\n",
       "      <td>NaN</td>\n",
       "      <td>NaN</td>\n",
       "      <td>NaN</td>\n",
       "    </tr>\n",
       "    <tr>\n",
       "      <th>2009</th>\n",
       "      <td>195.624752</td>\n",
       "      <td>739.498198</td>\n",
       "      <td>577.130314</td>\n",
       "      <td>1104.460279</td>\n",
       "      <td>40.950893</td>\n",
       "      <td>1086.227039</td>\n",
       "      <td>636.583992</td>\n",
       "      <td>2585.652573</td>\n",
       "      <td>82.092392</td>\n",
       "      <td>104.661388</td>\n",
       "      <td>149.139631</td>\n",
       "      <td>90.963363</td>\n",
       "      <td>197.100251</td>\n",
       "    </tr>\n",
       "    <tr>\n",
       "      <th>2010</th>\n",
       "      <td>180.974684</td>\n",
       "      <td>453.274121</td>\n",
       "      <td>620.612901</td>\n",
       "      <td>380.410807</td>\n",
       "      <td>30.763969</td>\n",
       "      <td>741.856410</td>\n",
       "      <td>644.360755</td>\n",
       "      <td>1786.088471</td>\n",
       "      <td>65.158321</td>\n",
       "      <td>99.517850</td>\n",
       "      <td>144.137094</td>\n",
       "      <td>81.456839</td>\n",
       "      <td>235.301302</td>\n",
       "    </tr>\n",
       "  </tbody>\n",
       "</table>\n",
       "</div>"
      ],
      "text/plain": [
       "           streamflow  rz_storage         lai     snowpack  snow_subl  \\\n",
       "wateryear                                                               \n",
       "2007       216.958817  632.275248  647.292326  1453.665913  38.638567   \n",
       "2008              NaN         NaN         NaN          NaN        NaN   \n",
       "2009       195.624752  739.498198  577.130314  1104.460279  40.950893   \n",
       "2010       180.974684  453.274121  620.612901   380.410807  30.763969   \n",
       "\n",
       "               sat_def      precip    sat_def_z       trans  returnflow  \\\n",
       "wateryear                                                                 \n",
       "2007        985.335940  759.901303  2383.841764  112.189280  126.098355   \n",
       "2008               NaN         NaN          NaN         NaN         NaN   \n",
       "2009       1086.227039  636.583992  2585.652573   82.092392  104.661388   \n",
       "2010        741.856410  644.360755  1786.088471   65.158321   99.517850   \n",
       "\n",
       "                 evap   baseflow         obs  \n",
       "wateryear                                     \n",
       "2007       163.759962  90.860465  210.424486  \n",
       "2008              NaN        NaN         NaN  \n",
       "2009       149.139631  90.963363  197.100251  \n",
       "2010       144.137094  81.456839  235.301302  "
      ]
     },
     "execution_count": 50,
     "metadata": {},
     "output_type": "execute_result"
    }
   ],
   "source": [
    "dat"
   ]
  },
  {
   "cell_type": "code",
   "execution_count": null,
   "metadata": {
    "collapsed": true
   },
   "outputs": [],
   "source": []
  }
 ],
 "metadata": {
  "kernelspec": {
   "display_name": "Python 2",
   "language": "python",
   "name": "python2"
  },
  "language_info": {
   "codemirror_mode": {
    "name": "ipython",
    "version": 2
   },
   "file_extension": ".py",
   "mimetype": "text/x-python",
   "name": "python",
   "nbconvert_exporter": "python",
   "pygments_lexer": "ipython2",
   "version": "2.7.12"
  }
 },
 "nbformat": 4,
 "nbformat_minor": 0
}
