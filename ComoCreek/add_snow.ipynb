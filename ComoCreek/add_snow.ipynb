{
 "cells": [
  {
   "cell_type": "code",
   "execution_count": 12,
   "metadata": {
    "collapsed": true
   },
   "outputs": [],
   "source": [
    "fl1 = '/RHESSys/Como/worldfiles/world.como.grid60.lai'\n",
    "outfl = '/RHESSys/Como/worldfiles/world.como.grid60.lai.snow'"
   ]
  },
  {
   "cell_type": "code",
   "execution_count": 13,
   "metadata": {
    "collapsed": true
   },
   "outputs": [],
   "source": [
    "import re"
   ]
  },
  {
   "cell_type": "code",
   "execution_count": 14,
   "metadata": {
    "collapsed": true
   },
   "outputs": [],
   "source": [
    "def readworld(fl):\n",
    "    with open(fl) as f:\n",
    "        content = f.readlines()\n",
    "    \n",
    "    world = [x.strip() for x in content] # remove whitespace\n",
    "    \n",
    "    return world"
   ]
  },
  {
   "cell_type": "code",
   "execution_count": 15,
   "metadata": {
    "collapsed": true
   },
   "outputs": [],
   "source": [
    "world = readworld(fl1)"
   ]
  },
  {
   "cell_type": "code",
   "execution_count": 23,
   "metadata": {
    "collapsed": false
   },
   "outputs": [],
   "source": [
    "# landcover values\n",
    "# alpine: 11\n",
    "# forest: 12\n",
    "patches = []\n",
    "out = []\n",
    "lc = 0\n",
    "for l in world:\n",
    "    \n",
    "    # pull apart each line\n",
    "    val,tag = re.split(r'\\s{2,}',l)\n",
    "    \n",
    "    out.append('%s    %s'%(val,tag))\n",
    "    \n",
    "    if tag == 'num_zones': # count the number of patches\n",
    "        patches.append(int(val))\n",
    "    \n",
    "    # wait for the correct land use type\n",
    "    if tag == 'landuse_default_ID':\n",
    "        lc = int(val)\n",
    "    \n",
    "    if (lc == 11) & (tag == 'snowpack_energy_deficit'): # alpine landcover\n",
    "        #out.append('%s    %s'%(val,tag))\n",
    "        out.append('%s    %s'%(0.78,'snow_redist_scale'))\n",
    "        lc = 0 # reset the landcover variable\n",
    "        \n",
    "    if (lc == 12) & (tag == 'snowpack_energy_deficit'): # forest landcover\n",
    "        #out.append('%s    %s'%(val,tag))\n",
    "        out.append('%s    %s'%(1.0,'snow_redist_scale'))\n",
    "        lc = 0 # reset the landcover variable\n",
    "        "
   ]
  },
  {
   "cell_type": "code",
   "execution_count": 26,
   "metadata": {
    "collapsed": false
   },
   "outputs": [
    {
     "data": {
      "text/plain": [
       "577028"
      ]
     },
     "execution_count": 26,
     "metadata": {},
     "output_type": "execute_result"
    }
   ],
   "source": [
    "np.sum(patches)+571482"
   ]
  },
  {
   "cell_type": "code",
   "execution_count": 25,
   "metadata": {
    "collapsed": false
   },
   "outputs": [],
   "source": [
    "with open(outfl, 'w') as f:\n",
    "    for l in out:\n",
    "        f.write('%s\\n'%l)"
   ]
  },
  {
   "cell_type": "code",
   "execution_count": null,
   "metadata": {
    "collapsed": true
   },
   "outputs": [],
   "source": []
  },
  {
   "cell_type": "code",
   "execution_count": null,
   "metadata": {
    "collapsed": true
   },
   "outputs": [],
   "source": []
  }
 ],
 "metadata": {
  "kernelspec": {
   "display_name": "Python 2",
   "language": "python",
   "name": "python2"
  },
  "language_info": {
   "codemirror_mode": {
    "name": "ipython",
    "version": 2
   },
   "file_extension": ".py",
   "mimetype": "text/x-python",
   "name": "python",
   "nbconvert_exporter": "python",
   "pygments_lexer": "ipython2",
   "version": "2.7.12"
  }
 },
 "nbformat": 4,
 "nbformat_minor": 0
}
