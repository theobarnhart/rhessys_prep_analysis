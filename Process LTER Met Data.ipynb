{
 "cells": [
  {
   "cell_type": "code",
   "execution_count": 1,
   "metadata": {
    "collapsed": true
   },
   "outputs": [],
   "source": [
    "import pandas as pd\n",
    "import numpy as np\n",
    "import matplotlib.pyplot as plt\n",
    "%matplotlib inline"
   ]
  },
  {
   "cell_type": "code",
   "execution_count": 9,
   "metadata": {
    "collapsed": false
   },
   "outputs": [],
   "source": [
    "c1t = pd.read_csv('./c-1tdayv.ml.data.csv')\n",
    "c1t.index=pd.DatetimeIndex(c1t.date)"
   ]
  },
  {
   "cell_type": "code",
   "execution_count": 10,
   "metadata": {
    "collapsed": true
   },
   "outputs": [],
   "source": [
    "d1t = pd.read_csv('./d-1tdayv.ml.data.csv')\n",
    "d1t.index=pd.DatetimeIndex(d1t.date)"
   ]
  },
  {
   "cell_type": "code",
   "execution_count": 32,
   "metadata": {
    "collapsed": false
   },
   "outputs": [],
   "source": [
    "c1p = pd.read_csv('./c-1pdayv.ml.data.csv')\n",
    "c1p.index = pd.DatetimeIndex(c1p.date)"
   ]
  },
  {
   "cell_type": "code",
   "execution_count": 33,
   "metadata": {
    "collapsed": true
   },
   "outputs": [],
   "source": [
    "d1p = pd.read_csv('./d-1pdayv.ml.data.csv')\n",
    "d1p.index = pd.DatetimeIndex(d1p.date)"
   ]
  },
  {
   "cell_type": "markdown",
   "metadata": {},
   "source": [
    "## Back fill days with accumulated precip"
   ]
  },
  {
   "cell_type": "code",
   "execution_count": 34,
   "metadata": {
    "collapsed": false
   },
   "outputs": [],
   "source": [
    "for i in c1p.index:\n",
    "    \n",
    "    # skip entries that are only one day or NaN\n",
    "    if (np.isnan(float(c1p.loc[i,'qdays']))) or (float(c1p.loc[i,'qdays']) == 1):\n",
    "        continue\n",
    "    else:\n",
    "        days = float(c1p.loc[i,'qdays'])\n",
    "        td = pd.datetools.timedelta(days-1)\n",
    "        strt2 = i-td\n",
    "        c1p.loc[strt2:i,'precip'] = float(c1p.loc[i,'precip'])/float(days)\n",
    "        c1p.loc[strt2:i,'qdays'] = 1.\n",
    "        c1p.loc[strt2:i,'method_flag'] = 'F'"
   ]
  },
  {
   "cell_type": "code",
   "execution_count": 36,
   "metadata": {
    "collapsed": false
   },
   "outputs": [],
   "source": [
    "for i in d1p.index:\n",
    "    \n",
    "    # skip entries that are only one day or NaN\n",
    "    if (np.isnan(float(d1p.loc[i,'qdays']))) or (float(d1p.loc[i,'qdays']) == 1):\n",
    "        continue\n",
    "    else:\n",
    "        days = float(d1p.loc[i,'qdays'])\n",
    "        td = pd.datetools.timedelta(days-1)\n",
    "        strt2 = i-td\n",
    "        d1p.loc[strt2:i,'precip'] = float(d1p.loc[i,'precip'])/float(days)\n",
    "        d1p.loc[strt2:i,'qdays'] = 1.\n",
    "        d1p.loc[strt2:i,'method_flag'] = 'F'"
   ]
  },
  {
   "cell_type": "markdown",
   "metadata": {},
   "source": [
    "## Save the updated files"
   ]
  },
  {
   "cell_type": "code",
   "execution_count": 37,
   "metadata": {
    "collapsed": true
   },
   "outputs": [],
   "source": [
    "c1t.to_pickle('./c1_temperature_updated.pcl')\n",
    "c1p.to_pickle('./c1_precip_updated.pcl')\n",
    "d1t.to_pickle('./d1_temperature_updated.pcl')\n",
    "d1p.to_pickle('./d1_precip_updated.pcl')"
   ]
  },
  {
   "cell_type": "markdown",
   "metadata": {},
   "source": [
    "## Crop the data frames to the same time period as save combined data frames"
   ]
  },
  {
   "cell_type": "code",
   "execution_count": 42,
   "metadata": {
    "collapsed": true
   },
   "outputs": [],
   "source": [
    "idxstrt = d1p.index.min()\n",
    "idxend = d1p.index.max()"
   ]
  },
  {
   "cell_type": "code",
   "execution_count": 45,
   "metadata": {
    "collapsed": false
   },
   "outputs": [],
   "source": [
    "c1t = c1t[idxstrt:idxend]\n",
    "c1p = c1p[idxstrt:idxend]"
   ]
  },
  {
   "cell_type": "code",
   "execution_count": 46,
   "metadata": {
    "collapsed": true
   },
   "outputs": [],
   "source": [
    "d1 = pd.DataFrame()\n",
    "d1['P'] = d1p.precip\n",
    "d1['Tmin'] = d1t.min_temp\n",
    "d1['Tmax'] = d1t.max_temp\n",
    "d1['Tmean'] = d1t.mean_temp"
   ]
  },
  {
   "cell_type": "code",
   "execution_count": 47,
   "metadata": {
    "collapsed": true
   },
   "outputs": [],
   "source": [
    "c1 = pd.DataFrame()\n",
    "c1['P'] = c1p.precip\n",
    "c1['Tmin'] = c1t.min_temp\n",
    "c1['Tmax'] = c1t.max_temp\n",
    "c1['Tmean'] = c1t.mean_temp"
   ]
  },
  {
   "cell_type": "code",
   "execution_count": 48,
   "metadata": {
    "collapsed": true
   },
   "outputs": [],
   "source": [
    "d1.to_pickle('./d1_combo_updated.df')\n",
    "c1.to_pickle('./c1_combo_updated.df')"
   ]
  }
 ],
 "metadata": {
  "kernelspec": {
   "display_name": "Python 2",
   "language": "python",
   "name": "python2"
  },
  "language_info": {
   "codemirror_mode": {
    "name": "ipython",
    "version": 2
   },
   "file_extension": ".py",
   "mimetype": "text/x-python",
   "name": "python",
   "nbconvert_exporter": "python",
   "pygments_lexer": "ipython2",
   "version": "2.7.10"
  }
 },
 "nbformat": 4,
 "nbformat_minor": 0
}
