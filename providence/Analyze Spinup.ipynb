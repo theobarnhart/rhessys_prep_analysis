{
 "cells": [
  {
   "cell_type": "code",
   "execution_count": 1,
   "metadata": {
    "collapsed": true
   },
   "outputs": [],
   "source": [
    "import rhessys.utilities as rut"
   ]
  },
  {
   "cell_type": "code",
   "execution_count": 43,
   "metadata": {
    "collapsed": true
   },
   "outputs": [],
   "source": [
    "dat = pd.read_table('/RHESSys/providence/theo_p301_flux/out/su_03_grow_basin.daily',header='infer',sep=' ')\n",
    "dat2 = pd.read_table('/RHESSys/providence/theo_p301_flux/out/su_03_basin.daily',header='infer',sep=' ')"
   ]
  },
  {
   "cell_type": "raw",
   "metadata": {},
   "source": [
    "name = 'su_03'\n",
    "fl = '/RHESSys/providence/theo_p301_flux/out/%s_basin.daily'%name\n",
    "\n",
    "dat = rut.readRHESSysBasin(fl)"
   ]
  },
  {
   "cell_type": "code",
   "execution_count": 41,
   "metadata": {
    "collapsed": false
   },
   "outputs": [
    {
     "data": {
      "text/html": [
       "<div>\n",
       "<table border=\"1\" class=\"dataframe\">\n",
       "  <thead>\n",
       "    <tr style=\"text-align: right;\">\n",
       "      <th></th>\n",
       "      <th>day</th>\n",
       "      <th>month</th>\n",
       "      <th>year</th>\n",
       "      <th>basinID</th>\n",
       "      <th>lai</th>\n",
       "      <th>gpsn</th>\n",
       "      <th>plant_resp</th>\n",
       "      <th>soil_resp</th>\n",
       "      <th>nitrate</th>\n",
       "      <th>sminn</th>\n",
       "      <th>...</th>\n",
       "      <th>denitrif</th>\n",
       "      <th>nitrif</th>\n",
       "      <th>DOC</th>\n",
       "      <th>DON</th>\n",
       "      <th>root_depth</th>\n",
       "      <th>nfix</th>\n",
       "      <th>nuptake</th>\n",
       "      <th>grazingC</th>\n",
       "      <th>StreamNO3_from_surface</th>\n",
       "      <th>StreamNO3_from_sub</th>\n",
       "    </tr>\n",
       "  </thead>\n",
       "  <tbody>\n",
       "    <tr>\n",
       "      <th>0</th>\n",
       "      <td>1</td>\n",
       "      <td>10</td>\n",
       "      <td>1412</td>\n",
       "      <td>1</td>\n",
       "      <td>3.491749</td>\n",
       "      <td>1.803403</td>\n",
       "      <td>1.700127</td>\n",
       "      <td>0.010401</td>\n",
       "      <td>0.000001</td>\n",
       "      <td>0.000001</td>\n",
       "      <td>...</td>\n",
       "      <td>0</td>\n",
       "      <td>0</td>\n",
       "      <td>0.000001</td>\n",
       "      <td>0</td>\n",
       "      <td>5239.856786</td>\n",
       "      <td>0</td>\n",
       "      <td>0.000758</td>\n",
       "      <td>0</td>\n",
       "      <td>0</td>\n",
       "      <td>0</td>\n",
       "    </tr>\n",
       "    <tr>\n",
       "      <th>1</th>\n",
       "      <td>2</td>\n",
       "      <td>10</td>\n",
       "      <td>1412</td>\n",
       "      <td>1</td>\n",
       "      <td>3.491812</td>\n",
       "      <td>2.028002</td>\n",
       "      <td>1.919449</td>\n",
       "      <td>0.012312</td>\n",
       "      <td>0.000001</td>\n",
       "      <td>0.000001</td>\n",
       "      <td>...</td>\n",
       "      <td>0</td>\n",
       "      <td>0</td>\n",
       "      <td>0.000001</td>\n",
       "      <td>0</td>\n",
       "      <td>5239.805387</td>\n",
       "      <td>0</td>\n",
       "      <td>0.000802</td>\n",
       "      <td>0</td>\n",
       "      <td>0</td>\n",
       "      <td>0</td>\n",
       "    </tr>\n",
       "    <tr>\n",
       "      <th>2</th>\n",
       "      <td>3</td>\n",
       "      <td>10</td>\n",
       "      <td>1412</td>\n",
       "      <td>1</td>\n",
       "      <td>3.491881</td>\n",
       "      <td>2.075667</td>\n",
       "      <td>1.949642</td>\n",
       "      <td>0.013845</td>\n",
       "      <td>0.000001</td>\n",
       "      <td>0.000001</td>\n",
       "      <td>...</td>\n",
       "      <td>0</td>\n",
       "      <td>0</td>\n",
       "      <td>0.000001</td>\n",
       "      <td>0</td>\n",
       "      <td>5239.754290</td>\n",
       "      <td>0</td>\n",
       "      <td>0.000947</td>\n",
       "      <td>0</td>\n",
       "      <td>0</td>\n",
       "      <td>0</td>\n",
       "    </tr>\n",
       "    <tr>\n",
       "      <th>3</th>\n",
       "      <td>4</td>\n",
       "      <td>10</td>\n",
       "      <td>1412</td>\n",
       "      <td>1</td>\n",
       "      <td>3.491968</td>\n",
       "      <td>1.706428</td>\n",
       "      <td>1.573974</td>\n",
       "      <td>0.016453</td>\n",
       "      <td>0.000001</td>\n",
       "      <td>0.000001</td>\n",
       "      <td>...</td>\n",
       "      <td>0</td>\n",
       "      <td>0</td>\n",
       "      <td>0.000001</td>\n",
       "      <td>0</td>\n",
       "      <td>5239.704265</td>\n",
       "      <td>0</td>\n",
       "      <td>0.001002</td>\n",
       "      <td>0</td>\n",
       "      <td>0</td>\n",
       "      <td>0</td>\n",
       "    </tr>\n",
       "    <tr>\n",
       "      <th>4</th>\n",
       "      <td>5</td>\n",
       "      <td>10</td>\n",
       "      <td>1412</td>\n",
       "      <td>1</td>\n",
       "      <td>3.492063</td>\n",
       "      <td>1.321931</td>\n",
       "      <td>1.213927</td>\n",
       "      <td>0.019804</td>\n",
       "      <td>0.000001</td>\n",
       "      <td>0.000001</td>\n",
       "      <td>...</td>\n",
       "      <td>0</td>\n",
       "      <td>0</td>\n",
       "      <td>0.000002</td>\n",
       "      <td>0</td>\n",
       "      <td>5239.654538</td>\n",
       "      <td>0</td>\n",
       "      <td>0.000798</td>\n",
       "      <td>0</td>\n",
       "      <td>0</td>\n",
       "      <td>0</td>\n",
       "    </tr>\n",
       "  </tbody>\n",
       "</table>\n",
       "<p>5 rows × 41 columns</p>\n",
       "</div>"
      ],
      "text/plain": [
       "   day  month  year  basinID       lai      gpsn  plant_resp  soil_resp  \\\n",
       "0    1     10  1412        1  3.491749  1.803403    1.700127   0.010401   \n",
       "1    2     10  1412        1  3.491812  2.028002    1.919449   0.012312   \n",
       "2    3     10  1412        1  3.491881  2.075667    1.949642   0.013845   \n",
       "3    4     10  1412        1  3.491968  1.706428    1.573974   0.016453   \n",
       "4    5     10  1412        1  3.492063  1.321931    1.213927   0.019804   \n",
       "\n",
       "    nitrate     sminn         ...          denitrif  nitrif       DOC  DON  \\\n",
       "0  0.000001  0.000001         ...                 0       0  0.000001    0   \n",
       "1  0.000001  0.000001         ...                 0       0  0.000001    0   \n",
       "2  0.000001  0.000001         ...                 0       0  0.000001    0   \n",
       "3  0.000001  0.000001         ...                 0       0  0.000001    0   \n",
       "4  0.000001  0.000001         ...                 0       0  0.000002    0   \n",
       "\n",
       "    root_depth  nfix   nuptake  grazingC  StreamNO3_from_surface  \\\n",
       "0  5239.856786     0  0.000758         0                       0   \n",
       "1  5239.805387     0  0.000802         0                       0   \n",
       "2  5239.754290     0  0.000947         0                       0   \n",
       "3  5239.704265     0  0.001002         0                       0   \n",
       "4  5239.654538     0  0.000798         0                       0   \n",
       "\n",
       "   StreamNO3_from_sub  \n",
       "0                   0  \n",
       "1                   0  \n",
       "2                   0  \n",
       "3                   0  \n",
       "4                   0  \n",
       "\n",
       "[5 rows x 41 columns]"
      ]
     },
     "execution_count": 41,
     "metadata": {},
     "output_type": "execute_result"
    }
   ],
   "source": [
    "dat.head()"
   ]
  },
  {
   "cell_type": "code",
   "execution_count": 37,
   "metadata": {
    "collapsed": false
   },
   "outputs": [
    {
     "data": {
      "text/plain": [
       "Index([u'day', u'month', u'year', u'basinID', u'lai', u'gpsn', u'plant_resp',\n",
       "       u'soil_resp', u'nitrate', u'sminn', u'surfaceN', u'plantc', u'plantn',\n",
       "       u'cpool', u'npool', u'litrc', u'litrn', u'soilc', u'soiln', u'gwNO3',\n",
       "       u'gwNH4', u'gwDON', u'gwDOC', u'streamflow_NO3', u'streamflow_NH4',\n",
       "       u'streamflow_DON', u'streamflow_DOC', u'gwNO3out', u'gwNH4out',\n",
       "       u'gwDONout', u'gwDOCout', u'denitrif', u'nitrif', u'DOC', u'DON',\n",
       "       u'root_depth', u'nfix', u'nuptake', u'grazingC',\n",
       "       u'StreamNO3_from_surface', u'StreamNO3_from_sub'],\n",
       "      dtype='object')"
      ]
     },
     "execution_count": 37,
     "metadata": {},
     "output_type": "execute_result"
    }
   ],
   "source": [
    "dat.columns"
   ]
  },
  {
   "cell_type": "code",
   "execution_count": 47,
   "metadata": {
    "collapsed": false
   },
   "outputs": [
    {
     "data": {
      "text/plain": [
       "Index([u'day', u'month', u'year', u'basinID', u'pot_surface_infil',\n",
       "       u'snow_thr', u'sat_def_z', u'sat_def', u'rz_storage', u'unsat_stor',\n",
       "       u'rz_drainage', u'unsat_drain', u'cap', u'evap', u'snowpack', u'trans',\n",
       "       u'baseflow', u'return', u'streamflow', u'psn', u'lai', u'gw.Qout',\n",
       "       u'gw.storage', u'detention_store', u'%sat_area', u'litter_store',\n",
       "       u'canopy_store', u'%snow_cover', u'snow_subl', u'trans_var',\n",
       "       u'acc_trans', u'acctransv_var', u'pet', u'dC13', u'precip',\n",
       "       u'pcp_assim', u'mortf', u'tmax', u'tmin', u'tavg', u'vpd', u'snowfall',\n",
       "       u'recharge', u'gpsn', u'resp', u'gs', u'rootdepth', u'plantc',\n",
       "       u'snowmelt', u'canopysubl', u'routedstreamflow', u'canopy_snow',\n",
       "       u'height', u'evap_can', u'evap_lit', u'evap_soil', u'litrc', u'Kdown',\n",
       "       u'Ldown', u'Kup', u'Lup', u'Kstar_can', u'Kstar_soil', u'Kstar_snow',\n",
       "       u'Lstar_can', u'Lstar_soil', u'Lstar_snow', u'LE_canopy', u'LE_soil',\n",
       "       u'LE_snow', u'Lstar_strat', u'canopydrip', u'ga'],\n",
       "      dtype='object')"
      ]
     },
     "execution_count": 47,
     "metadata": {},
     "output_type": "execute_result"
    }
   ],
   "source": [
    "dat2.columns"
   ]
  },
  {
   "cell_type": "code",
   "execution_count": 52,
   "metadata": {
    "collapsed": false
   },
   "outputs": [
    {
     "data": {
      "text/plain": [
       "<matplotlib.legend.Legend at 0x1283e4210>"
      ]
     },
     "execution_count": 52,
     "metadata": {},
     "output_type": "execute_result"
    },
    {
     "data": {
      "image/png": "[encoded data removed]",
      "text/plain": [
       "<matplotlib.figure.Figure at 0x11e634d90>"
      ]
     },
     "metadata": {},
     "output_type": "display_data"
    }
   ],
   "source": [
    "plt.figure(figsize=(15,5))\n",
    "dat2.psn.plot()\n",
    "ax1 = plt.gca()\n",
    "ax2 = ax1.twinx()\n",
    "plt.sca(ax2)\n",
    "dat.lai.plot(c='g')\n",
    "plt.legend()\n",
    "#plt.xlim('1975','2009')"
   ]
  },
  {
   "cell_type": "code",
   "execution_count": 20,
   "metadata": {
    "collapsed": false
   },
   "outputs": [
    {
     "data": {
      "text/plain": [
       "2012-09-25    0.119124\n",
       "2012-09-26    0.117740\n",
       "2012-09-27    0.116425\n",
       "2012-09-28    0.115179\n",
       "2012-09-29    0.114004\n",
       "Name: lai_x, dtype: float64"
      ]
     },
     "execution_count": 20,
     "metadata": {},
     "output_type": "execute_result"
    }
   ],
   "source": [
    "dat.lai_x.tail()"
   ]
  },
  {
   "cell_type": "code",
   "execution_count": 21,
   "metadata": {
    "collapsed": false
   },
   "outputs": [
    {
     "data": {
      "text/plain": [
       "30.700677169222136"
      ]
     },
     "execution_count": 21,
     "metadata": {},
     "output_type": "execute_result"
    }
   ],
   "source": [
    "3.5/0.11400430"
   ]
  },
  {
   "cell_type": "code",
   "execution_count": 11,
   "metadata": {
    "collapsed": false
   },
   "outputs": [
    {
     "data": {
      "text/plain": [
       "<matplotlib.legend.Legend at 0x1128eab90>"
      ]
     },
     "execution_count": 11,
     "metadata": {},
     "output_type": "execute_result"
    },
    {
     "data": {
      "image/png": "[encoded data removed]",
      "text/plain": [
       "<matplotlib.figure.Figure at 0x10f36bed0>"
      ]
     },
     "metadata": {},
     "output_type": "display_data"
    }
   ],
   "source": [
    "plt.figure(figsize=(15,5))\n",
    "dat.streamflow.plot()\n",
    "plt.legend()"
   ]
  },
  {
   "cell_type": "raw",
   "metadata": {},
   "source": [
    "#def readRHESSysBasin(filename):\n",
    "       \n",
    "if os.path.isfile(filename) == False:\n",
    "    print 'Input file does not exist'\n",
    "else:\n",
    "    bd = filename # basin output path\n",
    "    # split the path up and append the grow portion\n",
    "    path,basename = ntpath.split(filename)\n",
    "    bnparts = basename.split('_')\n",
    "    bdg = path+'/'+bnparts[0]+'_'+bnparts[1]+'_grow_'+bnparts[2]\n",
    "\n",
    "    # load the basin daily file\n",
    "\n",
    "    bddat = pd.read_table(bd,delim_whitespace=True,\n",
    "                           header='infer', parse_dates={'foo':[2,1,0]}, index_col='foo')\n",
    "    bddat.reset_index(inplace=True)\n",
    "    bddat.index = pd.DatetimeIndex(bddat.foo)\n",
    "\n",
    "\n",
    "    if os.path.isfile(bdg):\n",
    "        bdgdat = pd.read_table(bdg,delim_whitespace=True,\n",
    "                           header='infer', parse_dates={'foo':[2,1,0]}, index_col='foo')\n",
    "        bdgdat.reset_index(inplace=True)\n",
    "        bdgdat.index = pd.DatetimeIndex(bdgdat.foo)\n",
    "\n",
    "        data = pd.merge(left = bddat, right = bdgdat,on='foo')\n",
    "        data.index = pd.DatetimeIndex(data.foo)\n",
    "        del data['foo']\n",
    "\n",
    "    else:\n",
    "        data = bddat\n",
    "        del data['foo']\n",
    "\n",
    "    data['wateryear'] = data.index.map(rut.wateryear) # calculate the water year\n",
    "\n",
    "    # calculate accumulated precip and snowfall by water year\n",
    "\n",
    "    data['ET'] = data.evap+data.trans\n",
    "\n",
    "    data['accumPrecip'] = np.NaN\n",
    "    data['accumSnowFall'] = np.NaN\n",
    "    data['accumET'] = np.NaN\n",
    "\n",
    "    for wy in np.unique(data.wateryear):\n",
    "        data.loc[data.wateryear==wy,'accumPrecip'] = data.loc[data.wateryear==wy,'precip'].cumsum()\n",
    "        data.loc[data.wateryear==wy,'accumSnowFall'] = data.loc[data.wateryear==wy,'snowfall'].cumsum()\n",
    "        data.loc[data.wateryear==wy,'accumET'] = data.loc[data.wateryear==wy,'ET'].cumsum()\n",
    "\n",
    "\n",
    "\n",
    "\n",
    "#    return data"
   ]
  },
  {
   "cell_type": "code",
   "execution_count": 15,
   "metadata": {
    "collapsed": false
   },
   "outputs": [
    {
     "data": {
      "text/html": [
       "<div>\n",
       "<table border=\"1\" class=\"dataframe\">\n",
       "  <thead>\n",
       "    <tr style=\"text-align: right;\">\n",
       "      <th></th>\n",
       "      <th>basinID_x</th>\n",
       "      <th>pot_surface_infil</th>\n",
       "      <th>snow_thr</th>\n",
       "      <th>sat_def_z</th>\n",
       "      <th>sat_def</th>\n",
       "      <th>rz_storage</th>\n",
       "      <th>unsat_stor</th>\n",
       "      <th>rz_drainage</th>\n",
       "      <th>unsat_drain</th>\n",
       "      <th>cap</th>\n",
       "      <th>...</th>\n",
       "      <th>nfix</th>\n",
       "      <th>nuptake</th>\n",
       "      <th>grazingC</th>\n",
       "      <th>StreamNO3_from_surface</th>\n",
       "      <th>StreamNO3_from_sub</th>\n",
       "      <th>wateryear</th>\n",
       "      <th>ET</th>\n",
       "      <th>accumPrecip</th>\n",
       "      <th>accumSnowFall</th>\n",
       "      <th>accumET</th>\n",
       "    </tr>\n",
       "  </thead>\n",
       "  <tbody>\n",
       "    <tr>\n",
       "      <th>1850-10-01 00:00:00</th>\n",
       "      <td>1</td>\n",
       "      <td>0</td>\n",
       "      <td>0</td>\n",
       "      <td>2061.582877</td>\n",
       "      <td>896.788552</td>\n",
       "      <td>31.126703</td>\n",
       "      <td>588.593674</td>\n",
       "      <td>0</td>\n",
       "      <td>154.510479</td>\n",
       "      <td>0.211923</td>\n",
       "      <td>...</td>\n",
       "      <td>0</td>\n",
       "      <td>0.000291</td>\n",
       "      <td>0</td>\n",
       "      <td>0</td>\n",
       "      <td>0.000001</td>\n",
       "      <td>1851</td>\n",
       "      <td>0.211923</td>\n",
       "      <td>0</td>\n",
       "      <td>0</td>\n",
       "      <td>0.211923</td>\n",
       "    </tr>\n",
       "    <tr>\n",
       "      <th>1850-10-02 00:00:00</th>\n",
       "      <td>1</td>\n",
       "      <td>0</td>\n",
       "      <td>0</td>\n",
       "      <td>1547.795708</td>\n",
       "      <td>673.291133</td>\n",
       "      <td>31.126703</td>\n",
       "      <td>363.491228</td>\n",
       "      <td>0</td>\n",
       "      <td>225.130488</td>\n",
       "      <td>0.216056</td>\n",
       "      <td>...</td>\n",
       "      <td>0</td>\n",
       "      <td>0.000240</td>\n",
       "      <td>0</td>\n",
       "      <td>0</td>\n",
       "      <td>0.000006</td>\n",
       "      <td>1851</td>\n",
       "      <td>0.216056</td>\n",
       "      <td>0</td>\n",
       "      <td>0</td>\n",
       "      <td>0.427979</td>\n",
       "    </tr>\n",
       "    <tr>\n",
       "      <th>1850-10-03 00:00:00</th>\n",
       "      <td>1</td>\n",
       "      <td>0</td>\n",
       "      <td>0</td>\n",
       "      <td>1428.999097</td>\n",
       "      <td>621.614607</td>\n",
       "      <td>31.126703</td>\n",
       "      <td>309.283912</td>\n",
       "      <td>0</td>\n",
       "      <td>54.260722</td>\n",
       "      <td>0.176164</td>\n",
       "      <td>...</td>\n",
       "      <td>0</td>\n",
       "      <td>0.000213</td>\n",
       "      <td>0</td>\n",
       "      <td>0</td>\n",
       "      <td>0.000010</td>\n",
       "      <td>1851</td>\n",
       "      <td>0.176164</td>\n",
       "      <td>0</td>\n",
       "      <td>0</td>\n",
       "      <td>0.604143</td>\n",
       "    </tr>\n",
       "    <tr>\n",
       "      <th>1850-10-04 00:00:00</th>\n",
       "      <td>1</td>\n",
       "      <td>0</td>\n",
       "      <td>0</td>\n",
       "      <td>2961.337368</td>\n",
       "      <td>1288.181755</td>\n",
       "      <td>31.126703</td>\n",
       "      <td>974.184760</td>\n",
       "      <td>0</td>\n",
       "      <td>23.791672</td>\n",
       "      <td>0.167612</td>\n",
       "      <td>...</td>\n",
       "      <td>0</td>\n",
       "      <td>0.000174</td>\n",
       "      <td>0</td>\n",
       "      <td>0</td>\n",
       "      <td>0.000006</td>\n",
       "      <td>1851</td>\n",
       "      <td>0.167611</td>\n",
       "      <td>0</td>\n",
       "      <td>0</td>\n",
       "      <td>0.771754</td>\n",
       "    </tr>\n",
       "    <tr>\n",
       "      <th>1850-10-05 00:00:00</th>\n",
       "      <td>1</td>\n",
       "      <td>0</td>\n",
       "      <td>0</td>\n",
       "      <td>2893.630036</td>\n",
       "      <td>1258.729066</td>\n",
       "      <td>31.012852</td>\n",
       "      <td>944.679510</td>\n",
       "      <td>0</td>\n",
       "      <td>29.505251</td>\n",
       "      <td>0.047296</td>\n",
       "      <td>...</td>\n",
       "      <td>0</td>\n",
       "      <td>0.000139</td>\n",
       "      <td>0</td>\n",
       "      <td>0</td>\n",
       "      <td>0.000000</td>\n",
       "      <td>1851</td>\n",
       "      <td>0.161147</td>\n",
       "      <td>0</td>\n",
       "      <td>0</td>\n",
       "      <td>0.932901</td>\n",
       "    </tr>\n",
       "  </tbody>\n",
       "</table>\n",
       "<p>5 rows × 113 columns</p>\n",
       "</div>"
      ],
      "text/plain": [
       "                     basinID_x  pot_surface_infil  snow_thr    sat_def_z  \\\n",
       "1850-10-01 00:00:00          1                  0         0  2061.582877   \n",
       "1850-10-02 00:00:00          1                  0         0  1547.795708   \n",
       "1850-10-03 00:00:00          1                  0         0  1428.999097   \n",
       "1850-10-04 00:00:00          1                  0         0  2961.337368   \n",
       "1850-10-05 00:00:00          1                  0         0  2893.630036   \n",
       "\n",
       "                         sat_def  rz_storage  unsat_stor  rz_drainage  \\\n",
       "1850-10-01 00:00:00   896.788552   31.126703  588.593674            0   \n",
       "1850-10-02 00:00:00   673.291133   31.126703  363.491228            0   \n",
       "1850-10-03 00:00:00   621.614607   31.126703  309.283912            0   \n",
       "1850-10-04 00:00:00  1288.181755   31.126703  974.184760            0   \n",
       "1850-10-05 00:00:00  1258.729066   31.012852  944.679510            0   \n",
       "\n",
       "                     unsat_drain       cap    ...     nfix   nuptake  \\\n",
       "1850-10-01 00:00:00   154.510479  0.211923    ...        0  0.000291   \n",
       "1850-10-02 00:00:00   225.130488  0.216056    ...        0  0.000240   \n",
       "1850-10-03 00:00:00    54.260722  0.176164    ...        0  0.000213   \n",
       "1850-10-04 00:00:00    23.791672  0.167612    ...        0  0.000174   \n",
       "1850-10-05 00:00:00    29.505251  0.047296    ...        0  0.000139   \n",
       "\n",
       "                     grazingC  StreamNO3_from_surface  StreamNO3_from_sub  \\\n",
       "1850-10-01 00:00:00         0                       0            0.000001   \n",
       "1850-10-02 00:00:00         0                       0            0.000006   \n",
       "1850-10-03 00:00:00         0                       0            0.000010   \n",
       "1850-10-04 00:00:00         0                       0            0.000006   \n",
       "1850-10-05 00:00:00         0                       0            0.000000   \n",
       "\n",
       "                     wateryear        ET  accumPrecip  accumSnowFall   accumET  \n",
       "1850-10-01 00:00:00       1851  0.211923            0              0  0.211923  \n",
       "1850-10-02 00:00:00       1851  0.216056            0              0  0.427979  \n",
       "1850-10-03 00:00:00       1851  0.176164            0              0  0.604143  \n",
       "1850-10-04 00:00:00       1851  0.167611            0              0  0.771754  \n",
       "1850-10-05 00:00:00       1851  0.161147            0              0  0.932901  \n",
       "\n",
       "[5 rows x 113 columns]"
      ]
     },
     "execution_count": 15,
     "metadata": {},
     "output_type": "execute_result"
    }
   ],
   "source": [
    "data.head()"
   ]
  },
  {
   "cell_type": "code",
   "execution_count": null,
   "metadata": {
    "collapsed": true
   },
   "outputs": [],
   "source": []
  }
 ],
 "metadata": {
  "kernelspec": {
   "display_name": "Python 2",
   "language": "python",
   "name": "python2"
  },
  "language_info": {
   "codemirror_mode": {
    "name": "ipython",
    "version": 2
   },
   "file_extension": ".py",
   "mimetype": "text/x-python",
   "name": "python",
   "nbconvert_exporter": "python",
   "pygments_lexer": "ipython2",
   "version": "2.7.11"
  }
 },
 "nbformat": 4,
 "nbformat_minor": 0
}
