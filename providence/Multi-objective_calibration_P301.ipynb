{
 "cells": [
  {
   "cell_type": "code",
   "execution_count": 362,
   "metadata": {
    "collapsed": false
   },
   "outputs": [],
   "source": [
    "import pandas as pd\n",
    "import numpy as np\n",
    "import glob\n",
    "import matplotlib.pyplot as plt\n",
    "%matplotlib inline\n",
    "from rhessys import utilities as rh\n",
    "import hydro.objective_fxns as ofx\n",
    "import ntpath\n",
    "from hydro import objective_fxns as ob\n",
    "from IPython.display import clear_output\n",
    "import ipyparallel as p\n",
    "import ProgressBar as pb\n",
    "from pymail import alert"
   ]
  },
  {
   "cell_type": "raw",
   "metadata": {},
   "source": [
    "def metric_daily(df):\n",
    "    bias_SF = 1.-(df.pe_SF_daily/100.)\n",
    "    nse_SF = df.nse_SF_daily\n",
    "    bias_ET = 1.-(df.pe_ET_daily/100.)\n",
    "    nse_ET = df.nse_ET_daily\n",
    "    \n",
    "    return np.nanmean([bias_SF,nse_SF,bias_ET,nse_ET])\n",
    "\n",
    "def metric_weekly(df):\n",
    "    bias_SF = 1.-(df.pe_SF_weekly/100.)\n",
    "    nse_SF = df.nse_SF_weekly\n",
    "    bias_ET = 1.-(df.pe_ET_weekly/100.)\n",
    "    nse_ET = df.nse_ET_weekly\n",
    "    \n",
    "    return np.nanmean([bias_SF,nse_SF,bias_ET,nse_ET])\n",
    "\n",
    "def metric_monthly(df):\n",
    "    bias_SF = 1.-(df.pe_SF_monthly/100.)\n",
    "    nse_SF = df.nse_SF_monthly\n",
    "    bias_ET = 1.-(df.pe_ET_monthly/100.)\n",
    "    nse_ET = df.nse_ET_monthly\n",
    "    \n",
    "    return np.nanmean([bias_SF,nse_SF,bias_ET,nse_ET])\n"
   ]
  },
  {
   "cell_type": "code",
   "execution_count": 363,
   "metadata": {
    "collapsed": false
   },
   "outputs": [],
   "source": [
    "C = p.Client()"
   ]
  },
  {
   "cell_type": "code",
   "execution_count": 364,
   "metadata": {
    "collapsed": false
   },
   "outputs": [
    {
     "data": {
      "text/plain": [
       "[0, 1, 2, 3, 4, 5, 6, 7]"
      ]
     },
     "execution_count": 364,
     "metadata": {},
     "output_type": "execute_result"
    }
   ],
   "source": [
    "C.ids"
   ]
  },
  {
   "cell_type": "code",
   "execution_count": 365,
   "metadata": {
    "collapsed": false
   },
   "outputs": [],
   "source": [
    "view = C.load_balanced_view()"
   ]
  },
  {
   "cell_type": "code",
   "execution_count": 366,
   "metadata": {
    "collapsed": false
   },
   "outputs": [],
   "source": [
    "calname = 'et_cal17'\n",
    "site = 'providence/theo_p301_flux'\n",
    "m = np.loadtxt('/RHESSys/%s/scripts/%s_m.txt'%(site,calname))\n",
    "ksat = np.loadtxt('/RHESSys/%s/scripts/%s_ksat.txt'%(site,calname))\n",
    "gw1 = np.loadtxt('/RHESSys/%s/scripts/%s_gw1.txt'%(site,calname))\n",
    "#gw2 = np.loadtxt('/RHESSys/%s/scripts/%s_gw2.txt'%(site,calname))\n",
    "#gsmax = np.loadtxt(prfx+'gsmax.txt')\n",
    "#sd = np.loadtxt(prfx+'sd.txt')\n",
    "rd = np.loadtxt('/RHESSys/%s/scripts/%s_rd.txt'%(site,calname))\n",
    "po = np.loadtxt('/RHESSys/%s/scripts/%s_po.txt'%(site,calname))\n",
    "pa = np.loadtxt('/RHESSys/%s/scripts/%s_pa.txt'%(site,calname))\n",
    "#lai = np.loadtxt('/RHESSys/%s/scripts/%s_lai.txt'%(site,calname))\n",
    "#sd = np.loadtxt('/RHESSys/ComoCreek_new/scripts/%s_sd.txt'%calname)"
   ]
  },
  {
   "cell_type": "code",
   "execution_count": 367,
   "metadata": {
    "collapsed": false
   },
   "outputs": [],
   "source": [
    "strt = 2009\n",
    "nd = 2010"
   ]
  },
  {
   "cell_type": "code",
   "execution_count": 368,
   "metadata": {
    "collapsed": false
   },
   "outputs": [],
   "source": [
    "# load ET calibration data\n",
    "FT = pd.read_pickle('../../../greenness_timing/ameriflux/CA_p301/P301.pcl')\n",
    "FT['ET'] = FT.tot_ET\n",
    "FT['wateryear'] = FT.index.map(rh.wateryear)\n",
    "FT_daily = FT.loc[(FT.wateryear>=strt) & (FT.wateryear<=nd),:]\n",
    "FT_weekly = FT_daily.resample('W',how=np.sum)\n",
    "FT_monthly = FT_daily.resample('M',how=np.sum)"
   ]
  },
  {
   "cell_type": "code",
   "execution_count": 369,
   "metadata": {
    "collapsed": false
   },
   "outputs": [],
   "source": [
    "# load streamflow calibration data\n",
    "Q = pd.read_pickle('./data/P301_specific_discharge.pcl')\n",
    "Q['wateryear'] = Q.index.map(rh.wateryear)\n",
    "Q_daily = Q.loc[(Q.wateryear>=strt) & (Q.wateryear<=nd),:]\n",
    "Q_weekly = Q_daily.resample('W',how=np.sum)\n",
    "Q_monthly = Q_daily.resample('M',how=np.sum)"
   ]
  },
  {
   "cell_type": "code",
   "execution_count": 370,
   "metadata": {
    "collapsed": false
   },
   "outputs": [],
   "source": [
    "%%px\n",
    "import numpy as np\n",
    "import pandas as pd\n",
    "from rhessys import utilities as rh\n",
    "import hydro.objective_fxns as ofx\n",
    "# set bounds on the data\n",
    "strt = 2009\n",
    "nd = 2010\n",
    "# load ET data\n",
    "FT = pd.read_pickle('/Volumes/Users/Theo/greenness_timing/ameriflux/CA_p301/P301.pcl')\n",
    "FT['ET'] = FT.tot_ET # make total ET the ET variable\n",
    "FT['wateryear'] = FT.index.map(rh.wateryear)\n",
    "FT_daily = FT.loc[(FT.wateryear>=strt) & (FT.wateryear<=nd),:]\n",
    "FT_weekly = FT_daily.resample('W',how=np.sum)\n",
    "FT_monthly = FT_daily.resample('M',how=np.sum)\n",
    "# load streamflow data\n",
    "Q = pd.read_pickle('/Volumes/Users/Theo/projects/RHESSys/providence/data/P301_specific_discharge.pcl')\n",
    "Q['wateryear'] = Q.index.map(rh.wateryear)\n",
    "Q_daily = Q.loc[(Q.wateryear>=strt) & (Q.wateryear<=nd),:]\n",
    "Q_weekly = Q_daily.resample('W',how=np.sum)\n",
    "Q_monthly = Q_daily.resample('M',how=np.sum)"
   ]
  },
  {
   "cell_type": "code",
   "execution_count": 372,
   "metadata": {
    "collapsed": false
   },
   "outputs": [],
   "source": [
    "files = glob.glob('/RHESSys/%s/out/%s/*_basin.daily'%(site,calname))"
   ]
  },
  {
   "cell_type": "code",
   "execution_count": 373,
   "metadata": {
    "collapsed": true
   },
   "outputs": [],
   "source": [
    "cals = pd.DataFrame({'files':files})"
   ]
  },
  {
   "cell_type": "code",
   "execution_count": 375,
   "metadata": {
    "collapsed": false
   },
   "outputs": [
    {
     "data": {
      "text/plain": [
       "'/RHESSys/providence/theo_p301_flux/out/et_cal17/et_cal17_0_basin.daily'"
      ]
     },
     "execution_count": 375,
     "metadata": {},
     "output_type": "execute_result"
    }
   ],
   "source": [
    "cals.files[0]"
   ]
  },
  {
   "cell_type": "code",
   "execution_count": 376,
   "metadata": {
    "collapsed": false
   },
   "outputs": [
    {
     "data": {
      "text/plain": [
       "(20000, 1)"
      ]
     },
     "execution_count": 376,
     "metadata": {},
     "output_type": "execute_result"
    }
   ],
   "source": [
    "cals.shape"
   ]
  },
  {
   "cell_type": "code",
   "execution_count": 377,
   "metadata": {
    "collapsed": false
   },
   "outputs": [],
   "source": [
    "def calc_obfx(fl):\n",
    "    \n",
    "    # extract idx\n",
    "    idx = int(fl.split('/')[-1].split('_')[-2])\n",
    "    \n",
    "    # load and process the data\n",
    "    dat = rh.readRHESSysBasin(fl)\n",
    "    dat_daily = dat.loc[(dat.wateryear>=strt) & (dat.wateryear<=nd),:] # crop by water year\n",
    "    dat_weekly = dat_daily.resample('W', how= np.sum)\n",
    "    dat_monthly = dat_daily.resample('M', how= np.sum)\n",
    "    \n",
    "    # compute ET metrics\n",
    "    nse_ET_daily = ofx.nashsut(FT_daily.ET,dat_daily.ET) # daily NSE\n",
    "    nse_ET_weekly = ofx.nashsut(FT_weekly.ET,dat_weekly.ET) # weekly NSE\n",
    "    nse_ET_monthly = ofx.nashsut(FT_monthly.ET,dat_monthly.ET) # monthly NSE\n",
    "    pe_ET_daily = ofx.percenterror (FT_daily.ET,dat_daily.ET) # daily PE\n",
    "    pe_ET_weekly = ofx.percenterror(FT_weekly.ET,dat_weekly.ET) # weekly PE\n",
    "    pe_ET_monthly = ofx.percenterror(FT_monthly.ET,dat_monthly.ET) # monthly PE\n",
    "    \n",
    "    # compute Streamflow metrics\n",
    "    nse_SF_daily = ofx.nashsut(Q_daily.discharge,dat_daily.streamflow) # daily NSE\n",
    "    nse_SF_weekly = ofx.nashsut(Q_weekly.discharge,dat_weekly.streamflow) # weekly NSE\n",
    "    nse_SF_monthly = ofx.nashsut(Q_monthly.discharge,dat_monthly.streamflow) # monthly NSE\n",
    "    pe_SF_daily = ofx.percenterror (Q_daily.discharge,dat_daily.streamflow) # daily PE\n",
    "    pe_SF_weekly = ofx.percenterror(Q_weekly.discharge,dat_weekly.streamflow) # weekly PE\n",
    "    pe_SF_monthly = ofx.percenterror(Q_monthly.discharge,dat_monthly.streamflow) # monthly PE\n",
    "    \n",
    "    nse_et_wt = 0.25\n",
    "    pe_et_wt = 0.25\n",
    "    nse_sf_wt = 0.25\n",
    "    pe_sf_wt = 0.25\n",
    "    \n",
    "    \n",
    "    # compute daily metric\n",
    "    #daily = np.nanmean(np.array([nse_ET_daily,nse_SF_daily,(1-(pe_ET_daily/100.)),(1-(pe_SF_daily/100.))]))\n",
    "    \n",
    "    daily = np.nansum([nse_et_wt*nse_ET_daily,nse_sf_wt*nse_SF_daily,pe_et_wt*(1-(pe_ET_daily/100.)),pe_sf_wt*(1-(pe_SF_daily/100.))])\n",
    "    \n",
    "    # compute weekly metric\n",
    "    #weekly = np.nanmean([nse_ET_weekly,nse_SF_weekly,(1-(pe_ET_weekly/100.)),(1-(pe_SF_weekly/100.))])\n",
    "        \n",
    "    weekly = np.nansum([nse_et_wt*nse_ET_weekly,nse_sf_wt*nse_SF_weekly,pe_et_wt*(1-(pe_ET_weekly/100.)),pe_sf_wt*(1-(pe_SF_weekly/100.))])\n",
    "    \n",
    "    # compute monthly metric\n",
    "    #monthly = np.nanmean([nse_ET_monthly,nse_SF_monthly,(1-(pe_ET_monthly/100.)),(1-(pe_SF_monthly/100.))])\n",
    "    \n",
    "    monthly = np.nansum([nse_et_wt*nse_ET_monthly,nse_sf_wt*nse_SF_monthly,pe_et_wt*(1-(pe_ET_monthly/100.)),pe_sf_wt*(1-(pe_SF_monthly/100.))])\n",
    "    \n",
    "    \n",
    "    return (idx,nse_ET_daily,nse_ET_weekly,nse_ET_monthly,pe_ET_daily,pe_ET_weekly,pe_ET_monthly,nse_SF_daily,\n",
    "            nse_SF_weekly,nse_SF_monthly,pe_SF_daily,pe_SF_weekly,pe_SF_monthly,daily,weekly,monthly)"
   ]
  },
  {
   "cell_type": "code",
   "execution_count": 378,
   "metadata": {
    "collapsed": true
   },
   "outputs": [],
   "source": [
    "res = view.map(calc_obfx,cals.files)"
   ]
  },
  {
   "cell_type": "code",
   "execution_count": 379,
   "metadata": {
    "collapsed": true
   },
   "outputs": [],
   "source": [
    "prog = pb.ProgressBar(len(cals))"
   ]
  },
  {
   "cell_type": "code",
   "execution_count": 380,
   "metadata": {
    "collapsed": true
   },
   "outputs": [],
   "source": [
    "import time"
   ]
  },
  {
   "cell_type": "code",
   "execution_count": 381,
   "metadata": {
    "collapsed": false
   },
   "outputs": [
    {
     "name": "stdout",
     "output_type": "stream",
     "text": [
      "[****************100%******************]  19938 of 20000 complete\n"
     ]
    }
   ],
   "source": [
    "while res.ready() == False:\n",
    "    prog.animate_ipython(res.progress)\n",
    "    time.sleep(2)\n",
    "\n",
    "alert.send_alert('barnhatb@colorado.edu','Processing %s has finished'%calname,'Your script has finished')"
   ]
  },
  {
   "cell_type": "code",
   "execution_count": 382,
   "metadata": {
    "collapsed": false
   },
   "outputs": [
    {
     "data": {
      "text/plain": [
       "True"
      ]
     },
     "execution_count": 382,
     "metadata": {},
     "output_type": "execute_result"
    }
   ],
   "source": [
    "res.ready()"
   ]
  },
  {
   "cell_type": "code",
   "execution_count": 383,
   "metadata": {
    "collapsed": false
   },
   "outputs": [],
   "source": [
    "idx,nse_ET_daily,nse_ET_weekly,nse_ET_monthly,pe_ET_daily,pe_ET_weekly,pe_ET_monthly,nse_SF_daily,nse_SF_weekly,nse_SF_monthly,pe_SF_daily,pe_SF_weekly,pe_SF_monthly,daily,weekly,monthly = zip(*res.result())"
   ]
  },
  {
   "cell_type": "code",
   "execution_count": 384,
   "metadata": {
    "collapsed": false
   },
   "outputs": [],
   "source": [
    "tmp1 = pd.DataFrame({'rd':rd,'lai':lai,'m':m,'ksat':ksat,'po':po,'pa':pa,'gw1':gw1,'idx':np.arange(0,len(cals))})\n",
    "tmp2 = pd.DataFrame({'idx':idx,'nse_ET_daily':nse_ET_daily,'nse_ET_weekly':nse_ET_weekly,'nse_ET_monthly':nse_ET_monthly,\n",
    "                     'pe_ET_daily':pe_ET_daily,'pe_ET_weekly':pe_ET_weekly,'pe_ET_monthly':pe_ET_monthly,\n",
    "                     'nse_SF_daily':nse_SF_daily,'nse_SF_weekly':nse_SF_weekly,'nse_SF_monthly':nse_SF_monthly,\n",
    "                     'pe_SF_daily':pe_SF_daily,'pe_SF_weekly':pe_SF_weekly,'pe_SF_monthly':pe_SF_monthly,\n",
    "                     'daily':daily,'weekly':weekly,'monthly':monthly})\n",
    "\n",
    "df = pd.merge(left=tmp1,right=tmp2,on='idx')"
   ]
  },
  {
   "cell_type": "code",
   "execution_count": 385,
   "metadata": {
    "collapsed": true
   },
   "outputs": [],
   "source": [
    "df.to_pickle('./data/%s.pcl'%calname)"
   ]
  },
  {
   "cell_type": "code",
   "execution_count": 386,
   "metadata": {
    "collapsed": false
   },
   "outputs": [
    {
     "data": {
      "text/html": [
       "<div>\n",
       "<table border=\"1\" class=\"dataframe\">\n",
       "  <thead>\n",
       "    <tr style=\"text-align: right;\">\n",
       "      <th></th>\n",
       "      <th>gw1</th>\n",
       "      <th>idx</th>\n",
       "      <th>ksat</th>\n",
       "      <th>lai</th>\n",
       "      <th>m</th>\n",
       "      <th>pa</th>\n",
       "      <th>po</th>\n",
       "      <th>rd</th>\n",
       "      <th>daily</th>\n",
       "      <th>monthly</th>\n",
       "      <th>...</th>\n",
       "      <th>nse_SF_daily</th>\n",
       "      <th>nse_SF_monthly</th>\n",
       "      <th>nse_SF_weekly</th>\n",
       "      <th>pe_ET_daily</th>\n",
       "      <th>pe_ET_monthly</th>\n",
       "      <th>pe_ET_weekly</th>\n",
       "      <th>pe_SF_daily</th>\n",
       "      <th>pe_SF_monthly</th>\n",
       "      <th>pe_SF_weekly</th>\n",
       "      <th>weekly</th>\n",
       "    </tr>\n",
       "  </thead>\n",
       "  <tbody>\n",
       "    <tr>\n",
       "      <th>12172</th>\n",
       "      <td>0.442</td>\n",
       "      <td>12172</td>\n",
       "      <td>505.26</td>\n",
       "      <td>0.63</td>\n",
       "      <td>3.137</td>\n",
       "      <td>0.4658</td>\n",
       "      <td>2.5329</td>\n",
       "      <td>8.503</td>\n",
       "      <td>-4.564874</td>\n",
       "      <td>0.790281</td>\n",
       "      <td>...</td>\n",
       "      <td>-2.59112</td>\n",
       "      <td>0.575533</td>\n",
       "      <td>0.173256</td>\n",
       "      <td>53.13284</td>\n",
       "      <td>1.261054</td>\n",
       "      <td>2.562295</td>\n",
       "      <td>1.972214</td>\n",
       "      <td>1.144097</td>\n",
       "      <td>1.442404</td>\n",
       "      <td>0.711928</td>\n",
       "    </tr>\n",
       "  </tbody>\n",
       "</table>\n",
       "<p>1 rows × 23 columns</p>\n",
       "</div>"
      ],
      "text/plain": [
       "         gw1    idx    ksat   lai      m      pa      po     rd     daily  \\\n",
       "12172  0.442  12172  505.26  0.63  3.137  0.4658  2.5329  8.503 -4.564874   \n",
       "\n",
       "        monthly    ...     nse_SF_daily  nse_SF_monthly  nse_SF_weekly  \\\n",
       "12172  0.790281    ...         -2.59112        0.575533       0.173256   \n",
       "\n",
       "       pe_ET_daily  pe_ET_monthly  pe_ET_weekly  pe_SF_daily  pe_SF_monthly  \\\n",
       "12172     53.13284       1.261054      2.562295     1.972214       1.144097   \n",
       "\n",
       "       pe_SF_weekly    weekly  \n",
       "12172      1.442404  0.711928  \n",
       "\n",
       "[1 rows x 23 columns]"
      ]
     },
     "execution_count": 386,
     "metadata": {},
     "output_type": "execute_result"
    }
   ],
   "source": [
    "var = 'monthly'\n",
    "idx = df.loc[df[var]==df[var].max()].idx.as_matrix()[0]\n",
    "#idx = 4683\n",
    "dat = rut.readRHESSysBasin('/RHESSys/providence/theo_p301_flux/out/%s/%s_%s_basin.daily'%(calname,calname,idx))\n",
    "dat_daily = dat.loc[(dat.wateryear>=strt)&(dat.wateryear<=nd)]\n",
    "dat_weekly = dat_daily.resample('W',how=np.nansum)\n",
    "dat_monthly = dat_daily.resample('M',how=np.nansum)\n",
    "df.loc[df[var]==df[var].max()]"
   ]
  },
  {
   "cell_type": "code",
   "execution_count": 387,
   "metadata": {
    "collapsed": false,
    "scrolled": true
   },
   "outputs": [
    {
     "name": "stdout",
     "output_type": "stream",
     "text": [
      "gw1: 0.442\n",
      "idx: 12172\n",
      "ksat: 505.26\n",
      "lai: 0.63\n",
      "m: 3.137\n",
      "pa: 0.4658\n",
      "po: 2.5329\n",
      "rd: 8.503\n",
      "daily: -4.56487398296\n",
      "monthly: 0.790281257365\n",
      "nse_ET_daily: -17.1173250928\n",
      "nse_ET_monthly: 0.609643145196\n",
      "nse_ET_weekly: 0.714501472217\n",
      "nse_SF_daily: -2.59112030489\n",
      "nse_SF_monthly: 0.575533390969\n",
      "nse_SF_weekly: 0.173255941524\n",
      "pe_ET_daily: 53.1328395513\n",
      "pe_ET_monthly: 1.26105376832\n",
      "pe_ET_weekly: 2.56229487234\n",
      "pe_SF_daily: 1.97221386529\n",
      "pe_SF_monthly: 1.14409690229\n",
      "pe_SF_weekly: 1.44240365316\n",
      "weekly: 0.711927607121\n"
     ]
    }
   ],
   "source": [
    "for key in df.loc[df[var]==df[var].max()].columns:\n",
    "    print '%s: %s'%(key,df.loc[df[var]==df[var].max()][key].as_matrix()[0])"
   ]
  },
  {
   "cell_type": "code",
   "execution_count": 388,
   "metadata": {
    "collapsed": false
   },
   "outputs": [
    {
     "data": {
      "text/plain": [
       "'et_cal17'"
      ]
     },
     "execution_count": 388,
     "metadata": {},
     "output_type": "execute_result"
    }
   ],
   "source": [
    "calname"
   ]
  },
  {
   "cell_type": "code",
   "execution_count": 389,
   "metadata": {
    "collapsed": false
   },
   "outputs": [
    {
     "data": {
      "text/html": [
       "<div>\n",
       "<table border=\"1\" class=\"dataframe\">\n",
       "  <thead>\n",
       "    <tr style=\"text-align: right;\">\n",
       "      <th></th>\n",
       "      <th>gw1</th>\n",
       "      <th>idx</th>\n",
       "      <th>ksat</th>\n",
       "      <th>lai</th>\n",
       "      <th>m</th>\n",
       "      <th>pa</th>\n",
       "      <th>po</th>\n",
       "      <th>rd</th>\n",
       "      <th>daily</th>\n",
       "      <th>monthly</th>\n",
       "      <th>...</th>\n",
       "      <th>nse_SF_daily</th>\n",
       "      <th>nse_SF_monthly</th>\n",
       "      <th>nse_SF_weekly</th>\n",
       "      <th>pe_ET_daily</th>\n",
       "      <th>pe_ET_monthly</th>\n",
       "      <th>pe_ET_weekly</th>\n",
       "      <th>pe_SF_daily</th>\n",
       "      <th>pe_SF_monthly</th>\n",
       "      <th>pe_SF_weekly</th>\n",
       "      <th>weekly</th>\n",
       "    </tr>\n",
       "  </thead>\n",
       "  <tbody>\n",
       "    <tr>\n",
       "      <th>count</th>\n",
       "      <td>20000.000000</td>\n",
       "      <td>20000.000000</td>\n",
       "      <td>20000.000000</td>\n",
       "      <td>20000.000000</td>\n",
       "      <td>20000.000000</td>\n",
       "      <td>20000.000000</td>\n",
       "      <td>20000.000000</td>\n",
       "      <td>20000.000000</td>\n",
       "      <td>20000.000000</td>\n",
       "      <td>20000.000000</td>\n",
       "      <td>...</td>\n",
       "      <td>20000.000000</td>\n",
       "      <td>20000.000000</td>\n",
       "      <td>20000.000000</td>\n",
       "      <td>20000.000000</td>\n",
       "      <td>20000.000000</td>\n",
       "      <td>20000.000000</td>\n",
       "      <td>20000.000000</td>\n",
       "      <td>20000.000000</td>\n",
       "      <td>20000.000000</td>\n",
       "      <td>20000.000000</td>\n",
       "    </tr>\n",
       "    <tr>\n",
       "      <th>mean</th>\n",
       "      <td>0.749215</td>\n",
       "      <td>9999.500000</td>\n",
       "      <td>299.910173</td>\n",
       "      <td>0.904658</td>\n",
       "      <td>9.973337</td>\n",
       "      <td>1.211603</td>\n",
       "      <td>1.881878</td>\n",
       "      <td>6.015634</td>\n",
       "      <td>-5.761206</td>\n",
       "      <td>-0.210097</td>\n",
       "      <td>...</td>\n",
       "      <td>-4.507599</td>\n",
       "      <td>-1.666170</td>\n",
       "      <td>-2.159870</td>\n",
       "      <td>45.695781</td>\n",
       "      <td>1.593726</td>\n",
       "      <td>3.059545</td>\n",
       "      <td>1.165170</td>\n",
       "      <td>1.084892</td>\n",
       "      <td>1.122058</td>\n",
       "      <td>-0.303601</td>\n",
       "    </tr>\n",
       "    <tr>\n",
       "      <th>std</th>\n",
       "      <td>0.429253</td>\n",
       "      <td>5773.647028</td>\n",
       "      <td>172.735933</td>\n",
       "      <td>0.409060</td>\n",
       "      <td>5.754011</td>\n",
       "      <td>0.698974</td>\n",
       "      <td>1.096087</td>\n",
       "      <td>2.307898</td>\n",
       "      <td>8.569075</td>\n",
       "      <td>0.572169</td>\n",
       "      <td>...</td>\n",
       "      <td>23.746794</td>\n",
       "      <td>2.161562</td>\n",
       "      <td>4.502184</td>\n",
       "      <td>26.222528</td>\n",
       "      <td>0.669712</td>\n",
       "      <td>0.906208</td>\n",
       "      <td>0.727060</td>\n",
       "      <td>0.443793</td>\n",
       "      <td>0.562869</td>\n",
       "      <td>1.094835</td>\n",
       "    </tr>\n",
       "    <tr>\n",
       "      <th>min</th>\n",
       "      <td>0.010000</td>\n",
       "      <td>0.000000</td>\n",
       "      <td>1.010000</td>\n",
       "      <td>0.200000</td>\n",
       "      <td>0.010000</td>\n",
       "      <td>0.001200</td>\n",
       "      <td>0.001000</td>\n",
       "      <td>2.000000</td>\n",
       "      <td>-199.919344</td>\n",
       "      <td>-8.126233</td>\n",
       "      <td>...</td>\n",
       "      <td>-760.783617</td>\n",
       "      <td>-34.501903</td>\n",
       "      <td>-164.090710</td>\n",
       "      <td>14.634791</td>\n",
       "      <td>0.761992</td>\n",
       "      <td>1.810008</td>\n",
       "      <td>0.594614</td>\n",
       "      <td>0.499735</td>\n",
       "      <td>0.528810</td>\n",
       "      <td>-40.440468</td>\n",
       "    </tr>\n",
       "    <tr>\n",
       "      <th>25%</th>\n",
       "      <td>0.379000</td>\n",
       "      <td>4999.750000</td>\n",
       "      <td>149.592500</td>\n",
       "      <td>0.550000</td>\n",
       "      <td>5.023000</td>\n",
       "      <td>0.602775</td>\n",
       "      <td>0.937200</td>\n",
       "      <td>3.994750</td>\n",
       "      <td>-9.502895</td>\n",
       "      <td>-0.245645</td>\n",
       "      <td>...</td>\n",
       "      <td>-1.017260</td>\n",
       "      <td>-0.962922</td>\n",
       "      <td>-0.858646</td>\n",
       "      <td>19.102782</td>\n",
       "      <td>1.067387</td>\n",
       "      <td>2.359795</td>\n",
       "      <td>1.000000</td>\n",
       "      <td>1.000000</td>\n",
       "      <td>1.000000</td>\n",
       "      <td>-0.166636</td>\n",
       "    </tr>\n",
       "    <tr>\n",
       "      <th>50%</th>\n",
       "      <td>0.743000</td>\n",
       "      <td>9999.500000</td>\n",
       "      <td>301.565000</td>\n",
       "      <td>0.910000</td>\n",
       "      <td>10.002500</td>\n",
       "      <td>1.212050</td>\n",
       "      <td>1.880300</td>\n",
       "      <td>6.032000</td>\n",
       "      <td>-3.289235</td>\n",
       "      <td>-0.059648</td>\n",
       "      <td>...</td>\n",
       "      <td>-0.839167</td>\n",
       "      <td>-0.962922</td>\n",
       "      <td>-0.858646</td>\n",
       "      <td>45.615522</td>\n",
       "      <td>1.307134</td>\n",
       "      <td>2.711621</td>\n",
       "      <td>1.000000</td>\n",
       "      <td>1.000000</td>\n",
       "      <td>1.000000</td>\n",
       "      <td>-0.120923</td>\n",
       "    </tr>\n",
       "    <tr>\n",
       "      <th>75%</th>\n",
       "      <td>1.120000</td>\n",
       "      <td>14999.250000</td>\n",
       "      <td>449.580000</td>\n",
       "      <td>1.260000</td>\n",
       "      <td>14.924500</td>\n",
       "      <td>1.817825</td>\n",
       "      <td>2.826500</td>\n",
       "      <td>8.003000</td>\n",
       "      <td>0.022088</td>\n",
       "      <td>0.065957</td>\n",
       "      <td>...</td>\n",
       "      <td>-0.839167</td>\n",
       "      <td>-0.962922</td>\n",
       "      <td>-0.858646</td>\n",
       "      <td>66.527104</td>\n",
       "      <td>2.068409</td>\n",
       "      <td>3.708014</td>\n",
       "      <td>1.039279</td>\n",
       "      <td>1.000000</td>\n",
       "      <td>1.016768</td>\n",
       "      <td>0.066498</td>\n",
       "    </tr>\n",
       "    <tr>\n",
       "      <th>max</th>\n",
       "      <td>1.499000</td>\n",
       "      <td>19999.000000</td>\n",
       "      <td>599.980000</td>\n",
       "      <td>1.610000</td>\n",
       "      <td>19.999000</td>\n",
       "      <td>2.419800</td>\n",
       "      <td>3.799800</td>\n",
       "      <td>9.999000</td>\n",
       "      <td>0.356429</td>\n",
       "      <td>0.790281</td>\n",
       "      <td>...</td>\n",
       "      <td>0.346859</td>\n",
       "      <td>0.660346</td>\n",
       "      <td>0.362488</td>\n",
       "      <td>104.814496</td>\n",
       "      <td>3.441346</td>\n",
       "      <td>5.425152</td>\n",
       "      <td>13.744209</td>\n",
       "      <td>9.267183</td>\n",
       "      <td>11.334358</td>\n",
       "      <td>0.744685</td>\n",
       "    </tr>\n",
       "  </tbody>\n",
       "</table>\n",
       "<p>8 rows × 23 columns</p>\n",
       "</div>"
      ],
      "text/plain": [
       "                gw1           idx          ksat           lai             m  \\\n",
       "count  20000.000000  20000.000000  20000.000000  20000.000000  20000.000000   \n",
       "mean       0.749215   9999.500000    299.910173      0.904658      9.973337   \n",
       "std        0.429253   5773.647028    172.735933      0.409060      5.754011   \n",
       "min        0.010000      0.000000      1.010000      0.200000      0.010000   \n",
       "25%        0.379000   4999.750000    149.592500      0.550000      5.023000   \n",
       "50%        0.743000   9999.500000    301.565000      0.910000     10.002500   \n",
       "75%        1.120000  14999.250000    449.580000      1.260000     14.924500   \n",
       "max        1.499000  19999.000000    599.980000      1.610000     19.999000   \n",
       "\n",
       "                 pa            po            rd         daily       monthly  \\\n",
       "count  20000.000000  20000.000000  20000.000000  20000.000000  20000.000000   \n",
       "mean       1.211603      1.881878      6.015634     -5.761206     -0.210097   \n",
       "std        0.698974      1.096087      2.307898      8.569075      0.572169   \n",
       "min        0.001200      0.001000      2.000000   -199.919344     -8.126233   \n",
       "25%        0.602775      0.937200      3.994750     -9.502895     -0.245645   \n",
       "50%        1.212050      1.880300      6.032000     -3.289235     -0.059648   \n",
       "75%        1.817825      2.826500      8.003000      0.022088      0.065957   \n",
       "max        2.419800      3.799800      9.999000      0.356429      0.790281   \n",
       "\n",
       "           ...       nse_SF_daily  nse_SF_monthly  nse_SF_weekly  \\\n",
       "count      ...       20000.000000    20000.000000   20000.000000   \n",
       "mean       ...          -4.507599       -1.666170      -2.159870   \n",
       "std        ...          23.746794        2.161562       4.502184   \n",
       "min        ...        -760.783617      -34.501903    -164.090710   \n",
       "25%        ...          -1.017260       -0.962922      -0.858646   \n",
       "50%        ...          -0.839167       -0.962922      -0.858646   \n",
       "75%        ...          -0.839167       -0.962922      -0.858646   \n",
       "max        ...           0.346859        0.660346       0.362488   \n",
       "\n",
       "        pe_ET_daily  pe_ET_monthly  pe_ET_weekly   pe_SF_daily  pe_SF_monthly  \\\n",
       "count  20000.000000   20000.000000  20000.000000  20000.000000   20000.000000   \n",
       "mean      45.695781       1.593726      3.059545      1.165170       1.084892   \n",
       "std       26.222528       0.669712      0.906208      0.727060       0.443793   \n",
       "min       14.634791       0.761992      1.810008      0.594614       0.499735   \n",
       "25%       19.102782       1.067387      2.359795      1.000000       1.000000   \n",
       "50%       45.615522       1.307134      2.711621      1.000000       1.000000   \n",
       "75%       66.527104       2.068409      3.708014      1.039279       1.000000   \n",
       "max      104.814496       3.441346      5.425152     13.744209       9.267183   \n",
       "\n",
       "       pe_SF_weekly        weekly  \n",
       "count  20000.000000  20000.000000  \n",
       "mean       1.122058     -0.303601  \n",
       "std        0.562869      1.094835  \n",
       "min        0.528810    -40.440468  \n",
       "25%        1.000000     -0.166636  \n",
       "50%        1.000000     -0.120923  \n",
       "75%        1.016768      0.066498  \n",
       "max       11.334358      0.744685  \n",
       "\n",
       "[8 rows x 23 columns]"
      ]
     },
     "execution_count": 389,
     "metadata": {},
     "output_type": "execute_result"
    }
   ],
   "source": [
    "df.describe()"
   ]
  },
  {
   "cell_type": "code",
   "execution_count": 390,
   "metadata": {
    "collapsed": false
   },
   "outputs": [
    {
     "data": {
      "text/plain": [
       "<matplotlib.axes._subplots.AxesSubplot at 0x166b00510>"
      ]
     },
     "execution_count": 390,
     "metadata": {},
     "output_type": "execute_result"
    },
    {
     "data": {
      "image/png": "[encoded data removed]",
      "text/plain": [
       "<matplotlib.figure.Figure at 0x14dc606d0>"
      ]
     },
     "metadata": {},
     "output_type": "display_data"
    }
   ],
   "source": [
    "df.monthly.hist(bins=100)"
   ]
  },
  {
   "cell_type": "code",
   "execution_count": 391,
   "metadata": {
    "collapsed": false
   },
   "outputs": [
    {
     "data": {
      "text/plain": [
       "<matplotlib.text.Text at 0x11489fe50>"
      ]
     },
     "execution_count": 391,
     "metadata": {},
     "output_type": "execute_result"
    },
    {
     "data": {
      "image/png": "[encoded data removed]",
      "text/plain": [
       "<matplotlib.figure.Figure at 0x14c3c6750>"
      ]
     },
     "metadata": {},
     "output_type": "display_data"
    }
   ],
   "source": [
    "plt.figure(figsize=(15,5))\n",
    "dat_monthly.streamflow.plot(label='Simulated', c= 'b')\n",
    "Q_monthly.discharge.plot(label='Observed', c = 'k')\n",
    "plt.legend()\n",
    "plt.title('Streamflow', fontsize=16)\n",
    "plt.ylabel('Q [mm]', fontsize=14)"
   ]
  },
  {
   "cell_type": "code",
   "execution_count": 392,
   "metadata": {
    "collapsed": false
   },
   "outputs": [
    {
     "data": {
      "text/plain": [
       "<matplotlib.text.Text at 0x16efe3b50>"
      ]
     },
     "execution_count": 392,
     "metadata": {},
     "output_type": "execute_result"
    },
    {
     "data": {
      "image/png": "[encoded data removed]",
      "text/plain": [
       "<matplotlib.figure.Figure at 0x11ca95610>"
      ]
     },
     "metadata": {},
     "output_type": "display_data"
    }
   ],
   "source": [
    "plt.figure(figsize=(15,5))\n",
    "dat_monthly.ET.plot(label='Simulated', c = 'b')\n",
    "FT_monthly.ET.plot(label='Observed', c = 'k')\n",
    "plt.legend()\n",
    "plt.title('Evapotranspiration', fontsize=16)\n",
    "plt.ylabel('ET [mm]', fontsize=14)"
   ]
  },
  {
   "cell_type": "code",
   "execution_count": 393,
   "metadata": {
    "collapsed": false
   },
   "outputs": [
    {
     "data": {
      "text/plain": [
       "(0, 4)"
      ]
     },
     "execution_count": 393,
     "metadata": {},
     "output_type": "execute_result"
    },
    {
     "data": {
      "image/png": "[encoded data removed]",
      "text/plain": [
       "<matplotlib.figure.Figure at 0x1146a8490>"
      ]
     },
     "metadata": {},
     "output_type": "display_data"
    }
   ],
   "source": [
    "plt.figure(figsize=(15,5))\n",
    "dat_daily['lai'].plot()\n",
    "plt.ylim(0,4)"
   ]
  },
  {
   "cell_type": "code",
   "execution_count": null,
   "metadata": {
    "collapsed": true
   },
   "outputs": [],
   "source": []
  }
 ],
 "metadata": {
  "kernelspec": {
   "display_name": "Python 2",
   "language": "python",
   "name": "python2"
  },
  "language_info": {
   "codemirror_mode": {
    "name": "ipython",
    "version": 2
   },
   "file_extension": ".py",
   "mimetype": "text/x-python",
   "name": "python",
   "nbconvert_exporter": "python",
   "pygments_lexer": "ipython2",
   "version": "2.7.12"
  }
 },
 "nbformat": 4,
 "nbformat_minor": 0
}
