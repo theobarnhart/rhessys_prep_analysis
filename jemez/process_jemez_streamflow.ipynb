{
 "cells": [
  {
   "cell_type": "markdown",
   "metadata": {},
   "source": [
    "### Process Valles Caldera flume data to specific discharge for Lower La Jara Creek below Vcm\n",
    "\n",
    "Contributing area for lower La Jara Creek: 3,671,857 m2\n",
    "\n",
    "Values are in CFS and are daily half hourly averages"
   ]
  },
  {
   "cell_type": "code",
   "execution_count": 18,
   "metadata": {
    "collapsed": true
   },
   "outputs": [],
   "source": [
    "data = pd.read_csv('./data/Daily_Valles_StreamFlow_wy2008_2010.csv')"
   ]
  },
  {
   "cell_type": "code",
   "execution_count": 19,
   "metadata": {
    "collapsed": false
   },
   "outputs": [],
   "source": [
    "data.iloc[0,:] = np.NaN"
   ]
  },
  {
   "cell_type": "code",
   "execution_count": 20,
   "metadata": {
    "collapsed": true
   },
   "outputs": [],
   "source": [
    "data.dropna(inplace=True)"
   ]
  },
  {
   "cell_type": "code",
   "execution_count": 21,
   "metadata": {
    "collapsed": true
   },
   "outputs": [],
   "source": [
    "data.index = pd.DatetimeIndex(data.LocalDateTime)"
   ]
  },
  {
   "cell_type": "code",
   "execution_count": 22,
   "metadata": {
    "collapsed": true
   },
   "outputs": [],
   "source": [
    "del data['LocalDateTime']"
   ]
  },
  {
   "cell_type": "code",
   "execution_count": 23,
   "metadata": {
    "collapsed": false
   },
   "outputs": [],
   "source": [
    "data = data.astype(np.float64)"
   ]
  },
  {
   "cell_type": "code",
   "execution_count": 24,
   "metadata": {
    "collapsed": true
   },
   "outputs": [],
   "source": [
    "data.loc[data.LowerLaJara==-9999,'LowerLaJara'] = np.NaN\n",
    "data.loc[data.HistoryGrove==-9999,'HistoryGrove'] = np.NaN\n",
    "data.loc[data.UpperJaramillo==-9999,'UpperJaramillo'] = np.NaN"
   ]
  },
  {
   "cell_type": "code",
   "execution_count": 25,
   "metadata": {
    "collapsed": false
   },
   "outputs": [
    {
     "data": {
      "text/html": [
       "<div>\n",
       "<table border=\"1\" class=\"dataframe\">\n",
       "  <thead>\n",
       "    <tr style=\"text-align: right;\">\n",
       "      <th></th>\n",
       "      <th>LowerLaJara</th>\n",
       "      <th>HistoryGrove</th>\n",
       "      <th>UpperJaramillo</th>\n",
       "    </tr>\n",
       "  </thead>\n",
       "  <tbody>\n",
       "    <tr>\n",
       "      <th>2010-09-26</th>\n",
       "      <td>0.141</td>\n",
       "      <td>0.077</td>\n",
       "      <td>0.113</td>\n",
       "    </tr>\n",
       "    <tr>\n",
       "      <th>2010-09-27</th>\n",
       "      <td>0.168</td>\n",
       "      <td>0.074</td>\n",
       "      <td>0.124</td>\n",
       "    </tr>\n",
       "    <tr>\n",
       "      <th>2010-09-28</th>\n",
       "      <td>0.243</td>\n",
       "      <td>0.075</td>\n",
       "      <td>0.154</td>\n",
       "    </tr>\n",
       "    <tr>\n",
       "      <th>2010-09-29</th>\n",
       "      <td>0.260</td>\n",
       "      <td>0.077</td>\n",
       "      <td>0.172</td>\n",
       "    </tr>\n",
       "    <tr>\n",
       "      <th>2010-09-30</th>\n",
       "      <td>0.265</td>\n",
       "      <td>0.079</td>\n",
       "      <td>0.174</td>\n",
       "    </tr>\n",
       "  </tbody>\n",
       "</table>\n",
       "</div>"
      ],
      "text/plain": [
       "            LowerLaJara  HistoryGrove  UpperJaramillo\n",
       "2010-09-26        0.141         0.077           0.113\n",
       "2010-09-27        0.168         0.074           0.124\n",
       "2010-09-28        0.243         0.075           0.154\n",
       "2010-09-29        0.260         0.077           0.172\n",
       "2010-09-30        0.265         0.079           0.174"
      ]
     },
     "execution_count": 25,
     "metadata": {},
     "output_type": "execute_result"
    }
   ],
   "source": [
    "data.tail()"
   ]
  },
  {
   "cell_type": "code",
   "execution_count": 26,
   "metadata": {
    "collapsed": false
   },
   "outputs": [
    {
     "data": {
      "text/plain": [
       "<matplotlib.text.Text at 0x10cc9f1d0>"
      ]
     },
     "execution_count": 26,
     "metadata": {},
     "output_type": "execute_result"
    },
    {
     "data": {
      "image/png": "[encoded data removed]",
      "text/plain": [
       "<matplotlib.figure.Figure at 0x10c7a2950>"
      ]
     },
     "metadata": {},
     "output_type": "display_data"
    }
   ],
   "source": [
    "plt.figure(figsize=(15,5))\n",
    "data.LowerLaJara.plot()\n",
    "plt.ylabel('Q [mm/day]', fontsize = 14)"
   ]
  },
  {
   "cell_type": "code",
   "execution_count": 27,
   "metadata": {
    "collapsed": false
   },
   "outputs": [],
   "source": [
    "# convert CFS to CMS\n",
    "data *= 0.028316847"
   ]
  },
  {
   "cell_type": "code",
   "execution_count": 28,
   "metadata": {
    "collapsed": true
   },
   "outputs": [],
   "source": [
    "# convert to daily volumes\n",
    "data *= (60*60*24)"
   ]
  },
  {
   "cell_type": "code",
   "execution_count": 29,
   "metadata": {
    "collapsed": false
   },
   "outputs": [
    {
     "data": {
      "text/html": [
       "<div>\n",
       "<table border=\"1\" class=\"dataframe\">\n",
       "  <thead>\n",
       "    <tr style=\"text-align: right;\">\n",
       "      <th></th>\n",
       "      <th>LowerLaJara</th>\n",
       "      <th>HistoryGrove</th>\n",
       "      <th>UpperJaramillo</th>\n",
       "    </tr>\n",
       "  </thead>\n",
       "  <tbody>\n",
       "    <tr>\n",
       "      <th>2007-10-01</th>\n",
       "      <td>264.230163</td>\n",
       "      <td>313.161674</td>\n",
       "      <td>420.811000</td>\n",
       "    </tr>\n",
       "    <tr>\n",
       "      <th>2007-10-02</th>\n",
       "      <td>271.569889</td>\n",
       "      <td>327.841128</td>\n",
       "      <td>452.616482</td>\n",
       "    </tr>\n",
       "    <tr>\n",
       "      <th>2007-10-03</th>\n",
       "      <td>261.783587</td>\n",
       "      <td>305.821948</td>\n",
       "      <td>386.558942</td>\n",
       "    </tr>\n",
       "    <tr>\n",
       "      <th>2007-10-04</th>\n",
       "      <td>261.783587</td>\n",
       "      <td>310.715099</td>\n",
       "      <td>415.917849</td>\n",
       "    </tr>\n",
       "    <tr>\n",
       "      <th>2007-10-05</th>\n",
       "      <td>266.676738</td>\n",
       "      <td>310.715099</td>\n",
       "      <td>408.578122</td>\n",
       "    </tr>\n",
       "  </tbody>\n",
       "</table>\n",
       "</div>"
      ],
      "text/plain": [
       "            LowerLaJara  HistoryGrove  UpperJaramillo\n",
       "2007-10-01   264.230163    313.161674      420.811000\n",
       "2007-10-02   271.569889    327.841128      452.616482\n",
       "2007-10-03   261.783587    305.821948      386.558942\n",
       "2007-10-04   261.783587    310.715099      415.917849\n",
       "2007-10-05   266.676738    310.715099      408.578122"
      ]
     },
     "execution_count": 29,
     "metadata": {},
     "output_type": "execute_result"
    }
   ],
   "source": [
    "data.head()"
   ]
  },
  {
   "cell_type": "code",
   "execution_count": 30,
   "metadata": {
    "collapsed": true
   },
   "outputs": [],
   "source": [
    "data.to_pickle('./data/valles_streamflow.pcl')"
   ]
  },
  {
   "cell_type": "code",
   "execution_count": 31,
   "metadata": {
    "collapsed": true
   },
   "outputs": [],
   "source": [
    "# isolate lower la jara and convert to specific discharge\n",
    "del data['HistoryGrove']\n",
    "del data['UpperJaramillo']\n",
    "\n",
    "ba = 3671857 # basin area in m2\n",
    "\n",
    "data.LowerLaJara /= ba # discharg is now in m"
   ]
  },
  {
   "cell_type": "code",
   "execution_count": 32,
   "metadata": {
    "collapsed": true
   },
   "outputs": [],
   "source": [
    "# convert m to mm\n",
    "data.LowerLaJara *= 1000."
   ]
  },
  {
   "cell_type": "code",
   "execution_count": 33,
   "metadata": {
    "collapsed": true
   },
   "outputs": [],
   "source": [
    "data.columns = ['discharge']"
   ]
  },
  {
   "cell_type": "code",
   "execution_count": 34,
   "metadata": {
    "collapsed": true
   },
   "outputs": [],
   "source": [
    "data.to_pickle('./data/lower_lajara_specific_discharge.pcl')"
   ]
  }
 ],
 "metadata": {
  "kernelspec": {
   "display_name": "Python 2",
   "language": "python",
   "name": "python2"
  },
  "language_info": {
   "codemirror_mode": {
    "name": "ipython",
    "version": 2
   },
   "file_extension": ".py",
   "mimetype": "text/x-python",
   "name": "python",
   "nbconvert_exporter": "python",
   "pygments_lexer": "ipython2",
   "version": "2.7.11"
  }
 },
 "nbformat": 4,
 "nbformat_minor": 0
}
