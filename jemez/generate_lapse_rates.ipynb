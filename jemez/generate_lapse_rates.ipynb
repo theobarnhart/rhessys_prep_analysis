{
 "cells": [
  {
   "cell_type": "code",
   "execution_count": 8,
   "metadata": {
    "collapsed": false
   },
   "outputs": [],
   "source": [
    "sites = ['jemez','quezamon','vacas','coyote','tower','cuba','Vcm']\n",
    "elev = [2438.1,2895.6,2836.47,2682.24,1981.2,1881.23,3030]\n",
    "md = pd.DataFrame({'elevation':elev},index=sites)"
   ]
  },
  {
   "cell_type": "code",
   "execution_count": 9,
   "metadata": {
    "collapsed": false
   },
   "outputs": [
    {
     "data": {
      "text/html": [
       "<div>\n",
       "<table border=\"1\" class=\"dataframe\">\n",
       "  <thead>\n",
       "    <tr style=\"text-align: right;\">\n",
       "      <th></th>\n",
       "      <th>elevation</th>\n",
       "    </tr>\n",
       "  </thead>\n",
       "  <tbody>\n",
       "    <tr>\n",
       "      <th>jemez</th>\n",
       "      <td>2438.10</td>\n",
       "    </tr>\n",
       "    <tr>\n",
       "      <th>quezamon</th>\n",
       "      <td>2895.60</td>\n",
       "    </tr>\n",
       "    <tr>\n",
       "      <th>vacas</th>\n",
       "      <td>2836.47</td>\n",
       "    </tr>\n",
       "    <tr>\n",
       "      <th>coyote</th>\n",
       "      <td>2682.24</td>\n",
       "    </tr>\n",
       "    <tr>\n",
       "      <th>tower</th>\n",
       "      <td>1981.20</td>\n",
       "    </tr>\n",
       "    <tr>\n",
       "      <th>cuba</th>\n",
       "      <td>1881.23</td>\n",
       "    </tr>\n",
       "    <tr>\n",
       "      <th>Vcm</th>\n",
       "      <td>3030.00</td>\n",
       "    </tr>\n",
       "  </tbody>\n",
       "</table>\n",
       "</div>"
      ],
      "text/plain": [
       "          elevation\n",
       "jemez       2438.10\n",
       "quezamon    2895.60\n",
       "vacas       2836.47\n",
       "coyote      2682.24\n",
       "tower       1981.20\n",
       "cuba        1881.23\n",
       "Vcm         3030.00"
      ]
     },
     "execution_count": 9,
     "metadata": {},
     "output_type": "execute_result"
    }
   ],
   "source": [
    "md"
   ]
  },
  {
   "cell_type": "code",
   "execution_count": 13,
   "metadata": {
    "collapsed": true
   },
   "outputs": [],
   "source": [
    "jemez = pd.read_pickle('./data/Jemez_raws.pcl') # p in mm\n",
    "quez = pd.read_pickle('./data/quemazon_snotel.pcl') # p in mm\n",
    "vacas = pd.read_pickle('./data/vacas_local_snotel.pcl') # p in m\n",
    "coyote = pd.read_pickle('./data/coyote_raws.pcl') # p in mm\n",
    "tower = pd.read_pickle('./data/tower_raws.pcl') # p in mm\n",
    "cuba = pd.read_pickle('./data/cuba_raws.pcl') # p in mm\n",
    "vcm = pd.read_pickle('./data/Jemez_upper_daily.pcl') # p in mm"
   ]
  },
  {
   "cell_type": "code",
   "execution_count": 26,
   "metadata": {
    "collapsed": true
   },
   "outputs": [],
   "source": [
    "vacas.P *= 1000."
   ]
  },
  {
   "cell_type": "code",
   "execution_count": 28,
   "metadata": {
    "collapsed": false
   },
   "outputs": [],
   "source": [
    "dfs = [jemez,quez,vacas,coyote,tower,cuba,vcm]"
   ]
  },
  {
   "cell_type": "code",
   "execution_count": 29,
   "metadata": {
    "collapsed": true
   },
   "outputs": [],
   "source": [
    "# do a little QA/QC\n",
    "\n",
    "for df in dfs:\n",
    "    df.loc[df.P>70,'P'] = np.NaN"
   ]
  },
  {
   "cell_type": "code",
   "execution_count": 14,
   "metadata": {
    "collapsed": true
   },
   "outputs": [],
   "source": [
    "datmin = vcm.index.min()\n",
    "datmax = vcm.index.max()"
   ]
  },
  {
   "cell_type": "code",
   "execution_count": 30,
   "metadata": {
    "collapsed": false
   },
   "outputs": [],
   "source": [
    "for df in dfs:\n",
    "    df = df[datmin:datmax]"
   ]
  },
  {
   "cell_type": "code",
   "execution_count": null,
   "metadata": {
    "collapsed": true
   },
   "outputs": [],
   "source": [
    "dat = pd.DataFrame({})"
   ]
  }
 ],
 "metadata": {
  "kernelspec": {
   "display_name": "Python 2",
   "language": "python",
   "name": "python2"
  },
  "language_info": {
   "codemirror_mode": {
    "name": "ipython",
    "version": 2
   },
   "file_extension": ".py",
   "mimetype": "text/x-python",
   "name": "python",
   "nbconvert_exporter": "python",
   "pygments_lexer": "ipython2",
   "version": "2.7.11"
  }
 },
 "nbformat": 4,
 "nbformat_minor": 0
}
