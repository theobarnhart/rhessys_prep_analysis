{
 "cells": [
  {
   "cell_type": "code",
   "execution_count": 33,
   "metadata": {
    "collapsed": true
   },
   "outputs": [],
   "source": [
    "import glob as glob\n",
    "import pickle\n",
    "import os"
   ]
  },
  {
   "cell_type": "code",
   "execution_count": 27,
   "metadata": {
    "collapsed": true
   },
   "outputs": [],
   "source": [
    "def save_obj(obj, path ):\n",
    "    with open(path, 'wb') as f:\n",
    "        pickle.dump(obj, f, pickle.HIGHEST_PROTOCOL)"
   ]
  },
  {
   "cell_type": "code",
   "execution_count": null,
   "metadata": {
    "collapsed": true
   },
   "outputs": [],
   "source": [
    "def load_obj(name):\n",
    "    with open(name,'rb') as f:\n",
    "        return pickle.load(f)"
   ]
  },
  {
   "cell_type": "code",
   "execution_count": 3,
   "metadata": {
    "collapsed": true
   },
   "outputs": [],
   "source": [
    "pth = '/RHESSys/jemez/out/et_cal16/et_cal16_1500_*'"
   ]
  },
  {
   "cell_type": "code",
   "execution_count": 34,
   "metadata": {
    "collapsed": true
   },
   "outputs": [],
   "source": [
    "def save_params(pth,out,clean):\n",
    "    '''Converts RHESSys output parameter files to a dictionary and saves it as a pickle.\n",
    "    \n",
    "    pth = path to glob the parameters from, must include *\n",
    "    out = location to save the parameter dictionary with extension.\n",
    "    clean = T or F, delete parameter files after successfully writing them to the pickle.'''\n",
    "    \n",
    "    files = glob.glob(pth)\n",
    "    # filter for the definition files\n",
    "\n",
    "    keys = ['daily','params']\n",
    "    keep = []\n",
    "    for fl in files:\n",
    "\n",
    "        if fl.split('.')[-1] == 'params':\n",
    "            keep.append(fl)\n",
    "    \n",
    "    # grab the names of the definition files\n",
    "    params = {}\n",
    "    for fl in keep:\n",
    "        sub = {}\n",
    "        k =  fl.split('.')[0].split('_')[-1]\n",
    "\n",
    "        with open(fl) as f:\n",
    "            for line in f:\n",
    "                (val,key) = line.split()\n",
    "                sub[key] = val\n",
    "\n",
    "        params[k] = sub\n",
    "        \n",
    "        save_obj(params,out)\n",
    "        \n",
    "        # if clean is true, check that the pickle was written and then delete the keep files.\n",
    "        if clean == True: \n",
    "            if os.path.isfile(out) == True:\n",
    "                for fl in keep:\n",
    "                    os.remove(fl)"
   ]
  },
  {
   "cell_type": "code",
   "execution_count": 35,
   "metadata": {
    "collapsed": false
   },
   "outputs": [],
   "source": [
    "pth = '/RHESSys/jemez/out/et_cal16/et_cal16_1500_*'\n",
    "out = './data/test_dict.pcl'\n",
    "clean = False\n",
    "save_params(pth,out,clean)"
   ]
  },
  {
   "cell_type": "code",
   "execution_count": 36,
   "metadata": {
    "collapsed": false
   },
   "outputs": [
    {
     "name": "stdout",
     "output_type": "stream",
     "text": [
      "total 414270\r\n",
      "drwx------  1 barnhatb  staff    16K Aug  4  2015 \u001b[34mvcm_flux\u001b[m\u001b[m\r\n",
      "drwx------  1 barnhatb  staff    16K Aug  5  2015 \u001b[34mjemez_upper_ZOB\u001b[m\u001b[m\r\n",
      "drwx------  1 barnhatb  staff    16K Aug  6  2015 \u001b[34mjemez_lower_ZOB\u001b[m\u001b[m\r\n",
      "drwx------  1 barnhatb  staff    16K Aug 10  2015 \u001b[34mquemazon_snotel\u001b[m\u001b[m\r\n",
      "-rwx------  1 barnhatb  staff   241K Aug 10  2015 \u001b[31mquemazon_snotel_density.pcl\u001b[m\u001b[m\r\n",
      "-rwx------  1 barnhatb  staff   2.0M Aug 10  2015 \u001b[31mquemazon_snotel.pcl\u001b[m\u001b[m\r\n",
      "-rwx------  1 barnhatb  staff    55K May 26 11:19 \u001b[31mJemez_upper_daily.pcl\u001b[m\u001b[m\r\n",
      "-rwx------  1 barnhatb  staff   4.2M May 26 11:19 \u001b[31mJemez_upper.pcl\u001b[m\u001b[m\r\n",
      "-rwx------  1 barnhatb  staff    54K May 26 11:48 \u001b[31mJemez_lower_daily.pcl\u001b[m\u001b[m\r\n",
      "-rwx------  1 barnhatb  staff   4.1M May 26 11:48 \u001b[31mJemez_lower.pcl\u001b[m\u001b[m\r\n",
      "-rwx------  1 barnhatb  staff   1.2K May 26 14:31 \u001b[31mjemez_vcm_lapse.pcl\u001b[m\u001b[m\r\n",
      "-rwx------  1 barnhatb  staff   190K May 26 14:53 \u001b[31mrain_duration_model.mod\u001b[m\u001b[m\r\n",
      "-rwx------  1 barnhatb  staff   2.7M May 26 15:49 \u001b[31mCOSMOS_VallesCaldera.xlsx\u001b[m\u001b[m\r\n",
      "-rwx------@ 1 barnhatb  staff   1.9M May 26 16:32 \u001b[31mCOSMOS_VallesCaldera_tbb.xlsx\u001b[m\u001b[m\r\n",
      "-rwx------@ 1 barnhatb  staff   3.0M May 27 11:06 \u001b[31mcosmos_swe.txt\u001b[m\u001b[m\r\n",
      "-rwx------  1 barnhatb  staff    27K May 27 13:07 \u001b[31mVcm_cosmos_pillow_swe.pcl\u001b[m\u001b[m\r\n",
      "-rwx------  1 barnhatb  staff   376K Jun  1 16:53 \u001b[31mJemez_raws_wy2003_2015.pcl\u001b[m\u001b[m\r\n",
      "-rwx------  1 barnhatb  staff   2.4M Jun  2 10:54 \u001b[31msnowcal01.pcl\u001b[m\u001b[m\r\n",
      "-rwx------  1 barnhatb  staff   2.7M Jun  7 16:57 \u001b[31met_cal01.pcl\u001b[m\u001b[m\r\n",
      "-rwx------  1 barnhatb  staff   3.1M Jun 10 14:04 \u001b[31met_cal02.pcl\u001b[m\u001b[m\r\n",
      "-rwx------  1 barnhatb  staff   4.0M Jun 13 11:18 \u001b[31met_cal03.pcl\u001b[m\u001b[m\r\n",
      "-rwx------  1 barnhatb  staff   6.4M Jun 14 16:51 \u001b[31met_cal04.pcl\u001b[m\u001b[m\r\n",
      "-rwx------  1 barnhatb  staff   7.5M Jun 15 11:31 \u001b[31met_cal05.pcl\u001b[m\u001b[m\r\n",
      "-rwx------@ 1 barnhatb  staff   174K Jun 15 13:23 \u001b[31mvacas_locas_snotel.csv\u001b[m\u001b[m\r\n",
      "-rwx------@ 1 barnhatb  staff   413K Jun 15 14:38 \u001b[31msenorita_divide_snotel.txt\u001b[m\u001b[m\r\n",
      "-rwx------  1 barnhatb  staff   714K Jun 15 14:48 \u001b[31msenorita_divide_2_snotel.pcl\u001b[m\u001b[m\r\n",
      "-rwx------  1 barnhatb  staff   292K Jun 15 14:49 \u001b[31mvacas_local_snotel.pcl\u001b[m\u001b[m\r\n",
      "-rwx------  1 barnhatb  staff   8.5M Jun 15 17:50 \u001b[31met_cal06.pcl\u001b[m\u001b[m\r\n",
      "-rwx------@ 1 barnhatb  staff   2.9K Jun 22 15:50 \u001b[31mplot_shapefiles.py\u001b[m\u001b[m\r\n",
      "-rwx------  1 barnhatb  staff   2.1M Jun 29 13:02 \u001b[31msnow_cal02.pcl\u001b[m\u001b[m\r\n",
      "-rwx------  1 barnhatb  staff   2.1M Jun 29 16:21 \u001b[31msnow_cal03.pcl\u001b[m\u001b[m\r\n",
      "-rwx------  1 barnhatb  staff   3.2M Jun 30 08:18 \u001b[31msnow_cal04.pcl\u001b[m\u001b[m\r\n",
      "-rwx------  1 barnhatb  staff   3.7M Jun 30 16:56 \u001b[31msnow_cal05.pcl\u001b[m\u001b[m\r\n",
      "-rwx------  1 barnhatb  staff   3.1M Jul  1 10:17 \u001b[31msnow_cal06.pcl\u001b[m\u001b[m\r\n",
      "-rwx------  1 barnhatb  staff    14M Jul  5 11:44 \u001b[31msnow_cal06_timeseries.hdf\u001b[m\u001b[m\r\n",
      "-rwx------  1 barnhatb  staff   604K Jul  5 14:52 \u001b[31mjemez_raws_lapse.pcl\u001b[m\u001b[m\r\n",
      "-rwx------  1 barnhatb  staff    45K Jul  5 14:59 \u001b[31mvcm_tower_forcings.pcl\u001b[m\u001b[m\r\n",
      "drwx------  1 barnhatb  staff    16K Jul  7 16:49 \u001b[34mjemez_snow_depth\u001b[m\u001b[m\r\n",
      "drwx------  1 barnhatb  staff    16K Jul 11 15:18 \u001b[34mjemez_raws\u001b[m\u001b[m\r\n",
      "-rwx------  1 barnhatb  staff   621K Jul 11 15:25 \u001b[31mJemez_raws.pcl\u001b[m\u001b[m\r\n",
      "-rwx------  1 barnhatb  staff   7.5M Jul 12 10:41 \u001b[31mjemez_hourly_RH_TA_2002_2015.pcl\u001b[m\u001b[m\r\n",
      "-rwx------  1 barnhatb  staff   1.9K Jul 12 14:48 \u001b[31mjemez_vcm_lapse_hourly_AT_TD.pcl\u001b[m\u001b[m\r\n",
      "-rwx------  1 barnhatb  staff   4.0M Jul 12 16:18 \u001b[31mvcm_hourly_from_raws.pcl\u001b[m\u001b[m\r\n",
      "-rwx------  1 barnhatb  staff   2.7M Jul 14 14:05 \u001b[31msnow_cal07.pcl\u001b[m\u001b[m\r\n",
      "-rwx------  1 barnhatb  staff   3.8M Jul 18 15:58 \u001b[31msnow_cal09.pcl\u001b[m\u001b[m\r\n",
      "-rwx------  1 barnhatb  staff    44K Jul 27 11:36 \u001b[31mcosmos_p_from_swe.pcl\u001b[m\u001b[m\r\n",
      "-rwx------  1 barnhatb  staff   3.4M Aug  1 10:03 \u001b[31msnow_cal10.pcl\u001b[m\u001b[m\r\n",
      "-rwx------  1 barnhatb  staff   6.5M Aug  3 12:44 \u001b[31met_cal10.pcl\u001b[m\u001b[m\r\n",
      "-rwx------  1 barnhatb  staff   748K Aug  4 10:56 \u001b[31met_cal11.pcl\u001b[m\u001b[m\r\n",
      "-rwx------  1 barnhatb  staff   184K Aug  4 15:44 \u001b[31mVcm_hybrid_precip.pcl\u001b[m\u001b[m\r\n",
      "-rwx------  1 barnhatb  staff   4.3M Aug 10 08:15 \u001b[31met_cal12.pcl\u001b[m\u001b[m\r\n",
      "-rwx------  1 barnhatb  staff   1.4M Aug 10 16:52 \u001b[31msmex3_sm_season.npz\u001b[m\u001b[m\r\n",
      "-rwx------  1 barnhatb  staff   6.2M Aug 10 16:59 \u001b[31msmex3.hdf\u001b[m\u001b[m\r\n",
      "-rwx------  1 barnhatb  staff   3.7M Aug 17 15:54 \u001b[31met_cal13.pcl\u001b[m\u001b[m\r\n",
      "-rwx------  1 barnhatb  staff   8.4M Aug 18 16:23 \u001b[31mparams_Vcm_smex_method3.pcl\u001b[m\u001b[m\r\n",
      "-rwx------  1 barnhatb  staff   3.7M Aug 19 11:19 \u001b[31met_cal15.pcl\u001b[m\u001b[m\r\n",
      "-rwx------  1 barnhatb  staff   3.7M Aug 19 11:56 \u001b[31met_cal16.pcl\u001b[m\u001b[m\r\n",
      "-rwx------  1 barnhatb  staff   3.7M Aug 19 12:58 \u001b[31met_cal17.pcl\u001b[m\u001b[m\r\n",
      "-rwx------  1 barnhatb  staff   3.7M Aug 19 13:36 \u001b[31met_cal14.pcl\u001b[m\u001b[m\r\n",
      "-rwx------  1 barnhatb  staff   3.4M Aug 22 09:52 \u001b[31met_cal20.pcl\u001b[m\u001b[m\r\n",
      "-rwx------  1 barnhatb  staff   4.5M Aug 24 17:05 \u001b[31mVcm_gc_data_half_hour.pcl\u001b[m\u001b[m\r\n",
      "drwx------  1 barnhatb  staff    16K Aug 25 10:52 \u001b[34mVcm_gap_filled\u001b[m\u001b[m\r\n",
      "-rwx------  1 barnhatb  staff    15M Aug 25 11:09 \u001b[31mVCM_half_hour.pcl\u001b[m\u001b[m\r\n",
      "-rwx------  1 barnhatb  staff   286K Aug 25 11:09 \u001b[31mVCM.pcl\u001b[m\u001b[m\r\n",
      "-rwx------  1 barnhatb  staff   1.4M Aug 30 15:57 \u001b[31msnow_cal11.pcl\u001b[m\u001b[m\r\n",
      "-rwx------  1 barnhatb  staff   1.8M Aug 31 10:48 \u001b[31met_cal27.pcl\u001b[m\u001b[m\r\n",
      "-rwx------  1 barnhatb  staff   1.8M Aug 31 13:12 \u001b[31met_cal28.pcl\u001b[m\u001b[m\r\n",
      "-rwx------  1 barnhatb  staff   619K Sep  2 14:21 \u001b[31met_cal29.pcl\u001b[m\u001b[m\r\n",
      "-rwx------  1 barnhatb  staff   1.7K Sep  6 15:36 \u001b[31mvcm_swe_stats.pcl\u001b[m\u001b[m\r\n",
      "drwx------  1 barnhatb  staff    16K Sep  8 12:24 \u001b[34mtower_raws\u001b[m\u001b[m\r\n",
      "drwx------  1 barnhatb  staff    16K Sep  8 13:48 \u001b[34mcuba_raws\u001b[m\u001b[m\r\n",
      "drwx------  1 barnhatb  staff    16K Sep  8 13:48 \u001b[34mcoyote_raws\u001b[m\u001b[m\r\n",
      "-rwx------  1 barnhatb  staff   929K Sep  8 14:37 \u001b[31mcoyote_raws.pcl\u001b[m\u001b[m\r\n",
      "-rwx------  1 barnhatb  staff   738K Sep  8 14:37 \u001b[31mtower_raws.pcl\u001b[m\u001b[m\r\n",
      "-rwx------  1 barnhatb  staff   1.0M Sep  8 14:37 \u001b[31mcuba_raws.pcl\u001b[m\u001b[m\r\n",
      "-rwx------  1 barnhatb  staff   1.4M Sep 12 09:50 \u001b[31msnow_cal12.pcl\u001b[m\u001b[m\r\n",
      "drwx------@ 1 barnhatb  staff    16K Sep 12 16:08 \u001b[34mAMF_US-Vcm_BASE-BADM_4-1\u001b[m\u001b[m\r\n",
      "-rwx------  1 barnhatb  staff   2.4M Sep 14 14:43 \u001b[31met_cal38.pcl\u001b[m\u001b[m\r\n",
      "-rwx------  1 barnhatb  staff   4.9M Sep 15 11:48 \u001b[31met_cal39.pcl\u001b[m\u001b[m\r\n",
      "-rwx------  1 barnhatb  staff   138K Sep 20 10:35 \u001b[31mVCM_2.pcl\u001b[m\u001b[m\r\n",
      "-rwx------  1 barnhatb  staff   1.0M Sep 20 15:45 \u001b[31met_cal40.pcl\u001b[m\u001b[m\r\n",
      "-rwx------  1 barnhatb  staff   4.0M Oct  3 16:51 \u001b[31met_cal41.pcl\u001b[m\u001b[m\r\n",
      "-rwx------  1 barnhatb  staff   4.3M Oct  6 10:57 \u001b[31met_cal42.pcl\u001b[m\u001b[m\r\n",
      "-rwx------  1 barnhatb  staff   6.5K Oct  6 11:59 \u001b[31mtest_dict.pcl\u001b[m\u001b[m\r\n"
     ]
    }
   ],
   "source": [
    "!ls -ltrh ./data/"
   ]
  },
  {
   "cell_type": "code",
   "execution_count": 12,
   "metadata": {
    "collapsed": false
   },
   "outputs": [],
   "source": [
    "fl = keep[0]"
   ]
  },
  {
   "cell_type": "code",
   "execution_count": 13,
   "metadata": {
    "collapsed": false
   },
   "outputs": [
    {
     "data": {
      "text/plain": [
       "'/RHESSys/jemez/out/et_cal16/et_cal16_1500_hill_hillslope.params'"
      ]
     },
     "execution_count": 13,
     "metadata": {},
     "output_type": "execute_result"
    }
   ],
   "source": [
    "fl"
   ]
  },
  {
   "cell_type": "code",
   "execution_count": 15,
   "metadata": {
    "collapsed": false
   },
   "outputs": [
    {
     "data": {
      "text/plain": [
       "'hillslope'"
      ]
     },
     "execution_count": 15,
     "metadata": {},
     "output_type": "execute_result"
    }
   ],
   "source": [
    "fl.split('.')[0].split('_')[-1]"
   ]
  },
  {
   "cell_type": "code",
   "execution_count": null,
   "metadata": {
    "collapsed": true
   },
   "outputs": [],
   "source": []
  }
 ],
 "metadata": {
  "kernelspec": {
   "display_name": "Python 2",
   "language": "python",
   "name": "python2"
  },
  "language_info": {
   "codemirror_mode": {
    "name": "ipython",
    "version": 2
   },
   "file_extension": ".py",
   "mimetype": "text/x-python",
   "name": "python",
   "nbconvert_exporter": "python",
   "pygments_lexer": "ipython2",
   "version": "2.7.12"
  }
 },
 "nbformat": 4,
 "nbformat_minor": 0
}
