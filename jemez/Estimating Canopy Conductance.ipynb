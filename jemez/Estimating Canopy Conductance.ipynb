{
 "cells": [
  {
   "cell_type": "raw",
   "metadata": {},
   "source": [
    "-- TIMEKEEPING\n",
    "TIMESTAMP_START (YYYYMMDDHHMM): ISO timestamp start of averaging period - short format [YEAR, DTIME, DOY, HRMIN]\n",
    "TIMESTAMP_END   (YYYYMMDDHHMM): ISO timestamp end of averaging period - short format [YEAR, DTIME, DOY, HRMIN]\n",
    "\n",
    "-- GASES\n",
    "CO2_1 (umolCO2 mol-1): Carbon Dioxide (CO2) mole fraction (CO2 layer 1 - Top) [CO2top]\n",
    "CO2_2 (umolCO2 mol-1): Carbon Dioxide (CO2) mole fraction (CO2 layer 2) [CO2]\n",
    "H2O   (mmolH2O mol-1): Water (H2O) vapor mole fraction [H2O]\n",
    "FC    (umolCO2 m-2 s-1): Carbon Dioxide (CO2) flux [FC]\n",
    "SC    (umolCO2 m-2 s-1): Carbon Dioxide (CO2) storage flux [SFC]\n",
    "\n",
    "-- HEAT\n",
    "G   (W m-2): Soil heat flux [FG]\n",
    "H   (W m-2): Sensible heat flux [H]\n",
    "LE  (W m-2): Latent heat flux [LE]\n",
    "SH  (W m-2): Heat storage in the air [SH]\n",
    "SLE (W m-2): Latent heat storage flux [SLE]\n",
    "\n",
    "-- MET_WIND\n",
    "WD    (Decimal degrees): Wind direction [WD]\n",
    "WS    (m s-1): Wind speed [WS]\n",
    "USTAR (m s-1): Friction velocity [UST]\n",
    "ZL    (adimensional): Stability parameter [ZL]\n",
    "\n",
    "-- MET_ATM\n",
    "PA     (kPa): Atmospheric pressure [PRESS]\n",
    "RH     (%): Relative humidity, range 0-100 [RH]\n",
    "TA     (deg C): Air temperature [TA]\n",
    "VPD_PI (hPa): Vapor Pressure Deficit (as measured/calculated by tower teams) [VPD]\n",
    "\n",
    "-- MET_SOIL\n",
    "SWC_1 (%): Soil water content (volumetric), range 0-100 (SWC layer 1 - upper) [SWC1]\n",
    "SWC_2 (%): Soil water content (volumetric), range 0-100 (SWC layer 2 - lower) [SWC2]\n",
    "TS_1  (deg C): Soil temperature (TS layer 1 - upper) [TS1]\n",
    "TS_2  (deg C): Soil temperature (TS layer 2 - lower) [TS2]\n",
    "\n",
    "-- MET_RAD     \n",
    "APAR     (umol m-2 s-1): Absorbed PAR [APAR]\n",
    "FAPAR    (%): Fraction of absorbed PAR, range 0-100 [APARpct]\n",
    "NETRAD   (W m-2): Net radiation [Rn]\n",
    "PPFD_IN  (umolPhoton m-2 s-1): Photosynthetic photon flux density, incoming [PAR]\n",
    "PPFD_OUT (umolPhoton m-2 s-1): Photosynthetic photon flux density, outgoing [PARout]\n",
    "PPFD_DIF (umolPhoton m-2 s-1): Photosynthetic photon flux density, diffuse incoming [PARdif]\n",
    "SW_IN    (W m-2): Shortwave radiation, incoming [Rg]\n",
    "SW_OUT   (W m-2): Shortwave radiation, outgoing [RgOut]\n",
    "SW_DIF   (W m-2): Shortwave radiation, diffuse incoming [Rgdif]\n",
    "LW_IN    (W m-2): Longwave radiation, incoming [Rgl]\n",
    "LW_OUT   (W m-2): Longwave radiation, outgoing [RglOut]\n",
    "\n",
    "-- MET_PRECIP      \n",
    "P      (mm): Precipitation [PREC]\n",
    "\n",
    "-- PRODUCTS \n",
    "NEE_PI  (umolCO2 m-2 s-1): Net Ecosystem Exchange (as measured/calculated by tower teams) [NEE]\n",
    "RECO_PI (umolCO2 m-2 s-1): Ecosystem Respiration (as measured/calculated by tower teams) [RE]\n",
    "GPP_PI  (umolCO2 m-2 s-1): Gross Primary Productivity (as measured/calculated by tower teams) [GPP]"
   ]
  },
  {
   "cell_type": "code",
   "execution_count": 1,
   "metadata": {
    "collapsed": true
   },
   "outputs": [],
   "source": [
    "def compute_Es(T):\n",
    "    '''compute the saturation vapor pressure based on air temperature'''\n",
    "    \n",
    "    return 0.6108*np.exp((17.27*T)/(T+237.3)) #Kpa"
   ]
  },
  {
   "cell_type": "code",
   "execution_count": 2,
   "metadata": {
    "collapsed": true
   },
   "outputs": [],
   "source": [
    "def compute_air_density(TA,PA_H2O,PA):\n",
    "    '''Compute air density.\n",
    "    \n",
    "    IN: DataFrame Containing:\n",
    "    - Air Temperature [deg. C]\n",
    "    - partial pressure of water vapor [kPa]\n",
    "    - air pressure [kPa]\n",
    "    \n",
    "    OUT:\n",
    "    - density of the air [kg/m3]\n",
    "    '''\n",
    "    \n",
    "    T = TA + 273.15 # convert to kelvin\n",
    "    Pv = PA_H2O*1000. # convert kPa to Pa\n",
    "    P = PA*1000. # convert kPa to Pa\n",
    "    Rd = 287.5 # R/Md\n",
    "    \n",
    "    return (P/(Rd*T))*(1-((0.378*Pv)/P)) # density of air [kg/m3]"
   ]
  },
  {
   "cell_type": "code",
   "execution_count": 3,
   "metadata": {
    "collapsed": true
   },
   "outputs": [],
   "source": [
    "def compute_S(TA):\n",
    "    '''THIS FUNCTION CALCULATES THE SLOPE OF THE \n",
    "    SATURATION VAPOUR PRESSURE VS. TEMPERATURE CURVE (BUCK, 1981 ?)[kPa/deg. C]'''\n",
    "    \n",
    "    return 0.61121*((17.368*238.88)/(TA+238.88)**2)*np.exp((TA*17.368)/(TA+238.88)) #kPa/deg C"
   ]
  },
  {
   "cell_type": "code",
   "execution_count": 4,
   "metadata": {
    "collapsed": true
   },
   "outputs": [],
   "source": [
    "def compute_canopy_cond(S,psy,B,g_a,rho_air,Cp_air,VPD,LE):\n",
    "    '''\n",
    "    Compute canopy conductance from Blanken and Black [2004].\n",
    "    \n",
    "    IN:\n",
    "    - S [kPa/deg C]\n",
    "    - psy [kpa/deg C]\n",
    "    - g_a [m/s]\n",
    "    - rho_air [kg/m3]\n",
    "    - Cp_air [kj/kg deg. C]\n",
    "    - VPD [kPa]\n",
    "    - LE [W/m2]\n",
    "    \n",
    "    OUT:\n",
    "    - g_c [m/s]\n",
    "    '''\n",
    "    \n",
    "    LE /= 1000. # W/m2 to kj/s m2\n",
    "    \n",
    "    term1 = (((S/psy)*B)-1)*(1/g_a)\n",
    "    term2 = ((rho_air*Cp_air)/psy)*(VPD/LE)\n",
    "    \n",
    "    return (term1+term2)**-1 # m/s canopy conductance"
   ]
  },
  {
   "cell_type": "code",
   "execution_count": 5,
   "metadata": {
    "collapsed": true
   },
   "outputs": [],
   "source": [
    "def compute_r_a(ustar,u):\n",
    "    '''Compute aerodynamic resistance [s/m]\n",
    "    IN:\n",
    "    - USTAR [m/s]\n",
    "    - Windspeed [m/s]\n",
    "    \n",
    "    OUT:\n",
    "    - r_a [s/m]'''\n",
    "    \n",
    "    return (2.75/ustar)+(u/ustar**2)\n",
    "    "
   ]
  },
  {
   "cell_type": "code",
   "execution_count": 6,
   "metadata": {
    "collapsed": true
   },
   "outputs": [],
   "source": [
    "def compute_g_c_2(r_a,NR,S,LE,G,psy,rho_air,VPD):\n",
    "    '''Compute canopy conductance from Blanken [2002].\n",
    "    IN:\n",
    "    - ra: Aerodynamic conductance [s/m]\n",
    "    - NR: Net Radiation [W/m2]\n",
    "    - S: Slope of the saturated vapor pressure curve [kPa/deg. C]\n",
    "    - LE: Latent heat flux [W/m2]\n",
    "    - G: Ground heat flux [W/m2]\n",
    "    - psy: psychrometric constant [kPa/deg.C]\n",
    "    - VPD: Vapor pressure deficit [kPa/deg.C]\n",
    "    \n",
    "    OUT:\n",
    "    - g_c: Canopy conductance [m/s]'''\n",
    "    Cp_a = 1.006 # kj/kg deg. C\n",
    "    \n",
    "    NR /= 1000. # W/m2 > kj/s m2\n",
    "    G /= 1000. # W/m2 > kj/s m2\n",
    "    LE /= 1000. # W/m2 > kj/s m2\n",
    "    \n",
    "    return ((r_a*(S*(NR-G)-LE*(S-psy)) + rho_air*Cp_a*VPD)/(psy*LE))**-1\n",
    "    "
   ]
  },
  {
   "cell_type": "code",
   "execution_count": 7,
   "metadata": {
    "collapsed": true
   },
   "outputs": [],
   "source": [
    "def compute_bowen(LE,H):\n",
    "    '''Compute the Bowen Ratio (sensible heat flux / latent heat flux)'''\n",
    "    \n",
    "    return H/LE"
   ]
  },
  {
   "cell_type": "code",
   "execution_count": 8,
   "metadata": {
    "collapsed": true
   },
   "outputs": [],
   "source": [
    "def compute_psych_Cpa(TA,Es,PA):\n",
    "    '''Computes psychrometric constant [kPa/deg. C] based on pressure [kPa].'''\n",
    "    \n",
    "    epsilon = 0.622\n",
    "    specific_heat_dry_air = 1003 # j/deg. C\n",
    "    specific_heat_water_vapour = 1810 # j/deg.C\n",
    "    mixing_ratio = Es*epsilon/(PA-Es)\n",
    "    specific_heat = (specific_heat_dry_air + mixing_ratio*specific_heat_water_vapour)/(1+mixing_ratio) # j/deg.C\n",
    "    lamda = (2501 - 2.38*TA)*1000\n",
    "    psychrometer_constant = PA*specific_heat/(epsilon*lamda) \n",
    "    \n",
    "    return psychrometer_constant,specific_heat"
   ]
  },
  {
   "cell_type": "code",
   "execution_count": 9,
   "metadata": {
    "collapsed": true
   },
   "outputs": [],
   "source": [
    "def run(df):\n",
    "    \n",
    "    LE = df.LE.copy() # latent heat flux [W/m2]\n",
    "    H = df.H.copy() # sensible heat flux [W/m2]\n",
    "    PA = df.PA.copy() # Air pressure [kPa]\n",
    "    TA = df.TA.copy() # air temperature [deg.C]\n",
    "    \n",
    "    VPD = df.VPD_PI.copy() # vapor pressure deficit [hPa]\n",
    "    VPD *= 100. # hPa > Pa\n",
    "    VPD /= 1000. # Pa > Kpa\n",
    "    \n",
    "    WS = df.WS.copy() # wind speed [m/s]\n",
    "    USTAR = df.USTAR.copy() # friction velocity [m/s]\n",
    "    ST = 2.75\n",
    "    RH = df.RH.copy() # relative humidity [%]\n",
    "    \n",
    "    Es = compute_Es(TA) # Saturation vapor pressure [kPa]\n",
    "    \n",
    "    PA_H2O = Es*(RH/100.) # compute vater vapor pressure (Pa)\n",
    "    PA_H2O /= 1000. # Pa > kPa\n",
    "    \n",
    "    g_b = (ST/USTAR)\n",
    "    g_e = (WS/USTAR**2)\n",
    "    \n",
    "    rho_air = compute_air_density(TA,PA_H2O,PA)\n",
    "    \n",
    "    g_a = ((1/g_b)+(1/g_e))**-1\n",
    "    \n",
    "    S = compute_S(TA) # kPa/deg.C\n",
    "    \n",
    "    psy,Cpa = compute_psych_Cpa(TA,Es,PA) # kPa/deg.C and j/deg.C\n",
    "    Cpa /= 1000. # j/deg.C > kj/deg.C\n",
    "    \n",
    "    B = compute_bowen(LE,H) # unitless\n",
    "    \n",
    "    g_c = compute_canopy_cond(S,psy,B,g_a,rho_air,Cpa,VPD,LE) # m/s\n",
    "    \n",
    "    return Es,PA_H2O,g_b,g_e,rho_air,g_a,S,psy,Cpa,B,g_c"
   ]
  },
  {
   "cell_type": "code",
   "execution_count": 10,
   "metadata": {
    "collapsed": true
   },
   "outputs": [],
   "source": [
    "def run2(df):\n",
    "    \n",
    "    NR = df.NETRAD.copy() # net radiation [W/m2]\n",
    "    LE = df.LE.copy() # latent heat flux [W/m2]\n",
    "    PA = df.PA.copy() # Air pressure [kPa]\n",
    "    TA = df.TA.copy() # air temperature [deg.C]\n",
    "    H = df.H.copy()\n",
    "    \n",
    "    VPD = df.VPD_PI.copy() # vapor pressure deficit [hPa]\n",
    "    VPD *= 100. # hPa > Pa\n",
    "    VPD /= 1000. # Pa > Kpa\n",
    "    \n",
    "    WS = df.WS.copy() # wind speed [m/s]\n",
    "    USTAR = df.USTAR.copy() # friction velocity [m/s]\n",
    "    RH = df.RH.copy() # relative humidity [%]\n",
    "    \n",
    "    Es = compute_Es(TA) # Saturation vapor pressure [kPa]\n",
    "    \n",
    "    PA_H2O = Es*(RH/100.) # compute vater vapor pressure (Pa)\n",
    "    PA_H2O /= 1000. # Pa > kPa\n",
    "        \n",
    "    rho_air = compute_air_density(TA,PA_H2O,PA)\n",
    "        \n",
    "    S = compute_S(TA) # kPa/deg.C\n",
    "    \n",
    "    psy,Cpa = compute_psych_Cpa(TA,Es,PA) # kPa/deg.C and j/deg.C\n",
    "\n",
    "    r_a = compute_r_a(USTAR,WS)\n",
    "    \n",
    "    G = NR-H-LE\n",
    "    \n",
    "    g_c = compute_g_c_2(r_a,NR,S,LE,G,psy,rho_air,VPD)\n",
    "    \n",
    "    return Es,PA_H2O,r_a,rho_air,S,psy,g_c"
   ]
  },
  {
   "cell_type": "code",
   "execution_count": 11,
   "metadata": {
    "collapsed": true
   },
   "outputs": [],
   "source": [
    "def make_dt(dt):\n",
    "    dt = str(dt)\n",
    "\n",
    "    YYYY = dt[0:4]\n",
    "    MM = dt[4:6]\n",
    "    DD = dt[6:8]\n",
    "    HH = dt[8:10]\n",
    "    mm = dt[10:12]\n",
    "\n",
    "    return '%s-%s-%s %s:%s'%(YYYY,MM,DD,HH,mm)\n",
    "    "
   ]
  },
  {
   "cell_type": "code",
   "execution_count": 12,
   "metadata": {
    "collapsed": false
   },
   "outputs": [],
   "source": [
    "dat = pd.read_csv('./data/AMF_US-Vcm_BASE-BADM_4-1/AMF_US-Vcm_BASE_HH_4-1.csv', skiprows=2,na_values=-9999)"
   ]
  },
  {
   "cell_type": "code",
   "execution_count": 13,
   "metadata": {
    "collapsed": true
   },
   "outputs": [],
   "source": [
    "vars = ['NETRAD','LE','H','VPD_PI','WS','USTAR','TA','RH','PA','TIMESTAMP_START','SW_IN','NEE_PI']"
   ]
  },
  {
   "cell_type": "code",
   "execution_count": 14,
   "metadata": {
    "collapsed": false
   },
   "outputs": [],
   "source": [
    "dat = dat[vars].copy()"
   ]
  },
  {
   "cell_type": "code",
   "execution_count": 15,
   "metadata": {
    "collapsed": false
   },
   "outputs": [],
   "source": [
    "dat.index = pd.DatetimeIndex(dat.TIMESTAMP_START.map(make_dt))"
   ]
  },
  {
   "cell_type": "code",
   "execution_count": 16,
   "metadata": {
    "collapsed": true
   },
   "outputs": [],
   "source": [
    "dat.dropna(inplace=True)"
   ]
  },
  {
   "cell_type": "code",
   "execution_count": 17,
   "metadata": {
    "collapsed": true
   },
   "outputs": [],
   "source": [
    "dat['idx'] = dat.index"
   ]
  },
  {
   "cell_type": "code",
   "execution_count": 18,
   "metadata": {
    "collapsed": true
   },
   "outputs": [],
   "source": [
    "tmp = pd.DataFrame(pd.read_pickle('./data/VCM_half_hour.pcl')['GPP'])\n",
    "tmp['idx'] = tmp.index"
   ]
  },
  {
   "cell_type": "code",
   "execution_count": 19,
   "metadata": {
    "collapsed": false
   },
   "outputs": [],
   "source": [
    "dat = pd.merge(left=dat,right=tmp,how='inner',on='idx')"
   ]
  },
  {
   "cell_type": "code",
   "execution_count": 20,
   "metadata": {
    "collapsed": false
   },
   "outputs": [],
   "source": [
    "dat.index = pd.DatetimeIndex(dat.idx)\n",
    "del dat['idx']"
   ]
  },
  {
   "cell_type": "code",
   "execution_count": 21,
   "metadata": {
    "collapsed": false
   },
   "outputs": [],
   "source": [
    "Es,PA_H2O,r_a,rho_air,S,psy,g_c = run2(dat)"
   ]
  },
  {
   "cell_type": "code",
   "execution_count": 22,
   "metadata": {
    "collapsed": true
   },
   "outputs": [],
   "source": [
    "dat['Es'] = Es\n",
    "dat['PA_H2O'] = PA_H2O\n",
    "dat['rho_air'] = rho_air\n",
    "dat['S'] = S\n",
    "dat['psy'] = psy\n",
    "dat['g_c'] = g_c"
   ]
  },
  {
   "cell_type": "code",
   "execution_count": 23,
   "metadata": {
    "collapsed": false
   },
   "outputs": [
    {
     "data": {
      "text/plain": [
       "0.012"
      ]
     },
     "execution_count": 23,
     "metadata": {},
     "output_type": "execute_result"
    }
   ],
   "source": [
    "round(dat.g_c.median(),3)"
   ]
  },
  {
   "cell_type": "code",
   "execution_count": 24,
   "metadata": {
    "collapsed": false
   },
   "outputs": [
    {
     "data": {
      "text/plain": [
       "<matplotlib.axes._subplots.AxesSubplot at 0x10c4aff50>"
      ]
     },
     "execution_count": 24,
     "metadata": {},
     "output_type": "execute_result"
    },
    {
     "data": {
      "image/png": "[encoded data removed]",
      "text/plain": [
       "<matplotlib.figure.Figure at 0x10c49e950>"
      ]
     },
     "metadata": {},
     "output_type": "display_data"
    }
   ],
   "source": [
    "plt.figure(figsize=(15,5))\n",
    "dat.g_c.plot()\n",
    "#plt.ylim(0,10)"
   ]
  },
  {
   "cell_type": "code",
   "execution_count": 25,
   "metadata": {
    "collapsed": false
   },
   "outputs": [],
   "source": [
    "# remove night time obs\n",
    "dat.loc[dat.SW_IN<5] = np.NaN\n",
    "dat.loc[dat.g_c<0] = np.NaN"
   ]
  },
  {
   "cell_type": "code",
   "execution_count": 26,
   "metadata": {
    "collapsed": true
   },
   "outputs": [],
   "source": [
    "dat.dropna(inplace=True)"
   ]
  },
  {
   "cell_type": "code",
   "execution_count": 27,
   "metadata": {
    "collapsed": false
   },
   "outputs": [
    {
     "data": {
      "text/plain": [
       "15247"
      ]
     },
     "execution_count": 27,
     "metadata": {},
     "output_type": "execute_result"
    }
   ],
   "source": [
    "len(dat)"
   ]
  },
  {
   "cell_type": "code",
   "execution_count": 28,
   "metadata": {
    "collapsed": true
   },
   "outputs": [],
   "source": [
    "import statsmodels.api as sm"
   ]
  },
  {
   "cell_type": "raw",
   "metadata": {},
   "source": [
    "### calculate NEE-LE coupling \n",
    "\n",
    "days = np.unique(dat.index.date)\n",
    "\n",
    "dat['r2'] = np.NaN\n",
    "dat['n'] = np.NaN\n",
    "dat['pval'] = np.NaN\n",
    "\n",
    "for day in days:\n",
    "    mod = sm.formula.ols('NEE_PI ~ LE +1',dat.loc[dat.index.date == day]).fit()\n",
    "    dat.loc[dat.index.date == day,'r2'] = mod.rsquared\n",
    "    dat.loc[dat.index.date == day,'n'] = mod.nobs\n",
    "    dat.loc[dat.index.date == day,'pval'] = mod.f_pvalue\n",
    "    "
   ]
  },
  {
   "cell_type": "raw",
   "metadata": {
    "collapsed": true
   },
   "source": [
    "dat.to_pickle('./data/Vcm_gc_data_half_hour.pcl')"
   ]
  },
  {
   "cell_type": "code",
   "execution_count": 29,
   "metadata": {
    "collapsed": true
   },
   "outputs": [],
   "source": [
    "mod = sm.formula.ols('LE ~ GPP + 1',dat).fit()"
   ]
  },
  {
   "cell_type": "code",
   "execution_count": 30,
   "metadata": {
    "collapsed": false
   },
   "outputs": [
    {
     "data": {
      "text/plain": [
       "<matplotlib.text.Text at 0x110252050>"
      ]
     },
     "execution_count": 30,
     "metadata": {},
     "output_type": "execute_result"
    },
    {
     "data": {
      "image/png": "[encoded data removed]",
      "text/plain": [
       "<matplotlib.figure.Figure at 0x110196e10>"
      ]
     },
     "metadata": {},
     "output_type": "display_data"
    }
   ],
   "source": [
    "x = np.linspace(dat.GPP.min(),dat.GPP.max(),100)\n",
    "y = x*mod.params['GPP']+mod.params['Intercept']\n",
    "plt.hexbin(dat.GPP,dat.LE,mincnt=10,gridsize=25)\n",
    "plt.plot(x,y,'-')\n",
    "plt.ylabel('Latent Heat Flux [W/m2]',fontsize=16)\n",
    "plt.xlabel('GPP [mmol C/m2]',fontsize=16)"
   ]
  },
  {
   "cell_type": "code",
   "execution_count": 31,
   "metadata": {
    "collapsed": true
   },
   "outputs": [],
   "source": [
    "LEmin = 150\n",
    "LEmax = 200\n",
    "gppmin=8\n",
    "gppmax=10"
   ]
  },
  {
   "cell_type": "code",
   "execution_count": 32,
   "metadata": {
    "collapsed": false
   },
   "outputs": [],
   "source": [
    "dat2 = dat.loc[(dat.LE>LEmin)&(dat.LE<LEmax)&(dat.GPP>gppmin)&(dat.GPP<gppmax)].copy()"
   ]
  },
  {
   "cell_type": "code",
   "execution_count": 33,
   "metadata": {
    "collapsed": false
   },
   "outputs": [],
   "source": [
    "dat2.loc[dat.g_c>0.045,'g_c'] = np.NaN"
   ]
  },
  {
   "cell_type": "code",
   "execution_count": 35,
   "metadata": {
    "collapsed": false
   },
   "outputs": [
    {
     "data": {
      "text/plain": [
       "<matplotlib.text.Text at 0x10d7ce710>"
      ]
     },
     "execution_count": 35,
     "metadata": {},
     "output_type": "execute_result"
    },
    {
     "data": {
      "image/png": "[encoded data removed]",
      "text/plain": [
       "<matplotlib.figure.Figure at 0x11039e790>"
      ]
     },
     "metadata": {},
     "output_type": "display_data"
    }
   ],
   "source": [
    "plt.hexbin(dat2.TIMESTAMP_START,dat2.g_c,mincnt=5,gridsize=10)\n",
    "plt.colorbar(label='Count')\n",
    "plt.xlabel('Date', fontsize=14)\n",
    "plt.ylabel('g_c [m/s]', fontsize=14)"
   ]
  },
  {
   "cell_type": "code",
   "execution_count": 155,
   "metadata": {
    "collapsed": true
   },
   "outputs": [],
   "source": [
    "def mmol2m(g_c,LAI):\n",
    "    '''convert g_c in mmmol/m2 s to m/s'''\n",
    "    molarmassH2O = 18.01528 # g/mol\n",
    "    g_c *= 0.001 # mmol to mol/m s\n",
    "    g_c *= LAI # convert from m2 of leaf area to m2 of ground area\n",
    "    g_c *= molarmassH2O # mol to grams also ml \n",
    "    g_c /= 1000. # g > kg\n",
    "    g_c /= 0.804 # kg water vapor to m3 of water vapor\n",
    "\n",
    "    # assume this is for 1 m2 of ground so m3 becomes m\n",
    "    \n",
    "    return g_c"
   ]
  },
  {
   "cell_type": "code",
   "execution_count": 156,
   "metadata": {
    "collapsed": false
   },
   "outputs": [
    {
     "data": {
      "text/plain": [
       "0.023527417910447764"
      ]
     },
     "execution_count": 156,
     "metadata": {},
     "output_type": "execute_result"
    }
   ],
   "source": [
    "mmol2m(300,3.5)"
   ]
  }
 ],
 "metadata": {
  "kernelspec": {
   "display_name": "Python 2",
   "language": "python",
   "name": "python2"
  },
  "language_info": {
   "codemirror_mode": {
    "name": "ipython",
    "version": 2
   },
   "file_extension": ".py",
   "mimetype": "text/x-python",
   "name": "python",
   "nbconvert_exporter": "python",
   "pygments_lexer": "ipython2",
   "version": "2.7.11"
  }
 },
 "nbformat": 4,
 "nbformat_minor": 0
}
