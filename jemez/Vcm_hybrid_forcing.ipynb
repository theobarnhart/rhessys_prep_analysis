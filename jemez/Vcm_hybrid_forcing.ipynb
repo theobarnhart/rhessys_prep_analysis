{
 "cells": [
  {
   "cell_type": "code",
   "execution_count": 1,
   "metadata": {
    "collapsed": false
   },
   "outputs": [],
   "source": [
    "import rhessys.utilities as rut\n",
    "import statsmodels.api as sm"
   ]
  },
  {
   "cell_type": "code",
   "execution_count": 2,
   "metadata": {
    "collapsed": true
   },
   "outputs": [],
   "source": [
    "tmp = pd.read_pickle('./data/cosmos_p_from_swe.pcl')\n",
    "datmin = tmp.index[0]\n",
    "datmax = tmp.index[-1]"
   ]
  },
  {
   "cell_type": "code",
   "execution_count": 3,
   "metadata": {
    "collapsed": false
   },
   "outputs": [],
   "source": [
    "tmp['wateryear'] = tmp.index.map(rut.wateryear)"
   ]
  },
  {
   "cell_type": "code",
   "execution_count": 4,
   "metadata": {
    "collapsed": false
   },
   "outputs": [
    {
     "data": {
      "text/html": [
       "<div>\n",
       "<table border=\"1\" class=\"dataframe\">\n",
       "  <thead>\n",
       "    <tr style=\"text-align: right;\">\n",
       "      <th></th>\n",
       "      <th>P</th>\n",
       "      <th>Tave</th>\n",
       "      <th>Tmax</th>\n",
       "      <th>Tmin</th>\n",
       "      <th>wateryear</th>\n",
       "    </tr>\n",
       "  </thead>\n",
       "  <tbody>\n",
       "    <tr>\n",
       "      <th>2009-10-01</th>\n",
       "      <td>0.0</td>\n",
       "      <td>3.333124</td>\n",
       "      <td>10.290975</td>\n",
       "      <td>-3.624726</td>\n",
       "      <td>2010</td>\n",
       "    </tr>\n",
       "    <tr>\n",
       "      <th>2009-10-02</th>\n",
       "      <td>0.0</td>\n",
       "      <td>4.630947</td>\n",
       "      <td>15.133749</td>\n",
       "      <td>-5.871856</td>\n",
       "      <td>2010</td>\n",
       "    </tr>\n",
       "    <tr>\n",
       "      <th>2009-10-03</th>\n",
       "      <td>0.0</td>\n",
       "      <td>7.088696</td>\n",
       "      <td>16.989219</td>\n",
       "      <td>-2.811827</td>\n",
       "      <td>2010</td>\n",
       "    </tr>\n",
       "    <tr>\n",
       "      <th>2009-10-04</th>\n",
       "      <td>0.0</td>\n",
       "      <td>9.037910</td>\n",
       "      <td>15.559847</td>\n",
       "      <td>2.515974</td>\n",
       "      <td>2010</td>\n",
       "    </tr>\n",
       "    <tr>\n",
       "      <th>2009-10-05</th>\n",
       "      <td>0.0</td>\n",
       "      <td>8.546200</td>\n",
       "      <td>17.127397</td>\n",
       "      <td>-0.034997</td>\n",
       "      <td>2010</td>\n",
       "    </tr>\n",
       "  </tbody>\n",
       "</table>\n",
       "</div>"
      ],
      "text/plain": [
       "              P      Tave       Tmax      Tmin  wateryear\n",
       "2009-10-01  0.0  3.333124  10.290975 -3.624726       2010\n",
       "2009-10-02  0.0  4.630947  15.133749 -5.871856       2010\n",
       "2009-10-03  0.0  7.088696  16.989219 -2.811827       2010\n",
       "2009-10-04  0.0  9.037910  15.559847  2.515974       2010\n",
       "2009-10-05  0.0  8.546200  17.127397 -0.034997       2010"
      ]
     },
     "execution_count": 4,
     "metadata": {},
     "output_type": "execute_result"
    }
   ],
   "source": [
    "tmp.head()"
   ]
  },
  {
   "cell_type": "code",
   "execution_count": 5,
   "metadata": {
    "collapsed": true
   },
   "outputs": [],
   "source": [
    "dat = pd.read_pickle('./data/Vcm_cosmos_pillow_swe.pcl') # swe in cm\n",
    "lapsed_p = pd.read_pickle('./data/jemez_raws_lapse.pcl')[datmin:datmax] # p in mm"
   ]
  },
  {
   "cell_type": "code",
   "execution_count": 6,
   "metadata": {
    "collapsed": true
   },
   "outputs": [],
   "source": [
    "dat['wateryear'] = dat.index.map(rut.wateryear)"
   ]
  },
  {
   "cell_type": "code",
   "execution_count": 7,
   "metadata": {
    "collapsed": false
   },
   "outputs": [],
   "source": [
    "swe = dat.swe.as_matrix()*10. # cm > mm\n",
    "\n",
    "tmp = swe[1:] - swe[0:-1]\n",
    "delswe = list(tmp)\n",
    "delswe.append(0)"
   ]
  },
  {
   "cell_type": "code",
   "execution_count": 8,
   "metadata": {
    "collapsed": true
   },
   "outputs": [],
   "source": [
    "dat['delswe'] = delswe"
   ]
  },
  {
   "cell_type": "code",
   "execution_count": 9,
   "metadata": {
    "collapsed": true
   },
   "outputs": [],
   "source": [
    "dat = dat.loc[datmin:datmax]"
   ]
  },
  {
   "cell_type": "code",
   "execution_count": 10,
   "metadata": {
    "collapsed": false
   },
   "outputs": [],
   "source": [
    "lapsed_p['delswe'] = dat.delswe # add the delswe variable"
   ]
  },
  {
   "cell_type": "code",
   "execution_count": 11,
   "metadata": {
    "collapsed": false
   },
   "outputs": [],
   "source": [
    "#lapsed_p.loc[np.isnan(lapsed_p.delswe),'delswe'] = 0. # zero nans"
   ]
  },
  {
   "cell_type": "code",
   "execution_count": 12,
   "metadata": {
    "collapsed": true
   },
   "outputs": [],
   "source": [
    "lapsed_p['wateryear'] = lapsed_p.index.map(rut.wateryear)"
   ]
  },
  {
   "cell_type": "code",
   "execution_count": 13,
   "metadata": {
    "collapsed": false
   },
   "outputs": [],
   "source": [
    "strts = []\n",
    "nds = []\n",
    "\n",
    "for wy in lapsed_p.wateryear.unique()[:-1]:\n",
    "    tmp = lapsed_p.loc[lapsed_p.wateryear==wy]\n",
    "    \n",
    "    strts.append(tmp.loc[tmp.delswe!=0].index[0])\n",
    "    nds.append(tmp.loc[tmp.P!=0].index[-1])"
   ]
  },
  {
   "cell_type": "code",
   "execution_count": 14,
   "metadata": {
    "collapsed": true
   },
   "outputs": [],
   "source": [
    "lapsed_p['summer'] = 1."
   ]
  },
  {
   "cell_type": "code",
   "execution_count": 15,
   "metadata": {
    "collapsed": true
   },
   "outputs": [],
   "source": [
    "for strt,nd in zip(strts,nds):\n",
    "    lapsed_p.loc[strt:nd,'summer'] = 0."
   ]
  },
  {
   "cell_type": "code",
   "execution_count": 16,
   "metadata": {
    "collapsed": false
   },
   "outputs": [
    {
     "data": {
      "text/html": [
       "<div>\n",
       "<table border=\"1\" class=\"dataframe\">\n",
       "  <thead>\n",
       "    <tr style=\"text-align: right;\">\n",
       "      <th></th>\n",
       "      <th>date</th>\n",
       "      <th>year</th>\n",
       "      <th>doy</th>\n",
       "      <th>dor</th>\n",
       "      <th>Tave</th>\n",
       "      <th>Tmax</th>\n",
       "      <th>Tmin</th>\n",
       "      <th>P</th>\n",
       "      <th>month</th>\n",
       "      <th>Vcm_tmin</th>\n",
       "      <th>Vcm_tave</th>\n",
       "      <th>Vcm_tmax</th>\n",
       "      <th>Vcm_p</th>\n",
       "      <th>Vcm_rain_duration</th>\n",
       "      <th>delswe</th>\n",
       "      <th>wateryear</th>\n",
       "      <th>summer</th>\n",
       "    </tr>\n",
       "  </thead>\n",
       "  <tbody>\n",
       "    <tr>\n",
       "      <th>2009-10-01</th>\n",
       "      <td>10/01/2009</td>\n",
       "      <td>2009</td>\n",
       "      <td>274</td>\n",
       "      <td>2558</td>\n",
       "      <td>4.7</td>\n",
       "      <td>11.7</td>\n",
       "      <td>-0.6</td>\n",
       "      <td>0.0</td>\n",
       "      <td>10</td>\n",
       "      <td>-0.709345</td>\n",
       "      <td>2.936486</td>\n",
       "      <td>7.834244</td>\n",
       "      <td>1.647283</td>\n",
       "      <td>1.176688</td>\n",
       "      <td>NaN</td>\n",
       "      <td>2010</td>\n",
       "      <td>0.0</td>\n",
       "    </tr>\n",
       "    <tr>\n",
       "      <th>2009-10-02</th>\n",
       "      <td>10/02/2009</td>\n",
       "      <td>2009</td>\n",
       "      <td>275</td>\n",
       "      <td>2559</td>\n",
       "      <td>7.0</td>\n",
       "      <td>16.1</td>\n",
       "      <td>-2.2</td>\n",
       "      <td>0.0</td>\n",
       "      <td>10</td>\n",
       "      <td>-2.309345</td>\n",
       "      <td>5.236486</td>\n",
       "      <td>12.234244</td>\n",
       "      <td>1.647283</td>\n",
       "      <td>1.176688</td>\n",
       "      <td>NaN</td>\n",
       "      <td>2010</td>\n",
       "      <td>0.0</td>\n",
       "    </tr>\n",
       "    <tr>\n",
       "      <th>2009-10-03</th>\n",
       "      <td>10/03/2009</td>\n",
       "      <td>2009</td>\n",
       "      <td>276</td>\n",
       "      <td>2560</td>\n",
       "      <td>9.5</td>\n",
       "      <td>17.8</td>\n",
       "      <td>0.6</td>\n",
       "      <td>0.0</td>\n",
       "      <td>10</td>\n",
       "      <td>0.490655</td>\n",
       "      <td>7.736486</td>\n",
       "      <td>13.934244</td>\n",
       "      <td>1.647283</td>\n",
       "      <td>1.176688</td>\n",
       "      <td>NaN</td>\n",
       "      <td>2010</td>\n",
       "      <td>0.0</td>\n",
       "    </tr>\n",
       "    <tr>\n",
       "      <th>2009-10-04</th>\n",
       "      <td>10/04/2009</td>\n",
       "      <td>2009</td>\n",
       "      <td>277</td>\n",
       "      <td>2561</td>\n",
       "      <td>10.1</td>\n",
       "      <td>17.2</td>\n",
       "      <td>5.6</td>\n",
       "      <td>0.0</td>\n",
       "      <td>10</td>\n",
       "      <td>5.490655</td>\n",
       "      <td>8.336486</td>\n",
       "      <td>13.334244</td>\n",
       "      <td>1.647283</td>\n",
       "      <td>1.176688</td>\n",
       "      <td>NaN</td>\n",
       "      <td>2010</td>\n",
       "      <td>0.0</td>\n",
       "    </tr>\n",
       "    <tr>\n",
       "      <th>2009-10-05</th>\n",
       "      <td>10/05/2009</td>\n",
       "      <td>2009</td>\n",
       "      <td>278</td>\n",
       "      <td>2562</td>\n",
       "      <td>10.6</td>\n",
       "      <td>18.3</td>\n",
       "      <td>3.3</td>\n",
       "      <td>0.0</td>\n",
       "      <td>10</td>\n",
       "      <td>3.190655</td>\n",
       "      <td>8.836486</td>\n",
       "      <td>14.434244</td>\n",
       "      <td>1.647283</td>\n",
       "      <td>1.176688</td>\n",
       "      <td>NaN</td>\n",
       "      <td>2010</td>\n",
       "      <td>0.0</td>\n",
       "    </tr>\n",
       "  </tbody>\n",
       "</table>\n",
       "</div>"
      ],
      "text/plain": [
       "                  date  year  doy   dor  Tave  Tmax  Tmin    P month  \\\n",
       "2009-10-01  10/01/2009  2009  274  2558   4.7  11.7  -0.6  0.0    10   \n",
       "2009-10-02  10/02/2009  2009  275  2559   7.0  16.1  -2.2  0.0    10   \n",
       "2009-10-03  10/03/2009  2009  276  2560   9.5  17.8   0.6  0.0    10   \n",
       "2009-10-04  10/04/2009  2009  277  2561  10.1  17.2   5.6  0.0    10   \n",
       "2009-10-05  10/05/2009  2009  278  2562  10.6  18.3   3.3  0.0    10   \n",
       "\n",
       "            Vcm_tmin  Vcm_tave   Vcm_tmax     Vcm_p  Vcm_rain_duration  \\\n",
       "2009-10-01 -0.709345  2.936486   7.834244  1.647283           1.176688   \n",
       "2009-10-02 -2.309345  5.236486  12.234244  1.647283           1.176688   \n",
       "2009-10-03  0.490655  7.736486  13.934244  1.647283           1.176688   \n",
       "2009-10-04  5.490655  8.336486  13.334244  1.647283           1.176688   \n",
       "2009-10-05  3.190655  8.836486  14.434244  1.647283           1.176688   \n",
       "\n",
       "            delswe  wateryear  summer  \n",
       "2009-10-01     NaN       2010     0.0  \n",
       "2009-10-02     NaN       2010     0.0  \n",
       "2009-10-03     NaN       2010     0.0  \n",
       "2009-10-04     NaN       2010     0.0  \n",
       "2009-10-05     NaN       2010     0.0  "
      ]
     },
     "execution_count": 16,
     "metadata": {},
     "output_type": "execute_result"
    }
   ],
   "source": [
    "lapsed_p.head()"
   ]
  },
  {
   "cell_type": "code",
   "execution_count": 17,
   "metadata": {
    "collapsed": false
   },
   "outputs": [
    {
     "data": {
      "text/html": [
       "<div>\n",
       "<table border=\"1\" class=\"dataframe\">\n",
       "  <thead>\n",
       "    <tr style=\"text-align: right;\">\n",
       "      <th></th>\n",
       "      <th>date</th>\n",
       "      <th>year</th>\n",
       "      <th>doy</th>\n",
       "      <th>dor</th>\n",
       "      <th>Tave</th>\n",
       "      <th>Tmax</th>\n",
       "      <th>Tmin</th>\n",
       "      <th>P</th>\n",
       "      <th>month</th>\n",
       "      <th>Vcm_tmin</th>\n",
       "      <th>Vcm_tave</th>\n",
       "      <th>Vcm_tmax</th>\n",
       "      <th>Vcm_p</th>\n",
       "      <th>Vcm_rain_duration</th>\n",
       "      <th>delswe</th>\n",
       "      <th>wateryear</th>\n",
       "      <th>summer</th>\n",
       "    </tr>\n",
       "  </thead>\n",
       "  <tbody>\n",
       "    <tr>\n",
       "      <th>2012-10-01</th>\n",
       "      <td>10/01/2012</td>\n",
       "      <td>2012</td>\n",
       "      <td>275</td>\n",
       "      <td>3654</td>\n",
       "      <td>12.7</td>\n",
       "      <td>21.7</td>\n",
       "      <td>5.6</td>\n",
       "      <td>0.0</td>\n",
       "      <td>10</td>\n",
       "      <td>5.490655</td>\n",
       "      <td>10.936486</td>\n",
       "      <td>17.834244</td>\n",
       "      <td>1.647283</td>\n",
       "      <td>1.176688</td>\n",
       "      <td>NaN</td>\n",
       "      <td>2013</td>\n",
       "      <td>1.0</td>\n",
       "    </tr>\n",
       "    <tr>\n",
       "      <th>2012-10-02</th>\n",
       "      <td>10/02/2012</td>\n",
       "      <td>2012</td>\n",
       "      <td>276</td>\n",
       "      <td>3655</td>\n",
       "      <td>13.2</td>\n",
       "      <td>22.2</td>\n",
       "      <td>3.3</td>\n",
       "      <td>0.0</td>\n",
       "      <td>10</td>\n",
       "      <td>3.190655</td>\n",
       "      <td>11.436486</td>\n",
       "      <td>18.334244</td>\n",
       "      <td>1.647283</td>\n",
       "      <td>1.176688</td>\n",
       "      <td>NaN</td>\n",
       "      <td>2013</td>\n",
       "      <td>1.0</td>\n",
       "    </tr>\n",
       "    <tr>\n",
       "      <th>2012-10-03</th>\n",
       "      <td>10/03/2012</td>\n",
       "      <td>2012</td>\n",
       "      <td>277</td>\n",
       "      <td>3656</td>\n",
       "      <td>15.9</td>\n",
       "      <td>22.8</td>\n",
       "      <td>10.0</td>\n",
       "      <td>0.0</td>\n",
       "      <td>10</td>\n",
       "      <td>9.890655</td>\n",
       "      <td>14.136486</td>\n",
       "      <td>18.934244</td>\n",
       "      <td>1.647283</td>\n",
       "      <td>1.176688</td>\n",
       "      <td>NaN</td>\n",
       "      <td>2013</td>\n",
       "      <td>1.0</td>\n",
       "    </tr>\n",
       "    <tr>\n",
       "      <th>2012-10-04</th>\n",
       "      <td>10/04/2012</td>\n",
       "      <td>2012</td>\n",
       "      <td>278</td>\n",
       "      <td>3657</td>\n",
       "      <td>14.9</td>\n",
       "      <td>22.8</td>\n",
       "      <td>6.7</td>\n",
       "      <td>0.0</td>\n",
       "      <td>10</td>\n",
       "      <td>6.590655</td>\n",
       "      <td>13.136486</td>\n",
       "      <td>18.934244</td>\n",
       "      <td>1.647283</td>\n",
       "      <td>1.176688</td>\n",
       "      <td>NaN</td>\n",
       "      <td>2013</td>\n",
       "      <td>1.0</td>\n",
       "    </tr>\n",
       "    <tr>\n",
       "      <th>2012-10-05</th>\n",
       "      <td>10/05/2012</td>\n",
       "      <td>2012</td>\n",
       "      <td>279</td>\n",
       "      <td>3658</td>\n",
       "      <td>13.5</td>\n",
       "      <td>20.0</td>\n",
       "      <td>5.6</td>\n",
       "      <td>0.0</td>\n",
       "      <td>10</td>\n",
       "      <td>5.490655</td>\n",
       "      <td>11.736486</td>\n",
       "      <td>16.134244</td>\n",
       "      <td>1.647283</td>\n",
       "      <td>1.176688</td>\n",
       "      <td>NaN</td>\n",
       "      <td>2013</td>\n",
       "      <td>1.0</td>\n",
       "    </tr>\n",
       "  </tbody>\n",
       "</table>\n",
       "</div>"
      ],
      "text/plain": [
       "                  date  year  doy   dor  Tave  Tmax  Tmin    P month  \\\n",
       "2012-10-01  10/01/2012  2012  275  3654  12.7  21.7   5.6  0.0    10   \n",
       "2012-10-02  10/02/2012  2012  276  3655  13.2  22.2   3.3  0.0    10   \n",
       "2012-10-03  10/03/2012  2012  277  3656  15.9  22.8  10.0  0.0    10   \n",
       "2012-10-04  10/04/2012  2012  278  3657  14.9  22.8   6.7  0.0    10   \n",
       "2012-10-05  10/05/2012  2012  279  3658  13.5  20.0   5.6  0.0    10   \n",
       "\n",
       "            Vcm_tmin   Vcm_tave   Vcm_tmax     Vcm_p  Vcm_rain_duration  \\\n",
       "2012-10-01  5.490655  10.936486  17.834244  1.647283           1.176688   \n",
       "2012-10-02  3.190655  11.436486  18.334244  1.647283           1.176688   \n",
       "2012-10-03  9.890655  14.136486  18.934244  1.647283           1.176688   \n",
       "2012-10-04  6.590655  13.136486  18.934244  1.647283           1.176688   \n",
       "2012-10-05  5.490655  11.736486  16.134244  1.647283           1.176688   \n",
       "\n",
       "            delswe  wateryear  summer  \n",
       "2012-10-01     NaN       2013     1.0  \n",
       "2012-10-02     NaN       2013     1.0  \n",
       "2012-10-03     NaN       2013     1.0  \n",
       "2012-10-04     NaN       2013     1.0  \n",
       "2012-10-05     NaN       2013     1.0  "
      ]
     },
     "execution_count": 17,
     "metadata": {},
     "output_type": "execute_result"
    }
   ],
   "source": [
    "lapsed_p.tail()"
   ]
  },
  {
   "cell_type": "code",
   "execution_count": 18,
   "metadata": {
    "collapsed": true
   },
   "outputs": [],
   "source": [
    "def hybrid_p(df):\n",
    "    p = df.Vcm_p\n",
    "    delswe = df.delswe\n",
    "    summer = df.summer\n",
    "    \n",
    "    # if p and delswe are positve, return accumulation from the pillow\n",
    "    if (p>0) & (delswe>0):\n",
    "        return delswe\n",
    "    \n",
    "    # if p is greater than 0 and snow is melting return the precipitation\n",
    "    if (p>0) & (delswe<0):\n",
    "        return p\n",
    "    \n",
    "    # if both snow and precip are zero, return zero\n",
    "    if (p==0) & (delswe==0):\n",
    "        return 0\n",
    "    \n",
    "    # if p is zero and there is snow accumulation, return accumulation\n",
    "    if (p==0) & (delswe>0):\n",
    "        return delswe\n",
    "    \n",
    "    # if the precip occures during summer, return p\n",
    "    if np.isnan(delswe):\n",
    "        return p"
   ]
  },
  {
   "cell_type": "code",
   "execution_count": 19,
   "metadata": {
    "collapsed": true
   },
   "outputs": [],
   "source": [
    "lapsed_p['hybrid_p'] = lapsed_p.apply(hybrid_p,axis=1)"
   ]
  },
  {
   "cell_type": "code",
   "execution_count": 20,
   "metadata": {
    "collapsed": true
   },
   "outputs": [],
   "source": [
    "lapsed_p['diff_p'] = lapsed_p.Vcm_p - lapsed_p.hybrid_p"
   ]
  },
  {
   "cell_type": "code",
   "execution_count": 21,
   "metadata": {
    "collapsed": false
   },
   "outputs": [],
   "source": [
    "lapsed_p.loc[np.isnan(lapsed_p.hybrid_p),'hybrid_p'] = 0 # make nans 0"
   ]
  },
  {
   "cell_type": "code",
   "execution_count": 22,
   "metadata": {
    "collapsed": false
   },
   "outputs": [
    {
     "data": {
      "text/plain": [
       "<matplotlib.legend.Legend at 0x10cca0390>"
      ]
     },
     "execution_count": 22,
     "metadata": {},
     "output_type": "execute_result"
    },
    {
     "data": {
      "image/png": "[encoded data removed]",
      "text/plain": [
       "<matplotlib.figure.Figure at 0x110bf8590>"
      ]
     },
     "metadata": {},
     "output_type": "display_data"
    }
   ],
   "source": [
    "plt.figure(figsize=(15,5))\n",
    "lapsed_p.hybrid_p.plot()\n",
    "#lapsed_p.Vcm_p.plot()\n",
    "plt.ylabel('Daily Precipitation [mm/day]',fontsize=14)\n",
    "plt.legend()"
   ]
  },
  {
   "cell_type": "code",
   "execution_count": 23,
   "metadata": {
    "collapsed": false
   },
   "outputs": [
    {
     "data": {
      "text/plain": [
       "<matplotlib.legend.Legend at 0x1132d2610>"
      ]
     },
     "execution_count": 23,
     "metadata": {},
     "output_type": "execute_result"
    },
    {
     "data": {
      "image/png": "[encoded data removed]",
      "text/plain": [
       "<matplotlib.figure.Figure at 0x113298810>"
      ]
     },
     "metadata": {},
     "output_type": "display_data"
    }
   ],
   "source": [
    "plt.figure(figsize=(15,5))\n",
    "#lapsed_p.hybrid_p.plot()\n",
    "lapsed_p.Vcm_p.plot()\n",
    "plt.ylabel('Daily Precipitation [mm/day]',fontsize=14)\n",
    "plt.legend()"
   ]
  },
  {
   "cell_type": "code",
   "execution_count": 24,
   "metadata": {
    "collapsed": false
   },
   "outputs": [
    {
     "data": {
      "text/plain": [
       "Index([u'date', u'year', u'doy', u'dor', u'Tave', u'Tmax', u'Tmin', u'P',\n",
       "       u'month', u'Vcm_tmin', u'Vcm_tave', u'Vcm_tmax', u'Vcm_p',\n",
       "       u'Vcm_rain_duration', u'delswe', u'wateryear', u'summer', u'hybrid_p',\n",
       "       u'diff_p'],\n",
       "      dtype='object')"
      ]
     },
     "execution_count": 24,
     "metadata": {},
     "output_type": "execute_result"
    }
   ],
   "source": [
    "lapsed_p.columns"
   ]
  },
  {
   "cell_type": "code",
   "execution_count": 25,
   "metadata": {
    "collapsed": false
   },
   "outputs": [
    {
     "data": {
      "text/html": [
       "<table class=\"simpletable\">\n",
       "<caption>OLS Regression Results</caption>\n",
       "<tr>\n",
       "  <th>Dep. Variable:</th>    <td>Vcm_rain_duration</td> <th>  R-squared:         </th> <td>   0.830</td>\n",
       "</tr>\n",
       "<tr>\n",
       "  <th>Model:</th>                   <td>OLS</td>        <th>  Adj. R-squared:    </th> <td>   0.830</td>\n",
       "</tr>\n",
       "<tr>\n",
       "  <th>Method:</th>             <td>Least Squares</td>   <th>  F-statistic:       </th> <td>   5380.</td>\n",
       "</tr>\n",
       "<tr>\n",
       "  <th>Date:</th>             <td>Mon, 21 Nov 2016</td>  <th>  Prob (F-statistic):</th>  <td>  0.00</td> \n",
       "</tr>\n",
       "<tr>\n",
       "  <th>Time:</th>                 <td>13:25:51</td>      <th>  Log-Likelihood:    </th> <td> -1006.4</td>\n",
       "</tr>\n",
       "<tr>\n",
       "  <th>No. Observations:</th>      <td>  1101</td>       <th>  AIC:               </th> <td>   2017.</td>\n",
       "</tr>\n",
       "<tr>\n",
       "  <th>Df Residuals:</th>          <td>  1099</td>       <th>  BIC:               </th> <td>   2027.</td>\n",
       "</tr>\n",
       "<tr>\n",
       "  <th>Df Model:</th>              <td>     1</td>       <th>                     </th>     <td> </td>   \n",
       "</tr>\n",
       "<tr>\n",
       "  <th>Covariance Type:</th>      <td>nonrobust</td>     <th>                     </th>     <td> </td>   \n",
       "</tr>\n",
       "</table>\n",
       "<table class=\"simpletable\">\n",
       "<tr>\n",
       "      <td></td>         <th>coef</th>     <th>std err</th>      <th>t</th>      <th>P>|t|</th> <th>[95.0% Conf. Int.]</th> \n",
       "</tr>\n",
       "<tr>\n",
       "  <th>Intercept</th> <td>    0.5085</td> <td>    0.019</td> <td>   26.568</td> <td> 0.000</td> <td>    0.471     0.546</td>\n",
       "</tr>\n",
       "<tr>\n",
       "  <th>P</th>         <td>    0.3630</td> <td>    0.005</td> <td>   73.350</td> <td> 0.000</td> <td>    0.353     0.373</td>\n",
       "</tr>\n",
       "</table>\n",
       "<table class=\"simpletable\">\n",
       "<tr>\n",
       "  <th>Omnibus:</th>       <td>135.366</td> <th>  Durbin-Watson:     </th> <td>   0.385</td>\n",
       "</tr>\n",
       "<tr>\n",
       "  <th>Prob(Omnibus):</th> <td> 0.000</td>  <th>  Jarque-Bera (JB):  </th> <td> 261.638</td>\n",
       "</tr>\n",
       "<tr>\n",
       "  <th>Skew:</th>          <td> 0.758</td>  <th>  Prob(JB):          </th> <td>1.53e-57</td>\n",
       "</tr>\n",
       "<tr>\n",
       "  <th>Kurtosis:</th>      <td> 4.845</td>  <th>  Cond. No.          </th> <td>    4.09</td>\n",
       "</tr>\n",
       "</table>"
      ],
      "text/plain": [
       "<class 'statsmodels.iolib.summary.Summary'>\n",
       "\"\"\"\n",
       "                            OLS Regression Results                            \n",
       "==============================================================================\n",
       "Dep. Variable:      Vcm_rain_duration   R-squared:                       0.830\n",
       "Model:                            OLS   Adj. R-squared:                  0.830\n",
       "Method:                 Least Squares   F-statistic:                     5380.\n",
       "Date:                Mon, 21 Nov 2016   Prob (F-statistic):               0.00\n",
       "Time:                        13:25:51   Log-Likelihood:                -1006.4\n",
       "No. Observations:                1101   AIC:                             2017.\n",
       "Df Residuals:                    1099   BIC:                             2027.\n",
       "Df Model:                           1                                         \n",
       "Covariance Type:            nonrobust                                         \n",
       "==============================================================================\n",
       "                 coef    std err          t      P>|t|      [95.0% Conf. Int.]\n",
       "------------------------------------------------------------------------------\n",
       "Intercept      0.5085      0.019     26.568      0.000         0.471     0.546\n",
       "P              0.3630      0.005     73.350      0.000         0.353     0.373\n",
       "==============================================================================\n",
       "Omnibus:                      135.366   Durbin-Watson:                   0.385\n",
       "Prob(Omnibus):                  0.000   Jarque-Bera (JB):              261.638\n",
       "Skew:                           0.758   Prob(JB):                     1.53e-57\n",
       "Kurtosis:                       4.845   Cond. No.                         4.09\n",
       "==============================================================================\n",
       "\n",
       "Warnings:\n",
       "[1] Standard Errors assume that the covariance matrix of the errors is correctly specified.\n",
       "\"\"\""
      ]
     },
     "execution_count": 25,
     "metadata": {},
     "output_type": "execute_result"
    },
    {
     "data": {
      "image/png": "[encoded data removed]",
      "text/plain": [
       "<matplotlib.figure.Figure at 0x10e9aac10>"
      ]
     },
     "metadata": {},
     "output_type": "display_data"
    }
   ],
   "source": [
    "# make rain duration \n",
    "mod = sm.formula.ols('Vcm_rain_duration ~ P + 1',lapsed_p).fit()\n",
    "plt.plot(lapsed_p.P,lapsed_p.Vcm_rain_duration,'.')\n",
    "mod.summary()"
   ]
  },
  {
   "cell_type": "code",
   "execution_count": 26,
   "metadata": {
    "collapsed": false
   },
   "outputs": [],
   "source": [
    "lapsed_p['hybrid_rain_duration'] = np.ceil((mod.params['P']*lapsed_p.hybrid_p) + mod.params['P'])"
   ]
  },
  {
   "cell_type": "code",
   "execution_count": 27,
   "metadata": {
    "collapsed": false
   },
   "outputs": [
    {
     "data": {
      "text/plain": [
       "count    1101.000000\n",
       "mean        1.465940\n",
       "std         1.333476\n",
       "min         1.000000\n",
       "25%         1.000000\n",
       "50%         1.000000\n",
       "75%         1.000000\n",
       "max        16.000000\n",
       "Name: hybrid_rain_duration, dtype: float64"
      ]
     },
     "execution_count": 27,
     "metadata": {},
     "output_type": "execute_result"
    }
   ],
   "source": [
    "lapsed_p.hybrid_rain_duration.describe()"
   ]
  },
  {
   "cell_type": "code",
   "execution_count": 28,
   "metadata": {
    "collapsed": false
   },
   "outputs": [
    {
     "data": {
      "text/plain": [
       "<matplotlib.axes._subplots.AxesSubplot at 0x113eb1fd0>"
      ]
     },
     "execution_count": 28,
     "metadata": {},
     "output_type": "execute_result"
    },
    {
     "data": {
      "image/png": "[encoded data removed]",
      "text/plain": [
       "<matplotlib.figure.Figure at 0x113eb1750>"
      ]
     },
     "metadata": {},
     "output_type": "display_data"
    }
   ],
   "source": [
    "lapsed_p.hybrid_rain_duration.plot()"
   ]
  },
  {
   "cell_type": "code",
   "execution_count": 30,
   "metadata": {
    "collapsed": false
   },
   "outputs": [
    {
     "name": "stdout",
     "output_type": "stream",
     "text": [
      "2009-10-01 00:00:00\n",
      "2012-10-05 00:00:00\n"
     ]
    }
   ],
   "source": [
    "print lapsed_p.index.min()\n",
    "print lapsed_p.index.max()"
   ]
  },
  {
   "cell_type": "code",
   "execution_count": null,
   "metadata": {
    "collapsed": true
   },
   "outputs": [],
   "source": []
  },
  {
   "cell_type": "raw",
   "metadata": {
    "collapsed": true
   },
   "source": [
    "lapsed_p.to_pickle('./data/Vcm_hybrid_precip.pcl')"
   ]
  },
  {
   "cell_type": "raw",
   "metadata": {
    "collapsed": false
   },
   "source": [
    "print lapsed_p.index.min()\n",
    "print lapsed_p.index.max()\n",
    "\n",
    "dt = lapsed_p.index.min()\n",
    "\n",
    "header = '%s %s %s'%(dt.year,dt.month,dt.day)\n",
    "\n",
    "np.savetxt('/RHESSys/jemez/clim/vcm_hybrid.rain',lapsed_p.hybrid_p/1000.,header=header,comments='',fmt='%f')\n",
    "np.savetxt('/RHESSys/jemez/clim/vcm_hybrid.tmin',lapsed_p.Vcm_tmin,header=header,comments='',fmt='%f')\n",
    "np.savetxt('/RHESSys/jemez/clim/vcm_hybrid.tavg',lapsed_p.Vcm_tave,header=header,comments='',fmt='%f')\n",
    "np.savetxt('/RHESSys/jemez/clim/vcm_hybrid.tmax',lapsed_p.Vcm_tmax,header=header,comments='',fmt='%f')\n",
    "np.savetxt('/RHESSys/jemez/clim/vcm_hybrid.daytime_rain_duration',lapsed_p.hybrid_rain_duration,header=header,\n",
    "           comments='',fmt='%f')\n"
   ]
  },
  {
   "cell_type": "markdown",
   "metadata": {},
   "source": [
    "### Generate Long forcing"
   ]
  },
  {
   "cell_type": "code",
   "execution_count": 24,
   "metadata": {
    "collapsed": true
   },
   "outputs": [],
   "source": [
    "strt = '2006-10-01' # begining of WY2007"
   ]
  },
  {
   "cell_type": "code",
   "execution_count": 25,
   "metadata": {
    "collapsed": true
   },
   "outputs": [],
   "source": [
    "wy2010 = lapsed_p.loc[lapsed_p.wateryear==2010]\n",
    "wy2011 = lapsed_p.loc[lapsed_p.wateryear==2011]\n",
    "wy2012 = lapsed_p.loc[lapsed_p.wateryear==2012] # leap year"
   ]
  },
  {
   "cell_type": "code",
   "execution_count": 29,
   "metadata": {
    "collapsed": false
   },
   "outputs": [],
   "source": [
    "# remove index\n",
    "wy2010.reset_index(inplace=True)\n",
    "wy2011.reset_index(inplace=True)\n",
    "wy2012.reset_index(inplace=True)"
   ]
  },
  {
   "cell_type": "code",
   "execution_count": 30,
   "metadata": {
    "collapsed": true
   },
   "outputs": [],
   "source": [
    "hybrid_long = pd.concat([wy2010,wy2012,wy2011,wy2010,wy2011,wy2012])"
   ]
  },
  {
   "cell_type": "code",
   "execution_count": 34,
   "metadata": {
    "collapsed": false
   },
   "outputs": [],
   "source": [
    "hybrid_long.index = pd.DatetimeIndex(pd.date_range(start=strt,periods=len(hybrid_long),freq='D'))"
   ]
  },
  {
   "cell_type": "code",
   "execution_count": 38,
   "metadata": {
    "collapsed": true
   },
   "outputs": [],
   "source": [
    "dt = hybrid_long.index.min()\n",
    "\n",
    "header = '%s %s %s'%(dt.year,dt.month,dt.day)\n",
    "\n",
    "np.savetxt('/RHESSys/jemez/clim/vcm_hybrid_long.rain',hybrid_long.hybrid_p/1000.,header=header,comments='',fmt='%f')\n",
    "np.savetxt('/RHESSys/jemez/clim/vcm_hybrid_long.tmin',hybrid_long.Vcm_tmin,header=header,comments='',fmt='%f')\n",
    "np.savetxt('/RHESSys/jemez/clim/vcm_hybrid_long.tavg',hybrid_long.Vcm_tave,header=header,comments='',fmt='%f')\n",
    "np.savetxt('/RHESSys/jemez/clim/vcm_hybrid_long.tmax',hybrid_long.Vcm_tmax,header=header,comments='',fmt='%f')"
   ]
  },
  {
   "cell_type": "code",
   "execution_count": null,
   "metadata": {
    "collapsed": true
   },
   "outputs": [],
   "source": []
  }
 ],
 "metadata": {
  "kernelspec": {
   "display_name": "Python 2",
   "language": "python",
   "name": "python2"
  },
  "language_info": {
   "codemirror_mode": {
    "name": "ipython",
    "version": 2
   },
   "file_extension": ".py",
   "mimetype": "text/x-python",
   "name": "python",
   "nbconvert_exporter": "python",
   "pygments_lexer": "ipython2",
   "version": "2.7.12"
  }
 },
 "nbformat": 4,
 "nbformat_minor": 0
}
