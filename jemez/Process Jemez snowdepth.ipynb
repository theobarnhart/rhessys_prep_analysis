{
 "cells": [
  {
   "cell_type": "markdown",
   "metadata": {},
   "source": [
    "## Snowdepth processing\n",
    "\n",
    "Data is a mixture of corrected and uncorrected data\n",
    "\n",
    "The uncorrected data is marked with _cm and the corrected data is marked with corr"
   ]
  },
  {
   "cell_type": "code",
   "execution_count": 1,
   "metadata": {
    "collapsed": true
   },
   "outputs": [],
   "source": [
    "import seaborn as sns\n",
    "import glob as glob"
   ]
  },
  {
   "cell_type": "code",
   "execution_count": 2,
   "metadata": {
    "collapsed": true
   },
   "outputs": [],
   "source": [
    "def dtparse(df):\n",
    "    \n",
    "    year = df.Year\n",
    "    doy = df.DOY\n",
    "    time = df.Hour\n",
    "    \n",
    "    time = str(int(time))\n",
    "    doy = str(int(doy))\n",
    "    year = str(int(year))\n",
    "    \n",
    "    if len(str(time)) == 3:\n",
    "        time = '0'+time # add a leading zero\n",
    "        h = int(time[0:2]) # pull out hour\n",
    "        m = int(time[2:4]) # pull out minutes\n",
    "    if len(str(time)) == 4:\n",
    "        h = int(time[0:2]) # pull out hour\n",
    "        m = int(time[2:4]) # pull out minutes\n",
    "        \n",
    "    if h == 24:\n",
    "        doy = int(doy) + 1\n",
    "        h = 0\n",
    "    return str(pd.datetime.strptime('%s %s %s %s'%(year,doy,h,m),'%Y %j %H %M'))"
   ]
  },
  {
   "cell_type": "code",
   "execution_count": 3,
   "metadata": {
    "collapsed": true
   },
   "outputs": [],
   "source": [
    "def genDateTime(x):\n",
    "    year = x.YEAR\n",
    "    doy = x.DOY\n",
    "    \n",
    "    if np.isnan(year) | np.isnan(doy):\n",
    "        return np.NaN\n",
    "    else:\n",
    "        year = int(year)\n",
    "        hours = int(round(((doy - np.floor(doy))*24.),0))\n",
    "        doy = int(np.floor(doy))\n",
    "        date = \"%s-%s %s:00\"%(year,doy,hours)\n",
    "        return str(pd.datetime.strptime(date,\"%Y-%j %H:00\"))"
   ]
  },
  {
   "cell_type": "code",
   "execution_count": 4,
   "metadata": {
    "collapsed": false
   },
   "outputs": [],
   "source": [
    "wy = pd.read_excel('./data/jemez_snow_depth/nms_wy2005_snow_sensor_data.xlsx')\n",
    "wy = wy.iloc[0:-1] # drop the last line\n",
    "\n",
    "wy['dt'] = wy.apply(dtparse,axis=1)\n",
    "\n",
    "wy.index = pd.DatetimeIndex(wy.dt)\n",
    "del wy['dt']\n",
    "\n",
    "wy2 = wy[['depth1_corr','depth4_corr','depth6_corr']]\n",
    "wy2.columns = ['sd1','sd4','sd6']"
   ]
  },
  {
   "cell_type": "code",
   "execution_count": 5,
   "metadata": {
    "collapsed": true
   },
   "outputs": [],
   "source": [
    "wy2.to_pickle('./data/jemez_snow_depth/jemez_snowdepth_wy2005_clean_open.pcl')"
   ]
  },
  {
   "cell_type": "code",
   "execution_count": 6,
   "metadata": {
    "collapsed": false
   },
   "outputs": [],
   "source": [
    "wy = pd.read_excel('./data/jemez_snow_depth/nms_wy2006_snow_sensor_data.xlsx',sheetname='jan1-end')\n",
    "wy['YEAR'] = 2006\n",
    "wy = wy.iloc[0:-1] # drop the last line\n",
    "\n",
    "wy['dt'] = wy.apply(genDateTime,axis=1)\n",
    "\n",
    "wy.index = pd.DatetimeIndex(wy.dt)\n",
    "del wy['dt']\n",
    "\n",
    "wy2 = wy[['depth 1.1','depth 4.1','depth 6.1']]\n",
    "wy2.columns = ['sd1','sd4','sd6']"
   ]
  },
  {
   "cell_type": "code",
   "execution_count": 7,
   "metadata": {
    "collapsed": true
   },
   "outputs": [],
   "source": [
    "wy2.to_pickle('./data/jemez_snow_depth/jemez_snowdepth_wy2006_clean_open.pcl')"
   ]
  },
  {
   "cell_type": "code",
   "execution_count": 8,
   "metadata": {
    "collapsed": false
   },
   "outputs": [],
   "source": [
    "wy = pd.read_excel('./data/jemez_snow_depth/nms_wy2007_snow_sensor_data.xlsx')\n",
    "wy = wy.iloc[0:-1] # drop the last line\n",
    "wy = wy.iloc[0:-2]\n",
    "wy['dt'] = wy.apply(dtparse,axis=1)\n",
    "\n",
    "wy.index = pd.DatetimeIndex(wy.dt)\n",
    "del wy['dt']\n",
    "\n",
    "wy2 = wy[['depth1Cor','depth4cor','depth6cor']]\n",
    "wy2.columns = ['sd1','sd4','sd6']"
   ]
  },
  {
   "cell_type": "code",
   "execution_count": 9,
   "metadata": {
    "collapsed": true
   },
   "outputs": [],
   "source": [
    "wy2.to_pickle('./data/jemez_snow_depth/jemez_snowdepth_wy2007_clean_open.pcl')"
   ]
  },
  {
   "cell_type": "code",
   "execution_count": 10,
   "metadata": {
    "collapsed": false
   },
   "outputs": [],
   "source": [
    "wy = pd.read_excel('./data/jemez_snow_depth/nms_wy2008_snow_sensor_data.xlsx')\n",
    "\n",
    "wy = wy.iloc[0:-1] # drop the last line\n",
    "\n",
    "wy['dt'] = wy.apply(genDateTime,axis=1)\n",
    "\n",
    "wy.index = pd.DatetimeIndex(wy.dt)\n",
    "del wy['dt']\n",
    "\n",
    "#wy2 = wy.iloc[[3,9,13]]\n",
    "\n",
    "wy2 = pd.DataFrame({'sd1':wy.iloc[:,4],'sd4':wy.iloc[:,10],'sd6':wy.iloc[:,14]})"
   ]
  },
  {
   "cell_type": "code",
   "execution_count": 11,
   "metadata": {
    "collapsed": true
   },
   "outputs": [],
   "source": [
    "wy2.to_pickle('./data/jemez_snow_depth/jemez_snowdepth_wy2008_clean_open.pcl')"
   ]
  },
  {
   "cell_type": "code",
   "execution_count": 12,
   "metadata": {
    "collapsed": true
   },
   "outputs": [],
   "source": [
    "wy = pd.read_excel('./data/jemez_snow_depth/nms_wy2009_snow_sensor_data.xlsx')\n",
    "\n",
    "wy = wy.iloc[0:-1] # drop the last line\n",
    "\n",
    "wy['dt'] = wy.apply(genDateTime,axis=1)\n",
    "\n",
    "wy.index = pd.DatetimeIndex(wy.dt)\n",
    "del wy['dt']\n",
    "\n",
    "#wy2 = wy.iloc[[3,9,13]]\n",
    "\n",
    "wy2 = pd.DataFrame({'sd1':wy.iloc[:,4],'sd4':wy.iloc[:,10],'sd6':wy.iloc[:,14]})"
   ]
  },
  {
   "cell_type": "code",
   "execution_count": 13,
   "metadata": {
    "collapsed": true
   },
   "outputs": [],
   "source": [
    "wy2.to_pickle('./data/jemez_snow_depth/jemez_snowdepth_wy2009_clean_open.pcl')"
   ]
  },
  {
   "cell_type": "code",
   "execution_count": 14,
   "metadata": {
    "collapsed": true
   },
   "outputs": [],
   "source": [
    "wy = pd.read_excel('./data/jemez_snow_depth/nms_wy2010_snow_sensor_data.xlsx')\n",
    "\n",
    "wy = wy.iloc[0:-1] # drop the last line\n",
    "\n",
    "wy['dt'] = wy.apply(genDateTime,axis=1)\n",
    "\n",
    "wy.index = pd.DatetimeIndex(wy.dt)\n",
    "del wy['dt']\n",
    "\n",
    "#wy2 = wy.iloc[[3,9,13]]\n",
    "\n",
    "wy2 = pd.DataFrame({'sd1':wy.iloc[:,4],'sd4':wy.iloc[:,10],'sd6':wy.iloc[:,14]})"
   ]
  },
  {
   "cell_type": "code",
   "execution_count": 15,
   "metadata": {
    "collapsed": true
   },
   "outputs": [],
   "source": [
    "wy2.to_pickle('./data/jemez_snow_depth/jemez_snowdepth_wy2010_clean_open.pcl')"
   ]
  },
  {
   "cell_type": "markdown",
   "metadata": {},
   "source": [
    "## Merge the data frames into one"
   ]
  },
  {
   "cell_type": "code",
   "execution_count": 16,
   "metadata": {
    "collapsed": true
   },
   "outputs": [],
   "source": [
    "files = glob.glob('./data/jemez_snow_depth/*.pcl')"
   ]
  },
  {
   "cell_type": "code",
   "execution_count": 17,
   "metadata": {
    "collapsed": false
   },
   "outputs": [],
   "source": [
    "dat = pd.DataFrame()\n",
    "\n",
    "for fl in files:\n",
    "    tmp = pd.read_pickle(fl)\n",
    "    dat = dat.append(tmp)\n",
    "    "
   ]
  },
  {
   "cell_type": "code",
   "execution_count": 18,
   "metadata": {
    "collapsed": true
   },
   "outputs": [],
   "source": [
    "dat.sort_index(axis=1, inplace=True)"
   ]
  },
  {
   "cell_type": "code",
   "execution_count": 20,
   "metadata": {
    "collapsed": false
   },
   "outputs": [
    {
     "data": {
      "text/plain": [
       "[<matplotlib.lines.Line2D at 0x10e7f28d0>,\n",
       " <matplotlib.lines.Line2D at 0x10e7af810>,\n",
       " <matplotlib.lines.Line2D at 0x10e7afa10>]"
      ]
     },
     "execution_count": 20,
     "metadata": {},
     "output_type": "execute_result"
    },
    {
     "data": {
      "image/png": "[encoded data removed]",
      "text/plain": [
       "<matplotlib.figure.Figure at 0x10dd9fcd0>"
      ]
     },
     "metadata": {},
     "output_type": "display_data"
    }
   ],
   "source": [
    "plt.figure(figsize=(15,5))\n",
    "plt.plot(dat,'.')"
   ]
  },
  {
   "cell_type": "code",
   "execution_count": 21,
   "metadata": {
    "collapsed": true
   },
   "outputs": [],
   "source": [
    "dat.to_pickle('./data/jemez_snow_depth/wy2005_2010_clean_open.pcl')"
   ]
  },
  {
   "cell_type": "code",
   "execution_count": null,
   "metadata": {
    "collapsed": true
   },
   "outputs": [],
   "source": []
  }
 ],
 "metadata": {
  "kernelspec": {
   "display_name": "Python 2",
   "language": "python",
   "name": "python2"
  },
  "language_info": {
   "codemirror_mode": {
    "name": "ipython",
    "version": 2
   },
   "file_extension": ".py",
   "mimetype": "text/x-python",
   "name": "python",
   "nbconvert_exporter": "python",
   "pygments_lexer": "ipython2",
   "version": "2.7.11"
  }
 },
 "nbformat": 4,
 "nbformat_minor": 0
}
