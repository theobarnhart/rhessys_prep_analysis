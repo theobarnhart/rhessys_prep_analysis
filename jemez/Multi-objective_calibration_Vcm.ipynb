{
 "cells": [
  {
   "cell_type": "code",
   "execution_count": 1,
   "metadata": {
    "collapsed": false
   },
   "outputs": [],
   "source": [
    "import pandas as pd\n",
    "import numpy as np\n",
    "import glob\n",
    "import matplotlib.pyplot as plt\n",
    "%matplotlib inline\n",
    "from rhessys import utilities as rh\n",
    "import hydro.objective_fxns as ofx\n",
    "import ntpath\n",
    "from hydro import objective_fxns as ob\n",
    "from IPython.display import clear_output\n",
    "import ipyparallel as p\n",
    "import ProgressBar as pb\n",
    "from pymail import alert\n",
    "import time"
   ]
  },
  {
   "cell_type": "code",
   "execution_count": 2,
   "metadata": {
    "collapsed": false
   },
   "outputs": [],
   "source": [
    "C = p.Client()"
   ]
  },
  {
   "cell_type": "code",
   "execution_count": 3,
   "metadata": {
    "collapsed": false
   },
   "outputs": [
    {
     "data": {
      "text/plain": [
       "[4, 5, 6, 7, 8, 9, 10, 11, 12, 13, 14, 15]"
      ]
     },
     "execution_count": 3,
     "metadata": {},
     "output_type": "execute_result"
    }
   ],
   "source": [
    "C.ids"
   ]
  },
  {
   "cell_type": "code",
   "execution_count": 4,
   "metadata": {
    "collapsed": false
   },
   "outputs": [],
   "source": [
    "view = C.load_balanced_view()"
   ]
  },
  {
   "cell_type": "code",
   "execution_count": 39,
   "metadata": {
    "collapsed": false
   },
   "outputs": [],
   "source": [
    "calname = 'et_cal57'\n",
    "m = np.loadtxt('/RHESSys/jemez/scripts/%s_m.txt'%calname)\n",
    "ksat = np.loadtxt('/RHESSys/jemez/scripts/%s_ksat.txt'%calname)\n",
    "gw1 = np.loadtxt('/RHESSys/jemez/scripts/%s_gw1.txt'%calname)\n",
    "gw2 = np.loadtxt('/RHESSys/jemez/scripts/%s_gw2.txt'%calname)\n",
    "#gsmax = np.loadtxt(prfx+'gsmax.txt')\n",
    "#sd = np.loadtxt(prfx+'sd.txt')\n",
    "rd = np.loadtxt('/RHESSys/jemez/scripts/%s_rd.txt'%calname)\n",
    "po = np.loadtxt('/RHESSys/jemez/scripts/%s_po.txt'%calname)\n",
    "pa = np.loadtxt('/RHESSys/jemez/scripts/%s_pa.txt'%calname)\n",
    "lai = np.loadtxt('/RHESSys/jemez/scripts/%s_lai.txt'%calname)\n",
    "#sd = np.loadtxt('/RHESSys/jemez/scripts/%s_sd.txt'%calname)"
   ]
  },
  {
   "cell_type": "code",
   "execution_count": 6,
   "metadata": {
    "collapsed": false
   },
   "outputs": [],
   "source": [
    "strt = 2010\n",
    "nd = 2010"
   ]
  },
  {
   "cell_type": "code",
   "execution_count": 7,
   "metadata": {
    "collapsed": false
   },
   "outputs": [
    {
     "name": "stderr",
     "output_type": "stream",
     "text": [
      "/Users/barnhatb/anaconda/lib/python2.7/site-packages/ipykernel/__main__.py:5: FutureWarning: how in .resample() is deprecated\n",
      "the new syntax is .resample(...)..apply(<func>)\n",
      "/Users/barnhatb/anaconda/lib/python2.7/site-packages/ipykernel/__main__.py:6: FutureWarning: how in .resample() is deprecated\n",
      "the new syntax is .resample(...)..apply(<func>)\n"
     ]
    }
   ],
   "source": [
    "# load ET calibration data\n",
    "FT = pd.read_pickle('./data/VCM_2.pcl')\n",
    "FT['wateryear'] = FT.index.map(rh.wateryear)\n",
    "FT_daily = FT.loc[(FT.wateryear>=strt) & (FT.wateryear<=nd),:]\n",
    "FT_weekly = FT_daily.resample('W',how=np.sum)\n",
    "FT_monthly = FT_daily.resample('M',how=np.sum)"
   ]
  },
  {
   "cell_type": "code",
   "execution_count": 8,
   "metadata": {
    "collapsed": false
   },
   "outputs": [
    {
     "name": "stderr",
     "output_type": "stream",
     "text": [
      "/Users/barnhatb/anaconda/lib/python2.7/site-packages/ipykernel/__main__.py:5: FutureWarning: how in .resample() is deprecated\n",
      "the new syntax is .resample(...)..apply(<func>)\n",
      "/Users/barnhatb/anaconda/lib/python2.7/site-packages/ipykernel/__main__.py:6: FutureWarning: how in .resample() is deprecated\n",
      "the new syntax is .resample(...)..apply(<func>)\n"
     ]
    }
   ],
   "source": [
    "# load streamflow calibration data\n",
    "Q = pd.read_pickle('./data/lower_lajara_specific_discharge.pcl')\n",
    "Q['wateryear'] = Q.index.map(rh.wateryear)\n",
    "Q_daily = Q.loc[(Q.wateryear>=strt) & (Q.wateryear<=nd),:]\n",
    "Q_weekly = Q_daily.resample('W',how=np.sum)\n",
    "Q_monthly = Q_daily.resample('M',how=np.sum)"
   ]
  },
  {
   "cell_type": "code",
   "execution_count": 9,
   "metadata": {
    "collapsed": false
   },
   "outputs": [
    {
     "name": "stderr",
     "output_type": "stream",
     "text": [
      "[stderr:4] \n",
      "/Users/barnhatb/anaconda/bin/ipengine:12: FutureWarning: how in .resample() is deprecated\n",
      "the new syntax is .resample(...)..apply(<func>)\n",
      "/Users/barnhatb/anaconda/bin/ipengine:13: FutureWarning: how in .resample() is deprecated\n",
      "the new syntax is .resample(...)..apply(<func>)\n",
      "/Users/barnhatb/anaconda/bin/ipengine:18: FutureWarning: how in .resample() is deprecated\n",
      "the new syntax is .resample(...)..apply(<func>)\n",
      "/Users/barnhatb/anaconda/bin/ipengine:19: FutureWarning: how in .resample() is deprecated\n",
      "the new syntax is .resample(...)..apply(<func>)\n",
      "[stderr:5] \n",
      "/Users/barnhatb/anaconda/bin/ipengine:12: FutureWarning: how in .resample() is deprecated\n",
      "the new syntax is .resample(...)..apply(<func>)\n",
      "/Users/barnhatb/anaconda/bin/ipengine:13: FutureWarning: how in .resample() is deprecated\n",
      "the new syntax is .resample(...)..apply(<func>)\n",
      "/Users/barnhatb/anaconda/bin/ipengine:18: FutureWarning: how in .resample() is deprecated\n",
      "the new syntax is .resample(...)..apply(<func>)\n",
      "/Users/barnhatb/anaconda/bin/ipengine:19: FutureWarning: how in .resample() is deprecated\n",
      "the new syntax is .resample(...)..apply(<func>)\n",
      "[stderr:6] \n",
      "/Users/barnhatb/anaconda/bin/ipengine:12: FutureWarning: how in .resample() is deprecated\n",
      "the new syntax is .resample(...)..apply(<func>)\n",
      "/Users/barnhatb/anaconda/bin/ipengine:13: FutureWarning: how in .resample() is deprecated\n",
      "the new syntax is .resample(...)..apply(<func>)\n",
      "/Users/barnhatb/anaconda/bin/ipengine:18: FutureWarning: how in .resample() is deprecated\n",
      "the new syntax is .resample(...)..apply(<func>)\n",
      "/Users/barnhatb/anaconda/bin/ipengine:19: FutureWarning: how in .resample() is deprecated\n",
      "the new syntax is .resample(...)..apply(<func>)\n",
      "[stderr:7] \n",
      "/Users/barnhatb/anaconda/bin/ipengine:12: FutureWarning: how in .resample() is deprecated\n",
      "the new syntax is .resample(...)..apply(<func>)\n",
      "/Users/barnhatb/anaconda/bin/ipengine:13: FutureWarning: how in .resample() is deprecated\n",
      "the new syntax is .resample(...)..apply(<func>)\n",
      "/Users/barnhatb/anaconda/bin/ipengine:18: FutureWarning: how in .resample() is deprecated\n",
      "the new syntax is .resample(...)..apply(<func>)\n",
      "/Users/barnhatb/anaconda/bin/ipengine:19: FutureWarning: how in .resample() is deprecated\n",
      "the new syntax is .resample(...)..apply(<func>)\n",
      "[stderr:8] \n",
      "/Users/barnhatb/anaconda/bin/ipengine:12: FutureWarning: how in .resample() is deprecated\n",
      "the new syntax is .resample(...)..apply(<func>)\n",
      "/Users/barnhatb/anaconda/bin/ipengine:13: FutureWarning: how in .resample() is deprecated\n",
      "the new syntax is .resample(...)..apply(<func>)\n",
      "/Users/barnhatb/anaconda/bin/ipengine:18: FutureWarning: how in .resample() is deprecated\n",
      "the new syntax is .resample(...)..apply(<func>)\n",
      "/Users/barnhatb/anaconda/bin/ipengine:19: FutureWarning: how in .resample() is deprecated\n",
      "the new syntax is .resample(...)..apply(<func>)\n",
      "[stderr:9] \n",
      "/Users/barnhatb/anaconda/bin/ipengine:12: FutureWarning: how in .resample() is deprecated\n",
      "the new syntax is .resample(...)..apply(<func>)\n",
      "/Users/barnhatb/anaconda/bin/ipengine:13: FutureWarning: how in .resample() is deprecated\n",
      "the new syntax is .resample(...)..apply(<func>)\n",
      "/Users/barnhatb/anaconda/bin/ipengine:18: FutureWarning: how in .resample() is deprecated\n",
      "the new syntax is .resample(...)..apply(<func>)\n",
      "/Users/barnhatb/anaconda/bin/ipengine:19: FutureWarning: how in .resample() is deprecated\n",
      "the new syntax is .resample(...)..apply(<func>)\n",
      "[stderr:10] \n",
      "/Users/barnhatb/anaconda/bin/ipengine:12: FutureWarning: how in .resample() is deprecated\n",
      "the new syntax is .resample(...)..apply(<func>)\n",
      "/Users/barnhatb/anaconda/bin/ipengine:13: FutureWarning: how in .resample() is deprecated\n",
      "the new syntax is .resample(...)..apply(<func>)\n",
      "/Users/barnhatb/anaconda/bin/ipengine:18: FutureWarning: how in .resample() is deprecated\n",
      "the new syntax is .resample(...)..apply(<func>)\n",
      "/Users/barnhatb/anaconda/bin/ipengine:19: FutureWarning: how in .resample() is deprecated\n",
      "the new syntax is .resample(...)..apply(<func>)\n",
      "[stderr:11] \n",
      "/Users/barnhatb/anaconda/bin/ipengine:12: FutureWarning: how in .resample() is deprecated\n",
      "the new syntax is .resample(...)..apply(<func>)\n",
      "/Users/barnhatb/anaconda/bin/ipengine:13: FutureWarning: how in .resample() is deprecated\n",
      "the new syntax is .resample(...)..apply(<func>)\n",
      "/Users/barnhatb/anaconda/bin/ipengine:18: FutureWarning: how in .resample() is deprecated\n",
      "the new syntax is .resample(...)..apply(<func>)\n",
      "/Users/barnhatb/anaconda/bin/ipengine:19: FutureWarning: how in .resample() is deprecated\n",
      "the new syntax is .resample(...)..apply(<func>)\n",
      "[stderr:12] \n",
      "/Users/barnhatb/anaconda2/bin/ipengine:12: FutureWarning: how in .resample() is deprecated\n",
      "the new syntax is .resample(...)..apply(<func>)\n",
      "/Users/barnhatb/anaconda2/bin/ipengine:13: FutureWarning: how in .resample() is deprecated\n",
      "the new syntax is .resample(...)..apply(<func>)\n",
      "/Users/barnhatb/anaconda2/bin/ipengine:18: FutureWarning: how in .resample() is deprecated\n",
      "the new syntax is .resample(...)..apply(<func>)\n",
      "/Users/barnhatb/anaconda2/bin/ipengine:19: FutureWarning: how in .resample() is deprecated\n",
      "the new syntax is .resample(...)..apply(<func>)\n",
      "[stderr:13] \n",
      "/Users/barnhatb/anaconda2/bin/ipengine:12: FutureWarning: how in .resample() is deprecated\n",
      "the new syntax is .resample(...)..apply(<func>)\n",
      "/Users/barnhatb/anaconda2/bin/ipengine:13: FutureWarning: how in .resample() is deprecated\n",
      "the new syntax is .resample(...)..apply(<func>)\n",
      "/Users/barnhatb/anaconda2/bin/ipengine:18: FutureWarning: how in .resample() is deprecated\n",
      "the new syntax is .resample(...)..apply(<func>)\n",
      "/Users/barnhatb/anaconda2/bin/ipengine:19: FutureWarning: how in .resample() is deprecated\n",
      "the new syntax is .resample(...)..apply(<func>)\n",
      "[stderr:14] \n",
      "/Users/barnhatb/anaconda2/bin/ipengine:12: FutureWarning: how in .resample() is deprecated\n",
      "the new syntax is .resample(...)..apply(<func>)\n",
      "/Users/barnhatb/anaconda2/bin/ipengine:13: FutureWarning: how in .resample() is deprecated\n",
      "the new syntax is .resample(...)..apply(<func>)\n",
      "/Users/barnhatb/anaconda2/bin/ipengine:18: FutureWarning: how in .resample() is deprecated\n",
      "the new syntax is .resample(...)..apply(<func>)\n",
      "/Users/barnhatb/anaconda2/bin/ipengine:19: FutureWarning: how in .resample() is deprecated\n",
      "the new syntax is .resample(...)..apply(<func>)\n",
      "[stderr:15] \n",
      "/Users/barnhatb/anaconda2/bin/ipengine:12: FutureWarning: how in .resample() is deprecated\n",
      "the new syntax is .resample(...)..apply(<func>)\n",
      "/Users/barnhatb/anaconda2/bin/ipengine:13: FutureWarning: how in .resample() is deprecated\n",
      "the new syntax is .resample(...)..apply(<func>)\n",
      "/Users/barnhatb/anaconda2/bin/ipengine:18: FutureWarning: how in .resample() is deprecated\n",
      "the new syntax is .resample(...)..apply(<func>)\n",
      "/Users/barnhatb/anaconda2/bin/ipengine:19: FutureWarning: how in .resample() is deprecated\n",
      "the new syntax is .resample(...)..apply(<func>)\n"
     ]
    }
   ],
   "source": [
    "%%px\n",
    "import numpy as np\n",
    "import pandas as pd\n",
    "from rhessys import utilities as rh\n",
    "import hydro.objective_fxns as ofx\n",
    "# set bounds on the data\n",
    "strt = 2010\n",
    "nd = 2010\n",
    "# load ET data\n",
    "FT = pd.read_pickle('/Volumes/Users/Theo/projects/RHESSys/jemez/data/VCM_2.pcl')\n",
    "FT['wateryear'] = FT.index.map(rh.wateryear)\n",
    "FT_daily = FT.loc[(FT.wateryear>=strt) & (FT.wateryear<=nd),:]\n",
    "FT_weekly = FT_daily.resample('W',how=np.sum)\n",
    "FT_monthly = FT_daily.resample('M',how=np.sum)\n",
    "# load streamflow data\n",
    "Q = pd.read_pickle('/Volumes/Users/Theo/projects/RHESSys/jemez/data/lower_lajara_specific_discharge.pcl')\n",
    "Q['wateryear'] = Q.index.map(rh.wateryear)\n",
    "Q_daily = Q.loc[(Q.wateryear>=strt) & (Q.wateryear<=nd),:]\n",
    "Q_weekly = Q_daily.resample('W',how=np.sum)\n",
    "Q_monthly = Q_daily.resample('M',how=np.sum)"
   ]
  },
  {
   "cell_type": "code",
   "execution_count": 10,
   "metadata": {
    "collapsed": false
   },
   "outputs": [],
   "source": [
    "files = glob.glob('/RHESSys/jemez/out/%s/*_basin.daily'%calname)"
   ]
  },
  {
   "cell_type": "code",
   "execution_count": 11,
   "metadata": {
    "collapsed": true
   },
   "outputs": [],
   "source": [
    "cals = pd.DataFrame({'files':files})"
   ]
  },
  {
   "cell_type": "code",
   "execution_count": 12,
   "metadata": {
    "collapsed": false
   },
   "outputs": [
    {
     "data": {
      "text/html": [
       "<div>\n",
       "<table border=\"1\" class=\"dataframe\">\n",
       "  <thead>\n",
       "    <tr style=\"text-align: right;\">\n",
       "      <th></th>\n",
       "      <th>files</th>\n",
       "    </tr>\n",
       "  </thead>\n",
       "  <tbody>\n",
       "    <tr>\n",
       "      <th>0</th>\n",
       "      <td>/RHESSys/jemez/out/et_cal57/et_cal57_0_basin.d...</td>\n",
       "    </tr>\n",
       "    <tr>\n",
       "      <th>1</th>\n",
       "      <td>/RHESSys/jemez/out/et_cal57/et_cal57_10000_bas...</td>\n",
       "    </tr>\n",
       "    <tr>\n",
       "      <th>2</th>\n",
       "      <td>/RHESSys/jemez/out/et_cal57/et_cal57_10001_bas...</td>\n",
       "    </tr>\n",
       "    <tr>\n",
       "      <th>3</th>\n",
       "      <td>/RHESSys/jemez/out/et_cal57/et_cal57_10002_bas...</td>\n",
       "    </tr>\n",
       "    <tr>\n",
       "      <th>4</th>\n",
       "      <td>/RHESSys/jemez/out/et_cal57/et_cal57_10003_bas...</td>\n",
       "    </tr>\n",
       "  </tbody>\n",
       "</table>\n",
       "</div>"
      ],
      "text/plain": [
       "                                               files\n",
       "0  /RHESSys/jemez/out/et_cal57/et_cal57_0_basin.d...\n",
       "1  /RHESSys/jemez/out/et_cal57/et_cal57_10000_bas...\n",
       "2  /RHESSys/jemez/out/et_cal57/et_cal57_10001_bas...\n",
       "3  /RHESSys/jemez/out/et_cal57/et_cal57_10002_bas...\n",
       "4  /RHESSys/jemez/out/et_cal57/et_cal57_10003_bas..."
      ]
     },
     "execution_count": 12,
     "metadata": {},
     "output_type": "execute_result"
    }
   ],
   "source": [
    "cals.head()"
   ]
  },
  {
   "cell_type": "code",
   "execution_count": 13,
   "metadata": {
    "collapsed": false
   },
   "outputs": [
    {
     "data": {
      "text/plain": [
       "(20000, 1)"
      ]
     },
     "execution_count": 13,
     "metadata": {},
     "output_type": "execute_result"
    }
   ],
   "source": [
    "cals.shape"
   ]
  },
  {
   "cell_type": "code",
   "execution_count": 24,
   "metadata": {
    "collapsed": false
   },
   "outputs": [],
   "source": [
    "def calc_obfx(fl):\n",
    "    \n",
    "    # extract idx\n",
    "    idx = int(fl.split('/')[-1].split('_')[-2])\n",
    "    prefix = '/Volumes/ullr'\n",
    "    fl2 = '%s%s'%(prefix,fl)\n",
    "    \n",
    "    # load and process the data\n",
    "    dat = rh.readRHESSysBasin(fl2)\n",
    "    dat_daily = dat.loc[(dat.wateryear>=strt) & (dat.wateryear<=nd),:] # crop by water year\n",
    "    dat_weekly = dat.resample('W', how= np.sum)\n",
    "    dat_monthly = dat.resample('M', how= np.sum)\n",
    "    \n",
    "    # compute ET metrics\n",
    "    nse_ET_daily = ofx.nashsut(FT_daily.ET,dat_daily.ET) # daily NSE\n",
    "    nse_ET_weekly = ofx.nashsut(FT_weekly.ET,dat_weekly.ET) # weekly NSE\n",
    "    nse_ET_monthly = ofx.nashsut(FT_monthly.ET,dat_monthly.ET) # monthly NSE\n",
    "    pe_ET_daily = ofx.percenterror (FT_daily.ET,dat_daily.ET) # daily PE\n",
    "    pe_ET_weekly = ofx.percenterror(FT_weekly.ET,dat_weekly.ET) # weekly PE\n",
    "    pe_ET_monthly = ofx.percenterror(FT_monthly.ET,dat_monthly.ET) # monthly PE\n",
    "    \n",
    "    # compute Streamflow metrics\n",
    "    nse_SF_daily = ofx.nashsut(Q_daily.discharge,dat_daily.streamflow) # daily NSE\n",
    "    nse_SF_weekly = ofx.nashsut(Q_weekly.discharge,dat_weekly.streamflow) # weekly NSE\n",
    "    nse_SF_monthly = ofx.nashsut(Q_monthly.discharge,dat_monthly.streamflow) # monthly NSE\n",
    "    pe_SF_daily = ofx.percenterror (Q_daily.discharge,dat_daily.streamflow) # daily PE\n",
    "    pe_SF_weekly = ofx.percenterror(Q_weekly.discharge,dat_weekly.streamflow) # weekly PE\n",
    "    pe_SF_monthly = ofx.percenterror(Q_monthly.discharge,dat_monthly.streamflow) # monthly PE\n",
    "    \n",
    "    nse_et_wt = 0.25\n",
    "    pe_et_wt = 0.25\n",
    "    nse_sf_wt = 0.25\n",
    "    pe_sf_wt = 0.25\n",
    "    \n",
    "    \n",
    "    # compute daily metric\n",
    "    #daily = np.nanmean(np.array([nse_ET_daily,nse_SF_daily,(1-(pe_ET_daily/100.)),(1-(pe_SF_daily/100.))]))\n",
    "    \n",
    "    daily = np.nansum([nse_et_wt*nse_ET_daily,nse_sf_wt*nse_SF_daily,pe_et_wt*(1-(pe_ET_daily/100.)),pe_sf_wt*(1-(pe_SF_daily/100.))])\n",
    "    \n",
    "    # compute weekly metric\n",
    "    #weekly = np.nanmean([nse_ET_weekly,nse_SF_weekly,(1-(pe_ET_weekly/100.)),(1-(pe_SF_weekly/100.))])\n",
    "        \n",
    "    weekly = np.nansum([nse_et_wt*nse_ET_weekly,nse_sf_wt*nse_SF_weekly,pe_et_wt*(1-(pe_ET_weekly/100.)),pe_sf_wt*(1-(pe_SF_weekly/100.))])\n",
    "    \n",
    "    # compute monthly metric\n",
    "    #monthly = np.nanmean([nse_ET_monthly,nse_SF_monthly,(1-(pe_ET_monthly/100.)),(1-(pe_SF_monthly/100.))])\n",
    "    \n",
    "    monthly = np.nansum([nse_et_wt*nse_ET_monthly,nse_sf_wt*nse_SF_monthly,pe_et_wt*(1-(pe_ET_monthly/100.)),pe_sf_wt*(1-(pe_SF_monthly/100.))])\n",
    "    \n",
    "    return (idx,nse_ET_daily,nse_ET_weekly,nse_ET_monthly,pe_ET_daily,pe_ET_weekly,pe_ET_monthly,nse_SF_daily,\n",
    "            nse_SF_weekly,nse_SF_monthly,pe_SF_daily,pe_SF_weekly,pe_SF_monthly,daily,weekly,monthly)"
   ]
  },
  {
   "cell_type": "code",
   "execution_count": 25,
   "metadata": {
    "collapsed": true
   },
   "outputs": [],
   "source": [
    "res = view.map(calc_obfx,cals.files)"
   ]
  },
  {
   "cell_type": "code",
   "execution_count": 26,
   "metadata": {
    "collapsed": true
   },
   "outputs": [],
   "source": [
    "p = pb.ProgressBar(len(cals))"
   ]
  },
  {
   "cell_type": "code",
   "execution_count": 27,
   "metadata": {
    "collapsed": false
   },
   "outputs": [
    {
     "name": "stdout",
     "output_type": "stream",
     "text": [
      "[*****************99%******************]  19702 of 20000 complete\n"
     ]
    }
   ],
   "source": [
    "while res.ready() == False:\n",
    "    p.animate_ipython(res.progress)\n",
    "    time.sleep(2)\n",
    "\n",
    "alert.send_alert('barnhatb@colorado.edu','Processing %s has finished'%calname,'Your script has finished')"
   ]
  },
  {
   "cell_type": "code",
   "execution_count": 28,
   "metadata": {
    "collapsed": false
   },
   "outputs": [
    {
     "data": {
      "text/plain": [
       "\u001b[0;31mOut[4:6]: \u001b[0mu'/Volumes/Users/Theo/projects'"
      ]
     },
     "metadata": {},
     "output_type": "display_data"
    },
    {
     "data": {
      "text/plain": [
       "\u001b[0;31mOut[5:6]: \u001b[0mu'/Volumes/Users/Theo/projects'"
      ]
     },
     "metadata": {},
     "output_type": "display_data"
    },
    {
     "data": {
      "text/plain": [
       "\u001b[0;31mOut[6:6]: \u001b[0mu'/Volumes/Users/Theo/projects'"
      ]
     },
     "metadata": {},
     "output_type": "display_data"
    },
    {
     "data": {
      "text/plain": [
       "\u001b[0;31mOut[7:6]: \u001b[0mu'/Volumes/Users/Theo/projects'"
      ]
     },
     "metadata": {},
     "output_type": "display_data"
    },
    {
     "data": {
      "text/plain": [
       "\u001b[0;31mOut[8:6]: \u001b[0mu'/Volumes/Users/Theo/projects'"
      ]
     },
     "metadata": {},
     "output_type": "display_data"
    },
    {
     "data": {
      "text/plain": [
       "\u001b[0;31mOut[9:6]: \u001b[0mu'/Volumes/Users/Theo/projects'"
      ]
     },
     "metadata": {},
     "output_type": "display_data"
    },
    {
     "data": {
      "text/plain": [
       "\u001b[0;31mOut[10:6]: \u001b[0mu'/Volumes/Users/Theo/projects'"
      ]
     },
     "metadata": {},
     "output_type": "display_data"
    },
    {
     "data": {
      "text/plain": [
       "\u001b[0;31mOut[11:6]: \u001b[0mu'/Volumes/Users/Theo/projects'"
      ]
     },
     "metadata": {},
     "output_type": "display_data"
    },
    {
     "data": {
      "text/plain": [
       "\u001b[0;31mOut[12:5]: \u001b[0mu'/Volumes/ullr'"
      ]
     },
     "metadata": {},
     "output_type": "display_data"
    },
    {
     "data": {
      "text/plain": [
       "\u001b[0;31mOut[13:5]: \u001b[0mu'/Volumes/ullr'"
      ]
     },
     "metadata": {},
     "output_type": "display_data"
    },
    {
     "data": {
      "text/plain": [
       "\u001b[0;31mOut[14:5]: \u001b[0mu'/Volumes/ullr'"
      ]
     },
     "metadata": {},
     "output_type": "display_data"
    },
    {
     "data": {
      "text/plain": [
       "\u001b[0;31mOut[15:5]: \u001b[0mu'/Volumes/ullr'"
      ]
     },
     "metadata": {},
     "output_type": "display_data"
    }
   ],
   "source": [
    "%px pwd"
   ]
  },
  {
   "cell_type": "code",
   "execution_count": 21,
   "metadata": {
    "collapsed": false
   },
   "outputs": [
    {
     "data": {
      "text/plain": [
       "True"
      ]
     },
     "execution_count": 21,
     "metadata": {},
     "output_type": "execute_result"
    }
   ],
   "source": [
    "res.ready()"
   ]
  },
  {
   "cell_type": "code",
   "execution_count": 29,
   "metadata": {
    "collapsed": false
   },
   "outputs": [],
   "source": [
    "idx,nse_ET_daily,nse_ET_weekly,nse_ET_monthly,pe_ET_daily,pe_ET_weekly,pe_ET_monthly,nse_SF_daily,nse_SF_weekly,nse_SF_monthly,pe_SF_daily,pe_SF_weekly,pe_SF_monthly,daily,weekly,monthly = zip(*res.result())"
   ]
  },
  {
   "cell_type": "code",
   "execution_count": 40,
   "metadata": {
    "collapsed": false
   },
   "outputs": [],
   "source": [
    "tmp1 = pd.DataFrame({'rd':rd,'m':m,'ksat':ksat,'po':po,'pa':pa,'idx':np.arange(0,len(cals)),'lai':lai,'gw1':gw1,'gw2':gw2})\n",
    "tmp2 = pd.DataFrame({'idx':idx,'nse_ET_daily':nse_ET_daily,'nse_ET_weekly':nse_ET_weekly,'nse_ET_monthly':nse_ET_monthly,\n",
    "                     'pe_ET_daily':pe_ET_daily,'pe_ET_weekly':pe_ET_weekly,'pe_ET_monthly':pe_ET_monthly,\n",
    "                     'nse_SF_daily':nse_SF_daily,'nse_SF_weekly':nse_SF_weekly,'nse_SF_monthly':nse_SF_monthly,\n",
    "                     'pe_SF_daily':pe_SF_daily,'pe_SF_weekly':pe_SF_weekly,'pe_SF_monthly':pe_SF_monthly,\n",
    "                     'daily':daily,'weekly':weekly,'monthly':monthly})\n",
    "\n",
    "df = pd.merge(left=tmp1,right=tmp2,on='idx')"
   ]
  },
  {
   "cell_type": "code",
   "execution_count": 41,
   "metadata": {
    "collapsed": false
   },
   "outputs": [],
   "source": [
    "df.to_pickle('./data/%s.pcl'%calname)"
   ]
  },
  {
   "cell_type": "code",
   "execution_count": 32,
   "metadata": {
    "collapsed": false
   },
   "outputs": [
    {
     "name": "stderr",
     "output_type": "stream",
     "text": [
      "/Users/barnhatb/anaconda/lib/python2.7/site-packages/ipykernel/__main__.py:7: FutureWarning: how in .resample() is deprecated\n",
      "the new syntax is .resample(...)..apply(<func>)\n"
     ]
    }
   ],
   "source": [
    "var = 'monthly'\n",
    "idx = df[var].idxmax()\n",
    "#idx = 16861\n",
    "#calname = 'et_cal54'\n",
    "dat = rut.readRHESSysBasin('/RHESSys/jemez/out/%s/%s_%s_basin.daily'%(calname,calname,idx))\n",
    "dat_daily = dat.loc[(dat.wateryear>=strt)&(dat.wateryear<=nd)]\n",
    "dat_monthly = dat_daily.resample('M',how=np.nansum)\n",
    "\n",
    "#[('%s: %s'%(key,df.loc[df[var]==df[var].max()][key].as_matrix())) for key in df.columns]"
   ]
  },
  {
   "cell_type": "code",
   "execution_count": 33,
   "metadata": {
    "collapsed": false
   },
   "outputs": [
    {
     "data": {
      "text/plain": [
       "8111"
      ]
     },
     "execution_count": 33,
     "metadata": {},
     "output_type": "execute_result"
    }
   ],
   "source": [
    "idx"
   ]
  },
  {
   "cell_type": "code",
   "execution_count": 34,
   "metadata": {
    "collapsed": false
   },
   "outputs": [
    {
     "data": {
      "text/html": [
       "<div>\n",
       "<table border=\"1\" class=\"dataframe\">\n",
       "  <thead>\n",
       "    <tr style=\"text-align: right;\">\n",
       "      <th></th>\n",
       "      <th>idx</th>\n",
       "      <th>ksat</th>\n",
       "      <th>m</th>\n",
       "      <th>pa</th>\n",
       "      <th>po</th>\n",
       "      <th>rd</th>\n",
       "      <th>daily</th>\n",
       "      <th>monthly</th>\n",
       "      <th>nse_ET_daily</th>\n",
       "      <th>nse_ET_monthly</th>\n",
       "      <th>...</th>\n",
       "      <th>nse_SF_daily</th>\n",
       "      <th>nse_SF_monthly</th>\n",
       "      <th>nse_SF_weekly</th>\n",
       "      <th>pe_ET_daily</th>\n",
       "      <th>pe_ET_monthly</th>\n",
       "      <th>pe_ET_weekly</th>\n",
       "      <th>pe_SF_daily</th>\n",
       "      <th>pe_SF_monthly</th>\n",
       "      <th>pe_SF_weekly</th>\n",
       "      <th>weekly</th>\n",
       "    </tr>\n",
       "  </thead>\n",
       "  <tbody>\n",
       "    <tr>\n",
       "      <th>8111</th>\n",
       "      <td>8111</td>\n",
       "      <td>440.81</td>\n",
       "      <td>19.024</td>\n",
       "      <td>0.068</td>\n",
       "      <td>3.644</td>\n",
       "      <td>1.991</td>\n",
       "      <td>0.422869</td>\n",
       "      <td>0.726032</td>\n",
       "      <td>-0.865502</td>\n",
       "      <td>0.220276</td>\n",
       "      <td>...</td>\n",
       "      <td>0.577751</td>\n",
       "      <td>0.697226</td>\n",
       "      <td>0.606689</td>\n",
       "      <td>1.103659</td>\n",
       "      <td>0.555708</td>\n",
       "      <td>0.841689</td>\n",
       "      <td>0.973782</td>\n",
       "      <td>0.78161</td>\n",
       "      <td>1.017541</td>\n",
       "      <td>0.487282</td>\n",
       "    </tr>\n",
       "  </tbody>\n",
       "</table>\n",
       "<p>1 rows × 21 columns</p>\n",
       "</div>"
      ],
      "text/plain": [
       "       idx    ksat       m     pa     po     rd     daily   monthly  \\\n",
       "8111  8111  440.81  19.024  0.068  3.644  1.991  0.422869  0.726032   \n",
       "\n",
       "      nse_ET_daily  nse_ET_monthly    ...     nse_SF_daily  nse_SF_monthly  \\\n",
       "8111     -0.865502        0.220276    ...         0.577751        0.697226   \n",
       "\n",
       "      nse_SF_weekly  pe_ET_daily  pe_ET_monthly  pe_ET_weekly  pe_SF_daily  \\\n",
       "8111       0.606689     1.103659       0.555708      0.841689     0.973782   \n",
       "\n",
       "      pe_SF_monthly  pe_SF_weekly    weekly  \n",
       "8111        0.78161      1.017541  0.487282  \n",
       "\n",
       "[1 rows x 21 columns]"
      ]
     },
     "execution_count": 34,
     "metadata": {},
     "output_type": "execute_result"
    }
   ],
   "source": [
    "df.loc[df.monthly == df.monthly.max()]"
   ]
  },
  {
   "cell_type": "code",
   "execution_count": 38,
   "metadata": {
    "collapsed": false
   },
   "outputs": [
    {
     "data": {
      "text/html": [
       "<div>\n",
       "<table border=\"1\" class=\"dataframe\">\n",
       "  <thead>\n",
       "    <tr style=\"text-align: right;\">\n",
       "      <th></th>\n",
       "      <th>idx</th>\n",
       "      <th>ksat</th>\n",
       "      <th>m</th>\n",
       "      <th>pa</th>\n",
       "      <th>po</th>\n",
       "      <th>rd</th>\n",
       "      <th>daily</th>\n",
       "      <th>monthly</th>\n",
       "      <th>nse_ET_daily</th>\n",
       "      <th>nse_ET_monthly</th>\n",
       "      <th>...</th>\n",
       "      <th>nse_SF_daily</th>\n",
       "      <th>nse_SF_monthly</th>\n",
       "      <th>nse_SF_weekly</th>\n",
       "      <th>pe_ET_daily</th>\n",
       "      <th>pe_ET_monthly</th>\n",
       "      <th>pe_ET_weekly</th>\n",
       "      <th>pe_SF_daily</th>\n",
       "      <th>pe_SF_monthly</th>\n",
       "      <th>pe_SF_weekly</th>\n",
       "      <th>weekly</th>\n",
       "    </tr>\n",
       "  </thead>\n",
       "  <tbody>\n",
       "    <tr>\n",
       "      <th>count</th>\n",
       "      <td>20000.000000</td>\n",
       "      <td>20000.000000</td>\n",
       "      <td>20000.000000</td>\n",
       "      <td>20000.000000</td>\n",
       "      <td>20000.000000</td>\n",
       "      <td>20000.000000</td>\n",
       "      <td>20000.000000</td>\n",
       "      <td>20000.000000</td>\n",
       "      <td>20000.000000</td>\n",
       "      <td>20000.000000</td>\n",
       "      <td>...</td>\n",
       "      <td>20000.000000</td>\n",
       "      <td>20000.000000</td>\n",
       "      <td>20000.000000</td>\n",
       "      <td>20000.000000</td>\n",
       "      <td>20000.000000</td>\n",
       "      <td>20000.000000</td>\n",
       "      <td>20000.000000</td>\n",
       "      <td>20000.000000</td>\n",
       "      <td>20000.000000</td>\n",
       "      <td>20000.000000</td>\n",
       "    </tr>\n",
       "    <tr>\n",
       "      <th>mean</th>\n",
       "      <td>9999.500000</td>\n",
       "      <td>351.607231</td>\n",
       "      <td>9.950961</td>\n",
       "      <td>1.210906</td>\n",
       "      <td>1.885809</td>\n",
       "      <td>4.512041</td>\n",
       "      <td>-16.759634</td>\n",
       "      <td>-14.008103</td>\n",
       "      <td>-1.036184</td>\n",
       "      <td>-1.434540</td>\n",
       "      <td>...</td>\n",
       "      <td>-67.926431</td>\n",
       "      <td>-56.532904</td>\n",
       "      <td>-66.051819</td>\n",
       "      <td>1.126854</td>\n",
       "      <td>0.744218</td>\n",
       "      <td>0.847693</td>\n",
       "      <td>6.465372</td>\n",
       "      <td>5.752601</td>\n",
       "      <td>6.658709</td>\n",
       "      <td>-16.346856</td>\n",
       "    </tr>\n",
       "    <tr>\n",
       "      <th>std</th>\n",
       "      <td>5773.647028</td>\n",
       "      <td>202.419746</td>\n",
       "      <td>5.774777</td>\n",
       "      <td>0.699313</td>\n",
       "      <td>1.098389</td>\n",
       "      <td>2.027680</td>\n",
       "      <td>18.828635</td>\n",
       "      <td>14.763044</td>\n",
       "      <td>0.207937</td>\n",
       "      <td>0.495072</td>\n",
       "      <td>...</td>\n",
       "      <td>75.359757</td>\n",
       "      <td>59.038172</td>\n",
       "      <td>72.562820</td>\n",
       "      <td>0.188022</td>\n",
       "      <td>0.090225</td>\n",
       "      <td>0.069054</td>\n",
       "      <td>3.906262</td>\n",
       "      <td>3.479867</td>\n",
       "      <td>3.974615</td>\n",
       "      <td>18.163447</td>\n",
       "    </tr>\n",
       "    <tr>\n",
       "      <th>min</th>\n",
       "      <td>0.000000</td>\n",
       "      <td>1.010000</td>\n",
       "      <td>0.011000</td>\n",
       "      <td>0.001000</td>\n",
       "      <td>0.001000</td>\n",
       "      <td>1.000000</td>\n",
       "      <td>-137.582852</td>\n",
       "      <td>-70.601577</td>\n",
       "      <td>-1.636699</td>\n",
       "      <td>-2.754919</td>\n",
       "      <td>...</td>\n",
       "      <td>-551.616606</td>\n",
       "      <td>-282.429962</td>\n",
       "      <td>-436.283704</td>\n",
       "      <td>0.822750</td>\n",
       "      <td>0.436835</td>\n",
       "      <td>0.628001</td>\n",
       "      <td>0.450186</td>\n",
       "      <td>0.339666</td>\n",
       "      <td>0.458422</td>\n",
       "      <td>-108.840070</td>\n",
       "    </tr>\n",
       "    <tr>\n",
       "      <th>25%</th>\n",
       "      <td>4999.750000</td>\n",
       "      <td>176.647500</td>\n",
       "      <td>4.877000</td>\n",
       "      <td>0.612750</td>\n",
       "      <td>0.928000</td>\n",
       "      <td>2.760000</td>\n",
       "      <td>-25.855958</td>\n",
       "      <td>-22.316245</td>\n",
       "      <td>-1.157787</td>\n",
       "      <td>-1.743346</td>\n",
       "      <td>...</td>\n",
       "      <td>-104.426145</td>\n",
       "      <td>-89.773240</td>\n",
       "      <td>-102.169724</td>\n",
       "      <td>0.952757</td>\n",
       "      <td>0.677793</td>\n",
       "      <td>0.788420</td>\n",
       "      <td>3.029223</td>\n",
       "      <td>2.652327</td>\n",
       "      <td>3.137805</td>\n",
       "      <td>-25.370366</td>\n",
       "    </tr>\n",
       "    <tr>\n",
       "      <th>50%</th>\n",
       "      <td>9999.500000</td>\n",
       "      <td>351.755000</td>\n",
       "      <td>9.971000</td>\n",
       "      <td>1.206000</td>\n",
       "      <td>1.889000</td>\n",
       "      <td>4.505000</td>\n",
       "      <td>-9.809686</td>\n",
       "      <td>-8.817423</td>\n",
       "      <td>-0.999845</td>\n",
       "      <td>-1.410346</td>\n",
       "      <td>...</td>\n",
       "      <td>-40.180141</td>\n",
       "      <td>-36.048523</td>\n",
       "      <td>-39.230640</td>\n",
       "      <td>1.089460</td>\n",
       "      <td>0.730082</td>\n",
       "      <td>0.837730</td>\n",
       "      <td>6.236240</td>\n",
       "      <td>5.543665</td>\n",
       "      <td>6.461241</td>\n",
       "      <td>-9.656574</td>\n",
       "    </tr>\n",
       "    <tr>\n",
       "      <th>75%</th>\n",
       "      <td>14999.250000</td>\n",
       "      <td>528.467500</td>\n",
       "      <td>14.940000</td>\n",
       "      <td>1.821000</td>\n",
       "      <td>2.835000</td>\n",
       "      <td>6.282000</td>\n",
       "      <td>-1.994279</td>\n",
       "      <td>-1.819276</td>\n",
       "      <td>-0.877122</td>\n",
       "      <td>-1.146796</td>\n",
       "      <td>...</td>\n",
       "      <td>-8.804825</td>\n",
       "      <td>-7.678400</td>\n",
       "      <td>-8.754848</td>\n",
       "      <td>1.313606</td>\n",
       "      <td>0.793156</td>\n",
       "      <td>0.910213</td>\n",
       "      <td>9.453372</td>\n",
       "      <td>8.508406</td>\n",
       "      <td>9.853066</td>\n",
       "      <td>-1.994366</td>\n",
       "    </tr>\n",
       "    <tr>\n",
       "      <th>max</th>\n",
       "      <td>19999.000000</td>\n",
       "      <td>699.980000</td>\n",
       "      <td>19.999000</td>\n",
       "      <td>2.419000</td>\n",
       "      <td>3.799000</td>\n",
       "      <td>7.999000</td>\n",
       "      <td>0.461232</td>\n",
       "      <td>0.726032</td>\n",
       "      <td>-0.289827</td>\n",
       "      <td>0.304403</td>\n",
       "      <td>...</td>\n",
       "      <td>0.719917</td>\n",
       "      <td>0.941170</td>\n",
       "      <td>0.748358</td>\n",
       "      <td>1.474088</td>\n",
       "      <td>0.961153</td>\n",
       "      <td>1.011247</td>\n",
       "      <td>18.088782</td>\n",
       "      <td>15.840091</td>\n",
       "      <td>17.843647</td>\n",
       "      <td>0.540967</td>\n",
       "    </tr>\n",
       "  </tbody>\n",
       "</table>\n",
       "<p>8 rows × 21 columns</p>\n",
       "</div>"
      ],
      "text/plain": [
       "                idx          ksat             m            pa            po  \\\n",
       "count  20000.000000  20000.000000  20000.000000  20000.000000  20000.000000   \n",
       "mean    9999.500000    351.607231      9.950961      1.210906      1.885809   \n",
       "std     5773.647028    202.419746      5.774777      0.699313      1.098389   \n",
       "min        0.000000      1.010000      0.011000      0.001000      0.001000   \n",
       "25%     4999.750000    176.647500      4.877000      0.612750      0.928000   \n",
       "50%     9999.500000    351.755000      9.971000      1.206000      1.889000   \n",
       "75%    14999.250000    528.467500     14.940000      1.821000      2.835000   \n",
       "max    19999.000000    699.980000     19.999000      2.419000      3.799000   \n",
       "\n",
       "                 rd         daily       monthly  nse_ET_daily  nse_ET_monthly  \\\n",
       "count  20000.000000  20000.000000  20000.000000  20000.000000    20000.000000   \n",
       "mean       4.512041    -16.759634    -14.008103     -1.036184       -1.434540   \n",
       "std        2.027680     18.828635     14.763044      0.207937        0.495072   \n",
       "min        1.000000   -137.582852    -70.601577     -1.636699       -2.754919   \n",
       "25%        2.760000    -25.855958    -22.316245     -1.157787       -1.743346   \n",
       "50%        4.505000     -9.809686     -8.817423     -0.999845       -1.410346   \n",
       "75%        6.282000     -1.994279     -1.819276     -0.877122       -1.146796   \n",
       "max        7.999000      0.461232      0.726032     -0.289827        0.304403   \n",
       "\n",
       "           ...       nse_SF_daily  nse_SF_monthly  nse_SF_weekly  \\\n",
       "count      ...       20000.000000    20000.000000   20000.000000   \n",
       "mean       ...         -67.926431      -56.532904     -66.051819   \n",
       "std        ...          75.359757       59.038172      72.562820   \n",
       "min        ...        -551.616606     -282.429962    -436.283704   \n",
       "25%        ...        -104.426145      -89.773240    -102.169724   \n",
       "50%        ...         -40.180141      -36.048523     -39.230640   \n",
       "75%        ...          -8.804825       -7.678400      -8.754848   \n",
       "max        ...           0.719917        0.941170       0.748358   \n",
       "\n",
       "        pe_ET_daily  pe_ET_monthly  pe_ET_weekly   pe_SF_daily  pe_SF_monthly  \\\n",
       "count  20000.000000   20000.000000  20000.000000  20000.000000   20000.000000   \n",
       "mean       1.126854       0.744218      0.847693      6.465372       5.752601   \n",
       "std        0.188022       0.090225      0.069054      3.906262       3.479867   \n",
       "min        0.822750       0.436835      0.628001      0.450186       0.339666   \n",
       "25%        0.952757       0.677793      0.788420      3.029223       2.652327   \n",
       "50%        1.089460       0.730082      0.837730      6.236240       5.543665   \n",
       "75%        1.313606       0.793156      0.910213      9.453372       8.508406   \n",
       "max        1.474088       0.961153      1.011247     18.088782      15.840091   \n",
       "\n",
       "       pe_SF_weekly        weekly  \n",
       "count  20000.000000  20000.000000  \n",
       "mean       6.658709    -16.346856  \n",
       "std        3.974615     18.163447  \n",
       "min        0.458422   -108.840070  \n",
       "25%        3.137805    -25.370366  \n",
       "50%        6.461241     -9.656574  \n",
       "75%        9.853066     -1.994366  \n",
       "max       17.843647      0.540967  \n",
       "\n",
       "[8 rows x 21 columns]"
      ]
     },
     "execution_count": 38,
     "metadata": {},
     "output_type": "execute_result"
    }
   ],
   "source": [
    "df.describe()"
   ]
  },
  {
   "cell_type": "code",
   "execution_count": 35,
   "metadata": {
    "collapsed": false
   },
   "outputs": [
    {
     "data": {
      "text/plain": [
       "<matplotlib.axes._subplots.AxesSubplot at 0x1807ad490>"
      ]
     },
     "execution_count": 35,
     "metadata": {},
     "output_type": "execute_result"
    },
    {
     "data": {
      "image/png": "[encoded data removed]",
      "text/plain": [
       "<matplotlib.figure.Figure at 0x10f993310>"
      ]
     },
     "metadata": {},
     "output_type": "display_data"
    }
   ],
   "source": [
    "df.monthly.hist(bins=100)"
   ]
  },
  {
   "cell_type": "code",
   "execution_count": 36,
   "metadata": {
    "collapsed": false
   },
   "outputs": [
    {
     "data": {
      "text/plain": [
       "<matplotlib.text.Text at 0x1841bd150>"
      ]
     },
     "execution_count": 36,
     "metadata": {},
     "output_type": "execute_result"
    },
    {
     "data": {
      "image/png": "[encoded data removed]",
      "text/plain": [
       "<matplotlib.figure.Figure at 0x16d8c0510>"
      ]
     },
     "metadata": {},
     "output_type": "display_data"
    }
   ],
   "source": [
    "plt.figure(figsize=(15,5))\n",
    "dat_monthly.streamflow.plot(label='Simulated',c='b')\n",
    "Q_monthly.discharge.plot(label='Observed',c='k')\n",
    "plt.legend()\n",
    "plt.title('Streamflow', fontsize=16)\n",
    "plt.ylabel('Q [mm]', fontsize=14)"
   ]
  },
  {
   "cell_type": "code",
   "execution_count": 37,
   "metadata": {
    "collapsed": false
   },
   "outputs": [
    {
     "data": {
      "text/plain": [
       "<matplotlib.text.Text at 0x1847b5050>"
      ]
     },
     "execution_count": 37,
     "metadata": {},
     "output_type": "execute_result"
    },
    {
     "data": {
      "image/png": "[encoded data removed]",
      "text/plain": [
       "<matplotlib.figure.Figure at 0x184795950>"
      ]
     },
     "metadata": {},
     "output_type": "display_data"
    }
   ],
   "source": [
    "plt.figure(figsize=(15,5))\n",
    "dat_monthly.ET.plot(label='Simulated',c='b')\n",
    "FT_monthly.ET.plot(label='Observed',c='k')\n",
    "plt.legend(loc='best')\n",
    "plt.title('Evapotranspiration', fontsize=16)\n",
    "plt.ylabel('ET [mm]', fontsize=14)"
   ]
  },
  {
   "cell_type": "code",
   "execution_count": null,
   "metadata": {
    "collapsed": true
   },
   "outputs": [],
   "source": []
  },
  {
   "cell_type": "code",
   "execution_count": 187,
   "metadata": {
    "collapsed": false
   },
   "outputs": [
    {
     "data": {
      "text/plain": [
       "<matplotlib.axes._subplots.AxesSubplot at 0x111dd7fd0>"
      ]
     },
     "execution_count": 187,
     "metadata": {},
     "output_type": "execute_result"
    },
    {
     "data": {
      "image/png": "[encoded data removed]",
      "text/plain": [
       "<matplotlib.figure.Figure at 0x14dd60750>"
      ]
     },
     "metadata": {},
     "output_type": "display_data"
    }
   ],
   "source": [
    "dat_daily.lai.plot()"
   ]
  },
  {
   "cell_type": "code",
   "execution_count": 125,
   "metadata": {
    "collapsed": false
   },
   "outputs": [
    {
     "data": {
      "text/plain": [
       "'et_cal54'"
      ]
     },
     "execution_count": 125,
     "metadata": {},
     "output_type": "execute_result"
    }
   ],
   "source": [
    "calname"
   ]
  },
  {
   "cell_type": "code",
   "execution_count": null,
   "metadata": {
    "collapsed": true
   },
   "outputs": [],
   "source": []
  }
 ],
 "metadata": {
  "kernelspec": {
   "display_name": "Python 2",
   "language": "python",
   "name": "python2"
  },
  "language_info": {
   "codemirror_mode": {
    "name": "ipython",
    "version": 2
   },
   "file_extension": ".py",
   "mimetype": "text/x-python",
   "name": "python",
   "nbconvert_exporter": "python",
   "pygments_lexer": "ipython2",
   "version": "2.7.12"
  }
 },
 "nbformat": 4,
 "nbformat_minor": 0
}
