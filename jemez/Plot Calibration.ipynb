{
 "cells": [
  {
   "cell_type": "code",
   "execution_count": 1,
   "metadata": {
    "collapsed": true
   },
   "outputs": [],
   "source": [
    "import rhessys.utilities as rut"
   ]
  },
  {
   "cell_type": "code",
   "execution_count": 5,
   "metadata": {
    "collapsed": false
   },
   "outputs": [],
   "source": [
    "cal = pd.read_pickle('./data/et_cal17.pcl')"
   ]
  },
  {
   "cell_type": "code",
   "execution_count": 6,
   "metadata": {
    "collapsed": false
   },
   "outputs": [
    {
     "data": {
      "text/html": [
       "<div>\n",
       "<table border=\"1\" class=\"dataframe\">\n",
       "  <thead>\n",
       "    <tr style=\"text-align: right;\">\n",
       "      <th></th>\n",
       "      <th>gs</th>\n",
       "      <th>idx</th>\n",
       "      <th>rd</th>\n",
       "      <th>nse</th>\n",
       "      <th>nse_weekly</th>\n",
       "      <th>pbias</th>\n",
       "      <th>pbias_weekly</th>\n",
       "      <th>pe</th>\n",
       "      <th>pe_weekly</th>\n",
       "      <th>weekly_metric</th>\n",
       "      <th>sd</th>\n",
       "    </tr>\n",
       "  </thead>\n",
       "  <tbody>\n",
       "    <tr>\n",
       "      <th>0</th>\n",
       "      <td>0.0014</td>\n",
       "      <td>0</td>\n",
       "      <td>3.50</td>\n",
       "      <td>-1.7158</td>\n",
       "      <td>-0.8142</td>\n",
       "      <td>0.1738</td>\n",
       "      <td>0.1864</td>\n",
       "      <td>0.9587</td>\n",
       "      <td>0.6699</td>\n",
       "      <td>0.089550</td>\n",
       "      <td>4</td>\n",
       "    </tr>\n",
       "    <tr>\n",
       "      <th>1</th>\n",
       "      <td>0.0089</td>\n",
       "      <td>1</td>\n",
       "      <td>0.92</td>\n",
       "      <td>-2.6431</td>\n",
       "      <td>-1.6393</td>\n",
       "      <td>0.1575</td>\n",
       "      <td>0.1622</td>\n",
       "      <td>1.2749</td>\n",
       "      <td>0.9040</td>\n",
       "      <td>-0.324170</td>\n",
       "      <td>4</td>\n",
       "    </tr>\n",
       "    <tr>\n",
       "      <th>2</th>\n",
       "      <td>0.0032</td>\n",
       "      <td>2</td>\n",
       "      <td>3.97</td>\n",
       "      <td>-2.1671</td>\n",
       "      <td>-1.1542</td>\n",
       "      <td>0.1537</td>\n",
       "      <td>0.1679</td>\n",
       "      <td>1.0730</td>\n",
       "      <td>0.7432</td>\n",
       "      <td>-0.080816</td>\n",
       "      <td>4</td>\n",
       "    </tr>\n",
       "    <tr>\n",
       "      <th>3</th>\n",
       "      <td>0.0017</td>\n",
       "      <td>3</td>\n",
       "      <td>0.89</td>\n",
       "      <td>-1.5000</td>\n",
       "      <td>-0.7303</td>\n",
       "      <td>0.2137</td>\n",
       "      <td>0.2154</td>\n",
       "      <td>0.9804</td>\n",
       "      <td>0.6984</td>\n",
       "      <td>0.131358</td>\n",
       "      <td>4</td>\n",
       "    </tr>\n",
       "    <tr>\n",
       "      <th>4</th>\n",
       "      <td>0.0022</td>\n",
       "      <td>4</td>\n",
       "      <td>3.92</td>\n",
       "      <td>-1.9038</td>\n",
       "      <td>-0.9390</td>\n",
       "      <td>0.1601</td>\n",
       "      <td>0.1736</td>\n",
       "      <td>1.0149</td>\n",
       "      <td>0.7035</td>\n",
       "      <td>0.026983</td>\n",
       "      <td>4</td>\n",
       "    </tr>\n",
       "  </tbody>\n",
       "</table>\n",
       "</div>"
      ],
      "text/plain": [
       "       gs  idx    rd     nse  nse_weekly   pbias  pbias_weekly      pe  \\\n",
       "0  0.0014    0  3.50 -1.7158     -0.8142  0.1738        0.1864  0.9587   \n",
       "1  0.0089    1  0.92 -2.6431     -1.6393  0.1575        0.1622  1.2749   \n",
       "2  0.0032    2  3.97 -2.1671     -1.1542  0.1537        0.1679  1.0730   \n",
       "3  0.0017    3  0.89 -1.5000     -0.7303  0.2137        0.2154  0.9804   \n",
       "4  0.0022    4  3.92 -1.9038     -0.9390  0.1601        0.1736  1.0149   \n",
       "\n",
       "   pe_weekly  weekly_metric  sd  \n",
       "0     0.6699       0.089550   4  \n",
       "1     0.9040      -0.324170   4  \n",
       "2     0.7432      -0.080816   4  \n",
       "3     0.6984       0.131358   4  \n",
       "4     0.7035       0.026983   4  "
      ]
     },
     "execution_count": 6,
     "metadata": {},
     "output_type": "execute_result"
    }
   ],
   "source": [
    "cal.head()"
   ]
  },
  {
   "cell_type": "code",
   "execution_count": 7,
   "metadata": {
    "collapsed": false
   },
   "outputs": [
    {
     "data": {
      "text/html": [
       "<div>\n",
       "<table border=\"1\" class=\"dataframe\">\n",
       "  <thead>\n",
       "    <tr style=\"text-align: right;\">\n",
       "      <th></th>\n",
       "      <th>gs</th>\n",
       "      <th>idx</th>\n",
       "      <th>rd</th>\n",
       "      <th>nse</th>\n",
       "      <th>nse_weekly</th>\n",
       "      <th>pbias</th>\n",
       "      <th>pbias_weekly</th>\n",
       "      <th>pe</th>\n",
       "      <th>pe_weekly</th>\n",
       "      <th>weekly_metric</th>\n",
       "      <th>sd</th>\n",
       "    </tr>\n",
       "  </thead>\n",
       "  <tbody>\n",
       "    <tr>\n",
       "      <th>2950</th>\n",
       "      <td>0.0004</td>\n",
       "      <td>2950</td>\n",
       "      <td>2.70</td>\n",
       "      <td>-0.21</td>\n",
       "      <td>0.1242</td>\n",
       "      <td>0.3288</td>\n",
       "      <td>0.3293</td>\n",
       "      <td>0.7072</td>\n",
       "      <td>0.5211</td>\n",
       "      <td>0.559495</td>\n",
       "      <td>4</td>\n",
       "    </tr>\n",
       "    <tr>\n",
       "      <th>22566</th>\n",
       "      <td>0.0004</td>\n",
       "      <td>22566</td>\n",
       "      <td>2.71</td>\n",
       "      <td>-0.21</td>\n",
       "      <td>0.1242</td>\n",
       "      <td>0.3288</td>\n",
       "      <td>0.3293</td>\n",
       "      <td>0.7072</td>\n",
       "      <td>0.5211</td>\n",
       "      <td>0.559495</td>\n",
       "      <td>4</td>\n",
       "    </tr>\n",
       "  </tbody>\n",
       "</table>\n",
       "</div>"
      ],
      "text/plain": [
       "           gs    idx    rd   nse  nse_weekly   pbias  pbias_weekly      pe  \\\n",
       "2950   0.0004   2950  2.70 -0.21      0.1242  0.3288        0.3293  0.7072   \n",
       "22566  0.0004  22566  2.71 -0.21      0.1242  0.3288        0.3293  0.7072   \n",
       "\n",
       "       pe_weekly  weekly_metric  sd  \n",
       "2950      0.5211       0.559495   4  \n",
       "22566     0.5211       0.559495   4  "
      ]
     },
     "execution_count": 7,
     "metadata": {},
     "output_type": "execute_result"
    }
   ],
   "source": [
    "cal.loc[cal.weekly_metric==cal.weekly_metric.max()]"
   ]
  },
  {
   "cell_type": "code",
   "execution_count": 7,
   "metadata": {
    "collapsed": true
   },
   "outputs": [],
   "source": [
    "def compute_metric_weekly(df):\n",
    "    pe = df.pe_weekly\n",
    "    nse = df.nse_weekly\n",
    "    \n",
    "    pe = 1.-(pe/100.)\n",
    "    \n",
    "    return np.nanmean([nse,pe])"
   ]
  },
  {
   "cell_type": "code",
   "execution_count": 8,
   "metadata": {
    "collapsed": true
   },
   "outputs": [],
   "source": [
    "cal['metric_weekly'] = cal.apply(compute_metric_weekly,axis=1)"
   ]
  },
  {
   "cell_type": "code",
   "execution_count": null,
   "metadata": {
    "collapsed": true
   },
   "outputs": [],
   "source": []
  },
  {
   "cell_type": "code",
   "execution_count": 10,
   "metadata": {
    "collapsed": false
   },
   "outputs": [],
   "source": [
    "cal.loc[cal.metric_weekly==cal.metric_weekly.max()]\n",
    "idx = cal.loc[cal.metric_weekly==cal.metric_weekly.max()].idx.as_matrix()[0]"
   ]
  },
  {
   "cell_type": "code",
   "execution_count": 13,
   "metadata": {
    "collapsed": true
   },
   "outputs": [],
   "source": [
    "#vcm = pd.read_pickle('./data/Vcm_cosmos_pillow_swe.pcl')*10.\n",
    "vcm = pd.read_pickle('./data/VCM.pcl')"
   ]
  },
  {
   "cell_type": "code",
   "execution_count": 14,
   "metadata": {
    "collapsed": false
   },
   "outputs": [
    {
     "data": {
      "text/html": [
       "<div>\n",
       "<table border=\"1\" class=\"dataframe\">\n",
       "  <thead>\n",
       "    <tr style=\"text-align: right;\">\n",
       "      <th></th>\n",
       "      <th>TA</th>\n",
       "      <th>TA_flag</th>\n",
       "      <th>FC</th>\n",
       "      <th>FC_flag</th>\n",
       "      <th>H</th>\n",
       "      <th>H_flag</th>\n",
       "      <th>LE</th>\n",
       "      <th>LE_flag</th>\n",
       "      <th>RH</th>\n",
       "      <th>RH_flag</th>\n",
       "      <th>VPD</th>\n",
       "      <th>VPD_flag</th>\n",
       "      <th>Rg</th>\n",
       "      <th>Rg_flag</th>\n",
       "      <th>RE</th>\n",
       "      <th>RE_flag</th>\n",
       "      <th>GPP</th>\n",
       "      <th>GPP_flag</th>\n",
       "      <th>ET</th>\n",
       "    </tr>\n",
       "  </thead>\n",
       "  <tbody>\n",
       "    <tr>\n",
       "      <th>2007-01-01</th>\n",
       "      <td>-3.199953</td>\n",
       "      <td>0.020833</td>\n",
       "      <td>-0.317428</td>\n",
       "      <td>0.333333</td>\n",
       "      <td>-9.554262</td>\n",
       "      <td>0.041667</td>\n",
       "      <td>31.864238</td>\n",
       "      <td>0.020833</td>\n",
       "      <td>49.885044</td>\n",
       "      <td>0.020833</td>\n",
       "      <td>0.244799</td>\n",
       "      <td>0.020833</td>\n",
       "      <td>121.539556</td>\n",
       "      <td>0.020833</td>\n",
       "      <td>0.210863</td>\n",
       "      <td>0.333333</td>\n",
       "      <td>0.519806</td>\n",
       "      <td>0.333333</td>\n",
       "      <td>1.097555</td>\n",
       "    </tr>\n",
       "    <tr>\n",
       "      <th>2007-01-02</th>\n",
       "      <td>-1.504252</td>\n",
       "      <td>0.000000</td>\n",
       "      <td>0.209414</td>\n",
       "      <td>0.395833</td>\n",
       "      <td>31.413623</td>\n",
       "      <td>0.208333</td>\n",
       "      <td>23.671887</td>\n",
       "      <td>0.000000</td>\n",
       "      <td>41.234000</td>\n",
       "      <td>0.000000</td>\n",
       "      <td>0.333693</td>\n",
       "      <td>0.000000</td>\n",
       "      <td>128.497563</td>\n",
       "      <td>0.000000</td>\n",
       "      <td>0.493970</td>\n",
       "      <td>0.395833</td>\n",
       "      <td>0.284555</td>\n",
       "      <td>0.395833</td>\n",
       "      <td>0.816678</td>\n",
       "    </tr>\n",
       "    <tr>\n",
       "      <th>2007-01-03</th>\n",
       "      <td>0.809819</td>\n",
       "      <td>0.000000</td>\n",
       "      <td>0.023366</td>\n",
       "      <td>0.000000</td>\n",
       "      <td>12.583299</td>\n",
       "      <td>0.000000</td>\n",
       "      <td>18.769545</td>\n",
       "      <td>0.000000</td>\n",
       "      <td>31.741896</td>\n",
       "      <td>0.000000</td>\n",
       "      <td>0.442400</td>\n",
       "      <td>0.000000</td>\n",
       "      <td>140.332999</td>\n",
       "      <td>0.000000</td>\n",
       "      <td>0.483780</td>\n",
       "      <td>0.000000</td>\n",
       "      <td>0.460414</td>\n",
       "      <td>0.000000</td>\n",
       "      <td>0.648964</td>\n",
       "    </tr>\n",
       "    <tr>\n",
       "      <th>2007-01-04</th>\n",
       "      <td>1.151124</td>\n",
       "      <td>0.000000</td>\n",
       "      <td>-0.028141</td>\n",
       "      <td>0.020833</td>\n",
       "      <td>19.440283</td>\n",
       "      <td>0.000000</td>\n",
       "      <td>11.567320</td>\n",
       "      <td>0.000000</td>\n",
       "      <td>41.413917</td>\n",
       "      <td>0.000000</td>\n",
       "      <td>0.395451</td>\n",
       "      <td>0.000000</td>\n",
       "      <td>143.255668</td>\n",
       "      <td>0.000000</td>\n",
       "      <td>0.471190</td>\n",
       "      <td>0.020833</td>\n",
       "      <td>0.499331</td>\n",
       "      <td>0.020833</td>\n",
       "      <td>0.400073</td>\n",
       "    </tr>\n",
       "    <tr>\n",
       "      <th>2007-01-05</th>\n",
       "      <td>-6.204571</td>\n",
       "      <td>0.000000</td>\n",
       "      <td>-0.278247</td>\n",
       "      <td>0.291667</td>\n",
       "      <td>6.318787</td>\n",
       "      <td>0.062500</td>\n",
       "      <td>13.259221</td>\n",
       "      <td>0.041667</td>\n",
       "      <td>80.561604</td>\n",
       "      <td>0.000000</td>\n",
       "      <td>0.082823</td>\n",
       "      <td>0.000000</td>\n",
       "      <td>43.632959</td>\n",
       "      <td>0.000000</td>\n",
       "      <td>0.209208</td>\n",
       "      <td>0.291667</td>\n",
       "      <td>0.487455</td>\n",
       "      <td>0.291667</td>\n",
       "      <td>0.455417</td>\n",
       "    </tr>\n",
       "  </tbody>\n",
       "</table>\n",
       "</div>"
      ],
      "text/plain": [
       "                  TA   TA_flag        FC   FC_flag          H    H_flag  \\\n",
       "2007-01-01 -3.199953  0.020833 -0.317428  0.333333  -9.554262  0.041667   \n",
       "2007-01-02 -1.504252  0.000000  0.209414  0.395833  31.413623  0.208333   \n",
       "2007-01-03  0.809819  0.000000  0.023366  0.000000  12.583299  0.000000   \n",
       "2007-01-04  1.151124  0.000000 -0.028141  0.020833  19.440283  0.000000   \n",
       "2007-01-05 -6.204571  0.000000 -0.278247  0.291667   6.318787  0.062500   \n",
       "\n",
       "                   LE   LE_flag         RH   RH_flag       VPD  VPD_flag  \\\n",
       "2007-01-01  31.864238  0.020833  49.885044  0.020833  0.244799  0.020833   \n",
       "2007-01-02  23.671887  0.000000  41.234000  0.000000  0.333693  0.000000   \n",
       "2007-01-03  18.769545  0.000000  31.741896  0.000000  0.442400  0.000000   \n",
       "2007-01-04  11.567320  0.000000  41.413917  0.000000  0.395451  0.000000   \n",
       "2007-01-05  13.259221  0.041667  80.561604  0.000000  0.082823  0.000000   \n",
       "\n",
       "                    Rg   Rg_flag        RE   RE_flag       GPP  GPP_flag  \\\n",
       "2007-01-01  121.539556  0.020833  0.210863  0.333333  0.519806  0.333333   \n",
       "2007-01-02  128.497563  0.000000  0.493970  0.395833  0.284555  0.395833   \n",
       "2007-01-03  140.332999  0.000000  0.483780  0.000000  0.460414  0.000000   \n",
       "2007-01-04  143.255668  0.000000  0.471190  0.020833  0.499331  0.020833   \n",
       "2007-01-05   43.632959  0.000000  0.209208  0.291667  0.487455  0.291667   \n",
       "\n",
       "                  ET  \n",
       "2007-01-01  1.097555  \n",
       "2007-01-02  0.816678  \n",
       "2007-01-03  0.648964  \n",
       "2007-01-04  0.400073  \n",
       "2007-01-05  0.455417  "
      ]
     },
     "execution_count": 14,
     "metadata": {},
     "output_type": "execute_result"
    }
   ],
   "source": [
    "vcm.head()"
   ]
  },
  {
   "cell_type": "code",
   "execution_count": 11,
   "metadata": {
    "collapsed": false
   },
   "outputs": [
    {
     "data": {
      "text/plain": [
       "gs                 0.000500\n",
       "gw1                0.318500\n",
       "gw2                0.795000\n",
       "idx              107.000000\n",
       "ksat             146.600000\n",
       "m                 17.268000\n",
       "rd                 3.210000\n",
       "nse                0.105700\n",
       "nse_weekly         0.353900\n",
       "pe                 0.738700\n",
       "pe_weekly          0.480600\n",
       "r2                -0.767400\n",
       "r2_weekly         -0.625200\n",
       "metric_weekly      0.674547\n",
       "Name: 107, dtype: float64"
      ]
     },
     "execution_count": 11,
     "metadata": {},
     "output_type": "execute_result"
    }
   ],
   "source": [
    "cal.iloc[idx]"
   ]
  },
  {
   "cell_type": "code",
   "execution_count": 8,
   "metadata": {
    "collapsed": false
   },
   "outputs": [],
   "source": [
    "idx = 22566"
   ]
  },
  {
   "cell_type": "code",
   "execution_count": 10,
   "metadata": {
    "collapsed": false
   },
   "outputs": [],
   "source": [
    "dat = rut.readRHESSysBasin('/RHESSys/jemez/out/et_cal17/et_cal17_%s_basin.daily'%idx)"
   ]
  },
  {
   "cell_type": "code",
   "execution_count": 11,
   "metadata": {
    "collapsed": false
   },
   "outputs": [
    {
     "ename": "NameError",
     "evalue": "name 'vcm' is not defined",
     "output_type": "error",
     "traceback": [
      "\u001b[0;31m---------------------------------------------------------------------------\u001b[0m",
      "\u001b[0;31mNameError\u001b[0m                                 Traceback (most recent call last)",
      "\u001b[0;32m<ipython-input-11-7ea6a9d08685>\u001b[0m in \u001b[0;36m<module>\u001b[0;34m()\u001b[0m\n\u001b[1;32m      1\u001b[0m \u001b[0mplt\u001b[0m\u001b[0;34m.\u001b[0m\u001b[0mfigure\u001b[0m\u001b[0;34m(\u001b[0m\u001b[0mfigsize\u001b[0m\u001b[0;34m=\u001b[0m\u001b[0;34m(\u001b[0m\u001b[0;36m15\u001b[0m\u001b[0;34m,\u001b[0m\u001b[0;36m5\u001b[0m\u001b[0;34m)\u001b[0m\u001b[0;34m)\u001b[0m\u001b[0;34m\u001b[0m\u001b[0m\n\u001b[1;32m      2\u001b[0m \u001b[0mplt\u001b[0m\u001b[0;34m.\u001b[0m\u001b[0mplot\u001b[0m\u001b[0;34m(\u001b[0m\u001b[0mdat\u001b[0m\u001b[0;34m.\u001b[0m\u001b[0mindex\u001b[0m\u001b[0;34m,\u001b[0m\u001b[0mdat\u001b[0m\u001b[0;34m.\u001b[0m\u001b[0msnowpack\u001b[0m\u001b[0;34m,\u001b[0m\u001b[0mlabel\u001b[0m\u001b[0;34m=\u001b[0m\u001b[0;34m'simulation'\u001b[0m\u001b[0;34m)\u001b[0m\u001b[0;34m\u001b[0m\u001b[0m\n\u001b[0;32m----> 3\u001b[0;31m \u001b[0mplt\u001b[0m\u001b[0;34m.\u001b[0m\u001b[0mplot\u001b[0m\u001b[0;34m(\u001b[0m\u001b[0mvcm\u001b[0m\u001b[0;34m.\u001b[0m\u001b[0mindex\u001b[0m\u001b[0;34m,\u001b[0m\u001b[0mvcm\u001b[0m\u001b[0;34m.\u001b[0m\u001b[0mswe\u001b[0m\u001b[0;34m,\u001b[0m\u001b[0;34m'-k'\u001b[0m\u001b[0;34m,\u001b[0m\u001b[0mlabel\u001b[0m\u001b[0;34m=\u001b[0m\u001b[0;34m'observation'\u001b[0m\u001b[0;34m)\u001b[0m\u001b[0;34m\u001b[0m\u001b[0m\n\u001b[0m\u001b[1;32m      4\u001b[0m \u001b[0mplt\u001b[0m\u001b[0;34m.\u001b[0m\u001b[0mxlim\u001b[0m\u001b[0;34m(\u001b[0m\u001b[0mdat\u001b[0m\u001b[0;34m.\u001b[0m\u001b[0mindex\u001b[0m\u001b[0;34m.\u001b[0m\u001b[0mmin\u001b[0m\u001b[0;34m(\u001b[0m\u001b[0;34m)\u001b[0m\u001b[0;34m,\u001b[0m\u001b[0mdat\u001b[0m\u001b[0;34m.\u001b[0m\u001b[0mindex\u001b[0m\u001b[0;34m.\u001b[0m\u001b[0mmax\u001b[0m\u001b[0;34m(\u001b[0m\u001b[0;34m)\u001b[0m\u001b[0;34m)\u001b[0m\u001b[0;34m\u001b[0m\u001b[0m\n\u001b[1;32m      5\u001b[0m \u001b[0mplt\u001b[0m\u001b[0;34m.\u001b[0m\u001b[0mtitle\u001b[0m\u001b[0;34m(\u001b[0m\u001b[0;34m'snowcal_04_1214 NSE:0.652, pmult:1.0'\u001b[0m\u001b[0;34m,\u001b[0m \u001b[0mfontsize\u001b[0m\u001b[0;34m=\u001b[0m\u001b[0;36m16\u001b[0m\u001b[0;34m)\u001b[0m\u001b[0;34m\u001b[0m\u001b[0m\n",
      "\u001b[0;31mNameError\u001b[0m: name 'vcm' is not defined"
     ]
    },
    {
     "data": {
      "image/png": "[encoded data removed]",
      "text/plain": [
       "<matplotlib.figure.Figure at 0x10c486250>"
      ]
     },
     "metadata": {},
     "output_type": "display_data"
    }
   ],
   "source": [
    "plt.figure(figsize=(15,5))\n",
    "plt.plot(dat.index,dat.snowpack,label='simulation')\n",
    "plt.plot(vcm.index,vcm.swe,'-k',label='observation')\n",
    "plt.xlim(dat.index.min(),dat.index.max())\n",
    "plt.title('snowcal_04_1214 NSE:0.652, pmult:1.0', fontsize=16)\n",
    "plt.ylabel('SWE [mm]', fontsize=16)\n",
    "plt.savefig('./figures/snowcal_04_1214.png')"
   ]
  },
  {
   "cell_type": "code",
   "execution_count": 12,
   "metadata": {
    "collapsed": false
   },
   "outputs": [
    {
     "data": {
      "text/plain": [
       "<matplotlib.axes._subplots.AxesSubplot at 0x10dec2e90>"
      ]
     },
     "execution_count": 12,
     "metadata": {},
     "output_type": "execute_result"
    },
    {
     "data": {
      "image/png": "[encoded data removed]",
      "text/plain": [
       "<matplotlib.figure.Figure at 0x10decaa50>"
      ]
     },
     "metadata": {},
     "output_type": "display_data"
    }
   ],
   "source": [
    "dat.lai.plot()"
   ]
  },
  {
   "cell_type": "code",
   "execution_count": 13,
   "metadata": {
    "collapsed": false
   },
   "outputs": [
    {
     "data": {
      "text/plain": [
       "2009-10-01    2.660257\n",
       "2009-10-02    2.660257\n",
       "2009-10-03    2.660257\n",
       "2009-10-04    2.660257\n",
       "2009-10-05    2.660257\n",
       "Name: lai, dtype: float64"
      ]
     },
     "execution_count": 13,
     "metadata": {},
     "output_type": "execute_result"
    }
   ],
   "source": [
    "dat.lai.head()"
   ]
  },
  {
   "cell_type": "code",
   "execution_count": null,
   "metadata": {
    "collapsed": true
   },
   "outputs": [],
   "source": []
  }
 ],
 "metadata": {
  "kernelspec": {
   "display_name": "Python 2",
   "language": "python",
   "name": "python2"
  },
  "language_info": {
   "codemirror_mode": {
    "name": "ipython",
    "version": 2
   },
   "file_extension": ".py",
   "mimetype": "text/x-python",
   "name": "python",
   "nbconvert_exporter": "python",
   "pygments_lexer": "ipython2",
   "version": "2.7.11"
  }
 },
 "nbformat": 4,
 "nbformat_minor": 0
}
