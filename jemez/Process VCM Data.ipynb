{
 "cells": [
  {
   "cell_type": "code",
   "execution_count": 1,
   "metadata": {
    "collapsed": true
   },
   "outputs": [],
   "source": [
    "header = ['DateTime','TA','TA_flag','FC','FC_flag','H','H_flag','LE','LE_flag','RH','RH_flag','VPD','VPD_flag','Rg',\n",
    "          'Rg_flag','RE','RE_flag','GPP','GPP_flag']"
   ]
  },
  {
   "cell_type": "code",
   "execution_count": 2,
   "metadata": {
    "collapsed": true
   },
   "outputs": [],
   "source": [
    "import glob"
   ]
  },
  {
   "cell_type": "code",
   "execution_count": 3,
   "metadata": {
    "collapsed": true
   },
   "outputs": [],
   "source": [
    "files = glob.glob('./data/vcm_flux/*.csv')"
   ]
  },
  {
   "cell_type": "code",
   "execution_count": 4,
   "metadata": {
    "collapsed": false
   },
   "outputs": [
    {
     "data": {
      "text/plain": [
       "['./data/vcm_flux/Tower_Vcm_2007_gapfilled.csv',\n",
       " './data/vcm_flux/Tower_Vcm_2008_gapfilled.csv',\n",
       " './data/vcm_flux/Tower_Vcm_2009_gapfilled.csv',\n",
       " './data/vcm_flux/Tower_Vcm_2010_gapfilled.csv',\n",
       " './data/vcm_flux/Tower_Vcm_2011_gapfilled.csv']"
      ]
     },
     "execution_count": 4,
     "metadata": {},
     "output_type": "execute_result"
    }
   ],
   "source": [
    "files"
   ]
  },
  {
   "cell_type": "code",
   "execution_count": 5,
   "metadata": {
    "collapsed": true
   },
   "outputs": [],
   "source": [
    "fl = files[0]\n",
    "data = pd.read_csv(fl,skiprows=2, names=header, na_values=-9999)\n",
    "data.index = pd.DatetimeIndex(data.DateTime)"
   ]
  },
  {
   "cell_type": "code",
   "execution_count": 6,
   "metadata": {
    "collapsed": false
   },
   "outputs": [
    {
     "data": {
      "text/html": [
       "<div>\n",
       "<table border=\"1\" class=\"dataframe\">\n",
       "  <thead>\n",
       "    <tr style=\"text-align: right;\">\n",
       "      <th></th>\n",
       "      <th>DateTime</th>\n",
       "      <th>TA</th>\n",
       "      <th>TA_flag</th>\n",
       "      <th>FC</th>\n",
       "      <th>FC_flag</th>\n",
       "      <th>H</th>\n",
       "      <th>H_flag</th>\n",
       "      <th>LE</th>\n",
       "      <th>LE_flag</th>\n",
       "      <th>RH</th>\n",
       "      <th>RH_flag</th>\n",
       "      <th>VPD</th>\n",
       "      <th>VPD_flag</th>\n",
       "      <th>Rg</th>\n",
       "      <th>Rg_flag</th>\n",
       "      <th>RE</th>\n",
       "      <th>RE_flag</th>\n",
       "      <th>GPP</th>\n",
       "      <th>GPP_flag</th>\n",
       "    </tr>\n",
       "  </thead>\n",
       "  <tbody>\n",
       "    <tr>\n",
       "      <th>2007-01-01 00:00:00</th>\n",
       "      <td>1/1/2007 0:00</td>\n",
       "      <td>NaN</td>\n",
       "      <td>1</td>\n",
       "      <td>NaN</td>\n",
       "      <td>1</td>\n",
       "      <td>NaN</td>\n",
       "      <td>1</td>\n",
       "      <td>NaN</td>\n",
       "      <td>1</td>\n",
       "      <td>NaN</td>\n",
       "      <td>1</td>\n",
       "      <td>NaN</td>\n",
       "      <td>1</td>\n",
       "      <td>NaN</td>\n",
       "      <td>1</td>\n",
       "      <td>NaN</td>\n",
       "      <td>1</td>\n",
       "      <td>NaN</td>\n",
       "      <td>1</td>\n",
       "    </tr>\n",
       "    <tr>\n",
       "      <th>2007-01-01 00:30:00</th>\n",
       "      <td>1/1/2007 0:30</td>\n",
       "      <td>NaN</td>\n",
       "      <td>0</td>\n",
       "      <td>-0.450148</td>\n",
       "      <td>0</td>\n",
       "      <td>-113.127395</td>\n",
       "      <td>0</td>\n",
       "      <td>51.829996</td>\n",
       "      <td>0</td>\n",
       "      <td>NaN</td>\n",
       "      <td>0</td>\n",
       "      <td>NaN</td>\n",
       "      <td>0</td>\n",
       "      <td>NaN</td>\n",
       "      <td>0</td>\n",
       "      <td>NaN</td>\n",
       "      <td>0</td>\n",
       "      <td>NaN</td>\n",
       "      <td>0</td>\n",
       "    </tr>\n",
       "    <tr>\n",
       "      <th>2007-01-01 01:00:00</th>\n",
       "      <td>1/1/2007 1:00</td>\n",
       "      <td>NaN</td>\n",
       "      <td>0</td>\n",
       "      <td>-0.566519</td>\n",
       "      <td>0</td>\n",
       "      <td>-95.376537</td>\n",
       "      <td>0</td>\n",
       "      <td>39.782510</td>\n",
       "      <td>0</td>\n",
       "      <td>NaN</td>\n",
       "      <td>0</td>\n",
       "      <td>NaN</td>\n",
       "      <td>0</td>\n",
       "      <td>NaN</td>\n",
       "      <td>0</td>\n",
       "      <td>NaN</td>\n",
       "      <td>0</td>\n",
       "      <td>NaN</td>\n",
       "      <td>0</td>\n",
       "    </tr>\n",
       "    <tr>\n",
       "      <th>2007-01-01 01:30:00</th>\n",
       "      <td>1/1/2007 1:30</td>\n",
       "      <td>-2.0462</td>\n",
       "      <td>0</td>\n",
       "      <td>-0.356787</td>\n",
       "      <td>0</td>\n",
       "      <td>-99.579611</td>\n",
       "      <td>0</td>\n",
       "      <td>47.567231</td>\n",
       "      <td>0</td>\n",
       "      <td>36.924</td>\n",
       "      <td>0</td>\n",
       "      <td>0.331644</td>\n",
       "      <td>0</td>\n",
       "      <td>-0.06</td>\n",
       "      <td>0</td>\n",
       "      <td>0.17028</td>\n",
       "      <td>0</td>\n",
       "      <td>0.527067</td>\n",
       "      <td>0</td>\n",
       "    </tr>\n",
       "    <tr>\n",
       "      <th>2007-01-01 02:00:00</th>\n",
       "      <td>1/1/2007 2:00</td>\n",
       "      <td>-1.7292</td>\n",
       "      <td>0</td>\n",
       "      <td>-0.267939</td>\n",
       "      <td>0</td>\n",
       "      <td>-87.790645</td>\n",
       "      <td>0</td>\n",
       "      <td>39.630945</td>\n",
       "      <td>0</td>\n",
       "      <td>31.868</td>\n",
       "      <td>0</td>\n",
       "      <td>0.366724</td>\n",
       "      <td>0</td>\n",
       "      <td>-0.06</td>\n",
       "      <td>0</td>\n",
       "      <td>0.17167</td>\n",
       "      <td>0</td>\n",
       "      <td>0.439609</td>\n",
       "      <td>0</td>\n",
       "    </tr>\n",
       "  </tbody>\n",
       "</table>\n",
       "</div>"
      ],
      "text/plain": [
       "                          DateTime      TA  TA_flag        FC  FC_flag  \\\n",
       "2007-01-01 00:00:00  1/1/2007 0:00     NaN        1       NaN        1   \n",
       "2007-01-01 00:30:00  1/1/2007 0:30     NaN        0 -0.450148        0   \n",
       "2007-01-01 01:00:00  1/1/2007 1:00     NaN        0 -0.566519        0   \n",
       "2007-01-01 01:30:00  1/1/2007 1:30 -2.0462        0 -0.356787        0   \n",
       "2007-01-01 02:00:00  1/1/2007 2:00 -1.7292        0 -0.267939        0   \n",
       "\n",
       "                              H  H_flag         LE  LE_flag      RH  RH_flag  \\\n",
       "2007-01-01 00:00:00         NaN       1        NaN        1     NaN        1   \n",
       "2007-01-01 00:30:00 -113.127395       0  51.829996        0     NaN        0   \n",
       "2007-01-01 01:00:00  -95.376537       0  39.782510        0     NaN        0   \n",
       "2007-01-01 01:30:00  -99.579611       0  47.567231        0  36.924        0   \n",
       "2007-01-01 02:00:00  -87.790645       0  39.630945        0  31.868        0   \n",
       "\n",
       "                          VPD  VPD_flag    Rg  Rg_flag       RE  RE_flag  \\\n",
       "2007-01-01 00:00:00       NaN         1   NaN        1      NaN        1   \n",
       "2007-01-01 00:30:00       NaN         0   NaN        0      NaN        0   \n",
       "2007-01-01 01:00:00       NaN         0   NaN        0      NaN        0   \n",
       "2007-01-01 01:30:00  0.331644         0 -0.06        0  0.17028        0   \n",
       "2007-01-01 02:00:00  0.366724         0 -0.06        0  0.17167        0   \n",
       "\n",
       "                          GPP  GPP_flag  \n",
       "2007-01-01 00:00:00       NaN         1  \n",
       "2007-01-01 00:30:00       NaN         0  \n",
       "2007-01-01 01:00:00       NaN         0  \n",
       "2007-01-01 01:30:00  0.527067         0  \n",
       "2007-01-01 02:00:00  0.439609         0  "
      ]
     },
     "execution_count": 6,
     "metadata": {},
     "output_type": "execute_result"
    }
   ],
   "source": [
    "data.head()"
   ]
  },
  {
   "cell_type": "code",
   "execution_count": 7,
   "metadata": {
    "collapsed": true
   },
   "outputs": [],
   "source": [
    "data = pd.DataFrame(columns=header)\n",
    "\n",
    "for fl in files:\n",
    "    tmp = pd.read_csv(fl,skiprows=2, names=header, na_values=-9999)\n",
    "    tmp.index = pd.DatetimeIndex(tmp.DateTime)\n",
    "    data = data.append(tmp)"
   ]
  },
  {
   "cell_type": "code",
   "execution_count": 8,
   "metadata": {
    "collapsed": false
   },
   "outputs": [],
   "source": [
    "def le2etEC(x):\n",
    "    #Apply on daily total LE [W/m2]\n",
    "    # from Ecological Climatology p.193\n",
    "    cond = 2500.8-(2.36*x.TA)+(0.0016*(x.TA**2))+(0.00006*(x.TA**3)) #J/g latent head as a fxn of temperature\n",
    "    cond *= 1000. # convert J/g -> J/kg\n",
    "    #hv = 2.454*(10**6) # latent heat of vaporization\n",
    "    ET = x.LE/cond # compute ET as kg/m2/s\n",
    "    ET *= 86400. # number of seconds in a day\n",
    "    \n",
    "    return ET  # mm/m2"
   ]
  },
  {
   "cell_type": "code",
   "execution_count": 9,
   "metadata": {
    "collapsed": false
   },
   "outputs": [
    {
     "name": "stderr",
     "output_type": "stream",
     "text": [
      "/Users/barnhatb/anaconda/lib/python2.7/site-packages/numpy/lib/nanfunctions.py:675: RuntimeWarning: Mean of empty slice\n",
      "  warnings.warn(\"Mean of empty slice\", RuntimeWarning)\n"
     ]
    }
   ],
   "source": [
    "data2 = data.resample('D', how=np.nanmean)"
   ]
  },
  {
   "cell_type": "code",
   "execution_count": 11,
   "metadata": {
    "collapsed": true
   },
   "outputs": [],
   "source": [
    "data['ET'] = data.apply(le2etEC,axis=1)"
   ]
  },
  {
   "cell_type": "code",
   "execution_count": 10,
   "metadata": {
    "collapsed": false
   },
   "outputs": [],
   "source": [
    "data2['ET'] = data2.apply(le2etEC,axis=1)"
   ]
  },
  {
   "cell_type": "code",
   "execution_count": 12,
   "metadata": {
    "collapsed": false
   },
   "outputs": [
    {
     "data": {
      "text/plain": [
       "[<matplotlib.lines.Line2D at 0x10c5b4890>]"
      ]
     },
     "execution_count": 12,
     "metadata": {},
     "output_type": "execute_result"
    },
    {
     "data": {
      "image/png": "[encoded data removed]",
      "text/plain": [
       "<matplotlib.figure.Figure at 0x10c567fd0>"
      ]
     },
     "metadata": {},
     "output_type": "display_data"
    }
   ],
   "source": [
    "plt.figure(figsize=(15,5))\n",
    "plt.plot(data2.index, data2.ET,lw=2,c='0.4')"
   ]
  },
  {
   "cell_type": "code",
   "execution_count": 13,
   "metadata": {
    "collapsed": true
   },
   "outputs": [],
   "source": [
    "data.to_pickle('./data/VCM_half_hour.pcl')\n",
    "data2.to_pickle('./data/VCM.pcl')"
   ]
  },
  {
   "cell_type": "code",
   "execution_count": null,
   "metadata": {
    "collapsed": true
   },
   "outputs": [],
   "source": []
  }
 ],
 "metadata": {
  "kernelspec": {
   "display_name": "Python 2",
   "language": "python",
   "name": "python2"
  },
  "language_info": {
   "codemirror_mode": {
    "name": "ipython",
    "version": 2
   },
   "file_extension": ".py",
   "mimetype": "text/x-python",
   "name": "python",
   "nbconvert_exporter": "python",
   "pygments_lexer": "ipython2",
   "version": "2.7.11"
  }
 },
 "nbformat": 4,
 "nbformat_minor": 0
}
